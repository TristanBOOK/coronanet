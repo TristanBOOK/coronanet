{
 "cells": [
  {
   "cell_type": "code",
   "execution_count": 1,
   "metadata": {
    "ExecuteTime": {
     "end_time": "2020-12-17T16:50:52.161284Z",
     "start_time": "2020-12-17T16:50:48.771974Z"
    }
   },
   "outputs": [],
   "source": [
    "import pandas as pd\n",
    "import pyreadr\n",
    "import numpy as np\n",
    "import matplotlib.pyplot as plt\n",
    "import datetime\n",
    "import seaborn as sns\n",
    "from sklearn import preprocessing\n",
    "from sklearn.preprocessing import StandardScaler\n",
    "from sklearn.preprocessing import RobustScaler\n",
    "from sklearn.model_selection import cross_val_score, cross_val_predict\n",
    "from sklearn import metrics\n",
    "from sklearn.linear_model import Lasso\n",
    "from sklearn.model_selection import GridSearchCV\n",
    "import xgboost as xg \n",
    "from xgboost import plot_importance\n",
    "from sklearn.model_selection import RandomizedSearchCV\n",
    "from sklearn.preprocessing import MinMaxScaler\n",
    "from sklearn.model_selection import train_test_split\n",
    "from xgboost import XGBRegressor\n",
    "import matplotlib.pyplot as plt"
   ]
  },
  {
   "cell_type": "code",
   "execution_count": 2,
   "metadata": {
    "ExecuteTime": {
     "end_time": "2020-12-17T16:50:52.425343Z",
     "start_time": "2020-12-17T16:50:52.164940Z"
    }
   },
   "outputs": [],
   "source": [
    "df = pd.read_csv('../data/csv/DataFrame_pour_modeles_Lou.csv')"
   ]
  },
  {
   "cell_type": "code",
   "execution_count": 11,
   "metadata": {
    "ExecuteTime": {
     "end_time": "2020-12-17T16:52:02.558515Z",
     "start_time": "2020-12-17T16:52:02.521507Z"
    }
   },
   "outputs": [
    {
     "data": {
      "text/html": [
       "<div>\n",
       "<style scoped>\n",
       "    .dataframe tbody tr th:only-of-type {\n",
       "        vertical-align: middle;\n",
       "    }\n",
       "\n",
       "    .dataframe tbody tr th {\n",
       "        vertical-align: top;\n",
       "    }\n",
       "\n",
       "    .dataframe thead th {\n",
       "        text-align: right;\n",
       "    }\n",
       "</style>\n",
       "<table border=\"1\" class=\"dataframe\">\n",
       "  <thead>\n",
       "    <tr style=\"text-align: right;\">\n",
       "      <th></th>\n",
       "      <th>ID</th>\n",
       "      <th>Date</th>\n",
       "      <th>PolicyFamily</th>\n",
       "      <th>PolicyType</th>\n",
       "      <th>value</th>\n",
       "      <th>Cases</th>\n",
       "      <th>Cases_New</th>\n",
       "      <th>Type</th>\n",
       "      <th>Source</th>\n",
       "      <th>J-56</th>\n",
       "      <th>...</th>\n",
       "      <th>C5_diff</th>\n",
       "      <th>H1_diff</th>\n",
       "      <th>H3_diff</th>\n",
       "      <th>H4_diff</th>\n",
       "      <th>C8_diff</th>\n",
       "      <th>E2_diff</th>\n",
       "      <th>C4_diff</th>\n",
       "      <th>E4_diff</th>\n",
       "      <th>C7_diff</th>\n",
       "      <th>H5_diff</th>\n",
       "    </tr>\n",
       "  </thead>\n",
       "  <tbody>\n",
       "    <tr>\n",
       "      <th>0</th>\n",
       "      <td>AD</td>\n",
       "      <td>2020-02-27</td>\n",
       "      <td>E</td>\n",
       "      <td>E3_diff</td>\n",
       "      <td>141399008</td>\n",
       "      <td>0.0</td>\n",
       "      <td>0.0</td>\n",
       "      <td>Deaths</td>\n",
       "      <td>JHU</td>\n",
       "      <td>NaN</td>\n",
       "      <td>...</td>\n",
       "      <td>0.5</td>\n",
       "      <td>0.5</td>\n",
       "      <td>0.5</td>\n",
       "      <td>0.529656</td>\n",
       "      <td>0.5</td>\n",
       "      <td>0.5</td>\n",
       "      <td>0.5</td>\n",
       "      <td>0.514924</td>\n",
       "      <td>0.5</td>\n",
       "      <td>0.524098</td>\n",
       "    </tr>\n",
       "    <tr>\n",
       "      <th>1</th>\n",
       "      <td>AD</td>\n",
       "      <td>2020-02-28</td>\n",
       "      <td>E</td>\n",
       "      <td>E3_diff</td>\n",
       "      <td>-141399008</td>\n",
       "      <td>0.0</td>\n",
       "      <td>0.0</td>\n",
       "      <td>Deaths</td>\n",
       "      <td>JHU</td>\n",
       "      <td>NaN</td>\n",
       "      <td>...</td>\n",
       "      <td>0.5</td>\n",
       "      <td>0.5</td>\n",
       "      <td>0.5</td>\n",
       "      <td>0.529656</td>\n",
       "      <td>0.5</td>\n",
       "      <td>0.5</td>\n",
       "      <td>0.5</td>\n",
       "      <td>0.514924</td>\n",
       "      <td>0.5</td>\n",
       "      <td>0.524098</td>\n",
       "    </tr>\n",
       "    <tr>\n",
       "      <th>2</th>\n",
       "      <td>AD</td>\n",
       "      <td>2020-03-02</td>\n",
       "      <td>H</td>\n",
       "      <td>H2_diff</td>\n",
       "      <td>1</td>\n",
       "      <td>0.0</td>\n",
       "      <td>0.0</td>\n",
       "      <td>Deaths</td>\n",
       "      <td>JHU</td>\n",
       "      <td>NaN</td>\n",
       "      <td>...</td>\n",
       "      <td>0.5</td>\n",
       "      <td>0.5</td>\n",
       "      <td>0.5</td>\n",
       "      <td>0.529656</td>\n",
       "      <td>0.5</td>\n",
       "      <td>0.5</td>\n",
       "      <td>0.5</td>\n",
       "      <td>0.514924</td>\n",
       "      <td>0.5</td>\n",
       "      <td>0.524098</td>\n",
       "    </tr>\n",
       "    <tr>\n",
       "      <th>3</th>\n",
       "      <td>AD</td>\n",
       "      <td>2020-03-11</td>\n",
       "      <td>H</td>\n",
       "      <td>H6_diff</td>\n",
       "      <td>2</td>\n",
       "      <td>0.0</td>\n",
       "      <td>0.0</td>\n",
       "      <td>Deaths</td>\n",
       "      <td>JHU</td>\n",
       "      <td>NaN</td>\n",
       "      <td>...</td>\n",
       "      <td>0.5</td>\n",
       "      <td>0.5</td>\n",
       "      <td>0.5</td>\n",
       "      <td>0.529656</td>\n",
       "      <td>0.5</td>\n",
       "      <td>0.5</td>\n",
       "      <td>0.5</td>\n",
       "      <td>0.514924</td>\n",
       "      <td>0.5</td>\n",
       "      <td>0.524098</td>\n",
       "    </tr>\n",
       "    <tr>\n",
       "      <th>4</th>\n",
       "      <td>AD</td>\n",
       "      <td>2020-03-13</td>\n",
       "      <td>C</td>\n",
       "      <td>C3_diff</td>\n",
       "      <td>1</td>\n",
       "      <td>0.0</td>\n",
       "      <td>0.0</td>\n",
       "      <td>Deaths</td>\n",
       "      <td>JHU</td>\n",
       "      <td>NaN</td>\n",
       "      <td>...</td>\n",
       "      <td>0.5</td>\n",
       "      <td>0.5</td>\n",
       "      <td>0.5</td>\n",
       "      <td>0.529656</td>\n",
       "      <td>0.5</td>\n",
       "      <td>0.5</td>\n",
       "      <td>0.5</td>\n",
       "      <td>0.514924</td>\n",
       "      <td>0.5</td>\n",
       "      <td>0.524098</td>\n",
       "    </tr>\n",
       "  </tbody>\n",
       "</table>\n",
       "<p>5 rows × 59 columns</p>\n",
       "</div>"
      ],
      "text/plain": [
       "   ID        Date PolicyFamily PolicyType      value  Cases  Cases_New  \\\n",
       "0  AD  2020-02-27            E    E3_diff  141399008    0.0        0.0   \n",
       "1  AD  2020-02-28            E    E3_diff -141399008    0.0        0.0   \n",
       "2  AD  2020-03-02            H    H2_diff          1    0.0        0.0   \n",
       "3  AD  2020-03-11            H    H6_diff          2    0.0        0.0   \n",
       "4  AD  2020-03-13            C    C3_diff          1    0.0        0.0   \n",
       "\n",
       "     Type Source  J-56  ...  C5_diff  H1_diff  H3_diff   H4_diff  C8_diff  \\\n",
       "0  Deaths    JHU   NaN  ...      0.5      0.5      0.5  0.529656      0.5   \n",
       "1  Deaths    JHU   NaN  ...      0.5      0.5      0.5  0.529656      0.5   \n",
       "2  Deaths    JHU   NaN  ...      0.5      0.5      0.5  0.529656      0.5   \n",
       "3  Deaths    JHU   NaN  ...      0.5      0.5      0.5  0.529656      0.5   \n",
       "4  Deaths    JHU   NaN  ...      0.5      0.5      0.5  0.529656      0.5   \n",
       "\n",
       "   E2_diff  C4_diff   E4_diff  C7_diff   H5_diff  \n",
       "0      0.5      0.5  0.514924      0.5  0.524098  \n",
       "1      0.5      0.5  0.514924      0.5  0.524098  \n",
       "2      0.5      0.5  0.514924      0.5  0.524098  \n",
       "3      0.5      0.5  0.514924      0.5  0.524098  \n",
       "4      0.5      0.5  0.514924      0.5  0.524098  \n",
       "\n",
       "[5 rows x 59 columns]"
      ]
     },
     "execution_count": 11,
     "metadata": {},
     "output_type": "execute_result"
    }
   ],
   "source": [
    "df.head()"
   ]
  },
  {
   "cell_type": "code",
   "execution_count": 12,
   "metadata": {
    "ExecuteTime": {
     "end_time": "2020-12-17T16:52:03.243351Z",
     "start_time": "2020-12-17T16:52:03.225649Z"
    }
   },
   "outputs": [],
   "source": [
    "df['D28'] = df['J28'] -  df['J0']\n",
    "df['D21'] = df['J21'] -  df['J0']\n",
    "df['D14'] =  df['J14'] -  df['J0']\n",
    "df['D-14'] = df['J0'] -  df['J-14']\n",
    "df['D-21'] = df['J0'] -  df['J-21']\n",
    "df['D-28'] = df['J0'] -  df['J-28']"
   ]
  },
  {
   "cell_type": "code",
   "execution_count": 13,
   "metadata": {
    "ExecuteTime": {
     "end_time": "2020-12-17T16:52:11.285016Z",
     "start_time": "2020-12-17T16:52:11.276470Z"
    }
   },
   "outputs": [
    {
     "data": {
      "text/plain": [
       "Index(['ID', 'Date', 'PolicyFamily', 'PolicyType', 'value', 'Cases',\n",
       "       'Cases_New', 'Type', 'Source', 'J-56', 'J-42', 'J-35', 'J-28', 'J-21',\n",
       "       'J-14', 'J-7', 'J0', 'J7', 'J14', 'J21', 'J28', 'J35', 'J42', 'J49',\n",
       "       'J56', 'd_j-7', 'i_J-7', 'i_J-14', 'i_J-21', 'i_J-28', 'i_J-35',\n",
       "       'i_J-42', 'i_J-56', 'i_J7', 'i_J14', 'i_J21', 'i_J28', 'i_J35', 'i_J42',\n",
       "       'i_J49', 'i_J56', 'E3_diff', 'H2_diff', 'H6_diff', 'C3_diff', 'C6_diff',\n",
       "       'E1_diff', 'C2_diff', 'C1_diff', 'C5_diff', 'H1_diff', 'H3_diff',\n",
       "       'H4_diff', 'C8_diff', 'E2_diff', 'C4_diff', 'E4_diff', 'C7_diff',\n",
       "       'H5_diff', 'D28', 'D21', 'D14', 'D-14', 'D-21', 'D-28'],\n",
       "      dtype='object')"
      ]
     },
     "execution_count": 13,
     "metadata": {},
     "output_type": "execute_result"
    }
   ],
   "source": [
    "df.columns"
   ]
  },
  {
   "cell_type": "markdown",
   "metadata": {},
   "source": [
    "# Let's start with dataviz"
   ]
  },
  {
   "cell_type": "code",
   "execution_count": 8,
   "metadata": {
    "ExecuteTime": {
     "end_time": "2020-12-17T16:51:32.129413Z",
     "start_time": "2020-12-17T16:51:32.120330Z"
    }
   },
   "outputs": [],
   "source": [
    "df1 = df.copy()"
   ]
  },
  {
   "cell_type": "code",
   "execution_count": 10,
   "metadata": {
    "ExecuteTime": {
     "end_time": "2020-12-17T16:51:49.696281Z",
     "start_time": "2020-12-17T16:51:49.687315Z"
    }
   },
   "outputs": [
    {
     "data": {
      "text/plain": [
       "Index(['ID', 'Date', 'PolicyFamily', 'PolicyType', 'value', 'Cases',\n",
       "       'Cases_New', 'Type', 'Source', 'J-56', 'J-42', 'J-35', 'J-28', 'J-21',\n",
       "       'J-14', 'J-7', 'J0', 'J7', 'J14', 'J21', 'J28', 'J35', 'J42', 'J49',\n",
       "       'J56', 'd_j-7', 'i_J-7', 'i_J-14', 'i_J-21', 'i_J-28', 'i_J-35',\n",
       "       'i_J-42', 'i_J-56', 'i_J7', 'i_J14', 'i_J21', 'i_J28', 'i_J35', 'i_J42',\n",
       "       'i_J49', 'i_J56', 'E3_diff', 'H2_diff', 'H6_diff', 'C3_diff', 'C6_diff',\n",
       "       'E1_diff', 'C2_diff', 'C1_diff', 'C5_diff', 'H1_diff', 'H3_diff',\n",
       "       'H4_diff', 'C8_diff', 'E2_diff', 'C4_diff', 'E4_diff', 'C7_diff',\n",
       "       'H5_diff'],\n",
       "      dtype='object')"
      ]
     },
     "execution_count": 10,
     "metadata": {},
     "output_type": "execute_result"
    }
   ],
   "source": [
    "df1.columns\n"
   ]
  },
  {
   "cell_type": "code",
   "execution_count": 5,
   "metadata": {
    "ExecuteTime": {
     "end_time": "2020-12-17T16:50:56.715314Z",
     "start_time": "2020-12-17T16:50:56.706352Z"
    }
   },
   "outputs": [
    {
     "data": {
      "text/plain": [
       "Index(['ID', 'Date', 'PolicyFamily', 'PolicyType', 'value', 'Cases',\n",
       "       'Cases_New', 'Type', 'Source', 'J-56', 'J-42', 'J-35', 'J-28', 'J-21',\n",
       "       'J-14', 'J-7', 'J0', 'J7', 'J14', 'J21', 'J28', 'J35', 'J42', 'J49',\n",
       "       'J56', 'd_j-7', 'i_J-7', 'i_J-14', 'i_J-21', 'i_J-28', 'i_J-35',\n",
       "       'i_J-42', 'i_J-56', 'i_J7', 'i_J14', 'i_J21', 'i_J28', 'i_J35', 'i_J42',\n",
       "       'i_J49', 'i_J56', 'E3_diff', 'H2_diff', 'H6_diff', 'C3_diff', 'C6_diff',\n",
       "       'E1_diff', 'C2_diff', 'C1_diff', 'C5_diff', 'H1_diff', 'H3_diff',\n",
       "       'H4_diff', 'C8_diff', 'E2_diff', 'C4_diff', 'E4_diff', 'C7_diff',\n",
       "       'H5_diff'],\n",
       "      dtype='object')"
      ]
     },
     "execution_count": 5,
     "metadata": {},
     "output_type": "execute_result"
    }
   ],
   "source": [
    "df1.columns"
   ]
  },
  {
   "cell_type": "code",
   "execution_count": 44,
   "metadata": {
    "ExecuteTime": {
     "end_time": "2020-12-17T14:01:30.514196Z",
     "start_time": "2020-12-17T14:01:30.505165Z"
    }
   },
   "outputs": [],
   "source": [
    "def handle_policy(x):\n",
    "    if x == 'E3_diff':\n",
    "        return 'Fiscal measures'\n",
    "    if x == 'H2_diff':\n",
    "        return 'Testing policy'\n",
    "    if x == 'C3_diff':\n",
    "        return 'Cancel public events'\n",
    "    if x == 'H6_diff':\n",
    "        return 'Facial Coverings'\n",
    "    if x == 'C6_diff':\n",
    "        return 'Stay at home'\n",
    "    if x == 'E1_diff':\n",
    "        return 'Income support'\n",
    "    if x == 'C2_diff':\n",
    "        return 'Workplace closing'\n",
    "    if x == 'C1_diff':\n",
    "        return 'School closing'\n",
    "    if x == 'C5_diff':\n",
    "        return 'Close public transport'\n",
    "    if x == 'H1_diff':\n",
    "        return 'Public information campaigns'\n",
    "    if x == 'H3_diff':\n",
    "        return 'Contact tracing'\n",
    "    if x ==  'H4_diff':\n",
    "        return 'Emergency investment in healthcare'\n",
    "    if x == 'C8_diff':\n",
    "        return 'International travel controls'\n",
    "    if x == 'E2_diff':\n",
    "        return 'Debt/contract relief'\n",
    "    if x == 'C4_diff':\n",
    "        return 'Restrictions on gatherings'\n",
    "    if x == 'E4_diff':\n",
    "        return 'International support'\n",
    "    if x == 'C7_diff':\n",
    "        return 'Restrictions on internal movement'\n",
    "    if x == 'H5_diff':\n",
    "        return 'Investment in vaccines'"
   ]
  },
  {
   "cell_type": "code",
   "execution_count": 45,
   "metadata": {
    "ExecuteTime": {
     "end_time": "2020-12-17T14:02:02.287618Z",
     "start_time": "2020-12-17T14:02:02.272636Z"
    }
   },
   "outputs": [],
   "source": [
    "\n",
    "df1['Policy'] = df1['PolicyType'].apply(handle_policy)"
   ]
  },
  {
   "cell_type": "code",
   "execution_count": 47,
   "metadata": {
    "ExecuteTime": {
     "end_time": "2020-12-17T14:02:20.536406Z",
     "start_time": "2020-12-17T14:02:20.498863Z"
    }
   },
   "outputs": [
    {
     "data": {
      "text/html": [
       "<div>\n",
       "<style scoped>\n",
       "    .dataframe tbody tr th:only-of-type {\n",
       "        vertical-align: middle;\n",
       "    }\n",
       "\n",
       "    .dataframe tbody tr th {\n",
       "        vertical-align: top;\n",
       "    }\n",
       "\n",
       "    .dataframe thead th {\n",
       "        text-align: right;\n",
       "    }\n",
       "</style>\n",
       "<table border=\"1\" class=\"dataframe\">\n",
       "  <thead>\n",
       "    <tr style=\"text-align: right;\">\n",
       "      <th></th>\n",
       "      <th>ID</th>\n",
       "      <th>Date</th>\n",
       "      <th>PolicyFamily</th>\n",
       "      <th>PolicyType</th>\n",
       "      <th>value</th>\n",
       "      <th>Cases</th>\n",
       "      <th>Cases_New</th>\n",
       "      <th>Type</th>\n",
       "      <th>Source</th>\n",
       "      <th>J-56</th>\n",
       "      <th>...</th>\n",
       "      <th>International support</th>\n",
       "      <th>Restrictions on internal movement</th>\n",
       "      <th>Investment in vaccines</th>\n",
       "      <th>D28</th>\n",
       "      <th>D21</th>\n",
       "      <th>D14</th>\n",
       "      <th>D-14</th>\n",
       "      <th>D-21</th>\n",
       "      <th>D-28</th>\n",
       "      <th>Policy</th>\n",
       "    </tr>\n",
       "  </thead>\n",
       "  <tbody>\n",
       "    <tr>\n",
       "      <th>0</th>\n",
       "      <td>AD</td>\n",
       "      <td>2020-02-27</td>\n",
       "      <td>E</td>\n",
       "      <td>E3_diff</td>\n",
       "      <td>141399008</td>\n",
       "      <td>0.0</td>\n",
       "      <td>0.0</td>\n",
       "      <td>Deaths</td>\n",
       "      <td>JHU</td>\n",
       "      <td>NaN</td>\n",
       "      <td>...</td>\n",
       "      <td>0.514924</td>\n",
       "      <td>0.5</td>\n",
       "      <td>0.524098</td>\n",
       "      <td>3.0</td>\n",
       "      <td>0.0</td>\n",
       "      <td>0.0</td>\n",
       "      <td>0.0</td>\n",
       "      <td>0.0</td>\n",
       "      <td>0.0</td>\n",
       "      <td>Fiscal measures</td>\n",
       "    </tr>\n",
       "    <tr>\n",
       "      <th>1</th>\n",
       "      <td>AD</td>\n",
       "      <td>2020-02-28</td>\n",
       "      <td>E</td>\n",
       "      <td>E3_diff</td>\n",
       "      <td>-141399008</td>\n",
       "      <td>0.0</td>\n",
       "      <td>0.0</td>\n",
       "      <td>Deaths</td>\n",
       "      <td>JHU</td>\n",
       "      <td>NaN</td>\n",
       "      <td>...</td>\n",
       "      <td>0.514924</td>\n",
       "      <td>0.5</td>\n",
       "      <td>0.524098</td>\n",
       "      <td>3.0</td>\n",
       "      <td>0.0</td>\n",
       "      <td>0.0</td>\n",
       "      <td>0.0</td>\n",
       "      <td>0.0</td>\n",
       "      <td>0.0</td>\n",
       "      <td>Fiscal measures</td>\n",
       "    </tr>\n",
       "    <tr>\n",
       "      <th>2</th>\n",
       "      <td>AD</td>\n",
       "      <td>2020-03-02</td>\n",
       "      <td>H</td>\n",
       "      <td>H2_diff</td>\n",
       "      <td>1</td>\n",
       "      <td>0.0</td>\n",
       "      <td>0.0</td>\n",
       "      <td>Deaths</td>\n",
       "      <td>JHU</td>\n",
       "      <td>NaN</td>\n",
       "      <td>...</td>\n",
       "      <td>0.514924</td>\n",
       "      <td>0.5</td>\n",
       "      <td>0.524098</td>\n",
       "      <td>8.0</td>\n",
       "      <td>1.0</td>\n",
       "      <td>0.0</td>\n",
       "      <td>0.0</td>\n",
       "      <td>0.0</td>\n",
       "      <td>0.0</td>\n",
       "      <td>Testing policy</td>\n",
       "    </tr>\n",
       "    <tr>\n",
       "      <th>3</th>\n",
       "      <td>AD</td>\n",
       "      <td>2020-03-11</td>\n",
       "      <td>H</td>\n",
       "      <td>H6_diff</td>\n",
       "      <td>2</td>\n",
       "      <td>0.0</td>\n",
       "      <td>0.0</td>\n",
       "      <td>Deaths</td>\n",
       "      <td>JHU</td>\n",
       "      <td>NaN</td>\n",
       "      <td>...</td>\n",
       "      <td>0.514924</td>\n",
       "      <td>0.5</td>\n",
       "      <td>0.524098</td>\n",
       "      <td>23.0</td>\n",
       "      <td>14.0</td>\n",
       "      <td>1.0</td>\n",
       "      <td>0.0</td>\n",
       "      <td>0.0</td>\n",
       "      <td>0.0</td>\n",
       "      <td>Facial Coverings</td>\n",
       "    </tr>\n",
       "    <tr>\n",
       "      <th>4</th>\n",
       "      <td>AD</td>\n",
       "      <td>2020-03-13</td>\n",
       "      <td>C</td>\n",
       "      <td>C3_diff</td>\n",
       "      <td>1</td>\n",
       "      <td>0.0</td>\n",
       "      <td>0.0</td>\n",
       "      <td>Deaths</td>\n",
       "      <td>JHU</td>\n",
       "      <td>NaN</td>\n",
       "      <td>...</td>\n",
       "      <td>0.514924</td>\n",
       "      <td>0.5</td>\n",
       "      <td>0.524098</td>\n",
       "      <td>26.0</td>\n",
       "      <td>16.0</td>\n",
       "      <td>3.0</td>\n",
       "      <td>0.0</td>\n",
       "      <td>0.0</td>\n",
       "      <td>0.0</td>\n",
       "      <td>Cancel public events</td>\n",
       "    </tr>\n",
       "  </tbody>\n",
       "</table>\n",
       "<p>5 rows × 66 columns</p>\n",
       "</div>"
      ],
      "text/plain": [
       "   ID        Date PolicyFamily PolicyType      value  Cases  Cases_New  \\\n",
       "0  AD  2020-02-27            E    E3_diff  141399008    0.0        0.0   \n",
       "1  AD  2020-02-28            E    E3_diff -141399008    0.0        0.0   \n",
       "2  AD  2020-03-02            H    H2_diff          1    0.0        0.0   \n",
       "3  AD  2020-03-11            H    H6_diff          2    0.0        0.0   \n",
       "4  AD  2020-03-13            C    C3_diff          1    0.0        0.0   \n",
       "\n",
       "     Type Source  J-56  ...  International support  \\\n",
       "0  Deaths    JHU   NaN  ...               0.514924   \n",
       "1  Deaths    JHU   NaN  ...               0.514924   \n",
       "2  Deaths    JHU   NaN  ...               0.514924   \n",
       "3  Deaths    JHU   NaN  ...               0.514924   \n",
       "4  Deaths    JHU   NaN  ...               0.514924   \n",
       "\n",
       "   Restrictions on internal movement  Investment in vaccines   D28   D21  D14  \\\n",
       "0                                0.5                0.524098   3.0   0.0  0.0   \n",
       "1                                0.5                0.524098   3.0   0.0  0.0   \n",
       "2                                0.5                0.524098   8.0   1.0  0.0   \n",
       "3                                0.5                0.524098  23.0  14.0  1.0   \n",
       "4                                0.5                0.524098  26.0  16.0  3.0   \n",
       "\n",
       "   D-14  D-21  D-28                Policy  \n",
       "0   0.0   0.0   0.0       Fiscal measures  \n",
       "1   0.0   0.0   0.0       Fiscal measures  \n",
       "2   0.0   0.0   0.0        Testing policy  \n",
       "3   0.0   0.0   0.0      Facial Coverings  \n",
       "4   0.0   0.0   0.0  Cancel public events  \n",
       "\n",
       "[5 rows x 66 columns]"
      ]
     },
     "execution_count": 47,
     "metadata": {},
     "output_type": "execute_result"
    }
   ],
   "source": [
    "df1.head()"
   ]
  },
  {
   "cell_type": "code",
   "execution_count": 62,
   "metadata": {
    "ExecuteTime": {
     "end_time": "2020-12-17T14:31:58.216515Z",
     "start_time": "2020-12-17T14:31:55.575216Z"
    }
   },
   "outputs": [
    {
     "data": {
      "image/png": "[encoded data removed]",
      "text/plain": [
       "<Figure size 720x432 with 1 Axes>"
      ]
     },
     "metadata": {
      "needs_background": "light"
     },
     "output_type": "display_data"
    }
   ],
   "source": [
    "plt.figure(figsize=(10,6))\n",
    "sns_plot = sns.scatterplot(x=df1['D-14'],y=df1['D14'],hue=df1['Policy'])\n",
    "plt.title(\"Evolution in the number of deaths according to the policy type\")\n",
    "plt.legend(bbox_to_anchor=(1.05, 1), loc=2, borderaxespad=0.)\n",
    "#plt.savefig('Evolution in the number of deaths according to the policy type', dpi=300)\n",
    "plt.xlabel(\"- 14 days\")\n",
    "plt.ylabel(\"+ 14 days\")\n",
    "fig = sns_plot.get_figure()\n",
    "fig.savefig(\"Evolution in the number of deaths according to the policy type2.png\", dpi=300)"
   ]
  },
  {
   "cell_type": "markdown",
   "metadata": {},
   "source": [
    "# XGboost"
   ]
  },
  {
   "cell_type": "code",
   "execution_count": 14,
   "metadata": {
    "ExecuteTime": {
     "end_time": "2020-12-17T16:52:29.078848Z",
     "start_time": "2020-12-17T16:52:29.060498Z"
    }
   },
   "outputs": [],
   "source": [
    "df1 = df.copy() "
   ]
  },
  {
   "cell_type": "code",
   "execution_count": 15,
   "metadata": {
    "ExecuteTime": {
     "end_time": "2020-12-17T16:52:29.605595Z",
     "start_time": "2020-12-17T16:52:29.597003Z"
    }
   },
   "outputs": [],
   "source": [
    "df_xgb = df1[['D-14', 'D14', 'E3_diff', 'H2_diff', 'H6_diff', 'C3_diff', 'C6_diff',\n",
    "       'E1_diff', 'C2_diff', 'C1_diff', 'C5_diff', 'H1_diff', 'H3_diff',\n",
    "       'H4_diff', 'C8_diff', 'E2_diff', 'C4_diff', 'E4_diff', 'C7_diff',\n",
    "       'H5_diff']]"
   ]
  },
  {
   "cell_type": "code",
   "execution_count": 16,
   "metadata": {
    "ExecuteTime": {
     "end_time": "2020-12-17T16:52:40.036614Z",
     "start_time": "2020-12-17T16:52:39.782257Z"
    }
   },
   "outputs": [
    {
     "name": "stderr",
     "output_type": "stream",
     "text": [
      "/Users/lourizzolo/.pyenv/versions/3.7.7/envs/lewagon/lib/python3.7/site-packages/pandas/core/frame.py:4042: SettingWithCopyWarning: \n",
      "A value is trying to be set on a copy of a slice from a DataFrame\n",
      "\n",
      "See the caveats in the documentation: http://pandas.pydata.org/pandas-docs/stable/indexing.html#indexing-view-versus-copy\n",
      "  method=method)\n",
      "/Users/lourizzolo/.pyenv/versions/3.7.7/envs/lewagon/lib/python3.7/site-packages/ipykernel_launcher.py:2: SettingWithCopyWarning: \n",
      "A value is trying to be set on a copy of a slice from a DataFrame\n",
      "\n",
      "See the caveats in the documentation: http://pandas.pydata.org/pandas-docs/stable/indexing.html#indexing-view-versus-copy\n",
      "  \n"
     ]
    }
   ],
   "source": [
    "df_xgb.replace([np.inf, -np.inf], np.nan, inplace=True)\n",
    "df_xgb.dropna(inplace = True)"
   ]
  },
  {
   "cell_type": "code",
   "execution_count": 17,
   "metadata": {
    "ExecuteTime": {
     "end_time": "2020-12-17T16:52:43.392576Z",
     "start_time": "2020-12-17T16:52:43.245649Z"
    }
   },
   "outputs": [
    {
     "name": "stderr",
     "output_type": "stream",
     "text": [
      "/Users/lourizzolo/.pyenv/versions/3.7.7/envs/lewagon/lib/python3.7/site-packages/ipykernel_launcher.py:2: SettingWithCopyWarning: \n",
      "A value is trying to be set on a copy of a slice from a DataFrame.\n",
      "Try using .loc[row_indexer,col_indexer] = value instead\n",
      "\n",
      "See the caveats in the documentation: http://pandas.pydata.org/pandas-docs/stable/indexing.html#indexing-view-versus-copy\n",
      "  \n"
     ]
    }
   ],
   "source": [
    "scaler = MinMaxScaler()\n",
    "df_xgb['D-14'] = scaler.fit_transform(df_xgb[['D-14']])"
   ]
  },
  {
   "cell_type": "code",
   "execution_count": 18,
   "metadata": {
    "ExecuteTime": {
     "end_time": "2020-12-17T16:52:46.194109Z",
     "start_time": "2020-12-17T16:52:46.186021Z"
    }
   },
   "outputs": [],
   "source": [
    "X = df_xgb.drop(columns='D14')\n",
    "y = df_xgb['D14']"
   ]
  },
  {
   "cell_type": "code",
   "execution_count": 20,
   "metadata": {
    "ExecuteTime": {
     "end_time": "2020-12-17T16:53:00.620542Z",
     "start_time": "2020-12-17T16:53:00.536564Z"
    }
   },
   "outputs": [],
   "source": [
    "des = X.describe()"
   ]
  },
  {
   "cell_type": "code",
   "execution_count": 23,
   "metadata": {
    "ExecuteTime": {
     "end_time": "2020-12-17T16:53:36.210738Z",
     "start_time": "2020-12-17T16:53:36.181005Z"
    }
   },
   "outputs": [
    {
     "data": {
      "text/html": [
       "<div>\n",
       "<style scoped>\n",
       "    .dataframe tbody tr th:only-of-type {\n",
       "        vertical-align: middle;\n",
       "    }\n",
       "\n",
       "    .dataframe tbody tr th {\n",
       "        vertical-align: top;\n",
       "    }\n",
       "\n",
       "    .dataframe thead th {\n",
       "        text-align: right;\n",
       "    }\n",
       "</style>\n",
       "<table border=\"1\" class=\"dataframe\">\n",
       "  <thead>\n",
       "    <tr style=\"text-align: right;\">\n",
       "      <th></th>\n",
       "      <th>D-14</th>\n",
       "      <th>E3_diff</th>\n",
       "      <th>H2_diff</th>\n",
       "      <th>H6_diff</th>\n",
       "      <th>C3_diff</th>\n",
       "      <th>C6_diff</th>\n",
       "      <th>E1_diff</th>\n",
       "      <th>C2_diff</th>\n",
       "      <th>C1_diff</th>\n",
       "      <th>C5_diff</th>\n",
       "      <th>H1_diff</th>\n",
       "      <th>H3_diff</th>\n",
       "      <th>H4_diff</th>\n",
       "      <th>C8_diff</th>\n",
       "      <th>E2_diff</th>\n",
       "      <th>C4_diff</th>\n",
       "      <th>E4_diff</th>\n",
       "      <th>C7_diff</th>\n",
       "      <th>H5_diff</th>\n",
       "    </tr>\n",
       "  </thead>\n",
       "  <tbody>\n",
       "    <tr>\n",
       "      <th>count</th>\n",
       "      <td>7720.000000</td>\n",
       "      <td>7720.000000</td>\n",
       "      <td>7720.000000</td>\n",
       "      <td>7720.000000</td>\n",
       "      <td>7720.000000</td>\n",
       "      <td>7720.000000</td>\n",
       "      <td>7720.000000</td>\n",
       "      <td>7720.000000</td>\n",
       "      <td>7720.000000</td>\n",
       "      <td>7720.000000</td>\n",
       "      <td>7720.000000</td>\n",
       "      <td>7720.000000</td>\n",
       "      <td>7720.000000</td>\n",
       "      <td>7720.000000</td>\n",
       "      <td>7720.000000</td>\n",
       "      <td>7720.000000</td>\n",
       "      <td>7720.000000</td>\n",
       "      <td>7720.000000</td>\n",
       "      <td>7720.000000</td>\n",
       "    </tr>\n",
       "    <tr>\n",
       "      <th>mean</th>\n",
       "      <td>0.254954</td>\n",
       "      <td>0.488052</td>\n",
       "      <td>0.407979</td>\n",
       "      <td>0.438823</td>\n",
       "      <td>0.507383</td>\n",
       "      <td>0.503670</td>\n",
       "      <td>0.504793</td>\n",
       "      <td>0.504642</td>\n",
       "      <td>0.505030</td>\n",
       "      <td>0.502073</td>\n",
       "      <td>0.506509</td>\n",
       "      <td>0.507578</td>\n",
       "      <td>0.527048</td>\n",
       "      <td>0.503141</td>\n",
       "      <td>0.505732</td>\n",
       "      <td>0.507416</td>\n",
       "      <td>0.514272</td>\n",
       "      <td>0.504501</td>\n",
       "      <td>0.523826</td>\n",
       "    </tr>\n",
       "    <tr>\n",
       "      <th>std</th>\n",
       "      <td>0.045032</td>\n",
       "      <td>0.101108</td>\n",
       "      <td>0.052983</td>\n",
       "      <td>0.063273</td>\n",
       "      <td>0.083119</td>\n",
       "      <td>0.068088</td>\n",
       "      <td>0.052712</td>\n",
       "      <td>0.073152</td>\n",
       "      <td>0.081239</td>\n",
       "      <td>0.076112</td>\n",
       "      <td>0.052605</td>\n",
       "      <td>0.062918</td>\n",
       "      <td>0.042224</td>\n",
       "      <td>0.065185</td>\n",
       "      <td>0.061092</td>\n",
       "      <td>0.072697</td>\n",
       "      <td>0.020757</td>\n",
       "      <td>0.097269</td>\n",
       "      <td>0.016420</td>\n",
       "    </tr>\n",
       "    <tr>\n",
       "      <th>min</th>\n",
       "      <td>0.000000</td>\n",
       "      <td>0.000000</td>\n",
       "      <td>0.000000</td>\n",
       "      <td>0.000000</td>\n",
       "      <td>0.000000</td>\n",
       "      <td>0.000000</td>\n",
       "      <td>0.000000</td>\n",
       "      <td>0.000000</td>\n",
       "      <td>0.000000</td>\n",
       "      <td>0.000000</td>\n",
       "      <td>0.000000</td>\n",
       "      <td>0.000000</td>\n",
       "      <td>0.000000</td>\n",
       "      <td>0.000000</td>\n",
       "      <td>0.000000</td>\n",
       "      <td>0.000000</td>\n",
       "      <td>0.000000</td>\n",
       "      <td>0.000000</td>\n",
       "      <td>0.000000</td>\n",
       "    </tr>\n",
       "    <tr>\n",
       "      <th>25%</th>\n",
       "      <td>0.244259</td>\n",
       "      <td>0.505590</td>\n",
       "      <td>0.400000</td>\n",
       "      <td>0.428571</td>\n",
       "      <td>0.500000</td>\n",
       "      <td>0.500000</td>\n",
       "      <td>0.500000</td>\n",
       "      <td>0.500000</td>\n",
       "      <td>0.500000</td>\n",
       "      <td>0.500000</td>\n",
       "      <td>0.500000</td>\n",
       "      <td>0.500000</td>\n",
       "      <td>0.529656</td>\n",
       "      <td>0.500000</td>\n",
       "      <td>0.500000</td>\n",
       "      <td>0.500000</td>\n",
       "      <td>0.514924</td>\n",
       "      <td>0.500000</td>\n",
       "      <td>0.524098</td>\n",
       "    </tr>\n",
       "    <tr>\n",
       "      <th>50%</th>\n",
       "      <td>0.244447</td>\n",
       "      <td>0.505590</td>\n",
       "      <td>0.400000</td>\n",
       "      <td>0.428571</td>\n",
       "      <td>0.500000</td>\n",
       "      <td>0.500000</td>\n",
       "      <td>0.500000</td>\n",
       "      <td>0.500000</td>\n",
       "      <td>0.500000</td>\n",
       "      <td>0.500000</td>\n",
       "      <td>0.500000</td>\n",
       "      <td>0.500000</td>\n",
       "      <td>0.529656</td>\n",
       "      <td>0.500000</td>\n",
       "      <td>0.500000</td>\n",
       "      <td>0.500000</td>\n",
       "      <td>0.514924</td>\n",
       "      <td>0.500000</td>\n",
       "      <td>0.524098</td>\n",
       "    </tr>\n",
       "    <tr>\n",
       "      <th>75%</th>\n",
       "      <td>0.247159</td>\n",
       "      <td>0.505590</td>\n",
       "      <td>0.400000</td>\n",
       "      <td>0.428571</td>\n",
       "      <td>0.500000</td>\n",
       "      <td>0.500000</td>\n",
       "      <td>0.500000</td>\n",
       "      <td>0.500000</td>\n",
       "      <td>0.500000</td>\n",
       "      <td>0.500000</td>\n",
       "      <td>0.500000</td>\n",
       "      <td>0.500000</td>\n",
       "      <td>0.529656</td>\n",
       "      <td>0.500000</td>\n",
       "      <td>0.500000</td>\n",
       "      <td>0.500000</td>\n",
       "      <td>0.514924</td>\n",
       "      <td>0.500000</td>\n",
       "      <td>0.524098</td>\n",
       "    </tr>\n",
       "    <tr>\n",
       "      <th>max</th>\n",
       "      <td>1.000000</td>\n",
       "      <td>1.000000</td>\n",
       "      <td>1.000000</td>\n",
       "      <td>1.000000</td>\n",
       "      <td>1.000000</td>\n",
       "      <td>1.000000</td>\n",
       "      <td>1.000000</td>\n",
       "      <td>1.000000</td>\n",
       "      <td>1.000000</td>\n",
       "      <td>1.000000</td>\n",
       "      <td>1.000000</td>\n",
       "      <td>1.000000</td>\n",
       "      <td>1.000000</td>\n",
       "      <td>1.000000</td>\n",
       "      <td>1.000000</td>\n",
       "      <td>1.000000</td>\n",
       "      <td>0.850617</td>\n",
       "      <td>1.000000</td>\n",
       "      <td>0.934042</td>\n",
       "    </tr>\n",
       "  </tbody>\n",
       "</table>\n",
       "</div>"
      ],
      "text/plain": [
       "              D-14      E3_diff      H2_diff      H6_diff      C3_diff  \\\n",
       "count  7720.000000  7720.000000  7720.000000  7720.000000  7720.000000   \n",
       "mean      0.254954     0.488052     0.407979     0.438823     0.507383   \n",
       "std       0.045032     0.101108     0.052983     0.063273     0.083119   \n",
       "min       0.000000     0.000000     0.000000     0.000000     0.000000   \n",
       "25%       0.244259     0.505590     0.400000     0.428571     0.500000   \n",
       "50%       0.244447     0.505590     0.400000     0.428571     0.500000   \n",
       "75%       0.247159     0.505590     0.400000     0.428571     0.500000   \n",
       "max       1.000000     1.000000     1.000000     1.000000     1.000000   \n",
       "\n",
       "           C6_diff      E1_diff      C2_diff      C1_diff      C5_diff  \\\n",
       "count  7720.000000  7720.000000  7720.000000  7720.000000  7720.000000   \n",
       "mean      0.503670     0.504793     0.504642     0.505030     0.502073   \n",
       "std       0.068088     0.052712     0.073152     0.081239     0.076112   \n",
       "min       0.000000     0.000000     0.000000     0.000000     0.000000   \n",
       "25%       0.500000     0.500000     0.500000     0.500000     0.500000   \n",
       "50%       0.500000     0.500000     0.500000     0.500000     0.500000   \n",
       "75%       0.500000     0.500000     0.500000     0.500000     0.500000   \n",
       "max       1.000000     1.000000     1.000000     1.000000     1.000000   \n",
       "\n",
       "           H1_diff      H3_diff      H4_diff      C8_diff      E2_diff  \\\n",
       "count  7720.000000  7720.000000  7720.000000  7720.000000  7720.000000   \n",
       "mean      0.506509     0.507578     0.527048     0.503141     0.505732   \n",
       "std       0.052605     0.062918     0.042224     0.065185     0.061092   \n",
       "min       0.000000     0.000000     0.000000     0.000000     0.000000   \n",
       "25%       0.500000     0.500000     0.529656     0.500000     0.500000   \n",
       "50%       0.500000     0.500000     0.529656     0.500000     0.500000   \n",
       "75%       0.500000     0.500000     0.529656     0.500000     0.500000   \n",
       "max       1.000000     1.000000     1.000000     1.000000     1.000000   \n",
       "\n",
       "           C4_diff      E4_diff      C7_diff      H5_diff  \n",
       "count  7720.000000  7720.000000  7720.000000  7720.000000  \n",
       "mean      0.507416     0.514272     0.504501     0.523826  \n",
       "std       0.072697     0.020757     0.097269     0.016420  \n",
       "min       0.000000     0.000000     0.000000     0.000000  \n",
       "25%       0.500000     0.514924     0.500000     0.524098  \n",
       "50%       0.500000     0.514924     0.500000     0.524098  \n",
       "75%       0.500000     0.514924     0.500000     0.524098  \n",
       "max       1.000000     0.850617     1.000000     0.934042  "
      ]
     },
     "execution_count": 23,
     "metadata": {},
     "output_type": "execute_result"
    }
   ],
   "source": [
    "des"
   ]
  },
  {
   "cell_type": "code",
   "execution_count": 32,
   "metadata": {
    "ExecuteTime": {
     "end_time": "2020-12-17T16:54:33.518976Z",
     "start_time": "2020-12-17T16:54:33.512410Z"
    }
   },
   "outputs": [],
   "source": [
    "mean_features = pd.DataFrame(des.iloc[1,:]).T"
   ]
  },
  {
   "cell_type": "code",
   "execution_count": 35,
   "metadata": {
    "ExecuteTime": {
     "end_time": "2020-12-17T16:58:37.301700Z",
     "start_time": "2020-12-17T16:58:37.272976Z"
    }
   },
   "outputs": [
    {
     "data": {
      "text/html": [
       "<div>\n",
       "<style scoped>\n",
       "    .dataframe tbody tr th:only-of-type {\n",
       "        vertical-align: middle;\n",
       "    }\n",
       "\n",
       "    .dataframe tbody tr th {\n",
       "        vertical-align: top;\n",
       "    }\n",
       "\n",
       "    .dataframe thead th {\n",
       "        text-align: right;\n",
       "    }\n",
       "</style>\n",
       "<table border=\"1\" class=\"dataframe\">\n",
       "  <thead>\n",
       "    <tr style=\"text-align: right;\">\n",
       "      <th></th>\n",
       "      <th>D-14</th>\n",
       "      <th>E3_diff</th>\n",
       "      <th>H2_diff</th>\n",
       "      <th>H6_diff</th>\n",
       "      <th>C3_diff</th>\n",
       "      <th>C6_diff</th>\n",
       "      <th>E1_diff</th>\n",
       "      <th>C2_diff</th>\n",
       "      <th>C1_diff</th>\n",
       "      <th>C5_diff</th>\n",
       "      <th>H1_diff</th>\n",
       "      <th>H3_diff</th>\n",
       "      <th>H4_diff</th>\n",
       "      <th>C8_diff</th>\n",
       "      <th>E2_diff</th>\n",
       "      <th>C4_diff</th>\n",
       "      <th>E4_diff</th>\n",
       "      <th>C7_diff</th>\n",
       "      <th>H5_diff</th>\n",
       "    </tr>\n",
       "  </thead>\n",
       "  <tbody>\n",
       "    <tr>\n",
       "      <th>mean</th>\n",
       "      <td>0.254954</td>\n",
       "      <td>0.488052</td>\n",
       "      <td>0.407979</td>\n",
       "      <td>0.438823</td>\n",
       "      <td>0.507383</td>\n",
       "      <td>0.50367</td>\n",
       "      <td>0.504793</td>\n",
       "      <td>0.504642</td>\n",
       "      <td>0.50503</td>\n",
       "      <td>0.502073</td>\n",
       "      <td>0.506509</td>\n",
       "      <td>0.507578</td>\n",
       "      <td>0.527048</td>\n",
       "      <td>0.503141</td>\n",
       "      <td>0.505732</td>\n",
       "      <td>0.507416</td>\n",
       "      <td>0.514272</td>\n",
       "      <td>0.504501</td>\n",
       "      <td>0.523826</td>\n",
       "    </tr>\n",
       "  </tbody>\n",
       "</table>\n",
       "</div>"
      ],
      "text/plain": [
       "          D-14   E3_diff   H2_diff   H6_diff   C3_diff  C6_diff   E1_diff  \\\n",
       "mean  0.254954  0.488052  0.407979  0.438823  0.507383  0.50367  0.504793   \n",
       "\n",
       "       C2_diff  C1_diff   C5_diff   H1_diff   H3_diff   H4_diff   C8_diff  \\\n",
       "mean  0.504642  0.50503  0.502073  0.506509  0.507578  0.527048  0.503141   \n",
       "\n",
       "       E2_diff   C4_diff   E4_diff   C7_diff   H5_diff  \n",
       "mean  0.505732  0.507416  0.514272  0.504501  0.523826  "
      ]
     },
     "execution_count": 35,
     "metadata": {},
     "output_type": "execute_result"
    }
   ],
   "source": [
    "mean_features"
   ]
  },
  {
   "cell_type": "code",
   "execution_count": 34,
   "metadata": {
    "ExecuteTime": {
     "end_time": "2020-12-17T16:57:05.370460Z",
     "start_time": "2020-12-17T16:57:04.697521Z"
    }
   },
   "outputs": [],
   "source": [
    "mean_features.to_csv(r'mean_features.csv', index = False)"
   ]
  },
  {
   "cell_type": "code",
   "execution_count": 96,
   "metadata": {
    "ExecuteTime": {
     "end_time": "2020-12-17T15:02:32.712569Z",
     "start_time": "2020-12-17T15:02:32.700835Z"
    }
   },
   "outputs": [],
   "source": [
    "X_train, X_test, y_train, y_test = train_test_split(X, y, test_size=0.30, random_state=1)"
   ]
  },
  {
   "cell_type": "code",
   "execution_count": 97,
   "metadata": {
    "ExecuteTime": {
     "end_time": "2020-12-17T15:02:36.640005Z",
     "start_time": "2020-12-17T15:02:34.209055Z"
    }
   },
   "outputs": [
    {
     "name": "stdout",
     "output_type": "stream",
     "text": [
      "[16:02:34] WARNING: /Users/travis/build/dmlc/xgboost/src/objective/regression_obj.cu:170: reg:linear is now deprecated in favor of reg:squarederror.\n",
      "[16:02:34] WARNING: /Users/travis/build/dmlc/xgboost/src/learner.cc:480: \n",
      "Parameters: { silent } might not be used.\n",
      "\n",
      "  This may not be accurate due to some parameters are only used in language bindings but\n",
      "  passed down to XGBoost core.  Or some parameters are not used but slip through this\n",
      "  verification. Please open an issue if you find above cases.\n",
      "\n",
      "\n",
      "[16:02:36] WARNING: /Users/travis/build/dmlc/xgboost/src/objective/regression_obj.cu:170: reg:linear is now deprecated in favor of reg:squarederror.\n"
     ]
    },
    {
     "data": {
      "text/plain": [
       "XGBRegressor(base_score=0.5, booster='gbtree', colsample_bylevel=1,\n",
       "             colsample_bynode=1, colsample_bytree=0.7, gamma=0, gpu_id=-1,\n",
       "             importance_type='gain', interaction_constraints='',\n",
       "             learning_rate=0.045, max_delta_step=0, max_depth=5,\n",
       "             min_child_weight=4, missing=nan, monotone_constraints='()',\n",
       "             n_estimators=650, n_jobs=0, num_parallel_tree=1,\n",
       "             objective='reg:linear', random_state=0, reg_alpha=0, reg_lambda=1,\n",
       "             scale_pos_weight=1, silent=1, subsample=0.6, tree_method='exact',\n",
       "             validate_parameters=1, verbosity=None)"
      ]
     },
     "execution_count": 97,
     "metadata": {},
     "output_type": "execute_result"
    }
   ],
   "source": [
    "best_xgb = XGBRegressor(base_score=0.5, booster='gbtree', colsample_bylevel=1,\n",
    "             colsample_bynode=1, colsample_bytree=0.7, gamma=0, gpu_id=-1,\n",
    "             importance_type='gain', interaction_constraints='',\n",
    "             learning_rate=0.045, max_delta_step=0, max_depth=5,\n",
    "             min_child_weight=4,  monotone_constraints='()',\n",
    "             n_estimators=650, n_jobs=0, num_parallel_tree=1,\n",
    "             objective='reg:linear', random_state=0, reg_alpha=0, reg_lambda=1,\n",
    "             scale_pos_weight=1, silent=1, subsample=0.6, tree_method='exact',\n",
    "             validate_parameters=1, verbosity=None)\n",
    "\n",
    "best_xgb.fit(X_train,y_train)"
   ]
  },
  {
   "cell_type": "code",
   "execution_count": 102,
   "metadata": {
    "ExecuteTime": {
     "end_time": "2020-12-17T15:04:32.350499Z",
     "start_time": "2020-12-17T15:04:32.340069Z"
    }
   },
   "outputs": [
    {
     "data": {
      "text/plain": [
       "D-14       0.244259\n",
       "E3_diff    0.472300\n",
       "H2_diff    0.400000\n",
       "H6_diff    0.428571\n",
       "C3_diff    0.500000\n",
       "C6_diff    0.500000\n",
       "E1_diff    0.500000\n",
       "C2_diff    0.500000\n",
       "C1_diff    0.500000\n",
       "C5_diff    0.500000\n",
       "H1_diff    0.500000\n",
       "H3_diff    0.500000\n",
       "H4_diff    0.529656\n",
       "C8_diff    0.500000\n",
       "E2_diff    0.500000\n",
       "C4_diff    0.500000\n",
       "E4_diff    0.514924\n",
       "C7_diff    0.500000\n",
       "H5_diff    0.524098\n",
       "Name: 1, dtype: float64"
      ]
     },
     "execution_count": 102,
     "metadata": {},
     "output_type": "execute_result"
    }
   ],
   "source": [
    "new_x = X.iloc[1,:,].predict"
   ]
  },
  {
   "cell_type": "code",
   "execution_count": null,
   "metadata": {},
   "outputs": [],
   "source": []
  },
  {
   "cell_type": "code",
   "execution_count": null,
   "metadata": {},
   "outputs": [],
   "source": []
  },
  {
   "cell_type": "code",
   "execution_count": 13,
   "metadata": {
    "ExecuteTime": {
     "end_time": "2020-12-17T13:25:14.001041Z",
     "start_time": "2020-12-17T13:25:13.987109Z"
    }
   },
   "outputs": [
    {
     "data": {
      "text/plain": [
       "['XGboost_CORONANET.joblib']"
      ]
     },
     "execution_count": 13,
     "metadata": {},
     "output_type": "execute_result"
    }
   ],
   "source": [
    "import joblib\n",
    "joblib.dump(best_xgb,'XGboost_CORONANET.joblib')"
   ]
  },
  {
   "cell_type": "code",
   "execution_count": 14,
   "metadata": {
    "ExecuteTime": {
     "end_time": "2020-12-17T13:25:17.296296Z",
     "start_time": "2020-12-17T13:25:17.213529Z"
    }
   },
   "outputs": [
    {
     "data": {
      "text/plain": [
       "0.7489218848583479"
      ]
     },
     "execution_count": 14,
     "metadata": {},
     "output_type": "execute_result"
    }
   ],
   "source": [
    "best_xgb.score(X_test, y_test)"
   ]
  },
  {
   "cell_type": "code",
   "execution_count": 138,
   "metadata": {
    "ExecuteTime": {
     "end_time": "2020-12-17T15:13:30.696557Z",
     "start_time": "2020-12-17T15:13:30.689668Z"
    }
   },
   "outputs": [],
   "source": [
    "X_ = pd.DataFrame(X_test.iloc[0:2,:])"
   ]
  },
  {
   "cell_type": "code",
   "execution_count": 139,
   "metadata": {
    "ExecuteTime": {
     "end_time": "2020-12-17T15:13:30.990647Z",
     "start_time": "2020-12-17T15:13:30.948339Z"
    }
   },
   "outputs": [
    {
     "data": {
      "text/html": [
       "<div>\n",
       "<style scoped>\n",
       "    .dataframe tbody tr th:only-of-type {\n",
       "        vertical-align: middle;\n",
       "    }\n",
       "\n",
       "    .dataframe tbody tr th {\n",
       "        vertical-align: top;\n",
       "    }\n",
       "\n",
       "    .dataframe thead th {\n",
       "        text-align: right;\n",
       "    }\n",
       "</style>\n",
       "<table border=\"1\" class=\"dataframe\">\n",
       "  <thead>\n",
       "    <tr style=\"text-align: right;\">\n",
       "      <th></th>\n",
       "      <th>D-14</th>\n",
       "      <th>E3_diff</th>\n",
       "      <th>H2_diff</th>\n",
       "      <th>H6_diff</th>\n",
       "      <th>C3_diff</th>\n",
       "      <th>C6_diff</th>\n",
       "      <th>E1_diff</th>\n",
       "      <th>C2_diff</th>\n",
       "      <th>C1_diff</th>\n",
       "      <th>C5_diff</th>\n",
       "      <th>H1_diff</th>\n",
       "      <th>H3_diff</th>\n",
       "      <th>H4_diff</th>\n",
       "      <th>C8_diff</th>\n",
       "      <th>E2_diff</th>\n",
       "      <th>C4_diff</th>\n",
       "      <th>E4_diff</th>\n",
       "      <th>C7_diff</th>\n",
       "      <th>H5_diff</th>\n",
       "    </tr>\n",
       "  </thead>\n",
       "  <tbody>\n",
       "    <tr>\n",
       "      <th>3549</th>\n",
       "      <td>0.258850</td>\n",
       "      <td>0.50559</td>\n",
       "      <td>0.4</td>\n",
       "      <td>0.428571</td>\n",
       "      <td>0.5</td>\n",
       "      <td>0.500000</td>\n",
       "      <td>0.5</td>\n",
       "      <td>0.5</td>\n",
       "      <td>0.5</td>\n",
       "      <td>0.5</td>\n",
       "      <td>0.5</td>\n",
       "      <td>0.5</td>\n",
       "      <td>0.534758</td>\n",
       "      <td>0.5</td>\n",
       "      <td>0.5</td>\n",
       "      <td>0.5</td>\n",
       "      <td>0.514924</td>\n",
       "      <td>0.5</td>\n",
       "      <td>0.524098</td>\n",
       "    </tr>\n",
       "    <tr>\n",
       "      <th>5619</th>\n",
       "      <td>0.246972</td>\n",
       "      <td>0.50559</td>\n",
       "      <td>0.4</td>\n",
       "      <td>0.428571</td>\n",
       "      <td>0.5</td>\n",
       "      <td>0.333333</td>\n",
       "      <td>0.5</td>\n",
       "      <td>0.5</td>\n",
       "      <td>0.5</td>\n",
       "      <td>0.5</td>\n",
       "      <td>0.5</td>\n",
       "      <td>0.5</td>\n",
       "      <td>0.529656</td>\n",
       "      <td>0.5</td>\n",
       "      <td>0.5</td>\n",
       "      <td>0.5</td>\n",
       "      <td>0.514924</td>\n",
       "      <td>0.5</td>\n",
       "      <td>0.524098</td>\n",
       "    </tr>\n",
       "  </tbody>\n",
       "</table>\n",
       "</div>"
      ],
      "text/plain": [
       "          D-14  E3_diff  H2_diff   H6_diff  C3_diff   C6_diff  E1_diff  \\\n",
       "3549  0.258850  0.50559      0.4  0.428571      0.5  0.500000      0.5   \n",
       "5619  0.246972  0.50559      0.4  0.428571      0.5  0.333333      0.5   \n",
       "\n",
       "      C2_diff  C1_diff  C5_diff  H1_diff  H3_diff   H4_diff  C8_diff  E2_diff  \\\n",
       "3549      0.5      0.5      0.5      0.5      0.5  0.534758      0.5      0.5   \n",
       "5619      0.5      0.5      0.5      0.5      0.5  0.529656      0.5      0.5   \n",
       "\n",
       "      C4_diff   E4_diff  C7_diff   H5_diff  \n",
       "3549      0.5  0.514924      0.5  0.524098  \n",
       "5619      0.5  0.514924      0.5  0.524098  "
      ]
     },
     "execution_count": 139,
     "metadata": {},
     "output_type": "execute_result"
    }
   ],
   "source": [
    "X_"
   ]
  },
  {
   "cell_type": "code",
   "execution_count": 140,
   "metadata": {
    "ExecuteTime": {
     "end_time": "2020-12-17T15:13:38.584333Z",
     "start_time": "2020-12-17T15:13:38.576630Z"
    }
   },
   "outputs": [],
   "source": [
    "from sklearn.metrics import r2_score\n",
    "\n",
    "y_pred = best_xgb.predict(X_)\n"
   ]
  },
  {
   "cell_type": "code",
   "execution_count": 141,
   "metadata": {
    "ExecuteTime": {
     "end_time": "2020-12-17T15:13:39.103275Z",
     "start_time": "2020-12-17T15:13:39.093979Z"
    }
   },
   "outputs": [
    {
     "data": {
      "text/plain": [
       "array([364.66968,  72.77628], dtype=float32)"
      ]
     },
     "execution_count": 141,
     "metadata": {},
     "output_type": "execute_result"
    }
   ],
   "source": [
    "y_pred"
   ]
  },
  {
   "cell_type": "code",
   "execution_count": 123,
   "metadata": {
    "ExecuteTime": {
     "end_time": "2020-12-17T15:09:54.691267Z",
     "start_time": "2020-12-17T15:09:54.684846Z"
    }
   },
   "outputs": [
    {
     "name": "stdout",
     "output_type": "stream",
     "text": [
      "(2316,)\n",
      "(2316,)\n"
     ]
    }
   ],
   "source": [
    "print(y_test.shape)\n",
    "print(y_pred.shape)"
   ]
  },
  {
   "cell_type": "code",
   "execution_count": 16,
   "metadata": {
    "ExecuteTime": {
     "end_time": "2020-12-17T13:25:21.402653Z",
     "start_time": "2020-12-17T13:25:21.396885Z"
    }
   },
   "outputs": [
    {
     "name": "stdout",
     "output_type": "stream",
     "text": [
      "RMSE: 505.390625\n"
     ]
    }
   ],
   "source": [
    "from sklearn.metrics import mean_squared_error\n",
    "rmse = np.sqrt(mean_squared_error(y_test, y_pred))\n",
    "print(\"RMSE: %f\" % (rmse))"
   ]
  },
  {
   "cell_type": "code",
   "execution_count": 17,
   "metadata": {
    "ExecuteTime": {
     "end_time": "2020-12-17T13:25:22.082186Z",
     "start_time": "2020-12-17T13:25:21.898964Z"
    }
   },
   "outputs": [
    {
     "data": {
      "text/html": [
       "<div>\n",
       "<style scoped>\n",
       "    .dataframe tbody tr th:only-of-type {\n",
       "        vertical-align: middle;\n",
       "    }\n",
       "\n",
       "    .dataframe tbody tr th {\n",
       "        vertical-align: top;\n",
       "    }\n",
       "\n",
       "    .dataframe thead th {\n",
       "        text-align: right;\n",
       "    }\n",
       "</style>\n",
       "<table border=\"1\" class=\"dataframe\">\n",
       "  <thead>\n",
       "    <tr style=\"text-align: right;\">\n",
       "      <th></th>\n",
       "      <th>Features</th>\n",
       "      <th>Importancies</th>\n",
       "    </tr>\n",
       "  </thead>\n",
       "  <tbody>\n",
       "    <tr>\n",
       "      <th>0</th>\n",
       "      <td>D-14</td>\n",
       "      <td>0.270528</td>\n",
       "    </tr>\n",
       "    <tr>\n",
       "      <th>3</th>\n",
       "      <td>H6_diff</td>\n",
       "      <td>0.105168</td>\n",
       "    </tr>\n",
       "    <tr>\n",
       "      <th>12</th>\n",
       "      <td>H4_diff</td>\n",
       "      <td>0.070047</td>\n",
       "    </tr>\n",
       "    <tr>\n",
       "      <th>2</th>\n",
       "      <td>H2_diff</td>\n",
       "      <td>0.062036</td>\n",
       "    </tr>\n",
       "    <tr>\n",
       "      <th>1</th>\n",
       "      <td>E3_diff</td>\n",
       "      <td>0.059818</td>\n",
       "    </tr>\n",
       "    <tr>\n",
       "      <th>7</th>\n",
       "      <td>C2_diff</td>\n",
       "      <td>0.051875</td>\n",
       "    </tr>\n",
       "    <tr>\n",
       "      <th>10</th>\n",
       "      <td>H1_diff</td>\n",
       "      <td>0.049420</td>\n",
       "    </tr>\n",
       "    <tr>\n",
       "      <th>18</th>\n",
       "      <td>H5_diff</td>\n",
       "      <td>0.044412</td>\n",
       "    </tr>\n",
       "    <tr>\n",
       "      <th>4</th>\n",
       "      <td>C3_diff</td>\n",
       "      <td>0.039967</td>\n",
       "    </tr>\n",
       "    <tr>\n",
       "      <th>6</th>\n",
       "      <td>E1_diff</td>\n",
       "      <td>0.039785</td>\n",
       "    </tr>\n",
       "    <tr>\n",
       "      <th>5</th>\n",
       "      <td>C6_diff</td>\n",
       "      <td>0.039062</td>\n",
       "    </tr>\n",
       "    <tr>\n",
       "      <th>14</th>\n",
       "      <td>E2_diff</td>\n",
       "      <td>0.034290</td>\n",
       "    </tr>\n",
       "    <tr>\n",
       "      <th>13</th>\n",
       "      <td>C8_diff</td>\n",
       "      <td>0.030754</td>\n",
       "    </tr>\n",
       "    <tr>\n",
       "      <th>16</th>\n",
       "      <td>E4_diff</td>\n",
       "      <td>0.029411</td>\n",
       "    </tr>\n",
       "    <tr>\n",
       "      <th>8</th>\n",
       "      <td>C1_diff</td>\n",
       "      <td>0.022213</td>\n",
       "    </tr>\n",
       "    <tr>\n",
       "      <th>17</th>\n",
       "      <td>C7_diff</td>\n",
       "      <td>0.018600</td>\n",
       "    </tr>\n",
       "    <tr>\n",
       "      <th>9</th>\n",
       "      <td>C5_diff</td>\n",
       "      <td>0.014405</td>\n",
       "    </tr>\n",
       "    <tr>\n",
       "      <th>15</th>\n",
       "      <td>C4_diff</td>\n",
       "      <td>0.013243</td>\n",
       "    </tr>\n",
       "    <tr>\n",
       "      <th>11</th>\n",
       "      <td>H3_diff</td>\n",
       "      <td>0.004968</td>\n",
       "    </tr>\n",
       "  </tbody>\n",
       "</table>\n",
       "</div>"
      ],
      "text/plain": [
       "   Features  Importancies\n",
       "0      D-14      0.270528\n",
       "3   H6_diff      0.105168\n",
       "12  H4_diff      0.070047\n",
       "2   H2_diff      0.062036\n",
       "1   E3_diff      0.059818\n",
       "7   C2_diff      0.051875\n",
       "10  H1_diff      0.049420\n",
       "18  H5_diff      0.044412\n",
       "4   C3_diff      0.039967\n",
       "6   E1_diff      0.039785\n",
       "5   C6_diff      0.039062\n",
       "14  E2_diff      0.034290\n",
       "13  C8_diff      0.030754\n",
       "16  E4_diff      0.029411\n",
       "8   C1_diff      0.022213\n",
       "17  C7_diff      0.018600\n",
       "9   C5_diff      0.014405\n",
       "15  C4_diff      0.013243\n",
       "11  H3_diff      0.004968"
      ]
     },
     "execution_count": 17,
     "metadata": {},
     "output_type": "execute_result"
    }
   ],
   "source": [
    "coeff_df_best_xgboost_2 = pd.DataFrame(best_xgb.feature_importances_, X.columns, columns=['Coefficient']).reset_index().rename(columns={'index':'Features', 'Coefficient': 'Importancies'}).sort_values(by=['Importancies'], ascending=False)\n",
    "coeff_df_best_xgboost_2 "
   ]
  },
  {
   "cell_type": "code",
   "execution_count": 18,
   "metadata": {
    "ExecuteTime": {
     "end_time": "2020-12-17T13:26:12.097855Z",
     "start_time": "2020-12-17T13:26:12.092630Z"
    }
   },
   "outputs": [],
   "source": [
    "importante_features = pd.DataFrame(coeff_df_best_xgboost_2)"
   ]
  },
  {
   "cell_type": "code",
   "execution_count": 20,
   "metadata": {
    "ExecuteTime": {
     "end_time": "2020-12-17T13:27:20.511834Z",
     "start_time": "2020-12-17T13:27:19.713065Z"
    }
   },
   "outputs": [],
   "source": [
    "importante_features.to_csv(r'features_importance', index = False)"
   ]
  },
  {
   "cell_type": "code",
   "execution_count": 80,
   "metadata": {
    "ExecuteTime": {
     "end_time": "2020-12-17T14:51:13.784283Z",
     "start_time": "2020-12-17T14:51:13.777300Z"
    }
   },
   "outputs": [],
   "source": [
    "coeff_df_best_xgboost_2.reset_index(inplace=True)"
   ]
  },
  {
   "cell_type": "code",
   "execution_count": 81,
   "metadata": {
    "ExecuteTime": {
     "end_time": "2020-12-17T14:51:14.268630Z",
     "start_time": "2020-12-17T14:51:14.261508Z"
    }
   },
   "outputs": [],
   "source": [
    "coeff_df_best_xgboost_2['Measures'] = pd.Series(['D14', 'Facial Coverings', 'Emergency investment in healthcare', \n",
    "                                                'Testing policy', 'Fiscal measures', 'Workplace closing', \n",
    "                                                'Public information campaigns', 'Investment in vaccines',\n",
    "                                                'Cancel public events', 'Income support', 'Stay at home',\n",
    "                                                'Debt/contract relief', 'International travel controls',\n",
    "                                                'International support', 'School closing', 'Restrictions on internal movement',\n",
    "                                                'Close public transport', 'Restrictions on gatherings', \n",
    "                                                'Contact tracing'])"
   ]
  },
  {
   "cell_type": "code",
   "execution_count": 82,
   "metadata": {
    "ExecuteTime": {
     "end_time": "2020-12-17T14:51:14.854954Z",
     "start_time": "2020-12-17T14:51:14.825835Z"
    }
   },
   "outputs": [
    {
     "data": {
      "text/html": [
       "<div>\n",
       "<style scoped>\n",
       "    .dataframe tbody tr th:only-of-type {\n",
       "        vertical-align: middle;\n",
       "    }\n",
       "\n",
       "    .dataframe tbody tr th {\n",
       "        vertical-align: top;\n",
       "    }\n",
       "\n",
       "    .dataframe thead th {\n",
       "        text-align: right;\n",
       "    }\n",
       "</style>\n",
       "<table border=\"1\" class=\"dataframe\">\n",
       "  <thead>\n",
       "    <tr style=\"text-align: right;\">\n",
       "      <th></th>\n",
       "      <th>index</th>\n",
       "      <th>Features</th>\n",
       "      <th>Importancies</th>\n",
       "      <th>Type</th>\n",
       "      <th>Measures</th>\n",
       "    </tr>\n",
       "  </thead>\n",
       "  <tbody>\n",
       "    <tr>\n",
       "      <th>0</th>\n",
       "      <td>0</td>\n",
       "      <td>D-14</td>\n",
       "      <td>0.270528</td>\n",
       "      <td>None</td>\n",
       "      <td>D14</td>\n",
       "    </tr>\n",
       "    <tr>\n",
       "      <th>1</th>\n",
       "      <td>3</td>\n",
       "      <td>H6_diff</td>\n",
       "      <td>0.105168</td>\n",
       "      <td>H</td>\n",
       "      <td>Facial Coverings</td>\n",
       "    </tr>\n",
       "    <tr>\n",
       "      <th>2</th>\n",
       "      <td>12</td>\n",
       "      <td>H4_diff</td>\n",
       "      <td>0.070047</td>\n",
       "      <td>H</td>\n",
       "      <td>Emergency investment in healthcare</td>\n",
       "    </tr>\n",
       "    <tr>\n",
       "      <th>3</th>\n",
       "      <td>2</td>\n",
       "      <td>H2_diff</td>\n",
       "      <td>0.062036</td>\n",
       "      <td>H</td>\n",
       "      <td>Testing policy</td>\n",
       "    </tr>\n",
       "    <tr>\n",
       "      <th>4</th>\n",
       "      <td>1</td>\n",
       "      <td>E3_diff</td>\n",
       "      <td>0.059818</td>\n",
       "      <td>E</td>\n",
       "      <td>Fiscal measures</td>\n",
       "    </tr>\n",
       "    <tr>\n",
       "      <th>5</th>\n",
       "      <td>7</td>\n",
       "      <td>C2_diff</td>\n",
       "      <td>0.051875</td>\n",
       "      <td>C</td>\n",
       "      <td>Workplace closing</td>\n",
       "    </tr>\n",
       "    <tr>\n",
       "      <th>6</th>\n",
       "      <td>10</td>\n",
       "      <td>H1_diff</td>\n",
       "      <td>0.049420</td>\n",
       "      <td>H</td>\n",
       "      <td>Public information campaigns</td>\n",
       "    </tr>\n",
       "    <tr>\n",
       "      <th>7</th>\n",
       "      <td>18</td>\n",
       "      <td>H5_diff</td>\n",
       "      <td>0.044412</td>\n",
       "      <td>H</td>\n",
       "      <td>Investment in vaccines</td>\n",
       "    </tr>\n",
       "    <tr>\n",
       "      <th>8</th>\n",
       "      <td>4</td>\n",
       "      <td>C3_diff</td>\n",
       "      <td>0.039967</td>\n",
       "      <td>C</td>\n",
       "      <td>Cancel public events</td>\n",
       "    </tr>\n",
       "    <tr>\n",
       "      <th>9</th>\n",
       "      <td>6</td>\n",
       "      <td>E1_diff</td>\n",
       "      <td>0.039785</td>\n",
       "      <td>E</td>\n",
       "      <td>Income support</td>\n",
       "    </tr>\n",
       "    <tr>\n",
       "      <th>10</th>\n",
       "      <td>5</td>\n",
       "      <td>C6_diff</td>\n",
       "      <td>0.039062</td>\n",
       "      <td>C</td>\n",
       "      <td>Stay at home</td>\n",
       "    </tr>\n",
       "    <tr>\n",
       "      <th>11</th>\n",
       "      <td>14</td>\n",
       "      <td>E2_diff</td>\n",
       "      <td>0.034290</td>\n",
       "      <td>E</td>\n",
       "      <td>Debt/contract relief</td>\n",
       "    </tr>\n",
       "    <tr>\n",
       "      <th>12</th>\n",
       "      <td>13</td>\n",
       "      <td>C8_diff</td>\n",
       "      <td>0.030754</td>\n",
       "      <td>C</td>\n",
       "      <td>International travel controls</td>\n",
       "    </tr>\n",
       "    <tr>\n",
       "      <th>13</th>\n",
       "      <td>16</td>\n",
       "      <td>E4_diff</td>\n",
       "      <td>0.029411</td>\n",
       "      <td>E</td>\n",
       "      <td>International support</td>\n",
       "    </tr>\n",
       "    <tr>\n",
       "      <th>14</th>\n",
       "      <td>8</td>\n",
       "      <td>C1_diff</td>\n",
       "      <td>0.022213</td>\n",
       "      <td>C</td>\n",
       "      <td>School closing</td>\n",
       "    </tr>\n",
       "    <tr>\n",
       "      <th>15</th>\n",
       "      <td>17</td>\n",
       "      <td>C7_diff</td>\n",
       "      <td>0.018600</td>\n",
       "      <td>C</td>\n",
       "      <td>Restrictions on internal movement</td>\n",
       "    </tr>\n",
       "    <tr>\n",
       "      <th>16</th>\n",
       "      <td>9</td>\n",
       "      <td>C5_diff</td>\n",
       "      <td>0.014405</td>\n",
       "      <td>C</td>\n",
       "      <td>Close public transport</td>\n",
       "    </tr>\n",
       "    <tr>\n",
       "      <th>17</th>\n",
       "      <td>15</td>\n",
       "      <td>C4_diff</td>\n",
       "      <td>0.013243</td>\n",
       "      <td>C</td>\n",
       "      <td>Restrictions on gatherings</td>\n",
       "    </tr>\n",
       "    <tr>\n",
       "      <th>18</th>\n",
       "      <td>11</td>\n",
       "      <td>H3_diff</td>\n",
       "      <td>0.004968</td>\n",
       "      <td>H</td>\n",
       "      <td>Contact tracing</td>\n",
       "    </tr>\n",
       "  </tbody>\n",
       "</table>\n",
       "</div>"
      ],
      "text/plain": [
       "    index Features  Importancies  Type                            Measures\n",
       "0       0     D-14      0.270528  None                                 D14\n",
       "1       3  H6_diff      0.105168     H                    Facial Coverings\n",
       "2      12  H4_diff      0.070047     H  Emergency investment in healthcare\n",
       "3       2  H2_diff      0.062036     H                      Testing policy\n",
       "4       1  E3_diff      0.059818     E                     Fiscal measures\n",
       "5       7  C2_diff      0.051875     C                   Workplace closing\n",
       "6      10  H1_diff      0.049420     H        Public information campaigns\n",
       "7      18  H5_diff      0.044412     H              Investment in vaccines\n",
       "8       4  C3_diff      0.039967     C                Cancel public events\n",
       "9       6  E1_diff      0.039785     E                      Income support\n",
       "10      5  C6_diff      0.039062     C                        Stay at home\n",
       "11     14  E2_diff      0.034290     E                Debt/contract relief\n",
       "12     13  C8_diff      0.030754     C       International travel controls\n",
       "13     16  E4_diff      0.029411     E               International support\n",
       "14      8  C1_diff      0.022213     C                      School closing\n",
       "15     17  C7_diff      0.018600     C   Restrictions on internal movement\n",
       "16      9  C5_diff      0.014405     C              Close public transport\n",
       "17     15  C4_diff      0.013243     C          Restrictions on gatherings\n",
       "18     11  H3_diff      0.004968     H                     Contact tracing"
      ]
     },
     "execution_count": 82,
     "metadata": {},
     "output_type": "execute_result"
    }
   ],
   "source": [
    "coeff_df_best_xgboost_2\n"
   ]
  },
  {
   "cell_type": "code",
   "execution_count": 83,
   "metadata": {
    "ExecuteTime": {
     "end_time": "2020-12-17T14:51:18.258223Z",
     "start_time": "2020-12-17T14:51:18.252001Z"
    }
   },
   "outputs": [],
   "source": [
    "def handle_policy_type(x):\n",
    "    if 'H' in x:\n",
    "        return 'H'\n",
    "    if 'C' in x:\n",
    "        return 'C'\n",
    "    if 'E' in x:\n",
    "        return 'E'"
   ]
  },
  {
   "cell_type": "code",
   "execution_count": 84,
   "metadata": {
    "ExecuteTime": {
     "end_time": "2020-12-17T14:51:19.065703Z",
     "start_time": "2020-12-17T14:51:19.057288Z"
    }
   },
   "outputs": [],
   "source": [
    "coeff_df_best_xgboost_2['Type'] = coeff_df_best_xgboost_2['Features'].apply(handle_policy_type)\n"
   ]
  },
  {
   "cell_type": "code",
   "execution_count": 149,
   "metadata": {
    "ExecuteTime": {
     "end_time": "2020-12-17T15:30:02.513511Z",
     "start_time": "2020-12-17T15:30:02.479110Z"
    }
   },
   "outputs": [
    {
     "ename": "NameError",
     "evalue": "name 'style' is not defined",
     "output_type": "error",
     "traceback": [
      "\u001b[0;31m---------------------------------------------------------------------------\u001b[0m",
      "\u001b[0;31mNameError\u001b[0m                                 Traceback (most recent call last)",
      "\u001b[0;32m<ipython-input-149-fe38a71c85b7>\u001b[0m in \u001b[0;36m<module>\u001b[0;34m\u001b[0m\n\u001b[1;32m      1\u001b[0m \u001b[0;32mimport\u001b[0m \u001b[0mmatplotlib\u001b[0m\u001b[0;34m.\u001b[0m\u001b[0mstyle\u001b[0m \u001b[0;32mas\u001b[0m \u001b[0mavailable\u001b[0m\u001b[0;34m\u001b[0m\u001b[0;34m\u001b[0m\u001b[0m\n\u001b[0;32m----> 2\u001b[0;31m \u001b[0mstyle\u001b[0m\u001b[0;34m.\u001b[0m\u001b[0mavailable\u001b[0m\u001b[0;34m\u001b[0m\u001b[0;34m\u001b[0m\u001b[0m\n\u001b[0m",
      "\u001b[0;31mNameError\u001b[0m: name 'style' is not defined"
     ]
    }
   ],
   "source": [
    "import matplotlib.style as style style.available\n",
    "style.available"
   ]
  },
  {
   "cell_type": "code",
   "execution_count": 156,
   "metadata": {
    "ExecuteTime": {
     "end_time": "2020-12-17T15:53:56.226383Z",
     "start_time": "2020-12-17T15:53:53.961294Z"
    },
    "scrolled": false
   },
   "outputs": [
    {
     "data": {
      "image/png": "[encoded data removed]",
      "text/plain": [
       "<Figure size 1008x432 with 1 Axes>"
      ]
     },
     "metadata": {},
     "output_type": "display_data"
    }
   ],
   "source": [
    "import matplotlib.pyplot as plt\n",
    "import seaborn as sns\n",
    "\n",
    "x_vals = coeff_df_best_xgboost_2['Measures'][1:]\n",
    "y_vals = coeff_df_best_xgboost_2['Importancies'][1:]\n",
    "hue = coeff_df_best_xgboost_2['Type'][1:]\n",
    "\n",
    "sns.set()\n",
    "plt.figure(figsize=(14,6))\n",
    "sns.barplot(x=x_vals,y=y_vals, palette=\"tab10\", hue=hue, dodge=False)\n",
    "plt.xticks(rotation=90)\n",
    "\n",
    "plt.title('Effects of anti-coronavirus measures ranked by order of importance',size=15)\n",
    "plt.savefig('Effects of anti-coronavirus measures ranked by order of importance', dpi=300)"
   ]
  },
  {
   "cell_type": "code",
   "execution_count": null,
   "metadata": {},
   "outputs": [],
   "source": []
  }
 ],
 "metadata": {
  "kernelspec": {
   "display_name": "Python 3",
   "language": "python",
   "name": "python3"
  },
  "language_info": {
   "codemirror_mode": {
    "name": "ipython",
    "version": 3
   },
   "file_extension": ".py",
   "mimetype": "text/x-python",
   "name": "python",
   "nbconvert_exporter": "python",
   "pygments_lexer": "ipython3",
   "version": "3.7.7"
  },
  "toc": {
   "base_numbering": 1,
   "nav_menu": {},
   "number_sections": true,
   "sideBar": true,
   "skip_h1_title": false,
   "title_cell": "Table of Contents",
   "title_sidebar": "Contents",
   "toc_cell": false,
   "toc_position": {},
   "toc_section_display": true,
   "toc_window_display": false
  }
 },
 "nbformat": 4,
 "nbformat_minor": 4
}

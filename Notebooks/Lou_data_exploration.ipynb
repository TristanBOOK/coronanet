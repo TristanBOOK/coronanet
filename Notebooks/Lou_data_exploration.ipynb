{
 "cells": [
  {
   "cell_type": "code",
   "execution_count": 1,
   "metadata": {
    "ExecuteTime": {
     "end_time": "2020-12-08T17:03:12.972805Z",
     "start_time": "2020-12-08T17:03:09.489124Z"
    }
   },
   "outputs": [],
   "source": [
    "import numpy as np\n",
    "import pandas as pd\n",
    "import datetime\n",
    "import pyreadr\n",
    "import pandas as pd\n",
    "from IPython.display import display\n",
    "\n",
    "from sklearn.preprocessing import OneHotEncoder\n",
    "\n",
    "from nltk.corpus import stopwords \n",
    "import string\n",
    "from nltk.stem.wordnet import WordNetLemmatizer\n",
    "from nltk import word_tokenize \n",
    "from sklearn.decomposition import LatentDirichletAllocation\n",
    "from sklearn.feature_extraction.text import CountVectorizer"
   ]
  },
  {
   "cell_type": "markdown",
   "metadata": {},
   "source": [
    "# Unified COVID-19 Dataset"
   ]
  },
  {
   "cell_type": "code",
   "execution_count": 2,
   "metadata": {
    "ExecuteTime": {
     "end_time": "2020-12-08T17:03:26.093431Z",
     "start_time": "2020-12-08T17:03:12.979277Z"
    }
   },
   "outputs": [
    {
     "name": "stdout",
     "output_type": "stream",
     "text": [
      "odict_keys(['Policy'])\n"
     ]
    }
   ],
   "source": [
    "policies_df = pyreadr.read_r('Policy.RData') # also works for Rds\n",
    "print(policies_df.keys()) # let’s check what objects we got"
   ]
  },
  {
   "cell_type": "code",
   "execution_count": 3,
   "metadata": {
    "ExecuteTime": {
     "end_time": "2020-12-08T17:03:26.112087Z",
     "start_time": "2020-12-08T17:03:26.105317Z"
    }
   },
   "outputs": [],
   "source": [
    "policies_df =policies_df['Policy']"
   ]
  },
  {
   "cell_type": "code",
   "execution_count": 4,
   "metadata": {
    "ExecuteTime": {
     "end_time": "2020-12-08T17:03:26.177639Z",
     "start_time": "2020-12-08T17:03:26.129174Z"
    }
   },
   "outputs": [
    {
     "data": {
      "text/html": [
       "<div>\n",
       "<style scoped>\n",
       "    .dataframe tbody tr th:only-of-type {\n",
       "        vertical-align: middle;\n",
       "    }\n",
       "\n",
       "    .dataframe tbody tr th {\n",
       "        vertical-align: top;\n",
       "    }\n",
       "\n",
       "    .dataframe thead th {\n",
       "        text-align: right;\n",
       "    }\n",
       "</style>\n",
       "<table border=\"1\" class=\"dataframe\">\n",
       "  <thead>\n",
       "    <tr style=\"text-align: right;\">\n",
       "      <th></th>\n",
       "      <th>ID</th>\n",
       "      <th>Date</th>\n",
       "      <th>PolicyType</th>\n",
       "      <th>PolicyValue</th>\n",
       "      <th>PolicyFlag</th>\n",
       "      <th>PolicyNotes</th>\n",
       "      <th>PolicySource</th>\n",
       "    </tr>\n",
       "  </thead>\n",
       "  <tbody>\n",
       "    <tr>\n",
       "      <th>0</th>\n",
       "      <td>AD</td>\n",
       "      <td>2020-01-01</td>\n",
       "      <td>C1</td>\n",
       "      <td>0.0</td>\n",
       "      <td>NaN</td>\n",
       "      <td>NaN</td>\n",
       "      <td>OxCGRT</td>\n",
       "    </tr>\n",
       "    <tr>\n",
       "      <th>1</th>\n",
       "      <td>AD</td>\n",
       "      <td>2020-01-01</td>\n",
       "      <td>C2</td>\n",
       "      <td>0.0</td>\n",
       "      <td>NaN</td>\n",
       "      <td>NaN</td>\n",
       "      <td>OxCGRT</td>\n",
       "    </tr>\n",
       "    <tr>\n",
       "      <th>2</th>\n",
       "      <td>AD</td>\n",
       "      <td>2020-01-01</td>\n",
       "      <td>C3</td>\n",
       "      <td>0.0</td>\n",
       "      <td>NaN</td>\n",
       "      <td>NaN</td>\n",
       "      <td>OxCGRT</td>\n",
       "    </tr>\n",
       "    <tr>\n",
       "      <th>3</th>\n",
       "      <td>AD</td>\n",
       "      <td>2020-01-01</td>\n",
       "      <td>C4</td>\n",
       "      <td>0.0</td>\n",
       "      <td>NaN</td>\n",
       "      <td>NaN</td>\n",
       "      <td>OxCGRT</td>\n",
       "    </tr>\n",
       "    <tr>\n",
       "      <th>4</th>\n",
       "      <td>AD</td>\n",
       "      <td>2020-01-01</td>\n",
       "      <td>C5</td>\n",
       "      <td>0.0</td>\n",
       "      <td>NaN</td>\n",
       "      <td>NaN</td>\n",
       "      <td>OxCGRT</td>\n",
       "    </tr>\n",
       "  </tbody>\n",
       "</table>\n",
       "</div>"
      ],
      "text/plain": [
       "   ID        Date PolicyType  PolicyValue PolicyFlag PolicyNotes PolicySource\n",
       "0  AD  2020-01-01         C1          0.0        NaN         NaN       OxCGRT\n",
       "1  AD  2020-01-01         C2          0.0        NaN         NaN       OxCGRT\n",
       "2  AD  2020-01-01         C3          0.0        NaN         NaN       OxCGRT\n",
       "3  AD  2020-01-01         C4          0.0        NaN         NaN       OxCGRT\n",
       "4  AD  2020-01-01         C5          0.0        NaN         NaN       OxCGRT"
      ]
     },
     "execution_count": 4,
     "metadata": {},
     "output_type": "execute_result"
    }
   ],
   "source": [
    "policies_df.head()"
   ]
  },
  {
   "cell_type": "markdown",
   "metadata": {
    "ExecuteTime": {
     "end_time": "2020-12-07T15:21:13.990522Z",
     "start_time": "2020-12-07T15:21:10.119871Z"
    }
   },
   "source": [
    "# Coronanet dataset"
   ]
  },
  {
   "cell_type": "code",
   "execution_count": 5,
   "metadata": {
    "ExecuteTime": {
     "end_time": "2020-12-08T17:03:27.389355Z",
     "start_time": "2020-12-08T17:03:26.184483Z"
    }
   },
   "outputs": [],
   "source": [
    "# import data\n",
    "df = pd.read_csv('coronanet_release_allvars.csv', encoding='mac_roman')"
   ]
  },
  {
   "cell_type": "code",
   "execution_count": 6,
   "metadata": {
    "ExecuteTime": {
     "end_time": "2020-12-08T17:03:27.407900Z",
     "start_time": "2020-12-08T17:03:27.392544Z"
    }
   },
   "outputs": [
    {
     "data": {
      "text/plain": [
       "Index(['Unnamed: 0', 'record_id', 'policy_id', 'entry_type', 'correct_type',\n",
       "       'update_type', 'update_level', 'description', 'date_announced',\n",
       "       'date_start', 'date_end', 'country', 'ISO_A3', 'ISO_A2',\n",
       "       'init_country_level', 'domestic_policy', 'province', 'city', 'type',\n",
       "       'type_sub_cat', 'type_text', 'institution_status', 'target_country',\n",
       "       'target_geog_level', 'target_region', 'target_province', 'target_city',\n",
       "       'target_other', 'target_who_what', 'target_direction',\n",
       "       'travel_mechanism', 'compliance', 'enforcer', 'index_high_est',\n",
       "       'index_med_est', 'index_low_est', 'index_country_rank', 'link',\n",
       "       'date_updated', 'recorded_date', 'confirmed_cases', 'deaths',\n",
       "       'recovered', 'new_tests', 'total_tests', 'total_tests_per_thousand',\n",
       "       'tests_units', 'Rank_FP', 'Score_FP', 'state_IDC', 'muni_IDC',\n",
       "       'dispersive_IDC', 'constraining_IDC', 'inclusive_IDC', 'sfi_SFI',\n",
       "       'ti_cpi_TI', 'pop_WDI_PW', 'gdp_WDI_PW', 'gdppc_WDI_PW',\n",
       "       'growth_WDI_PW', 'lnpop_WDI_PW', 'lngdp_WDI_PW', 'lngdppc_WDI_PW',\n",
       "       'disap_FA', 'polpris_FA', 'latentmean_FA', 'transparencyindex_HR',\n",
       "       'EmigrantStock_EMS', 'v2x_polyarchy_VDEM'],\n",
       "      dtype='object')"
      ]
     },
     "execution_count": 6,
     "metadata": {},
     "output_type": "execute_result"
    }
   ],
   "source": [
    "# colonnes\n",
    "df.columns"
   ]
  },
  {
   "cell_type": "code",
   "execution_count": 7,
   "metadata": {
    "ExecuteTime": {
     "end_time": "2020-12-08T17:03:27.547051Z",
     "start_time": "2020-12-08T17:03:27.424430Z"
    }
   },
   "outputs": [
    {
     "data": {
      "text/plain": [
       "Unnamed: 0                      0\n",
       "record_id                       0\n",
       "policy_id                       0\n",
       "entry_type                      0\n",
       "correct_type                    0\n",
       "update_type                 34546\n",
       "update_level                36539\n",
       "description                     0\n",
       "date_announced                 14\n",
       "date_start                      0\n",
       "date_end                    23998\n",
       "country                         0\n",
       "ISO_A3                        243\n",
       "ISO_A2                        267\n",
       "init_country_level            162\n",
       "domestic_policy                 0\n",
       "province                    20635\n",
       "city                        43546\n",
       "type                            0\n",
       "type_sub_cat                13819\n",
       "type_text                   43425\n",
       "institution_status          32395\n",
       "target_country               2159\n",
       "target_geog_level           35938\n",
       "target_region               45277\n",
       "target_province             21264\n",
       "target_city                 43083\n",
       "target_other                45640\n",
       "target_who_what             11137\n",
       "target_direction            40128\n",
       "                            ...  \n",
       "recorded_date                   0\n",
       "confirmed_cases              1108\n",
       "deaths                       1108\n",
       "recovered                    1108\n",
       "new_tests                   20343\n",
       "total_tests                 19416\n",
       "total_tests_per_thousand    19416\n",
       "tests_units                 45640\n",
       "Rank_FP                      1792\n",
       "Score_FP                     1792\n",
       "state_IDC                    4459\n",
       "muni_IDC                     5161\n",
       "dispersive_IDC              10642\n",
       "constraining_IDC             7242\n",
       "inclusive_IDC                2841\n",
       "sfi_SFI                      2777\n",
       "ti_cpi_TI                    1743\n",
       "pop_WDI_PW                    952\n",
       "gdp_WDI_PW                   1174\n",
       "gdppc_WDI_PW                 1174\n",
       "growth_WDI_PW                1321\n",
       "lnpop_WDI_PW                  952\n",
       "lngdp_WDI_PW                 1174\n",
       "lngdppc_WDI_PW               1174\n",
       "disap_FA                      892\n",
       "polpris_FA                    892\n",
       "latentmean_FA                 853\n",
       "transparencyindex_HR         9220\n",
       "EmigrantStock_EMS            1249\n",
       "v2x_polyarchy_VDEM           3021\n",
       "Length: 69, dtype: int64"
      ]
     },
     "execution_count": 7,
     "metadata": {},
     "output_type": "execute_result"
    }
   ],
   "source": [
    "# NaNs\n",
    "df.isnull().sum()"
   ]
  },
  {
   "cell_type": "code",
   "execution_count": 8,
   "metadata": {
    "ExecuteTime": {
     "end_time": "2020-12-08T17:03:27.565965Z",
     "start_time": "2020-12-08T17:03:27.554703Z"
    }
   },
   "outputs": [
    {
     "data": {
      "text/plain": [
       "31"
      ]
     },
     "execution_count": 8,
     "metadata": {},
     "output_type": "execute_result"
    }
   ],
   "source": [
    "df['compliance'].nunique()"
   ]
  },
  {
   "cell_type": "code",
   "execution_count": 9,
   "metadata": {
    "ExecuteTime": {
     "end_time": "2020-12-08T17:03:27.599477Z",
     "start_time": "2020-12-08T17:03:27.570085Z"
    }
   },
   "outputs": [],
   "source": [
    "df_2 = df[['policy_id','entry_type','correct_type', \n",
    "           'description', 'date_start','date_end','country', \n",
    "           'type', 'ISO_A3','init_country_level', 'domestic_policy',\n",
    "           'type_sub_cat', 'compliance', 'enforcer']]"
   ]
  },
  {
   "cell_type": "code",
   "execution_count": 10,
   "metadata": {
    "ExecuteTime": {
     "end_time": "2020-12-08T17:03:27.657255Z",
     "start_time": "2020-12-08T17:03:27.622764Z"
    }
   },
   "outputs": [
    {
     "ename": "SyntaxError",
     "evalue": "invalid syntax (<ipython-input-10-ab36016514c1>, line 1)",
     "output_type": "error",
     "traceback": [
      "\u001b[0;36m  File \u001b[0;32m\"<ipython-input-10-ab36016514c1>\"\u001b[0;36m, line \u001b[0;32m1\u001b[0m\n\u001b[0;31m    df_2.shape@\u001b[0m\n\u001b[0m               ^\u001b[0m\n\u001b[0;31mSyntaxError\u001b[0m\u001b[0;31m:\u001b[0m invalid syntax\n"
     ]
    }
   ],
   "source": [
    "df_2.shape@"
   ]
  },
  {
   "cell_type": "code",
   "execution_count": null,
   "metadata": {
    "ExecuteTime": {
     "end_time": "2020-12-08T17:03:27.666925Z",
     "start_time": "2020-12-08T17:03:09.524Z"
    }
   },
   "outputs": [],
   "source": [
    "df_2.isnull().sum()"
   ]
  },
  {
   "cell_type": "code",
   "execution_count": null,
   "metadata": {
    "ExecuteTime": {
     "end_time": "2020-12-08T17:03:27.670216Z",
     "start_time": "2020-12-08T17:03:09.537Z"
    }
   },
   "outputs": [],
   "source": [
    "df_2[df_2['compliance'] == 'Mandatory with Fines,Voluntary/Recommended but No Penalties']"
   ]
  },
  {
   "cell_type": "markdown",
   "metadata": {},
   "source": [
    "## get_dummies sur la colonne type"
   ]
  },
  {
   "cell_type": "code",
   "execution_count": null,
   "metadata": {
    "ExecuteTime": {
     "end_time": "2020-12-08T17:03:27.677097Z",
     "start_time": "2020-12-08T17:03:09.546Z"
    }
   },
   "outputs": [],
   "source": [
    "# commençons par le type (mesures plus simples pour les restrictions pour commencer et possibilité d'encodage)\n",
    "print(df_2['type'].unique())\n",
    "print(df_2['type'].nunique())"
   ]
  },
  {
   "cell_type": "code",
   "execution_count": null,
   "metadata": {
    "ExecuteTime": {
     "end_time": "2020-12-08T17:03:27.682487Z",
     "start_time": "2020-12-08T17:03:09.555Z"
    }
   },
   "outputs": [],
   "source": [
    "df_2 = pd.get_dummies(df_2, columns=[\"type\"]).head()"
   ]
  },
  {
   "cell_type": "markdown",
   "metadata": {
    "ExecuteTime": {
     "end_time": "2020-12-08T10:58:50.748879Z",
     "start_time": "2020-12-08T10:58:50.689387Z"
    }
   },
   "source": [
    "## Encodage des données compliance"
   ]
  },
  {
   "cell_type": "code",
   "execution_count": null,
   "metadata": {
    "ExecuteTime": {
     "end_time": "2020-12-08T17:03:27.685782Z",
     "start_time": "2020-12-08T17:03:09.567Z"
    }
   },
   "outputs": [],
   "source": [
    "for _ in df['compliance'].unique():\n",
    "    print('-'*50)\n",
    "    print(_)"
   ]
  },
  {
   "cell_type": "code",
   "execution_count": null,
   "metadata": {
    "ExecuteTime": {
     "end_time": "2020-12-08T17:03:27.689527Z",
     "start_time": "2020-12-08T17:03:09.572Z"
    }
   },
   "outputs": [],
   "source": [
    "mask = df_2['compliance'].value_counts() > 1000"
   ]
  },
  {
   "cell_type": "code",
   "execution_count": null,
   "metadata": {
    "ExecuteTime": {
     "end_time": "2020-12-08T17:03:27.693050Z",
     "start_time": "2020-12-08T17:03:09.575Z"
    }
   },
   "outputs": [],
   "source": [
    "df_3 = df_2[df_2['compliance'].isin(mask.index)]"
   ]
  },
  {
   "cell_type": "code",
   "execution_count": null,
   "metadata": {
    "ExecuteTime": {
     "end_time": "2020-12-08T17:03:27.698137Z",
     "start_time": "2020-12-08T17:03:09.579Z"
    }
   },
   "outputs": [],
   "source": [
    "def handle_compliance(x):\n",
    "    if 'Voluntary/Recommended but No Penalties' in x:\n",
    "        return 0\n",
    "    if 'Mandatory with Fines':\n",
    "        return 1\n",
    "    if 'Mandatory with Legal Penalties' in x:\n",
    "        return 2\n",
    "    if 'Mandatory with Exceptions' in x:\n",
    "        return 3"
   ]
  },
  {
   "cell_type": "code",
   "execution_count": null,
   "metadata": {
    "ExecuteTime": {
     "end_time": "2020-12-08T17:03:27.702221Z",
     "start_time": "2020-12-08T17:03:09.582Z"
    }
   },
   "outputs": [],
   "source": [
    "df_3['n_compliance'] = df_3['compliance'].map(handle_compliance)"
   ]
  },
  {
   "cell_type": "code",
   "execution_count": null,
   "metadata": {
    "ExecuteTime": {
     "end_time": "2020-12-08T17:03:27.704554Z",
     "start_time": "2020-12-08T17:03:09.584Z"
    }
   },
   "outputs": [],
   "source": [
    "df_3['n_compliance'].nunique()"
   ]
  },
  {
   "cell_type": "markdown",
   "metadata": {},
   "source": [
    " ## Vectorization des données description (pour plus tard)"
   ]
  },
  {
   "cell_type": "code",
   "execution_count": null,
   "metadata": {
    "ExecuteTime": {
     "end_time": "2020-12-08T17:03:27.706933Z",
     "start_time": "2020-12-08T17:03:09.587Z"
    }
   },
   "outputs": [],
   "source": [
    "def clean(x):\n",
    "    x = x.lower()\n",
    "    x = ''.join([letter for letter in x if not letter.isdigit()])\n",
    "    for p in string.punctuation:\n",
    "        x = x.replace(p, \" \")\n",
    "    stops = set(stopwords.words(\"english\"))\n",
    "    tokens = word_tokenize(x)\n",
    "    tokens = ' '.join([token for token in tokens if token not in stops])\n",
    "    return tokens"
   ]
  },
  {
   "cell_type": "code",
   "execution_count": null,
   "metadata": {
    "ExecuteTime": {
     "end_time": "2020-12-08T17:03:27.709350Z",
     "start_time": "2020-12-08T17:03:09.590Z"
    }
   },
   "outputs": [],
   "source": [
    "# données description\n",
    "df_2['clean_description'] = df_2.description.apply(clean)\n",
    "df_2['clean_description'] = df_2['clean_description'].astype('str')"
   ]
  }
 ],
 "metadata": {
  "kernelspec": {
   "display_name": "Python 3",
   "language": "python",
   "name": "python3"
  },
  "language_info": {
   "codemirror_mode": {
    "name": "ipython",
    "version": 3
   },
   "file_extension": ".py",
   "mimetype": "text/x-python",
   "name": "python",
   "nbconvert_exporter": "python",
   "pygments_lexer": "ipython3",
   "version": "3.7.7"
  },
  "toc": {
   "base_numbering": 1,
   "nav_menu": {},
   "number_sections": true,
   "sideBar": true,
   "skip_h1_title": false,
   "title_cell": "Table of Contents",
   "title_sidebar": "Contents",
   "toc_cell": false,
   "toc_position": {},
   "toc_section_display": true,
   "toc_window_display": false
  }
 },
 "nbformat": 4,
 "nbformat_minor": 4
}

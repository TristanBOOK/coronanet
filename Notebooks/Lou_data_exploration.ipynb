{
 "cells": [
  {
   "cell_type": "code",
   "execution_count": 1,
   "metadata": {
    "ExecuteTime": {
     "end_time": "2020-12-08T20:23:59.940822Z",
     "start_time": "2020-12-08T20:23:56.544593Z"
    }
   },
   "outputs": [],
   "source": [
    "import numpy as np\n",
    "import pandas as pd\n",
    "import datetime\n",
    "import pyreadr\n",
    "import pandas as pd\n",
    "from IPython.display import display\n",
    "\n",
    "from sklearn.preprocessing import OneHotEncoder\n",
    "\n",
    "from nltk.corpus import stopwords \n",
    "import string\n",
    "from nltk.stem.wordnet import WordNetLemmatizer\n",
    "from nltk import word_tokenize \n",
    "from sklearn.decomposition import LatentDirichletAllocation\n",
    "from sklearn.feature_extraction.text import CountVectorizer"
   ]
  },
  {
   "cell_type": "markdown",
   "metadata": {},
   "source": [
    "# Unified COVID-19 Dataset"
   ]
  },
  {
   "cell_type": "code",
   "execution_count": 2,
   "metadata": {
    "ExecuteTime": {
     "end_time": "2020-12-08T20:24:13.615507Z",
     "start_time": "2020-12-08T20:23:59.945120Z"
    }
   },
   "outputs": [
    {
     "name": "stdout",
     "output_type": "stream",
     "text": [
      "odict_keys(['Policy'])\n"
     ]
    }
   ],
   "source": [
    "policies_df = pyreadr.read_r('Policy.RData') # also works for Rds\n",
    "print(policies_df.keys()) # let’s check what objects we got"
   ]
  },
  {
   "cell_type": "code",
   "execution_count": 3,
   "metadata": {
    "ExecuteTime": {
     "end_time": "2020-12-08T20:24:13.634119Z",
     "start_time": "2020-12-08T20:24:13.628033Z"
    }
   },
   "outputs": [],
   "source": [
    "policies_df =policies_df['Policy']"
   ]
  },
  {
   "cell_type": "code",
   "execution_count": 4,
   "metadata": {
    "ExecuteTime": {
     "end_time": "2020-12-08T20:24:13.698695Z",
     "start_time": "2020-12-08T20:24:13.639797Z"
    }
   },
   "outputs": [
    {
     "data": {
      "text/html": [
       "<div>\n",
       "<style scoped>\n",
       "    .dataframe tbody tr th:only-of-type {\n",
       "        vertical-align: middle;\n",
       "    }\n",
       "\n",
       "    .dataframe tbody tr th {\n",
       "        vertical-align: top;\n",
       "    }\n",
       "\n",
       "    .dataframe thead th {\n",
       "        text-align: right;\n",
       "    }\n",
       "</style>\n",
       "<table border=\"1\" class=\"dataframe\">\n",
       "  <thead>\n",
       "    <tr style=\"text-align: right;\">\n",
       "      <th></th>\n",
       "      <th>ID</th>\n",
       "      <th>Date</th>\n",
       "      <th>PolicyType</th>\n",
       "      <th>PolicyValue</th>\n",
       "      <th>PolicyFlag</th>\n",
       "      <th>PolicyNotes</th>\n",
       "      <th>PolicySource</th>\n",
       "    </tr>\n",
       "  </thead>\n",
       "  <tbody>\n",
       "    <tr>\n",
       "      <th>0</th>\n",
       "      <td>AD</td>\n",
       "      <td>2020-01-01</td>\n",
       "      <td>C1</td>\n",
       "      <td>0.0</td>\n",
       "      <td>NaN</td>\n",
       "      <td>NaN</td>\n",
       "      <td>OxCGRT</td>\n",
       "    </tr>\n",
       "    <tr>\n",
       "      <th>1</th>\n",
       "      <td>AD</td>\n",
       "      <td>2020-01-01</td>\n",
       "      <td>C2</td>\n",
       "      <td>0.0</td>\n",
       "      <td>NaN</td>\n",
       "      <td>NaN</td>\n",
       "      <td>OxCGRT</td>\n",
       "    </tr>\n",
       "    <tr>\n",
       "      <th>2</th>\n",
       "      <td>AD</td>\n",
       "      <td>2020-01-01</td>\n",
       "      <td>C3</td>\n",
       "      <td>0.0</td>\n",
       "      <td>NaN</td>\n",
       "      <td>NaN</td>\n",
       "      <td>OxCGRT</td>\n",
       "    </tr>\n",
       "    <tr>\n",
       "      <th>3</th>\n",
       "      <td>AD</td>\n",
       "      <td>2020-01-01</td>\n",
       "      <td>C4</td>\n",
       "      <td>0.0</td>\n",
       "      <td>NaN</td>\n",
       "      <td>NaN</td>\n",
       "      <td>OxCGRT</td>\n",
       "    </tr>\n",
       "    <tr>\n",
       "      <th>4</th>\n",
       "      <td>AD</td>\n",
       "      <td>2020-01-01</td>\n",
       "      <td>C5</td>\n",
       "      <td>0.0</td>\n",
       "      <td>NaN</td>\n",
       "      <td>NaN</td>\n",
       "      <td>OxCGRT</td>\n",
       "    </tr>\n",
       "  </tbody>\n",
       "</table>\n",
       "</div>"
      ],
      "text/plain": [
       "   ID        Date PolicyType  PolicyValue PolicyFlag PolicyNotes PolicySource\n",
       "0  AD  2020-01-01         C1          0.0        NaN         NaN       OxCGRT\n",
       "1  AD  2020-01-01         C2          0.0        NaN         NaN       OxCGRT\n",
       "2  AD  2020-01-01         C3          0.0        NaN         NaN       OxCGRT\n",
       "3  AD  2020-01-01         C4          0.0        NaN         NaN       OxCGRT\n",
       "4  AD  2020-01-01         C5          0.0        NaN         NaN       OxCGRT"
      ]
     },
     "execution_count": 4,
     "metadata": {},
     "output_type": "execute_result"
    }
   ],
   "source": [
    "policies_df.head()"
   ]
  },
  {
   "cell_type": "markdown",
   "metadata": {
    "ExecuteTime": {
     "end_time": "2020-12-07T15:21:13.990522Z",
     "start_time": "2020-12-07T15:21:10.119871Z"
    }
   },
   "source": [
    "# Coronanet dataset"
   ]
  },
  {
   "cell_type": "code",
   "execution_count": 5,
   "metadata": {
    "ExecuteTime": {
     "end_time": "2020-12-08T20:24:15.036336Z",
     "start_time": "2020-12-08T20:24:13.713224Z"
    }
   },
   "outputs": [],
   "source": [
    "# import data\n",
    "df = pd.read_csv('coronanet_release_allvars.csv', encoding='mac_roman')"
   ]
  },
  {
   "cell_type": "code",
   "execution_count": 6,
   "metadata": {
    "ExecuteTime": {
     "end_time": "2020-12-08T20:24:15.059570Z",
     "start_time": "2020-12-08T20:24:15.040129Z"
    }
   },
   "outputs": [
    {
     "data": {
      "text/plain": [
       "Index(['Unnamed: 0', 'record_id', 'policy_id', 'entry_type', 'correct_type',\n",
       "       'update_type', 'update_level', 'description', 'date_announced',\n",
       "       'date_start', 'date_end', 'country', 'ISO_A3', 'ISO_A2',\n",
       "       'init_country_level', 'domestic_policy', 'province', 'city', 'type',\n",
       "       'type_sub_cat', 'type_text', 'institution_status', 'target_country',\n",
       "       'target_geog_level', 'target_region', 'target_province', 'target_city',\n",
       "       'target_other', 'target_who_what', 'target_direction',\n",
       "       'travel_mechanism', 'compliance', 'enforcer', 'index_high_est',\n",
       "       'index_med_est', 'index_low_est', 'index_country_rank', 'link',\n",
       "       'date_updated', 'recorded_date', 'confirmed_cases', 'deaths',\n",
       "       'recovered', 'new_tests', 'total_tests', 'total_tests_per_thousand',\n",
       "       'tests_units', 'Rank_FP', 'Score_FP', 'state_IDC', 'muni_IDC',\n",
       "       'dispersive_IDC', 'constraining_IDC', 'inclusive_IDC', 'sfi_SFI',\n",
       "       'ti_cpi_TI', 'pop_WDI_PW', 'gdp_WDI_PW', 'gdppc_WDI_PW',\n",
       "       'growth_WDI_PW', 'lnpop_WDI_PW', 'lngdp_WDI_PW', 'lngdppc_WDI_PW',\n",
       "       'disap_FA', 'polpris_FA', 'latentmean_FA', 'transparencyindex_HR',\n",
       "       'EmigrantStock_EMS', 'v2x_polyarchy_VDEM'],\n",
       "      dtype='object')"
      ]
     },
     "execution_count": 6,
     "metadata": {},
     "output_type": "execute_result"
    }
   ],
   "source": [
    "# colonnes\n",
    "df.columns"
   ]
  },
  {
   "cell_type": "code",
   "execution_count": 7,
   "metadata": {
    "ExecuteTime": {
     "end_time": "2020-12-08T20:24:15.207012Z",
     "start_time": "2020-12-08T20:24:15.073684Z"
    }
   },
   "outputs": [
    {
     "data": {
      "text/plain": [
       "Unnamed: 0                      0\n",
       "record_id                       0\n",
       "policy_id                       0\n",
       "entry_type                      0\n",
       "correct_type                    0\n",
       "update_type                 34546\n",
       "update_level                36539\n",
       "description                     0\n",
       "date_announced                 14\n",
       "date_start                      0\n",
       "date_end                    23998\n",
       "country                         0\n",
       "ISO_A3                        243\n",
       "ISO_A2                        267\n",
       "init_country_level            162\n",
       "domestic_policy                 0\n",
       "province                    20635\n",
       "city                        43546\n",
       "type                            0\n",
       "type_sub_cat                13819\n",
       "type_text                   43425\n",
       "institution_status          32395\n",
       "target_country               2159\n",
       "target_geog_level           35938\n",
       "target_region               45277\n",
       "target_province             21264\n",
       "target_city                 43083\n",
       "target_other                45640\n",
       "target_who_what             11137\n",
       "target_direction            40128\n",
       "                            ...  \n",
       "recorded_date                   0\n",
       "confirmed_cases              1108\n",
       "deaths                       1108\n",
       "recovered                    1108\n",
       "new_tests                   20343\n",
       "total_tests                 19416\n",
       "total_tests_per_thousand    19416\n",
       "tests_units                 45640\n",
       "Rank_FP                      1792\n",
       "Score_FP                     1792\n",
       "state_IDC                    4459\n",
       "muni_IDC                     5161\n",
       "dispersive_IDC              10642\n",
       "constraining_IDC             7242\n",
       "inclusive_IDC                2841\n",
       "sfi_SFI                      2777\n",
       "ti_cpi_TI                    1743\n",
       "pop_WDI_PW                    952\n",
       "gdp_WDI_PW                   1174\n",
       "gdppc_WDI_PW                 1174\n",
       "growth_WDI_PW                1321\n",
       "lnpop_WDI_PW                  952\n",
       "lngdp_WDI_PW                 1174\n",
       "lngdppc_WDI_PW               1174\n",
       "disap_FA                      892\n",
       "polpris_FA                    892\n",
       "latentmean_FA                 853\n",
       "transparencyindex_HR         9220\n",
       "EmigrantStock_EMS            1249\n",
       "v2x_polyarchy_VDEM           3021\n",
       "Length: 69, dtype: int64"
      ]
     },
     "execution_count": 7,
     "metadata": {},
     "output_type": "execute_result"
    }
   ],
   "source": [
    "# NaNs\n",
    "df.isnull().sum()"
   ]
  },
  {
   "cell_type": "code",
   "execution_count": 8,
   "metadata": {
    "ExecuteTime": {
     "end_time": "2020-12-08T20:24:15.236722Z",
     "start_time": "2020-12-08T20:24:15.218526Z"
    }
   },
   "outputs": [],
   "source": [
    "df_2 = df[['policy_id','entry_type','correct_type', \n",
    "           'description', 'date_start','date_end','country', \n",
    "           'type', 'ISO_A3','init_country_level', 'domestic_policy',\n",
    "           'type_sub_cat', 'compliance', 'enforcer']]"
   ]
  },
  {
   "cell_type": "code",
   "execution_count": 9,
   "metadata": {
    "ExecuteTime": {
     "end_time": "2020-12-08T20:24:15.265806Z",
     "start_time": "2020-12-08T20:24:15.241106Z"
    }
   },
   "outputs": [
    {
     "data": {
      "text/plain": [
       "(45640, 14)"
      ]
     },
     "execution_count": 9,
     "metadata": {},
     "output_type": "execute_result"
    }
   ],
   "source": [
    "df_2.shape"
   ]
  },
  {
   "cell_type": "code",
   "execution_count": 10,
   "metadata": {
    "ExecuteTime": {
     "end_time": "2020-12-08T20:24:15.382088Z",
     "start_time": "2020-12-08T20:24:15.285898Z"
    }
   },
   "outputs": [
    {
     "data": {
      "text/plain": [
       "policy_id                 0\n",
       "entry_type                0\n",
       "correct_type              0\n",
       "description               0\n",
       "date_start                0\n",
       "date_end              23998\n",
       "country                   0\n",
       "type                      0\n",
       "ISO_A3                  243\n",
       "init_country_level      162\n",
       "domestic_policy           0\n",
       "type_sub_cat          13819\n",
       "compliance              244\n",
       "enforcer                154\n",
       "dtype: int64"
      ]
     },
     "execution_count": 10,
     "metadata": {},
     "output_type": "execute_result"
    }
   ],
   "source": [
    "df_2.isnull().sum()"
   ]
  },
  {
   "cell_type": "code",
   "execution_count": 11,
   "metadata": {
    "ExecuteTime": {
     "end_time": "2020-12-08T20:24:15.405177Z",
     "start_time": "2020-12-08T20:24:15.388113Z"
    }
   },
   "outputs": [
    {
     "name": "stdout",
     "output_type": "stream",
     "text": [
      "['Anti-Disinformation Measures' 'Closure and Regulation of Schools'\n",
      " 'Curfew' 'Declaration of Emergency' 'External Border Restrictions'\n",
      " 'Health Monitoring' 'Health Resources' 'Health Testing' 'Hygiene'\n",
      " 'Internal Border Restrictions' 'Lockdown'\n",
      " 'New Task Force, Bureau or Administrative Configuration'\n",
      " 'Other Policy Not Listed Above' 'Public Awareness Measures' 'Quarantine'\n",
      " 'Restriction and Regulation of Businesses'\n",
      " 'Restriction and Regulation of Government Services'\n",
      " 'Restrictions of Mass Gatherings' 'Social Distancing']\n",
      "19\n"
     ]
    }
   ],
   "source": [
    "# commençons par le type (mesures plus simples pour les restrictions pour commencer et possibilité d'encodage)\n",
    "print(df_2['type'].unique())\n",
    "print(df_2['type'].nunique())"
   ]
  },
  {
   "cell_type": "markdown",
   "metadata": {
    "ExecuteTime": {
     "end_time": "2020-12-08T10:58:50.748879Z",
     "start_time": "2020-12-08T10:58:50.689387Z"
    }
   },
   "source": [
    "## Encodage des données compliance"
   ]
  },
  {
   "cell_type": "code",
   "execution_count": 12,
   "metadata": {
    "ExecuteTime": {
     "end_time": "2020-12-08T20:24:15.434255Z",
     "start_time": "2020-12-08T20:24:15.411050Z"
    }
   },
   "outputs": [
    {
     "name": "stdout",
     "output_type": "stream",
     "text": [
      "--------------------------------------------------\n",
      "Voluntary/Recommended but No Penalties\n",
      "--------------------------------------------------\n",
      "Mandatory (Unspecified/Implied)\n",
      "--------------------------------------------------\n",
      "Mandatory with Exceptions (Please list exceptions in the text entry)\n",
      "--------------------------------------------------\n",
      "nan\n",
      "--------------------------------------------------\n",
      "Mandatory with Legal Penalties (Jail Time)\n",
      "--------------------------------------------------\n",
      "Mandatory with Legal Penalties (Jail Time),Mandatory with Fines\n",
      "--------------------------------------------------\n",
      "Mandatory with Fines\n",
      "--------------------------------------------------\n",
      "Mandatory (Unspecified/Implied),Mandatory (Other; please list other enforcement mechanisms in the text entry)\n",
      "--------------------------------------------------\n",
      "Mandatory with Legal Penalties (Jail Time),Mandatory (Unspecified/Implied)\n",
      "--------------------------------------------------\n",
      "Mandatory with Legal Penalties (Jail Time),Mandatory with Fines,Mandatory (Unspecified/Implied)\n",
      "--------------------------------------------------\n",
      "Mandatory with Legal Penalties (Jail Time),Mandatory (Unspecified/Implied),Mandatory (Other; please list other enforcement mechanisms in the text entry)\n",
      "--------------------------------------------------\n",
      "Mandatory (Other; please list other enforcement mechanisms in the text entry)\n",
      "--------------------------------------------------\n",
      "Mandatory with Legal Penalties (Jail Time),Mandatory with Fines,Mandatory (Other; please list other enforcement mechanisms in the text entry)\n",
      "--------------------------------------------------\n",
      "Mandatory with Legal Penalties (Jail Time),Mandatory (Other; please list other enforcement mechanisms in the text entry)\n",
      "--------------------------------------------------\n",
      "Mandatory (Unspecified/Implied),Mandatory with Exceptions (Please list exceptions in the text entry)\n",
      "--------------------------------------------------\n",
      "Mandatory with Fines,Mandatory (Other; please list other enforcement mechanisms in the text entry)\n",
      "--------------------------------------------------\n",
      "Mandatory with Legal Penalties (Jail Time),Mandatory with Fines,Mandatory with Exceptions (Please list exceptions in the text entry)\n",
      "--------------------------------------------------\n",
      "Mandatory with Legal Penalties (Jail Time),Mandatory with Exceptions (Please list exceptions in the text entry)\n",
      "--------------------------------------------------\n",
      "Mandatory with Fines,Mandatory with Exceptions (Please list exceptions in the text entry)\n",
      "--------------------------------------------------\n",
      "Mandatory with Fines,Mandatory (Unspecified/Implied)\n",
      "--------------------------------------------------\n",
      "Mandatory (Unspecified/Implied),Voluntary/Recommended but No Penalties\n",
      "--------------------------------------------------\n",
      "Mandatory with Exceptions (Please list exceptions in the text entry),Mandatory (Other; please list other enforcement mechanisms in the text entry)\n",
      "--------------------------------------------------\n",
      "Mandatory with Exceptions (Please list exceptions in the text entry),Voluntary/Recommended but No Penalties\n",
      "--------------------------------------------------\n",
      "Mandatory with Fines,Mandatory (Unspecified/Implied),Mandatory with Exceptions (Please list exceptions in the text entry)\n",
      "--------------------------------------------------\n",
      "Mandatory with Legal Penalties (Jail Time),Mandatory (Unspecified/Implied),Mandatory with Exceptions (Please list exceptions in the text entry)\n",
      "--------------------------------------------------\n",
      "Mandatory (Unspecified/Implied),Mandatory with Exceptions (Please list exceptions in the text entry),Mandatory (Other; please list other enforcement mechanisms in the text entry)\n",
      "--------------------------------------------------\n",
      "Mandatory with Legal Penalties (Jail Time),Mandatory with Fines,Mandatory (Unspecified/Implied),Mandatory with Exceptions (Please list exceptions in the text entry)\n",
      "--------------------------------------------------\n",
      "Mandatory with Fines,Mandatory (Unspecified/Implied),Mandatory (Other; please list other enforcement mechanisms in the text entry)\n",
      "--------------------------------------------------\n",
      "Mandatory with Fines,Mandatory with Exceptions (Please list exceptions in the text entry),Mandatory (Other; please list other enforcement mechanisms in the text entry)\n",
      "--------------------------------------------------\n",
      "Mandatory with Legal Penalties (Jail Time),Voluntary/Recommended but No Penalties\n",
      "--------------------------------------------------\n",
      "Mandatory with Fines,Mandatory (Unspecified/Implied),Mandatory with Exceptions (Please list exceptions in the text entry),Voluntary/Recommended but No Penalties\n",
      "--------------------------------------------------\n",
      "Mandatory with Fines,Voluntary/Recommended but No Penalties\n"
     ]
    }
   ],
   "source": [
    "for _ in df_2['compliance'].unique():\n",
    "    print('-'*50)\n",
    "    print(_)"
   ]
  },
  {
   "cell_type": "code",
   "execution_count": 13,
   "metadata": {
    "ExecuteTime": {
     "end_time": "2020-12-08T20:24:15.496097Z",
     "start_time": "2020-12-08T20:24:15.451649Z"
    }
   },
   "outputs": [],
   "source": [
    "mask = df_2['compliance'].value_counts() > 1000"
   ]
  },
  {
   "cell_type": "code",
   "execution_count": 14,
   "metadata": {
    "ExecuteTime": {
     "end_time": "2020-12-08T20:24:15.529602Z",
     "start_time": "2020-12-08T20:24:15.502243Z"
    }
   },
   "outputs": [],
   "source": [
    "df_2 = df_2[df_2['compliance'].isin(mask.index)]"
   ]
  },
  {
   "cell_type": "code",
   "execution_count": 15,
   "metadata": {
    "ExecuteTime": {
     "end_time": "2020-12-08T20:24:15.586303Z",
     "start_time": "2020-12-08T20:24:15.535184Z"
    }
   },
   "outputs": [
    {
     "data": {
      "text/html": [
       "<div>\n",
       "<style scoped>\n",
       "    .dataframe tbody tr th:only-of-type {\n",
       "        vertical-align: middle;\n",
       "    }\n",
       "\n",
       "    .dataframe tbody tr th {\n",
       "        vertical-align: top;\n",
       "    }\n",
       "\n",
       "    .dataframe thead th {\n",
       "        text-align: right;\n",
       "    }\n",
       "</style>\n",
       "<table border=\"1\" class=\"dataframe\">\n",
       "  <thead>\n",
       "    <tr style=\"text-align: right;\">\n",
       "      <th></th>\n",
       "      <th>policy_id</th>\n",
       "      <th>entry_type</th>\n",
       "      <th>correct_type</th>\n",
       "      <th>description</th>\n",
       "      <th>date_start</th>\n",
       "      <th>date_end</th>\n",
       "      <th>country</th>\n",
       "      <th>type</th>\n",
       "      <th>ISO_A3</th>\n",
       "      <th>init_country_level</th>\n",
       "      <th>domestic_policy</th>\n",
       "      <th>type_sub_cat</th>\n",
       "      <th>compliance</th>\n",
       "      <th>enforcer</th>\n",
       "    </tr>\n",
       "  </thead>\n",
       "  <tbody>\n",
       "    <tr>\n",
       "      <th>0</th>\n",
       "      <td>2975738</td>\n",
       "      <td>new_entry</td>\n",
       "      <td>original</td>\n",
       "      <td>March 6, Afghanistan \"Measures have been taken...</td>\n",
       "      <td>2020-03-06</td>\n",
       "      <td>NaN</td>\n",
       "      <td>Afghanistan</td>\n",
       "      <td>Anti-Disinformation Measures</td>\n",
       "      <td>AFG</td>\n",
       "      <td>National</td>\n",
       "      <td>0</td>\n",
       "      <td>NaN</td>\n",
       "      <td>Voluntary/Recommended but No Penalties</td>\n",
       "      <td>Ministry/Department of Health,Other (Please sp...</td>\n",
       "    </tr>\n",
       "    <tr>\n",
       "      <th>1</th>\n",
       "      <td>7024226</td>\n",
       "      <td>new_entry</td>\n",
       "      <td>original</td>\n",
       "      <td>March 16, In Afghanistan the Government Media ...</td>\n",
       "      <td>2020-03-16</td>\n",
       "      <td>NaN</td>\n",
       "      <td>Afghanistan</td>\n",
       "      <td>Anti-Disinformation Measures</td>\n",
       "      <td>AFG</td>\n",
       "      <td>National</td>\n",
       "      <td>0</td>\n",
       "      <td>NaN</td>\n",
       "      <td>Mandatory (Unspecified/Implied)</td>\n",
       "      <td>National Government,New (COVID-19 specific) Ta...</td>\n",
       "    </tr>\n",
       "    <tr>\n",
       "      <th>2</th>\n",
       "      <td>889484</td>\n",
       "      <td>new_entry</td>\n",
       "      <td>original</td>\n",
       "      <td>Afghanistan, May 28 \"a government livelihood s...</td>\n",
       "      <td>2020-05-28</td>\n",
       "      <td>NaN</td>\n",
       "      <td>Afghanistan</td>\n",
       "      <td>Anti-Disinformation Measures</td>\n",
       "      <td>AFG</td>\n",
       "      <td>National</td>\n",
       "      <td>1</td>\n",
       "      <td>NaN</td>\n",
       "      <td>Voluntary/Recommended but No Penalties</td>\n",
       "      <td>National Government,Other (Please specify in t...</td>\n",
       "    </tr>\n",
       "    <tr>\n",
       "      <th>3</th>\n",
       "      <td>129322</td>\n",
       "      <td>new_entry</td>\n",
       "      <td>original</td>\n",
       "      <td>Afghanistan, June 28 \"Public awareness campaig...</td>\n",
       "      <td>2020-06-28</td>\n",
       "      <td>NaN</td>\n",
       "      <td>Afghanistan</td>\n",
       "      <td>Anti-Disinformation Measures</td>\n",
       "      <td>AFG</td>\n",
       "      <td>National</td>\n",
       "      <td>0</td>\n",
       "      <td>NaN</td>\n",
       "      <td>Voluntary/Recommended but No Penalties</td>\n",
       "      <td>National Government,Other (Please specify in t...</td>\n",
       "    </tr>\n",
       "    <tr>\n",
       "      <th>4</th>\n",
       "      <td>6721435</td>\n",
       "      <td>new_entry</td>\n",
       "      <td>correction</td>\n",
       "      <td>\"All schools in Herat ñ including temporarily ...</td>\n",
       "      <td>2020-03-09</td>\n",
       "      <td>NaN</td>\n",
       "      <td>Afghanistan</td>\n",
       "      <td>Closure and Regulation of Schools</td>\n",
       "      <td>AFG</td>\n",
       "      <td>Municipal</td>\n",
       "      <td>0</td>\n",
       "      <td>Preschool or childcare facilities (generally f...</td>\n",
       "      <td>Mandatory (Unspecified/Implied)</td>\n",
       "      <td>Provincial/State Government</td>\n",
       "    </tr>\n",
       "  </tbody>\n",
       "</table>\n",
       "</div>"
      ],
      "text/plain": [
       "   policy_id entry_type correct_type  \\\n",
       "0    2975738  new_entry     original   \n",
       "1    7024226  new_entry     original   \n",
       "2     889484  new_entry     original   \n",
       "3     129322  new_entry     original   \n",
       "4    6721435  new_entry   correction   \n",
       "\n",
       "                                         description  date_start date_end  \\\n",
       "0  March 6, Afghanistan \"Measures have been taken...  2020-03-06      NaN   \n",
       "1  March 16, In Afghanistan the Government Media ...  2020-03-16      NaN   \n",
       "2  Afghanistan, May 28 \"a government livelihood s...  2020-05-28      NaN   \n",
       "3  Afghanistan, June 28 \"Public awareness campaig...  2020-06-28      NaN   \n",
       "4  \"All schools in Herat ñ including temporarily ...  2020-03-09      NaN   \n",
       "\n",
       "       country                               type ISO_A3 init_country_level  \\\n",
       "0  Afghanistan       Anti-Disinformation Measures    AFG           National   \n",
       "1  Afghanistan       Anti-Disinformation Measures    AFG           National   \n",
       "2  Afghanistan       Anti-Disinformation Measures    AFG           National   \n",
       "3  Afghanistan       Anti-Disinformation Measures    AFG           National   \n",
       "4  Afghanistan  Closure and Regulation of Schools    AFG          Municipal   \n",
       "\n",
       "   domestic_policy                                       type_sub_cat  \\\n",
       "0                0                                                NaN   \n",
       "1                0                                                NaN   \n",
       "2                1                                                NaN   \n",
       "3                0                                                NaN   \n",
       "4                0  Preschool or childcare facilities (generally f...   \n",
       "\n",
       "                               compliance  \\\n",
       "0  Voluntary/Recommended but No Penalties   \n",
       "1         Mandatory (Unspecified/Implied)   \n",
       "2  Voluntary/Recommended but No Penalties   \n",
       "3  Voluntary/Recommended but No Penalties   \n",
       "4         Mandatory (Unspecified/Implied)   \n",
       "\n",
       "                                            enforcer  \n",
       "0  Ministry/Department of Health,Other (Please sp...  \n",
       "1  National Government,New (COVID-19 specific) Ta...  \n",
       "2  National Government,Other (Please specify in t...  \n",
       "3  National Government,Other (Please specify in t...  \n",
       "4                        Provincial/State Government  "
      ]
     },
     "execution_count": 15,
     "metadata": {},
     "output_type": "execute_result"
    }
   ],
   "source": [
    "df_2.head()"
   ]
  },
  {
   "cell_type": "code",
   "execution_count": 16,
   "metadata": {
    "ExecuteTime": {
     "end_time": "2020-12-08T20:24:15.609825Z",
     "start_time": "2020-12-08T20:24:15.596392Z"
    }
   },
   "outputs": [],
   "source": [
    "def handle_compliance(x):\n",
    "    if 'Voluntary/Recommended' in x:\n",
    "        return 0\n",
    "    if 'Mandatory (Unspecified/Implied)' in x:\n",
    "        return 1\n",
    "    if 'Mandatory with Fines' in x:\n",
    "        return 2\n",
    "    if 'Mandatory with Exceptions' in x:\n",
    "        return 3\n",
    "    if 'Mandatory with Legal Penalties' in x:\n",
    "        return 4"
   ]
  },
  {
   "cell_type": "code",
   "execution_count": 17,
   "metadata": {
    "ExecuteTime": {
     "end_time": "2020-12-08T20:24:15.724241Z",
     "start_time": "2020-12-08T20:24:15.622063Z"
    }
   },
   "outputs": [],
   "source": [
    "df_2['n_compliance'] = df_2['compliance'].map(handle_compliance)"
   ]
  },
  {
   "cell_type": "code",
   "execution_count": 18,
   "metadata": {
    "ExecuteTime": {
     "end_time": "2020-12-08T20:24:15.746282Z",
     "start_time": "2020-12-08T20:24:15.729201Z"
    }
   },
   "outputs": [
    {
     "data": {
      "text/plain": [
       "5"
      ]
     },
     "execution_count": 18,
     "metadata": {},
     "output_type": "execute_result"
    }
   ],
   "source": [
    "df_2['n_compliance'].nunique()"
   ]
  },
  {
   "cell_type": "markdown",
   "metadata": {},
   "source": [
    "## Encode type colonne"
   ]
  },
  {
   "cell_type": "code",
   "execution_count": 19,
   "metadata": {
    "ExecuteTime": {
     "end_time": "2020-12-08T20:24:15.782628Z",
     "start_time": "2020-12-08T20:24:15.758583Z"
    }
   },
   "outputs": [
    {
     "data": {
      "text/plain": [
       "array(['Anti-Disinformation Measures',\n",
       "       'Closure and Regulation of Schools', 'Curfew',\n",
       "       'Declaration of Emergency', 'External Border Restrictions',\n",
       "       'Health Monitoring', 'Health Resources', 'Health Testing',\n",
       "       'Hygiene', 'Internal Border Restrictions', 'Lockdown',\n",
       "       'New Task Force, Bureau or Administrative Configuration',\n",
       "       'Other Policy Not Listed Above', 'Public Awareness Measures',\n",
       "       'Quarantine', 'Restriction and Regulation of Businesses',\n",
       "       'Restriction and Regulation of Government Services',\n",
       "       'Restrictions of Mass Gatherings', 'Social Distancing'],\n",
       "      dtype=object)"
      ]
     },
     "execution_count": 19,
     "metadata": {},
     "output_type": "execute_result"
    }
   ],
   "source": [
    "df_2['type'].unique()"
   ]
  },
  {
   "cell_type": "code",
   "execution_count": 20,
   "metadata": {
    "ExecuteTime": {
     "end_time": "2020-12-08T20:24:15.832724Z",
     "start_time": "2020-12-08T20:24:15.791007Z"
    }
   },
   "outputs": [],
   "source": [
    "df_3 = pd.get_dummies(df_2, columns=[\"type\"]).head()"
   ]
  },
  {
   "cell_type": "code",
   "execution_count": 21,
   "metadata": {
    "ExecuteTime": {
     "end_time": "2020-12-08T20:24:15.850331Z",
     "start_time": "2020-12-08T20:24:15.838833Z"
    }
   },
   "outputs": [
    {
     "data": {
      "text/plain": [
       "Index(['policy_id', 'entry_type', 'correct_type', 'description', 'date_start',\n",
       "       'date_end', 'country', 'ISO_A3', 'init_country_level',\n",
       "       'domestic_policy', 'type_sub_cat', 'compliance', 'enforcer',\n",
       "       'n_compliance', 'type_Anti-Disinformation Measures',\n",
       "       'type_Closure and Regulation of Schools', 'type_Curfew',\n",
       "       'type_Declaration of Emergency', 'type_External Border Restrictions',\n",
       "       'type_Health Monitoring', 'type_Health Resources',\n",
       "       'type_Health Testing', 'type_Hygiene',\n",
       "       'type_Internal Border Restrictions', 'type_Lockdown',\n",
       "       'type_New Task Force, Bureau or Administrative Configuration',\n",
       "       'type_Other Policy Not Listed Above', 'type_Public Awareness Measures',\n",
       "       'type_Quarantine', 'type_Restriction and Regulation of Businesses',\n",
       "       'type_Restriction and Regulation of Government Services',\n",
       "       'type_Restrictions of Mass Gatherings', 'type_Social Distancing'],\n",
       "      dtype='object')"
      ]
     },
     "execution_count": 21,
     "metadata": {},
     "output_type": "execute_result"
    }
   ],
   "source": [
    "df_3.columns"
   ]
  },
  {
   "cell_type": "markdown",
   "metadata": {},
   "source": [
    "## Handle missing value for ISO_3"
   ]
  },
  {
   "cell_type": "code",
   "execution_count": 22,
   "metadata": {
    "ExecuteTime": {
     "end_time": "2020-12-08T20:24:15.888205Z",
     "start_time": "2020-12-08T20:24:15.874234Z"
    }
   },
   "outputs": [
    {
     "data": {
      "text/plain": [
       "array(['AFG', 'ALB', 'DZA', 'AND', 'AGO', 'ATG', 'ARG', 'ARM', 'AUS',\n",
       "       'AUT', 'AZE', 'BHS', 'BHR', 'BGD', 'BRB', 'BLR', 'BEL', 'BLZ',\n",
       "       'BEN', 'BTN', 'BOL', 'BIH', 'BWA', 'BRA', 'BRN', 'BGR', 'BFA',\n",
       "       'BDI', 'KHM', 'CMR', 'CAN', 'CPV', 'CAF', 'TCD', 'CHL', 'CHN',\n",
       "       'COL', 'COM', 'CRI', nan, 'HRV', 'CUB', 'CYP', 'CZE', 'COD', 'DNK',\n",
       "       'DJI', 'DMA', 'DOM', 'ECU', 'EGY', 'SLV', 'GNQ', 'ERI', 'EST',\n",
       "       'SWZ', 'ETH', 'FJI', 'FIN', 'FRA', 'GAB', 'GMB', 'GEO', 'DEU',\n",
       "       'GHA', 'GRC', 'GRD', 'GTM', 'GIN', 'GNB', 'GUY', 'HTI', 'HND',\n",
       "       'HKG', 'HUN', 'ISL', 'IND', 'IDN', 'IRN', 'IRQ', 'IRL', 'ISR',\n",
       "       'ITA', 'CIV', 'JAM', 'JPN', 'JOR', 'KAZ', 'KEN', 'KIR', '-', 'KWT',\n",
       "       'KGZ', 'LAO', 'LVA', 'LBN', 'LSO', 'LBR', 'LBY', 'LIE', 'LTU',\n",
       "       'LUX', 'MDG', 'MWI', 'MYS', 'MDV', 'MLI', 'MLT', 'MHL', 'MRT',\n",
       "       'MUS', 'MEX', 'FSM', 'MDA', 'MCO', 'MNG', 'MNE', 'MAR', 'MOZ',\n",
       "       'MMR', 'NAM', 'NRU', 'NPL', 'NLD', 'NZL', 'NIC', 'NER', 'NGA',\n",
       "       'PRK', 'MKD', 'NOR', 'OMN', 'PAK', 'PLW', 'PSE', 'PAN', 'PNG',\n",
       "       'PRY', 'PER', 'PHL', 'POL', 'PRT', 'QAT', 'COG', 'ROU', 'RUS',\n",
       "       'RWA', 'KNA', 'LCA', 'VCT', 'WSM', 'SMR', 'STP', 'SAU', 'SEN',\n",
       "       'SRB', 'SYC', 'SLE', 'SGP', 'SVK', 'SVN', 'SLB', 'SOM', 'ZAF',\n",
       "       'KOR', 'SSD', 'ESP', 'LKA', 'SDN', 'SUR', 'SWE', 'CHE', 'SYR',\n",
       "       'TWN', 'TJK', 'TZA', 'THA', 'TGO', 'TON', 'TTO', 'TUN', 'TUR',\n",
       "       'TKM', 'TUV', 'UGA', 'UKR', 'ARE', 'GBR', 'USA', 'URY', 'UZB',\n",
       "       'VUT', 'VAT', 'VEN', 'VNM', 'YEM', 'ZMB', 'ZWE'], dtype=object)"
      ]
     },
     "execution_count": 22,
     "metadata": {},
     "output_type": "execute_result"
    }
   ],
   "source": [
    "df_2['ISO_A3'].unique()"
   ]
  },
  {
   "cell_type": "code",
   "execution_count": 23,
   "metadata": {
    "ExecuteTime": {
     "end_time": "2020-12-08T20:24:15.909280Z",
     "start_time": "2020-12-08T20:24:15.896753Z"
    }
   },
   "outputs": [],
   "source": [
    "df_2['ISO_A3'] = np.where(df_2['ISO_A3'] == '-', df_2['country'], df_2['ISO_A3'])"
   ]
  },
  {
   "cell_type": "code",
   "execution_count": 24,
   "metadata": {
    "ExecuteTime": {
     "end_time": "2020-12-08T20:24:15.934140Z",
     "start_time": "2020-12-08T20:24:15.914615Z"
    }
   },
   "outputs": [],
   "source": [
    "df_2['ISO_A3'] = df_2['ISO_A3'].replace('Northern Cyprus', 'CYP')\n",
    "df_2['ISO_A3'] = df_2['ISO_A3'].replace('Kosovo', 'XK')"
   ]
  },
  {
   "cell_type": "code",
   "execution_count": 29,
   "metadata": {
    "ExecuteTime": {
     "end_time": "2020-12-08T20:25:35.040609Z",
     "start_time": "2020-12-08T20:25:35.025306Z"
    }
   },
   "outputs": [
    {
     "data": {
      "text/plain": [
       "array(['AFG', 'ALB', 'DZA', 'AND', 'AGO', 'ATG', 'ARG', 'ARM', 'AUS',\n",
       "       'AUT', 'AZE', 'BHS', 'BHR', 'BGD', 'BRB', 'BLR', 'BEL', 'BLZ',\n",
       "       'BEN', 'BTN', 'BOL', 'BIH', 'BWA', 'BRA', 'BRN', 'BGR', 'BFA',\n",
       "       'BDI', 'KHM', 'CMR', 'CAN', 'CPV', 'CAF', 'TCD', 'CHL', 'CHN',\n",
       "       'COL', 'COM', 'CRI', nan, 'HRV', 'CUB', 'CYP', 'CZE', 'COD', 'DNK',\n",
       "       'DJI', 'DMA', 'DOM', 'ECU', 'EGY', 'SLV', 'GNQ', 'ERI', 'EST',\n",
       "       'SWZ', 'ETH', 'FJI', 'FIN', 'FRA', 'GAB', 'GMB', 'GEO', 'DEU',\n",
       "       'GHA', 'GRC', 'GRD', 'GTM', 'GIN', 'GNB', 'GUY', 'HTI', 'HND',\n",
       "       'HKG', 'HUN', 'ISL', 'IND', 'IDN', 'IRN', 'IRQ', 'IRL', 'ISR',\n",
       "       'ITA', 'CIV', 'JAM', 'JPN', 'JOR', 'KAZ', 'KEN', 'KIR', 'XK',\n",
       "       'KWT', 'KGZ', 'LAO', 'LVA', 'LBN', 'LSO', 'LBR', 'LBY', 'LIE',\n",
       "       'LTU', 'LUX', 'MDG', 'MWI', 'MYS', 'MDV', 'MLI', 'MLT', 'MHL',\n",
       "       'MRT', 'MUS', 'MEX', 'FSM', 'MDA', 'MCO', 'MNG', 'MNE', 'MAR',\n",
       "       'MOZ', 'MMR', 'NAM', 'NRU', 'NPL', 'NLD', 'NZL', 'NIC', 'NER',\n",
       "       'NGA', 'PRK', 'MKD', 'NOR', 'OMN', 'PAK', 'PLW', 'PSE', 'PAN',\n",
       "       'PNG', 'PRY', 'PER', 'PHL', 'POL', 'PRT', 'QAT', 'COG', 'ROU',\n",
       "       'RUS', 'RWA', 'KNA', 'LCA', 'VCT', 'WSM', 'SMR', 'STP', 'SAU',\n",
       "       'SEN', 'SRB', 'SYC', 'SLE', 'SGP', 'SVK', 'SVN', 'SLB', 'SOM',\n",
       "       'ZAF', 'KOR', 'SSD', 'ESP', 'LKA', 'SDN', 'SUR', 'SWE', 'CHE',\n",
       "       'SYR', 'TWN', 'TJK', 'TZA', 'THA', 'TGO', 'TON', 'TTO', 'TUN',\n",
       "       'TUR', 'TKM', 'TUV', 'UGA', 'UKR', 'ARE', 'GBR', 'USA', 'URY',\n",
       "       'UZB', 'VUT', 'VAT', 'VEN', 'VNM', 'YEM', 'ZMB', 'ZWE'],\n",
       "      dtype=object)"
      ]
     },
     "execution_count": 29,
     "metadata": {},
     "output_type": "execute_result"
    }
   ],
   "source": [
    "df_2['ISO_A3'].unique()"
   ]
  },
  {
   "cell_type": "code",
   "execution_count": 30,
   "metadata": {
    "ExecuteTime": {
     "end_time": "2020-12-08T20:25:52.672127Z",
     "start_time": "2020-12-08T20:25:52.654243Z"
    }
   },
   "outputs": [
    {
     "data": {
      "text/plain": [
       "RUS    5716\n",
       "USA    5058\n",
       "DEU    2279\n",
       "CHE    1880\n",
       "JPN    1770\n",
       "ARG    1529\n",
       "NGA    1111\n",
       "BRA    1085\n",
       "CAN     985\n",
       "IDN     954\n",
       "IND     891\n",
       "AUS     674\n",
       "CHN     669\n",
       "ESP     417\n",
       "DZA     416\n",
       "BGD     413\n",
       "MEX     358\n",
       "NZL     352\n",
       "AFG     347\n",
       "QAT     346\n",
       "ITA     330\n",
       "KAZ     318\n",
       "MMR     317\n",
       "AUT     316\n",
       "ISR     301\n",
       "LBN     297\n",
       "ARE     295\n",
       "FRA     291\n",
       "GTM     284\n",
       "AZE     284\n",
       "       ... \n",
       "MLT      35\n",
       "LTU      34\n",
       "BFA      33\n",
       "DJI      32\n",
       "NER      31\n",
       "STP      31\n",
       "PRY      31\n",
       "ZMB      30\n",
       "SRB      29\n",
       "COD      27\n",
       "KIR      27\n",
       "NAM      23\n",
       "COG      23\n",
       "MWI      21\n",
       "XK       21\n",
       "KHM      20\n",
       "FSM      20\n",
       "DMA      20\n",
       "CAF      20\n",
       "LBR      18\n",
       "SOM      18\n",
       "SYR      17\n",
       "MOZ      16\n",
       "TUV      15\n",
       "SEN      15\n",
       "CPV      14\n",
       "GIN      12\n",
       "SLE      12\n",
       "LCA       8\n",
       "MHL       7\n",
       "Name: ISO_A3, Length: 197, dtype: int64"
      ]
     },
     "execution_count": 30,
     "metadata": {},
     "output_type": "execute_result"
    }
   ],
   "source": [
    "df_2['ISO_A3'].value_counts()"
   ]
  },
  {
   "cell_type": "markdown",
   "metadata": {},
   "source": [
    " ## Vectorization des données description (pour plus tard)"
   ]
  },
  {
   "cell_type": "code",
   "execution_count": 43,
   "metadata": {
    "ExecuteTime": {
     "end_time": "2020-12-08T20:41:21.012688Z",
     "start_time": "2020-12-08T20:41:21.005848Z"
    }
   },
   "outputs": [],
   "source": [
    "def clean(x):\n",
    "    x = x.lower()\n",
    "    x = ''.join([letter for letter in x if not letter.isdigit()])\n",
    "    for p in string.punctuation:\n",
    "        x = x.replace(p, \" \")\n",
    "    stops = set(stopwords.words(\"english\"))\n",
    "    tokens = word_tokenize(x)\n",
    "    tokens = ' '.join([token for token in tokens if token not in stops])\n",
    "    return tokens"
   ]
  },
  {
   "cell_type": "code",
   "execution_count": 44,
   "metadata": {
    "ExecuteTime": {
     "end_time": "2020-12-08T20:41:53.716598Z",
     "start_time": "2020-12-08T20:41:21.363085Z"
    }
   },
   "outputs": [],
   "source": [
    "# données description\n",
    "df_2['clean_description'] = df_2.description.apply(clean)\n",
    "df_2['clean_description'] = df_2['clean_description'].astype('str')"
   ]
  },
  {
   "cell_type": "code",
   "execution_count": 45,
   "metadata": {
    "ExecuteTime": {
     "end_time": "2020-12-08T20:41:55.487483Z",
     "start_time": "2020-12-08T20:41:53.720591Z"
    }
   },
   "outputs": [],
   "source": [
    "from sklearn.feature_extraction.text import CountVectorizer\n",
    "\n",
    "vectorizer = CountVectorizer()\n",
    "\n",
    "X = vectorizer.fit_transform(df_2.clean_description)"
   ]
  },
  {
   "cell_type": "code",
   "execution_count": 46,
   "metadata": {
    "ExecuteTime": {
     "end_time": "2020-12-08T20:46:36.016175Z",
     "start_time": "2020-12-08T20:42:33.071723Z"
    }
   },
   "outputs": [],
   "source": [
    "from sklearn.decomposition import LatentDirichletAllocation\n",
    "\n",
    "lda = LatentDirichletAllocation()\n",
    "\n",
    "model = lda.fit(X)"
   ]
  },
  {
   "cell_type": "code",
   "execution_count": 42,
   "metadata": {
    "ExecuteTime": {
     "end_time": "2020-12-08T20:39:31.829758Z",
     "start_time": "2020-12-08T20:39:28.032275Z"
    }
   },
   "outputs": [
    {
     "name": "stdout",
     "output_type": "stream",
     "text": [
      "Topic 0:\n",
      "[('th', 2055.820366861567), ('announced', 1324.9235842704034), ('may', 1160.5271555410734), ('pm', 1031.0029476034208), ('march', 993.8825438854873), ('curfew', 984.5746762321426), ('government', 975.3389381760838), ('july', 897.124124920568), ('flights', 861.8646996272723), ('june', 828.4589619059025)]\n",
      "Topic 1:\n",
      "[('april', 3566.690983795573), ('may', 2683.239474484084), ('march', 2676.768202157146), ('policy', 1578.0992207414836), ('extended', 1552.3131141089755), ('services', 1453.6217520246023), ('canton', 1346.5291217504641), ('june', 1271.1659698754959), ('allowed', 1030.4733587444134), ('starting', 1016.7184391565813)]\n",
      "Topic 2:\n",
      "[('quarantine', 2758.640111263475), ('march', 2719.606131337474), ('people', 2684.400657611952), ('health', 2464.1219746106835), ('days', 1977.6505977055501), ('home', 1870.3234504847924), ('travel', 1606.5759321526673), ('covid', 1438.88879472093), ('countries', 1314.6344710285885), ('citizens', 1252.6030412025523)]\n",
      "Topic 3:\n",
      "[('social', 5509.137466266125), ('people', 3942.2581830100517), ('distancing', 3486.0812661139), ('areas', 3470.4055278154233), ('cultural', 3453.099940420714), ('preventive', 3283.7934571749124), ('compulsory', 3236.457970474053), ('june', 3098.893406701181), ('events', 3095.640268138356), ('virus', 3008.8197215800988)]\n",
      "Topic 4:\n",
      "[('businesses', 2892.565587343139), ('services', 2528.8191648448533), ('essential', 2186.012322630193), ('facilities', 2069.037400998908), ('restaurants', 1847.568671099928), ('may', 1691.1870207473135), ('non', 1639.1010382467275), ('open', 1609.6753076915224), ('food', 1568.7189178299855), ('public', 1494.0992271714188)]\n",
      "Topic 5:\n",
      "[('state', 6165.201715578749), ('march', 2767.1176712998877), ('emergency', 2610.9106166505385), ('governor', 2322.7788622881512), ('april', 1986.3251535154184), ('covid', 1879.2340749470538), ('order', 1795.5795220430716), ('announced', 1609.354997410197), ('th', 1608.9172678550863), ('public', 1449.250852418118)]\n",
      "Topic 6:\n",
      "[('march', 6152.141450131914), ('schools', 5674.186349255415), ('april', 3469.553787488551), ('th', 3012.895917240127), ('school', 2559.550939347075), ('education', 2485.248345501559), ('announced', 2326.127225931864), ('government', 2095.0567719380197), ('may', 2060.9407691440815), ('closed', 1730.786570139721)]\n",
      "Topic 7:\n",
      "[('public', 1795.012608201539), ('may', 1788.4725317291975), ('masks', 1687.3477523039787), ('april', 1512.5817728606619), ('social', 1345.5184802896324), ('must', 1130.22052698876), ('transport', 1014.1130468424221), ('face', 1002.3254738578057), ('wear', 946.5406884772083), ('distancing', 916.9482173606334)]\n",
      "Topic 8:\n",
      "[('health', 6000.462773348404), ('covid', 4441.74243836941), ('medical', 3135.9854613661187), ('coronavirus', 3128.752084611589), ('ministry', 2510.9407568729453), ('government', 1783.860172003004), ('patients', 1611.9705199399514), ('care', 1486.0488302585004), ('new', 1457.6689582590363), ('march', 1453.9391071482225)]\n",
      "Topic 9:\n",
      "[('region', 3905.217490366217), ('russia', 2262.512420668117), ('march', 2092.9653145714356), ('april', 1871.2219580983804), ('government', 1108.8445351168566), ('citizens', 1038.5667379709362), ('organizations', 1019.1562287356553), ('work', 927.9020314903113), ('starting', 909.2641050300873), ('policy', 897.9421075567409)]\n"
     ]
    }
   ],
   "source": [
    "def print_topics(model, vectorizer):\n",
    "    for idx, topic in enumerate(model.components_):\n",
    "        print(\"Topic %d:\" % (idx))\n",
    "        print([(vectorizer.get_feature_names()[i], topic[i])\n",
    "                        for i in topic.argsort()[:-10 - 1:-1]])\n",
    "        \n",
    "print_topics(lda, vectorizer)"
   ]
  },
  {
   "cell_type": "markdown",
   "metadata": {},
   "source": [
    "## Check type_sub_cat"
   ]
  },
  {
   "cell_type": "code",
   "execution_count": 34,
   "metadata": {
    "ExecuteTime": {
     "end_time": "2020-12-08T20:30:23.596183Z",
     "start_time": "2020-12-08T20:30:23.577842Z"
    }
   },
   "outputs": [
    {
     "name": "stdout",
     "output_type": "stream",
     "text": [
      "--------------------------------------------------\n",
      "nan\n",
      "--------------------------------------------------\n",
      "Preschool or childcare facilities (generally for children ages 5 and below)\n",
      "--------------------------------------------------\n",
      "Primary Schools (generally for children ages 10 and below)\n",
      "--------------------------------------------------\n",
      "Secondary Schools (generally for children ages 10 to 18)\n",
      "--------------------------------------------------\n",
      "Higher education institutions (i.e. degree granting institutions)\n",
      "--------------------------------------------------\n",
      "Other External Border Restriction\n",
      "--------------------------------------------------\n",
      "Health Certificates\n",
      "--------------------------------------------------\n",
      "Temporary Medical Centers\n",
      "--------------------------------------------------\n",
      "Other Health Infrastructure\n",
      "--------------------------------------------------\n",
      "Temporary Quarantine Centers\n",
      "--------------------------------------------------\n",
      "Masks\n",
      "--------------------------------------------------\n",
      "Hospitals\n",
      "--------------------------------------------------\n",
      "Unspecified Health Staff\n",
      "--------------------------------------------------\n",
      "Ventilators\n",
      "--------------------------------------------------\n",
      "Test Kits\n",
      "--------------------------------------------------\n",
      "Other Health Materials\n",
      "--------------------------------------------------\n",
      "Doctors\n",
      "--------------------------------------------------\n",
      "Nurses\n",
      "--------------------------------------------------\n",
      "Personal Protective Equipment\n",
      "--------------------------------------------------\n",
      "Hand Sanitizer\n",
      "--------------------------------------------------\n",
      "Unspecified Health Infrastructure\n",
      "--------------------------------------------------\n",
      "Health Research Facilities\n",
      "--------------------------------------------------\n",
      "Unspecified Health Materials\n",
      "--------------------------------------------------\n",
      "Medicine/Drugs\n",
      "--------------------------------------------------\n",
      "Other Areas Hygiene Measures Applied\n",
      "--------------------------------------------------\n",
      "Hygiene measures for public areas\n",
      "--------------------------------------------------\n",
      "Cooperation among different jurisdictional entities (e.g. treaties or agreements among countries or provinces)\n",
      "--------------------------------------------------\n",
      "New Task Force or Bureau (i.e. establishment of a temporary body)\n",
      "--------------------------------------------------\n",
      "Existing government entity given new powers\n",
      "--------------------------------------------------\n",
      "Disseminating information related to COVID-19 to the public that is reliable and factually accurate\n",
      "--------------------------------------------------\n",
      "Government Quarantine (i.e. quarantine at a government hotel or facility)\n",
      "--------------------------------------------------\n",
      "Self-Quarantine (i.e. quarantine at home)\n",
      "--------------------------------------------------\n",
      "Restaurants\n",
      "--------------------------------------------------\n",
      "Commercial Businesses\n",
      "--------------------------------------------------\n",
      "Retail Businesses\n",
      "--------------------------------------------------\n",
      "Shopping Centers\n",
      "--------------------------------------------------\n",
      "Personal Grooming Businesses (e.g. hair salons)\n",
      "--------------------------------------------------\n",
      "Supermarkets/grocery stores\n",
      "--------------------------------------------------\n",
      "Other Businesses\n",
      "--------------------------------------------------\n",
      "Telecommunications\n",
      "--------------------------------------------------\n",
      "Information service activities\n",
      "--------------------------------------------------\n",
      "Publishing activities\n",
      "--------------------------------------------------\n",
      "Regulations on government meetings (including e.g. suspension of parliament)\n",
      "--------------------------------------------------\n",
      "Regulated government working hours (e.g. work from home policies for government workers)\n",
      "--------------------------------------------------\n",
      "Cancellation of a recreational or commercial event\n",
      "--------------------------------------------------\n",
      "Attendance at religious services restricted (e.g. mosque/church closings)\n",
      "--------------------------------------------------\n",
      "Prison population reduced (e.g. early release of prisoners)\n",
      "--------------------------------------------------\n",
      "Other mass gatherings not specified above restricted\n",
      "--------------------------------------------------\n",
      "Wearing Masks in all public spaces/everywhere\n",
      "--------------------------------------------------\n",
      "Keeping a distance of at least 6 feet or 1.5 meters apart\n",
      "--------------------------------------------------\n",
      "Restrictions on ridership of buses\n",
      "--------------------------------------------------\n",
      "Restrictions ridership of other forms of public transportation (please include details in the text entry)\n",
      "--------------------------------------------------\n",
      "Wearing Masks inside public buildings\n",
      "--------------------------------------------------\n",
      "Restrictions on  private vehicles in public circulation\n",
      "--------------------------------------------------\n",
      "Health Screenings (e.g. temperature checks)\n",
      "--------------------------------------------------\n",
      "Health Volunteers\n",
      "--------------------------------------------------\n",
      "Other Heath Staff\n",
      "--------------------------------------------------\n",
      "Hygiene measures for commercial areas\n",
      "--------------------------------------------------\n",
      "Lockdown applies to all people\n",
      "--------------------------------------------------\n",
      "Both Disseminating and Gathering information related to COVID-19\n",
      "--------------------------------------------------\n",
      "Quarantine outside the home or government facility (i.e. quarantine in a hotel)\n",
      "--------------------------------------------------\n",
      "Construction\n",
      "--------------------------------------------------\n",
      "All or unspecified businesses\n",
      "--------------------------------------------------\n",
      "Agriculture; forestry and fishing\n",
      "--------------------------------------------------\n",
      "Transportation (land; water and air)\n",
      "--------------------------------------------------\n",
      "Bars\n",
      "--------------------------------------------------\n",
      "Public courts\n",
      "--------------------------------------------------\n",
      "Other public facilities\n",
      "--------------------------------------------------\n",
      "Beaches\n",
      "--------------------------------------------------\n",
      "Issuing of permits/certificates and/or processing of government documents\n",
      "--------------------------------------------------\n",
      "Public museums/galleries\n",
      "--------------------------------------------------\n",
      "Public libraries\n",
      "--------------------------------------------------\n",
      "Cancellation of an annually recurring event\n",
      "--------------------------------------------------\n",
      "Postponement of a recreational or commercial event\n",
      "--------------------------------------------------\n",
      "Postponement of an annually recurring event\n",
      "--------------------------------------------------\n",
      "Events at private residencies restricted (e.g. parties held at home)\n",
      "--------------------------------------------------\n",
      "Annually recurring event allowed to occur with certain conditions\n",
      "--------------------------------------------------\n",
      "Restrictions on ridership of subways and trams\n",
      "--------------------------------------------------\n",
      "Restrictions on ridership of trains\n",
      "--------------------------------------------------\n",
      "Wearing Masks inside public or commercial building\n",
      "--------------------------------------------------\n",
      "Other Mask Wearing Policy\n",
      "--------------------------------------------------\n",
      "Keep a distance of some other distance not listed above. Please note the distance in meters in the text entry.\n",
      "--------------------------------------------------\n",
      "Wearing Masks inside private businesses (e.g. supermarkets)\n",
      "--------------------------------------------------\n",
      "Travel History Form (e.g. documents where traveler has recently been)\n",
      "--------------------------------------------------\n",
      "Public Testing Facilities (e.g. drive-in testing for COVID-19)\n",
      "--------------------------------------------------\n",
      "Vaccines\n",
      "--------------------------------------------------\n",
      "Wearing Masks inside Primary Schools (generally for children ages 10 and below)\n",
      "--------------------------------------------------\n",
      "Wearing Masks inside Secondary Schools (generally for children ages 10 to 18)\n",
      "--------------------------------------------------\n",
      "Other Quarantine\n",
      "--------------------------------------------------\n",
      "Visa restrictions (e.g. suspend issuance of visa)\n",
      "--------------------------------------------------\n",
      "Wearing Masks inside Public transportation\n",
      "--------------------------------------------------\n",
      "Unspecified Mask Wearing Policy\n",
      "--------------------------------------------------\n",
      "Lockdown only applies to people with a condition not specified above (Please note the 'other' condition in the text entry)\n",
      "--------------------------------------------------\n",
      "Unspecified outdoor spaces\n",
      "--------------------------------------------------\n",
      "Parks\n",
      "--------------------------------------------------\n",
      "Visa extensions (e.g. visa validity extended)\n",
      "--------------------------------------------------\n",
      "Other Administrative Configurations\n",
      "--------------------------------------------------\n",
      "Warehousing and support activities for transportation\n",
      "--------------------------------------------------\n",
      "Private health offices\n",
      "--------------------------------------------------\n",
      "Election procedures (e.g. mail-in voting)\n",
      "--------------------------------------------------\n",
      "Other public outdoor spaces\n",
      "--------------------------------------------------\n",
      "Gathering information related to COVID-19 from the public\n",
      "--------------------------------------------------\n",
      "Wearing Masks inside Preschools or childcare facilities (generally for children age 5 and below)\n",
      "--------------------------------------------------\n",
      "Wearing Masks inside Higher education institutions (i.e. degree granting institutions)\n",
      "--------------------------------------------------\n",
      "Lockdown only applies to people of certain ages (Please note the age restriction in the text box)\n",
      "--------------------------------------------------\n",
      "Unspecified public facilities\n",
      "--------------------------------------------------\n",
      "Health Insurance\n",
      "--------------------------------------------------\n",
      "Pharmacies\n",
      "--------------------------------------------------\n",
      "Water supply; sewerage; waste management and remediation activities\n",
      "--------------------------------------------------\n",
      "Financial service activities except insurance and pension funding\n",
      "--------------------------------------------------\n",
      "Regulated hours government services available (e.g. government services office open for certain hours only)\n",
      "--------------------------------------------------\n",
      "Burial procedures\n",
      "--------------------------------------------------\n",
      "Mining and quarrying\n",
      "--------------------------------------------------\n",
      "Insurance; reinsurance; and pension funding except compulsory social security\n",
      "--------------------------------------------------\n",
      "Campsites\n",
      "--------------------------------------------------\n",
      "Tourist Sites\n",
      "--------------------------------------------------\n",
      "Wearing Masks in all indoor spaces\n",
      "--------------------------------------------------\n",
      "Quarantine only applies to people of certain ages. Please note the age restrictions in the text box.\n",
      "--------------------------------------------------\n",
      "Wearing masks\n",
      "--------------------------------------------------\n",
      "Lockdown only applies to people with certain health conditions (Please note the health conditions in the text box)\n",
      "--------------------------------------------------\n",
      "Regulations on publicly provided waste management services\n"
     ]
    }
   ],
   "source": [
    "for _ in df_2['type_sub_cat'].unique():\n",
    "    print('-'*50)\n",
    "    print(_)"
   ]
  },
  {
   "cell_type": "code",
   "execution_count": 39,
   "metadata": {
    "ExecuteTime": {
     "end_time": "2020-12-08T20:33:19.906082Z",
     "start_time": "2020-12-08T20:33:19.891351Z"
    }
   },
   "outputs": [
    {
     "data": {
      "text/plain": [
       "[0        False\n",
       " 1        False\n",
       " 2        False\n",
       " 3        False\n",
       " 4        False\n",
       " 5        False\n",
       " 6        False\n",
       " 7        False\n",
       " 8        False\n",
       " 9        False\n",
       " 10       False\n",
       " 11       False\n",
       " 12       False\n",
       " 13       False\n",
       " 14       False\n",
       " 15       False\n",
       " 16       False\n",
       " 17       False\n",
       " 18       False\n",
       " 19       False\n",
       " 20       False\n",
       " 21       False\n",
       " 22       False\n",
       " 23       False\n",
       " 24       False\n",
       " 25       False\n",
       " 26       False\n",
       " 27       False\n",
       " 28       False\n",
       " 29       False\n",
       "          ...  \n",
       " 45610    False\n",
       " 45611    False\n",
       " 45612    False\n",
       " 45613    False\n",
       " 45614    False\n",
       " 45615    False\n",
       " 45616    False\n",
       " 45617    False\n",
       " 45618    False\n",
       " 45619    False\n",
       " 45620    False\n",
       " 45621    False\n",
       " 45622    False\n",
       " 45623    False\n",
       " 45624    False\n",
       " 45625    False\n",
       " 45626    False\n",
       " 45627    False\n",
       " 45628    False\n",
       " 45629    False\n",
       " 45630    False\n",
       " 45631    False\n",
       " 45632    False\n",
       " 45633    False\n",
       " 45634    False\n",
       " 45635    False\n",
       " 45636    False\n",
       " 45637    False\n",
       " 45638    False\n",
       " 45639    False\n",
       " Name: type_sub_cat, Length: 45396, dtype: bool]"
      ]
     },
     "execution_count": 39,
     "metadata": {},
     "output_type": "execute_result"
    }
   ],
   "source": []
  },
  {
   "cell_type": "code",
   "execution_count": null,
   "metadata": {},
   "outputs": [],
   "source": []
  }
 ],
 "metadata": {
  "kernelspec": {
   "display_name": "Python 3",
   "language": "python",
   "name": "python3"
  },
  "language_info": {
   "codemirror_mode": {
    "name": "ipython",
    "version": 3
   },
   "file_extension": ".py",
   "mimetype": "text/x-python",
   "name": "python",
   "nbconvert_exporter": "python",
   "pygments_lexer": "ipython3",
   "version": "3.7.7"
  },
  "toc": {
   "base_numbering": 1,
   "nav_menu": {},
   "number_sections": true,
   "sideBar": true,
   "skip_h1_title": false,
   "title_cell": "Table of Contents",
   "title_sidebar": "Contents",
   "toc_cell": false,
   "toc_position": {},
   "toc_section_display": true,
   "toc_window_display": false
  }
 },
 "nbformat": 4,
 "nbformat_minor": 4
}

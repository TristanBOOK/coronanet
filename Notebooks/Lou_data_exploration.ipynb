{
 "cells": [
  {
   "cell_type": "code",
   "execution_count": 1,
   "metadata": {
    "ExecuteTime": {
     "end_time": "2020-12-09T09:51:33.498798Z",
     "start_time": "2020-12-09T09:51:28.486160Z"
    }
   },
   "outputs": [],
   "source": [
    "import numpy as np\n",
    "import pandas as pd\n",
    "import datetime\n",
    "import pyreadr\n",
    "import pandas as pd\n",
    "from IPython.display import display\n",
    "\n",
    "from sklearn.preprocessing import OneHotEncoder\n",
    "\n",
    "from nltk.corpus import stopwords \n",
    "import string\n",
    "from nltk.stem.wordnet import WordNetLemmatizer\n",
    "from nltk import word_tokenize \n",
    "from sklearn.decomposition import LatentDirichletAllocation\n",
    "from sklearn.feature_extraction.text import CountVectorizer"
   ]
  },
  {
   "cell_type": "markdown",
   "metadata": {
    "ExecuteTime": {
     "end_time": "2020-12-07T15:21:13.990522Z",
     "start_time": "2020-12-07T15:21:10.119871Z"
    }
   },
   "source": [
    "# Coronanet dataset"
   ]
  },
  {
   "cell_type": "code",
   "execution_count": 2,
   "metadata": {
    "ExecuteTime": {
     "end_time": "2020-12-09T09:51:39.303031Z",
     "start_time": "2020-12-09T09:51:37.267527Z"
    }
   },
   "outputs": [],
   "source": [
    "# import data\n",
    "df = pd.read_csv('../data/coronanet_release_allvars.csv', encoding='mac_roman')"
   ]
  },
  {
   "cell_type": "code",
   "execution_count": null,
   "metadata": {
    "ExecuteTime": {
     "end_time": "2020-12-09T09:51:08.255281Z",
     "start_time": "2020-12-09T09:49:40.407Z"
    }
   },
   "outputs": [],
   "source": [
    "# colonnes\n",
    "df.columns"
   ]
  },
  {
   "cell_type": "code",
   "execution_count": null,
   "metadata": {
    "ExecuteTime": {
     "end_time": "2020-12-09T09:51:08.264089Z",
     "start_time": "2020-12-09T09:49:40.413Z"
    }
   },
   "outputs": [],
   "source": [
    "# NaNs\n",
    "df.isnull().sum()"
   ]
  },
  {
   "cell_type": "code",
   "execution_count": 24,
   "metadata": {
    "ExecuteTime": {
     "end_time": "2020-12-09T10:26:31.335278Z",
     "start_time": "2020-12-09T10:26:31.312961Z"
    }
   },
   "outputs": [],
   "source": [
    "df_2 = df[['policy_id','entry_type','correct_type', \n",
    "           'description', 'date_start','date_end','country', \n",
    "           'type', 'ISO_A3','init_country_level', 'domestic_policy',\n",
    "           'type_sub_cat', 'compliance', 'enforcer']]"
   ]
  },
  {
   "cell_type": "code",
   "execution_count": 4,
   "metadata": {
    "ExecuteTime": {
     "end_time": "2020-12-09T09:51:45.741398Z",
     "start_time": "2020-12-09T09:51:45.690848Z"
    }
   },
   "outputs": [
    {
     "data": {
      "text/plain": [
       "(45640, 14)"
      ]
     },
     "execution_count": 4,
     "metadata": {},
     "output_type": "execute_result"
    }
   ],
   "source": [
    "df_2.shape"
   ]
  },
  {
   "cell_type": "code",
   "execution_count": 5,
   "metadata": {
    "ExecuteTime": {
     "end_time": "2020-12-09T09:51:46.136307Z",
     "start_time": "2020-12-09T09:51:46.075640Z"
    }
   },
   "outputs": [
    {
     "data": {
      "text/plain": [
       "policy_id                 0\n",
       "entry_type                0\n",
       "correct_type              0\n",
       "description               0\n",
       "date_start                0\n",
       "date_end              23998\n",
       "country                   0\n",
       "type                      0\n",
       "ISO_A3                  243\n",
       "init_country_level      162\n",
       "domestic_policy           0\n",
       "type_sub_cat          13819\n",
       "compliance              244\n",
       "enforcer                154\n",
       "dtype: int64"
      ]
     },
     "execution_count": 5,
     "metadata": {},
     "output_type": "execute_result"
    }
   ],
   "source": [
    "df_2.isnull().sum()"
   ]
  },
  {
   "cell_type": "code",
   "execution_count": 6,
   "metadata": {
    "ExecuteTime": {
     "end_time": "2020-12-09T09:51:46.583500Z",
     "start_time": "2020-12-09T09:51:46.560417Z"
    }
   },
   "outputs": [
    {
     "name": "stdout",
     "output_type": "stream",
     "text": [
      "['Anti-Disinformation Measures' 'Closure and Regulation of Schools'\n",
      " 'Curfew' 'Declaration of Emergency' 'External Border Restrictions'\n",
      " 'Health Monitoring' 'Health Resources' 'Health Testing' 'Hygiene'\n",
      " 'Internal Border Restrictions' 'Lockdown'\n",
      " 'New Task Force, Bureau or Administrative Configuration'\n",
      " 'Other Policy Not Listed Above' 'Public Awareness Measures' 'Quarantine'\n",
      " 'Restriction and Regulation of Businesses'\n",
      " 'Restriction and Regulation of Government Services'\n",
      " 'Restrictions of Mass Gatherings' 'Social Distancing']\n",
      "19\n"
     ]
    }
   ],
   "source": [
    "# commençons par le type (mesures plus simples pour les restrictions pour commencer et possibilité d'encodage)\n",
    "print(df_2['type'].unique())\n",
    "print(df_2['type'].nunique())"
   ]
  },
  {
   "cell_type": "markdown",
   "metadata": {
    "ExecuteTime": {
     "end_time": "2020-12-08T10:58:50.748879Z",
     "start_time": "2020-12-08T10:58:50.689387Z"
    }
   },
   "source": [
    "## Encodage des données compliance"
   ]
  },
  {
   "cell_type": "code",
   "execution_count": null,
   "metadata": {
    "ExecuteTime": {
     "end_time": "2020-12-09T09:51:08.294069Z",
     "start_time": "2020-12-09T09:49:40.431Z"
    }
   },
   "outputs": [],
   "source": [
    "for _ in df_2['compliance'].unique():\n",
    "    print('-'*50)\n",
    "    print(_)"
   ]
  },
  {
   "cell_type": "code",
   "execution_count": null,
   "metadata": {
    "ExecuteTime": {
     "end_time": "2020-12-09T09:51:08.300285Z",
     "start_time": "2020-12-09T09:49:40.437Z"
    }
   },
   "outputs": [],
   "source": [
    "mask = df_2['compliance'].value_counts() > 1000"
   ]
  },
  {
   "cell_type": "code",
   "execution_count": null,
   "metadata": {
    "ExecuteTime": {
     "end_time": "2020-12-09T09:51:08.316582Z",
     "start_time": "2020-12-09T09:49:40.440Z"
    }
   },
   "outputs": [],
   "source": [
    "df_2 = df_2[df_2['compliance'].isin(mask.index)]"
   ]
  },
  {
   "cell_type": "code",
   "execution_count": null,
   "metadata": {
    "ExecuteTime": {
     "end_time": "2020-12-09T09:51:08.330195Z",
     "start_time": "2020-12-09T09:49:40.444Z"
    }
   },
   "outputs": [],
   "source": [
    "df_2.head()"
   ]
  },
  {
   "cell_type": "code",
   "execution_count": null,
   "metadata": {
    "ExecuteTime": {
     "end_time": "2020-12-09T09:51:08.336198Z",
     "start_time": "2020-12-09T09:49:40.447Z"
    }
   },
   "outputs": [],
   "source": [
    "def handle_compliance(x):\n",
    "    if 'Voluntary/Recommended' in x:\n",
    "        return 0\n",
    "    if 'Mandatory (Unspecified/Implied)' in x:\n",
    "        return 1\n",
    "    if 'Mandatory with Fines' in x:\n",
    "        return 2\n",
    "    if 'Mandatory with Exceptions' in x:\n",
    "        return 3\n",
    "    if 'Mandatory with Legal Penalties' in x:\n",
    "        return 4"
   ]
  },
  {
   "cell_type": "code",
   "execution_count": null,
   "metadata": {
    "ExecuteTime": {
     "end_time": "2020-12-09T09:51:08.345912Z",
     "start_time": "2020-12-09T09:49:40.452Z"
    }
   },
   "outputs": [],
   "source": [
    "df_2['n_compliance'] = df_2['compliance'].map(handle_compliance)"
   ]
  },
  {
   "cell_type": "code",
   "execution_count": null,
   "metadata": {
    "ExecuteTime": {
     "end_time": "2020-12-09T09:51:08.353396Z",
     "start_time": "2020-12-09T09:49:40.455Z"
    }
   },
   "outputs": [],
   "source": [
    "df_2['n_compliance'].nunique()"
   ]
  },
  {
   "cell_type": "markdown",
   "metadata": {},
   "source": [
    "## Encode type colonne"
   ]
  },
  {
   "cell_type": "code",
   "execution_count": null,
   "metadata": {
    "ExecuteTime": {
     "end_time": "2020-12-09T09:51:08.366177Z",
     "start_time": "2020-12-09T09:49:40.457Z"
    }
   },
   "outputs": [],
   "source": [
    "df_2['type'].unique()"
   ]
  },
  {
   "cell_type": "code",
   "execution_count": null,
   "metadata": {
    "ExecuteTime": {
     "end_time": "2020-12-09T09:51:08.372145Z",
     "start_time": "2020-12-09T09:49:40.462Z"
    }
   },
   "outputs": [],
   "source": [
    "df_3 = pd.get_dummies(df_2, columns=[\"type\"]).head()"
   ]
  },
  {
   "cell_type": "code",
   "execution_count": null,
   "metadata": {
    "ExecuteTime": {
     "end_time": "2020-12-09T09:51:08.379292Z",
     "start_time": "2020-12-09T09:49:40.465Z"
    }
   },
   "outputs": [],
   "source": [
    "df_3.columns"
   ]
  },
  {
   "cell_type": "markdown",
   "metadata": {},
   "source": [
    "## Missing value for ISO_3"
   ]
  },
  {
   "cell_type": "code",
   "execution_count": 15,
   "metadata": {
    "ExecuteTime": {
     "end_time": "2020-12-09T09:55:04.611863Z",
     "start_time": "2020-12-09T09:55:04.597346Z"
    }
   },
   "outputs": [
    {
     "data": {
      "text/plain": [
       "array(['AFG', 'ALB', 'DZA', 'AND', 'AGO', 'ATG', 'ARG', 'ARM', 'AUS',\n",
       "       'AUT', 'AZE', 'BHS', 'BHR', 'BGD', 'BRB', 'BLR', 'BEL', 'BLZ',\n",
       "       'BEN', 'BTN', 'BOL', 'BIH', 'BWA', 'BRA', 'BRN', 'BGR', 'BFA',\n",
       "       'BDI', 'KHM', 'CMR', 'CAN', 'CPV', 'CAF', 'TCD', 'CHL', 'CHN',\n",
       "       'COL', 'COM', 'CRI', nan, 'HRV', 'CUB', 'CYP', 'CZE', 'COD', 'DNK',\n",
       "       'DJI', 'DMA', 'DOM', 'ECU', 'EGY', 'SLV', 'GNQ', 'ERI', 'EST',\n",
       "       'SWZ', 'ETH', 'FJI', 'FIN', 'FRA', 'GAB', 'GMB', 'GEO', 'DEU',\n",
       "       'GHA', 'GRC', 'GRD', 'GTM', 'GIN', 'GNB', 'GUY', 'HTI', 'HND',\n",
       "       'HKG', 'HUN', 'ISL', 'IND', 'IDN', 'IRN', 'IRQ', 'IRL', 'ISR',\n",
       "       'ITA', 'CIV', 'JAM', 'JPN', 'JOR', 'KAZ', 'KEN', 'KIR', '-', 'KWT',\n",
       "       'KGZ', 'LAO', 'LVA', 'LBN', 'LSO', 'LBR', 'LBY', 'LIE', 'LTU',\n",
       "       'LUX', 'MDG', 'MWI', 'MYS', 'MDV', 'MLI', 'MLT', 'MHL', 'MRT',\n",
       "       'MUS', 'MEX', 'FSM', 'MDA', 'MCO', 'MNG', 'MNE', 'MAR', 'MOZ',\n",
       "       'MMR', 'NAM', 'NRU', 'NPL', 'NLD', 'NZL', 'NIC', 'NER', 'NGA',\n",
       "       'PRK', 'MKD', 'NOR', 'OMN', 'PAK', 'PLW', 'PSE', 'PAN', 'PNG',\n",
       "       'PRY', 'PER', 'PHL', 'POL', 'PRT', 'QAT', 'COG', 'ROU', 'RUS',\n",
       "       'RWA', 'KNA', 'LCA', 'VCT', 'WSM', 'SMR', 'STP', 'SAU', 'SEN',\n",
       "       'SRB', 'SYC', 'SLE', 'SGP', 'SVK', 'SVN', 'SLB', 'SOM', 'ZAF',\n",
       "       'KOR', 'SSD', 'ESP', 'LKA', 'SDN', 'SUR', 'SWE', 'CHE', 'SYR',\n",
       "       'TWN', 'TJK', 'TZA', 'THA', 'TGO', 'TON', 'TTO', 'TUN', 'TUR',\n",
       "       'TKM', 'TUV', 'UGA', 'UKR', 'ARE', 'GBR', 'USA', 'URY', 'UZB',\n",
       "       'VUT', 'VAT', 'VEN', 'VNM', 'YEM', 'ZMB', 'ZWE'], dtype=object)"
      ]
     },
     "execution_count": 15,
     "metadata": {},
     "output_type": "execute_result"
    }
   ],
   "source": [
    "df_2['ISO_A3'].unique()"
   ]
  },
  {
   "cell_type": "code",
   "execution_count": 16,
   "metadata": {
    "ExecuteTime": {
     "end_time": "2020-12-09T09:55:11.015856Z",
     "start_time": "2020-12-09T09:55:10.913976Z"
    }
   },
   "outputs": [
    {
     "name": "stderr",
     "output_type": "stream",
     "text": [
      "/Users/lourizzolo/.pyenv/versions/3.7.7/envs/lewagon/lib/python3.7/site-packages/ipykernel_launcher.py:1: SettingWithCopyWarning: \n",
      "A value is trying to be set on a copy of a slice from a DataFrame.\n",
      "Try using .loc[row_indexer,col_indexer] = value instead\n",
      "\n",
      "See the caveats in the documentation: http://pandas.pydata.org/pandas-docs/stable/indexing.html#indexing-view-versus-copy\n",
      "  \"\"\"Entry point for launching an IPython kernel.\n"
     ]
    }
   ],
   "source": [
    "df_2['ISO_A3'] = np.where(df_2['ISO_A3'] == '-', df_2['country'], df_2['ISO_A3'])"
   ]
  },
  {
   "cell_type": "code",
   "execution_count": 17,
   "metadata": {
    "ExecuteTime": {
     "end_time": "2020-12-09T09:55:13.303091Z",
     "start_time": "2020-12-09T09:55:13.065371Z"
    }
   },
   "outputs": [
    {
     "name": "stderr",
     "output_type": "stream",
     "text": [
      "/Users/lourizzolo/.pyenv/versions/3.7.7/envs/lewagon/lib/python3.7/site-packages/ipykernel_launcher.py:1: SettingWithCopyWarning: \n",
      "A value is trying to be set on a copy of a slice from a DataFrame.\n",
      "Try using .loc[row_indexer,col_indexer] = value instead\n",
      "\n",
      "See the caveats in the documentation: http://pandas.pydata.org/pandas-docs/stable/indexing.html#indexing-view-versus-copy\n",
      "  \"\"\"Entry point for launching an IPython kernel.\n"
     ]
    }
   ],
   "source": [
    "df_2['ISO_A3'] = df_2['ISO_A3'].fillna(df_2['country'])"
   ]
  },
  {
   "cell_type": "code",
   "execution_count": 18,
   "metadata": {
    "ExecuteTime": {
     "end_time": "2020-12-09T09:55:15.590275Z",
     "start_time": "2020-12-09T09:55:15.528007Z"
    }
   },
   "outputs": [
    {
     "data": {
      "text/plain": [
       "0"
      ]
     },
     "execution_count": 18,
     "metadata": {},
     "output_type": "execute_result"
    }
   ],
   "source": [
    "df_2['ISO_A3'].isna().sum()"
   ]
  },
  {
   "cell_type": "code",
   "execution_count": 20,
   "metadata": {
    "ExecuteTime": {
     "end_time": "2020-12-09T09:56:41.110246Z",
     "start_time": "2020-12-09T09:56:40.593025Z"
    }
   },
   "outputs": [
    {
     "name": "stderr",
     "output_type": "stream",
     "text": [
      "/Users/lourizzolo/.pyenv/versions/3.7.7/envs/lewagon/lib/python3.7/site-packages/ipykernel_launcher.py:1: SettingWithCopyWarning: \n",
      "A value is trying to be set on a copy of a slice from a DataFrame.\n",
      "Try using .loc[row_indexer,col_indexer] = value instead\n",
      "\n",
      "See the caveats in the documentation: http://pandas.pydata.org/pandas-docs/stable/indexing.html#indexing-view-versus-copy\n",
      "  \"\"\"Entry point for launching an IPython kernel.\n",
      "/Users/lourizzolo/.pyenv/versions/3.7.7/envs/lewagon/lib/python3.7/site-packages/ipykernel_launcher.py:2: SettingWithCopyWarning: \n",
      "A value is trying to be set on a copy of a slice from a DataFrame.\n",
      "Try using .loc[row_indexer,col_indexer] = value instead\n",
      "\n",
      "See the caveats in the documentation: http://pandas.pydata.org/pandas-docs/stable/indexing.html#indexing-view-versus-copy\n",
      "  \n",
      "/Users/lourizzolo/.pyenv/versions/3.7.7/envs/lewagon/lib/python3.7/site-packages/ipykernel_launcher.py:3: SettingWithCopyWarning: \n",
      "A value is trying to be set on a copy of a slice from a DataFrame.\n",
      "Try using .loc[row_indexer,col_indexer] = value instead\n",
      "\n",
      "See the caveats in the documentation: http://pandas.pydata.org/pandas-docs/stable/indexing.html#indexing-view-versus-copy\n",
      "  This is separate from the ipykernel package so we can avoid doing imports until\n",
      "/Users/lourizzolo/.pyenv/versions/3.7.7/envs/lewagon/lib/python3.7/site-packages/ipykernel_launcher.py:4: SettingWithCopyWarning: \n",
      "A value is trying to be set on a copy of a slice from a DataFrame.\n",
      "Try using .loc[row_indexer,col_indexer] = value instead\n",
      "\n",
      "See the caveats in the documentation: http://pandas.pydata.org/pandas-docs/stable/indexing.html#indexing-view-versus-copy\n",
      "  after removing the cwd from sys.path.\n",
      "/Users/lourizzolo/.pyenv/versions/3.7.7/envs/lewagon/lib/python3.7/site-packages/ipykernel_launcher.py:5: SettingWithCopyWarning: \n",
      "A value is trying to be set on a copy of a slice from a DataFrame.\n",
      "Try using .loc[row_indexer,col_indexer] = value instead\n",
      "\n",
      "See the caveats in the documentation: http://pandas.pydata.org/pandas-docs/stable/indexing.html#indexing-view-versus-copy\n",
      "  \"\"\"\n",
      "/Users/lourizzolo/.pyenv/versions/3.7.7/envs/lewagon/lib/python3.7/site-packages/ipykernel_launcher.py:6: SettingWithCopyWarning: \n",
      "A value is trying to be set on a copy of a slice from a DataFrame.\n",
      "Try using .loc[row_indexer,col_indexer] = value instead\n",
      "\n",
      "See the caveats in the documentation: http://pandas.pydata.org/pandas-docs/stable/indexing.html#indexing-view-versus-copy\n",
      "  \n",
      "/Users/lourizzolo/.pyenv/versions/3.7.7/envs/lewagon/lib/python3.7/site-packages/ipykernel_launcher.py:7: SettingWithCopyWarning: \n",
      "A value is trying to be set on a copy of a slice from a DataFrame.\n",
      "Try using .loc[row_indexer,col_indexer] = value instead\n",
      "\n",
      "See the caveats in the documentation: http://pandas.pydata.org/pandas-docs/stable/indexing.html#indexing-view-versus-copy\n",
      "  import sys\n"
     ]
    }
   ],
   "source": [
    "df_2['ISO_A3'] = df_2['ISO_A3'].replace('Northern Cyprus', 'CYP')\n",
    "df_2['ISO_A3'] = df_2['ISO_A3'].replace('Kosovo', 'XK')\n",
    "df_2['ISO_A3'] = df_2['ISO_A3'].replace('CÙte díIvoire', 'CIV')\n",
    "df_2['ISO_A3'] = df_2['ISO_A3'].replace('European Union', 'EU')\n",
    "df_2['ISO_A3'] = df_2['ISO_A3'].replace('S„o TomÈ & PrÌncipe', 'STP')\n",
    "df_2['ISO_A3'] = df_2['ISO_A3'].replace('Macau', 'MAC')\n",
    "df_2['ISO_A3'] = df_2['ISO_A3'].replace('Timor Leste', 'TLS')"
   ]
  },
  {
   "cell_type": "code",
   "execution_count": 21,
   "metadata": {
    "ExecuteTime": {
     "end_time": "2020-12-09T09:56:44.811340Z",
     "start_time": "2020-12-09T09:56:44.768586Z"
    }
   },
   "outputs": [
    {
     "data": {
      "text/plain": [
       "array(['AFG', 'ALB', 'DZA', 'AND', 'AGO', 'ATG', 'ARG', 'ARM', 'AUS',\n",
       "       'AUT', 'AZE', 'BHS', 'BHR', 'BGD', 'BRB', 'BLR', 'BEL', 'BLZ',\n",
       "       'BEN', 'BTN', 'BOL', 'BIH', 'BWA', 'BRA', 'BRN', 'BGR', 'BFA',\n",
       "       'BDI', 'KHM', 'CMR', 'CAN', 'CPV', 'CAF', 'TCD', 'CHL', 'CHN',\n",
       "       'COL', 'COM', 'CRI', 'CIV', 'HRV', 'CUB', 'CYP', 'CZE', 'COD',\n",
       "       'DNK', 'DJI', 'DMA', 'DOM', 'ECU', 'EGY', 'SLV', 'GNQ', 'ERI',\n",
       "       'EST', 'SWZ', 'ETH', 'EU', 'FJI', 'FIN', 'FRA', 'GAB', 'GMB',\n",
       "       'GEO', 'DEU', 'GHA', 'GRC', 'GRD', 'GTM', 'GIN', 'GNB', 'GUY',\n",
       "       'HTI', 'HND', 'HKG', 'HUN', 'ISL', 'IND', 'IDN', 'IRN', 'IRQ',\n",
       "       'IRL', 'ISR', 'ITA', 'JAM', 'JPN', 'JOR', 'KAZ', 'KEN', 'KIR',\n",
       "       'XK', 'KWT', 'KGZ', 'LAO', 'LVA', 'LBN', 'LSO', 'LBR', 'LBY',\n",
       "       'LIE', 'LTU', 'LUX', 'MAC', 'MDG', 'MWI', 'MYS', 'MDV', 'MLI',\n",
       "       'MLT', 'MHL', 'MRT', 'MUS', 'MEX', 'FSM', 'MDA', 'MCO', 'MNG',\n",
       "       'MNE', 'MAR', 'MOZ', 'MMR', 'NAM', 'NRU', 'NPL', 'NLD', 'NZL',\n",
       "       'NIC', 'NER', 'NGA', 'PRK', 'MKD', 'NOR', 'OMN', 'PAK', 'PLW',\n",
       "       'PSE', 'PAN', 'PNG', 'PRY', 'PER', 'PHL', 'POL', 'PRT', 'QAT',\n",
       "       'COG', 'ROU', 'RUS', 'RWA', 'KNA', 'LCA', 'VCT', 'WSM', 'SMR',\n",
       "       'STP', 'SAU', 'SEN', 'SRB', 'SYC', 'SLE', 'SGP', 'SVK', 'SVN',\n",
       "       'SLB', 'SOM', 'ZAF', 'KOR', 'SSD', 'ESP', 'LKA', 'SDN', 'SUR',\n",
       "       'SWE', 'CHE', 'SYR', 'TWN', 'TJK', 'TZA', 'THA', 'TLS', 'TGO',\n",
       "       'TON', 'TTO', 'TUN', 'TUR', 'TKM', 'TUV', 'UGA', 'UKR', 'ARE',\n",
       "       'GBR', 'USA', 'URY', 'UZB', 'VUT', 'VAT', 'VEN', 'VNM', 'YEM',\n",
       "       'ZMB', 'ZWE'], dtype=object)"
      ]
     },
     "execution_count": 21,
     "metadata": {},
     "output_type": "execute_result"
    }
   ],
   "source": [
    "df_2['ISO_A3'].unique()"
   ]
  },
  {
   "cell_type": "code",
   "execution_count": 23,
   "metadata": {
    "ExecuteTime": {
     "end_time": "2020-12-09T09:57:44.259086Z",
     "start_time": "2020-12-09T09:57:44.202202Z"
    }
   },
   "outputs": [
    {
     "data": {
      "text/plain": [
       "RUS    5721\n",
       "USA    5075\n",
       "DEU    2292\n",
       "CHE    1885\n",
       "JPN    1777\n",
       "ARG    1529\n",
       "NGA    1114\n",
       "BRA    1100\n",
       "CAN     990\n",
       "IDN     959\n",
       "IND     891\n",
       "AUS     674\n",
       "CHN     670\n",
       "ESP     421\n",
       "DZA     416\n",
       "BGD     413\n",
       "MEX     361\n",
       "NZL     359\n",
       "AFG     348\n",
       "QAT     346\n",
       "ITA     334\n",
       "KAZ     322\n",
       "AUT     319\n",
       "MMR     317\n",
       "ISR     303\n",
       "LBN     299\n",
       "ARE     295\n",
       "FRA     292\n",
       "GTM     284\n",
       "AZE     284\n",
       "SGP     280\n",
       "GBR     276\n",
       "SAU     263\n",
       "HND     242\n",
       "OMN     241\n",
       "CYP     235\n",
       "GRD     234\n",
       "IRL     230\n",
       "UZB     226\n",
       "CHL     215\n",
       "FIN     215\n",
       "IRQ     211\n",
       "BLZ     210\n",
       "BOL     204\n",
       "EGY     203\n",
       "THA     190\n",
       "ETH     185\n",
       "PAK     185\n",
       "MAR     172\n",
       "BHR     164\n",
       "DOM     163\n",
       "WSM     162\n",
       "HKG     158\n",
       "NOR     157\n",
       "AGO     155\n",
       "TCD     155\n",
       "SMR     149\n",
       "SDN     146\n",
       "ZAF     146\n",
       "TWN     145\n",
       "TLS     134\n",
       "PNG     134\n",
       "BRN     133\n",
       "CIV     133\n",
       "TUR     131\n",
       "SWE     131\n",
       "UKR     129\n",
       "CZE     129\n",
       "TUN     128\n",
       "KGZ     127\n",
       "BLR     126\n",
       "YEM     124\n",
       "ZWE     124\n",
       "CRI     124\n",
       "COL     122\n",
       "IRN     122\n",
       "KOR     122\n",
       "EST     120\n",
       "KEN     117\n",
       "NLD     115\n",
       "PAN     114\n",
       "JAM     113\n",
       "GAB     110\n",
       "POL     107\n",
       "GUY     105\n",
       "PRT     105\n",
       "NPL     105\n",
       "BEN     103\n",
       "MDA     102\n",
       "LBY     100\n",
       "LIE     100\n",
       "HRV      99\n",
       "HUN      97\n",
       "BEL      96\n",
       "LKA      95\n",
       "GEO      95\n",
       "ISL      95\n",
       "RWA      94\n",
       "PLW      93\n",
       "KNA      92\n",
       "CMR      91\n",
       "BIH      90\n",
       "GMB      88\n",
       "NRU      85\n",
       "VEN      85\n",
       "PSE      84\n",
       "VNM      84\n",
       "TKM      84\n",
       "URY      82\n",
       "BWA      82\n",
       "TTO      82\n",
       "LVA      79\n",
       "ROU      77\n",
       "TJK      72\n",
       "BHS      71\n",
       "ATG      69\n",
       "MNE      69\n",
       "PER      68\n",
       "KWT      68\n",
       "MRT      68\n",
       "SLV      67\n",
       "SVN      66\n",
       "SUR      66\n",
       "SWZ      65\n",
       "AND      63\n",
       "LAO      61\n",
       "LUX      61\n",
       "EU       60\n",
       "HTI      60\n",
       "PHL      60\n",
       "ERI      59\n",
       "VAT      59\n",
       "SYC      59\n",
       "VCT      57\n",
       "BGR      57\n",
       "DNK      57\n",
       "GRC      56\n",
       "MNG      56\n",
       "TON      56\n",
       "BTN      56\n",
       "PRK      55\n",
       "MUS      53\n",
       "GHA      51\n",
       "SVK      50\n",
       "MYS      50\n",
       "CUB      49\n",
       "MLI      49\n",
       "MDG      49\n",
       "ECU      48\n",
       "NIC      48\n",
       "MCO      47\n",
       "MKD      46\n",
       "MAC      46\n",
       "LSO      45\n",
       "FJI      45\n",
       "GNB      44\n",
       "UGA      44\n",
       "ARM      44\n",
       "BDI      43\n",
       "SSD      43\n",
       "TGO      43\n",
       "MDV      42\n",
       "TZA      41\n",
       "VUT      41\n",
       "SLB      39\n",
       "BRB      39\n",
       "JOR      38\n",
       "COM      37\n",
       "ALB      37\n",
       "GNQ      35\n",
       "MLT      35\n",
       "LTU      34\n",
       "NER      34\n",
       "STP      33\n",
       "BFA      33\n",
       "DJI      32\n",
       "PRY      32\n",
       "ZMB      31\n",
       "SRB      29\n",
       "COD      27\n",
       "KIR      27\n",
       "NAM      24\n",
       "COG      23\n",
       "MWI      21\n",
       "XK       21\n",
       "KHM      20\n",
       "DMA      20\n",
       "CAF      20\n",
       "FSM      20\n",
       "SOM      18\n",
       "LBR      18\n",
       "SYR      17\n",
       "MOZ      16\n",
       "SEN      15\n",
       "TUV      15\n",
       "CPV      14\n",
       "GIN      12\n",
       "SLE      12\n",
       "LCA       8\n",
       "MHL       7\n",
       "Name: ISO_A3, dtype: int64"
      ]
     },
     "execution_count": 23,
     "metadata": {},
     "output_type": "execute_result"
    }
   ],
   "source": [
    "pd.set_option('display.max_rows', None)\n",
    "df_2['ISO_A3'].value_counts()"
   ]
  },
  {
   "cell_type": "code",
   "execution_count": 22,
   "metadata": {
    "ExecuteTime": {
     "end_time": "2020-12-09T09:57:23.629090Z",
     "start_time": "2020-12-09T09:57:23.535070Z"
    }
   },
   "outputs": [
    {
     "data": {
      "text/plain": [
       "policy_id                 0\n",
       "entry_type                0\n",
       "correct_type              0\n",
       "description               0\n",
       "date_start                0\n",
       "date_end              23998\n",
       "country                   0\n",
       "type                      0\n",
       "ISO_A3                    0\n",
       "init_country_level      162\n",
       "domestic_policy           0\n",
       "type_sub_cat          13819\n",
       "compliance              244\n",
       "enforcer                154\n",
       "dtype: int64"
      ]
     },
     "execution_count": 22,
     "metadata": {},
     "output_type": "execute_result"
    }
   ],
   "source": [
    "df_2.isna().sum()"
   ]
  },
  {
   "cell_type": "markdown",
   "metadata": {},
   "source": [
    " ## Vectorization des données description (pour plus tard)"
   ]
  },
  {
   "cell_type": "code",
   "execution_count": null,
   "metadata": {
    "ExecuteTime": {
     "end_time": "2020-12-09T09:48:39.087181Z",
     "start_time": "2020-12-09T09:48:39.037103Z"
    }
   },
   "outputs": [],
   "source": [
    "def clean(x):\n",
    "    x = x.lower()\n",
    "    x = ''.join([letter for letter in x if not letter.isdigit()])\n",
    "    for p in string.punctuation:\n",
    "        x = x.replace(p, \" \")\n",
    "    stops = set(stopwords.words(\"english\"))\n",
    "    tokens = word_tokenize(x)\n",
    "    tokens = ' '.join([token for token in tokens if token not in stops])\n",
    "    return tokens"
   ]
  },
  {
   "cell_type": "code",
   "execution_count": null,
   "metadata": {
    "ExecuteTime": {
     "end_time": "2020-12-09T09:49:50.289725Z",
     "start_time": "2020-12-09T09:48:39.098120Z"
    }
   },
   "outputs": [],
   "source": [
    "# données description\n",
    "df_2['clean_description'] = df_2.description.apply(clean)\n",
    "df_2['clean_description'] = df_2['clean_description'].astype('str')"
   ]
  },
  {
   "cell_type": "code",
   "execution_count": null,
   "metadata": {
    "ExecuteTime": {
     "end_time": "2020-12-09T09:49:53.287810Z",
     "start_time": "2020-12-09T09:49:50.430007Z"
    }
   },
   "outputs": [],
   "source": [
    "from sklearn.feature_extraction.text import CountVectorizer\n",
    "\n",
    "vectorizer = CountVectorizer()\n",
    "\n",
    "X = vectorizer.fit_transform(df_2.clean_description)"
   ]
  },
  {
   "cell_type": "code",
   "execution_count": null,
   "metadata": {
    "ExecuteTime": {
     "end_time": "2020-12-09T09:51:08.040259Z",
     "start_time": "2020-12-09T09:49:53.313227Z"
    }
   },
   "outputs": [],
   "source": [
    "from sklearn.decomposition import LatentDirichletAllocation\n",
    "\n",
    "lda = LatentDirichletAllocation()\n",
    "\n",
    "model = lda.fit(X)"
   ]
  },
  {
   "cell_type": "code",
   "execution_count": null,
   "metadata": {
    "ExecuteTime": {
     "end_time": "2020-12-09T09:51:08.058126Z",
     "start_time": "2020-12-09T09:48:29.745Z"
    }
   },
   "outputs": [],
   "source": [
    "def print_topics(model, vectorizer):\n",
    "    for idx, topic in enumerate(model.components_):\n",
    "        print(\"Topic %d:\" % (idx))\n",
    "        print([(vectorizer.get_feature_names()[i], topic[i])\n",
    "                        for i in topic.argsort()[:-10 - 1:-1]])\n",
    "        \n",
    "print_topics(lda, vectorizer)"
   ]
  },
  {
   "cell_type": "markdown",
   "metadata": {},
   "source": [
    "## Check type_sub_cat"
   ]
  },
  {
   "cell_type": "code",
   "execution_count": null,
   "metadata": {
    "ExecuteTime": {
     "end_time": "2020-12-09T09:51:08.063811Z",
     "start_time": "2020-12-09T09:48:29.751Z"
    }
   },
   "outputs": [],
   "source": [
    "for _ in df_2['type_sub_cat'].unique():\n",
    "    print('-'*50)\n",
    "    print(_)"
   ]
  },
  {
   "cell_type": "code",
   "execution_count": null,
   "metadata": {
    "ExecuteTime": {
     "end_time": "2020-12-08T20:33:19.906082Z",
     "start_time": "2020-12-08T20:33:19.891351Z"
    }
   },
   "outputs": [],
   "source": []
  },
  {
   "cell_type": "code",
   "execution_count": null,
   "metadata": {},
   "outputs": [],
   "source": []
  }
 ],
 "metadata": {
  "kernelspec": {
   "display_name": "Python 3",
   "language": "python",
   "name": "python3"
  },
  "language_info": {
   "codemirror_mode": {
    "name": "ipython",
    "version": 3
   },
   "file_extension": ".py",
   "mimetype": "text/x-python",
   "name": "python",
   "nbconvert_exporter": "python",
   "pygments_lexer": "ipython3",
   "version": "3.7.7"
  },
  "toc": {
   "base_numbering": 1,
   "nav_menu": {},
   "number_sections": true,
   "sideBar": true,
   "skip_h1_title": false,
   "title_cell": "Table of Contents",
   "title_sidebar": "Contents",
   "toc_cell": false,
   "toc_position": {},
   "toc_section_display": true,
   "toc_window_display": false
  }
 },
 "nbformat": 4,
 "nbformat_minor": 4
}

{
 "cells": [
  {
   "cell_type": "code",
   "execution_count": 1,
   "metadata": {
    "ExecuteTime": {
     "end_time": "2020-12-16T14:56:21.656280Z",
     "start_time": "2020-12-16T14:56:18.340533Z"
    }
   },
   "outputs": [],
   "source": [
    "import pandas as pd\n",
    "import pyreadr\n",
    "import numpy as np\n",
    "import matplotlib.pyplot as plt\n",
    "import datetime\n",
    "import seaborn as sns\n",
    "from sklearn import preprocessing\n",
    "from sklearn.preprocessing import StandardScaler\n",
    "from sklearn.preprocessing import RobustScaler\n",
    "from sklearn.model_selection import cross_val_score, cross_val_predict\n",
    "from sklearn import metrics\n",
    "from sklearn.linear_model import Lasso\n",
    "from sklearn.model_selection import GridSearchCV\n",
    "import xgboost as xg \n",
    "from xgboost import plot_importance\n",
    "from sklearn.model_selection import RandomizedSearchCV\n",
    "from sklearn.preprocessing import MinMaxScaler"
   ]
  },
  {
   "cell_type": "code",
   "execution_count": 2,
   "metadata": {
    "ExecuteTime": {
     "end_time": "2020-12-16T14:56:21.901126Z",
     "start_time": "2020-12-16T14:56:21.662880Z"
    }
   },
   "outputs": [],
   "source": [
    "df = pd.read_csv('../data/csv/DataFrame_pour_modeles_Lou.csv')"
   ]
  },
  {
   "cell_type": "code",
   "execution_count": 3,
   "metadata": {
    "ExecuteTime": {
     "end_time": "2020-12-16T14:56:21.963567Z",
     "start_time": "2020-12-16T14:56:21.908791Z"
    }
   },
   "outputs": [
    {
     "data": {
      "text/html": [
       "<div>\n",
       "<style scoped>\n",
       "    .dataframe tbody tr th:only-of-type {\n",
       "        vertical-align: middle;\n",
       "    }\n",
       "\n",
       "    .dataframe tbody tr th {\n",
       "        vertical-align: top;\n",
       "    }\n",
       "\n",
       "    .dataframe thead th {\n",
       "        text-align: right;\n",
       "    }\n",
       "</style>\n",
       "<table border=\"1\" class=\"dataframe\">\n",
       "  <thead>\n",
       "    <tr style=\"text-align: right;\">\n",
       "      <th></th>\n",
       "      <th>ID</th>\n",
       "      <th>Date</th>\n",
       "      <th>PolicyFamily</th>\n",
       "      <th>PolicyType</th>\n",
       "      <th>value</th>\n",
       "      <th>Cases</th>\n",
       "      <th>Cases_New</th>\n",
       "      <th>Type</th>\n",
       "      <th>Source</th>\n",
       "      <th>J-56</th>\n",
       "      <th>...</th>\n",
       "      <th>C5_diff</th>\n",
       "      <th>H1_diff</th>\n",
       "      <th>H3_diff</th>\n",
       "      <th>H4_diff</th>\n",
       "      <th>C8_diff</th>\n",
       "      <th>E2_diff</th>\n",
       "      <th>C4_diff</th>\n",
       "      <th>E4_diff</th>\n",
       "      <th>C7_diff</th>\n",
       "      <th>H5_diff</th>\n",
       "    </tr>\n",
       "  </thead>\n",
       "  <tbody>\n",
       "    <tr>\n",
       "      <th>0</th>\n",
       "      <td>AD</td>\n",
       "      <td>2020-02-27</td>\n",
       "      <td>E</td>\n",
       "      <td>E3_diff</td>\n",
       "      <td>141399008</td>\n",
       "      <td>0.0</td>\n",
       "      <td>0.0</td>\n",
       "      <td>Deaths</td>\n",
       "      <td>JHU</td>\n",
       "      <td>NaN</td>\n",
       "      <td>...</td>\n",
       "      <td>0.5</td>\n",
       "      <td>0.5</td>\n",
       "      <td>0.5</td>\n",
       "      <td>0.529656</td>\n",
       "      <td>0.5</td>\n",
       "      <td>0.5</td>\n",
       "      <td>0.5</td>\n",
       "      <td>0.514924</td>\n",
       "      <td>0.5</td>\n",
       "      <td>0.524098</td>\n",
       "    </tr>\n",
       "    <tr>\n",
       "      <th>1</th>\n",
       "      <td>AD</td>\n",
       "      <td>2020-02-28</td>\n",
       "      <td>E</td>\n",
       "      <td>E3_diff</td>\n",
       "      <td>-141399008</td>\n",
       "      <td>0.0</td>\n",
       "      <td>0.0</td>\n",
       "      <td>Deaths</td>\n",
       "      <td>JHU</td>\n",
       "      <td>NaN</td>\n",
       "      <td>...</td>\n",
       "      <td>0.5</td>\n",
       "      <td>0.5</td>\n",
       "      <td>0.5</td>\n",
       "      <td>0.529656</td>\n",
       "      <td>0.5</td>\n",
       "      <td>0.5</td>\n",
       "      <td>0.5</td>\n",
       "      <td>0.514924</td>\n",
       "      <td>0.5</td>\n",
       "      <td>0.524098</td>\n",
       "    </tr>\n",
       "    <tr>\n",
       "      <th>2</th>\n",
       "      <td>AD</td>\n",
       "      <td>2020-03-02</td>\n",
       "      <td>H</td>\n",
       "      <td>H2_diff</td>\n",
       "      <td>1</td>\n",
       "      <td>0.0</td>\n",
       "      <td>0.0</td>\n",
       "      <td>Deaths</td>\n",
       "      <td>JHU</td>\n",
       "      <td>NaN</td>\n",
       "      <td>...</td>\n",
       "      <td>0.5</td>\n",
       "      <td>0.5</td>\n",
       "      <td>0.5</td>\n",
       "      <td>0.529656</td>\n",
       "      <td>0.5</td>\n",
       "      <td>0.5</td>\n",
       "      <td>0.5</td>\n",
       "      <td>0.514924</td>\n",
       "      <td>0.5</td>\n",
       "      <td>0.524098</td>\n",
       "    </tr>\n",
       "    <tr>\n",
       "      <th>3</th>\n",
       "      <td>AD</td>\n",
       "      <td>2020-03-11</td>\n",
       "      <td>H</td>\n",
       "      <td>H6_diff</td>\n",
       "      <td>2</td>\n",
       "      <td>0.0</td>\n",
       "      <td>0.0</td>\n",
       "      <td>Deaths</td>\n",
       "      <td>JHU</td>\n",
       "      <td>NaN</td>\n",
       "      <td>...</td>\n",
       "      <td>0.5</td>\n",
       "      <td>0.5</td>\n",
       "      <td>0.5</td>\n",
       "      <td>0.529656</td>\n",
       "      <td>0.5</td>\n",
       "      <td>0.5</td>\n",
       "      <td>0.5</td>\n",
       "      <td>0.514924</td>\n",
       "      <td>0.5</td>\n",
       "      <td>0.524098</td>\n",
       "    </tr>\n",
       "    <tr>\n",
       "      <th>4</th>\n",
       "      <td>AD</td>\n",
       "      <td>2020-03-13</td>\n",
       "      <td>C</td>\n",
       "      <td>C3_diff</td>\n",
       "      <td>1</td>\n",
       "      <td>0.0</td>\n",
       "      <td>0.0</td>\n",
       "      <td>Deaths</td>\n",
       "      <td>JHU</td>\n",
       "      <td>NaN</td>\n",
       "      <td>...</td>\n",
       "      <td>0.5</td>\n",
       "      <td>0.5</td>\n",
       "      <td>0.5</td>\n",
       "      <td>0.529656</td>\n",
       "      <td>0.5</td>\n",
       "      <td>0.5</td>\n",
       "      <td>0.5</td>\n",
       "      <td>0.514924</td>\n",
       "      <td>0.5</td>\n",
       "      <td>0.524098</td>\n",
       "    </tr>\n",
       "  </tbody>\n",
       "</table>\n",
       "<p>5 rows × 59 columns</p>\n",
       "</div>"
      ],
      "text/plain": [
       "   ID        Date PolicyFamily PolicyType      value  Cases  Cases_New  \\\n",
       "0  AD  2020-02-27            E    E3_diff  141399008    0.0        0.0   \n",
       "1  AD  2020-02-28            E    E3_diff -141399008    0.0        0.0   \n",
       "2  AD  2020-03-02            H    H2_diff          1    0.0        0.0   \n",
       "3  AD  2020-03-11            H    H6_diff          2    0.0        0.0   \n",
       "4  AD  2020-03-13            C    C3_diff          1    0.0        0.0   \n",
       "\n",
       "     Type Source  J-56  ...  C5_diff  H1_diff  H3_diff   H4_diff  C8_diff  \\\n",
       "0  Deaths    JHU   NaN  ...      0.5      0.5      0.5  0.529656      0.5   \n",
       "1  Deaths    JHU   NaN  ...      0.5      0.5      0.5  0.529656      0.5   \n",
       "2  Deaths    JHU   NaN  ...      0.5      0.5      0.5  0.529656      0.5   \n",
       "3  Deaths    JHU   NaN  ...      0.5      0.5      0.5  0.529656      0.5   \n",
       "4  Deaths    JHU   NaN  ...      0.5      0.5      0.5  0.529656      0.5   \n",
       "\n",
       "   E2_diff  C4_diff   E4_diff  C7_diff   H5_diff  \n",
       "0      0.5      0.5  0.514924      0.5  0.524098  \n",
       "1      0.5      0.5  0.514924      0.5  0.524098  \n",
       "2      0.5      0.5  0.514924      0.5  0.524098  \n",
       "3      0.5      0.5  0.514924      0.5  0.524098  \n",
       "4      0.5      0.5  0.514924      0.5  0.524098  \n",
       "\n",
       "[5 rows x 59 columns]"
      ]
     },
     "execution_count": 3,
     "metadata": {},
     "output_type": "execute_result"
    }
   ],
   "source": [
    "df.head()"
   ]
  },
  {
   "cell_type": "code",
   "execution_count": 4,
   "metadata": {
    "ExecuteTime": {
     "end_time": "2020-12-16T14:56:21.984314Z",
     "start_time": "2020-12-16T14:56:21.974729Z"
    }
   },
   "outputs": [
    {
     "data": {
      "text/plain": [
       "Index(['ID', 'Date', 'PolicyFamily', 'PolicyType', 'value', 'Cases',\n",
       "       'Cases_New', 'Type', 'Source', 'J-56', 'J-42', 'J-35', 'J-28', 'J-21',\n",
       "       'J-14', 'J-7', 'J0', 'J7', 'J14', 'J21', 'J28', 'J35', 'J42', 'J49',\n",
       "       'J56', 'd_j-7', 'i_J-7', 'i_J-14', 'i_J-21', 'i_J-28', 'i_J-35',\n",
       "       'i_J-42', 'i_J-56', 'i_J7', 'i_J14', 'i_J21', 'i_J28', 'i_J35', 'i_J42',\n",
       "       'i_J49', 'i_J56', 'E3_diff', 'H2_diff', 'H6_diff', 'C3_diff', 'C6_diff',\n",
       "       'E1_diff', 'C2_diff', 'C1_diff', 'C5_diff', 'H1_diff', 'H3_diff',\n",
       "       'H4_diff', 'C8_diff', 'E2_diff', 'C4_diff', 'E4_diff', 'C7_diff',\n",
       "       'H5_diff'],\n",
       "      dtype='object')"
      ]
     },
     "execution_count": 4,
     "metadata": {},
     "output_type": "execute_result"
    }
   ],
   "source": [
    "df.columns"
   ]
  },
  {
   "cell_type": "code",
   "execution_count": 5,
   "metadata": {
    "ExecuteTime": {
     "end_time": "2020-12-16T14:56:22.007731Z",
     "start_time": "2020-12-16T14:56:21.989530Z"
    }
   },
   "outputs": [],
   "source": [
    "df['D28'] = df['J28'] -  df['J0']\n",
    "df['D21'] = df['J21'] -  df['J0']\n",
    "df['D14'] =  df['J14'] -  df['J0']\n",
    "df['D-14'] = df['J0'] -  df['J-14']\n",
    "df['D-21'] = df['J0'] -  df['J-21']\n",
    "df['D-28'] = df['J0'] -  df['J-28']"
   ]
  },
  {
   "cell_type": "markdown",
   "metadata": {},
   "source": [
    "# Let's start with dataviz"
   ]
  },
  {
   "cell_type": "code",
   "execution_count": 6,
   "metadata": {
    "ExecuteTime": {
     "end_time": "2020-12-16T14:56:34.837863Z",
     "start_time": "2020-12-16T14:56:33.484419Z"
    }
   },
   "outputs": [
    {
     "data": {
      "text/plain": [
       "<AxesSubplot:xlabel='D-14', ylabel='D14'>"
      ]
     },
     "execution_count": 6,
     "metadata": {},
     "output_type": "execute_result"
    },
    {
     "data": {
      "image/png": "[encoded data removed]",
      "text/plain": [
       "<Figure size 432x288 with 1 Axes>"
      ]
     },
     "metadata": {
      "needs_background": "light"
     },
     "output_type": "display_data"
    }
   ],
   "source": [
    "sns.scatterplot(x=df['D-14'],y=df['D14'],hue=df['PolicyType'])"
   ]
  },
  {
   "cell_type": "markdown",
   "metadata": {},
   "source": [
    "# Model: Linear Regression D-14 -> D14\n"
   ]
  },
  {
   "cell_type": "markdown",
   "metadata": {},
   "source": [
    "## Let's check feature importance"
   ]
  },
  {
   "cell_type": "code",
   "execution_count": 7,
   "metadata": {
    "ExecuteTime": {
     "end_time": "2020-12-16T14:57:35.918765Z",
     "start_time": "2020-12-16T14:57:35.899370Z"
    }
   },
   "outputs": [],
   "source": [
    "df1 = df.copy()"
   ]
  },
  {
   "cell_type": "code",
   "execution_count": 8,
   "metadata": {
    "ExecuteTime": {
     "end_time": "2020-12-16T14:57:37.262676Z",
     "start_time": "2020-12-16T14:57:37.254016Z"
    }
   },
   "outputs": [],
   "source": [
    "df_model_1 = df1[['D-14', 'D14', 'E3_diff', 'H2_diff', 'H6_diff', 'C3_diff', 'C6_diff',\n",
    "       'E1_diff', 'C2_diff', 'C1_diff', 'C5_diff', 'H1_diff', 'H3_diff',\n",
    "       'H4_diff', 'C8_diff', 'E2_diff', 'C4_diff', 'E4_diff', 'C7_diff',\n",
    "       'H5_diff']]"
   ]
  },
  {
   "cell_type": "code",
   "execution_count": 9,
   "metadata": {
    "ExecuteTime": {
     "end_time": "2020-12-16T14:57:38.411655Z",
     "start_time": "2020-12-16T14:57:38.284798Z"
    }
   },
   "outputs": [
    {
     "name": "stderr",
     "output_type": "stream",
     "text": [
      "/Users/lourizzolo/.pyenv/versions/3.7.7/envs/lewagon/lib/python3.7/site-packages/pandas/core/frame.py:4042: SettingWithCopyWarning: \n",
      "A value is trying to be set on a copy of a slice from a DataFrame\n",
      "\n",
      "See the caveats in the documentation: http://pandas.pydata.org/pandas-docs/stable/indexing.html#indexing-view-versus-copy\n",
      "  method=method)\n",
      "/Users/lourizzolo/.pyenv/versions/3.7.7/envs/lewagon/lib/python3.7/site-packages/ipykernel_launcher.py:2: SettingWithCopyWarning: \n",
      "A value is trying to be set on a copy of a slice from a DataFrame\n",
      "\n",
      "See the caveats in the documentation: http://pandas.pydata.org/pandas-docs/stable/indexing.html#indexing-view-versus-copy\n",
      "  \n"
     ]
    }
   ],
   "source": [
    "df_model_1.replace([np.inf, -np.inf], np.nan, inplace=True)\n",
    "df_model_1.dropna(inplace = True)"
   ]
  },
  {
   "cell_type": "code",
   "execution_count": 10,
   "metadata": {
    "ExecuteTime": {
     "end_time": "2020-12-16T14:57:39.331723Z",
     "start_time": "2020-12-16T14:57:39.268729Z"
    }
   },
   "outputs": [
    {
     "name": "stderr",
     "output_type": "stream",
     "text": [
      "/Users/lourizzolo/.pyenv/versions/3.7.7/envs/lewagon/lib/python3.7/site-packages/ipykernel_launcher.py:2: SettingWithCopyWarning: \n",
      "A value is trying to be set on a copy of a slice from a DataFrame.\n",
      "Try using .loc[row_indexer,col_indexer] = value instead\n",
      "\n",
      "See the caveats in the documentation: http://pandas.pydata.org/pandas-docs/stable/indexing.html#indexing-view-versus-copy\n",
      "  \n"
     ]
    }
   ],
   "source": [
    "scaler = MinMaxScaler()\n",
    "df_model_1['D-14'] = scaler.fit_transform(df_model_1[['D-14']])"
   ]
  },
  {
   "cell_type": "code",
   "execution_count": 11,
   "metadata": {
    "ExecuteTime": {
     "end_time": "2020-12-16T14:57:40.318883Z",
     "start_time": "2020-12-16T14:57:40.312916Z"
    }
   },
   "outputs": [],
   "source": [
    "X = df_model_1.drop(columns='D14')\n",
    "y = df_model_1['D14']"
   ]
  },
  {
   "cell_type": "code",
   "execution_count": 12,
   "metadata": {
    "ExecuteTime": {
     "end_time": "2020-12-16T14:57:41.282576Z",
     "start_time": "2020-12-16T14:57:41.272924Z"
    }
   },
   "outputs": [],
   "source": [
    "from sklearn.model_selection import train_test_split\n",
    "X_train, X_test, y_train, y_test = train_test_split(X, y, test_size=0.30, random_state=1)"
   ]
  },
  {
   "cell_type": "code",
   "execution_count": 13,
   "metadata": {
    "ExecuteTime": {
     "end_time": "2020-12-16T14:57:41.785710Z",
     "start_time": "2020-12-16T14:57:41.765269Z"
    }
   },
   "outputs": [
    {
     "data": {
      "text/plain": [
       "0.6436696849032073"
      ]
     },
     "execution_count": 13,
     "metadata": {},
     "output_type": "execute_result"
    }
   ],
   "source": [
    "from sklearn.linear_model import LinearRegression\n",
    "model=LinearRegression()\n",
    "model.fit(X_train,y_train)\n",
    "model.score(X_test,y_test)"
   ]
  },
  {
   "cell_type": "code",
   "execution_count": 14,
   "metadata": {
    "ExecuteTime": {
     "end_time": "2020-12-16T14:57:43.520443Z",
     "start_time": "2020-12-16T14:57:43.504925Z"
    }
   },
   "outputs": [
    {
     "data": {
      "text/html": [
       "<div>\n",
       "<style scoped>\n",
       "    .dataframe tbody tr th:only-of-type {\n",
       "        vertical-align: middle;\n",
       "    }\n",
       "\n",
       "    .dataframe tbody tr th {\n",
       "        vertical-align: top;\n",
       "    }\n",
       "\n",
       "    .dataframe thead th {\n",
       "        text-align: right;\n",
       "    }\n",
       "</style>\n",
       "<table border=\"1\" class=\"dataframe\">\n",
       "  <thead>\n",
       "    <tr style=\"text-align: right;\">\n",
       "      <th></th>\n",
       "      <th>Coefficient</th>\n",
       "    </tr>\n",
       "  </thead>\n",
       "  <tbody>\n",
       "    <tr>\n",
       "      <th>D-14</th>\n",
       "      <td>20076.885326</td>\n",
       "    </tr>\n",
       "    <tr>\n",
       "      <th>H5_diff</th>\n",
       "      <td>556.729646</td>\n",
       "    </tr>\n",
       "    <tr>\n",
       "      <th>E4_diff</th>\n",
       "      <td>368.708199</td>\n",
       "    </tr>\n",
       "    <tr>\n",
       "      <th>C6_diff</th>\n",
       "      <td>323.588380</td>\n",
       "    </tr>\n",
       "    <tr>\n",
       "      <th>E1_diff</th>\n",
       "      <td>317.488702</td>\n",
       "    </tr>\n",
       "    <tr>\n",
       "      <th>C2_diff</th>\n",
       "      <td>191.566056</td>\n",
       "    </tr>\n",
       "    <tr>\n",
       "      <th>C8_diff</th>\n",
       "      <td>120.849636</td>\n",
       "    </tr>\n",
       "    <tr>\n",
       "      <th>E2_diff</th>\n",
       "      <td>97.731470</td>\n",
       "    </tr>\n",
       "    <tr>\n",
       "      <th>C3_diff</th>\n",
       "      <td>97.448146</td>\n",
       "    </tr>\n",
       "    <tr>\n",
       "      <th>C7_diff</th>\n",
       "      <td>83.835015</td>\n",
       "    </tr>\n",
       "    <tr>\n",
       "      <th>C1_diff</th>\n",
       "      <td>62.178997</td>\n",
       "    </tr>\n",
       "    <tr>\n",
       "      <th>C5_diff</th>\n",
       "      <td>59.835503</td>\n",
       "    </tr>\n",
       "    <tr>\n",
       "      <th>C4_diff</th>\n",
       "      <td>46.181610</td>\n",
       "    </tr>\n",
       "    <tr>\n",
       "      <th>H6_diff</th>\n",
       "      <td>-87.515129</td>\n",
       "    </tr>\n",
       "    <tr>\n",
       "      <th>E3_diff</th>\n",
       "      <td>-103.743614</td>\n",
       "    </tr>\n",
       "    <tr>\n",
       "      <th>H3_diff</th>\n",
       "      <td>-129.990596</td>\n",
       "    </tr>\n",
       "    <tr>\n",
       "      <th>H1_diff</th>\n",
       "      <td>-140.908744</td>\n",
       "    </tr>\n",
       "    <tr>\n",
       "      <th>H2_diff</th>\n",
       "      <td>-228.365019</td>\n",
       "    </tr>\n",
       "    <tr>\n",
       "      <th>H4_diff</th>\n",
       "      <td>-1016.742145</td>\n",
       "    </tr>\n",
       "  </tbody>\n",
       "</table>\n",
       "</div>"
      ],
      "text/plain": [
       "          Coefficient\n",
       "D-14     20076.885326\n",
       "H5_diff    556.729646\n",
       "E4_diff    368.708199\n",
       "C6_diff    323.588380\n",
       "E1_diff    317.488702\n",
       "C2_diff    191.566056\n",
       "C8_diff    120.849636\n",
       "E2_diff     97.731470\n",
       "C3_diff     97.448146\n",
       "C7_diff     83.835015\n",
       "C1_diff     62.178997\n",
       "C5_diff     59.835503\n",
       "C4_diff     46.181610\n",
       "H6_diff    -87.515129\n",
       "E3_diff   -103.743614\n",
       "H3_diff   -129.990596\n",
       "H1_diff   -140.908744\n",
       "H2_diff   -228.365019\n",
       "H4_diff  -1016.742145"
      ]
     },
     "execution_count": 14,
     "metadata": {},
     "output_type": "execute_result"
    }
   ],
   "source": [
    "coeff_df = pd.DataFrame(model.coef_, X.columns, columns=['Coefficient'])\n",
    "coeff_df.sort_values(by=['Coefficient'], ascending=False)"
   ]
  },
  {
   "cell_type": "markdown",
   "metadata": {},
   "source": [
    "## Let's delete unrelevant "
   ]
  },
  {
   "cell_type": "code",
   "execution_count": 15,
   "metadata": {
    "ExecuteTime": {
     "end_time": "2020-12-16T15:03:39.537377Z",
     "start_time": "2020-12-16T15:03:39.532578Z"
    }
   },
   "outputs": [],
   "source": [
    "# H5 : Vaccines\n",
    "# E4_International support\n",
    "# E2 Income support\n",
    "# E1: Income support"
   ]
  },
  {
   "cell_type": "markdown",
   "metadata": {},
   "source": [
    "## Most important feature 14D"
   ]
  },
  {
   "cell_type": "code",
   "execution_count": 160,
   "metadata": {
    "ExecuteTime": {
     "end_time": "2020-12-16T15:50:23.427192Z",
     "start_time": "2020-12-16T15:50:23.418472Z"
    }
   },
   "outputs": [],
   "source": [
    "df_model_2 = df1[['D-14', 'D14', 'E3_diff', 'H2_diff', 'H6_diff', 'C3_diff', 'C6_diff',\n",
    "       'C2_diff', 'C1_diff', 'C5_diff', 'H1_diff', 'H3_diff',\n",
    "       'H4_diff', 'C8_diff', 'C4_diff','C7_diff']]"
   ]
  },
  {
   "cell_type": "code",
   "execution_count": 161,
   "metadata": {
    "ExecuteTime": {
     "end_time": "2020-12-16T15:50:24.334016Z",
     "start_time": "2020-12-16T15:50:24.094245Z"
    }
   },
   "outputs": [
    {
     "name": "stderr",
     "output_type": "stream",
     "text": [
      "/Users/lourizzolo/.pyenv/versions/3.7.7/envs/lewagon/lib/python3.7/site-packages/pandas/core/frame.py:4042: SettingWithCopyWarning: \n",
      "A value is trying to be set on a copy of a slice from a DataFrame\n",
      "\n",
      "See the caveats in the documentation: http://pandas.pydata.org/pandas-docs/stable/indexing.html#indexing-view-versus-copy\n",
      "  method=method)\n",
      "/Users/lourizzolo/.pyenv/versions/3.7.7/envs/lewagon/lib/python3.7/site-packages/ipykernel_launcher.py:2: SettingWithCopyWarning: \n",
      "A value is trying to be set on a copy of a slice from a DataFrame\n",
      "\n",
      "See the caveats in the documentation: http://pandas.pydata.org/pandas-docs/stable/indexing.html#indexing-view-versus-copy\n",
      "  \n"
     ]
    }
   ],
   "source": [
    "df_model_2.replace([np.inf, -np.inf], np.nan, inplace=True)\n",
    "df_model_2.dropna(inplace = True)"
   ]
  },
  {
   "cell_type": "code",
   "execution_count": 162,
   "metadata": {
    "ExecuteTime": {
     "end_time": "2020-12-16T15:50:27.800324Z",
     "start_time": "2020-12-16T15:50:27.793464Z"
    }
   },
   "outputs": [],
   "source": [
    "X = df_model_2.drop(columns=['D14'])\n",
    "y = df_model_2['D14']"
   ]
  },
  {
   "cell_type": "code",
   "execution_count": 163,
   "metadata": {
    "ExecuteTime": {
     "end_time": "2020-12-16T15:50:28.356092Z",
     "start_time": "2020-12-16T15:50:28.343669Z"
    }
   },
   "outputs": [],
   "source": [
    "X_train, X_test, y_train, y_test = train_test_split(X, y, test_size=0.30, random_state=1)"
   ]
  },
  {
   "cell_type": "code",
   "execution_count": 164,
   "metadata": {
    "ExecuteTime": {
     "end_time": "2020-12-16T15:50:29.008971Z",
     "start_time": "2020-12-16T15:50:28.990419Z"
    }
   },
   "outputs": [
    {
     "data": {
      "text/plain": [
       "0.644150948149506"
      ]
     },
     "execution_count": 164,
     "metadata": {},
     "output_type": "execute_result"
    }
   ],
   "source": [
    "model_2=LinearRegression()\n",
    "model_2.fit(X_train,y_train)\n",
    "model_2.score(X_test,y_test)"
   ]
  },
  {
   "cell_type": "code",
   "execution_count": 165,
   "metadata": {
    "ExecuteTime": {
     "end_time": "2020-12-16T15:50:35.165961Z",
     "start_time": "2020-12-16T15:50:35.153339Z"
    }
   },
   "outputs": [
    {
     "data": {
      "text/html": [
       "<div>\n",
       "<style scoped>\n",
       "    .dataframe tbody tr th:only-of-type {\n",
       "        vertical-align: middle;\n",
       "    }\n",
       "\n",
       "    .dataframe tbody tr th {\n",
       "        vertical-align: top;\n",
       "    }\n",
       "\n",
       "    .dataframe thead th {\n",
       "        text-align: right;\n",
       "    }\n",
       "</style>\n",
       "<table border=\"1\" class=\"dataframe\">\n",
       "  <thead>\n",
       "    <tr style=\"text-align: right;\">\n",
       "      <th></th>\n",
       "      <th>Coefficient</th>\n",
       "    </tr>\n",
       "  </thead>\n",
       "  <tbody>\n",
       "    <tr>\n",
       "      <th>C6_diff</th>\n",
       "      <td>321.715728</td>\n",
       "    </tr>\n",
       "    <tr>\n",
       "      <th>C2_diff</th>\n",
       "      <td>189.519250</td>\n",
       "    </tr>\n",
       "    <tr>\n",
       "      <th>C8_diff</th>\n",
       "      <td>118.264397</td>\n",
       "    </tr>\n",
       "    <tr>\n",
       "      <th>C3_diff</th>\n",
       "      <td>94.758762</td>\n",
       "    </tr>\n",
       "    <tr>\n",
       "      <th>C7_diff</th>\n",
       "      <td>82.817851</td>\n",
       "    </tr>\n",
       "    <tr>\n",
       "      <th>C1_diff</th>\n",
       "      <td>59.866621</td>\n",
       "    </tr>\n",
       "    <tr>\n",
       "      <th>C5_diff</th>\n",
       "      <td>58.933387</td>\n",
       "    </tr>\n",
       "    <tr>\n",
       "      <th>C4_diff</th>\n",
       "      <td>42.879848</td>\n",
       "    </tr>\n",
       "    <tr>\n",
       "      <th>D-14</th>\n",
       "      <td>0.937719</td>\n",
       "    </tr>\n",
       "    <tr>\n",
       "      <th>H6_diff</th>\n",
       "      <td>-93.267283</td>\n",
       "    </tr>\n",
       "    <tr>\n",
       "      <th>E3_diff</th>\n",
       "      <td>-100.352163</td>\n",
       "    </tr>\n",
       "    <tr>\n",
       "      <th>H3_diff</th>\n",
       "      <td>-134.270748</td>\n",
       "    </tr>\n",
       "    <tr>\n",
       "      <th>H1_diff</th>\n",
       "      <td>-146.773130</td>\n",
       "    </tr>\n",
       "    <tr>\n",
       "      <th>H2_diff</th>\n",
       "      <td>-235.286391</td>\n",
       "    </tr>\n",
       "    <tr>\n",
       "      <th>H4_diff</th>\n",
       "      <td>-1014.825084</td>\n",
       "    </tr>\n",
       "  </tbody>\n",
       "</table>\n",
       "</div>"
      ],
      "text/plain": [
       "         Coefficient\n",
       "C6_diff   321.715728\n",
       "C2_diff   189.519250\n",
       "C8_diff   118.264397\n",
       "C3_diff    94.758762\n",
       "C7_diff    82.817851\n",
       "C1_diff    59.866621\n",
       "C5_diff    58.933387\n",
       "C4_diff    42.879848\n",
       "D-14        0.937719\n",
       "H6_diff   -93.267283\n",
       "E3_diff  -100.352163\n",
       "H3_diff  -134.270748\n",
       "H1_diff  -146.773130\n",
       "H2_diff  -235.286391\n",
       "H4_diff -1014.825084"
      ]
     },
     "execution_count": 165,
     "metadata": {},
     "output_type": "execute_result"
    }
   ],
   "source": [
    "coeff_df = pd.DataFrame(model_2.coef_, X.columns, columns=['Coefficient'])\n",
    "coeff_df.sort_values(by=['Coefficient'], ascending=False)"
   ]
  },
  {
   "cell_type": "markdown",
   "metadata": {},
   "source": [
    "# Ridge"
   ]
  },
  {
   "cell_type": "markdown",
   "metadata": {},
   "source": [
    "## D-14 -> D14"
   ]
  },
  {
   "cell_type": "code",
   "execution_count": 166,
   "metadata": {
    "ExecuteTime": {
     "end_time": "2020-12-16T15:52:40.952683Z",
     "start_time": "2020-12-16T15:52:40.936947Z"
    }
   },
   "outputs": [],
   "source": [
    "df1 = df.copy()"
   ]
  },
  {
   "cell_type": "code",
   "execution_count": 167,
   "metadata": {
    "ExecuteTime": {
     "end_time": "2020-12-16T15:52:41.370291Z",
     "start_time": "2020-12-16T15:52:41.363495Z"
    }
   },
   "outputs": [],
   "source": [
    "df_ridge = df1[['D-14', 'D14', 'E3_diff', 'H2_diff', 'H6_diff', 'C3_diff', 'C6_diff',\n",
    "       'C2_diff', 'C1_diff', 'C5_diff', 'H1_diff', 'H3_diff',\n",
    "       'H4_diff', 'C8_diff', 'C4_diff','C7_diff']]"
   ]
  },
  {
   "cell_type": "code",
   "execution_count": 168,
   "metadata": {
    "ExecuteTime": {
     "end_time": "2020-12-16T15:52:42.077938Z",
     "start_time": "2020-12-16T15:52:41.867324Z"
    }
   },
   "outputs": [
    {
     "name": "stderr",
     "output_type": "stream",
     "text": [
      "/Users/lourizzolo/.pyenv/versions/3.7.7/envs/lewagon/lib/python3.7/site-packages/pandas/core/frame.py:4042: SettingWithCopyWarning: \n",
      "A value is trying to be set on a copy of a slice from a DataFrame\n",
      "\n",
      "See the caveats in the documentation: http://pandas.pydata.org/pandas-docs/stable/indexing.html#indexing-view-versus-copy\n",
      "  method=method)\n",
      "/Users/lourizzolo/.pyenv/versions/3.7.7/envs/lewagon/lib/python3.7/site-packages/ipykernel_launcher.py:2: SettingWithCopyWarning: \n",
      "A value is trying to be set on a copy of a slice from a DataFrame\n",
      "\n",
      "See the caveats in the documentation: http://pandas.pydata.org/pandas-docs/stable/indexing.html#indexing-view-versus-copy\n",
      "  \n"
     ]
    }
   ],
   "source": [
    "df_ridge.replace([np.inf, -np.inf], np.nan, inplace=True)\n",
    "df_ridge.dropna(inplace = True)"
   ]
  },
  {
   "cell_type": "code",
   "execution_count": 169,
   "metadata": {
    "ExecuteTime": {
     "end_time": "2020-12-16T15:52:42.592653Z",
     "start_time": "2020-12-16T15:52:42.484524Z"
    }
   },
   "outputs": [
    {
     "name": "stderr",
     "output_type": "stream",
     "text": [
      "/Users/lourizzolo/.pyenv/versions/3.7.7/envs/lewagon/lib/python3.7/site-packages/ipykernel_launcher.py:2: SettingWithCopyWarning: \n",
      "A value is trying to be set on a copy of a slice from a DataFrame.\n",
      "Try using .loc[row_indexer,col_indexer] = value instead\n",
      "\n",
      "See the caveats in the documentation: http://pandas.pydata.org/pandas-docs/stable/indexing.html#indexing-view-versus-copy\n",
      "  \n"
     ]
    }
   ],
   "source": [
    "scaler = MinMaxScaler()\n",
    "df_ridge['D-14'] = scaler.fit_transform(df_ridge[['D-14']])"
   ]
  },
  {
   "cell_type": "code",
   "execution_count": 170,
   "metadata": {
    "ExecuteTime": {
     "end_time": "2020-12-16T15:52:43.482309Z",
     "start_time": "2020-12-16T15:52:43.474615Z"
    }
   },
   "outputs": [],
   "source": [
    "X = df_ridge.drop(columns='D14')\n",
    "y = df_ridge['D14']"
   ]
  },
  {
   "cell_type": "code",
   "execution_count": 171,
   "metadata": {
    "ExecuteTime": {
     "end_time": "2020-12-16T15:52:44.020016Z",
     "start_time": "2020-12-16T15:52:44.010046Z"
    }
   },
   "outputs": [],
   "source": [
    "X_train, X_test, y_train, y_test = train_test_split(X, y, test_size=0.30, random_state=1)"
   ]
  },
  {
   "cell_type": "code",
   "execution_count": 172,
   "metadata": {
    "ExecuteTime": {
     "end_time": "2020-12-16T15:52:48.480290Z",
     "start_time": "2020-12-16T15:52:44.663929Z"
    }
   },
   "outputs": [
    {
     "name": "stdout",
     "output_type": "stream",
     "text": [
      "RandomizedSearchCV(estimator=Ridge(), n_iter=100,\n",
      "                   param_distributions={'alpha': <scipy.stats._distn_infrastructure.rv_frozen object at 0x11c9b5ed0>})\n",
      "0.7115774762234162\n",
      "0.2021136628232566\n"
     ]
    }
   ],
   "source": [
    "from sklearn.linear_model import Ridge\n",
    "from scipy.stats import uniform as sp_rand\n",
    "\n",
    "param_grid = {'alpha': sp_rand()}\n",
    "\n",
    "# create and fit a ridge regression model, testing random alpha values\n",
    "ridge = Ridge()\n",
    "rsearch = RandomizedSearchCV(estimator=ridge, param_distributions=param_grid, n_iter=100)\n",
    "rsearch.fit(X_train, y_train)\n",
    "print(rsearch)\n",
    "\n",
    "# summarize the results of the random parameter search\n",
    "print(rsearch.best_score_)\n",
    "print(rsearch.best_estimator_.alpha)"
   ]
  },
  {
   "cell_type": "code",
   "execution_count": 173,
   "metadata": {
    "ExecuteTime": {
     "end_time": "2020-12-16T15:52:48.501370Z",
     "start_time": "2020-12-16T15:52:48.487591Z"
    }
   },
   "outputs": [
    {
     "data": {
      "text/plain": [
       "Ridge(alpha=0.2021136628232566)"
      ]
     },
     "execution_count": 173,
     "metadata": {},
     "output_type": "execute_result"
    }
   ],
   "source": [
    "best_ridge = Ridge(alpha=rsearch.best_estimator_.alpha)\n",
    "best_ridge.fit(X_train,y_train)"
   ]
  },
  {
   "cell_type": "code",
   "execution_count": 174,
   "metadata": {
    "ExecuteTime": {
     "end_time": "2020-12-16T15:52:48.518850Z",
     "start_time": "2020-12-16T15:52:48.506755Z"
    }
   },
   "outputs": [
    {
     "data": {
      "text/plain": [
       "0.646405812114419"
      ]
     },
     "execution_count": 174,
     "metadata": {},
     "output_type": "execute_result"
    }
   ],
   "source": [
    "best_ridge.score(X_test,y_test)"
   ]
  },
  {
   "cell_type": "code",
   "execution_count": 175,
   "metadata": {
    "ExecuteTime": {
     "end_time": "2020-12-16T15:52:49.147657Z",
     "start_time": "2020-12-16T15:52:49.135433Z"
    }
   },
   "outputs": [
    {
     "data": {
      "text/html": [
       "<div>\n",
       "<style scoped>\n",
       "    .dataframe tbody tr th:only-of-type {\n",
       "        vertical-align: middle;\n",
       "    }\n",
       "\n",
       "    .dataframe tbody tr th {\n",
       "        vertical-align: top;\n",
       "    }\n",
       "\n",
       "    .dataframe thead th {\n",
       "        text-align: right;\n",
       "    }\n",
       "</style>\n",
       "<table border=\"1\" class=\"dataframe\">\n",
       "  <thead>\n",
       "    <tr style=\"text-align: right;\">\n",
       "      <th></th>\n",
       "      <th>Coefficient</th>\n",
       "    </tr>\n",
       "  </thead>\n",
       "  <tbody>\n",
       "    <tr>\n",
       "      <th>D-14</th>\n",
       "      <td>19688.393735</td>\n",
       "    </tr>\n",
       "    <tr>\n",
       "      <th>C6_diff</th>\n",
       "      <td>315.771950</td>\n",
       "    </tr>\n",
       "    <tr>\n",
       "      <th>C2_diff</th>\n",
       "      <td>182.974356</td>\n",
       "    </tr>\n",
       "    <tr>\n",
       "      <th>C8_diff</th>\n",
       "      <td>108.039566</td>\n",
       "    </tr>\n",
       "    <tr>\n",
       "      <th>C3_diff</th>\n",
       "      <td>89.871276</td>\n",
       "    </tr>\n",
       "    <tr>\n",
       "      <th>C7_diff</th>\n",
       "      <td>79.194103</td>\n",
       "    </tr>\n",
       "    <tr>\n",
       "      <th>C5_diff</th>\n",
       "      <td>54.962208</td>\n",
       "    </tr>\n",
       "    <tr>\n",
       "      <th>C1_diff</th>\n",
       "      <td>52.029353</td>\n",
       "    </tr>\n",
       "    <tr>\n",
       "      <th>C4_diff</th>\n",
       "      <td>39.006102</td>\n",
       "    </tr>\n",
       "    <tr>\n",
       "      <th>H6_diff</th>\n",
       "      <td>-96.843896</td>\n",
       "    </tr>\n",
       "    <tr>\n",
       "      <th>E3_diff</th>\n",
       "      <td>-105.217281</td>\n",
       "    </tr>\n",
       "    <tr>\n",
       "      <th>H3_diff</th>\n",
       "      <td>-135.538139</td>\n",
       "    </tr>\n",
       "    <tr>\n",
       "      <th>H1_diff</th>\n",
       "      <td>-154.592386</td>\n",
       "    </tr>\n",
       "    <tr>\n",
       "      <th>H2_diff</th>\n",
       "      <td>-240.409369</td>\n",
       "    </tr>\n",
       "    <tr>\n",
       "      <th>H4_diff</th>\n",
       "      <td>-1015.550148</td>\n",
       "    </tr>\n",
       "  </tbody>\n",
       "</table>\n",
       "</div>"
      ],
      "text/plain": [
       "          Coefficient\n",
       "D-14     19688.393735\n",
       "C6_diff    315.771950\n",
       "C2_diff    182.974356\n",
       "C8_diff    108.039566\n",
       "C3_diff     89.871276\n",
       "C7_diff     79.194103\n",
       "C5_diff     54.962208\n",
       "C1_diff     52.029353\n",
       "C4_diff     39.006102\n",
       "H6_diff    -96.843896\n",
       "E3_diff   -105.217281\n",
       "H3_diff   -135.538139\n",
       "H1_diff   -154.592386\n",
       "H2_diff   -240.409369\n",
       "H4_diff  -1015.550148"
      ]
     },
     "execution_count": 175,
     "metadata": {},
     "output_type": "execute_result"
    }
   ],
   "source": [
    "coeff_df_best_ridge = pd.DataFrame(best_ridge.coef_, X.columns, columns=['Coefficient'])\n",
    "coeff_df_best_ridge.sort_values(by=['Coefficient'], ascending=False)"
   ]
  },
  {
   "cell_type": "markdown",
   "metadata": {},
   "source": [
    "## Ridge without D-14"
   ]
  },
  {
   "cell_type": "code",
   "execution_count": 176,
   "metadata": {
    "ExecuteTime": {
     "end_time": "2020-12-16T15:53:02.997544Z",
     "start_time": "2020-12-16T15:53:02.989753Z"
    }
   },
   "outputs": [],
   "source": [
    "df_ridge = df1[['D14', 'E3_diff', 'H2_diff', 'H6_diff', 'C3_diff', 'C6_diff',\n",
    "       'C2_diff', 'C1_diff', 'C5_diff', 'H1_diff', 'H3_diff',\n",
    "       'H4_diff', 'C8_diff', 'C4_diff','C7_diff']]"
   ]
  },
  {
   "cell_type": "code",
   "execution_count": 177,
   "metadata": {
    "ExecuteTime": {
     "end_time": "2020-12-16T15:53:03.592821Z",
     "start_time": "2020-12-16T15:53:03.385732Z"
    }
   },
   "outputs": [
    {
     "name": "stderr",
     "output_type": "stream",
     "text": [
      "/Users/lourizzolo/.pyenv/versions/3.7.7/envs/lewagon/lib/python3.7/site-packages/pandas/core/frame.py:4042: SettingWithCopyWarning: \n",
      "A value is trying to be set on a copy of a slice from a DataFrame\n",
      "\n",
      "See the caveats in the documentation: http://pandas.pydata.org/pandas-docs/stable/indexing.html#indexing-view-versus-copy\n",
      "  method=method)\n",
      "/Users/lourizzolo/.pyenv/versions/3.7.7/envs/lewagon/lib/python3.7/site-packages/ipykernel_launcher.py:2: SettingWithCopyWarning: \n",
      "A value is trying to be set on a copy of a slice from a DataFrame\n",
      "\n",
      "See the caveats in the documentation: http://pandas.pydata.org/pandas-docs/stable/indexing.html#indexing-view-versus-copy\n",
      "  \n"
     ]
    }
   ],
   "source": [
    "df_ridge.replace([np.inf, -np.inf], np.nan, inplace=True)\n",
    "df_ridge.dropna(inplace = True)"
   ]
  },
  {
   "cell_type": "code",
   "execution_count": 178,
   "metadata": {
    "ExecuteTime": {
     "end_time": "2020-12-16T15:53:04.107896Z",
     "start_time": "2020-12-16T15:53:04.101144Z"
    }
   },
   "outputs": [],
   "source": [
    "X = df_ridge.drop(columns='D14')\n",
    "y = df_ridge['D14']"
   ]
  },
  {
   "cell_type": "code",
   "execution_count": 179,
   "metadata": {
    "ExecuteTime": {
     "end_time": "2020-12-16T15:53:04.594172Z",
     "start_time": "2020-12-16T15:53:04.584507Z"
    }
   },
   "outputs": [],
   "source": [
    "X_train, X_test, y_train, y_test = train_test_split(X, y, test_size=0.30, random_state=1)"
   ]
  },
  {
   "cell_type": "code",
   "execution_count": 180,
   "metadata": {
    "ExecuteTime": {
     "end_time": "2020-12-16T15:53:08.819752Z",
     "start_time": "2020-12-16T15:53:05.136554Z"
    }
   },
   "outputs": [
    {
     "name": "stdout",
     "output_type": "stream",
     "text": [
      "RandomizedSearchCV(estimator=Ridge(), n_iter=100,\n",
      "                   param_distributions={'alpha': <scipy.stats._distn_infrastructure.rv_frozen object at 0x11d748290>})\n",
      "0.006067838107966139\n",
      "0.9923342720590564\n"
     ]
    }
   ],
   "source": [
    "from sklearn.linear_model import Ridge\n",
    "from scipy.stats import uniform as sp_rand\n",
    "\n",
    "param_grid = {'alpha': sp_rand()}\n",
    "\n",
    "# create and fit a ridge regression model, testing random alpha values\n",
    "ridge = Ridge()\n",
    "rsearch = RandomizedSearchCV(estimator=ridge, param_distributions=param_grid, n_iter=100)\n",
    "rsearch.fit(X_train, y_train)\n",
    "print(rsearch)\n",
    "\n",
    "# summarize the results of the random parameter search\n",
    "print(rsearch.best_score_)\n",
    "print(rsearch.best_estimator_.alpha)"
   ]
  },
  {
   "cell_type": "code",
   "execution_count": 181,
   "metadata": {
    "ExecuteTime": {
     "end_time": "2020-12-16T15:53:08.839852Z",
     "start_time": "2020-12-16T15:53:08.825941Z"
    }
   },
   "outputs": [
    {
     "data": {
      "text/plain": [
       "Ridge(alpha=0.9923342720590564)"
      ]
     },
     "execution_count": 181,
     "metadata": {},
     "output_type": "execute_result"
    }
   ],
   "source": [
    "best_ridge_2 = Ridge(alpha=rsearch.best_estimator_.alpha)\n",
    "best_ridge_2.fit(X_train,y_train)"
   ]
  },
  {
   "cell_type": "code",
   "execution_count": 182,
   "metadata": {
    "ExecuteTime": {
     "end_time": "2020-12-16T15:53:08.859643Z",
     "start_time": "2020-12-16T15:53:08.846078Z"
    }
   },
   "outputs": [
    {
     "data": {
      "text/plain": [
       "0.011229886080561302"
      ]
     },
     "execution_count": 182,
     "metadata": {},
     "output_type": "execute_result"
    }
   ],
   "source": [
    "best_ridge_2.score(X_test,y_test)"
   ]
  },
  {
   "cell_type": "code",
   "execution_count": 183,
   "metadata": {
    "ExecuteTime": {
     "end_time": "2020-12-16T15:53:08.883214Z",
     "start_time": "2020-12-16T15:53:08.864895Z"
    }
   },
   "outputs": [
    {
     "data": {
      "text/html": [
       "<div>\n",
       "<style scoped>\n",
       "    .dataframe tbody tr th:only-of-type {\n",
       "        vertical-align: middle;\n",
       "    }\n",
       "\n",
       "    .dataframe tbody tr th {\n",
       "        vertical-align: top;\n",
       "    }\n",
       "\n",
       "    .dataframe thead th {\n",
       "        text-align: right;\n",
       "    }\n",
       "</style>\n",
       "<table border=\"1\" class=\"dataframe\">\n",
       "  <thead>\n",
       "    <tr style=\"text-align: right;\">\n",
       "      <th></th>\n",
       "      <th>Coefficient</th>\n",
       "    </tr>\n",
       "  </thead>\n",
       "  <tbody>\n",
       "    <tr>\n",
       "      <th>C7_diff</th>\n",
       "      <td>33.355704</td>\n",
       "    </tr>\n",
       "    <tr>\n",
       "      <th>C5_diff</th>\n",
       "      <td>-57.590967</td>\n",
       "    </tr>\n",
       "    <tr>\n",
       "      <th>C4_diff</th>\n",
       "      <td>-82.185963</td>\n",
       "    </tr>\n",
       "    <tr>\n",
       "      <th>C3_diff</th>\n",
       "      <td>-141.264600</td>\n",
       "    </tr>\n",
       "    <tr>\n",
       "      <th>C6_diff</th>\n",
       "      <td>-196.097422</td>\n",
       "    </tr>\n",
       "    <tr>\n",
       "      <th>C2_diff</th>\n",
       "      <td>-205.841207</td>\n",
       "    </tr>\n",
       "    <tr>\n",
       "      <th>C1_diff</th>\n",
       "      <td>-249.966026</td>\n",
       "    </tr>\n",
       "    <tr>\n",
       "      <th>E3_diff</th>\n",
       "      <td>-291.978571</td>\n",
       "    </tr>\n",
       "    <tr>\n",
       "      <th>H6_diff</th>\n",
       "      <td>-307.860760</td>\n",
       "    </tr>\n",
       "    <tr>\n",
       "      <th>H3_diff</th>\n",
       "      <td>-451.894623</td>\n",
       "    </tr>\n",
       "    <tr>\n",
       "      <th>C8_diff</th>\n",
       "      <td>-471.117350</td>\n",
       "    </tr>\n",
       "    <tr>\n",
       "      <th>H2_diff</th>\n",
       "      <td>-632.297879</td>\n",
       "    </tr>\n",
       "    <tr>\n",
       "      <th>H1_diff</th>\n",
       "      <td>-657.357910</td>\n",
       "    </tr>\n",
       "    <tr>\n",
       "      <th>H4_diff</th>\n",
       "      <td>-1073.357513</td>\n",
       "    </tr>\n",
       "  </tbody>\n",
       "</table>\n",
       "</div>"
      ],
      "text/plain": [
       "         Coefficient\n",
       "C7_diff    33.355704\n",
       "C5_diff   -57.590967\n",
       "C4_diff   -82.185963\n",
       "C3_diff  -141.264600\n",
       "C6_diff  -196.097422\n",
       "C2_diff  -205.841207\n",
       "C1_diff  -249.966026\n",
       "E3_diff  -291.978571\n",
       "H6_diff  -307.860760\n",
       "H3_diff  -451.894623\n",
       "C8_diff  -471.117350\n",
       "H2_diff  -632.297879\n",
       "H1_diff  -657.357910\n",
       "H4_diff -1073.357513"
      ]
     },
     "execution_count": 183,
     "metadata": {},
     "output_type": "execute_result"
    }
   ],
   "source": [
    "coeff_df_best_ridge_2 = pd.DataFrame(best_ridge_2.coef_, X.columns, columns=['Coefficient'])\n",
    "coeff_df_best_ridge_2.sort_values(by=['Coefficient'], ascending=False)"
   ]
  },
  {
   "cell_type": "markdown",
   "metadata": {},
   "source": [
    "# XGboost\n"
   ]
  },
  {
   "cell_type": "code",
   "execution_count": 184,
   "metadata": {
    "ExecuteTime": {
     "end_time": "2020-12-16T15:53:28.357640Z",
     "start_time": "2020-12-16T15:53:28.345634Z"
    }
   },
   "outputs": [],
   "source": [
    "df1 = df.copy()"
   ]
  },
  {
   "cell_type": "code",
   "execution_count": 185,
   "metadata": {
    "ExecuteTime": {
     "end_time": "2020-12-16T15:53:28.712250Z",
     "start_time": "2020-12-16T15:53:28.704973Z"
    }
   },
   "outputs": [],
   "source": [
    "df_xgb = df1[['D-14', 'D14', 'E3_diff', 'H2_diff', 'H6_diff', 'C3_diff', 'C6_diff',\n",
    "       'C2_diff', 'C1_diff', 'C5_diff', 'H1_diff', 'H3_diff',\n",
    "       'H4_diff', 'C8_diff', 'C4_diff','C7_diff']]"
   ]
  },
  {
   "cell_type": "code",
   "execution_count": 186,
   "metadata": {
    "ExecuteTime": {
     "end_time": "2020-12-16T15:53:29.312119Z",
     "start_time": "2020-12-16T15:53:29.104696Z"
    }
   },
   "outputs": [
    {
     "name": "stderr",
     "output_type": "stream",
     "text": [
      "/Users/lourizzolo/.pyenv/versions/3.7.7/envs/lewagon/lib/python3.7/site-packages/pandas/core/frame.py:4042: SettingWithCopyWarning: \n",
      "A value is trying to be set on a copy of a slice from a DataFrame\n",
      "\n",
      "See the caveats in the documentation: http://pandas.pydata.org/pandas-docs/stable/indexing.html#indexing-view-versus-copy\n",
      "  method=method)\n",
      "/Users/lourizzolo/.pyenv/versions/3.7.7/envs/lewagon/lib/python3.7/site-packages/ipykernel_launcher.py:2: SettingWithCopyWarning: \n",
      "A value is trying to be set on a copy of a slice from a DataFrame\n",
      "\n",
      "See the caveats in the documentation: http://pandas.pydata.org/pandas-docs/stable/indexing.html#indexing-view-versus-copy\n",
      "  \n"
     ]
    }
   ],
   "source": [
    "df_xgb.replace([np.inf, -np.inf], np.nan, inplace=True)\n",
    "df_xgb.dropna(inplace = True)"
   ]
  },
  {
   "cell_type": "code",
   "execution_count": 187,
   "metadata": {
    "ExecuteTime": {
     "end_time": "2020-12-16T15:53:29.907991Z",
     "start_time": "2020-12-16T15:53:29.805549Z"
    }
   },
   "outputs": [
    {
     "name": "stderr",
     "output_type": "stream",
     "text": [
      "/Users/lourizzolo/.pyenv/versions/3.7.7/envs/lewagon/lib/python3.7/site-packages/ipykernel_launcher.py:2: SettingWithCopyWarning: \n",
      "A value is trying to be set on a copy of a slice from a DataFrame.\n",
      "Try using .loc[row_indexer,col_indexer] = value instead\n",
      "\n",
      "See the caveats in the documentation: http://pandas.pydata.org/pandas-docs/stable/indexing.html#indexing-view-versus-copy\n",
      "  \n"
     ]
    }
   ],
   "source": [
    "scaler = MinMaxScaler()\n",
    "df_xgb['D-14'] = scaler.fit_transform(df_xgb[['D-14']])"
   ]
  },
  {
   "cell_type": "code",
   "execution_count": 188,
   "metadata": {
    "ExecuteTime": {
     "end_time": "2020-12-16T15:53:30.529298Z",
     "start_time": "2020-12-16T15:53:30.521768Z"
    }
   },
   "outputs": [],
   "source": [
    "X = df_xgb.drop(columns='D14')\n",
    "y = df_xgb['D14']"
   ]
  },
  {
   "cell_type": "code",
   "execution_count": 189,
   "metadata": {
    "ExecuteTime": {
     "end_time": "2020-12-16T15:53:31.135374Z",
     "start_time": "2020-12-16T15:53:31.124954Z"
    }
   },
   "outputs": [],
   "source": [
    "X_train, X_test, y_train, y_test = train_test_split(X, y, test_size=0.30, random_state=1)"
   ]
  },
  {
   "cell_type": "code",
   "execution_count": 190,
   "metadata": {
    "ExecuteTime": {
     "end_time": "2020-12-16T15:53:32.241398Z",
     "start_time": "2020-12-16T15:53:31.771039Z"
    }
   },
   "outputs": [
    {
     "data": {
      "text/plain": [
       "0.7043476654505187"
      ]
     },
     "execution_count": 190,
     "metadata": {},
     "output_type": "execute_result"
    }
   ],
   "source": [
    "from xgboost import XGBRegressor\n",
    "xgb_r = XGBRegressor()\n",
    "xgb_r.fit(X_train, y_train)\n",
    "\n",
    "xgb_r.score(X_test, y_test)"
   ]
  },
  {
   "cell_type": "code",
   "execution_count": 191,
   "metadata": {
    "ExecuteTime": {
     "end_time": "2020-12-16T15:53:33.410736Z",
     "start_time": "2020-12-16T15:53:33.403612Z"
    }
   },
   "outputs": [
    {
     "name": "stdout",
     "output_type": "stream",
     "text": [
      "RMSE: 562.297512\n"
     ]
    }
   ],
   "source": [
    "from sklearn.metrics import mean_squared_error\n",
    "rmse = np.sqrt(mean_squared_error(y_test, pred))\n",
    "print(\"RMSE: %f\" % (rmse))"
   ]
  },
  {
   "cell_type": "code",
   "execution_count": 192,
   "metadata": {
    "ExecuteTime": {
     "end_time": "2020-12-16T15:53:34.802900Z",
     "start_time": "2020-12-16T15:53:34.368852Z"
    },
    "scrolled": true
   },
   "outputs": [
    {
     "name": "stderr",
     "output_type": "stream",
     "text": [
      "/Users/lourizzolo/.pyenv/versions/3.7.7/envs/lewagon/lib/python3.7/site-packages/seaborn/distributions.py:2551: FutureWarning: `distplot` is a deprecated function and will be removed in a future version. Please adapt your code to use either `displot` (a figure-level function with similar flexibility) or `histplot` (an axes-level function for histograms).\n",
      "  warnings.warn(msg, FutureWarning)\n"
     ]
    },
    {
     "data": {
      "text/plain": [
       "<AxesSubplot:xlabel='D14', ylabel='Density'>"
      ]
     },
     "execution_count": 192,
     "metadata": {},
     "output_type": "execute_result"
    },
    {
     "data": {
      "image/png": "[encoded data removed]",
      "text/plain": [
       "<Figure size 432x288 with 1 Axes>"
      ]
     },
     "metadata": {
      "needs_background": "light"
     },
     "output_type": "display_data"
    }
   ],
   "source": [
    "sns.distplot(y)"
   ]
  },
  {
   "cell_type": "code",
   "execution_count": 193,
   "metadata": {
    "ExecuteTime": {
     "end_time": "2020-12-16T15:53:40.286157Z",
     "start_time": "2020-12-16T15:53:40.279006Z"
    }
   },
   "outputs": [],
   "source": [
    "temp = pd.concat([pd.Series(y_test).reset_index(drop=True),pd.Series(pred).reset_index(drop=True)], axis=1)"
   ]
  },
  {
   "cell_type": "code",
   "execution_count": 194,
   "metadata": {
    "ExecuteTime": {
     "end_time": "2020-12-16T15:53:40.579795Z",
     "start_time": "2020-12-16T15:53:40.575087Z"
    }
   },
   "outputs": [],
   "source": [
    "temp.columns = ['test','pred']"
   ]
  },
  {
   "cell_type": "code",
   "execution_count": 195,
   "metadata": {
    "ExecuteTime": {
     "end_time": "2020-12-16T15:53:41.005601Z",
     "start_time": "2020-12-16T15:53:40.990532Z"
    }
   },
   "outputs": [
    {
     "data": {
      "text/html": [
       "<div>\n",
       "<style scoped>\n",
       "    .dataframe tbody tr th:only-of-type {\n",
       "        vertical-align: middle;\n",
       "    }\n",
       "\n",
       "    .dataframe tbody tr th {\n",
       "        vertical-align: top;\n",
       "    }\n",
       "\n",
       "    .dataframe thead th {\n",
       "        text-align: right;\n",
       "    }\n",
       "</style>\n",
       "<table border=\"1\" class=\"dataframe\">\n",
       "  <thead>\n",
       "    <tr style=\"text-align: right;\">\n",
       "      <th></th>\n",
       "      <th>test</th>\n",
       "      <th>pred</th>\n",
       "    </tr>\n",
       "  </thead>\n",
       "  <tbody>\n",
       "    <tr>\n",
       "      <th>0</th>\n",
       "      <td>323.0</td>\n",
       "      <td>417.111603</td>\n",
       "    </tr>\n",
       "    <tr>\n",
       "      <th>1</th>\n",
       "      <td>23.0</td>\n",
       "      <td>61.148560</td>\n",
       "    </tr>\n",
       "    <tr>\n",
       "      <th>2</th>\n",
       "      <td>80.0</td>\n",
       "      <td>101.686958</td>\n",
       "    </tr>\n",
       "    <tr>\n",
       "      <th>3</th>\n",
       "      <td>0.0</td>\n",
       "      <td>2.731282</td>\n",
       "    </tr>\n",
       "    <tr>\n",
       "      <th>4</th>\n",
       "      <td>33.0</td>\n",
       "      <td>51.612377</td>\n",
       "    </tr>\n",
       "  </tbody>\n",
       "</table>\n",
       "</div>"
      ],
      "text/plain": [
       "    test        pred\n",
       "0  323.0  417.111603\n",
       "1   23.0   61.148560\n",
       "2   80.0  101.686958\n",
       "3    0.0    2.731282\n",
       "4   33.0   51.612377"
      ]
     },
     "execution_count": 195,
     "metadata": {},
     "output_type": "execute_result"
    }
   ],
   "source": [
    "temp.head()"
   ]
  },
  {
   "cell_type": "code",
   "execution_count": 196,
   "metadata": {
    "ExecuteTime": {
     "end_time": "2020-12-16T15:53:41.820391Z",
     "start_time": "2020-12-16T15:53:41.813065Z"
    }
   },
   "outputs": [],
   "source": [
    "temp2 = temp[temp['test']!=0]"
   ]
  },
  {
   "cell_type": "code",
   "execution_count": 197,
   "metadata": {
    "ExecuteTime": {
     "end_time": "2020-12-16T15:53:42.427466Z",
     "start_time": "2020-12-16T15:53:42.422990Z"
    }
   },
   "outputs": [
    {
     "name": "stdout",
     "output_type": "stream",
     "text": [
      "(2316, 2)\n",
      "(1885, 2)\n"
     ]
    }
   ],
   "source": [
    "print(temp.shape)\n",
    "print(temp2.shape)"
   ]
  },
  {
   "cell_type": "code",
   "execution_count": 198,
   "metadata": {
    "ExecuteTime": {
     "end_time": "2020-12-16T15:53:42.991863Z",
     "start_time": "2020-12-16T15:53:42.984366Z"
    }
   },
   "outputs": [],
   "source": [
    "import math"
   ]
  },
  {
   "cell_type": "code",
   "execution_count": 199,
   "metadata": {
    "ExecuteTime": {
     "end_time": "2020-12-16T15:53:43.495730Z",
     "start_time": "2020-12-16T15:53:43.484775Z"
    }
   },
   "outputs": [
    {
     "data": {
      "text/plain": [
       "623.2619200727872"
      ]
     },
     "execution_count": 199,
     "metadata": {},
     "output_type": "execute_result"
    }
   ],
   "source": [
    "math.sqrt(np.mean((temp2.test - temp2.pred)**2))"
   ]
  },
  {
   "cell_type": "markdown",
   "metadata": {},
   "source": [
    "# RandomForestRegressor"
   ]
  },
  {
   "cell_type": "markdown",
   "metadata": {},
   "source": [
    "## with D-14"
   ]
  },
  {
   "cell_type": "code",
   "execution_count": 220,
   "metadata": {
    "ExecuteTime": {
     "end_time": "2020-12-16T15:55:26.297693Z",
     "start_time": "2020-12-16T15:55:26.286251Z"
    }
   },
   "outputs": [],
   "source": [
    "df1 = df.copy()"
   ]
  },
  {
   "cell_type": "code",
   "execution_count": 221,
   "metadata": {
    "ExecuteTime": {
     "end_time": "2020-12-16T15:55:26.619238Z",
     "start_time": "2020-12-16T15:55:26.610530Z"
    }
   },
   "outputs": [],
   "source": [
    "df_rf = df1[['D14', 'D-14' ,'E3_diff', 'H2_diff', 'H6_diff', 'C3_diff', 'C6_diff',\n",
    "       'C2_diff', 'C1_diff', 'C5_diff', 'H1_diff', 'H3_diff',\n",
    "       'H4_diff', 'C8_diff', 'C4_diff','C7_diff']]"
   ]
  },
  {
   "cell_type": "code",
   "execution_count": 222,
   "metadata": {
    "ExecuteTime": {
     "end_time": "2020-12-16T15:55:27.605338Z",
     "start_time": "2020-12-16T15:55:27.407622Z"
    }
   },
   "outputs": [
    {
     "name": "stderr",
     "output_type": "stream",
     "text": [
      "/Users/lourizzolo/.pyenv/versions/3.7.7/envs/lewagon/lib/python3.7/site-packages/pandas/core/frame.py:4042: SettingWithCopyWarning: \n",
      "A value is trying to be set on a copy of a slice from a DataFrame\n",
      "\n",
      "See the caveats in the documentation: http://pandas.pydata.org/pandas-docs/stable/indexing.html#indexing-view-versus-copy\n",
      "  method=method)\n",
      "/Users/lourizzolo/.pyenv/versions/3.7.7/envs/lewagon/lib/python3.7/site-packages/ipykernel_launcher.py:2: SettingWithCopyWarning: \n",
      "A value is trying to be set on a copy of a slice from a DataFrame\n",
      "\n",
      "See the caveats in the documentation: http://pandas.pydata.org/pandas-docs/stable/indexing.html#indexing-view-versus-copy\n",
      "  \n"
     ]
    }
   ],
   "source": [
    "df_rf.replace([np.inf, -np.inf], np.nan, inplace=True)\n",
    "df_rf.dropna(inplace = True)"
   ]
  },
  {
   "cell_type": "code",
   "execution_count": 223,
   "metadata": {
    "ExecuteTime": {
     "end_time": "2020-12-16T15:55:27.854533Z",
     "start_time": "2020-12-16T15:55:27.846098Z"
    }
   },
   "outputs": [],
   "source": [
    "X = df_rf.drop(columns='D14')\n",
    "y = df_rf['D14']"
   ]
  },
  {
   "cell_type": "code",
   "execution_count": 224,
   "metadata": {
    "ExecuteTime": {
     "end_time": "2020-12-16T15:55:28.622464Z",
     "start_time": "2020-12-16T15:55:28.613270Z"
    }
   },
   "outputs": [],
   "source": [
    "X_train, X_test, y_train, y_test = train_test_split(X, y, test_size=0.30, random_state=1)"
   ]
  },
  {
   "cell_type": "code",
   "execution_count": 225,
   "metadata": {
    "ExecuteTime": {
     "end_time": "2020-12-16T15:55:31.366578Z",
     "start_time": "2020-12-16T15:55:29.886134Z"
    }
   },
   "outputs": [
    {
     "data": {
      "text/plain": [
       "0.6523029384110275"
      ]
     },
     "execution_count": 225,
     "metadata": {},
     "output_type": "execute_result"
    }
   ],
   "source": [
    "from sklearn.ensemble import RandomForestRegressor\n",
    "\n",
    "RF = RandomForestRegressor(n_estimators=100)\n",
    "\n",
    "RF.fit(X_train,y_train)\n",
    "\n",
    "RF.score(X_test,y_test)"
   ]
  },
  {
   "cell_type": "markdown",
   "metadata": {},
   "source": [
    "## without D-14"
   ]
  },
  {
   "cell_type": "code",
   "execution_count": 215,
   "metadata": {
    "ExecuteTime": {
     "end_time": "2020-12-16T15:54:56.171447Z",
     "start_time": "2020-12-16T15:54:56.162911Z"
    }
   },
   "outputs": [],
   "source": [
    "df_rf = df1[['D14', 'E3_diff', 'H2_diff', 'H6_diff', 'C3_diff', 'C6_diff',\n",
    "       'C2_diff', 'C1_diff', 'C5_diff', 'H1_diff', 'H3_diff',\n",
    "       'H4_diff', 'C8_diff', 'C4_diff','C7_diff']]"
   ]
  },
  {
   "cell_type": "code",
   "execution_count": 216,
   "metadata": {
    "ExecuteTime": {
     "end_time": "2020-12-16T15:54:57.050193Z",
     "start_time": "2020-12-16T15:54:56.820283Z"
    }
   },
   "outputs": [
    {
     "name": "stderr",
     "output_type": "stream",
     "text": [
      "/Users/lourizzolo/.pyenv/versions/3.7.7/envs/lewagon/lib/python3.7/site-packages/pandas/core/frame.py:4042: SettingWithCopyWarning: \n",
      "A value is trying to be set on a copy of a slice from a DataFrame\n",
      "\n",
      "See the caveats in the documentation: http://pandas.pydata.org/pandas-docs/stable/indexing.html#indexing-view-versus-copy\n",
      "  method=method)\n",
      "/Users/lourizzolo/.pyenv/versions/3.7.7/envs/lewagon/lib/python3.7/site-packages/ipykernel_launcher.py:2: SettingWithCopyWarning: \n",
      "A value is trying to be set on a copy of a slice from a DataFrame\n",
      "\n",
      "See the caveats in the documentation: http://pandas.pydata.org/pandas-docs/stable/indexing.html#indexing-view-versus-copy\n",
      "  \n"
     ]
    }
   ],
   "source": [
    "df_rf.replace([np.inf, -np.inf], np.nan, inplace=True)\n",
    "df_rf.dropna(inplace = True)"
   ]
  },
  {
   "cell_type": "code",
   "execution_count": 217,
   "metadata": {
    "ExecuteTime": {
     "end_time": "2020-12-16T15:54:57.663510Z",
     "start_time": "2020-12-16T15:54:57.655612Z"
    }
   },
   "outputs": [],
   "source": [
    "X = df_rf.drop(columns='D14')\n",
    "y = df_rf['D14']"
   ]
  },
  {
   "cell_type": "code",
   "execution_count": 218,
   "metadata": {
    "ExecuteTime": {
     "end_time": "2020-12-16T15:54:58.199309Z",
     "start_time": "2020-12-16T15:54:58.189217Z"
    }
   },
   "outputs": [],
   "source": [
    "X_train, X_test, y_train, y_test = train_test_split(X, y, test_size=0.30, random_state=1)"
   ]
  },
  {
   "cell_type": "code",
   "execution_count": 219,
   "metadata": {
    "ExecuteTime": {
     "end_time": "2020-12-16T15:54:59.710510Z",
     "start_time": "2020-12-16T15:54:58.776982Z"
    }
   },
   "outputs": [
    {
     "data": {
      "text/plain": [
       "-0.07772113038766526"
      ]
     },
     "execution_count": 219,
     "metadata": {},
     "output_type": "execute_result"
    }
   ],
   "source": [
    "from sklearn.ensemble import RandomForestRegressor\n",
    "\n",
    "RF = RandomForestRegressor(n_estimators=100)\n",
    "\n",
    "RF.fit(X_train,y_train)\n",
    "\n",
    "RF.score(X_test,y_test)"
   ]
  },
  {
   "cell_type": "markdown",
   "metadata": {},
   "source": [
    "# Neural Network"
   ]
  },
  {
   "cell_type": "code",
   "execution_count": null,
   "metadata": {
    "ExecuteTime": {
     "end_time": "2020-12-16T14:41:24.650857Z",
     "start_time": "2020-12-16T14:41:24.635927Z"
    }
   },
   "outputs": [],
   "source": [
    "df1 = df.copy()"
   ]
  },
  {
   "cell_type": "code",
   "execution_count": null,
   "metadata": {
    "ExecuteTime": {
     "end_time": "2020-12-16T14:41:25.226539Z",
     "start_time": "2020-12-16T14:41:25.215525Z"
    }
   },
   "outputs": [],
   "source": [
    "df_nn = df1[['D14', 'E3_diff', 'H2_diff', 'H6_diff', 'C3_diff', 'C6_diff',\n",
    "       'E1_diff', 'C2_diff', 'C1_diff', 'C5_diff', 'H1_diff', 'H3_diff',\n",
    "       'H4_diff', 'C8_diff', 'E2_diff', 'C4_diff', 'E4_diff', 'C7_diff',\n",
    "       'H5_diff']]"
   ]
  },
  {
   "cell_type": "code",
   "execution_count": null,
   "metadata": {
    "ExecuteTime": {
     "end_time": "2020-12-16T14:41:26.825892Z",
     "start_time": "2020-12-16T14:41:25.844836Z"
    }
   },
   "outputs": [],
   "source": [
    "df_nn.replace([np.inf, -np.inf], np.nan, inplace=True)\n",
    "df_nn.dropna(inplace = True)"
   ]
  },
  {
   "cell_type": "code",
   "execution_count": null,
   "metadata": {
    "ExecuteTime": {
     "end_time": "2020-12-16T14:41:35.882663Z",
     "start_time": "2020-12-16T14:41:35.865989Z"
    }
   },
   "outputs": [],
   "source": [
    "X = df_nn.drop(columns='D14')\n",
    "y = df_nn['D14']"
   ]
  },
  {
   "cell_type": "code",
   "execution_count": null,
   "metadata": {
    "ExecuteTime": {
     "end_time": "2020-12-16T14:41:36.613764Z",
     "start_time": "2020-12-16T14:41:36.599787Z"
    }
   },
   "outputs": [],
   "source": [
    "X_train, X_test, y_train, y_test = train_test_split(X, y, test_size=0.30, random_state=1)"
   ]
  },
  {
   "cell_type": "code",
   "execution_count": null,
   "metadata": {
    "ExecuteTime": {
     "end_time": "2020-12-16T14:41:37.327624Z",
     "start_time": "2020-12-16T14:41:37.317128Z"
    }
   },
   "outputs": [],
   "source": [
    "import numpy as np\n",
    "from tensorflow.keras.models import Sequential\n",
    "from tensorflow.keras import layers"
   ]
  },
  {
   "cell_type": "code",
   "execution_count": null,
   "metadata": {
    "ExecuteTime": {
     "end_time": "2020-12-16T14:41:59.862289Z",
     "start_time": "2020-12-16T14:41:59.769253Z"
    }
   },
   "outputs": [],
   "source": [
    "def initialize_model():\n",
    "\n",
    "    ### Model architecture\n",
    "    model = Sequential()\n",
    "    model.add(layers.Dense(64, activation='relu', input_dim=18))\n",
    "    model.add(layers.Dense(32, activation='relu'))\n",
    "    model.add(layers.Dense(1, activation=\"linear\"))\n",
    "    \n",
    "    \n",
    "    # Model optimization : Optimized, loss and metric to \n",
    "    model.compile(optimizer='adam',\n",
    "                  loss='mse',       # MSE stands for Mean Square Error\n",
    "                  metrics=['mae'])  # MAE stands for Mean Absolute Error\n",
    "    \n",
    "    return model\n",
    "\n",
    "\n",
    "model = initialize_model()"
   ]
  },
  {
   "cell_type": "code",
   "execution_count": null,
   "metadata": {
    "ExecuteTime": {
     "end_time": "2020-12-16T14:42:00.515813Z",
     "start_time": "2020-12-16T14:42:00.505255Z"
    }
   },
   "outputs": [],
   "source": [
    "model.summary()"
   ]
  },
  {
   "cell_type": "code",
   "execution_count": null,
   "metadata": {
    "ExecuteTime": {
     "end_time": "2020-12-16T14:42:01.364256Z",
     "start_time": "2020-12-16T14:42:01.353610Z"
    }
   },
   "outputs": [],
   "source": [
    "def plot_loss_mae(history):\n",
    "    plt.plot(history.history['loss'])\n",
    "    plt.plot(history.history['val_loss'])\n",
    "    plt.title('Model loss')\n",
    "    plt.ylabel('Loss')\n",
    "    plt.xlabel('Epoch')\n",
    "    plt.legend(['Train', 'Test'], loc='best')\n",
    "    plt.show()\n",
    "    \n",
    "    plt.plot(history.history['mae'])\n",
    "    plt.plot(history.history['val_mae'])\n",
    "    plt.title('Model MAE')\n",
    "    plt.ylabel('MAE')\n",
    "    plt.xlabel('Epoch')\n",
    "    plt.legend(['Train', 'Test'], loc='best')\n",
    "    plt.show()\n",
    "    "
   ]
  },
  {
   "cell_type": "code",
   "execution_count": null,
   "metadata": {
    "ExecuteTime": {
     "end_time": "2020-12-16T14:42:07.319538Z",
     "start_time": "2020-12-16T14:42:02.239807Z"
    }
   },
   "outputs": [],
   "source": [
    "model = initialize_model()\n",
    "\n",
    "history = model.fit(X_train, y_train,\n",
    "                    validation_data=(X_test, y_test),\n",
    "                    epochs=5,\n",
    "                    batch_size=16,\n",
    "                    verbose=0)\n",
    "\n",
    "plot_loss_mae(history)"
   ]
  },
  {
   "cell_type": "code",
   "execution_count": null,
   "metadata": {},
   "outputs": [],
   "source": []
  }
 ],
 "metadata": {
  "kernelspec": {
   "display_name": "Python 3",
   "language": "python",
   "name": "python3"
  },
  "language_info": {
   "codemirror_mode": {
    "name": "ipython",
    "version": 3
   },
   "file_extension": ".py",
   "mimetype": "text/x-python",
   "name": "python",
   "nbconvert_exporter": "python",
   "pygments_lexer": "ipython3",
   "version": "3.7.7"
  },
  "toc": {
   "base_numbering": 1,
   "nav_menu": {},
   "number_sections": true,
   "sideBar": true,
   "skip_h1_title": false,
   "title_cell": "Table of Contents",
   "title_sidebar": "Contents",
   "toc_cell": false,
   "toc_position": {},
   "toc_section_display": true,
   "toc_window_display": false
  }
 },
 "nbformat": 4,
 "nbformat_minor": 4
}

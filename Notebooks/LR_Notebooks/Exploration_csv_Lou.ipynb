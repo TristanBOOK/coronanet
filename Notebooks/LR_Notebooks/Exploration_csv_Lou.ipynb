{
 "cells": [
  {
   "cell_type": "code",
   "execution_count": 71,
   "metadata": {
    "ExecuteTime": {
     "end_time": "2020-12-11T12:30:37.611562Z",
     "start_time": "2020-12-11T12:30:37.558691Z"
    }
   },
   "outputs": [
    {
     "data": {
      "text/plain": [
       "'/Users/lourizzolo/code/LouR238/coronanet/Notebooks'"
      ]
     },
     "execution_count": 71,
     "metadata": {},
     "output_type": "execute_result"
    }
   ],
   "source": [
    "pwd"
   ]
  },
  {
   "cell_type": "code",
   "execution_count": 72,
   "metadata": {
    "ExecuteTime": {
     "end_time": "2020-12-11T12:30:37.670283Z",
     "start_time": "2020-12-11T12:30:37.617197Z"
    }
   },
   "outputs": [
    {
     "name": "stdout",
     "output_type": "stream",
     "text": [
      "The autoreload extension is already loaded. To reload it, use:\n",
      "  %reload_ext autoreload\n"
     ]
    }
   ],
   "source": [
    "%load_ext autoreload\n",
    "%autoreload 2"
   ]
  },
  {
   "cell_type": "code",
   "execution_count": 73,
   "metadata": {
    "ExecuteTime": {
     "end_time": "2020-12-11T12:30:37.718843Z",
     "start_time": "2020-12-11T12:30:37.676751Z"
    }
   },
   "outputs": [],
   "source": [
    "# Import usual modules\n",
    "import pandas as pd\n",
    "import numpy as np\n",
    "import seaborn as sns\n",
    "import matplotlib.pyplot as plt\n",
    "import datetime\n",
    "import pyreadr\n",
    "from IPython.display import display\n",
    "from coronanet.data import Coronanet\n",
    "from coronanet.coronanet_pp import Prepro_coronanet"
   ]
  },
  {
   "cell_type": "markdown",
   "metadata": {},
   "source": [
    "# Import des trois tables"
   ]
  },
  {
   "cell_type": "code",
   "execution_count": 74,
   "metadata": {
    "ExecuteTime": {
     "end_time": "2020-12-11T12:30:40.759629Z",
     "start_time": "2020-12-11T12:30:37.724817Z"
    }
   },
   "outputs": [
    {
     "name": "stderr",
     "output_type": "stream",
     "text": [
      "/Users/lourizzolo/.pyenv/versions/3.7.7/envs/lewagon/lib/python3.7/site-packages/coronanet/coronanet_pp.py:30: SettingWithCopyWarning: \n",
      "A value is trying to be set on a copy of a slice from a DataFrame\n",
      "\n",
      "See the caveats in the documentation: http://pandas.pydata.org/pandas-docs/stable/indexing.html#indexing-view-versus-copy\n",
      "  df_select.drop_duplicates(subset=['policy_id'], inplace=True)\n"
     ]
    }
   ],
   "source": [
    "df_coronanet = Coronanet().get_raw_data()\n",
    "df_coronanet = Prepro_coronanet().prepro_data()"
   ]
  },
  {
   "cell_type": "code",
   "execution_count": 75,
   "metadata": {
    "ExecuteTime": {
     "end_time": "2020-12-11T12:30:40.954581Z",
     "start_time": "2020-12-11T12:30:40.763818Z"
    }
   },
   "outputs": [
    {
     "data": {
      "text/html": [
       "<div>\n",
       "<style scoped>\n",
       "    .dataframe tbody tr th:only-of-type {\n",
       "        vertical-align: middle;\n",
       "    }\n",
       "\n",
       "    .dataframe tbody tr th {\n",
       "        vertical-align: top;\n",
       "    }\n",
       "\n",
       "    .dataframe thead th {\n",
       "        text-align: right;\n",
       "    }\n",
       "</style>\n",
       "<table border=\"1\" class=\"dataframe\">\n",
       "  <thead>\n",
       "    <tr style=\"text-align: right;\">\n",
       "      <th></th>\n",
       "      <th>policy_id</th>\n",
       "      <th>date_start</th>\n",
       "      <th>country</th>\n",
       "      <th>ISO_A3</th>\n",
       "      <th>compliance</th>\n",
       "      <th>n_compliance</th>\n",
       "      <th>type_Anti-Disinformation Measures</th>\n",
       "      <th>type_Closure and Regulation of Schools</th>\n",
       "      <th>type_Curfew</th>\n",
       "      <th>type_Declaration of Emergency</th>\n",
       "      <th>...</th>\n",
       "      <th>type_Internal Border Restrictions</th>\n",
       "      <th>type_Lockdown</th>\n",
       "      <th>type_New Task Force, Bureau or Administrative Configuration</th>\n",
       "      <th>type_Other Policy Not Listed Above</th>\n",
       "      <th>type_Public Awareness Measures</th>\n",
       "      <th>type_Quarantine</th>\n",
       "      <th>type_Restriction and Regulation of Businesses</th>\n",
       "      <th>type_Restriction and Regulation of Government Services</th>\n",
       "      <th>type_Restrictions of Mass Gatherings</th>\n",
       "      <th>type_Social Distancing</th>\n",
       "    </tr>\n",
       "  </thead>\n",
       "  <tbody>\n",
       "    <tr>\n",
       "      <th>0</th>\n",
       "      <td>2975738</td>\n",
       "      <td>2020-03-06</td>\n",
       "      <td>Afghanistan</td>\n",
       "      <td>AFG</td>\n",
       "      <td>Voluntary/Recommended but No Penalties</td>\n",
       "      <td>0.0</td>\n",
       "      <td>1</td>\n",
       "      <td>0</td>\n",
       "      <td>0</td>\n",
       "      <td>0</td>\n",
       "      <td>...</td>\n",
       "      <td>0</td>\n",
       "      <td>0</td>\n",
       "      <td>0</td>\n",
       "      <td>0</td>\n",
       "      <td>0</td>\n",
       "      <td>0</td>\n",
       "      <td>0</td>\n",
       "      <td>0</td>\n",
       "      <td>0</td>\n",
       "      <td>0</td>\n",
       "    </tr>\n",
       "    <tr>\n",
       "      <th>1</th>\n",
       "      <td>7024226</td>\n",
       "      <td>2020-03-16</td>\n",
       "      <td>Afghanistan</td>\n",
       "      <td>AFG</td>\n",
       "      <td>Mandatory (Unspecified/Implied)</td>\n",
       "      <td>1.0</td>\n",
       "      <td>1</td>\n",
       "      <td>0</td>\n",
       "      <td>0</td>\n",
       "      <td>0</td>\n",
       "      <td>...</td>\n",
       "      <td>0</td>\n",
       "      <td>0</td>\n",
       "      <td>0</td>\n",
       "      <td>0</td>\n",
       "      <td>0</td>\n",
       "      <td>0</td>\n",
       "      <td>0</td>\n",
       "      <td>0</td>\n",
       "      <td>0</td>\n",
       "      <td>0</td>\n",
       "    </tr>\n",
       "    <tr>\n",
       "      <th>2</th>\n",
       "      <td>889484</td>\n",
       "      <td>2020-05-28</td>\n",
       "      <td>Afghanistan</td>\n",
       "      <td>AFG</td>\n",
       "      <td>Voluntary/Recommended but No Penalties</td>\n",
       "      <td>0.0</td>\n",
       "      <td>1</td>\n",
       "      <td>0</td>\n",
       "      <td>0</td>\n",
       "      <td>0</td>\n",
       "      <td>...</td>\n",
       "      <td>0</td>\n",
       "      <td>0</td>\n",
       "      <td>0</td>\n",
       "      <td>0</td>\n",
       "      <td>0</td>\n",
       "      <td>0</td>\n",
       "      <td>0</td>\n",
       "      <td>0</td>\n",
       "      <td>0</td>\n",
       "      <td>0</td>\n",
       "    </tr>\n",
       "    <tr>\n",
       "      <th>3</th>\n",
       "      <td>129322</td>\n",
       "      <td>2020-06-28</td>\n",
       "      <td>Afghanistan</td>\n",
       "      <td>AFG</td>\n",
       "      <td>Voluntary/Recommended but No Penalties</td>\n",
       "      <td>0.0</td>\n",
       "      <td>1</td>\n",
       "      <td>0</td>\n",
       "      <td>0</td>\n",
       "      <td>0</td>\n",
       "      <td>...</td>\n",
       "      <td>0</td>\n",
       "      <td>0</td>\n",
       "      <td>0</td>\n",
       "      <td>0</td>\n",
       "      <td>0</td>\n",
       "      <td>0</td>\n",
       "      <td>0</td>\n",
       "      <td>0</td>\n",
       "      <td>0</td>\n",
       "      <td>0</td>\n",
       "    </tr>\n",
       "    <tr>\n",
       "      <th>4</th>\n",
       "      <td>6721435</td>\n",
       "      <td>2020-03-09</td>\n",
       "      <td>Afghanistan</td>\n",
       "      <td>AFG</td>\n",
       "      <td>Mandatory (Unspecified/Implied)</td>\n",
       "      <td>1.0</td>\n",
       "      <td>0</td>\n",
       "      <td>1</td>\n",
       "      <td>0</td>\n",
       "      <td>0</td>\n",
       "      <td>...</td>\n",
       "      <td>0</td>\n",
       "      <td>0</td>\n",
       "      <td>0</td>\n",
       "      <td>0</td>\n",
       "      <td>0</td>\n",
       "      <td>0</td>\n",
       "      <td>0</td>\n",
       "      <td>0</td>\n",
       "      <td>0</td>\n",
       "      <td>0</td>\n",
       "    </tr>\n",
       "  </tbody>\n",
       "</table>\n",
       "<p>5 rows × 25 columns</p>\n",
       "</div>"
      ],
      "text/plain": [
       "   policy_id date_start      country ISO_A3  \\\n",
       "0    2975738 2020-03-06  Afghanistan    AFG   \n",
       "1    7024226 2020-03-16  Afghanistan    AFG   \n",
       "2     889484 2020-05-28  Afghanistan    AFG   \n",
       "3     129322 2020-06-28  Afghanistan    AFG   \n",
       "4    6721435 2020-03-09  Afghanistan    AFG   \n",
       "\n",
       "                               compliance  n_compliance  \\\n",
       "0  Voluntary/Recommended but No Penalties           0.0   \n",
       "1         Mandatory (Unspecified/Implied)           1.0   \n",
       "2  Voluntary/Recommended but No Penalties           0.0   \n",
       "3  Voluntary/Recommended but No Penalties           0.0   \n",
       "4         Mandatory (Unspecified/Implied)           1.0   \n",
       "\n",
       "   type_Anti-Disinformation Measures  type_Closure and Regulation of Schools  \\\n",
       "0                                  1                                       0   \n",
       "1                                  1                                       0   \n",
       "2                                  1                                       0   \n",
       "3                                  1                                       0   \n",
       "4                                  0                                       1   \n",
       "\n",
       "   type_Curfew  type_Declaration of Emergency  ...  \\\n",
       "0            0                              0  ...   \n",
       "1            0                              0  ...   \n",
       "2            0                              0  ...   \n",
       "3            0                              0  ...   \n",
       "4            0                              0  ...   \n",
       "\n",
       "   type_Internal Border Restrictions  type_Lockdown  \\\n",
       "0                                  0              0   \n",
       "1                                  0              0   \n",
       "2                                  0              0   \n",
       "3                                  0              0   \n",
       "4                                  0              0   \n",
       "\n",
       "   type_New Task Force, Bureau or Administrative Configuration  \\\n",
       "0                                                  0             \n",
       "1                                                  0             \n",
       "2                                                  0             \n",
       "3                                                  0             \n",
       "4                                                  0             \n",
       "\n",
       "   type_Other Policy Not Listed Above  type_Public Awareness Measures  \\\n",
       "0                                   0                               0   \n",
       "1                                   0                               0   \n",
       "2                                   0                               0   \n",
       "3                                   0                               0   \n",
       "4                                   0                               0   \n",
       "\n",
       "   type_Quarantine  type_Restriction and Regulation of Businesses  \\\n",
       "0                0                                              0   \n",
       "1                0                                              0   \n",
       "2                0                                              0   \n",
       "3                0                                              0   \n",
       "4                0                                              0   \n",
       "\n",
       "   type_Restriction and Regulation of Government Services  \\\n",
       "0                                                  0        \n",
       "1                                                  0        \n",
       "2                                                  0        \n",
       "3                                                  0        \n",
       "4                                                  0        \n",
       "\n",
       "   type_Restrictions of Mass Gatherings  type_Social Distancing  \n",
       "0                                     0                       0  \n",
       "1                                     0                       0  \n",
       "2                                     0                       0  \n",
       "3                                     0                       0  \n",
       "4                                     0                       0  \n",
       "\n",
       "[5 rows x 25 columns]"
      ]
     },
     "execution_count": 75,
     "metadata": {},
     "output_type": "execute_result"
    }
   ],
   "source": [
    "df_coronanet.head()"
   ]
  },
  {
   "cell_type": "code",
   "execution_count": 76,
   "metadata": {
    "ExecuteTime": {
     "end_time": "2020-12-11T12:31:39.439427Z",
     "start_time": "2020-12-11T12:30:40.958602Z"
    }
   },
   "outputs": [
    {
     "name": "stdout",
     "output_type": "stream",
     "text": [
      "odict_keys(['COVID19'])\n"
     ]
    }
   ],
   "source": [
    "df_cases = pyreadr.read_r('../data/COVID-19.RData') # also works for Rds\n",
    "print(df_cases.keys()) # let’s check what objects we got"
   ]
  },
  {
   "cell_type": "code",
   "execution_count": 77,
   "metadata": {
    "ExecuteTime": {
     "end_time": "2020-12-11T12:31:39.573480Z",
     "start_time": "2020-12-11T12:31:39.450542Z"
    }
   },
   "outputs": [
    {
     "data": {
      "text/html": [
       "<div>\n",
       "<style scoped>\n",
       "    .dataframe tbody tr th:only-of-type {\n",
       "        vertical-align: middle;\n",
       "    }\n",
       "\n",
       "    .dataframe tbody tr th {\n",
       "        vertical-align: top;\n",
       "    }\n",
       "\n",
       "    .dataframe thead th {\n",
       "        text-align: right;\n",
       "    }\n",
       "</style>\n",
       "<table border=\"1\" class=\"dataframe\">\n",
       "  <thead>\n",
       "    <tr style=\"text-align: right;\">\n",
       "      <th></th>\n",
       "      <th>ID</th>\n",
       "      <th>Date</th>\n",
       "      <th>Cases</th>\n",
       "      <th>Cases_New</th>\n",
       "      <th>Type</th>\n",
       "      <th>Age</th>\n",
       "      <th>Sex</th>\n",
       "      <th>Source</th>\n",
       "    </tr>\n",
       "  </thead>\n",
       "  <tbody>\n",
       "    <tr>\n",
       "      <th>0</th>\n",
       "      <td>AD</td>\n",
       "      <td>2020-01-22</td>\n",
       "      <td>0</td>\n",
       "      <td>0</td>\n",
       "      <td>Active</td>\n",
       "      <td>Total</td>\n",
       "      <td>Total</td>\n",
       "      <td>JHU</td>\n",
       "    </tr>\n",
       "    <tr>\n",
       "      <th>1</th>\n",
       "      <td>AD</td>\n",
       "      <td>2020-01-22</td>\n",
       "      <td>0</td>\n",
       "      <td>0</td>\n",
       "      <td>Confirmed</td>\n",
       "      <td>Total</td>\n",
       "      <td>Total</td>\n",
       "      <td>JHU</td>\n",
       "    </tr>\n",
       "    <tr>\n",
       "      <th>2</th>\n",
       "      <td>AD</td>\n",
       "      <td>2020-01-22</td>\n",
       "      <td>0</td>\n",
       "      <td>0</td>\n",
       "      <td>Deaths</td>\n",
       "      <td>Total</td>\n",
       "      <td>Total</td>\n",
       "      <td>JHU</td>\n",
       "    </tr>\n",
       "    <tr>\n",
       "      <th>3</th>\n",
       "      <td>AD</td>\n",
       "      <td>2020-01-22</td>\n",
       "      <td>0</td>\n",
       "      <td>0</td>\n",
       "      <td>Recovered</td>\n",
       "      <td>Total</td>\n",
       "      <td>Total</td>\n",
       "      <td>JHU</td>\n",
       "    </tr>\n",
       "    <tr>\n",
       "      <th>4</th>\n",
       "      <td>AD</td>\n",
       "      <td>2020-01-23</td>\n",
       "      <td>0</td>\n",
       "      <td>0</td>\n",
       "      <td>Active</td>\n",
       "      <td>Total</td>\n",
       "      <td>Total</td>\n",
       "      <td>JHU</td>\n",
       "    </tr>\n",
       "  </tbody>\n",
       "</table>\n",
       "</div>"
      ],
      "text/plain": [
       "   ID        Date Cases Cases_New       Type    Age    Sex Source\n",
       "0  AD  2020-01-22     0         0     Active  Total  Total    JHU\n",
       "1  AD  2020-01-22     0         0  Confirmed  Total  Total    JHU\n",
       "2  AD  2020-01-22     0         0     Deaths  Total  Total    JHU\n",
       "3  AD  2020-01-22     0         0  Recovered  Total  Total    JHU\n",
       "4  AD  2020-01-23     0         0     Active  Total  Total    JHU"
      ]
     },
     "execution_count": 77,
     "metadata": {},
     "output_type": "execute_result"
    }
   ],
   "source": [
    "df_cases =df_cases['COVID19']\n",
    "df_cases.head()"
   ]
  },
  {
   "cell_type": "code",
   "execution_count": 78,
   "metadata": {
    "ExecuteTime": {
     "end_time": "2020-12-11T12:31:53.434440Z",
     "start_time": "2020-12-11T12:31:39.583356Z"
    }
   },
   "outputs": [
    {
     "name": "stdout",
     "output_type": "stream",
     "text": [
      "odict_keys(['Policy'])\n"
     ]
    }
   ],
   "source": [
    "df_policy = pyreadr.read_r('../data/Policy.RData') \n",
    "print(df_policy.keys()) "
   ]
  },
  {
   "cell_type": "code",
   "execution_count": 79,
   "metadata": {
    "ExecuteTime": {
     "end_time": "2020-12-11T12:31:53.513144Z",
     "start_time": "2020-12-11T12:31:53.441619Z"
    }
   },
   "outputs": [
    {
     "data": {
      "text/html": [
       "<div>\n",
       "<style scoped>\n",
       "    .dataframe tbody tr th:only-of-type {\n",
       "        vertical-align: middle;\n",
       "    }\n",
       "\n",
       "    .dataframe tbody tr th {\n",
       "        vertical-align: top;\n",
       "    }\n",
       "\n",
       "    .dataframe thead th {\n",
       "        text-align: right;\n",
       "    }\n",
       "</style>\n",
       "<table border=\"1\" class=\"dataframe\">\n",
       "  <thead>\n",
       "    <tr style=\"text-align: right;\">\n",
       "      <th></th>\n",
       "      <th>ID</th>\n",
       "      <th>Date</th>\n",
       "      <th>PolicyType</th>\n",
       "      <th>PolicyValue</th>\n",
       "      <th>PolicyFlag</th>\n",
       "      <th>PolicyNotes</th>\n",
       "      <th>PolicySource</th>\n",
       "    </tr>\n",
       "  </thead>\n",
       "  <tbody>\n",
       "    <tr>\n",
       "      <th>0</th>\n",
       "      <td>AD</td>\n",
       "      <td>2020-01-01</td>\n",
       "      <td>C1</td>\n",
       "      <td>0.0</td>\n",
       "      <td>NaN</td>\n",
       "      <td>NaN</td>\n",
       "      <td>OxCGRT</td>\n",
       "    </tr>\n",
       "    <tr>\n",
       "      <th>1</th>\n",
       "      <td>AD</td>\n",
       "      <td>2020-01-01</td>\n",
       "      <td>C2</td>\n",
       "      <td>0.0</td>\n",
       "      <td>NaN</td>\n",
       "      <td>NaN</td>\n",
       "      <td>OxCGRT</td>\n",
       "    </tr>\n",
       "    <tr>\n",
       "      <th>2</th>\n",
       "      <td>AD</td>\n",
       "      <td>2020-01-01</td>\n",
       "      <td>C3</td>\n",
       "      <td>0.0</td>\n",
       "      <td>NaN</td>\n",
       "      <td>NaN</td>\n",
       "      <td>OxCGRT</td>\n",
       "    </tr>\n",
       "    <tr>\n",
       "      <th>3</th>\n",
       "      <td>AD</td>\n",
       "      <td>2020-01-01</td>\n",
       "      <td>C4</td>\n",
       "      <td>0.0</td>\n",
       "      <td>NaN</td>\n",
       "      <td>NaN</td>\n",
       "      <td>OxCGRT</td>\n",
       "    </tr>\n",
       "    <tr>\n",
       "      <th>4</th>\n",
       "      <td>AD</td>\n",
       "      <td>2020-01-01</td>\n",
       "      <td>C5</td>\n",
       "      <td>0.0</td>\n",
       "      <td>NaN</td>\n",
       "      <td>NaN</td>\n",
       "      <td>OxCGRT</td>\n",
       "    </tr>\n",
       "  </tbody>\n",
       "</table>\n",
       "</div>"
      ],
      "text/plain": [
       "   ID        Date PolicyType  PolicyValue PolicyFlag PolicyNotes PolicySource\n",
       "0  AD  2020-01-01         C1          0.0        NaN         NaN       OxCGRT\n",
       "1  AD  2020-01-01         C2          0.0        NaN         NaN       OxCGRT\n",
       "2  AD  2020-01-01         C3          0.0        NaN         NaN       OxCGRT\n",
       "3  AD  2020-01-01         C4          0.0        NaN         NaN       OxCGRT\n",
       "4  AD  2020-01-01         C5          0.0        NaN         NaN       OxCGRT"
      ]
     },
     "execution_count": 79,
     "metadata": {},
     "output_type": "execute_result"
    }
   ],
   "source": [
    "df_policy =df_policy['Policy']\n",
    "df_policy.head()"
   ]
  },
  {
   "cell_type": "markdown",
   "metadata": {
    "ExecuteTime": {
     "end_time": "2020-12-11T11:20:56.110790Z",
     "start_time": "2020-12-11T11:20:56.031430Z"
    }
   },
   "source": [
    "# Sélection des colonnes d'intérêt"
   ]
  },
  {
   "cell_type": "markdown",
   "metadata": {},
   "source": [
    "## Table coronanet"
   ]
  },
  {
   "cell_type": "code",
   "execution_count": 80,
   "metadata": {
    "ExecuteTime": {
     "end_time": "2020-12-11T12:31:53.701255Z",
     "start_time": "2020-12-11T12:31:53.524777Z"
    }
   },
   "outputs": [
    {
     "name": "stdout",
     "output_type": "stream",
     "text": [
      "Index(['policy_id', 'date_start', 'country', 'ISO_A3', 'compliance',\n",
      "       'n_compliance', 'type_Anti-Disinformation Measures',\n",
      "       'type_Closure and Regulation of Schools', 'type_Curfew',\n",
      "       'type_Declaration of Emergency', 'type_External Border Restrictions',\n",
      "       'type_Health Monitoring', 'type_Health Resources',\n",
      "       'type_Health Testing', 'type_Hygiene',\n",
      "       'type_Internal Border Restrictions', 'type_Lockdown',\n",
      "       'type_New Task Force, Bureau or Administrative Configuration',\n",
      "       'type_Other Policy Not Listed Above', 'type_Public Awareness Measures',\n",
      "       'type_Quarantine', 'type_Restriction and Regulation of Businesses',\n",
      "       'type_Restriction and Regulation of Government Services',\n",
      "       'type_Restrictions of Mass Gatherings', 'type_Social Distancing'],\n",
      "      dtype='object')\n",
      "(24828, 25)\n",
      "policy_id                                                        0\n",
      "date_start                                                       0\n",
      "country                                                          0\n",
      "ISO_A3                                                           0\n",
      "compliance                                                       0\n",
      "n_compliance                                                   113\n",
      "type_Anti-Disinformation Measures                                0\n",
      "type_Closure and Regulation of Schools                           0\n",
      "type_Curfew                                                      0\n",
      "type_Declaration of Emergency                                    0\n",
      "type_External Border Restrictions                                0\n",
      "type_Health Monitoring                                           0\n",
      "type_Health Resources                                            0\n",
      "type_Health Testing                                              0\n",
      "type_Hygiene                                                     0\n",
      "type_Internal Border Restrictions                                0\n",
      "type_Lockdown                                                    0\n",
      "type_New Task Force, Bureau or Administrative Configuration      0\n",
      "type_Other Policy Not Listed Above                               0\n",
      "type_Public Awareness Measures                                   0\n",
      "type_Quarantine                                                  0\n",
      "type_Restriction and Regulation of Businesses                    0\n",
      "type_Restriction and Regulation of Government Services           0\n",
      "type_Restrictions of Mass Gatherings                             0\n",
      "type_Social Distancing                                           0\n",
      "dtype: int64\n"
     ]
    }
   ],
   "source": [
    "print(df_coronanet.columns)\n",
    "print(df_coronanet.shape)\n",
    "print(df_coronanet.isnull().sum())"
   ]
  },
  {
   "cell_type": "code",
   "execution_count": 81,
   "metadata": {
    "ExecuteTime": {
     "end_time": "2020-12-11T12:31:53.814625Z",
     "start_time": "2020-12-11T12:31:53.736549Z"
    }
   },
   "outputs": [],
   "source": [
    "df_coronanet = df_coronanet[['date_start', 'ISO_A3', 'n_compliance', 'type_Anti-Disinformation Measures',\n",
    "       'type_Closure and Regulation of Schools', 'type_Curfew',\n",
    "       'type_Declaration of Emergency', 'type_External Border Restrictions',\n",
    "       'type_Health Monitoring', 'type_Health Resources',\n",
    "       'type_Health Testing', 'type_Hygiene',\n",
    "       'type_Internal Border Restrictions', 'type_Lockdown',\n",
    "       'type_New Task Force, Bureau or Administrative Configuration',\n",
    "       'type_Other Policy Not Listed Above', 'type_Public Awareness Measures',\n",
    "       'type_Quarantine', 'type_Restriction and Regulation of Businesses',\n",
    "       'type_Restriction and Regulation of Government Services',\n",
    "       'type_Restrictions of Mass Gatherings', 'type_Social Distancing']]"
   ]
  },
  {
   "cell_type": "code",
   "execution_count": 82,
   "metadata": {
    "ExecuteTime": {
     "end_time": "2020-12-11T12:31:53.912618Z",
     "start_time": "2020-12-11T12:31:53.828875Z"
    }
   },
   "outputs": [
    {
     "name": "stdout",
     "output_type": "stream",
     "text": [
      "Index(['date_start', 'ISO_A3', 'n_compliance',\n",
      "       'type_Anti-Disinformation Measures',\n",
      "       'type_Closure and Regulation of Schools', 'type_Curfew',\n",
      "       'type_Declaration of Emergency', 'type_External Border Restrictions',\n",
      "       'type_Health Monitoring', 'type_Health Resources',\n",
      "       'type_Health Testing', 'type_Hygiene',\n",
      "       'type_Internal Border Restrictions', 'type_Lockdown',\n",
      "       'type_New Task Force, Bureau or Administrative Configuration',\n",
      "       'type_Other Policy Not Listed Above', 'type_Public Awareness Measures',\n",
      "       'type_Quarantine', 'type_Restriction and Regulation of Businesses',\n",
      "       'type_Restriction and Regulation of Government Services',\n",
      "       'type_Restrictions of Mass Gatherings', 'type_Social Distancing'],\n",
      "      dtype='object')\n",
      "(24828, 22)\n"
     ]
    }
   ],
   "source": [
    "print(df_coronanet.columns)\n",
    "print(df_coronanet.shape)"
   ]
  },
  {
   "cell_type": "markdown",
   "metadata": {
    "ExecuteTime": {
     "end_time": "2020-12-11T11:21:43.274823Z",
     "start_time": "2020-12-11T11:21:42.829353Z"
    }
   },
   "source": [
    "## table unified df_cases"
   ]
  },
  {
   "cell_type": "code",
   "execution_count": 83,
   "metadata": {
    "ExecuteTime": {
     "end_time": "2020-12-11T12:31:56.889342Z",
     "start_time": "2020-12-11T12:31:53.926643Z"
    }
   },
   "outputs": [
    {
     "name": "stdout",
     "output_type": "stream",
     "text": [
      "Index(['ID', 'Date', 'Cases', 'Cases_New', 'Type', 'Age', 'Sex', 'Source'], dtype='object')\n",
      "(7521587, 8)\n",
      "ID               0\n",
      "Date             0\n",
      "Cases        60907\n",
      "Cases_New    60907\n",
      "Type             0\n",
      "Age              0\n",
      "Sex              0\n",
      "Source           0\n",
      "dtype: int64\n"
     ]
    }
   ],
   "source": [
    "print(df_cases.columns)\n",
    "print(df_cases.shape)\n",
    "print(df_cases.isnull().sum())"
   ]
  },
  {
   "cell_type": "code",
   "execution_count": 84,
   "metadata": {
    "ExecuteTime": {
     "end_time": "2020-12-11T12:31:58.459078Z",
     "start_time": "2020-12-11T12:31:56.893700Z"
    }
   },
   "outputs": [],
   "source": [
    "# pas de NaN sur les cas en France\n",
    "tmp = df_cases[df_cases['Cases'].isnull()]\n",
    "t = tmp[tmp['ID']=='FR']"
   ]
  },
  {
   "cell_type": "code",
   "execution_count": 85,
   "metadata": {
    "ExecuteTime": {
     "end_time": "2020-12-11T12:31:59.439404Z",
     "start_time": "2020-12-11T12:31:58.462198Z"
    }
   },
   "outputs": [],
   "source": [
    "df_cases = df_cases[['ID', 'Date', 'Cases', 'Cases_New']]"
   ]
  },
  {
   "cell_type": "code",
   "execution_count": 86,
   "metadata": {
    "ExecuteTime": {
     "end_time": "2020-12-11T12:31:59.535092Z",
     "start_time": "2020-12-11T12:31:59.442711Z"
    }
   },
   "outputs": [
    {
     "data": {
      "text/html": [
       "<div>\n",
       "<style scoped>\n",
       "    .dataframe tbody tr th:only-of-type {\n",
       "        vertical-align: middle;\n",
       "    }\n",
       "\n",
       "    .dataframe tbody tr th {\n",
       "        vertical-align: top;\n",
       "    }\n",
       "\n",
       "    .dataframe thead th {\n",
       "        text-align: right;\n",
       "    }\n",
       "</style>\n",
       "<table border=\"1\" class=\"dataframe\">\n",
       "  <thead>\n",
       "    <tr style=\"text-align: right;\">\n",
       "      <th></th>\n",
       "      <th>ID</th>\n",
       "      <th>Date</th>\n",
       "      <th>Cases</th>\n",
       "      <th>Cases_New</th>\n",
       "    </tr>\n",
       "  </thead>\n",
       "  <tbody>\n",
       "    <tr>\n",
       "      <th>0</th>\n",
       "      <td>AD</td>\n",
       "      <td>2020-01-22</td>\n",
       "      <td>0</td>\n",
       "      <td>0</td>\n",
       "    </tr>\n",
       "    <tr>\n",
       "      <th>1</th>\n",
       "      <td>AD</td>\n",
       "      <td>2020-01-22</td>\n",
       "      <td>0</td>\n",
       "      <td>0</td>\n",
       "    </tr>\n",
       "    <tr>\n",
       "      <th>2</th>\n",
       "      <td>AD</td>\n",
       "      <td>2020-01-22</td>\n",
       "      <td>0</td>\n",
       "      <td>0</td>\n",
       "    </tr>\n",
       "    <tr>\n",
       "      <th>3</th>\n",
       "      <td>AD</td>\n",
       "      <td>2020-01-22</td>\n",
       "      <td>0</td>\n",
       "      <td>0</td>\n",
       "    </tr>\n",
       "    <tr>\n",
       "      <th>4</th>\n",
       "      <td>AD</td>\n",
       "      <td>2020-01-23</td>\n",
       "      <td>0</td>\n",
       "      <td>0</td>\n",
       "    </tr>\n",
       "  </tbody>\n",
       "</table>\n",
       "</div>"
      ],
      "text/plain": [
       "   ID        Date Cases Cases_New\n",
       "0  AD  2020-01-22     0         0\n",
       "1  AD  2020-01-22     0         0\n",
       "2  AD  2020-01-22     0         0\n",
       "3  AD  2020-01-22     0         0\n",
       "4  AD  2020-01-23     0         0"
      ]
     },
     "execution_count": 86,
     "metadata": {},
     "output_type": "execute_result"
    }
   ],
   "source": [
    "df_cases.head()"
   ]
  },
  {
   "cell_type": "code",
   "execution_count": 87,
   "metadata": {
    "ExecuteTime": {
     "end_time": "2020-12-11T12:32:01.129978Z",
     "start_time": "2020-12-11T12:31:59.547441Z"
    }
   },
   "outputs": [
    {
     "name": "stdout",
     "output_type": "stream",
     "text": [
      "Index(['ID', 'Date', 'Cases', 'Cases_New'], dtype='object')\n",
      "(7521587, 4)\n",
      "ID               0\n",
      "Date             0\n",
      "Cases        60907\n",
      "Cases_New    60907\n",
      "dtype: int64\n"
     ]
    }
   ],
   "source": [
    "print(df_cases.columns)\n",
    "print(df_cases.shape)\n",
    "print(df_cases.isnull().sum())"
   ]
  },
  {
   "cell_type": "markdown",
   "metadata": {},
   "source": [
    "## Table unified df_policy"
   ]
  },
  {
   "cell_type": "code",
   "execution_count": 88,
   "metadata": {
    "ExecuteTime": {
     "end_time": "2020-12-11T12:32:02.368315Z",
     "start_time": "2020-12-11T12:32:01.134334Z"
    }
   },
   "outputs": [
    {
     "name": "stdout",
     "output_type": "stream",
     "text": [
      "Index(['ID', 'Date', 'PolicyType', 'PolicyValue', 'PolicyFlag', 'PolicyNotes',\n",
      "       'PolicySource'],\n",
      "      dtype='object')\n",
      "(2793100, 7)\n",
      "ID                    0\n",
      "Date                  0\n",
      "PolicyType            0\n",
      "PolicyValue      365245\n",
      "PolicyFlag      2242814\n",
      "PolicyNotes     2749579\n",
      "PolicySource          0\n",
      "dtype: int64\n"
     ]
    }
   ],
   "source": [
    "print(df_policy.columns)\n",
    "print(df_policy.shape)\n",
    "print(df_policy.isnull().sum())"
   ]
  },
  {
   "cell_type": "code",
   "execution_count": 89,
   "metadata": {
    "ExecuteTime": {
     "end_time": "2020-12-11T12:32:02.481984Z",
     "start_time": "2020-12-11T12:32:02.383484Z"
    }
   },
   "outputs": [
    {
     "data": {
      "text/html": [
       "<div>\n",
       "<style scoped>\n",
       "    .dataframe tbody tr th:only-of-type {\n",
       "        vertical-align: middle;\n",
       "    }\n",
       "\n",
       "    .dataframe tbody tr th {\n",
       "        vertical-align: top;\n",
       "    }\n",
       "\n",
       "    .dataframe thead th {\n",
       "        text-align: right;\n",
       "    }\n",
       "</style>\n",
       "<table border=\"1\" class=\"dataframe\">\n",
       "  <thead>\n",
       "    <tr style=\"text-align: right;\">\n",
       "      <th></th>\n",
       "      <th>ID</th>\n",
       "      <th>Date</th>\n",
       "      <th>PolicyType</th>\n",
       "      <th>PolicyValue</th>\n",
       "      <th>PolicyFlag</th>\n",
       "      <th>PolicyNotes</th>\n",
       "      <th>PolicySource</th>\n",
       "    </tr>\n",
       "  </thead>\n",
       "  <tbody>\n",
       "    <tr>\n",
       "      <th>0</th>\n",
       "      <td>AD</td>\n",
       "      <td>2020-01-01</td>\n",
       "      <td>C1</td>\n",
       "      <td>0.0</td>\n",
       "      <td>NaN</td>\n",
       "      <td>NaN</td>\n",
       "      <td>OxCGRT</td>\n",
       "    </tr>\n",
       "    <tr>\n",
       "      <th>1</th>\n",
       "      <td>AD</td>\n",
       "      <td>2020-01-01</td>\n",
       "      <td>C2</td>\n",
       "      <td>0.0</td>\n",
       "      <td>NaN</td>\n",
       "      <td>NaN</td>\n",
       "      <td>OxCGRT</td>\n",
       "    </tr>\n",
       "    <tr>\n",
       "      <th>2</th>\n",
       "      <td>AD</td>\n",
       "      <td>2020-01-01</td>\n",
       "      <td>C3</td>\n",
       "      <td>0.0</td>\n",
       "      <td>NaN</td>\n",
       "      <td>NaN</td>\n",
       "      <td>OxCGRT</td>\n",
       "    </tr>\n",
       "    <tr>\n",
       "      <th>3</th>\n",
       "      <td>AD</td>\n",
       "      <td>2020-01-01</td>\n",
       "      <td>C4</td>\n",
       "      <td>0.0</td>\n",
       "      <td>NaN</td>\n",
       "      <td>NaN</td>\n",
       "      <td>OxCGRT</td>\n",
       "    </tr>\n",
       "    <tr>\n",
       "      <th>4</th>\n",
       "      <td>AD</td>\n",
       "      <td>2020-01-01</td>\n",
       "      <td>C5</td>\n",
       "      <td>0.0</td>\n",
       "      <td>NaN</td>\n",
       "      <td>NaN</td>\n",
       "      <td>OxCGRT</td>\n",
       "    </tr>\n",
       "  </tbody>\n",
       "</table>\n",
       "</div>"
      ],
      "text/plain": [
       "   ID        Date PolicyType  PolicyValue PolicyFlag PolicyNotes PolicySource\n",
       "0  AD  2020-01-01         C1          0.0        NaN         NaN       OxCGRT\n",
       "1  AD  2020-01-01         C2          0.0        NaN         NaN       OxCGRT\n",
       "2  AD  2020-01-01         C3          0.0        NaN         NaN       OxCGRT\n",
       "3  AD  2020-01-01         C4          0.0        NaN         NaN       OxCGRT\n",
       "4  AD  2020-01-01         C5          0.0        NaN         NaN       OxCGRT"
      ]
     },
     "execution_count": 89,
     "metadata": {},
     "output_type": "execute_result"
    }
   ],
   "source": [
    "df_policy.head()"
   ]
  },
  {
   "cell_type": "code",
   "execution_count": 90,
   "metadata": {
    "ExecuteTime": {
     "end_time": "2020-12-11T12:32:02.844701Z",
     "start_time": "2020-12-11T12:32:02.485755Z"
    }
   },
   "outputs": [],
   "source": [
    "df_policy = df_policy[['ID','Date','PolicyType']]"
   ]
  },
  {
   "cell_type": "markdown",
   "metadata": {},
   "source": [
    "# Concentrons-nous sur la France pour le moment"
   ]
  },
  {
   "cell_type": "code",
   "execution_count": 91,
   "metadata": {
    "ExecuteTime": {
     "end_time": "2020-12-11T12:32:02.918438Z",
     "start_time": "2020-12-11T12:32:02.850111Z"
    }
   },
   "outputs": [],
   "source": [
    "df_coronanet = df_coronanet[df_coronanet['ISO_A3'] =='FRA']"
   ]
  },
  {
   "cell_type": "code",
   "execution_count": 92,
   "metadata": {
    "ExecuteTime": {
     "end_time": "2020-12-11T12:32:03.415633Z",
     "start_time": "2020-12-11T12:32:02.923409Z"
    }
   },
   "outputs": [],
   "source": [
    "df_cases = df_cases[df_cases['ID']=='FR']"
   ]
  },
  {
   "cell_type": "code",
   "execution_count": 93,
   "metadata": {
    "ExecuteTime": {
     "end_time": "2020-12-11T12:32:03.708008Z",
     "start_time": "2020-12-11T12:32:03.429483Z"
    }
   },
   "outputs": [],
   "source": [
    "df_policy = df_policy[df_policy['ID']=='FR']"
   ]
  },
  {
   "cell_type": "code",
   "execution_count": 94,
   "metadata": {
    "ExecuteTime": {
     "end_time": "2020-12-11T12:32:03.757306Z",
     "start_time": "2020-12-11T12:32:03.712849Z"
    }
   },
   "outputs": [
    {
     "name": "stdout",
     "output_type": "stream",
     "text": [
      "(179, 22)\n",
      "(1272, 4)\n",
      "(10540, 3)\n"
     ]
    }
   ],
   "source": [
    "print(df_coronanet.shape)\n",
    "print(df_cases.shape)\n",
    "print(df_policy.shape)"
   ]
  },
  {
   "cell_type": "markdown",
   "metadata": {},
   "source": [
    "# Exploration des trois tables pour merge"
   ]
  },
  {
   "cell_type": "code",
   "execution_count": 95,
   "metadata": {
    "ExecuteTime": {
     "end_time": "2020-12-11T12:32:03.894445Z",
     "start_time": "2020-12-11T12:32:03.767991Z"
    }
   },
   "outputs": [
    {
     "data": {
      "text/html": [
       "<div>\n",
       "<style scoped>\n",
       "    .dataframe tbody tr th:only-of-type {\n",
       "        vertical-align: middle;\n",
       "    }\n",
       "\n",
       "    .dataframe tbody tr th {\n",
       "        vertical-align: top;\n",
       "    }\n",
       "\n",
       "    .dataframe thead th {\n",
       "        text-align: right;\n",
       "    }\n",
       "</style>\n",
       "<table border=\"1\" class=\"dataframe\">\n",
       "  <thead>\n",
       "    <tr style=\"text-align: right;\">\n",
       "      <th></th>\n",
       "      <th>date_start</th>\n",
       "      <th>ISO_A3</th>\n",
       "      <th>n_compliance</th>\n",
       "      <th>type_Anti-Disinformation Measures</th>\n",
       "      <th>type_Closure and Regulation of Schools</th>\n",
       "      <th>type_Curfew</th>\n",
       "      <th>type_Declaration of Emergency</th>\n",
       "      <th>type_External Border Restrictions</th>\n",
       "      <th>type_Health Monitoring</th>\n",
       "      <th>type_Health Resources</th>\n",
       "      <th>...</th>\n",
       "      <th>type_Internal Border Restrictions</th>\n",
       "      <th>type_Lockdown</th>\n",
       "      <th>type_New Task Force, Bureau or Administrative Configuration</th>\n",
       "      <th>type_Other Policy Not Listed Above</th>\n",
       "      <th>type_Public Awareness Measures</th>\n",
       "      <th>type_Quarantine</th>\n",
       "      <th>type_Restriction and Regulation of Businesses</th>\n",
       "      <th>type_Restriction and Regulation of Government Services</th>\n",
       "      <th>type_Restrictions of Mass Gatherings</th>\n",
       "      <th>type_Social Distancing</th>\n",
       "    </tr>\n",
       "  </thead>\n",
       "  <tbody>\n",
       "    <tr>\n",
       "      <th>11198</th>\n",
       "      <td>2020-03-20</td>\n",
       "      <td>FRA</td>\n",
       "      <td>0.0</td>\n",
       "      <td>1</td>\n",
       "      <td>0</td>\n",
       "      <td>0</td>\n",
       "      <td>0</td>\n",
       "      <td>0</td>\n",
       "      <td>0</td>\n",
       "      <td>0</td>\n",
       "      <td>...</td>\n",
       "      <td>0</td>\n",
       "      <td>0</td>\n",
       "      <td>0</td>\n",
       "      <td>0</td>\n",
       "      <td>0</td>\n",
       "      <td>0</td>\n",
       "      <td>0</td>\n",
       "      <td>0</td>\n",
       "      <td>0</td>\n",
       "      <td>0</td>\n",
       "    </tr>\n",
       "    <tr>\n",
       "      <th>11199</th>\n",
       "      <td>2020-03-02</td>\n",
       "      <td>FRA</td>\n",
       "      <td>1.0</td>\n",
       "      <td>0</td>\n",
       "      <td>1</td>\n",
       "      <td>0</td>\n",
       "      <td>0</td>\n",
       "      <td>0</td>\n",
       "      <td>0</td>\n",
       "      <td>0</td>\n",
       "      <td>...</td>\n",
       "      <td>0</td>\n",
       "      <td>0</td>\n",
       "      <td>0</td>\n",
       "      <td>0</td>\n",
       "      <td>0</td>\n",
       "      <td>0</td>\n",
       "      <td>0</td>\n",
       "      <td>0</td>\n",
       "      <td>0</td>\n",
       "      <td>0</td>\n",
       "    </tr>\n",
       "    <tr>\n",
       "      <th>11205</th>\n",
       "      <td>2020-03-06</td>\n",
       "      <td>FRA</td>\n",
       "      <td>1.0</td>\n",
       "      <td>0</td>\n",
       "      <td>1</td>\n",
       "      <td>0</td>\n",
       "      <td>0</td>\n",
       "      <td>0</td>\n",
       "      <td>0</td>\n",
       "      <td>0</td>\n",
       "      <td>...</td>\n",
       "      <td>0</td>\n",
       "      <td>0</td>\n",
       "      <td>0</td>\n",
       "      <td>0</td>\n",
       "      <td>0</td>\n",
       "      <td>0</td>\n",
       "      <td>0</td>\n",
       "      <td>0</td>\n",
       "      <td>0</td>\n",
       "      <td>0</td>\n",
       "    </tr>\n",
       "    <tr>\n",
       "      <th>11213</th>\n",
       "      <td>2020-03-09</td>\n",
       "      <td>FRA</td>\n",
       "      <td>1.0</td>\n",
       "      <td>0</td>\n",
       "      <td>1</td>\n",
       "      <td>0</td>\n",
       "      <td>0</td>\n",
       "      <td>0</td>\n",
       "      <td>0</td>\n",
       "      <td>0</td>\n",
       "      <td>...</td>\n",
       "      <td>0</td>\n",
       "      <td>0</td>\n",
       "      <td>0</td>\n",
       "      <td>0</td>\n",
       "      <td>0</td>\n",
       "      <td>0</td>\n",
       "      <td>0</td>\n",
       "      <td>0</td>\n",
       "      <td>0</td>\n",
       "      <td>0</td>\n",
       "    </tr>\n",
       "    <tr>\n",
       "      <th>11217</th>\n",
       "      <td>2020-03-09</td>\n",
       "      <td>FRA</td>\n",
       "      <td>1.0</td>\n",
       "      <td>0</td>\n",
       "      <td>1</td>\n",
       "      <td>0</td>\n",
       "      <td>0</td>\n",
       "      <td>0</td>\n",
       "      <td>0</td>\n",
       "      <td>0</td>\n",
       "      <td>...</td>\n",
       "      <td>0</td>\n",
       "      <td>0</td>\n",
       "      <td>0</td>\n",
       "      <td>0</td>\n",
       "      <td>0</td>\n",
       "      <td>0</td>\n",
       "      <td>0</td>\n",
       "      <td>0</td>\n",
       "      <td>0</td>\n",
       "      <td>0</td>\n",
       "    </tr>\n",
       "  </tbody>\n",
       "</table>\n",
       "<p>5 rows × 22 columns</p>\n",
       "</div>"
      ],
      "text/plain": [
       "      date_start ISO_A3  n_compliance  type_Anti-Disinformation Measures  \\\n",
       "11198 2020-03-20    FRA           0.0                                  1   \n",
       "11199 2020-03-02    FRA           1.0                                  0   \n",
       "11205 2020-03-06    FRA           1.0                                  0   \n",
       "11213 2020-03-09    FRA           1.0                                  0   \n",
       "11217 2020-03-09    FRA           1.0                                  0   \n",
       "\n",
       "       type_Closure and Regulation of Schools  type_Curfew  \\\n",
       "11198                                       0            0   \n",
       "11199                                       1            0   \n",
       "11205                                       1            0   \n",
       "11213                                       1            0   \n",
       "11217                                       1            0   \n",
       "\n",
       "       type_Declaration of Emergency  type_External Border Restrictions  \\\n",
       "11198                              0                                  0   \n",
       "11199                              0                                  0   \n",
       "11205                              0                                  0   \n",
       "11213                              0                                  0   \n",
       "11217                              0                                  0   \n",
       "\n",
       "       type_Health Monitoring  type_Health Resources  ...  \\\n",
       "11198                       0                      0  ...   \n",
       "11199                       0                      0  ...   \n",
       "11205                       0                      0  ...   \n",
       "11213                       0                      0  ...   \n",
       "11217                       0                      0  ...   \n",
       "\n",
       "       type_Internal Border Restrictions  type_Lockdown  \\\n",
       "11198                                  0              0   \n",
       "11199                                  0              0   \n",
       "11205                                  0              0   \n",
       "11213                                  0              0   \n",
       "11217                                  0              0   \n",
       "\n",
       "       type_New Task Force, Bureau or Administrative Configuration  \\\n",
       "11198                                                  0             \n",
       "11199                                                  0             \n",
       "11205                                                  0             \n",
       "11213                                                  0             \n",
       "11217                                                  0             \n",
       "\n",
       "       type_Other Policy Not Listed Above  type_Public Awareness Measures  \\\n",
       "11198                                   0                               0   \n",
       "11199                                   0                               0   \n",
       "11205                                   0                               0   \n",
       "11213                                   0                               0   \n",
       "11217                                   0                               0   \n",
       "\n",
       "       type_Quarantine  type_Restriction and Regulation of Businesses  \\\n",
       "11198                0                                              0   \n",
       "11199                0                                              0   \n",
       "11205                0                                              0   \n",
       "11213                0                                              0   \n",
       "11217                0                                              0   \n",
       "\n",
       "       type_Restriction and Regulation of Government Services  \\\n",
       "11198                                                  0        \n",
       "11199                                                  0        \n",
       "11205                                                  0        \n",
       "11213                                                  0        \n",
       "11217                                                  0        \n",
       "\n",
       "       type_Restrictions of Mass Gatherings  type_Social Distancing  \n",
       "11198                                     0                       0  \n",
       "11199                                     0                       0  \n",
       "11205                                     0                       0  \n",
       "11213                                     0                       0  \n",
       "11217                                     0                       0  \n",
       "\n",
       "[5 rows x 22 columns]"
      ]
     },
     "execution_count": 95,
     "metadata": {},
     "output_type": "execute_result"
    }
   ],
   "source": [
    "df_coronanet.head()"
   ]
  },
  {
   "cell_type": "code",
   "execution_count": 96,
   "metadata": {
    "ExecuteTime": {
     "end_time": "2020-12-11T12:32:03.958428Z",
     "start_time": "2020-12-11T12:32:03.907900Z"
    }
   },
   "outputs": [
    {
     "data": {
      "text/plain": [
       "date_start                                                     datetime64[ns]\n",
       "ISO_A3                                                                 object\n",
       "n_compliance                                                          float64\n",
       "type_Anti-Disinformation Measures                                       uint8\n",
       "type_Closure and Regulation of Schools                                  uint8\n",
       "type_Curfew                                                             uint8\n",
       "type_Declaration of Emergency                                           uint8\n",
       "type_External Border Restrictions                                       uint8\n",
       "type_Health Monitoring                                                  uint8\n",
       "type_Health Resources                                                   uint8\n",
       "type_Health Testing                                                     uint8\n",
       "type_Hygiene                                                            uint8\n",
       "type_Internal Border Restrictions                                       uint8\n",
       "type_Lockdown                                                           uint8\n",
       "type_New Task Force, Bureau or Administrative Configuration             uint8\n",
       "type_Other Policy Not Listed Above                                      uint8\n",
       "type_Public Awareness Measures                                          uint8\n",
       "type_Quarantine                                                         uint8\n",
       "type_Restriction and Regulation of Businesses                           uint8\n",
       "type_Restriction and Regulation of Government Services                  uint8\n",
       "type_Restrictions of Mass Gatherings                                    uint8\n",
       "type_Social Distancing                                                  uint8\n",
       "dtype: object"
      ]
     },
     "execution_count": 96,
     "metadata": {},
     "output_type": "execute_result"
    }
   ],
   "source": [
    "df_coronanet.dtypes"
   ]
  },
  {
   "cell_type": "code",
   "execution_count": 97,
   "metadata": {
    "ExecuteTime": {
     "end_time": "2020-12-11T12:32:04.044133Z",
     "start_time": "2020-12-11T12:32:03.963485Z"
    }
   },
   "outputs": [
    {
     "data": {
      "text/html": [
       "<div>\n",
       "<style scoped>\n",
       "    .dataframe tbody tr th:only-of-type {\n",
       "        vertical-align: middle;\n",
       "    }\n",
       "\n",
       "    .dataframe tbody tr th {\n",
       "        vertical-align: top;\n",
       "    }\n",
       "\n",
       "    .dataframe thead th {\n",
       "        text-align: right;\n",
       "    }\n",
       "</style>\n",
       "<table border=\"1\" class=\"dataframe\">\n",
       "  <thead>\n",
       "    <tr style=\"text-align: right;\">\n",
       "      <th></th>\n",
       "      <th>ID</th>\n",
       "      <th>Date</th>\n",
       "      <th>Cases</th>\n",
       "      <th>Cases_New</th>\n",
       "    </tr>\n",
       "  </thead>\n",
       "  <tbody>\n",
       "    <tr>\n",
       "      <th>2970263</th>\n",
       "      <td>FR</td>\n",
       "      <td>2020-01-22</td>\n",
       "      <td>0</td>\n",
       "      <td>0</td>\n",
       "    </tr>\n",
       "    <tr>\n",
       "      <th>2970264</th>\n",
       "      <td>FR</td>\n",
       "      <td>2020-01-22</td>\n",
       "      <td>0</td>\n",
       "      <td>0</td>\n",
       "    </tr>\n",
       "    <tr>\n",
       "      <th>2970265</th>\n",
       "      <td>FR</td>\n",
       "      <td>2020-01-22</td>\n",
       "      <td>0</td>\n",
       "      <td>0</td>\n",
       "    </tr>\n",
       "    <tr>\n",
       "      <th>2970266</th>\n",
       "      <td>FR</td>\n",
       "      <td>2020-01-22</td>\n",
       "      <td>0</td>\n",
       "      <td>0</td>\n",
       "    </tr>\n",
       "    <tr>\n",
       "      <th>2970267</th>\n",
       "      <td>FR</td>\n",
       "      <td>2020-01-23</td>\n",
       "      <td>0</td>\n",
       "      <td>0</td>\n",
       "    </tr>\n",
       "  </tbody>\n",
       "</table>\n",
       "</div>"
      ],
      "text/plain": [
       "         ID        Date Cases Cases_New\n",
       "2970263  FR  2020-01-22     0         0\n",
       "2970264  FR  2020-01-22     0         0\n",
       "2970265  FR  2020-01-22     0         0\n",
       "2970266  FR  2020-01-22     0         0\n",
       "2970267  FR  2020-01-23     0         0"
      ]
     },
     "execution_count": 97,
     "metadata": {},
     "output_type": "execute_result"
    }
   ],
   "source": [
    "df_cases.head()"
   ]
  },
  {
   "cell_type": "code",
   "execution_count": 98,
   "metadata": {
    "ExecuteTime": {
     "end_time": "2020-12-11T12:32:04.127180Z",
     "start_time": "2020-12-11T12:32:04.049326Z"
    }
   },
   "outputs": [
    {
     "data": {
      "text/plain": [
       "ID           object\n",
       "Date         object\n",
       "Cases        object\n",
       "Cases_New    object\n",
       "dtype: object"
      ]
     },
     "execution_count": 98,
     "metadata": {},
     "output_type": "execute_result"
    }
   ],
   "source": [
    "df_cases.dtypes"
   ]
  },
  {
   "cell_type": "code",
   "execution_count": 99,
   "metadata": {
    "ExecuteTime": {
     "end_time": "2020-12-11T12:32:04.231161Z",
     "start_time": "2020-12-11T12:32:04.132289Z"
    }
   },
   "outputs": [
    {
     "data": {
      "text/html": [
       "<div>\n",
       "<style scoped>\n",
       "    .dataframe tbody tr th:only-of-type {\n",
       "        vertical-align: middle;\n",
       "    }\n",
       "\n",
       "    .dataframe tbody tr th {\n",
       "        vertical-align: top;\n",
       "    }\n",
       "\n",
       "    .dataframe thead th {\n",
       "        text-align: right;\n",
       "    }\n",
       "</style>\n",
       "<table border=\"1\" class=\"dataframe\">\n",
       "  <thead>\n",
       "    <tr style=\"text-align: right;\">\n",
       "      <th></th>\n",
       "      <th>ID</th>\n",
       "      <th>Date</th>\n",
       "      <th>PolicyType</th>\n",
       "    </tr>\n",
       "  </thead>\n",
       "  <tbody>\n",
       "    <tr>\n",
       "      <th>895900</th>\n",
       "      <td>FR</td>\n",
       "      <td>2020-01-01</td>\n",
       "      <td>C1</td>\n",
       "    </tr>\n",
       "    <tr>\n",
       "      <th>895901</th>\n",
       "      <td>FR</td>\n",
       "      <td>2020-01-01</td>\n",
       "      <td>C2</td>\n",
       "    </tr>\n",
       "    <tr>\n",
       "      <th>895902</th>\n",
       "      <td>FR</td>\n",
       "      <td>2020-01-01</td>\n",
       "      <td>C3</td>\n",
       "    </tr>\n",
       "    <tr>\n",
       "      <th>895903</th>\n",
       "      <td>FR</td>\n",
       "      <td>2020-01-01</td>\n",
       "      <td>C4</td>\n",
       "    </tr>\n",
       "    <tr>\n",
       "      <th>895904</th>\n",
       "      <td>FR</td>\n",
       "      <td>2020-01-01</td>\n",
       "      <td>C5</td>\n",
       "    </tr>\n",
       "  </tbody>\n",
       "</table>\n",
       "</div>"
      ],
      "text/plain": [
       "        ID        Date PolicyType\n",
       "895900  FR  2020-01-01         C1\n",
       "895901  FR  2020-01-01         C2\n",
       "895902  FR  2020-01-01         C3\n",
       "895903  FR  2020-01-01         C4\n",
       "895904  FR  2020-01-01         C5"
      ]
     },
     "execution_count": 99,
     "metadata": {},
     "output_type": "execute_result"
    }
   ],
   "source": [
    "df_policy.head()"
   ]
  },
  {
   "cell_type": "code",
   "execution_count": 100,
   "metadata": {
    "ExecuteTime": {
     "end_time": "2020-12-11T12:32:04.289339Z",
     "start_time": "2020-12-11T12:32:04.242107Z"
    }
   },
   "outputs": [
    {
     "data": {
      "text/plain": [
       "ID            object\n",
       "Date          object\n",
       "PolicyType    object\n",
       "dtype: object"
      ]
     },
     "execution_count": 100,
     "metadata": {},
     "output_type": "execute_result"
    }
   ],
   "source": [
    "df_policy.dtypes"
   ]
  },
  {
   "cell_type": "markdown",
   "metadata": {},
   "source": [
    "# Preparation colonnes dates"
   ]
  },
  {
   "cell_type": "code",
   "execution_count": 102,
   "metadata": {
    "ExecuteTime": {
     "end_time": "2020-12-11T12:32:12.191938Z",
     "start_time": "2020-12-11T12:32:12.141277Z"
    }
   },
   "outputs": [],
   "source": [
    "df_coronanet['Date'] = df_coronanet['date_start']"
   ]
  },
  {
   "cell_type": "code",
   "execution_count": 103,
   "metadata": {
    "ExecuteTime": {
     "end_time": "2020-12-11T12:32:12.243272Z",
     "start_time": "2020-12-11T12:32:12.198451Z"
    }
   },
   "outputs": [
    {
     "data": {
      "text/plain": [
       "Index(['date_start', 'ISO_A3', 'n_compliance',\n",
       "       'type_Anti-Disinformation Measures',\n",
       "       'type_Closure and Regulation of Schools', 'type_Curfew',\n",
       "       'type_Declaration of Emergency', 'type_External Border Restrictions',\n",
       "       'type_Health Monitoring', 'type_Health Resources',\n",
       "       'type_Health Testing', 'type_Hygiene',\n",
       "       'type_Internal Border Restrictions', 'type_Lockdown',\n",
       "       'type_New Task Force, Bureau or Administrative Configuration',\n",
       "       'type_Other Policy Not Listed Above', 'type_Public Awareness Measures',\n",
       "       'type_Quarantine', 'type_Restriction and Regulation of Businesses',\n",
       "       'type_Restriction and Regulation of Government Services',\n",
       "       'type_Restrictions of Mass Gatherings', 'type_Social Distancing',\n",
       "       'Date'],\n",
       "      dtype='object')"
      ]
     },
     "execution_count": 103,
     "metadata": {},
     "output_type": "execute_result"
    }
   ],
   "source": [
    "df_coronanet.columns"
   ]
  },
  {
   "cell_type": "code",
   "execution_count": 104,
   "metadata": {
    "ExecuteTime": {
     "end_time": "2020-12-11T12:32:12.804256Z",
     "start_time": "2020-12-11T12:32:12.248769Z"
    }
   },
   "outputs": [],
   "source": [
    "df_cases['Date'] = pd.to_datetime(df_cases['Date'])"
   ]
  },
  {
   "cell_type": "code",
   "execution_count": 105,
   "metadata": {
    "ExecuteTime": {
     "end_time": "2020-12-11T12:32:13.129015Z",
     "start_time": "2020-12-11T12:32:12.827784Z"
    }
   },
   "outputs": [],
   "source": [
    "df_policy['Date'] = pd.to_datetime(df_policy['Date'])"
   ]
  },
  {
   "cell_type": "markdown",
   "metadata": {},
   "source": [
    "# merge des deux tables unified pour baseline model"
   ]
  },
  {
   "cell_type": "code",
   "execution_count": 123,
   "metadata": {
    "ExecuteTime": {
     "end_time": "2020-12-11T12:39:20.649030Z",
     "start_time": "2020-12-11T12:39:20.609049Z"
    }
   },
   "outputs": [
    {
     "name": "stdout",
     "output_type": "stream",
     "text": [
      "(1272, 4)\n",
      "(10540, 3)\n"
     ]
    }
   ],
   "source": [
    "print(df_cases.shape)\n",
    "print(df_policy.shape)"
   ]
  },
  {
   "cell_type": "code",
   "execution_count": 124,
   "metadata": {
    "ExecuteTime": {
     "end_time": "2020-12-11T12:39:28.510140Z",
     "start_time": "2020-12-11T12:39:28.434802Z"
    }
   },
   "outputs": [],
   "source": [
    "# Merge DataFrame\n",
    "matching_table = df_cases\\\n",
    ".merge(df_policy, on=\"Date\", how=\"outer\")"
   ]
  },
  {
   "cell_type": "code",
   "execution_count": 125,
   "metadata": {
    "ExecuteTime": {
     "end_time": "2020-12-11T12:39:30.842790Z",
     "start_time": "2020-12-11T12:39:30.793269Z"
    }
   },
   "outputs": [
    {
     "data": {
      "text/html": [
       "<div>\n",
       "<style scoped>\n",
       "    .dataframe tbody tr th:only-of-type {\n",
       "        vertical-align: middle;\n",
       "    }\n",
       "\n",
       "    .dataframe tbody tr th {\n",
       "        vertical-align: top;\n",
       "    }\n",
       "\n",
       "    .dataframe thead th {\n",
       "        text-align: right;\n",
       "    }\n",
       "</style>\n",
       "<table border=\"1\" class=\"dataframe\">\n",
       "  <thead>\n",
       "    <tr style=\"text-align: right;\">\n",
       "      <th></th>\n",
       "      <th>ID_x</th>\n",
       "      <th>Date</th>\n",
       "      <th>Cases</th>\n",
       "      <th>Cases_New</th>\n",
       "      <th>ID_y</th>\n",
       "      <th>PolicyType</th>\n",
       "    </tr>\n",
       "  </thead>\n",
       "  <tbody>\n",
       "    <tr>\n",
       "      <th>0</th>\n",
       "      <td>FR</td>\n",
       "      <td>2020-01-22</td>\n",
       "      <td>0</td>\n",
       "      <td>0</td>\n",
       "      <td>FR</td>\n",
       "      <td>C1</td>\n",
       "    </tr>\n",
       "    <tr>\n",
       "      <th>1</th>\n",
       "      <td>FR</td>\n",
       "      <td>2020-01-22</td>\n",
       "      <td>0</td>\n",
       "      <td>0</td>\n",
       "      <td>FR</td>\n",
       "      <td>C2</td>\n",
       "    </tr>\n",
       "    <tr>\n",
       "      <th>2</th>\n",
       "      <td>FR</td>\n",
       "      <td>2020-01-22</td>\n",
       "      <td>0</td>\n",
       "      <td>0</td>\n",
       "      <td>FR</td>\n",
       "      <td>C3</td>\n",
       "    </tr>\n",
       "    <tr>\n",
       "      <th>3</th>\n",
       "      <td>FR</td>\n",
       "      <td>2020-01-22</td>\n",
       "      <td>0</td>\n",
       "      <td>0</td>\n",
       "      <td>FR</td>\n",
       "      <td>C4</td>\n",
       "    </tr>\n",
       "    <tr>\n",
       "      <th>4</th>\n",
       "      <td>FR</td>\n",
       "      <td>2020-01-22</td>\n",
       "      <td>0</td>\n",
       "      <td>0</td>\n",
       "      <td>FR</td>\n",
       "      <td>C5</td>\n",
       "    </tr>\n",
       "  </tbody>\n",
       "</table>\n",
       "</div>"
      ],
      "text/plain": [
       "  ID_x       Date Cases Cases_New ID_y PolicyType\n",
       "0   FR 2020-01-22     0         0   FR         C1\n",
       "1   FR 2020-01-22     0         0   FR         C2\n",
       "2   FR 2020-01-22     0         0   FR         C3\n",
       "3   FR 2020-01-22     0         0   FR         C4\n",
       "4   FR 2020-01-22     0         0   FR         C5"
      ]
     },
     "execution_count": 125,
     "metadata": {},
     "output_type": "execute_result"
    }
   ],
   "source": [
    "matching_table.head()"
   ]
  },
  {
   "cell_type": "code",
   "execution_count": 126,
   "metadata": {
    "ExecuteTime": {
     "end_time": "2020-12-11T12:39:36.867049Z",
     "start_time": "2020-12-11T12:39:36.826567Z"
    }
   },
   "outputs": [
    {
     "data": {
      "text/plain": [
       "Index(['ID_x', 'Date', 'Cases', 'Cases_New', 'ID_y', 'PolicyType'], dtype='object')"
      ]
     },
     "execution_count": 126,
     "metadata": {},
     "output_type": "execute_result"
    }
   ],
   "source": [
    "matching_table.columns"
   ]
  },
  {
   "cell_type": "code",
   "execution_count": 202,
   "metadata": {
    "ExecuteTime": {
     "end_time": "2020-12-11T12:59:44.551900Z",
     "start_time": "2020-12-11T12:59:44.509155Z"
    }
   },
   "outputs": [],
   "source": [
    "df = matching_table[['Date', 'Cases', 'Cases_New',  'PolicyType']]"
   ]
  },
  {
   "cell_type": "code",
   "execution_count": 203,
   "metadata": {
    "ExecuteTime": {
     "end_time": "2020-12-11T12:59:44.929741Z",
     "start_time": "2020-12-11T12:59:44.868539Z"
    }
   },
   "outputs": [],
   "source": [
    "date_start = '2020-03-01'\n",
    "date_end = '2020-11-30'"
   ]
  },
  {
   "cell_type": "code",
   "execution_count": 204,
   "metadata": {
    "ExecuteTime": {
     "end_time": "2020-12-11T12:59:45.271320Z",
     "start_time": "2020-12-11T12:59:45.228033Z"
    }
   },
   "outputs": [],
   "source": [
    "mask = (df['Date'] > date_start) & (df['Date'] <= date_end)"
   ]
  },
  {
   "cell_type": "code",
   "execution_count": 236,
   "metadata": {
    "ExecuteTime": {
     "end_time": "2020-12-11T13:48:10.661838Z",
     "start_time": "2020-12-11T13:48:10.609111Z"
    }
   },
   "outputs": [],
   "source": [
    "df = matching_table.loc[mask]"
   ]
  },
  {
   "cell_type": "code",
   "execution_count": 237,
   "metadata": {
    "ExecuteTime": {
     "end_time": "2020-12-11T13:48:11.078813Z",
     "start_time": "2020-12-11T13:48:11.038521Z"
    }
   },
   "outputs": [
    {
     "data": {
      "text/plain": [
       "(33976, 6)"
      ]
     },
     "execution_count": 237,
     "metadata": {},
     "output_type": "execute_result"
    }
   ],
   "source": [
    "df.shape"
   ]
  },
  {
   "cell_type": "code",
   "execution_count": 238,
   "metadata": {
    "ExecuteTime": {
     "end_time": "2020-12-11T13:48:11.469726Z",
     "start_time": "2020-12-11T13:48:11.414711Z"
    }
   },
   "outputs": [
    {
     "data": {
      "text/html": [
       "<div>\n",
       "<style scoped>\n",
       "    .dataframe tbody tr th:only-of-type {\n",
       "        vertical-align: middle;\n",
       "    }\n",
       "\n",
       "    .dataframe tbody tr th {\n",
       "        vertical-align: top;\n",
       "    }\n",
       "\n",
       "    .dataframe thead th {\n",
       "        text-align: right;\n",
       "    }\n",
       "</style>\n",
       "<table border=\"1\" class=\"dataframe\">\n",
       "  <thead>\n",
       "    <tr style=\"text-align: right;\">\n",
       "      <th></th>\n",
       "      <th>ID_x</th>\n",
       "      <th>Date</th>\n",
       "      <th>Cases</th>\n",
       "      <th>Cases_New</th>\n",
       "      <th>ID_y</th>\n",
       "      <th>PolicyType</th>\n",
       "    </tr>\n",
       "  </thead>\n",
       "  <tbody>\n",
       "    <tr>\n",
       "      <th>4960</th>\n",
       "      <td>FR</td>\n",
       "      <td>2020-03-02</td>\n",
       "      <td>176</td>\n",
       "      <td>60</td>\n",
       "      <td>FR</td>\n",
       "      <td>C1</td>\n",
       "    </tr>\n",
       "    <tr>\n",
       "      <th>4961</th>\n",
       "      <td>FR</td>\n",
       "      <td>2020-03-02</td>\n",
       "      <td>176</td>\n",
       "      <td>60</td>\n",
       "      <td>FR</td>\n",
       "      <td>C2</td>\n",
       "    </tr>\n",
       "    <tr>\n",
       "      <th>4962</th>\n",
       "      <td>FR</td>\n",
       "      <td>2020-03-02</td>\n",
       "      <td>176</td>\n",
       "      <td>60</td>\n",
       "      <td>FR</td>\n",
       "      <td>C3</td>\n",
       "    </tr>\n",
       "    <tr>\n",
       "      <th>4963</th>\n",
       "      <td>FR</td>\n",
       "      <td>2020-03-02</td>\n",
       "      <td>176</td>\n",
       "      <td>60</td>\n",
       "      <td>FR</td>\n",
       "      <td>C4</td>\n",
       "    </tr>\n",
       "    <tr>\n",
       "      <th>4964</th>\n",
       "      <td>FR</td>\n",
       "      <td>2020-03-02</td>\n",
       "      <td>176</td>\n",
       "      <td>60</td>\n",
       "      <td>FR</td>\n",
       "      <td>C5</td>\n",
       "    </tr>\n",
       "  </tbody>\n",
       "</table>\n",
       "</div>"
      ],
      "text/plain": [
       "     ID_x       Date Cases Cases_New ID_y PolicyType\n",
       "4960   FR 2020-03-02   176        60   FR         C1\n",
       "4961   FR 2020-03-02   176        60   FR         C2\n",
       "4962   FR 2020-03-02   176        60   FR         C3\n",
       "4963   FR 2020-03-02   176        60   FR         C4\n",
       "4964   FR 2020-03-02   176        60   FR         C5"
      ]
     },
     "execution_count": 238,
     "metadata": {},
     "output_type": "execute_result"
    }
   ],
   "source": [
    "df.head()"
   ]
  },
  {
   "cell_type": "code",
   "execution_count": 239,
   "metadata": {
    "ExecuteTime": {
     "end_time": "2020-12-11T13:48:12.122078Z",
     "start_time": "2020-12-11T13:48:12.084667Z"
    }
   },
   "outputs": [],
   "source": [
    "def handle_restriction(x):\n",
    "    if 'C' in x:\n",
    "        return 0\n",
    "    if 'E' in x:\n",
    "        return 1\n",
    "    if 'H' in x:\n",
    "        return 2\n",
    "    if 'M' in x:\n",
    "        return 3\n",
    "    if 'I' in x:\n",
    "        return 4"
   ]
  },
  {
   "cell_type": "code",
   "execution_count": 240,
   "metadata": {
    "ExecuteTime": {
     "end_time": "2020-12-11T13:48:13.268214Z",
     "start_time": "2020-12-11T13:48:12.886756Z"
    }
   },
   "outputs": [
    {
     "name": "stderr",
     "output_type": "stream",
     "text": [
      "/Users/lourizzolo/.pyenv/versions/3.7.7/envs/lewagon/lib/python3.7/site-packages/ipykernel_launcher.py:1: SettingWithCopyWarning: \n",
      "A value is trying to be set on a copy of a slice from a DataFrame.\n",
      "Try using .loc[row_indexer,col_indexer] = value instead\n",
      "\n",
      "See the caveats in the documentation: http://pandas.pydata.org/pandas-docs/stable/indexing.html#indexing-view-versus-copy\n",
      "  \"\"\"Entry point for launching an IPython kernel.\n"
     ]
    }
   ],
   "source": [
    "df['restriction'] = df['PolicyType'].apply(handle_restriction)"
   ]
  },
  {
   "cell_type": "code",
   "execution_count": 243,
   "metadata": {
    "ExecuteTime": {
     "end_time": "2020-12-11T13:51:03.847590Z",
     "start_time": "2020-12-11T13:51:03.796456Z"
    }
   },
   "outputs": [
    {
     "data": {
      "text/html": [
       "<div>\n",
       "<style scoped>\n",
       "    .dataframe tbody tr th:only-of-type {\n",
       "        vertical-align: middle;\n",
       "    }\n",
       "\n",
       "    .dataframe tbody tr th {\n",
       "        vertical-align: top;\n",
       "    }\n",
       "\n",
       "    .dataframe thead th {\n",
       "        text-align: right;\n",
       "    }\n",
       "</style>\n",
       "<table border=\"1\" class=\"dataframe\">\n",
       "  <thead>\n",
       "    <tr style=\"text-align: right;\">\n",
       "      <th></th>\n",
       "      <th>ID_x</th>\n",
       "      <th>Date</th>\n",
       "      <th>Cases</th>\n",
       "      <th>Cases_New</th>\n",
       "      <th>ID_y</th>\n",
       "      <th>PolicyType</th>\n",
       "      <th>restriction</th>\n",
       "    </tr>\n",
       "  </thead>\n",
       "  <tbody>\n",
       "    <tr>\n",
       "      <th>4960</th>\n",
       "      <td>FR</td>\n",
       "      <td>2020-03-02</td>\n",
       "      <td>176</td>\n",
       "      <td>60</td>\n",
       "      <td>FR</td>\n",
       "      <td>C1</td>\n",
       "      <td>0</td>\n",
       "    </tr>\n",
       "    <tr>\n",
       "      <th>4961</th>\n",
       "      <td>FR</td>\n",
       "      <td>2020-03-02</td>\n",
       "      <td>176</td>\n",
       "      <td>60</td>\n",
       "      <td>FR</td>\n",
       "      <td>C2</td>\n",
       "      <td>0</td>\n",
       "    </tr>\n",
       "    <tr>\n",
       "      <th>4962</th>\n",
       "      <td>FR</td>\n",
       "      <td>2020-03-02</td>\n",
       "      <td>176</td>\n",
       "      <td>60</td>\n",
       "      <td>FR</td>\n",
       "      <td>C3</td>\n",
       "      <td>0</td>\n",
       "    </tr>\n",
       "    <tr>\n",
       "      <th>4963</th>\n",
       "      <td>FR</td>\n",
       "      <td>2020-03-02</td>\n",
       "      <td>176</td>\n",
       "      <td>60</td>\n",
       "      <td>FR</td>\n",
       "      <td>C4</td>\n",
       "      <td>0</td>\n",
       "    </tr>\n",
       "    <tr>\n",
       "      <th>4964</th>\n",
       "      <td>FR</td>\n",
       "      <td>2020-03-02</td>\n",
       "      <td>176</td>\n",
       "      <td>60</td>\n",
       "      <td>FR</td>\n",
       "      <td>C5</td>\n",
       "      <td>0</td>\n",
       "    </tr>\n",
       "  </tbody>\n",
       "</table>\n",
       "</div>"
      ],
      "text/plain": [
       "     ID_x       Date Cases Cases_New ID_y PolicyType  restriction\n",
       "4960   FR 2020-03-02   176        60   FR         C1            0\n",
       "4961   FR 2020-03-02   176        60   FR         C2            0\n",
       "4962   FR 2020-03-02   176        60   FR         C3            0\n",
       "4963   FR 2020-03-02   176        60   FR         C4            0\n",
       "4964   FR 2020-03-02   176        60   FR         C5            0"
      ]
     },
     "execution_count": 243,
     "metadata": {},
     "output_type": "execute_result"
    }
   ],
   "source": [
    "df.head()"
   ]
  },
  {
   "cell_type": "code",
   "execution_count": 244,
   "metadata": {
    "ExecuteTime": {
     "end_time": "2020-12-11T13:51:06.834434Z",
     "start_time": "2020-12-11T13:51:06.793430Z"
    }
   },
   "outputs": [],
   "source": [
    "df2=df.copy()"
   ]
  },
  {
   "cell_type": "code",
   "execution_count": 245,
   "metadata": {
    "ExecuteTime": {
     "end_time": "2020-12-11T13:51:07.922147Z",
     "start_time": "2020-12-11T13:51:07.871513Z"
    }
   },
   "outputs": [],
   "source": [
    "df2[['Cases', 'Cases_New']] = df2[['Cases', 'Cases_New']].astype('int32')"
   ]
  },
  {
   "cell_type": "code",
   "execution_count": 246,
   "metadata": {
    "ExecuteTime": {
     "end_time": "2020-12-11T13:51:11.336853Z",
     "start_time": "2020-12-11T13:51:11.297527Z"
    }
   },
   "outputs": [],
   "source": [
    "df=df2"
   ]
  },
  {
   "cell_type": "code",
   "execution_count": 247,
   "metadata": {
    "ExecuteTime": {
     "end_time": "2020-12-11T13:51:12.070053Z",
     "start_time": "2020-12-11T13:51:11.988177Z"
    }
   },
   "outputs": [
    {
     "name": "stdout",
     "output_type": "stream",
     "text": [
      "ID_x                   object\n",
      "Date           datetime64[ns]\n",
      "Cases                   int32\n",
      "Cases_New               int32\n",
      "ID_y                   object\n",
      "PolicyType             object\n",
      "restriction             int64\n",
      "dtype: object\n",
      "Index(['ID_x', 'Date', 'Cases', 'Cases_New', 'ID_y', 'PolicyType',\n",
      "       'restriction'],\n",
      "      dtype='object')\n"
     ]
    }
   ],
   "source": [
    "print(df.dtypes)\n",
    "print(df.columns)"
   ]
  },
  {
   "cell_type": "code",
   "execution_count": 232,
   "metadata": {
    "ExecuteTime": {
     "end_time": "2020-12-11T13:28:14.253577Z",
     "start_time": "2020-12-11T13:28:14.203949Z"
    }
   },
   "outputs": [],
   "source": []
  },
  {
   "cell_type": "code",
   "execution_count": null,
   "metadata": {
    "ExecuteTime": {
     "end_time": "2020-12-11T13:51:19.802215Z",
     "start_time": "2020-12-11T13:51:19.740468Z"
    }
   },
   "outputs": [],
   "source": []
  },
  {
   "cell_type": "code",
   "execution_count": 249,
   "metadata": {
    "ExecuteTime": {
     "end_time": "2020-12-11T13:52:01.722657Z",
     "start_time": "2020-12-11T13:52:01.632125Z"
    }
   },
   "outputs": [
    {
     "data": {
      "text/html": [
       "<div>\n",
       "<style scoped>\n",
       "    .dataframe tbody tr th:only-of-type {\n",
       "        vertical-align: middle;\n",
       "    }\n",
       "\n",
       "    .dataframe tbody tr th {\n",
       "        vertical-align: top;\n",
       "    }\n",
       "\n",
       "    .dataframe thead th {\n",
       "        text-align: right;\n",
       "    }\n",
       "</style>\n",
       "<table border=\"1\" class=\"dataframe\">\n",
       "  <thead>\n",
       "    <tr style=\"text-align: right;\">\n",
       "      <th></th>\n",
       "      <th>ID_x</th>\n",
       "      <th>Date</th>\n",
       "      <th>Cases</th>\n",
       "      <th>Cases_New</th>\n",
       "      <th>ID_y</th>\n",
       "      <th>PolicyType</th>\n",
       "      <th>restriction</th>\n",
       "    </tr>\n",
       "  </thead>\n",
       "  <tbody>\n",
       "    <tr>\n",
       "      <th>4960</th>\n",
       "      <td>FR</td>\n",
       "      <td>2020-03-02</td>\n",
       "      <td>176</td>\n",
       "      <td>60</td>\n",
       "      <td>FR</td>\n",
       "      <td>C1</td>\n",
       "      <td>0</td>\n",
       "    </tr>\n",
       "    <tr>\n",
       "      <th>4968</th>\n",
       "      <td>FR</td>\n",
       "      <td>2020-03-02</td>\n",
       "      <td>176</td>\n",
       "      <td>60</td>\n",
       "      <td>FR</td>\n",
       "      <td>E1</td>\n",
       "      <td>1</td>\n",
       "    </tr>\n",
       "    <tr>\n",
       "      <th>4972</th>\n",
       "      <td>FR</td>\n",
       "      <td>2020-03-02</td>\n",
       "      <td>176</td>\n",
       "      <td>60</td>\n",
       "      <td>FR</td>\n",
       "      <td>H1</td>\n",
       "      <td>2</td>\n",
       "    </tr>\n",
       "    <tr>\n",
       "      <th>4978</th>\n",
       "      <td>FR</td>\n",
       "      <td>2020-03-02</td>\n",
       "      <td>176</td>\n",
       "      <td>60</td>\n",
       "      <td>FR</td>\n",
       "      <td>I1</td>\n",
       "      <td>4</td>\n",
       "    </tr>\n",
       "    <tr>\n",
       "      <th>4990</th>\n",
       "      <td>FR</td>\n",
       "      <td>2020-03-02</td>\n",
       "      <td>176</td>\n",
       "      <td>60</td>\n",
       "      <td>FR</td>\n",
       "      <td>M1</td>\n",
       "      <td>3</td>\n",
       "    </tr>\n",
       "    <tr>\n",
       "      <th>5084</th>\n",
       "      <td>FR</td>\n",
       "      <td>2020-03-03</td>\n",
       "      <td>188</td>\n",
       "      <td>12</td>\n",
       "      <td>FR</td>\n",
       "      <td>C1</td>\n",
       "      <td>0</td>\n",
       "    </tr>\n",
       "    <tr>\n",
       "      <th>5092</th>\n",
       "      <td>FR</td>\n",
       "      <td>2020-03-03</td>\n",
       "      <td>188</td>\n",
       "      <td>12</td>\n",
       "      <td>FR</td>\n",
       "      <td>E1</td>\n",
       "      <td>1</td>\n",
       "    </tr>\n",
       "    <tr>\n",
       "      <th>5096</th>\n",
       "      <td>FR</td>\n",
       "      <td>2020-03-03</td>\n",
       "      <td>188</td>\n",
       "      <td>12</td>\n",
       "      <td>FR</td>\n",
       "      <td>H1</td>\n",
       "      <td>2</td>\n",
       "    </tr>\n",
       "    <tr>\n",
       "      <th>5102</th>\n",
       "      <td>FR</td>\n",
       "      <td>2020-03-03</td>\n",
       "      <td>188</td>\n",
       "      <td>12</td>\n",
       "      <td>FR</td>\n",
       "      <td>I1</td>\n",
       "      <td>4</td>\n",
       "    </tr>\n",
       "    <tr>\n",
       "      <th>5114</th>\n",
       "      <td>FR</td>\n",
       "      <td>2020-03-03</td>\n",
       "      <td>188</td>\n",
       "      <td>12</td>\n",
       "      <td>FR</td>\n",
       "      <td>M1</td>\n",
       "      <td>3</td>\n",
       "    </tr>\n",
       "    <tr>\n",
       "      <th>5208</th>\n",
       "      <td>FR</td>\n",
       "      <td>2020-03-04</td>\n",
       "      <td>269</td>\n",
       "      <td>81</td>\n",
       "      <td>FR</td>\n",
       "      <td>C1</td>\n",
       "      <td>0</td>\n",
       "    </tr>\n",
       "    <tr>\n",
       "      <th>5216</th>\n",
       "      <td>FR</td>\n",
       "      <td>2020-03-04</td>\n",
       "      <td>269</td>\n",
       "      <td>81</td>\n",
       "      <td>FR</td>\n",
       "      <td>E1</td>\n",
       "      <td>1</td>\n",
       "    </tr>\n",
       "    <tr>\n",
       "      <th>5220</th>\n",
       "      <td>FR</td>\n",
       "      <td>2020-03-04</td>\n",
       "      <td>269</td>\n",
       "      <td>81</td>\n",
       "      <td>FR</td>\n",
       "      <td>H1</td>\n",
       "      <td>2</td>\n",
       "    </tr>\n",
       "    <tr>\n",
       "      <th>5226</th>\n",
       "      <td>FR</td>\n",
       "      <td>2020-03-04</td>\n",
       "      <td>269</td>\n",
       "      <td>81</td>\n",
       "      <td>FR</td>\n",
       "      <td>I1</td>\n",
       "      <td>4</td>\n",
       "    </tr>\n",
       "    <tr>\n",
       "      <th>5238</th>\n",
       "      <td>FR</td>\n",
       "      <td>2020-03-04</td>\n",
       "      <td>269</td>\n",
       "      <td>81</td>\n",
       "      <td>FR</td>\n",
       "      <td>M1</td>\n",
       "      <td>3</td>\n",
       "    </tr>\n",
       "    <tr>\n",
       "      <th>5332</th>\n",
       "      <td>FR</td>\n",
       "      <td>2020-03-05</td>\n",
       "      <td>359</td>\n",
       "      <td>90</td>\n",
       "      <td>FR</td>\n",
       "      <td>C1</td>\n",
       "      <td>0</td>\n",
       "    </tr>\n",
       "    <tr>\n",
       "      <th>5340</th>\n",
       "      <td>FR</td>\n",
       "      <td>2020-03-05</td>\n",
       "      <td>359</td>\n",
       "      <td>90</td>\n",
       "      <td>FR</td>\n",
       "      <td>E1</td>\n",
       "      <td>1</td>\n",
       "    </tr>\n",
       "    <tr>\n",
       "      <th>5344</th>\n",
       "      <td>FR</td>\n",
       "      <td>2020-03-05</td>\n",
       "      <td>359</td>\n",
       "      <td>90</td>\n",
       "      <td>FR</td>\n",
       "      <td>H1</td>\n",
       "      <td>2</td>\n",
       "    </tr>\n",
       "    <tr>\n",
       "      <th>5350</th>\n",
       "      <td>FR</td>\n",
       "      <td>2020-03-05</td>\n",
       "      <td>359</td>\n",
       "      <td>90</td>\n",
       "      <td>FR</td>\n",
       "      <td>I1</td>\n",
       "      <td>4</td>\n",
       "    </tr>\n",
       "    <tr>\n",
       "      <th>5362</th>\n",
       "      <td>FR</td>\n",
       "      <td>2020-03-05</td>\n",
       "      <td>359</td>\n",
       "      <td>90</td>\n",
       "      <td>FR</td>\n",
       "      <td>M1</td>\n",
       "      <td>3</td>\n",
       "    </tr>\n",
       "    <tr>\n",
       "      <th>5456</th>\n",
       "      <td>FR</td>\n",
       "      <td>2020-03-06</td>\n",
       "      <td>632</td>\n",
       "      <td>273</td>\n",
       "      <td>FR</td>\n",
       "      <td>C1</td>\n",
       "      <td>0</td>\n",
       "    </tr>\n",
       "    <tr>\n",
       "      <th>5464</th>\n",
       "      <td>FR</td>\n",
       "      <td>2020-03-06</td>\n",
       "      <td>632</td>\n",
       "      <td>273</td>\n",
       "      <td>FR</td>\n",
       "      <td>E1</td>\n",
       "      <td>1</td>\n",
       "    </tr>\n",
       "    <tr>\n",
       "      <th>5468</th>\n",
       "      <td>FR</td>\n",
       "      <td>2020-03-06</td>\n",
       "      <td>632</td>\n",
       "      <td>273</td>\n",
       "      <td>FR</td>\n",
       "      <td>H1</td>\n",
       "      <td>2</td>\n",
       "    </tr>\n",
       "    <tr>\n",
       "      <th>5474</th>\n",
       "      <td>FR</td>\n",
       "      <td>2020-03-06</td>\n",
       "      <td>632</td>\n",
       "      <td>273</td>\n",
       "      <td>FR</td>\n",
       "      <td>I1</td>\n",
       "      <td>4</td>\n",
       "    </tr>\n",
       "    <tr>\n",
       "      <th>5486</th>\n",
       "      <td>FR</td>\n",
       "      <td>2020-03-06</td>\n",
       "      <td>632</td>\n",
       "      <td>273</td>\n",
       "      <td>FR</td>\n",
       "      <td>M1</td>\n",
       "      <td>3</td>\n",
       "    </tr>\n",
       "    <tr>\n",
       "      <th>5580</th>\n",
       "      <td>FR</td>\n",
       "      <td>2020-03-07</td>\n",
       "      <td>926</td>\n",
       "      <td>294</td>\n",
       "      <td>FR</td>\n",
       "      <td>C1</td>\n",
       "      <td>0</td>\n",
       "    </tr>\n",
       "    <tr>\n",
       "      <th>5588</th>\n",
       "      <td>FR</td>\n",
       "      <td>2020-03-07</td>\n",
       "      <td>926</td>\n",
       "      <td>294</td>\n",
       "      <td>FR</td>\n",
       "      <td>E1</td>\n",
       "      <td>1</td>\n",
       "    </tr>\n",
       "    <tr>\n",
       "      <th>5592</th>\n",
       "      <td>FR</td>\n",
       "      <td>2020-03-07</td>\n",
       "      <td>926</td>\n",
       "      <td>294</td>\n",
       "      <td>FR</td>\n",
       "      <td>H1</td>\n",
       "      <td>2</td>\n",
       "    </tr>\n",
       "    <tr>\n",
       "      <th>5598</th>\n",
       "      <td>FR</td>\n",
       "      <td>2020-03-07</td>\n",
       "      <td>926</td>\n",
       "      <td>294</td>\n",
       "      <td>FR</td>\n",
       "      <td>I1</td>\n",
       "      <td>4</td>\n",
       "    </tr>\n",
       "    <tr>\n",
       "      <th>5610</th>\n",
       "      <td>FR</td>\n",
       "      <td>2020-03-07</td>\n",
       "      <td>926</td>\n",
       "      <td>294</td>\n",
       "      <td>FR</td>\n",
       "      <td>M1</td>\n",
       "      <td>3</td>\n",
       "    </tr>\n",
       "    <tr>\n",
       "      <th>...</th>\n",
       "      <td>...</td>\n",
       "      <td>...</td>\n",
       "      <td>...</td>\n",
       "      <td>...</td>\n",
       "      <td>...</td>\n",
       "      <td>...</td>\n",
       "      <td>...</td>\n",
       "    </tr>\n",
       "    <tr>\n",
       "      <th>38192</th>\n",
       "      <td>FR</td>\n",
       "      <td>2020-11-25</td>\n",
       "      <td>1984472</td>\n",
       "      <td>12997</td>\n",
       "      <td>FR</td>\n",
       "      <td>C1</td>\n",
       "      <td>0</td>\n",
       "    </tr>\n",
       "    <tr>\n",
       "      <th>38200</th>\n",
       "      <td>FR</td>\n",
       "      <td>2020-11-25</td>\n",
       "      <td>1984472</td>\n",
       "      <td>12997</td>\n",
       "      <td>FR</td>\n",
       "      <td>E1</td>\n",
       "      <td>1</td>\n",
       "    </tr>\n",
       "    <tr>\n",
       "      <th>38204</th>\n",
       "      <td>FR</td>\n",
       "      <td>2020-11-25</td>\n",
       "      <td>1984472</td>\n",
       "      <td>12997</td>\n",
       "      <td>FR</td>\n",
       "      <td>H1</td>\n",
       "      <td>2</td>\n",
       "    </tr>\n",
       "    <tr>\n",
       "      <th>38210</th>\n",
       "      <td>FR</td>\n",
       "      <td>2020-11-25</td>\n",
       "      <td>1984472</td>\n",
       "      <td>12997</td>\n",
       "      <td>FR</td>\n",
       "      <td>I1</td>\n",
       "      <td>4</td>\n",
       "    </tr>\n",
       "    <tr>\n",
       "      <th>38222</th>\n",
       "      <td>FR</td>\n",
       "      <td>2020-11-25</td>\n",
       "      <td>1984472</td>\n",
       "      <td>12997</td>\n",
       "      <td>FR</td>\n",
       "      <td>M1</td>\n",
       "      <td>3</td>\n",
       "    </tr>\n",
       "    <tr>\n",
       "      <th>38316</th>\n",
       "      <td>FR</td>\n",
       "      <td>2020-11-26</td>\n",
       "      <td>1995990</td>\n",
       "      <td>11518</td>\n",
       "      <td>FR</td>\n",
       "      <td>C1</td>\n",
       "      <td>0</td>\n",
       "    </tr>\n",
       "    <tr>\n",
       "      <th>38324</th>\n",
       "      <td>FR</td>\n",
       "      <td>2020-11-26</td>\n",
       "      <td>1995990</td>\n",
       "      <td>11518</td>\n",
       "      <td>FR</td>\n",
       "      <td>E1</td>\n",
       "      <td>1</td>\n",
       "    </tr>\n",
       "    <tr>\n",
       "      <th>38328</th>\n",
       "      <td>FR</td>\n",
       "      <td>2020-11-26</td>\n",
       "      <td>1995990</td>\n",
       "      <td>11518</td>\n",
       "      <td>FR</td>\n",
       "      <td>H1</td>\n",
       "      <td>2</td>\n",
       "    </tr>\n",
       "    <tr>\n",
       "      <th>38334</th>\n",
       "      <td>FR</td>\n",
       "      <td>2020-11-26</td>\n",
       "      <td>1995990</td>\n",
       "      <td>11518</td>\n",
       "      <td>FR</td>\n",
       "      <td>I1</td>\n",
       "      <td>4</td>\n",
       "    </tr>\n",
       "    <tr>\n",
       "      <th>38346</th>\n",
       "      <td>FR</td>\n",
       "      <td>2020-11-26</td>\n",
       "      <td>1995990</td>\n",
       "      <td>11518</td>\n",
       "      <td>FR</td>\n",
       "      <td>M1</td>\n",
       "      <td>3</td>\n",
       "    </tr>\n",
       "    <tr>\n",
       "      <th>38440</th>\n",
       "      <td>FR</td>\n",
       "      <td>2020-11-27</td>\n",
       "      <td>2005690</td>\n",
       "      <td>9700</td>\n",
       "      <td>FR</td>\n",
       "      <td>C1</td>\n",
       "      <td>0</td>\n",
       "    </tr>\n",
       "    <tr>\n",
       "      <th>38448</th>\n",
       "      <td>FR</td>\n",
       "      <td>2020-11-27</td>\n",
       "      <td>2005690</td>\n",
       "      <td>9700</td>\n",
       "      <td>FR</td>\n",
       "      <td>E1</td>\n",
       "      <td>1</td>\n",
       "    </tr>\n",
       "    <tr>\n",
       "      <th>38452</th>\n",
       "      <td>FR</td>\n",
       "      <td>2020-11-27</td>\n",
       "      <td>2005690</td>\n",
       "      <td>9700</td>\n",
       "      <td>FR</td>\n",
       "      <td>H1</td>\n",
       "      <td>2</td>\n",
       "    </tr>\n",
       "    <tr>\n",
       "      <th>38458</th>\n",
       "      <td>FR</td>\n",
       "      <td>2020-11-27</td>\n",
       "      <td>2005690</td>\n",
       "      <td>9700</td>\n",
       "      <td>FR</td>\n",
       "      <td>I1</td>\n",
       "      <td>4</td>\n",
       "    </tr>\n",
       "    <tr>\n",
       "      <th>38470</th>\n",
       "      <td>FR</td>\n",
       "      <td>2020-11-27</td>\n",
       "      <td>2005690</td>\n",
       "      <td>9700</td>\n",
       "      <td>FR</td>\n",
       "      <td>M1</td>\n",
       "      <td>3</td>\n",
       "    </tr>\n",
       "    <tr>\n",
       "      <th>38564</th>\n",
       "      <td>FR</td>\n",
       "      <td>2020-11-28</td>\n",
       "      <td>2017326</td>\n",
       "      <td>11636</td>\n",
       "      <td>FR</td>\n",
       "      <td>C1</td>\n",
       "      <td>0</td>\n",
       "    </tr>\n",
       "    <tr>\n",
       "      <th>38572</th>\n",
       "      <td>FR</td>\n",
       "      <td>2020-11-28</td>\n",
       "      <td>2017326</td>\n",
       "      <td>11636</td>\n",
       "      <td>FR</td>\n",
       "      <td>E1</td>\n",
       "      <td>1</td>\n",
       "    </tr>\n",
       "    <tr>\n",
       "      <th>38576</th>\n",
       "      <td>FR</td>\n",
       "      <td>2020-11-28</td>\n",
       "      <td>2017326</td>\n",
       "      <td>11636</td>\n",
       "      <td>FR</td>\n",
       "      <td>H1</td>\n",
       "      <td>2</td>\n",
       "    </tr>\n",
       "    <tr>\n",
       "      <th>38582</th>\n",
       "      <td>FR</td>\n",
       "      <td>2020-11-28</td>\n",
       "      <td>2017326</td>\n",
       "      <td>11636</td>\n",
       "      <td>FR</td>\n",
       "      <td>I1</td>\n",
       "      <td>4</td>\n",
       "    </tr>\n",
       "    <tr>\n",
       "      <th>38594</th>\n",
       "      <td>FR</td>\n",
       "      <td>2020-11-28</td>\n",
       "      <td>2017326</td>\n",
       "      <td>11636</td>\n",
       "      <td>FR</td>\n",
       "      <td>M1</td>\n",
       "      <td>3</td>\n",
       "    </tr>\n",
       "    <tr>\n",
       "      <th>38688</th>\n",
       "      <td>FR</td>\n",
       "      <td>2020-11-29</td>\n",
       "      <td>2026622</td>\n",
       "      <td>9296</td>\n",
       "      <td>FR</td>\n",
       "      <td>C1</td>\n",
       "      <td>0</td>\n",
       "    </tr>\n",
       "    <tr>\n",
       "      <th>38696</th>\n",
       "      <td>FR</td>\n",
       "      <td>2020-11-29</td>\n",
       "      <td>2026622</td>\n",
       "      <td>9296</td>\n",
       "      <td>FR</td>\n",
       "      <td>E1</td>\n",
       "      <td>1</td>\n",
       "    </tr>\n",
       "    <tr>\n",
       "      <th>38700</th>\n",
       "      <td>FR</td>\n",
       "      <td>2020-11-29</td>\n",
       "      <td>2026622</td>\n",
       "      <td>9296</td>\n",
       "      <td>FR</td>\n",
       "      <td>H1</td>\n",
       "      <td>2</td>\n",
       "    </tr>\n",
       "    <tr>\n",
       "      <th>38706</th>\n",
       "      <td>FR</td>\n",
       "      <td>2020-11-29</td>\n",
       "      <td>2026622</td>\n",
       "      <td>9296</td>\n",
       "      <td>FR</td>\n",
       "      <td>I1</td>\n",
       "      <td>4</td>\n",
       "    </tr>\n",
       "    <tr>\n",
       "      <th>38718</th>\n",
       "      <td>FR</td>\n",
       "      <td>2020-11-29</td>\n",
       "      <td>2026622</td>\n",
       "      <td>9296</td>\n",
       "      <td>FR</td>\n",
       "      <td>M1</td>\n",
       "      <td>3</td>\n",
       "    </tr>\n",
       "    <tr>\n",
       "      <th>38812</th>\n",
       "      <td>FR</td>\n",
       "      <td>2020-11-30</td>\n",
       "      <td>2029228</td>\n",
       "      <td>2606</td>\n",
       "      <td>FR</td>\n",
       "      <td>C1</td>\n",
       "      <td>0</td>\n",
       "    </tr>\n",
       "    <tr>\n",
       "      <th>38820</th>\n",
       "      <td>FR</td>\n",
       "      <td>2020-11-30</td>\n",
       "      <td>2029228</td>\n",
       "      <td>2606</td>\n",
       "      <td>FR</td>\n",
       "      <td>E1</td>\n",
       "      <td>1</td>\n",
       "    </tr>\n",
       "    <tr>\n",
       "      <th>38824</th>\n",
       "      <td>FR</td>\n",
       "      <td>2020-11-30</td>\n",
       "      <td>2029228</td>\n",
       "      <td>2606</td>\n",
       "      <td>FR</td>\n",
       "      <td>H1</td>\n",
       "      <td>2</td>\n",
       "    </tr>\n",
       "    <tr>\n",
       "      <th>38830</th>\n",
       "      <td>FR</td>\n",
       "      <td>2020-11-30</td>\n",
       "      <td>2029228</td>\n",
       "      <td>2606</td>\n",
       "      <td>FR</td>\n",
       "      <td>I1</td>\n",
       "      <td>4</td>\n",
       "    </tr>\n",
       "    <tr>\n",
       "      <th>38842</th>\n",
       "      <td>FR</td>\n",
       "      <td>2020-11-30</td>\n",
       "      <td>2029228</td>\n",
       "      <td>2606</td>\n",
       "      <td>FR</td>\n",
       "      <td>M1</td>\n",
       "      <td>3</td>\n",
       "    </tr>\n",
       "  </tbody>\n",
       "</table>\n",
       "<p>1370 rows × 7 columns</p>\n",
       "</div>"
      ],
      "text/plain": [
       "      ID_x       Date    Cases  Cases_New ID_y PolicyType  restriction\n",
       "4960    FR 2020-03-02      176         60   FR         C1            0\n",
       "4968    FR 2020-03-02      176         60   FR         E1            1\n",
       "4972    FR 2020-03-02      176         60   FR         H1            2\n",
       "4978    FR 2020-03-02      176         60   FR         I1            4\n",
       "4990    FR 2020-03-02      176         60   FR         M1            3\n",
       "5084    FR 2020-03-03      188         12   FR         C1            0\n",
       "5092    FR 2020-03-03      188         12   FR         E1            1\n",
       "5096    FR 2020-03-03      188         12   FR         H1            2\n",
       "5102    FR 2020-03-03      188         12   FR         I1            4\n",
       "5114    FR 2020-03-03      188         12   FR         M1            3\n",
       "5208    FR 2020-03-04      269         81   FR         C1            0\n",
       "5216    FR 2020-03-04      269         81   FR         E1            1\n",
       "5220    FR 2020-03-04      269         81   FR         H1            2\n",
       "5226    FR 2020-03-04      269         81   FR         I1            4\n",
       "5238    FR 2020-03-04      269         81   FR         M1            3\n",
       "5332    FR 2020-03-05      359         90   FR         C1            0\n",
       "5340    FR 2020-03-05      359         90   FR         E1            1\n",
       "5344    FR 2020-03-05      359         90   FR         H1            2\n",
       "5350    FR 2020-03-05      359         90   FR         I1            4\n",
       "5362    FR 2020-03-05      359         90   FR         M1            3\n",
       "5456    FR 2020-03-06      632        273   FR         C1            0\n",
       "5464    FR 2020-03-06      632        273   FR         E1            1\n",
       "5468    FR 2020-03-06      632        273   FR         H1            2\n",
       "5474    FR 2020-03-06      632        273   FR         I1            4\n",
       "5486    FR 2020-03-06      632        273   FR         M1            3\n",
       "5580    FR 2020-03-07      926        294   FR         C1            0\n",
       "5588    FR 2020-03-07      926        294   FR         E1            1\n",
       "5592    FR 2020-03-07      926        294   FR         H1            2\n",
       "5598    FR 2020-03-07      926        294   FR         I1            4\n",
       "5610    FR 2020-03-07      926        294   FR         M1            3\n",
       "...    ...        ...      ...        ...  ...        ...          ...\n",
       "38192   FR 2020-11-25  1984472      12997   FR         C1            0\n",
       "38200   FR 2020-11-25  1984472      12997   FR         E1            1\n",
       "38204   FR 2020-11-25  1984472      12997   FR         H1            2\n",
       "38210   FR 2020-11-25  1984472      12997   FR         I1            4\n",
       "38222   FR 2020-11-25  1984472      12997   FR         M1            3\n",
       "38316   FR 2020-11-26  1995990      11518   FR         C1            0\n",
       "38324   FR 2020-11-26  1995990      11518   FR         E1            1\n",
       "38328   FR 2020-11-26  1995990      11518   FR         H1            2\n",
       "38334   FR 2020-11-26  1995990      11518   FR         I1            4\n",
       "38346   FR 2020-11-26  1995990      11518   FR         M1            3\n",
       "38440   FR 2020-11-27  2005690       9700   FR         C1            0\n",
       "38448   FR 2020-11-27  2005690       9700   FR         E1            1\n",
       "38452   FR 2020-11-27  2005690       9700   FR         H1            2\n",
       "38458   FR 2020-11-27  2005690       9700   FR         I1            4\n",
       "38470   FR 2020-11-27  2005690       9700   FR         M1            3\n",
       "38564   FR 2020-11-28  2017326      11636   FR         C1            0\n",
       "38572   FR 2020-11-28  2017326      11636   FR         E1            1\n",
       "38576   FR 2020-11-28  2017326      11636   FR         H1            2\n",
       "38582   FR 2020-11-28  2017326      11636   FR         I1            4\n",
       "38594   FR 2020-11-28  2017326      11636   FR         M1            3\n",
       "38688   FR 2020-11-29  2026622       9296   FR         C1            0\n",
       "38696   FR 2020-11-29  2026622       9296   FR         E1            1\n",
       "38700   FR 2020-11-29  2026622       9296   FR         H1            2\n",
       "38706   FR 2020-11-29  2026622       9296   FR         I1            4\n",
       "38718   FR 2020-11-29  2026622       9296   FR         M1            3\n",
       "38812   FR 2020-11-30  2029228       2606   FR         C1            0\n",
       "38820   FR 2020-11-30  2029228       2606   FR         E1            1\n",
       "38824   FR 2020-11-30  2029228       2606   FR         H1            2\n",
       "38830   FR 2020-11-30  2029228       2606   FR         I1            4\n",
       "38842   FR 2020-11-30  2029228       2606   FR         M1            3\n",
       "\n",
       "[1370 rows x 7 columns]"
      ]
     },
     "execution_count": 249,
     "metadata": {},
     "output_type": "execute_result"
    }
   ],
   "source": [
    "df.drop_duplicates(subset=['Date', 'restriction'])"
   ]
  }
 ],
 "metadata": {
  "kernelspec": {
   "display_name": "Python 3",
   "language": "python",
   "name": "python3"
  },
  "language_info": {
   "codemirror_mode": {
    "name": "ipython",
    "version": 3
   },
   "file_extension": ".py",
   "mimetype": "text/x-python",
   "name": "python",
   "nbconvert_exporter": "python",
   "pygments_lexer": "ipython3",
   "version": "3.7.7"
  },
  "toc": {
   "base_numbering": 1,
   "nav_menu": {},
   "number_sections": true,
   "sideBar": true,
   "skip_h1_title": false,
   "title_cell": "Table of Contents",
   "title_sidebar": "Contents",
   "toc_cell": false,
   "toc_position": {},
   "toc_section_display": true,
   "toc_window_display": false
  }
 },
 "nbformat": 4,
 "nbformat_minor": 4
}

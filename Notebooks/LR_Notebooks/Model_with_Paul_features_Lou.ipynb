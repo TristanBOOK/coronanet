{
 "cells": [
  {
   "cell_type": "code",
   "execution_count": 1,
   "metadata": {
    "ExecuteTime": {
     "end_time": "2020-12-15T13:55:03.169443Z",
     "start_time": "2020-12-15T13:55:01.231366Z"
    }
   },
   "outputs": [],
   "source": [
    "from sklearn.svm import SVC, LinearSVC\n",
    "import pandas as pd\n",
    "import numpy as np\n",
    "import matplotlib.pyplot as plt\n",
    "from datetime import datetime, timedelta\n",
    "import pyreadr\n",
    "from IPython.display import display\n",
    "from coronanet.data import Coronanet\n",
    "from coronanet.coronanet_pp import Prepro_coronanet\n",
    "import statsmodels.api as sm \n",
    "from sklearn.linear_model import LinearRegression\n",
    "from sklearn.preprocessing import OneHotEncoder\n",
    "from mlxtend.plotting import plot_decision_regions\n",
    "from sklearn.model_selection import train_test_split\n",
    "from sklearn.preprocessing import MinMaxScaler\n",
    "from sklearn.preprocessing import RobustScaler"
   ]
  },
  {
   "cell_type": "markdown",
   "metadata": {},
   "source": [
    "# Import table"
   ]
  },
  {
   "cell_type": "code",
   "execution_count": 2,
   "metadata": {
    "ExecuteTime": {
     "end_time": "2020-12-15T13:55:03.191204Z",
     "start_time": "2020-12-15T13:55:03.181796Z"
    }
   },
   "outputs": [],
   "source": [
    "pd.set_option('display.max_columns', None)"
   ]
  },
  {
   "cell_type": "code",
   "execution_count": 3,
   "metadata": {
    "ExecuteTime": {
     "end_time": "2020-12-15T13:55:03.513145Z",
     "start_time": "2020-12-15T13:55:03.195902Z"
    }
   },
   "outputs": [],
   "source": [
    "df = pd.read_csv('https://raw.githubusercontent.com/TristanBOOK/coronanet/master/coronanet/data/LMA_Data_10_semaines_and_Pol_fam.csv')\n"
   ]
  },
  {
   "cell_type": "code",
   "execution_count": 4,
   "metadata": {
    "ExecuteTime": {
     "end_time": "2020-12-15T13:55:03.551638Z",
     "start_time": "2020-12-15T13:55:03.516343Z"
    }
   },
   "outputs": [
    {
     "data": {
      "text/html": [
       "<div>\n",
       "<style scoped>\n",
       "    .dataframe tbody tr th:only-of-type {\n",
       "        vertical-align: middle;\n",
       "    }\n",
       "\n",
       "    .dataframe tbody tr th {\n",
       "        vertical-align: top;\n",
       "    }\n",
       "\n",
       "    .dataframe thead th {\n",
       "        text-align: right;\n",
       "    }\n",
       "</style>\n",
       "<table border=\"1\" class=\"dataframe\">\n",
       "  <thead>\n",
       "    <tr style=\"text-align: right;\">\n",
       "      <th></th>\n",
       "      <th>ID</th>\n",
       "      <th>Date</th>\n",
       "      <th>PolicyFamily</th>\n",
       "      <th>PolicyType</th>\n",
       "      <th>value</th>\n",
       "      <th>Cases</th>\n",
       "      <th>Cases_New</th>\n",
       "      <th>Type</th>\n",
       "      <th>Source</th>\n",
       "      <th>J-28</th>\n",
       "      <th>J-21</th>\n",
       "      <th>J-14</th>\n",
       "      <th>J-7</th>\n",
       "      <th>J0</th>\n",
       "      <th>J7</th>\n",
       "      <th>J14</th>\n",
       "      <th>J21</th>\n",
       "      <th>J28</th>\n",
       "      <th>J35</th>\n",
       "      <th>J42</th>\n",
       "    </tr>\n",
       "  </thead>\n",
       "  <tbody>\n",
       "    <tr>\n",
       "      <th>0</th>\n",
       "      <td>AD</td>\n",
       "      <td>2020-02-27</td>\n",
       "      <td>E</td>\n",
       "      <td>E3_diff</td>\n",
       "      <td>141399008</td>\n",
       "      <td>0.0</td>\n",
       "      <td>0.0</td>\n",
       "      <td>Deaths</td>\n",
       "      <td>JHU</td>\n",
       "      <td>0</td>\n",
       "      <td>0</td>\n",
       "      <td>0</td>\n",
       "      <td>0</td>\n",
       "      <td>0</td>\n",
       "      <td>0</td>\n",
       "      <td>0</td>\n",
       "      <td>0</td>\n",
       "      <td>3</td>\n",
       "      <td>15</td>\n",
       "      <td>25</td>\n",
       "    </tr>\n",
       "    <tr>\n",
       "      <th>1</th>\n",
       "      <td>AD</td>\n",
       "      <td>2020-02-28</td>\n",
       "      <td>E</td>\n",
       "      <td>E3_diff</td>\n",
       "      <td>-141399008</td>\n",
       "      <td>0.0</td>\n",
       "      <td>0.0</td>\n",
       "      <td>Deaths</td>\n",
       "      <td>JHU</td>\n",
       "      <td>0</td>\n",
       "      <td>0</td>\n",
       "      <td>0</td>\n",
       "      <td>0</td>\n",
       "      <td>0</td>\n",
       "      <td>0</td>\n",
       "      <td>0</td>\n",
       "      <td>0</td>\n",
       "      <td>3</td>\n",
       "      <td>16</td>\n",
       "      <td>26</td>\n",
       "    </tr>\n",
       "    <tr>\n",
       "      <th>2</th>\n",
       "      <td>AD</td>\n",
       "      <td>2020-03-02</td>\n",
       "      <td>H</td>\n",
       "      <td>H2_diff</td>\n",
       "      <td>1</td>\n",
       "      <td>0.0</td>\n",
       "      <td>0.0</td>\n",
       "      <td>Deaths</td>\n",
       "      <td>JHU</td>\n",
       "      <td>0</td>\n",
       "      <td>0</td>\n",
       "      <td>0</td>\n",
       "      <td>0</td>\n",
       "      <td>0</td>\n",
       "      <td>0</td>\n",
       "      <td>0</td>\n",
       "      <td>1</td>\n",
       "      <td>8</td>\n",
       "      <td>21</td>\n",
       "      <td>29</td>\n",
       "    </tr>\n",
       "    <tr>\n",
       "      <th>3</th>\n",
       "      <td>AD</td>\n",
       "      <td>2020-03-11</td>\n",
       "      <td>H</td>\n",
       "      <td>H6_diff</td>\n",
       "      <td>2</td>\n",
       "      <td>0.0</td>\n",
       "      <td>0.0</td>\n",
       "      <td>Deaths</td>\n",
       "      <td>JHU</td>\n",
       "      <td>0</td>\n",
       "      <td>0</td>\n",
       "      <td>0</td>\n",
       "      <td>0</td>\n",
       "      <td>0</td>\n",
       "      <td>0</td>\n",
       "      <td>1</td>\n",
       "      <td>14</td>\n",
       "      <td>23</td>\n",
       "      <td>33</td>\n",
       "      <td>37</td>\n",
       "    </tr>\n",
       "    <tr>\n",
       "      <th>4</th>\n",
       "      <td>AD</td>\n",
       "      <td>2020-03-13</td>\n",
       "      <td>C</td>\n",
       "      <td>C3_diff</td>\n",
       "      <td>1</td>\n",
       "      <td>0.0</td>\n",
       "      <td>0.0</td>\n",
       "      <td>Deaths</td>\n",
       "      <td>JHU</td>\n",
       "      <td>0</td>\n",
       "      <td>0</td>\n",
       "      <td>0</td>\n",
       "      <td>0</td>\n",
       "      <td>0</td>\n",
       "      <td>0</td>\n",
       "      <td>3</td>\n",
       "      <td>16</td>\n",
       "      <td>26</td>\n",
       "      <td>35</td>\n",
       "      <td>40</td>\n",
       "    </tr>\n",
       "  </tbody>\n",
       "</table>\n",
       "</div>"
      ],
      "text/plain": [
       "   ID        Date PolicyFamily PolicyType      value  Cases  Cases_New  \\\n",
       "0  AD  2020-02-27            E    E3_diff  141399008    0.0        0.0   \n",
       "1  AD  2020-02-28            E    E3_diff -141399008    0.0        0.0   \n",
       "2  AD  2020-03-02            H    H2_diff          1    0.0        0.0   \n",
       "3  AD  2020-03-11            H    H6_diff          2    0.0        0.0   \n",
       "4  AD  2020-03-13            C    C3_diff          1    0.0        0.0   \n",
       "\n",
       "     Type Source  J-28  J-21  J-14  J-7  J0  J7  J14  J21  J28  J35  J42  \n",
       "0  Deaths    JHU     0     0     0    0   0   0    0    0    3   15   25  \n",
       "1  Deaths    JHU     0     0     0    0   0   0    0    0    3   16   26  \n",
       "2  Deaths    JHU     0     0     0    0   0   0    0    1    8   21   29  \n",
       "3  Deaths    JHU     0     0     0    0   0   0    1   14   23   33   37  \n",
       "4  Deaths    JHU     0     0     0    0   0   0    3   16   26   35   40  "
      ]
     },
     "execution_count": 4,
     "metadata": {},
     "output_type": "execute_result"
    }
   ],
   "source": [
    "df.head()"
   ]
  },
  {
   "cell_type": "markdown",
   "metadata": {},
   "source": [
    "# Policy preprocessing"
   ]
  },
  {
   "cell_type": "code",
   "execution_count": 5,
   "metadata": {
    "ExecuteTime": {
     "end_time": "2020-12-15T13:55:03.566233Z",
     "start_time": "2020-12-15T13:55:03.558791Z"
    }
   },
   "outputs": [],
   "source": [
    "def handle_policy(x):\n",
    "    if 'E' in x:\n",
    "        return 0\n",
    "    if 'H' in x:\n",
    "        return 1\n",
    "    if 'C' in x:\n",
    "        return 2"
   ]
  },
  {
   "cell_type": "code",
   "execution_count": 6,
   "metadata": {
    "ExecuteTime": {
     "end_time": "2020-12-15T13:55:03.631078Z",
     "start_time": "2020-12-15T13:55:03.570565Z"
    }
   },
   "outputs": [],
   "source": [
    "df['PolicyFamily_'] = df['PolicyType'].apply(handle_policy)"
   ]
  },
  {
   "cell_type": "code",
   "execution_count": 7,
   "metadata": {
    "ExecuteTime": {
     "end_time": "2020-12-15T13:55:03.652322Z",
     "start_time": "2020-12-15T13:55:03.640921Z"
    }
   },
   "outputs": [
    {
     "data": {
      "text/plain": [
       "Index(['ID', 'Date', 'PolicyFamily', 'PolicyType', 'value', 'Cases',\n",
       "       'Cases_New', 'Type', 'Source', 'J-28', 'J-21', 'J-14', 'J-7', 'J0',\n",
       "       'J7', 'J14', 'J21', 'J28', 'J35', 'J42', 'PolicyFamily_'],\n",
       "      dtype='object')"
      ]
     },
     "execution_count": 7,
     "metadata": {},
     "output_type": "execute_result"
    }
   ],
   "source": [
    "df.columns"
   ]
  },
  {
   "cell_type": "code",
   "execution_count": 86,
   "metadata": {
    "ExecuteTime": {
     "end_time": "2020-12-15T14:12:03.527281Z",
     "start_time": "2020-12-15T14:12:03.521360Z"
    }
   },
   "outputs": [],
   "source": [
    "df1 = df.copy()"
   ]
  },
  {
   "cell_type": "code",
   "execution_count": 87,
   "metadata": {
    "ExecuteTime": {
     "end_time": "2020-12-15T14:12:04.002962Z",
     "start_time": "2020-12-15T14:12:03.981358Z"
    }
   },
   "outputs": [],
   "source": [
    "df1 = pd.get_dummies(df, columns=[\"PolicyFamily_\"])"
   ]
  },
  {
   "cell_type": "code",
   "execution_count": 88,
   "metadata": {
    "ExecuteTime": {
     "end_time": "2020-12-15T14:12:07.916064Z",
     "start_time": "2020-12-15T14:12:07.888532Z"
    },
    "scrolled": true
   },
   "outputs": [
    {
     "data": {
      "text/html": [
       "<div>\n",
       "<style scoped>\n",
       "    .dataframe tbody tr th:only-of-type {\n",
       "        vertical-align: middle;\n",
       "    }\n",
       "\n",
       "    .dataframe tbody tr th {\n",
       "        vertical-align: top;\n",
       "    }\n",
       "\n",
       "    .dataframe thead th {\n",
       "        text-align: right;\n",
       "    }\n",
       "</style>\n",
       "<table border=\"1\" class=\"dataframe\">\n",
       "  <thead>\n",
       "    <tr style=\"text-align: right;\">\n",
       "      <th></th>\n",
       "      <th>ID</th>\n",
       "      <th>Date</th>\n",
       "      <th>PolicyFamily</th>\n",
       "      <th>PolicyType</th>\n",
       "      <th>value</th>\n",
       "      <th>Cases</th>\n",
       "      <th>Cases_New</th>\n",
       "      <th>Type</th>\n",
       "      <th>Source</th>\n",
       "      <th>J-28</th>\n",
       "      <th>J-21</th>\n",
       "      <th>J-14</th>\n",
       "      <th>J-7</th>\n",
       "      <th>J0</th>\n",
       "      <th>J7</th>\n",
       "      <th>J14</th>\n",
       "      <th>J21</th>\n",
       "      <th>J28</th>\n",
       "      <th>J35</th>\n",
       "      <th>J42</th>\n",
       "      <th>PolicyFamily__0</th>\n",
       "      <th>PolicyFamily__1</th>\n",
       "      <th>PolicyFamily__2</th>\n",
       "    </tr>\n",
       "  </thead>\n",
       "  <tbody>\n",
       "    <tr>\n",
       "      <th>14577</th>\n",
       "      <td>ZW</td>\n",
       "      <td>2020-10-26</td>\n",
       "      <td>E</td>\n",
       "      <td>E4_diff</td>\n",
       "      <td>3800000</td>\n",
       "      <td>242.0</td>\n",
       "      <td>5.0</td>\n",
       "      <td>Deaths</td>\n",
       "      <td>JHU</td>\n",
       "      <td>228</td>\n",
       "      <td>228</td>\n",
       "      <td>230</td>\n",
       "      <td>232</td>\n",
       "      <td>242</td>\n",
       "      <td>245</td>\n",
       "      <td>254</td>\n",
       "      <td>257</td>\n",
       "      <td>273</td>\n",
       "      <td>276</td>\n",
       "      <td>-10000</td>\n",
       "      <td>1</td>\n",
       "      <td>0</td>\n",
       "      <td>0</td>\n",
       "    </tr>\n",
       "    <tr>\n",
       "      <th>14578</th>\n",
       "      <td>ZW</td>\n",
       "      <td>2020-10-26</td>\n",
       "      <td>H</td>\n",
       "      <td>H6_diff</td>\n",
       "      <td>2</td>\n",
       "      <td>242.0</td>\n",
       "      <td>5.0</td>\n",
       "      <td>Deaths</td>\n",
       "      <td>JHU</td>\n",
       "      <td>228</td>\n",
       "      <td>228</td>\n",
       "      <td>230</td>\n",
       "      <td>232</td>\n",
       "      <td>242</td>\n",
       "      <td>245</td>\n",
       "      <td>254</td>\n",
       "      <td>257</td>\n",
       "      <td>273</td>\n",
       "      <td>276</td>\n",
       "      <td>-10000</td>\n",
       "      <td>0</td>\n",
       "      <td>1</td>\n",
       "      <td>0</td>\n",
       "    </tr>\n",
       "    <tr>\n",
       "      <th>14579</th>\n",
       "      <td>ZW</td>\n",
       "      <td>2020-10-27</td>\n",
       "      <td>E</td>\n",
       "      <td>E4_diff</td>\n",
       "      <td>-3800000</td>\n",
       "      <td>242.0</td>\n",
       "      <td>0.0</td>\n",
       "      <td>Deaths</td>\n",
       "      <td>JHU</td>\n",
       "      <td>228</td>\n",
       "      <td>229</td>\n",
       "      <td>230</td>\n",
       "      <td>233</td>\n",
       "      <td>242</td>\n",
       "      <td>246</td>\n",
       "      <td>255</td>\n",
       "      <td>260</td>\n",
       "      <td>274</td>\n",
       "      <td>277</td>\n",
       "      <td>-10000</td>\n",
       "      <td>1</td>\n",
       "      <td>0</td>\n",
       "      <td>0</td>\n",
       "    </tr>\n",
       "    <tr>\n",
       "      <th>14580</th>\n",
       "      <td>ZW</td>\n",
       "      <td>2020-11-09</td>\n",
       "      <td>C</td>\n",
       "      <td>C1_diff</td>\n",
       "      <td>-1</td>\n",
       "      <td>254.0</td>\n",
       "      <td>1.0</td>\n",
       "      <td>Deaths</td>\n",
       "      <td>JHU</td>\n",
       "      <td>230</td>\n",
       "      <td>232</td>\n",
       "      <td>242</td>\n",
       "      <td>245</td>\n",
       "      <td>254</td>\n",
       "      <td>257</td>\n",
       "      <td>273</td>\n",
       "      <td>276</td>\n",
       "      <td>-10000</td>\n",
       "      <td>-10000</td>\n",
       "      <td>-10000</td>\n",
       "      <td>0</td>\n",
       "      <td>0</td>\n",
       "      <td>1</td>\n",
       "    </tr>\n",
       "    <tr>\n",
       "      <th>14581</th>\n",
       "      <td>ZW</td>\n",
       "      <td>2020-11-20</td>\n",
       "      <td>C</td>\n",
       "      <td>C1_diff</td>\n",
       "      <td>1</td>\n",
       "      <td>265.0</td>\n",
       "      <td>0.0</td>\n",
       "      <td>Deaths</td>\n",
       "      <td>JHU</td>\n",
       "      <td>236</td>\n",
       "      <td>242</td>\n",
       "      <td>250</td>\n",
       "      <td>257</td>\n",
       "      <td>265</td>\n",
       "      <td>275</td>\n",
       "      <td>-10000</td>\n",
       "      <td>-10000</td>\n",
       "      <td>-10000</td>\n",
       "      <td>-10000</td>\n",
       "      <td>-10000</td>\n",
       "      <td>0</td>\n",
       "      <td>0</td>\n",
       "      <td>1</td>\n",
       "    </tr>\n",
       "  </tbody>\n",
       "</table>\n",
       "</div>"
      ],
      "text/plain": [
       "       ID        Date PolicyFamily PolicyType    value  Cases  Cases_New  \\\n",
       "14577  ZW  2020-10-26            E    E4_diff  3800000  242.0        5.0   \n",
       "14578  ZW  2020-10-26            H    H6_diff        2  242.0        5.0   \n",
       "14579  ZW  2020-10-27            E    E4_diff -3800000  242.0        0.0   \n",
       "14580  ZW  2020-11-09            C    C1_diff       -1  254.0        1.0   \n",
       "14581  ZW  2020-11-20            C    C1_diff        1  265.0        0.0   \n",
       "\n",
       "         Type Source  J-28  J-21  J-14  J-7   J0   J7    J14    J21    J28  \\\n",
       "14577  Deaths    JHU   228   228   230  232  242  245    254    257    273   \n",
       "14578  Deaths    JHU   228   228   230  232  242  245    254    257    273   \n",
       "14579  Deaths    JHU   228   229   230  233  242  246    255    260    274   \n",
       "14580  Deaths    JHU   230   232   242  245  254  257    273    276 -10000   \n",
       "14581  Deaths    JHU   236   242   250  257  265  275 -10000 -10000 -10000   \n",
       "\n",
       "         J35    J42  PolicyFamily__0  PolicyFamily__1  PolicyFamily__2  \n",
       "14577    276 -10000                1                0                0  \n",
       "14578    276 -10000                0                1                0  \n",
       "14579    277 -10000                1                0                0  \n",
       "14580 -10000 -10000                0                0                1  \n",
       "14581 -10000 -10000                0                0                1  "
      ]
     },
     "execution_count": 88,
     "metadata": {},
     "output_type": "execute_result"
    }
   ],
   "source": [
    "df1.tail()"
   ]
  },
  {
   "cell_type": "code",
   "execution_count": 89,
   "metadata": {
    "ExecuteTime": {
     "end_time": "2020-12-15T14:12:12.286950Z",
     "start_time": "2020-12-15T14:12:12.262434Z"
    }
   },
   "outputs": [],
   "source": [
    "df1 = df1[df1['J-7']>0]\n",
    "df1 = df1[df1['J7']>0]\n",
    "df1 = df1[df1['J-14']>0]\n",
    "df1 = df1[df1['J14']>0]\n",
    "df1 = df1[df1['J-21']>0]\n",
    "df1 = df1[df1['J21']>0]"
   ]
  },
  {
   "cell_type": "code",
   "execution_count": 138,
   "metadata": {
    "ExecuteTime": {
     "end_time": "2020-12-15T14:37:07.479844Z",
     "start_time": "2020-12-15T14:37:07.472051Z"
    }
   },
   "outputs": [],
   "source": [
    "df2 = df1.copy()"
   ]
  },
  {
   "cell_type": "code",
   "execution_count": 139,
   "metadata": {
    "ExecuteTime": {
     "end_time": "2020-12-15T14:37:08.194763Z",
     "start_time": "2020-12-15T14:37:08.165944Z"
    }
   },
   "outputs": [
    {
     "data": {
      "text/html": [
       "<div>\n",
       "<style scoped>\n",
       "    .dataframe tbody tr th:only-of-type {\n",
       "        vertical-align: middle;\n",
       "    }\n",
       "\n",
       "    .dataframe tbody tr th {\n",
       "        vertical-align: top;\n",
       "    }\n",
       "\n",
       "    .dataframe thead th {\n",
       "        text-align: right;\n",
       "    }\n",
       "</style>\n",
       "<table border=\"1\" class=\"dataframe\">\n",
       "  <thead>\n",
       "    <tr style=\"text-align: right;\">\n",
       "      <th></th>\n",
       "      <th>ID</th>\n",
       "      <th>Date</th>\n",
       "      <th>PolicyFamily</th>\n",
       "      <th>PolicyType</th>\n",
       "      <th>value</th>\n",
       "      <th>Cases</th>\n",
       "      <th>Cases_New</th>\n",
       "      <th>Type</th>\n",
       "      <th>Source</th>\n",
       "      <th>J-28</th>\n",
       "      <th>J-21</th>\n",
       "      <th>J-14</th>\n",
       "      <th>J-7</th>\n",
       "      <th>J0</th>\n",
       "      <th>J7</th>\n",
       "      <th>J14</th>\n",
       "      <th>J21</th>\n",
       "      <th>J28</th>\n",
       "      <th>J35</th>\n",
       "      <th>J42</th>\n",
       "      <th>PolicyFamily__0</th>\n",
       "      <th>PolicyFamily__1</th>\n",
       "      <th>PolicyFamily__2</th>\n",
       "    </tr>\n",
       "  </thead>\n",
       "  <tbody>\n",
       "    <tr>\n",
       "      <th>15</th>\n",
       "      <td>AD</td>\n",
       "      <td>2020-04-18</td>\n",
       "      <td>H</td>\n",
       "      <td>H2_diff</td>\n",
       "      <td>2</td>\n",
       "      <td>35.0</td>\n",
       "      <td>0.0</td>\n",
       "      <td>Deaths</td>\n",
       "      <td>JHU</td>\n",
       "      <td>0</td>\n",
       "      <td>3</td>\n",
       "      <td>17</td>\n",
       "      <td>26</td>\n",
       "      <td>35</td>\n",
       "      <td>40</td>\n",
       "      <td>44</td>\n",
       "      <td>48</td>\n",
       "      <td>51</td>\n",
       "      <td>51</td>\n",
       "      <td>51</td>\n",
       "      <td>0</td>\n",
       "      <td>1</td>\n",
       "      <td>0</td>\n",
       "    </tr>\n",
       "    <tr>\n",
       "      <th>16</th>\n",
       "      <td>AD</td>\n",
       "      <td>2020-04-20</td>\n",
       "      <td>C</td>\n",
       "      <td>C2_diff</td>\n",
       "      <td>-1</td>\n",
       "      <td>37.0</td>\n",
       "      <td>1.0</td>\n",
       "      <td>Deaths</td>\n",
       "      <td>JHU</td>\n",
       "      <td>1</td>\n",
       "      <td>8</td>\n",
       "      <td>21</td>\n",
       "      <td>29</td>\n",
       "      <td>37</td>\n",
       "      <td>40</td>\n",
       "      <td>45</td>\n",
       "      <td>48</td>\n",
       "      <td>51</td>\n",
       "      <td>51</td>\n",
       "      <td>51</td>\n",
       "      <td>0</td>\n",
       "      <td>0</td>\n",
       "      <td>1</td>\n",
       "    </tr>\n",
       "    <tr>\n",
       "      <th>17</th>\n",
       "      <td>AD</td>\n",
       "      <td>2020-05-09</td>\n",
       "      <td>E</td>\n",
       "      <td>E2_diff</td>\n",
       "      <td>2</td>\n",
       "      <td>48.0</td>\n",
       "      <td>1.0</td>\n",
       "      <td>Deaths</td>\n",
       "      <td>JHU</td>\n",
       "      <td>26</td>\n",
       "      <td>35</td>\n",
       "      <td>40</td>\n",
       "      <td>44</td>\n",
       "      <td>48</td>\n",
       "      <td>51</td>\n",
       "      <td>51</td>\n",
       "      <td>51</td>\n",
       "      <td>51</td>\n",
       "      <td>51</td>\n",
       "      <td>52</td>\n",
       "      <td>1</td>\n",
       "      <td>0</td>\n",
       "      <td>0</td>\n",
       "    </tr>\n",
       "    <tr>\n",
       "      <th>18</th>\n",
       "      <td>AD</td>\n",
       "      <td>2020-05-11</td>\n",
       "      <td>C</td>\n",
       "      <td>C8_diff</td>\n",
       "      <td>-1</td>\n",
       "      <td>48.0</td>\n",
       "      <td>0.0</td>\n",
       "      <td>Deaths</td>\n",
       "      <td>JHU</td>\n",
       "      <td>29</td>\n",
       "      <td>37</td>\n",
       "      <td>40</td>\n",
       "      <td>45</td>\n",
       "      <td>48</td>\n",
       "      <td>51</td>\n",
       "      <td>51</td>\n",
       "      <td>51</td>\n",
       "      <td>51</td>\n",
       "      <td>51</td>\n",
       "      <td>52</td>\n",
       "      <td>0</td>\n",
       "      <td>0</td>\n",
       "      <td>1</td>\n",
       "    </tr>\n",
       "    <tr>\n",
       "      <th>19</th>\n",
       "      <td>AD</td>\n",
       "      <td>2020-05-27</td>\n",
       "      <td>E</td>\n",
       "      <td>E3_diff</td>\n",
       "      <td>137063808</td>\n",
       "      <td>51.0</td>\n",
       "      <td>0.0</td>\n",
       "      <td>Deaths</td>\n",
       "      <td>JHU</td>\n",
       "      <td>42</td>\n",
       "      <td>46</td>\n",
       "      <td>49</td>\n",
       "      <td>51</td>\n",
       "      <td>51</td>\n",
       "      <td>51</td>\n",
       "      <td>51</td>\n",
       "      <td>52</td>\n",
       "      <td>52</td>\n",
       "      <td>52</td>\n",
       "      <td>52</td>\n",
       "      <td>1</td>\n",
       "      <td>0</td>\n",
       "      <td>0</td>\n",
       "    </tr>\n",
       "  </tbody>\n",
       "</table>\n",
       "</div>"
      ],
      "text/plain": [
       "    ID        Date PolicyFamily PolicyType      value  Cases  Cases_New  \\\n",
       "15  AD  2020-04-18            H    H2_diff          2   35.0        0.0   \n",
       "16  AD  2020-04-20            C    C2_diff         -1   37.0        1.0   \n",
       "17  AD  2020-05-09            E    E2_diff          2   48.0        1.0   \n",
       "18  AD  2020-05-11            C    C8_diff         -1   48.0        0.0   \n",
       "19  AD  2020-05-27            E    E3_diff  137063808   51.0        0.0   \n",
       "\n",
       "      Type Source  J-28  J-21  J-14  J-7  J0  J7  J14  J21  J28  J35  J42  \\\n",
       "15  Deaths    JHU     0     3    17   26  35  40   44   48   51   51   51   \n",
       "16  Deaths    JHU     1     8    21   29  37  40   45   48   51   51   51   \n",
       "17  Deaths    JHU    26    35    40   44  48  51   51   51   51   51   52   \n",
       "18  Deaths    JHU    29    37    40   45  48  51   51   51   51   51   52   \n",
       "19  Deaths    JHU    42    46    49   51  51  51   51   52   52   52   52   \n",
       "\n",
       "    PolicyFamily__0  PolicyFamily__1  PolicyFamily__2  \n",
       "15                0                1                0  \n",
       "16                0                0                1  \n",
       "17                1                0                0  \n",
       "18                0                0                1  \n",
       "19                1                0                0  "
      ]
     },
     "execution_count": 139,
     "metadata": {},
     "output_type": "execute_result"
    }
   ],
   "source": [
    "df2.head()"
   ]
  },
  {
   "cell_type": "markdown",
   "metadata": {},
   "source": [
    "# Baseline model"
   ]
  },
  {
   "cell_type": "markdown",
   "metadata": {},
   "source": [
    "## Features selection"
   ]
  },
  {
   "cell_type": "code",
   "execution_count": 154,
   "metadata": {
    "ExecuteTime": {
     "end_time": "2020-12-15T14:37:57.654067Z",
     "start_time": "2020-12-15T14:37:57.638067Z"
    }
   },
   "outputs": [],
   "source": [
    "df2['dJ_21'] =(df2['J-21']/df2['Cases'])**(1/20)\n",
    "df2['dJ_14'] =(df2['Cases']/df2['J-14'])**(1/13)\n",
    "df2['dJ14']=(df2['J14']/df2['Cases'])**(1/13)\n",
    "df2['dJ7']=(df2['J7']/df2['Cases'])**(1/6)\n",
    "df2['dJ21']=(df2['J21']/df2['Cases'])**(1/20)"
   ]
  },
  {
   "cell_type": "code",
   "execution_count": 161,
   "metadata": {
    "ExecuteTime": {
     "end_time": "2020-12-15T15:10:05.747440Z",
     "start_time": "2020-12-15T15:10:05.703244Z"
    },
    "scrolled": true
   },
   "outputs": [
    {
     "data": {
      "text/html": [
       "<div>\n",
       "<style scoped>\n",
       "    .dataframe tbody tr th:only-of-type {\n",
       "        vertical-align: middle;\n",
       "    }\n",
       "\n",
       "    .dataframe tbody tr th {\n",
       "        vertical-align: top;\n",
       "    }\n",
       "\n",
       "    .dataframe thead th {\n",
       "        text-align: right;\n",
       "    }\n",
       "</style>\n",
       "<table border=\"1\" class=\"dataframe\">\n",
       "  <thead>\n",
       "    <tr style=\"text-align: right;\">\n",
       "      <th></th>\n",
       "      <th>ID</th>\n",
       "      <th>Date</th>\n",
       "      <th>PolicyFamily</th>\n",
       "      <th>PolicyType</th>\n",
       "      <th>value</th>\n",
       "      <th>Cases</th>\n",
       "      <th>Cases_New</th>\n",
       "      <th>Type</th>\n",
       "      <th>Source</th>\n",
       "      <th>J-28</th>\n",
       "      <th>J-21</th>\n",
       "      <th>J-14</th>\n",
       "      <th>J-7</th>\n",
       "      <th>J0</th>\n",
       "      <th>J7</th>\n",
       "      <th>J14</th>\n",
       "      <th>J21</th>\n",
       "      <th>J28</th>\n",
       "      <th>J35</th>\n",
       "      <th>J42</th>\n",
       "      <th>PolicyFamily__0</th>\n",
       "      <th>PolicyFamily__1</th>\n",
       "      <th>PolicyFamily__2</th>\n",
       "      <th>dJ_21</th>\n",
       "      <th>dJ_14</th>\n",
       "      <th>dJ14</th>\n",
       "      <th>dJ7</th>\n",
       "      <th>dJ21</th>\n",
       "    </tr>\n",
       "  </thead>\n",
       "  <tbody>\n",
       "    <tr>\n",
       "      <th>15</th>\n",
       "      <td>AD</td>\n",
       "      <td>2020-04-18</td>\n",
       "      <td>H</td>\n",
       "      <td>H2_diff</td>\n",
       "      <td>2</td>\n",
       "      <td>35.0</td>\n",
       "      <td>0.0</td>\n",
       "      <td>Deaths</td>\n",
       "      <td>JHU</td>\n",
       "      <td>0</td>\n",
       "      <td>3</td>\n",
       "      <td>17</td>\n",
       "      <td>26</td>\n",
       "      <td>35</td>\n",
       "      <td>40</td>\n",
       "      <td>44</td>\n",
       "      <td>48</td>\n",
       "      <td>51</td>\n",
       "      <td>51</td>\n",
       "      <td>51</td>\n",
       "      <td>0</td>\n",
       "      <td>1</td>\n",
       "      <td>0</td>\n",
       "      <td>0.884408</td>\n",
       "      <td>1.057121</td>\n",
       "      <td>1.017759</td>\n",
       "      <td>1.022505</td>\n",
       "      <td>1.015918</td>\n",
       "    </tr>\n",
       "    <tr>\n",
       "      <th>16</th>\n",
       "      <td>AD</td>\n",
       "      <td>2020-04-20</td>\n",
       "      <td>C</td>\n",
       "      <td>C2_diff</td>\n",
       "      <td>-1</td>\n",
       "      <td>37.0</td>\n",
       "      <td>1.0</td>\n",
       "      <td>Deaths</td>\n",
       "      <td>JHU</td>\n",
       "      <td>1</td>\n",
       "      <td>8</td>\n",
       "      <td>21</td>\n",
       "      <td>29</td>\n",
       "      <td>37</td>\n",
       "      <td>40</td>\n",
       "      <td>45</td>\n",
       "      <td>48</td>\n",
       "      <td>51</td>\n",
       "      <td>51</td>\n",
       "      <td>51</td>\n",
       "      <td>0</td>\n",
       "      <td>0</td>\n",
       "      <td>1</td>\n",
       "      <td>0.926285</td>\n",
       "      <td>1.044532</td>\n",
       "      <td>1.015171</td>\n",
       "      <td>1.013078</td>\n",
       "      <td>1.013099</td>\n",
       "    </tr>\n",
       "    <tr>\n",
       "      <th>17</th>\n",
       "      <td>AD</td>\n",
       "      <td>2020-05-09</td>\n",
       "      <td>E</td>\n",
       "      <td>E2_diff</td>\n",
       "      <td>2</td>\n",
       "      <td>48.0</td>\n",
       "      <td>1.0</td>\n",
       "      <td>Deaths</td>\n",
       "      <td>JHU</td>\n",
       "      <td>26</td>\n",
       "      <td>35</td>\n",
       "      <td>40</td>\n",
       "      <td>44</td>\n",
       "      <td>48</td>\n",
       "      <td>51</td>\n",
       "      <td>51</td>\n",
       "      <td>51</td>\n",
       "      <td>51</td>\n",
       "      <td>51</td>\n",
       "      <td>52</td>\n",
       "      <td>1</td>\n",
       "      <td>0</td>\n",
       "      <td>0</td>\n",
       "      <td>0.984331</td>\n",
       "      <td>1.014124</td>\n",
       "      <td>1.004674</td>\n",
       "      <td>1.010155</td>\n",
       "      <td>1.003036</td>\n",
       "    </tr>\n",
       "    <tr>\n",
       "      <th>18</th>\n",
       "      <td>AD</td>\n",
       "      <td>2020-05-11</td>\n",
       "      <td>C</td>\n",
       "      <td>C8_diff</td>\n",
       "      <td>-1</td>\n",
       "      <td>48.0</td>\n",
       "      <td>0.0</td>\n",
       "      <td>Deaths</td>\n",
       "      <td>JHU</td>\n",
       "      <td>29</td>\n",
       "      <td>37</td>\n",
       "      <td>40</td>\n",
       "      <td>45</td>\n",
       "      <td>48</td>\n",
       "      <td>51</td>\n",
       "      <td>51</td>\n",
       "      <td>51</td>\n",
       "      <td>51</td>\n",
       "      <td>51</td>\n",
       "      <td>52</td>\n",
       "      <td>0</td>\n",
       "      <td>0</td>\n",
       "      <td>1</td>\n",
       "      <td>0.987070</td>\n",
       "      <td>1.014124</td>\n",
       "      <td>1.004674</td>\n",
       "      <td>1.010155</td>\n",
       "      <td>1.003036</td>\n",
       "    </tr>\n",
       "    <tr>\n",
       "      <th>19</th>\n",
       "      <td>AD</td>\n",
       "      <td>2020-05-27</td>\n",
       "      <td>E</td>\n",
       "      <td>E3_diff</td>\n",
       "      <td>137063808</td>\n",
       "      <td>51.0</td>\n",
       "      <td>0.0</td>\n",
       "      <td>Deaths</td>\n",
       "      <td>JHU</td>\n",
       "      <td>42</td>\n",
       "      <td>46</td>\n",
       "      <td>49</td>\n",
       "      <td>51</td>\n",
       "      <td>51</td>\n",
       "      <td>51</td>\n",
       "      <td>51</td>\n",
       "      <td>52</td>\n",
       "      <td>52</td>\n",
       "      <td>52</td>\n",
       "      <td>52</td>\n",
       "      <td>1</td>\n",
       "      <td>0</td>\n",
       "      <td>0</td>\n",
       "      <td>0.994854</td>\n",
       "      <td>1.003082</td>\n",
       "      <td>1.000000</td>\n",
       "      <td>1.000000</td>\n",
       "      <td>1.000971</td>\n",
       "    </tr>\n",
       "  </tbody>\n",
       "</table>\n",
       "</div>"
      ],
      "text/plain": [
       "    ID        Date PolicyFamily PolicyType      value  Cases  Cases_New  \\\n",
       "15  AD  2020-04-18            H    H2_diff          2   35.0        0.0   \n",
       "16  AD  2020-04-20            C    C2_diff         -1   37.0        1.0   \n",
       "17  AD  2020-05-09            E    E2_diff          2   48.0        1.0   \n",
       "18  AD  2020-05-11            C    C8_diff         -1   48.0        0.0   \n",
       "19  AD  2020-05-27            E    E3_diff  137063808   51.0        0.0   \n",
       "\n",
       "      Type Source  J-28  J-21  J-14  J-7  J0  J7  J14  J21  J28  J35  J42  \\\n",
       "15  Deaths    JHU     0     3    17   26  35  40   44   48   51   51   51   \n",
       "16  Deaths    JHU     1     8    21   29  37  40   45   48   51   51   51   \n",
       "17  Deaths    JHU    26    35    40   44  48  51   51   51   51   51   52   \n",
       "18  Deaths    JHU    29    37    40   45  48  51   51   51   51   51   52   \n",
       "19  Deaths    JHU    42    46    49   51  51  51   51   52   52   52   52   \n",
       "\n",
       "    PolicyFamily__0  PolicyFamily__1  PolicyFamily__2     dJ_21     dJ_14  \\\n",
       "15                0                1                0  0.884408  1.057121   \n",
       "16                0                0                1  0.926285  1.044532   \n",
       "17                1                0                0  0.984331  1.014124   \n",
       "18                0                0                1  0.987070  1.014124   \n",
       "19                1                0                0  0.994854  1.003082   \n",
       "\n",
       "        dJ14       dJ7      dJ21  \n",
       "15  1.017759  1.022505  1.015918  \n",
       "16  1.015171  1.013078  1.013099  \n",
       "17  1.004674  1.010155  1.003036  \n",
       "18  1.004674  1.010155  1.003036  \n",
       "19  1.000000  1.000000  1.000971  "
      ]
     },
     "execution_count": 161,
     "metadata": {},
     "output_type": "execute_result"
    }
   ],
   "source": [
    "df2.head()"
   ]
  },
  {
   "cell_type": "code",
   "execution_count": 172,
   "metadata": {
    "ExecuteTime": {
     "end_time": "2020-12-15T16:13:39.166567Z",
     "start_time": "2020-12-15T16:13:39.158769Z"
    }
   },
   "outputs": [],
   "source": [
    "# dJ_14: moyenne geo du nombre de morts entre jour d'application de la la loi et 14 jours avant\n",
    "X = df2[['ID','PolicyFamily__0','PolicyFamily__1', 'PolicyFamily__2', 'dJ_14']]\n",
    "\n",
    "# dJ14: moyenne geo du nombre de morts entre jour d'application de la la loi et 14 jours après\n",
    "y = df2['dJ14']"
   ]
  },
  {
   "cell_type": "code",
   "execution_count": 156,
   "metadata": {
    "ExecuteTime": {
     "end_time": "2020-12-15T14:37:58.463661Z",
     "start_time": "2020-12-15T14:37:58.446000Z"
    }
   },
   "outputs": [
    {
     "data": {
      "text/plain": [
       "(4436, 4)"
      ]
     },
     "execution_count": 156,
     "metadata": {},
     "output_type": "execute_result"
    }
   ],
   "source": [
    "X.shape"
   ]
  },
  {
   "cell_type": "markdown",
   "metadata": {
    "ExecuteTime": {
     "end_time": "2020-12-15T11:16:01.456255Z",
     "start_time": "2020-12-15T11:16:01.446169Z"
    }
   },
   "source": [
    "## train, test split"
   ]
  },
  {
   "cell_type": "code",
   "execution_count": 151,
   "metadata": {
    "ExecuteTime": {
     "end_time": "2020-12-15T14:37:33.662680Z",
     "start_time": "2020-12-15T14:37:33.651677Z"
    }
   },
   "outputs": [],
   "source": [
    "X_train, X_test, y_train, y_test = train_test_split(X, y, test_size=0.30, random_state=5)"
   ]
  },
  {
   "cell_type": "markdown",
   "metadata": {},
   "source": [
    "## Linear Regression "
   ]
  },
  {
   "cell_type": "code",
   "execution_count": 152,
   "metadata": {
    "ExecuteTime": {
     "end_time": "2020-12-15T14:37:34.602760Z",
     "start_time": "2020-12-15T14:37:34.588815Z"
    },
    "scrolled": true
   },
   "outputs": [
    {
     "data": {
      "text/plain": [
       "0.6039395835231646"
      ]
     },
     "execution_count": 152,
     "metadata": {},
     "output_type": "execute_result"
    }
   ],
   "source": [
    "linereg = LinearRegression()\n",
    "linereg.fit(X_train, y_train)\n",
    "linereg.score(X_test,y_test)"
   ]
  },
  {
   "cell_type": "code",
   "execution_count": null,
   "metadata": {},
   "outputs": [],
   "source": []
  },
  {
   "cell_type": "code",
   "execution_count": null,
   "metadata": {},
   "outputs": [],
   "source": []
  },
  {
   "cell_type": "code",
   "execution_count": null,
   "metadata": {},
   "outputs": [],
   "source": []
  },
  {
   "cell_type": "code",
   "execution_count": null,
   "metadata": {},
   "outputs": [],
   "source": []
  },
  {
   "cell_type": "code",
   "execution_count": null,
   "metadata": {},
   "outputs": [],
   "source": []
  },
  {
   "cell_type": "code",
   "execution_count": null,
   "metadata": {},
   "outputs": [],
   "source": []
  },
  {
   "cell_type": "code",
   "execution_count": null,
   "metadata": {},
   "outputs": [],
   "source": []
  },
  {
   "cell_type": "code",
   "execution_count": 166,
   "metadata": {
    "ExecuteTime": {
     "end_time": "2020-12-15T15:21:53.361910Z",
     "start_time": "2020-12-15T15:21:53.354377Z"
    }
   },
   "outputs": [],
   "source": [
    "# dJ_14: moyenne geo du nombre de morts entre jour d'application de la la loi et 14 jours avant\n",
    "X = df2[['dJ_14']]\n",
    "\n",
    "# dJ14: moyenne geo du nombre de morts entre jour d'application de la la loi et 14 jours après\n",
    "y = df2['dJ14']"
   ]
  },
  {
   "cell_type": "code",
   "execution_count": 167,
   "metadata": {
    "ExecuteTime": {
     "end_time": "2020-12-15T15:21:53.693498Z",
     "start_time": "2020-12-15T15:21:53.679977Z"
    }
   },
   "outputs": [],
   "source": [
    "X_train, X_test, y_train, y_test = train_test_split(X, y, test_size=0.30, random_state=5)"
   ]
  },
  {
   "cell_type": "code",
   "execution_count": 168,
   "metadata": {
    "ExecuteTime": {
     "end_time": "2020-12-15T15:21:54.054927Z",
     "start_time": "2020-12-15T15:21:54.028815Z"
    }
   },
   "outputs": [
    {
     "data": {
      "text/plain": [
       "0.6039395835231646"
      ]
     },
     "execution_count": 168,
     "metadata": {},
     "output_type": "execute_result"
    }
   ],
   "source": [
    "linereg = LinearRegression()\n",
    "linereg.fit(X_train, y_train)\n",
    "linereg.score(X_test,y_test)"
   ]
  },
  {
   "cell_type": "code",
   "execution_count": null,
   "metadata": {},
   "outputs": [],
   "source": []
  },
  {
   "cell_type": "code",
   "execution_count": null,
   "metadata": {},
   "outputs": [],
   "source": []
  },
  {
   "cell_type": "code",
   "execution_count": null,
   "metadata": {},
   "outputs": [],
   "source": []
  },
  {
   "cell_type": "markdown",
   "metadata": {},
   "source": [
    "# Model with ID "
   ]
  },
  {
   "cell_type": "code",
   "execution_count": 157,
   "metadata": {
    "ExecuteTime": {
     "end_time": "2020-12-15T14:43:41.146137Z",
     "start_time": "2020-12-15T14:43:41.138884Z"
    }
   },
   "outputs": [],
   "source": []
  },
  {
   "cell_type": "code",
   "execution_count": null,
   "metadata": {
    "ExecuteTime": {
     "end_time": "2020-12-15T14:47:02.926479Z",
     "start_time": "2020-12-15T14:47:02.899963Z"
    }
   },
   "outputs": [],
   "source": []
  },
  {
   "cell_type": "code",
   "execution_count": null,
   "metadata": {
    "ExecuteTime": {
     "end_time": "2020-12-15T14:45:07.952201Z",
     "start_time": "2020-12-15T14:45:07.922786Z"
    }
   },
   "outputs": [],
   "source": []
  },
  {
   "cell_type": "code",
   "execution_count": 19,
   "metadata": {
    "ExecuteTime": {
     "end_time": "2020-12-15T13:55:04.068984Z",
     "start_time": "2020-12-15T13:55:04.059996Z"
    }
   },
   "outputs": [],
   "source": []
  },
  {
   "cell_type": "code",
   "execution_count": 20,
   "metadata": {
    "ExecuteTime": {
     "end_time": "2020-12-15T13:55:04.087577Z",
     "start_time": "2020-12-15T13:55:04.074531Z"
    }
   },
   "outputs": [],
   "source": []
  },
  {
   "cell_type": "code",
   "execution_count": 21,
   "metadata": {
    "ExecuteTime": {
     "end_time": "2020-12-15T13:55:04.115348Z",
     "start_time": "2020-12-15T13:55:04.091552Z"
    }
   },
   "outputs": [
    {
     "data": {
      "text/plain": [
       "0.9909028103837464"
      ]
     },
     "execution_count": 21,
     "metadata": {},
     "output_type": "execute_result"
    }
   ],
   "source": []
  },
  {
   "cell_type": "code",
   "execution_count": null,
   "metadata": {
    "ExecuteTime": {
     "end_time": "2020-12-15T13:55:04.138118Z",
     "start_time": "2020-12-15T13:55:04.120688Z"
    }
   },
   "outputs": [],
   "source": []
  },
  {
   "cell_type": "code",
   "execution_count": null,
   "metadata": {},
   "outputs": [],
   "source": []
  }
 ],
 "metadata": {
  "kernelspec": {
   "display_name": "Python 3",
   "language": "python",
   "name": "python3"
  },
  "language_info": {
   "codemirror_mode": {
    "name": "ipython",
    "version": 3
   },
   "file_extension": ".py",
   "mimetype": "text/x-python",
   "name": "python",
   "nbconvert_exporter": "python",
   "pygments_lexer": "ipython3",
   "version": "3.7.7"
  },
  "toc": {
   "base_numbering": 1,
   "nav_menu": {},
   "number_sections": true,
   "sideBar": true,
   "skip_h1_title": false,
   "title_cell": "Table of Contents",
   "title_sidebar": "Contents",
   "toc_cell": false,
   "toc_position": {},
   "toc_section_display": true,
   "toc_window_display": false
  }
 },
 "nbformat": 4,
 "nbformat_minor": 4
}

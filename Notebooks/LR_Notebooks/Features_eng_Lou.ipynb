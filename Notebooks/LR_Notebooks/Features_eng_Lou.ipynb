{
 "cells": [
  {
   "cell_type": "code",
   "execution_count": 1,
   "metadata": {
    "ExecuteTime": {
     "end_time": "2020-12-11T14:50:55.855573Z",
     "start_time": "2020-12-11T14:50:55.829972Z"
    }
   },
   "outputs": [
    {
     "data": {
      "text/plain": [
       "'/Users/lourizzolo/code/LouR238/coronanet/Notebooks'"
      ]
     },
     "execution_count": 1,
     "metadata": {},
     "output_type": "execute_result"
    }
   ],
   "source": [
    "pwd"
   ]
  },
  {
   "cell_type": "code",
   "execution_count": 2,
   "metadata": {
    "ExecuteTime": {
     "end_time": "2020-12-11T14:50:55.921732Z",
     "start_time": "2020-12-11T14:50:55.876138Z"
    }
   },
   "outputs": [],
   "source": [
    "%load_ext autoreload\n",
    "%autoreload 2"
   ]
  },
  {
   "cell_type": "code",
   "execution_count": 103,
   "metadata": {
    "ExecuteTime": {
     "end_time": "2020-12-11T15:44:20.675754Z",
     "start_time": "2020-12-11T15:44:19.566279Z"
    }
   },
   "outputs": [],
   "source": [
    "import pandas as pd\n",
    "import numpy as np\n",
    "import seaborn as sns\n",
    "import matplotlib.pyplot as plt\n",
    "import datetime\n",
    "import pyreadr\n",
    "from IPython.display import display\n",
    "from coronanet.data import Coronanet\n",
    "from coronanet.coronanet_pp import Prepro_coronanet\n",
    "import statsmodels.api as sm "
   ]
  },
  {
   "cell_type": "code",
   "execution_count": 64,
   "metadata": {
    "ExecuteTime": {
     "end_time": "2020-12-11T15:21:09.069229Z",
     "start_time": "2020-12-11T15:21:09.017746Z"
    }
   },
   "outputs": [],
   "source": [
    "df_cases = pd.read_csv('../data/csv/LMA_relative_time_cases.csv')"
   ]
  },
  {
   "cell_type": "code",
   "execution_count": 65,
   "metadata": {
    "ExecuteTime": {
     "end_time": "2020-12-11T15:21:09.667640Z",
     "start_time": "2020-12-11T15:21:09.592668Z"
    }
   },
   "outputs": [
    {
     "data": {
      "text/html": [
       "<div>\n",
       "<style scoped>\n",
       "    .dataframe tbody tr th:only-of-type {\n",
       "        vertical-align: middle;\n",
       "    }\n",
       "\n",
       "    .dataframe tbody tr th {\n",
       "        vertical-align: top;\n",
       "    }\n",
       "\n",
       "    .dataframe thead th {\n",
       "        text-align: right;\n",
       "    }\n",
       "</style>\n",
       "<table border=\"1\" class=\"dataframe\">\n",
       "  <thead>\n",
       "    <tr style=\"text-align: right;\">\n",
       "      <th></th>\n",
       "      <th>Unnamed: 0</th>\n",
       "      <th>Date</th>\n",
       "      <th>ID</th>\n",
       "      <th>Policy</th>\n",
       "      <th>Cases</th>\n",
       "      <th>Cases_New</th>\n",
       "      <th>Type</th>\n",
       "      <th>Source</th>\n",
       "      <th>J14</th>\n",
       "      <th>J-14</th>\n",
       "      <th>J7</th>\n",
       "      <th>J21</th>\n",
       "    </tr>\n",
       "  </thead>\n",
       "  <tbody>\n",
       "    <tr>\n",
       "      <th>0</th>\n",
       "      <td>0</td>\n",
       "      <td>2020-01-26</td>\n",
       "      <td>CN</td>\n",
       "      <td>C1</td>\n",
       "      <td>56</td>\n",
       "      <td>14.0</td>\n",
       "      <td>Deaths</td>\n",
       "      <td>JHU</td>\n",
       "      <td>905</td>\n",
       "      <td>-10000</td>\n",
       "      <td>361</td>\n",
       "      <td>1766</td>\n",
       "    </tr>\n",
       "    <tr>\n",
       "      <th>1</th>\n",
       "      <td>1</td>\n",
       "      <td>2020-01-26</td>\n",
       "      <td>CN</td>\n",
       "      <td>C2</td>\n",
       "      <td>56</td>\n",
       "      <td>14.0</td>\n",
       "      <td>Deaths</td>\n",
       "      <td>JHU</td>\n",
       "      <td>905</td>\n",
       "      <td>-10000</td>\n",
       "      <td>361</td>\n",
       "      <td>1766</td>\n",
       "    </tr>\n",
       "    <tr>\n",
       "      <th>2</th>\n",
       "      <td>2</td>\n",
       "      <td>2020-01-22</td>\n",
       "      <td>CN</td>\n",
       "      <td>C3</td>\n",
       "      <td>17</td>\n",
       "      <td>17.0</td>\n",
       "      <td>Deaths</td>\n",
       "      <td>JHU</td>\n",
       "      <td>563</td>\n",
       "      <td>-10000</td>\n",
       "      <td>133</td>\n",
       "      <td>1117</td>\n",
       "    </tr>\n",
       "    <tr>\n",
       "      <th>3</th>\n",
       "      <td>3</td>\n",
       "      <td>2020-01-22</td>\n",
       "      <td>CN</td>\n",
       "      <td>C4</td>\n",
       "      <td>17</td>\n",
       "      <td>17.0</td>\n",
       "      <td>Deaths</td>\n",
       "      <td>JHU</td>\n",
       "      <td>563</td>\n",
       "      <td>-10000</td>\n",
       "      <td>133</td>\n",
       "      <td>1117</td>\n",
       "    </tr>\n",
       "    <tr>\n",
       "      <th>4</th>\n",
       "      <td>4</td>\n",
       "      <td>2020-01-23</td>\n",
       "      <td>CN</td>\n",
       "      <td>C5</td>\n",
       "      <td>18</td>\n",
       "      <td>1.0</td>\n",
       "      <td>Deaths</td>\n",
       "      <td>JHU</td>\n",
       "      <td>633</td>\n",
       "      <td>-10000</td>\n",
       "      <td>171</td>\n",
       "      <td>1369</td>\n",
       "    </tr>\n",
       "  </tbody>\n",
       "</table>\n",
       "</div>"
      ],
      "text/plain": [
       "   Unnamed: 0        Date  ID Policy  Cases  Cases_New    Type Source  J14  \\\n",
       "0           0  2020-01-26  CN     C1     56       14.0  Deaths    JHU  905   \n",
       "1           1  2020-01-26  CN     C2     56       14.0  Deaths    JHU  905   \n",
       "2           2  2020-01-22  CN     C3     17       17.0  Deaths    JHU  563   \n",
       "3           3  2020-01-22  CN     C4     17       17.0  Deaths    JHU  563   \n",
       "4           4  2020-01-23  CN     C5     18        1.0  Deaths    JHU  633   \n",
       "\n",
       "    J-14   J7   J21  \n",
       "0 -10000  361  1766  \n",
       "1 -10000  361  1766  \n",
       "2 -10000  133  1117  \n",
       "3 -10000  133  1117  \n",
       "4 -10000  171  1369  "
      ]
     },
     "execution_count": 65,
     "metadata": {},
     "output_type": "execute_result"
    }
   ],
   "source": [
    "df_cases.head()"
   ]
  },
  {
   "cell_type": "code",
   "execution_count": 66,
   "metadata": {
    "ExecuteTime": {
     "end_time": "2020-12-11T15:21:14.382898Z",
     "start_time": "2020-12-11T15:21:14.341714Z"
    }
   },
   "outputs": [
    {
     "data": {
      "text/plain": [
       "'2020-12-04'"
      ]
     },
     "execution_count": 66,
     "metadata": {},
     "output_type": "execute_result"
    }
   ],
   "source": [
    "df_cases.Date.max()"
   ]
  },
  {
   "cell_type": "code",
   "execution_count": 67,
   "metadata": {
    "ExecuteTime": {
     "end_time": "2020-12-11T15:21:20.076494Z",
     "start_time": "2020-12-11T15:21:20.037536Z"
    }
   },
   "outputs": [
    {
     "data": {
      "text/plain": [
       "(3632, 12)"
      ]
     },
     "execution_count": 67,
     "metadata": {},
     "output_type": "execute_result"
    }
   ],
   "source": [
    "df_cases.shape"
   ]
  },
  {
   "cell_type": "code",
   "execution_count": 68,
   "metadata": {
    "ExecuteTime": {
     "end_time": "2020-12-11T15:21:22.166341Z",
     "start_time": "2020-12-11T15:21:22.125280Z"
    }
   },
   "outputs": [
    {
     "data": {
      "text/plain": [
       "Index(['Unnamed: 0', 'Date', 'ID', 'Policy', 'Cases', 'Cases_New', 'Type',\n",
       "       'Source', 'J14', 'J-14', 'J7', 'J21'],\n",
       "      dtype='object')"
      ]
     },
     "execution_count": 68,
     "metadata": {},
     "output_type": "execute_result"
    }
   ],
   "source": [
    "df_cases.columns"
   ]
  },
  {
   "cell_type": "code",
   "execution_count": 69,
   "metadata": {
    "ExecuteTime": {
     "end_time": "2020-12-11T15:21:24.704239Z",
     "start_time": "2020-12-11T15:21:24.658343Z"
    }
   },
   "outputs": [],
   "source": [
    "df_cases = df_cases[['Date','ID', 'Policy', 'Cases', 'Cases_New','J14', 'J-14', 'J7', 'J21' ]]"
   ]
  },
  {
   "cell_type": "code",
   "execution_count": 70,
   "metadata": {
    "ExecuteTime": {
     "end_time": "2020-12-11T15:21:25.161297Z",
     "start_time": "2020-12-11T15:21:25.097735Z"
    }
   },
   "outputs": [
    {
     "data": {
      "text/html": [
       "<div>\n",
       "<style scoped>\n",
       "    .dataframe tbody tr th:only-of-type {\n",
       "        vertical-align: middle;\n",
       "    }\n",
       "\n",
       "    .dataframe tbody tr th {\n",
       "        vertical-align: top;\n",
       "    }\n",
       "\n",
       "    .dataframe thead th {\n",
       "        text-align: right;\n",
       "    }\n",
       "</style>\n",
       "<table border=\"1\" class=\"dataframe\">\n",
       "  <thead>\n",
       "    <tr style=\"text-align: right;\">\n",
       "      <th></th>\n",
       "      <th>Date</th>\n",
       "      <th>ID</th>\n",
       "      <th>Policy</th>\n",
       "      <th>Cases</th>\n",
       "      <th>Cases_New</th>\n",
       "      <th>J14</th>\n",
       "      <th>J-14</th>\n",
       "      <th>J7</th>\n",
       "      <th>J21</th>\n",
       "    </tr>\n",
       "  </thead>\n",
       "  <tbody>\n",
       "    <tr>\n",
       "      <th>0</th>\n",
       "      <td>2020-01-26</td>\n",
       "      <td>CN</td>\n",
       "      <td>C1</td>\n",
       "      <td>56</td>\n",
       "      <td>14.0</td>\n",
       "      <td>905</td>\n",
       "      <td>-10000</td>\n",
       "      <td>361</td>\n",
       "      <td>1766</td>\n",
       "    </tr>\n",
       "    <tr>\n",
       "      <th>1</th>\n",
       "      <td>2020-01-26</td>\n",
       "      <td>CN</td>\n",
       "      <td>C2</td>\n",
       "      <td>56</td>\n",
       "      <td>14.0</td>\n",
       "      <td>905</td>\n",
       "      <td>-10000</td>\n",
       "      <td>361</td>\n",
       "      <td>1766</td>\n",
       "    </tr>\n",
       "    <tr>\n",
       "      <th>2</th>\n",
       "      <td>2020-01-22</td>\n",
       "      <td>CN</td>\n",
       "      <td>C3</td>\n",
       "      <td>17</td>\n",
       "      <td>17.0</td>\n",
       "      <td>563</td>\n",
       "      <td>-10000</td>\n",
       "      <td>133</td>\n",
       "      <td>1117</td>\n",
       "    </tr>\n",
       "    <tr>\n",
       "      <th>3</th>\n",
       "      <td>2020-01-22</td>\n",
       "      <td>CN</td>\n",
       "      <td>C4</td>\n",
       "      <td>17</td>\n",
       "      <td>17.0</td>\n",
       "      <td>563</td>\n",
       "      <td>-10000</td>\n",
       "      <td>133</td>\n",
       "      <td>1117</td>\n",
       "    </tr>\n",
       "    <tr>\n",
       "      <th>4</th>\n",
       "      <td>2020-01-23</td>\n",
       "      <td>CN</td>\n",
       "      <td>C5</td>\n",
       "      <td>18</td>\n",
       "      <td>1.0</td>\n",
       "      <td>633</td>\n",
       "      <td>-10000</td>\n",
       "      <td>171</td>\n",
       "      <td>1369</td>\n",
       "    </tr>\n",
       "  </tbody>\n",
       "</table>\n",
       "</div>"
      ],
      "text/plain": [
       "         Date  ID Policy  Cases  Cases_New  J14   J-14   J7   J21\n",
       "0  2020-01-26  CN     C1     56       14.0  905 -10000  361  1766\n",
       "1  2020-01-26  CN     C2     56       14.0  905 -10000  361  1766\n",
       "2  2020-01-22  CN     C3     17       17.0  563 -10000  133  1117\n",
       "3  2020-01-22  CN     C4     17       17.0  563 -10000  133  1117\n",
       "4  2020-01-23  CN     C5     18        1.0  633 -10000  171  1369"
      ]
     },
     "execution_count": 70,
     "metadata": {},
     "output_type": "execute_result"
    }
   ],
   "source": [
    "df_cases.head()"
   ]
  },
  {
   "cell_type": "code",
   "execution_count": 76,
   "metadata": {
    "ExecuteTime": {
     "end_time": "2020-12-11T15:22:07.907709Z",
     "start_time": "2020-12-11T15:22:07.862240Z"
    }
   },
   "outputs": [],
   "source": [
    "df_cases_it = df_cases[df_cases['ID']=='IT']"
   ]
  },
  {
   "cell_type": "code",
   "execution_count": 77,
   "metadata": {
    "ExecuteTime": {
     "end_time": "2020-12-11T15:22:08.304094Z",
     "start_time": "2020-12-11T15:22:08.256012Z"
    }
   },
   "outputs": [
    {
     "data": {
      "text/plain": [
       "'2020-11-26'"
      ]
     },
     "execution_count": 77,
     "metadata": {},
     "output_type": "execute_result"
    }
   ],
   "source": [
    "df_cases_it.Date.max()"
   ]
  },
  {
   "cell_type": "code",
   "execution_count": 78,
   "metadata": {
    "ExecuteTime": {
     "end_time": "2020-12-11T15:22:09.919919Z",
     "start_time": "2020-12-11T15:22:09.871062Z"
    }
   },
   "outputs": [],
   "source": [
    "count = df_cases_it.groupby('Date').count()['Policy']"
   ]
  },
  {
   "cell_type": "code",
   "execution_count": 79,
   "metadata": {
    "ExecuteTime": {
     "end_time": "2020-12-11T15:22:12.075019Z",
     "start_time": "2020-12-11T15:22:12.030728Z"
    }
   },
   "outputs": [],
   "source": [
    "c = pd.DataFrame(count)"
   ]
  },
  {
   "cell_type": "code",
   "execution_count": 80,
   "metadata": {
    "ExecuteTime": {
     "end_time": "2020-12-11T15:22:21.672007Z",
     "start_time": "2020-12-11T15:22:21.624337Z"
    }
   },
   "outputs": [],
   "source": [
    "df_cases_it = df_cases_fr.drop_duplicates(subset=['Date'])"
   ]
  },
  {
   "cell_type": "code",
   "execution_count": 81,
   "metadata": {
    "ExecuteTime": {
     "end_time": "2020-12-11T15:22:28.116398Z",
     "start_time": "2020-12-11T15:22:28.059062Z"
    }
   },
   "outputs": [
    {
     "data": {
      "text/html": [
       "<div>\n",
       "<style scoped>\n",
       "    .dataframe tbody tr th:only-of-type {\n",
       "        vertical-align: middle;\n",
       "    }\n",
       "\n",
       "    .dataframe tbody tr th {\n",
       "        vertical-align: top;\n",
       "    }\n",
       "\n",
       "    .dataframe thead th {\n",
       "        text-align: right;\n",
       "    }\n",
       "</style>\n",
       "<table border=\"1\" class=\"dataframe\">\n",
       "  <thead>\n",
       "    <tr style=\"text-align: right;\">\n",
       "      <th></th>\n",
       "      <th>Date</th>\n",
       "      <th>ID</th>\n",
       "      <th>Policy</th>\n",
       "      <th>Cases</th>\n",
       "      <th>Cases_New</th>\n",
       "      <th>J14</th>\n",
       "      <th>J-14</th>\n",
       "      <th>J7</th>\n",
       "      <th>J21</th>\n",
       "    </tr>\n",
       "  </thead>\n",
       "  <tbody>\n",
       "    <tr>\n",
       "      <th>482</th>\n",
       "      <td>2020-02-23</td>\n",
       "      <td>IT</td>\n",
       "      <td>C1</td>\n",
       "      <td>3</td>\n",
       "      <td>1.0</td>\n",
       "      <td>366</td>\n",
       "      <td>0</td>\n",
       "      <td>34</td>\n",
       "      <td>1809</td>\n",
       "    </tr>\n",
       "    <tr>\n",
       "      <th>486</th>\n",
       "      <td>2020-02-22</td>\n",
       "      <td>IT</td>\n",
       "      <td>C2</td>\n",
       "      <td>2</td>\n",
       "      <td>1.0</td>\n",
       "      <td>233</td>\n",
       "      <td>0</td>\n",
       "      <td>29</td>\n",
       "      <td>1441</td>\n",
       "    </tr>\n",
       "    <tr>\n",
       "      <th>487</th>\n",
       "      <td>2020-03-11</td>\n",
       "      <td>IT</td>\n",
       "      <td>C5</td>\n",
       "      <td>827</td>\n",
       "      <td>196.0</td>\n",
       "      <td>7503</td>\n",
       "      <td>12</td>\n",
       "      <td>2978</td>\n",
       "      <td>13155</td>\n",
       "    </tr>\n",
       "    <tr>\n",
       "      <th>488</th>\n",
       "      <td>2020-02-21</td>\n",
       "      <td>IT</td>\n",
       "      <td>C7</td>\n",
       "      <td>1</td>\n",
       "      <td>1.0</td>\n",
       "      <td>197</td>\n",
       "      <td>0</td>\n",
       "      <td>21</td>\n",
       "      <td>1266</td>\n",
       "    </tr>\n",
       "    <tr>\n",
       "      <th>489</th>\n",
       "      <td>2020-01-23</td>\n",
       "      <td>IT</td>\n",
       "      <td>C8</td>\n",
       "      <td>0</td>\n",
       "      <td>0.0</td>\n",
       "      <td>0</td>\n",
       "      <td>-10000</td>\n",
       "      <td>0</td>\n",
       "      <td>0</td>\n",
       "    </tr>\n",
       "  </tbody>\n",
       "</table>\n",
       "</div>"
      ],
      "text/plain": [
       "           Date  ID Policy  Cases  Cases_New   J14   J-14    J7    J21\n",
       "482  2020-02-23  IT     C1      3        1.0   366      0    34   1809\n",
       "486  2020-02-22  IT     C2      2        1.0   233      0    29   1441\n",
       "487  2020-03-11  IT     C5    827      196.0  7503     12  2978  13155\n",
       "488  2020-02-21  IT     C7      1        1.0   197      0    21   1266\n",
       "489  2020-01-23  IT     C8      0        0.0     0 -10000     0      0"
      ]
     },
     "execution_count": 81,
     "metadata": {},
     "output_type": "execute_result"
    }
   ],
   "source": [
    "df_cases_it.head()"
   ]
  },
  {
   "cell_type": "code",
   "execution_count": 82,
   "metadata": {
    "ExecuteTime": {
     "end_time": "2020-12-11T15:22:36.343709Z",
     "start_time": "2020-12-11T15:22:36.209674Z"
    }
   },
   "outputs": [
    {
     "name": "stderr",
     "output_type": "stream",
     "text": [
      "/Users/lourizzolo/.pyenv/versions/3.7.7/envs/lewagon/lib/python3.7/site-packages/ipykernel_launcher.py:1: SettingWithCopyWarning: \n",
      "A value is trying to be set on a copy of a slice from a DataFrame.\n",
      "Try using .loc[row_indexer,col_indexer] = value instead\n",
      "\n",
      "See the caveats in the documentation: http://pandas.pydata.org/pandas-docs/stable/indexing.html#indexing-view-versus-copy\n",
      "  \"\"\"Entry point for launching an IPython kernel.\n"
     ]
    }
   ],
   "source": [
    "df_cases_it['count_policy'] = c.values"
   ]
  },
  {
   "cell_type": "code",
   "execution_count": 85,
   "metadata": {
    "ExecuteTime": {
     "end_time": "2020-12-11T15:25:00.295437Z",
     "start_time": "2020-12-11T15:25:00.254064Z"
    }
   },
   "outputs": [],
   "source": [
    "df_cases_it = df_cases_it.sort_values(by=['Date'])"
   ]
  },
  {
   "cell_type": "code",
   "execution_count": 86,
   "metadata": {
    "ExecuteTime": {
     "end_time": "2020-12-11T15:25:05.415851Z",
     "start_time": "2020-12-11T15:25:05.356801Z"
    }
   },
   "outputs": [
    {
     "data": {
      "text/html": [
       "<div>\n",
       "<style scoped>\n",
       "    .dataframe tbody tr th:only-of-type {\n",
       "        vertical-align: middle;\n",
       "    }\n",
       "\n",
       "    .dataframe tbody tr th {\n",
       "        vertical-align: top;\n",
       "    }\n",
       "\n",
       "    .dataframe thead th {\n",
       "        text-align: right;\n",
       "    }\n",
       "</style>\n",
       "<table border=\"1\" class=\"dataframe\">\n",
       "  <thead>\n",
       "    <tr style=\"text-align: right;\">\n",
       "      <th></th>\n",
       "      <th>Date</th>\n",
       "      <th>ID</th>\n",
       "      <th>Policy</th>\n",
       "      <th>Cases</th>\n",
       "      <th>Cases_New</th>\n",
       "      <th>J14</th>\n",
       "      <th>J-14</th>\n",
       "      <th>J7</th>\n",
       "      <th>J21</th>\n",
       "      <th>count_policy</th>\n",
       "    </tr>\n",
       "  </thead>\n",
       "  <tbody>\n",
       "    <tr>\n",
       "      <th>489</th>\n",
       "      <td>2020-01-23</td>\n",
       "      <td>IT</td>\n",
       "      <td>C8</td>\n",
       "      <td>0</td>\n",
       "      <td>0.0</td>\n",
       "      <td>0</td>\n",
       "      <td>-10000</td>\n",
       "      <td>0</td>\n",
       "      <td>0</td>\n",
       "      <td>4</td>\n",
       "    </tr>\n",
       "    <tr>\n",
       "      <th>500</th>\n",
       "      <td>2020-01-31</td>\n",
       "      <td>IT</td>\n",
       "      <td>H1</td>\n",
       "      <td>0</td>\n",
       "      <td>0.0</td>\n",
       "      <td>0</td>\n",
       "      <td>-10000</td>\n",
       "      <td>0</td>\n",
       "      <td>1</td>\n",
       "      <td>3</td>\n",
       "    </tr>\n",
       "    <tr>\n",
       "      <th>488</th>\n",
       "      <td>2020-02-21</td>\n",
       "      <td>IT</td>\n",
       "      <td>C7</td>\n",
       "      <td>1</td>\n",
       "      <td>1.0</td>\n",
       "      <td>197</td>\n",
       "      <td>0</td>\n",
       "      <td>21</td>\n",
       "      <td>1266</td>\n",
       "      <td>1</td>\n",
       "    </tr>\n",
       "    <tr>\n",
       "      <th>486</th>\n",
       "      <td>2020-02-22</td>\n",
       "      <td>IT</td>\n",
       "      <td>C2</td>\n",
       "      <td>2</td>\n",
       "      <td>1.0</td>\n",
       "      <td>233</td>\n",
       "      <td>0</td>\n",
       "      <td>29</td>\n",
       "      <td>1441</td>\n",
       "      <td>3</td>\n",
       "    </tr>\n",
       "    <tr>\n",
       "      <th>482</th>\n",
       "      <td>2020-02-23</td>\n",
       "      <td>IT</td>\n",
       "      <td>C1</td>\n",
       "      <td>3</td>\n",
       "      <td>1.0</td>\n",
       "      <td>366</td>\n",
       "      <td>0</td>\n",
       "      <td>34</td>\n",
       "      <td>1809</td>\n",
       "      <td>6</td>\n",
       "    </tr>\n",
       "    <tr>\n",
       "      <th>498</th>\n",
       "      <td>2020-02-28</td>\n",
       "      <td>IT</td>\n",
       "      <td>E3</td>\n",
       "      <td>21</td>\n",
       "      <td>4.0</td>\n",
       "      <td>1266</td>\n",
       "      <td>0</td>\n",
       "      <td>197</td>\n",
       "      <td>4032</td>\n",
       "      <td>1</td>\n",
       "    </tr>\n",
       "    <tr>\n",
       "      <th>487</th>\n",
       "      <td>2020-03-11</td>\n",
       "      <td>IT</td>\n",
       "      <td>C5</td>\n",
       "      <td>827</td>\n",
       "      <td>196.0</td>\n",
       "      <td>7503</td>\n",
       "      <td>12</td>\n",
       "      <td>2978</td>\n",
       "      <td>13155</td>\n",
       "      <td>1</td>\n",
       "    </tr>\n",
       "    <tr>\n",
       "      <th>503</th>\n",
       "      <td>2020-03-16</td>\n",
       "      <td>IT</td>\n",
       "      <td>H4</td>\n",
       "      <td>2158</td>\n",
       "      <td>349.0</td>\n",
       "      <td>11591</td>\n",
       "      <td>52</td>\n",
       "      <td>6077</td>\n",
       "      <td>16523</td>\n",
       "      <td>1</td>\n",
       "    </tr>\n",
       "    <tr>\n",
       "      <th>495</th>\n",
       "      <td>2020-03-17</td>\n",
       "      <td>IT</td>\n",
       "      <td>E1</td>\n",
       "      <td>2503</td>\n",
       "      <td>345.0</td>\n",
       "      <td>12428</td>\n",
       "      <td>79</td>\n",
       "      <td>6820</td>\n",
       "      <td>17127</td>\n",
       "      <td>1</td>\n",
       "    </tr>\n",
       "    <tr>\n",
       "      <th>505</th>\n",
       "      <td>2020-04-04</td>\n",
       "      <td>IT</td>\n",
       "      <td>H6</td>\n",
       "      <td>15362</td>\n",
       "      <td>681.0</td>\n",
       "      <td>23227</td>\n",
       "      <td>4825</td>\n",
       "      <td>19468</td>\n",
       "      <td>26384</td>\n",
       "      <td>1</td>\n",
       "    </tr>\n",
       "    <tr>\n",
       "      <th>504</th>\n",
       "      <td>2020-08-16</td>\n",
       "      <td>IT</td>\n",
       "      <td>H5</td>\n",
       "      <td>35396</td>\n",
       "      <td>4.0</td>\n",
       "      <td>35477</td>\n",
       "      <td>35154</td>\n",
       "      <td>35437</td>\n",
       "      <td>35541</td>\n",
       "      <td>1</td>\n",
       "    </tr>\n",
       "    <tr>\n",
       "      <th>499</th>\n",
       "      <td>2020-11-26</td>\n",
       "      <td>IT</td>\n",
       "      <td>E4</td>\n",
       "      <td>52850</td>\n",
       "      <td>822.0</td>\n",
       "      <td>-10000</td>\n",
       "      <td>43589</td>\n",
       "      <td>58038</td>\n",
       "      <td>-10000</td>\n",
       "      <td>1</td>\n",
       "    </tr>\n",
       "  </tbody>\n",
       "</table>\n",
       "</div>"
      ],
      "text/plain": [
       "           Date  ID Policy  Cases  Cases_New    J14   J-14     J7    J21  \\\n",
       "489  2020-01-23  IT     C8      0        0.0      0 -10000      0      0   \n",
       "500  2020-01-31  IT     H1      0        0.0      0 -10000      0      1   \n",
       "488  2020-02-21  IT     C7      1        1.0    197      0     21   1266   \n",
       "486  2020-02-22  IT     C2      2        1.0    233      0     29   1441   \n",
       "482  2020-02-23  IT     C1      3        1.0    366      0     34   1809   \n",
       "498  2020-02-28  IT     E3     21        4.0   1266      0    197   4032   \n",
       "487  2020-03-11  IT     C5    827      196.0   7503     12   2978  13155   \n",
       "503  2020-03-16  IT     H4   2158      349.0  11591     52   6077  16523   \n",
       "495  2020-03-17  IT     E1   2503      345.0  12428     79   6820  17127   \n",
       "505  2020-04-04  IT     H6  15362      681.0  23227   4825  19468  26384   \n",
       "504  2020-08-16  IT     H5  35396        4.0  35477  35154  35437  35541   \n",
       "499  2020-11-26  IT     E4  52850      822.0 -10000  43589  58038 -10000   \n",
       "\n",
       "     count_policy  \n",
       "489             4  \n",
       "500             3  \n",
       "488             1  \n",
       "486             3  \n",
       "482             6  \n",
       "498             1  \n",
       "487             1  \n",
       "503             1  \n",
       "495             1  \n",
       "505             1  \n",
       "504             1  \n",
       "499             1  "
      ]
     },
     "execution_count": 86,
     "metadata": {},
     "output_type": "execute_result"
    }
   ],
   "source": [
    "df_cases_it"
   ]
  },
  {
   "cell_type": "code",
   "execution_count": 87,
   "metadata": {
    "ExecuteTime": {
     "end_time": "2020-12-11T15:27:20.160452Z",
     "start_time": "2020-12-11T15:27:20.120861Z"
    }
   },
   "outputs": [],
   "source": [
    "df_cases_it['delta'] = df_cases_it['Cases'] - df_cases_it['J14']"
   ]
  },
  {
   "cell_type": "code",
   "execution_count": 88,
   "metadata": {
    "ExecuteTime": {
     "end_time": "2020-12-11T15:27:26.092092Z",
     "start_time": "2020-12-11T15:27:26.028878Z"
    }
   },
   "outputs": [
    {
     "data": {
      "text/html": [
       "<div>\n",
       "<style scoped>\n",
       "    .dataframe tbody tr th:only-of-type {\n",
       "        vertical-align: middle;\n",
       "    }\n",
       "\n",
       "    .dataframe tbody tr th {\n",
       "        vertical-align: top;\n",
       "    }\n",
       "\n",
       "    .dataframe thead th {\n",
       "        text-align: right;\n",
       "    }\n",
       "</style>\n",
       "<table border=\"1\" class=\"dataframe\">\n",
       "  <thead>\n",
       "    <tr style=\"text-align: right;\">\n",
       "      <th></th>\n",
       "      <th>Date</th>\n",
       "      <th>ID</th>\n",
       "      <th>Policy</th>\n",
       "      <th>Cases</th>\n",
       "      <th>Cases_New</th>\n",
       "      <th>J14</th>\n",
       "      <th>J-14</th>\n",
       "      <th>J7</th>\n",
       "      <th>J21</th>\n",
       "      <th>count_policy</th>\n",
       "      <th>delta</th>\n",
       "    </tr>\n",
       "  </thead>\n",
       "  <tbody>\n",
       "    <tr>\n",
       "      <th>489</th>\n",
       "      <td>2020-01-23</td>\n",
       "      <td>IT</td>\n",
       "      <td>C8</td>\n",
       "      <td>0</td>\n",
       "      <td>0.0</td>\n",
       "      <td>0</td>\n",
       "      <td>-10000</td>\n",
       "      <td>0</td>\n",
       "      <td>0</td>\n",
       "      <td>4</td>\n",
       "      <td>0</td>\n",
       "    </tr>\n",
       "    <tr>\n",
       "      <th>500</th>\n",
       "      <td>2020-01-31</td>\n",
       "      <td>IT</td>\n",
       "      <td>H1</td>\n",
       "      <td>0</td>\n",
       "      <td>0.0</td>\n",
       "      <td>0</td>\n",
       "      <td>-10000</td>\n",
       "      <td>0</td>\n",
       "      <td>1</td>\n",
       "      <td>3</td>\n",
       "      <td>0</td>\n",
       "    </tr>\n",
       "    <tr>\n",
       "      <th>488</th>\n",
       "      <td>2020-02-21</td>\n",
       "      <td>IT</td>\n",
       "      <td>C7</td>\n",
       "      <td>1</td>\n",
       "      <td>1.0</td>\n",
       "      <td>197</td>\n",
       "      <td>0</td>\n",
       "      <td>21</td>\n",
       "      <td>1266</td>\n",
       "      <td>1</td>\n",
       "      <td>-196</td>\n",
       "    </tr>\n",
       "    <tr>\n",
       "      <th>486</th>\n",
       "      <td>2020-02-22</td>\n",
       "      <td>IT</td>\n",
       "      <td>C2</td>\n",
       "      <td>2</td>\n",
       "      <td>1.0</td>\n",
       "      <td>233</td>\n",
       "      <td>0</td>\n",
       "      <td>29</td>\n",
       "      <td>1441</td>\n",
       "      <td>3</td>\n",
       "      <td>-231</td>\n",
       "    </tr>\n",
       "    <tr>\n",
       "      <th>482</th>\n",
       "      <td>2020-02-23</td>\n",
       "      <td>IT</td>\n",
       "      <td>C1</td>\n",
       "      <td>3</td>\n",
       "      <td>1.0</td>\n",
       "      <td>366</td>\n",
       "      <td>0</td>\n",
       "      <td>34</td>\n",
       "      <td>1809</td>\n",
       "      <td>6</td>\n",
       "      <td>-363</td>\n",
       "    </tr>\n",
       "    <tr>\n",
       "      <th>498</th>\n",
       "      <td>2020-02-28</td>\n",
       "      <td>IT</td>\n",
       "      <td>E3</td>\n",
       "      <td>21</td>\n",
       "      <td>4.0</td>\n",
       "      <td>1266</td>\n",
       "      <td>0</td>\n",
       "      <td>197</td>\n",
       "      <td>4032</td>\n",
       "      <td>1</td>\n",
       "      <td>-1245</td>\n",
       "    </tr>\n",
       "    <tr>\n",
       "      <th>487</th>\n",
       "      <td>2020-03-11</td>\n",
       "      <td>IT</td>\n",
       "      <td>C5</td>\n",
       "      <td>827</td>\n",
       "      <td>196.0</td>\n",
       "      <td>7503</td>\n",
       "      <td>12</td>\n",
       "      <td>2978</td>\n",
       "      <td>13155</td>\n",
       "      <td>1</td>\n",
       "      <td>-6676</td>\n",
       "    </tr>\n",
       "    <tr>\n",
       "      <th>503</th>\n",
       "      <td>2020-03-16</td>\n",
       "      <td>IT</td>\n",
       "      <td>H4</td>\n",
       "      <td>2158</td>\n",
       "      <td>349.0</td>\n",
       "      <td>11591</td>\n",
       "      <td>52</td>\n",
       "      <td>6077</td>\n",
       "      <td>16523</td>\n",
       "      <td>1</td>\n",
       "      <td>-9433</td>\n",
       "    </tr>\n",
       "    <tr>\n",
       "      <th>495</th>\n",
       "      <td>2020-03-17</td>\n",
       "      <td>IT</td>\n",
       "      <td>E1</td>\n",
       "      <td>2503</td>\n",
       "      <td>345.0</td>\n",
       "      <td>12428</td>\n",
       "      <td>79</td>\n",
       "      <td>6820</td>\n",
       "      <td>17127</td>\n",
       "      <td>1</td>\n",
       "      <td>-9925</td>\n",
       "    </tr>\n",
       "    <tr>\n",
       "      <th>505</th>\n",
       "      <td>2020-04-04</td>\n",
       "      <td>IT</td>\n",
       "      <td>H6</td>\n",
       "      <td>15362</td>\n",
       "      <td>681.0</td>\n",
       "      <td>23227</td>\n",
       "      <td>4825</td>\n",
       "      <td>19468</td>\n",
       "      <td>26384</td>\n",
       "      <td>1</td>\n",
       "      <td>-7865</td>\n",
       "    </tr>\n",
       "    <tr>\n",
       "      <th>504</th>\n",
       "      <td>2020-08-16</td>\n",
       "      <td>IT</td>\n",
       "      <td>H5</td>\n",
       "      <td>35396</td>\n",
       "      <td>4.0</td>\n",
       "      <td>35477</td>\n",
       "      <td>35154</td>\n",
       "      <td>35437</td>\n",
       "      <td>35541</td>\n",
       "      <td>1</td>\n",
       "      <td>-81</td>\n",
       "    </tr>\n",
       "    <tr>\n",
       "      <th>499</th>\n",
       "      <td>2020-11-26</td>\n",
       "      <td>IT</td>\n",
       "      <td>E4</td>\n",
       "      <td>52850</td>\n",
       "      <td>822.0</td>\n",
       "      <td>-10000</td>\n",
       "      <td>43589</td>\n",
       "      <td>58038</td>\n",
       "      <td>-10000</td>\n",
       "      <td>1</td>\n",
       "      <td>62850</td>\n",
       "    </tr>\n",
       "  </tbody>\n",
       "</table>\n",
       "</div>"
      ],
      "text/plain": [
       "           Date  ID Policy  Cases  Cases_New    J14   J-14     J7    J21  \\\n",
       "489  2020-01-23  IT     C8      0        0.0      0 -10000      0      0   \n",
       "500  2020-01-31  IT     H1      0        0.0      0 -10000      0      1   \n",
       "488  2020-02-21  IT     C7      1        1.0    197      0     21   1266   \n",
       "486  2020-02-22  IT     C2      2        1.0    233      0     29   1441   \n",
       "482  2020-02-23  IT     C1      3        1.0    366      0     34   1809   \n",
       "498  2020-02-28  IT     E3     21        4.0   1266      0    197   4032   \n",
       "487  2020-03-11  IT     C5    827      196.0   7503     12   2978  13155   \n",
       "503  2020-03-16  IT     H4   2158      349.0  11591     52   6077  16523   \n",
       "495  2020-03-17  IT     E1   2503      345.0  12428     79   6820  17127   \n",
       "505  2020-04-04  IT     H6  15362      681.0  23227   4825  19468  26384   \n",
       "504  2020-08-16  IT     H5  35396        4.0  35477  35154  35437  35541   \n",
       "499  2020-11-26  IT     E4  52850      822.0 -10000  43589  58038 -10000   \n",
       "\n",
       "     count_policy  delta  \n",
       "489             4      0  \n",
       "500             3      0  \n",
       "488             1   -196  \n",
       "486             3   -231  \n",
       "482             6   -363  \n",
       "498             1  -1245  \n",
       "487             1  -6676  \n",
       "503             1  -9433  \n",
       "495             1  -9925  \n",
       "505             1  -7865  \n",
       "504             1    -81  \n",
       "499             1  62850  "
      ]
     },
     "execution_count": 88,
     "metadata": {},
     "output_type": "execute_result"
    }
   ],
   "source": [
    "df_cases_it"
   ]
  },
  {
   "cell_type": "code",
   "execution_count": 100,
   "metadata": {
    "ExecuteTime": {
     "end_time": "2020-12-11T15:40:31.861729Z",
     "start_time": "2020-12-11T15:40:31.818750Z"
    }
   },
   "outputs": [],
   "source": [
    "def handle(x):\n",
    "    if x <= 0:\n",
    "        return 0\n",
    "    if x > 0:\n",
    "        return 1"
   ]
  },
  {
   "cell_type": "code",
   "execution_count": 101,
   "metadata": {
    "ExecuteTime": {
     "end_time": "2020-12-11T15:40:32.432806Z",
     "start_time": "2020-12-11T15:40:32.393417Z"
    }
   },
   "outputs": [],
   "source": [
    "df_cases_it['efficiency'] = df_cases_it['delta'].apply(handle)"
   ]
  },
  {
   "cell_type": "code",
   "execution_count": 102,
   "metadata": {
    "ExecuteTime": {
     "end_time": "2020-12-11T15:40:33.014257Z",
     "start_time": "2020-12-11T15:40:32.944317Z"
    }
   },
   "outputs": [
    {
     "data": {
      "text/html": [
       "<div>\n",
       "<style scoped>\n",
       "    .dataframe tbody tr th:only-of-type {\n",
       "        vertical-align: middle;\n",
       "    }\n",
       "\n",
       "    .dataframe tbody tr th {\n",
       "        vertical-align: top;\n",
       "    }\n",
       "\n",
       "    .dataframe thead th {\n",
       "        text-align: right;\n",
       "    }\n",
       "</style>\n",
       "<table border=\"1\" class=\"dataframe\">\n",
       "  <thead>\n",
       "    <tr style=\"text-align: right;\">\n",
       "      <th></th>\n",
       "      <th>Date</th>\n",
       "      <th>ID</th>\n",
       "      <th>Policy</th>\n",
       "      <th>Cases</th>\n",
       "      <th>Cases_New</th>\n",
       "      <th>J14</th>\n",
       "      <th>J-14</th>\n",
       "      <th>J7</th>\n",
       "      <th>J21</th>\n",
       "      <th>count_policy</th>\n",
       "      <th>delta</th>\n",
       "      <th>efficiency</th>\n",
       "    </tr>\n",
       "  </thead>\n",
       "  <tbody>\n",
       "    <tr>\n",
       "      <th>489</th>\n",
       "      <td>2020-01-23</td>\n",
       "      <td>IT</td>\n",
       "      <td>C8</td>\n",
       "      <td>0</td>\n",
       "      <td>0.0</td>\n",
       "      <td>0</td>\n",
       "      <td>-10000</td>\n",
       "      <td>0</td>\n",
       "      <td>0</td>\n",
       "      <td>4</td>\n",
       "      <td>0</td>\n",
       "      <td>0</td>\n",
       "    </tr>\n",
       "    <tr>\n",
       "      <th>500</th>\n",
       "      <td>2020-01-31</td>\n",
       "      <td>IT</td>\n",
       "      <td>H1</td>\n",
       "      <td>0</td>\n",
       "      <td>0.0</td>\n",
       "      <td>0</td>\n",
       "      <td>-10000</td>\n",
       "      <td>0</td>\n",
       "      <td>1</td>\n",
       "      <td>3</td>\n",
       "      <td>0</td>\n",
       "      <td>0</td>\n",
       "    </tr>\n",
       "    <tr>\n",
       "      <th>488</th>\n",
       "      <td>2020-02-21</td>\n",
       "      <td>IT</td>\n",
       "      <td>C7</td>\n",
       "      <td>1</td>\n",
       "      <td>1.0</td>\n",
       "      <td>197</td>\n",
       "      <td>0</td>\n",
       "      <td>21</td>\n",
       "      <td>1266</td>\n",
       "      <td>1</td>\n",
       "      <td>-196</td>\n",
       "      <td>0</td>\n",
       "    </tr>\n",
       "    <tr>\n",
       "      <th>486</th>\n",
       "      <td>2020-02-22</td>\n",
       "      <td>IT</td>\n",
       "      <td>C2</td>\n",
       "      <td>2</td>\n",
       "      <td>1.0</td>\n",
       "      <td>233</td>\n",
       "      <td>0</td>\n",
       "      <td>29</td>\n",
       "      <td>1441</td>\n",
       "      <td>3</td>\n",
       "      <td>-231</td>\n",
       "      <td>0</td>\n",
       "    </tr>\n",
       "    <tr>\n",
       "      <th>482</th>\n",
       "      <td>2020-02-23</td>\n",
       "      <td>IT</td>\n",
       "      <td>C1</td>\n",
       "      <td>3</td>\n",
       "      <td>1.0</td>\n",
       "      <td>366</td>\n",
       "      <td>0</td>\n",
       "      <td>34</td>\n",
       "      <td>1809</td>\n",
       "      <td>6</td>\n",
       "      <td>-363</td>\n",
       "      <td>0</td>\n",
       "    </tr>\n",
       "    <tr>\n",
       "      <th>498</th>\n",
       "      <td>2020-02-28</td>\n",
       "      <td>IT</td>\n",
       "      <td>E3</td>\n",
       "      <td>21</td>\n",
       "      <td>4.0</td>\n",
       "      <td>1266</td>\n",
       "      <td>0</td>\n",
       "      <td>197</td>\n",
       "      <td>4032</td>\n",
       "      <td>1</td>\n",
       "      <td>-1245</td>\n",
       "      <td>0</td>\n",
       "    </tr>\n",
       "    <tr>\n",
       "      <th>487</th>\n",
       "      <td>2020-03-11</td>\n",
       "      <td>IT</td>\n",
       "      <td>C5</td>\n",
       "      <td>827</td>\n",
       "      <td>196.0</td>\n",
       "      <td>7503</td>\n",
       "      <td>12</td>\n",
       "      <td>2978</td>\n",
       "      <td>13155</td>\n",
       "      <td>1</td>\n",
       "      <td>-6676</td>\n",
       "      <td>0</td>\n",
       "    </tr>\n",
       "    <tr>\n",
       "      <th>503</th>\n",
       "      <td>2020-03-16</td>\n",
       "      <td>IT</td>\n",
       "      <td>H4</td>\n",
       "      <td>2158</td>\n",
       "      <td>349.0</td>\n",
       "      <td>11591</td>\n",
       "      <td>52</td>\n",
       "      <td>6077</td>\n",
       "      <td>16523</td>\n",
       "      <td>1</td>\n",
       "      <td>-9433</td>\n",
       "      <td>0</td>\n",
       "    </tr>\n",
       "    <tr>\n",
       "      <th>495</th>\n",
       "      <td>2020-03-17</td>\n",
       "      <td>IT</td>\n",
       "      <td>E1</td>\n",
       "      <td>2503</td>\n",
       "      <td>345.0</td>\n",
       "      <td>12428</td>\n",
       "      <td>79</td>\n",
       "      <td>6820</td>\n",
       "      <td>17127</td>\n",
       "      <td>1</td>\n",
       "      <td>-9925</td>\n",
       "      <td>0</td>\n",
       "    </tr>\n",
       "    <tr>\n",
       "      <th>505</th>\n",
       "      <td>2020-04-04</td>\n",
       "      <td>IT</td>\n",
       "      <td>H6</td>\n",
       "      <td>15362</td>\n",
       "      <td>681.0</td>\n",
       "      <td>23227</td>\n",
       "      <td>4825</td>\n",
       "      <td>19468</td>\n",
       "      <td>26384</td>\n",
       "      <td>1</td>\n",
       "      <td>-7865</td>\n",
       "      <td>0</td>\n",
       "    </tr>\n",
       "    <tr>\n",
       "      <th>504</th>\n",
       "      <td>2020-08-16</td>\n",
       "      <td>IT</td>\n",
       "      <td>H5</td>\n",
       "      <td>35396</td>\n",
       "      <td>4.0</td>\n",
       "      <td>35477</td>\n",
       "      <td>35154</td>\n",
       "      <td>35437</td>\n",
       "      <td>35541</td>\n",
       "      <td>1</td>\n",
       "      <td>-81</td>\n",
       "      <td>0</td>\n",
       "    </tr>\n",
       "    <tr>\n",
       "      <th>499</th>\n",
       "      <td>2020-11-26</td>\n",
       "      <td>IT</td>\n",
       "      <td>E4</td>\n",
       "      <td>52850</td>\n",
       "      <td>822.0</td>\n",
       "      <td>-10000</td>\n",
       "      <td>43589</td>\n",
       "      <td>58038</td>\n",
       "      <td>-10000</td>\n",
       "      <td>1</td>\n",
       "      <td>62850</td>\n",
       "      <td>1</td>\n",
       "    </tr>\n",
       "  </tbody>\n",
       "</table>\n",
       "</div>"
      ],
      "text/plain": [
       "           Date  ID Policy  Cases  Cases_New    J14   J-14     J7    J21  \\\n",
       "489  2020-01-23  IT     C8      0        0.0      0 -10000      0      0   \n",
       "500  2020-01-31  IT     H1      0        0.0      0 -10000      0      1   \n",
       "488  2020-02-21  IT     C7      1        1.0    197      0     21   1266   \n",
       "486  2020-02-22  IT     C2      2        1.0    233      0     29   1441   \n",
       "482  2020-02-23  IT     C1      3        1.0    366      0     34   1809   \n",
       "498  2020-02-28  IT     E3     21        4.0   1266      0    197   4032   \n",
       "487  2020-03-11  IT     C5    827      196.0   7503     12   2978  13155   \n",
       "503  2020-03-16  IT     H4   2158      349.0  11591     52   6077  16523   \n",
       "495  2020-03-17  IT     E1   2503      345.0  12428     79   6820  17127   \n",
       "505  2020-04-04  IT     H6  15362      681.0  23227   4825  19468  26384   \n",
       "504  2020-08-16  IT     H5  35396        4.0  35477  35154  35437  35541   \n",
       "499  2020-11-26  IT     E4  52850      822.0 -10000  43589  58038 -10000   \n",
       "\n",
       "     count_policy  delta  efficiency  \n",
       "489             4      0           0  \n",
       "500             3      0           0  \n",
       "488             1   -196           0  \n",
       "486             3   -231           0  \n",
       "482             6   -363           0  \n",
       "498             1  -1245           0  \n",
       "487             1  -6676           0  \n",
       "503             1  -9433           0  \n",
       "495             1  -9925           0  \n",
       "505             1  -7865           0  \n",
       "504             1    -81           0  \n",
       "499             1  62850           1  "
      ]
     },
     "execution_count": 102,
     "metadata": {},
     "output_type": "execute_result"
    }
   ],
   "source": [
    "df_cases_it"
   ]
  },
  {
   "cell_type": "code",
   "execution_count": 106,
   "metadata": {
    "ExecuteTime": {
     "end_time": "2020-12-11T15:47:16.110442Z",
     "start_time": "2020-12-11T15:47:16.046227Z"
    }
   },
   "outputs": [],
   "source": [
    "X = df_cases_it[['count_policy']]\n",
    "y = df_cases_it[['efficiency']]"
   ]
  },
  {
   "cell_type": "code",
   "execution_count": 107,
   "metadata": {
    "ExecuteTime": {
     "end_time": "2020-12-11T15:47:24.726353Z",
     "start_time": "2020-12-11T15:47:24.658475Z"
    }
   },
   "outputs": [
    {
     "name": "stdout",
     "output_type": "stream",
     "text": [
      "Optimization terminated successfully.\n",
      "         Current function value: 0.251684\n",
      "         Iterations 8\n"
     ]
    }
   ],
   "source": [
    "log_reg = sm.Logit(y, X).fit() "
   ]
  },
  {
   "cell_type": "code",
   "execution_count": 108,
   "metadata": {
    "ExecuteTime": {
     "end_time": "2020-12-11T15:47:37.025665Z",
     "start_time": "2020-12-11T15:47:36.947666Z"
    }
   },
   "outputs": [
    {
     "data": {
      "text/html": [
       "<table class=\"simpletable\">\n",
       "<caption>Logit Regression Results</caption>\n",
       "<tr>\n",
       "  <th>Dep. Variable:</th>      <td>efficiency</td>    <th>  No. Observations:  </th>  <td>    12</td> \n",
       "</tr>\n",
       "<tr>\n",
       "  <th>Model:</th>                 <td>Logit</td>      <th>  Df Residuals:      </th>  <td>    11</td> \n",
       "</tr>\n",
       "<tr>\n",
       "  <th>Method:</th>                 <td>MLE</td>       <th>  Df Model:          </th>  <td>     0</td> \n",
       "</tr>\n",
       "<tr>\n",
       "  <th>Date:</th>            <td>Fri, 11 Dec 2020</td> <th>  Pseudo R-squ.:     </th>  <td>0.1225</td> \n",
       "</tr>\n",
       "<tr>\n",
       "  <th>Time:</th>                <td>16:47:37</td>     <th>  Log-Likelihood:    </th> <td> -3.0202</td>\n",
       "</tr>\n",
       "<tr>\n",
       "  <th>converged:</th>             <td>True</td>       <th>  LL-Null:           </th> <td> -3.4420</td>\n",
       "</tr>\n",
       "<tr>\n",
       "  <th>Covariance Type:</th>     <td>nonrobust</td>    <th>  LLR p-value:       </th>  <td>   nan</td> \n",
       "</tr>\n",
       "</table>\n",
       "<table class=\"simpletable\">\n",
       "<tr>\n",
       "        <td></td>          <th>coef</th>     <th>std err</th>      <th>z</th>      <th>P>|z|</th>  <th>[0.025</th>    <th>0.975]</th>  \n",
       "</tr>\n",
       "<tr>\n",
       "  <th>count_policy</th> <td>   -1.9666</td> <td>    1.044</td> <td>   -1.883</td> <td> 0.060</td> <td>   -4.013</td> <td>    0.080</td>\n",
       "</tr>\n",
       "</table>"
      ],
      "text/plain": [
       "<class 'statsmodels.iolib.summary.Summary'>\n",
       "\"\"\"\n",
       "                           Logit Regression Results                           \n",
       "==============================================================================\n",
       "Dep. Variable:             efficiency   No. Observations:                   12\n",
       "Model:                          Logit   Df Residuals:                       11\n",
       "Method:                           MLE   Df Model:                            0\n",
       "Date:                Fri, 11 Dec 2020   Pseudo R-squ.:                  0.1225\n",
       "Time:                        16:47:37   Log-Likelihood:                -3.0202\n",
       "converged:                       True   LL-Null:                       -3.4420\n",
       "Covariance Type:            nonrobust   LLR p-value:                       nan\n",
       "================================================================================\n",
       "                   coef    std err          z      P>|z|      [0.025      0.975]\n",
       "--------------------------------------------------------------------------------\n",
       "count_policy    -1.9666      1.044     -1.883      0.060      -4.013       0.080\n",
       "================================================================================\n",
       "\"\"\""
      ]
     },
     "execution_count": 108,
     "metadata": {},
     "output_type": "execute_result"
    }
   ],
   "source": [
    "log_reg.summary()"
   ]
  },
  {
   "cell_type": "code",
   "execution_count": 19,
   "metadata": {
    "ExecuteTime": {
     "end_time": "2020-12-11T14:51:04.136232Z",
     "start_time": "2020-12-11T14:51:04.010157Z"
    }
   },
   "outputs": [],
   "source": []
  }
 ],
 "metadata": {
  "kernelspec": {
   "display_name": "Python 3",
   "language": "python",
   "name": "python3"
  },
  "language_info": {
   "codemirror_mode": {
    "name": "ipython",
    "version": 3
   },
   "file_extension": ".py",
   "mimetype": "text/x-python",
   "name": "python",
   "nbconvert_exporter": "python",
   "pygments_lexer": "ipython3",
   "version": "3.7.7"
  },
  "toc": {
   "base_numbering": 1,
   "nav_menu": {},
   "number_sections": true,
   "sideBar": true,
   "skip_h1_title": false,
   "title_cell": "Table of Contents",
   "title_sidebar": "Contents",
   "toc_cell": false,
   "toc_position": {},
   "toc_section_display": true,
   "toc_window_display": false
  }
 },
 "nbformat": 4,
 "nbformat_minor": 4
}

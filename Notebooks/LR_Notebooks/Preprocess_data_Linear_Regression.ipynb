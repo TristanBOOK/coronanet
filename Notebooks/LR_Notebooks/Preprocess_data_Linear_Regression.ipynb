{
 "cells": [
  {
   "cell_type": "code",
   "execution_count": 2,
   "metadata": {
    "ExecuteTime": {
     "end_time": "2020-12-15T07:18:19.582476Z",
     "start_time": "2020-12-15T07:18:14.177842Z"
    }
   },
   "outputs": [],
   "source": [
    "from sklearn.svm import SVC, LinearSVC\n",
    "import pandas as pd\n",
    "import numpy as np\n",
    "import matplotlib.pyplot as plt\n",
    "import datetime\n",
    "import pyreadr\n",
    "from IPython.display import display\n",
    "from coronanet.data import Coronanet\n",
    "from coronanet.coronanet_pp import Prepro_coronanet\n",
    "import statsmodels.api as sm \n",
    "from sklearn.linear_model import LogisticRegression\n",
    "from sklearn.preprocessing import OneHotEncoder\n",
    "from mlxtend.plotting import plot_decision_regions\n",
    "from sklearn.model_selection import RandomizedSearchCV\n",
    "from scipy import stats\n",
    "from sklearn.metrics import plot_confusion_matrix\n",
    "from sklearn.preprocessing import MinMaxScaler\n",
    "import statsmodels.api as sm\n",
    "from sklearn.model_selection import train_test_split"
   ]
  },
  {
   "cell_type": "code",
   "execution_count": 3,
   "metadata": {
    "ExecuteTime": {
     "end_time": "2020-12-15T07:18:19.597603Z",
     "start_time": "2020-12-15T07:18:19.586102Z"
    }
   },
   "outputs": [
    {
     "data": {
      "text/plain": [
       "'/Users/lourizzolo/code/LouR238/coronanet/Notebooks/LR_Notebooks'"
      ]
     },
     "execution_count": 3,
     "metadata": {},
     "output_type": "execute_result"
    }
   ],
   "source": [
    "pwd"
   ]
  },
  {
   "cell_type": "code",
   "execution_count": 4,
   "metadata": {
    "ExecuteTime": {
     "end_time": "2020-12-15T07:18:19.625176Z",
     "start_time": "2020-12-15T07:18:19.603867Z"
    }
   },
   "outputs": [],
   "source": [
    "pd.set_option('display.max_columns', None)"
   ]
  },
  {
   "cell_type": "code",
   "execution_count": 5,
   "metadata": {
    "ExecuteTime": {
     "end_time": "2020-12-15T07:18:19.987388Z",
     "start_time": "2020-12-15T07:18:19.632424Z"
    }
   },
   "outputs": [],
   "source": [
    "df_LMA = pd.read_csv('https://raw.githubusercontent.com/TristanBOOK/coronanet/master/coronanet/data/LMA_relative_time_cases.csv')\n"
   ]
  },
  {
   "cell_type": "code",
   "execution_count": 6,
   "metadata": {
    "ExecuteTime": {
     "end_time": "2020-12-15T07:19:11.528898Z",
     "start_time": "2020-12-15T07:18:19.991484Z"
    }
   },
   "outputs": [],
   "source": [
    "df_cases = pyreadr.read_r('../../data/COVID-19.RData')"
   ]
  },
  {
   "cell_type": "code",
   "execution_count": 7,
   "metadata": {
    "ExecuteTime": {
     "end_time": "2020-12-15T07:19:11.551671Z",
     "start_time": "2020-12-15T07:19:11.535043Z"
    }
   },
   "outputs": [
    {
     "name": "stdout",
     "output_type": "stream",
     "text": [
      "odict_keys(['COVID19'])\n"
     ]
    }
   ],
   "source": [
    "print(df_cases.keys()) "
   ]
  },
  {
   "cell_type": "code",
   "execution_count": 8,
   "metadata": {
    "ExecuteTime": {
     "end_time": "2020-12-15T07:19:11.562249Z",
     "start_time": "2020-12-15T07:19:11.555818Z"
    }
   },
   "outputs": [],
   "source": [
    "df_cases =df_cases['COVID19']"
   ]
  },
  {
   "cell_type": "code",
   "execution_count": 9,
   "metadata": {
    "ExecuteTime": {
     "end_time": "2020-12-15T07:19:25.187283Z",
     "start_time": "2020-12-15T07:19:11.615042Z"
    }
   },
   "outputs": [],
   "source": [
    "df_policies = pyreadr.read_r('../../data/Policy.RData')"
   ]
  },
  {
   "cell_type": "code",
   "execution_count": 10,
   "metadata": {
    "ExecuteTime": {
     "end_time": "2020-12-15T07:19:25.199682Z",
     "start_time": "2020-12-15T07:19:25.192701Z"
    }
   },
   "outputs": [
    {
     "name": "stdout",
     "output_type": "stream",
     "text": [
      "odict_keys(['Policy'])\n"
     ]
    }
   ],
   "source": [
    "print(df_policies.keys()) "
   ]
  },
  {
   "cell_type": "code",
   "execution_count": 11,
   "metadata": {
    "ExecuteTime": {
     "end_time": "2020-12-15T07:19:25.213785Z",
     "start_time": "2020-12-15T07:19:25.204541Z"
    }
   },
   "outputs": [],
   "source": [
    "df_policies =df_policies['Policy']"
   ]
  },
  {
   "cell_type": "code",
   "execution_count": 12,
   "metadata": {
    "ExecuteTime": {
     "end_time": "2020-12-15T07:19:26.115477Z",
     "start_time": "2020-12-15T07:19:25.233940Z"
    }
   },
   "outputs": [
    {
     "name": "stdout",
     "output_type": "stream",
     "text": [
      "Index(['ID', 'Date', 'PolicyType', 'PolicyValue', 'PolicyFlag', 'PolicyNotes',\n",
      "       'PolicySource'],\n",
      "      dtype='object')\n",
      "(2793100, 7)\n",
      "ID                    0\n",
      "Date                  0\n",
      "PolicyType            0\n",
      "PolicyValue      365245\n",
      "PolicyFlag      2242814\n",
      "PolicyNotes     2749579\n",
      "PolicySource          0\n",
      "dtype: int64\n"
     ]
    }
   ],
   "source": [
    "print(df_policies.columns)\n",
    "print(df_policies.shape)\n",
    "print(df_policies.isnull().sum())"
   ]
  },
  {
   "cell_type": "code",
   "execution_count": 13,
   "metadata": {
    "ExecuteTime": {
     "end_time": "2020-12-15T07:19:26.990286Z",
     "start_time": "2020-12-15T07:19:26.119711Z"
    }
   },
   "outputs": [],
   "source": [
    "df_policies1 = df_policies.dropna()"
   ]
  },
  {
   "cell_type": "code",
   "execution_count": 14,
   "metadata": {
    "ExecuteTime": {
     "end_time": "2020-12-15T07:19:27.064290Z",
     "start_time": "2020-12-15T07:19:26.993567Z"
    }
   },
   "outputs": [
    {
     "name": "stdout",
     "output_type": "stream",
     "text": [
      "Index(['ID', 'Date', 'PolicyType', 'PolicyValue', 'PolicyFlag', 'PolicyNotes',\n",
      "       'PolicySource'],\n",
      "      dtype='object')\n",
      "(24349, 7)\n",
      "ID              0\n",
      "Date            0\n",
      "PolicyType      0\n",
      "PolicyValue     0\n",
      "PolicyFlag      0\n",
      "PolicyNotes     0\n",
      "PolicySource    0\n",
      "dtype: int64\n"
     ]
    }
   ],
   "source": [
    "print(df_policies1.columns)\n",
    "print(df_policies1.shape)\n",
    "print(df_policies1.isnull().sum())"
   ]
  },
  {
   "cell_type": "code",
   "execution_count": 15,
   "metadata": {
    "ExecuteTime": {
     "end_time": "2020-12-15T07:19:27.083517Z",
     "start_time": "2020-12-15T07:19:27.072412Z"
    }
   },
   "outputs": [],
   "source": [
    "df_policies2 = df_policies1.copy()"
   ]
  },
  {
   "cell_type": "code",
   "execution_count": 16,
   "metadata": {
    "ExecuteTime": {
     "end_time": "2020-12-15T07:19:27.105562Z",
     "start_time": "2020-12-15T07:19:27.086834Z"
    }
   },
   "outputs": [],
   "source": [
    "df_policies2['Date'] = pd.to_datetime(df_policies2['Date'])"
   ]
  },
  {
   "cell_type": "code",
   "execution_count": 17,
   "metadata": {
    "ExecuteTime": {
     "end_time": "2020-12-15T07:19:30.754032Z",
     "start_time": "2020-12-15T07:19:27.108798Z"
    },
    "scrolled": true
   },
   "outputs": [
    {
     "name": "stdout",
     "output_type": "stream",
     "text": [
      "Index(['ID', 'Date', 'Cases', 'Cases_New', 'Type', 'Age', 'Sex', 'Source'], dtype='object')\n",
      "(7521587, 8)\n",
      "ID               0\n",
      "Date             0\n",
      "Cases        60907\n",
      "Cases_New    60907\n",
      "Type             0\n",
      "Age              0\n",
      "Sex              0\n",
      "Source           0\n",
      "dtype: int64\n"
     ]
    }
   ],
   "source": [
    "print(df_cases.columns)\n",
    "print(df_cases.shape)\n",
    "print(df_cases.isnull().sum())"
   ]
  },
  {
   "cell_type": "code",
   "execution_count": 18,
   "metadata": {
    "ExecuteTime": {
     "end_time": "2020-12-15T07:19:35.154738Z",
     "start_time": "2020-12-15T07:19:30.758459Z"
    }
   },
   "outputs": [],
   "source": [
    "df_cases1 = df_cases.dropna()"
   ]
  },
  {
   "cell_type": "code",
   "execution_count": 19,
   "metadata": {
    "ExecuteTime": {
     "end_time": "2020-12-15T07:19:37.941759Z",
     "start_time": "2020-12-15T07:19:35.158383Z"
    }
   },
   "outputs": [
    {
     "name": "stdout",
     "output_type": "stream",
     "text": [
      "Index(['ID', 'Date', 'Cases', 'Cases_New', 'Type', 'Age', 'Sex', 'Source'], dtype='object')\n",
      "(7460680, 8)\n",
      "ID           0\n",
      "Date         0\n",
      "Cases        0\n",
      "Cases_New    0\n",
      "Type         0\n",
      "Age          0\n",
      "Sex          0\n",
      "Source       0\n",
      "dtype: int64\n"
     ]
    }
   ],
   "source": [
    "print(df_cases1.columns)\n",
    "print(df_cases1.shape)\n",
    "print(df_cases1.isnull().sum())"
   ]
  },
  {
   "cell_type": "code",
   "execution_count": 20,
   "metadata": {
    "ExecuteTime": {
     "end_time": "2020-12-15T07:19:39.481319Z",
     "start_time": "2020-12-15T07:19:37.946463Z"
    }
   },
   "outputs": [],
   "source": [
    "df_cases2 = df_cases1.copy()"
   ]
  },
  {
   "cell_type": "code",
   "execution_count": 21,
   "metadata": {
    "ExecuteTime": {
     "end_time": "2020-12-15T07:19:39.670727Z",
     "start_time": "2020-12-15T07:19:39.490652Z"
    }
   },
   "outputs": [
    {
     "data": {
      "text/html": [
       "<div>\n",
       "<style scoped>\n",
       "    .dataframe tbody tr th:only-of-type {\n",
       "        vertical-align: middle;\n",
       "    }\n",
       "\n",
       "    .dataframe tbody tr th {\n",
       "        vertical-align: top;\n",
       "    }\n",
       "\n",
       "    .dataframe thead th {\n",
       "        text-align: right;\n",
       "    }\n",
       "</style>\n",
       "<table border=\"1\" class=\"dataframe\">\n",
       "  <thead>\n",
       "    <tr style=\"text-align: right;\">\n",
       "      <th></th>\n",
       "      <th>ID</th>\n",
       "      <th>Date</th>\n",
       "      <th>Cases</th>\n",
       "      <th>Cases_New</th>\n",
       "      <th>Type</th>\n",
       "      <th>Age</th>\n",
       "      <th>Sex</th>\n",
       "      <th>Source</th>\n",
       "    </tr>\n",
       "  </thead>\n",
       "  <tbody>\n",
       "    <tr>\n",
       "      <th>0</th>\n",
       "      <td>AD</td>\n",
       "      <td>2020-01-22</td>\n",
       "      <td>0</td>\n",
       "      <td>0</td>\n",
       "      <td>Active</td>\n",
       "      <td>Total</td>\n",
       "      <td>Total</td>\n",
       "      <td>JHU</td>\n",
       "    </tr>\n",
       "    <tr>\n",
       "      <th>1</th>\n",
       "      <td>AD</td>\n",
       "      <td>2020-01-22</td>\n",
       "      <td>0</td>\n",
       "      <td>0</td>\n",
       "      <td>Confirmed</td>\n",
       "      <td>Total</td>\n",
       "      <td>Total</td>\n",
       "      <td>JHU</td>\n",
       "    </tr>\n",
       "    <tr>\n",
       "      <th>2</th>\n",
       "      <td>AD</td>\n",
       "      <td>2020-01-22</td>\n",
       "      <td>0</td>\n",
       "      <td>0</td>\n",
       "      <td>Deaths</td>\n",
       "      <td>Total</td>\n",
       "      <td>Total</td>\n",
       "      <td>JHU</td>\n",
       "    </tr>\n",
       "    <tr>\n",
       "      <th>3</th>\n",
       "      <td>AD</td>\n",
       "      <td>2020-01-22</td>\n",
       "      <td>0</td>\n",
       "      <td>0</td>\n",
       "      <td>Recovered</td>\n",
       "      <td>Total</td>\n",
       "      <td>Total</td>\n",
       "      <td>JHU</td>\n",
       "    </tr>\n",
       "    <tr>\n",
       "      <th>4</th>\n",
       "      <td>AD</td>\n",
       "      <td>2020-01-23</td>\n",
       "      <td>0</td>\n",
       "      <td>0</td>\n",
       "      <td>Active</td>\n",
       "      <td>Total</td>\n",
       "      <td>Total</td>\n",
       "      <td>JHU</td>\n",
       "    </tr>\n",
       "  </tbody>\n",
       "</table>\n",
       "</div>"
      ],
      "text/plain": [
       "   ID        Date Cases Cases_New       Type    Age    Sex Source\n",
       "0  AD  2020-01-22     0         0     Active  Total  Total    JHU\n",
       "1  AD  2020-01-22     0         0  Confirmed  Total  Total    JHU\n",
       "2  AD  2020-01-22     0         0     Deaths  Total  Total    JHU\n",
       "3  AD  2020-01-22     0         0  Recovered  Total  Total    JHU\n",
       "4  AD  2020-01-23     0         0     Active  Total  Total    JHU"
      ]
     },
     "execution_count": 21,
     "metadata": {},
     "output_type": "execute_result"
    }
   ],
   "source": [
    "df_cases2.head()"
   ]
  },
  {
   "cell_type": "code",
   "execution_count": 22,
   "metadata": {
    "ExecuteTime": {
     "end_time": "2020-12-15T07:19:41.459744Z",
     "start_time": "2020-12-15T07:19:39.673552Z"
    }
   },
   "outputs": [],
   "source": [
    "df_cases3 = df_cases2[['ID', 'Date', 'Cases', 'Cases_New', 'Type']]"
   ]
  },
  {
   "cell_type": "code",
   "execution_count": 23,
   "metadata": {
    "ExecuteTime": {
     "end_time": "2020-12-15T07:19:43.234754Z",
     "start_time": "2020-12-15T07:19:41.466976Z"
    }
   },
   "outputs": [
    {
     "name": "stderr",
     "output_type": "stream",
     "text": [
      "/Users/lourizzolo/.pyenv/versions/3.7.7/envs/lewagon/lib/python3.7/site-packages/ipykernel_launcher.py:1: SettingWithCopyWarning: \n",
      "A value is trying to be set on a copy of a slice from a DataFrame.\n",
      "Try using .loc[row_indexer,col_indexer] = value instead\n",
      "\n",
      "See the caveats in the documentation: http://pandas.pydata.org/pandas-docs/stable/indexing.html#indexing-view-versus-copy\n",
      "  \"\"\"Entry point for launching an IPython kernel.\n"
     ]
    }
   ],
   "source": [
    "df_cases3['Date'] = pd.to_datetime(df_cases3['Date'])"
   ]
  },
  {
   "cell_type": "code",
   "execution_count": 24,
   "metadata": {
    "ExecuteTime": {
     "end_time": "2020-12-15T07:19:45.609657Z",
     "start_time": "2020-12-15T07:19:43.249806Z"
    }
   },
   "outputs": [],
   "source": [
    "df_merge=pd.merge(df_cases3,df_policies2,on=['ID','Date'])"
   ]
  },
  {
   "cell_type": "code",
   "execution_count": 25,
   "metadata": {
    "ExecuteTime": {
     "end_time": "2020-12-15T07:19:45.653789Z",
     "start_time": "2020-12-15T07:19:45.616923Z"
    }
   },
   "outputs": [
    {
     "data": {
      "text/html": [
       "<div>\n",
       "<style scoped>\n",
       "    .dataframe tbody tr th:only-of-type {\n",
       "        vertical-align: middle;\n",
       "    }\n",
       "\n",
       "    .dataframe tbody tr th {\n",
       "        vertical-align: top;\n",
       "    }\n",
       "\n",
       "    .dataframe thead th {\n",
       "        text-align: right;\n",
       "    }\n",
       "</style>\n",
       "<table border=\"1\" class=\"dataframe\">\n",
       "  <thead>\n",
       "    <tr style=\"text-align: right;\">\n",
       "      <th></th>\n",
       "      <th>ID</th>\n",
       "      <th>Date</th>\n",
       "      <th>Cases</th>\n",
       "      <th>Cases_New</th>\n",
       "      <th>Type</th>\n",
       "      <th>PolicyType</th>\n",
       "      <th>PolicyValue</th>\n",
       "      <th>PolicyFlag</th>\n",
       "      <th>PolicyNotes</th>\n",
       "      <th>PolicySource</th>\n",
       "    </tr>\n",
       "  </thead>\n",
       "  <tbody>\n",
       "    <tr>\n",
       "      <th>0</th>\n",
       "      <td>AD</td>\n",
       "      <td>2020-03-11</td>\n",
       "      <td>1</td>\n",
       "      <td>0</td>\n",
       "      <td>Active</td>\n",
       "      <td>H6</td>\n",
       "      <td>2.0</td>\n",
       "      <td>True</td>\n",
       "      <td>The Andorran authorities on 11 March 2020 intr...</td>\n",
       "      <td>OxCGRT</td>\n",
       "    </tr>\n",
       "    <tr>\n",
       "      <th>1</th>\n",
       "      <td>AD</td>\n",
       "      <td>2020-03-11</td>\n",
       "      <td>1</td>\n",
       "      <td>0</td>\n",
       "      <td>Confirmed</td>\n",
       "      <td>H6</td>\n",
       "      <td>2.0</td>\n",
       "      <td>True</td>\n",
       "      <td>The Andorran authorities on 11 March 2020 intr...</td>\n",
       "      <td>OxCGRT</td>\n",
       "    </tr>\n",
       "    <tr>\n",
       "      <th>2</th>\n",
       "      <td>AD</td>\n",
       "      <td>2020-03-11</td>\n",
       "      <td>0</td>\n",
       "      <td>0</td>\n",
       "      <td>Deaths</td>\n",
       "      <td>H6</td>\n",
       "      <td>2.0</td>\n",
       "      <td>True</td>\n",
       "      <td>The Andorran authorities on 11 March 2020 intr...</td>\n",
       "      <td>OxCGRT</td>\n",
       "    </tr>\n",
       "    <tr>\n",
       "      <th>3</th>\n",
       "      <td>AD</td>\n",
       "      <td>2020-03-11</td>\n",
       "      <td>0</td>\n",
       "      <td>0</td>\n",
       "      <td>Recovered</td>\n",
       "      <td>H6</td>\n",
       "      <td>2.0</td>\n",
       "      <td>True</td>\n",
       "      <td>The Andorran authorities on 11 March 2020 intr...</td>\n",
       "      <td>OxCGRT</td>\n",
       "    </tr>\n",
       "    <tr>\n",
       "      <th>4</th>\n",
       "      <td>AD</td>\n",
       "      <td>2020-03-13</td>\n",
       "      <td>1</td>\n",
       "      <td>1</td>\n",
       "      <td>Active</td>\n",
       "      <td>C3</td>\n",
       "      <td>1.0</td>\n",
       "      <td>True</td>\n",
       "      <td>The Prime Minister announces a series of emerg...</td>\n",
       "      <td>OxCGRT</td>\n",
       "    </tr>\n",
       "  </tbody>\n",
       "</table>\n",
       "</div>"
      ],
      "text/plain": [
       "   ID       Date Cases Cases_New       Type PolicyType  PolicyValue  \\\n",
       "0  AD 2020-03-11     1         0     Active         H6          2.0   \n",
       "1  AD 2020-03-11     1         0  Confirmed         H6          2.0   \n",
       "2  AD 2020-03-11     0         0     Deaths         H6          2.0   \n",
       "3  AD 2020-03-11     0         0  Recovered         H6          2.0   \n",
       "4  AD 2020-03-13     1         1     Active         C3          1.0   \n",
       "\n",
       "  PolicyFlag                                        PolicyNotes PolicySource  \n",
       "0       True  The Andorran authorities on 11 March 2020 intr...       OxCGRT  \n",
       "1       True  The Andorran authorities on 11 March 2020 intr...       OxCGRT  \n",
       "2       True  The Andorran authorities on 11 March 2020 intr...       OxCGRT  \n",
       "3       True  The Andorran authorities on 11 March 2020 intr...       OxCGRT  \n",
       "4       True  The Prime Minister announces a series of emerg...       OxCGRT  "
      ]
     },
     "execution_count": 25,
     "metadata": {},
     "output_type": "execute_result"
    }
   ],
   "source": [
    "df_merge.head()"
   ]
  },
  {
   "cell_type": "code",
   "execution_count": 26,
   "metadata": {
    "ExecuteTime": {
     "end_time": "2020-12-15T07:19:46.728334Z",
     "start_time": "2020-12-15T07:19:45.657338Z"
    }
   },
   "outputs": [],
   "source": [
    "df_confirmed_cases = df_cases3[df_cases3['Type']=='Confirmed']"
   ]
  },
  {
   "cell_type": "code",
   "execution_count": 27,
   "metadata": {
    "ExecuteTime": {
     "end_time": "2020-12-15T07:19:46.760587Z",
     "start_time": "2020-12-15T07:19:46.732043Z"
    }
   },
   "outputs": [
    {
     "data": {
      "text/html": [
       "<div>\n",
       "<style scoped>\n",
       "    .dataframe tbody tr th:only-of-type {\n",
       "        vertical-align: middle;\n",
       "    }\n",
       "\n",
       "    .dataframe tbody tr th {\n",
       "        vertical-align: top;\n",
       "    }\n",
       "\n",
       "    .dataframe thead th {\n",
       "        text-align: right;\n",
       "    }\n",
       "</style>\n",
       "<table border=\"1\" class=\"dataframe\">\n",
       "  <thead>\n",
       "    <tr style=\"text-align: right;\">\n",
       "      <th></th>\n",
       "      <th>ID</th>\n",
       "      <th>Date</th>\n",
       "      <th>Cases</th>\n",
       "      <th>Cases_New</th>\n",
       "      <th>Type</th>\n",
       "    </tr>\n",
       "  </thead>\n",
       "  <tbody>\n",
       "    <tr>\n",
       "      <th>1</th>\n",
       "      <td>AD</td>\n",
       "      <td>2020-01-22</td>\n",
       "      <td>0</td>\n",
       "      <td>0</td>\n",
       "      <td>Confirmed</td>\n",
       "    </tr>\n",
       "    <tr>\n",
       "      <th>5</th>\n",
       "      <td>AD</td>\n",
       "      <td>2020-01-23</td>\n",
       "      <td>0</td>\n",
       "      <td>0</td>\n",
       "      <td>Confirmed</td>\n",
       "    </tr>\n",
       "    <tr>\n",
       "      <th>9</th>\n",
       "      <td>AD</td>\n",
       "      <td>2020-01-24</td>\n",
       "      <td>0</td>\n",
       "      <td>0</td>\n",
       "      <td>Confirmed</td>\n",
       "    </tr>\n",
       "    <tr>\n",
       "      <th>13</th>\n",
       "      <td>AD</td>\n",
       "      <td>2020-01-25</td>\n",
       "      <td>0</td>\n",
       "      <td>0</td>\n",
       "      <td>Confirmed</td>\n",
       "    </tr>\n",
       "    <tr>\n",
       "      <th>17</th>\n",
       "      <td>AD</td>\n",
       "      <td>2020-01-26</td>\n",
       "      <td>0</td>\n",
       "      <td>0</td>\n",
       "      <td>Confirmed</td>\n",
       "    </tr>\n",
       "  </tbody>\n",
       "</table>\n",
       "</div>"
      ],
      "text/plain": [
       "    ID       Date Cases Cases_New       Type\n",
       "1   AD 2020-01-22     0         0  Confirmed\n",
       "5   AD 2020-01-23     0         0  Confirmed\n",
       "9   AD 2020-01-24     0         0  Confirmed\n",
       "13  AD 2020-01-25     0         0  Confirmed\n",
       "17  AD 2020-01-26     0         0  Confirmed"
      ]
     },
     "execution_count": 27,
     "metadata": {},
     "output_type": "execute_result"
    }
   ],
   "source": [
    "df_confirmed_cases.head()"
   ]
  },
  {
   "cell_type": "code",
   "execution_count": 28,
   "metadata": {
    "ExecuteTime": {
     "end_time": "2020-12-15T07:19:47.791474Z",
     "start_time": "2020-12-15T07:19:46.766709Z"
    },
    "scrolled": true
   },
   "outputs": [],
   "source": [
    "df_merge_confirmed=pd.merge(df_confirmed_cases,df_policies2,on=['ID','Date'])"
   ]
  },
  {
   "cell_type": "code",
   "execution_count": 29,
   "metadata": {
    "ExecuteTime": {
     "end_time": "2020-12-15T07:19:47.833837Z",
     "start_time": "2020-12-15T07:19:47.795722Z"
    }
   },
   "outputs": [
    {
     "data": {
      "text/html": [
       "<div>\n",
       "<style scoped>\n",
       "    .dataframe tbody tr th:only-of-type {\n",
       "        vertical-align: middle;\n",
       "    }\n",
       "\n",
       "    .dataframe tbody tr th {\n",
       "        vertical-align: top;\n",
       "    }\n",
       "\n",
       "    .dataframe thead th {\n",
       "        text-align: right;\n",
       "    }\n",
       "</style>\n",
       "<table border=\"1\" class=\"dataframe\">\n",
       "  <thead>\n",
       "    <tr style=\"text-align: right;\">\n",
       "      <th></th>\n",
       "      <th>ID</th>\n",
       "      <th>Date</th>\n",
       "      <th>Cases</th>\n",
       "      <th>Cases_New</th>\n",
       "      <th>Type</th>\n",
       "      <th>PolicyType</th>\n",
       "      <th>PolicyValue</th>\n",
       "      <th>PolicyFlag</th>\n",
       "      <th>PolicyNotes</th>\n",
       "      <th>PolicySource</th>\n",
       "    </tr>\n",
       "  </thead>\n",
       "  <tbody>\n",
       "    <tr>\n",
       "      <th>0</th>\n",
       "      <td>AD</td>\n",
       "      <td>2020-03-11</td>\n",
       "      <td>1</td>\n",
       "      <td>0</td>\n",
       "      <td>Confirmed</td>\n",
       "      <td>H6</td>\n",
       "      <td>2.0</td>\n",
       "      <td>True</td>\n",
       "      <td>The Andorran authorities on 11 March 2020 intr...</td>\n",
       "      <td>OxCGRT</td>\n",
       "    </tr>\n",
       "    <tr>\n",
       "      <th>1</th>\n",
       "      <td>AD</td>\n",
       "      <td>2020-03-13</td>\n",
       "      <td>1</td>\n",
       "      <td>0</td>\n",
       "      <td>Confirmed</td>\n",
       "      <td>C3</td>\n",
       "      <td>1.0</td>\n",
       "      <td>True</td>\n",
       "      <td>The Prime Minister announces a series of emerg...</td>\n",
       "      <td>OxCGRT</td>\n",
       "    </tr>\n",
       "    <tr>\n",
       "      <th>2</th>\n",
       "      <td>AD</td>\n",
       "      <td>2020-03-13</td>\n",
       "      <td>1</td>\n",
       "      <td>0</td>\n",
       "      <td>Confirmed</td>\n",
       "      <td>C6</td>\n",
       "      <td>1.0</td>\n",
       "      <td>True</td>\n",
       "      <td>The Prime Minister announced a series of emerg...</td>\n",
       "      <td>OxCGRT</td>\n",
       "    </tr>\n",
       "    <tr>\n",
       "      <th>3</th>\n",
       "      <td>AD</td>\n",
       "      <td>2020-03-13</td>\n",
       "      <td>1</td>\n",
       "      <td>0</td>\n",
       "      <td>Confirmed</td>\n",
       "      <td>E1</td>\n",
       "      <td>2.0</td>\n",
       "      <td>True</td>\n",
       "      <td>Government has a comprehensive policy for the ...</td>\n",
       "      <td>OxCGRT</td>\n",
       "    </tr>\n",
       "    <tr>\n",
       "      <th>4</th>\n",
       "      <td>AD</td>\n",
       "      <td>2020-03-14</td>\n",
       "      <td>1</td>\n",
       "      <td>0</td>\n",
       "      <td>Confirmed</td>\n",
       "      <td>C2</td>\n",
       "      <td>3.0</td>\n",
       "      <td>True</td>\n",
       "      <td>On 13 March, the PM announced new exceptional ...</td>\n",
       "      <td>OxCGRT</td>\n",
       "    </tr>\n",
       "  </tbody>\n",
       "</table>\n",
       "</div>"
      ],
      "text/plain": [
       "   ID       Date Cases Cases_New       Type PolicyType  PolicyValue  \\\n",
       "0  AD 2020-03-11     1         0  Confirmed         H6          2.0   \n",
       "1  AD 2020-03-13     1         0  Confirmed         C3          1.0   \n",
       "2  AD 2020-03-13     1         0  Confirmed         C6          1.0   \n",
       "3  AD 2020-03-13     1         0  Confirmed         E1          2.0   \n",
       "4  AD 2020-03-14     1         0  Confirmed         C2          3.0   \n",
       "\n",
       "  PolicyFlag                                        PolicyNotes PolicySource  \n",
       "0       True  The Andorran authorities on 11 March 2020 intr...       OxCGRT  \n",
       "1       True  The Prime Minister announces a series of emerg...       OxCGRT  \n",
       "2       True  The Prime Minister announced a series of emerg...       OxCGRT  \n",
       "3       True  Government has a comprehensive policy for the ...       OxCGRT  \n",
       "4       True  On 13 March, the PM announced new exceptional ...       OxCGRT  "
      ]
     },
     "execution_count": 29,
     "metadata": {},
     "output_type": "execute_result"
    }
   ],
   "source": [
    "df_merge_confirmed.head()"
   ]
  },
  {
   "cell_type": "code",
   "execution_count": 30,
   "metadata": {
    "ExecuteTime": {
     "end_time": "2020-12-15T07:19:47.855273Z",
     "start_time": "2020-12-15T07:19:47.837648Z"
    }
   },
   "outputs": [],
   "source": [
    "df_merge_confirmed['Cases_New'] = df_merge_confirmed['Cases_New'].astype('int64')"
   ]
  },
  {
   "cell_type": "code",
   "execution_count": 31,
   "metadata": {
    "ExecuteTime": {
     "end_time": "2020-12-15T07:19:47.874310Z",
     "start_time": "2020-12-15T07:19:47.861399Z"
    }
   },
   "outputs": [
    {
     "data": {
      "text/plain": [
       "ID                      object\n",
       "Date            datetime64[ns]\n",
       "Cases                   object\n",
       "Cases_New                int64\n",
       "Type                    object\n",
       "PolicyType              object\n",
       "PolicyValue            float64\n",
       "PolicyFlag              object\n",
       "PolicyNotes             object\n",
       "PolicySource            object\n",
       "dtype: object"
      ]
     },
     "execution_count": 31,
     "metadata": {},
     "output_type": "execute_result"
    }
   ],
   "source": [
    "df_merge_confirmed.dtypes"
   ]
  },
  {
   "cell_type": "code",
   "execution_count": 32,
   "metadata": {
    "ExecuteTime": {
     "end_time": "2020-12-15T07:19:47.929792Z",
     "start_time": "2020-12-15T07:19:47.878800Z"
    }
   },
   "outputs": [],
   "source": [
    "df_merge_confirmed_dataviz = df_merge_confirmed.groupby('Date').mean()"
   ]
  },
  {
   "cell_type": "code",
   "execution_count": 33,
   "metadata": {
    "ExecuteTime": {
     "end_time": "2020-12-15T07:19:47.950159Z",
     "start_time": "2020-12-15T07:19:47.933267Z"
    }
   },
   "outputs": [
    {
     "data": {
      "text/html": [
       "<div>\n",
       "<style scoped>\n",
       "    .dataframe tbody tr th:only-of-type {\n",
       "        vertical-align: middle;\n",
       "    }\n",
       "\n",
       "    .dataframe tbody tr th {\n",
       "        vertical-align: top;\n",
       "    }\n",
       "\n",
       "    .dataframe thead th {\n",
       "        text-align: right;\n",
       "    }\n",
       "</style>\n",
       "<table border=\"1\" class=\"dataframe\">\n",
       "  <thead>\n",
       "    <tr style=\"text-align: right;\">\n",
       "      <th></th>\n",
       "      <th>Cases_New</th>\n",
       "      <th>PolicyValue</th>\n",
       "    </tr>\n",
       "    <tr>\n",
       "      <th>Date</th>\n",
       "      <th></th>\n",
       "      <th></th>\n",
       "    </tr>\n",
       "  </thead>\n",
       "  <tbody>\n",
       "    <tr>\n",
       "      <th>2020-01-22</th>\n",
       "      <td>137.000000</td>\n",
       "      <td>1.916667</td>\n",
       "    </tr>\n",
       "    <tr>\n",
       "      <th>2020-01-23</th>\n",
       "      <td>29.230769</td>\n",
       "      <td>1.615385</td>\n",
       "    </tr>\n",
       "    <tr>\n",
       "      <th>2020-01-24</th>\n",
       "      <td>0.375000</td>\n",
       "      <td>1.250000</td>\n",
       "    </tr>\n",
       "    <tr>\n",
       "      <th>2020-01-25</th>\n",
       "      <td>121.500000</td>\n",
       "      <td>1.500000</td>\n",
       "    </tr>\n",
       "    <tr>\n",
       "      <th>2020-01-26</th>\n",
       "      <td>223.222222</td>\n",
       "      <td>1.888889</td>\n",
       "    </tr>\n",
       "  </tbody>\n",
       "</table>\n",
       "</div>"
      ],
      "text/plain": [
       "             Cases_New  PolicyValue\n",
       "Date                               \n",
       "2020-01-22  137.000000     1.916667\n",
       "2020-01-23   29.230769     1.615385\n",
       "2020-01-24    0.375000     1.250000\n",
       "2020-01-25  121.500000     1.500000\n",
       "2020-01-26  223.222222     1.888889"
      ]
     },
     "execution_count": 33,
     "metadata": {},
     "output_type": "execute_result"
    }
   ],
   "source": [
    "df_merge_confirmed_dataviz.head()"
   ]
  },
  {
   "cell_type": "code",
   "execution_count": 34,
   "metadata": {
    "ExecuteTime": {
     "end_time": "2020-12-15T07:19:48.408387Z",
     "start_time": "2020-12-15T07:19:47.959736Z"
    }
   },
   "outputs": [
    {
     "name": "stderr",
     "output_type": "stream",
     "text": [
      "/Users/lourizzolo/.pyenv/versions/3.7.7/envs/lewagon/lib/python3.7/site-packages/pandas/plotting/_converter.py:129: FutureWarning: Using an implicitly registered datetime converter for a matplotlib plotting method. The converter was registered by pandas on import. Future versions of pandas will require you to explicitly register matplotlib converters.\n",
      "\n",
      "To register the converters:\n",
      "\t>>> from pandas.plotting import register_matplotlib_converters\n",
      "\t>>> register_matplotlib_converters()\n",
      "  warnings.warn(msg, FutureWarning)\n"
     ]
    },
    {
     "data": {
      "text/plain": [
       "[<matplotlib.lines.Line2D at 0x1e2a77f50>]"
      ]
     },
     "execution_count": 34,
     "metadata": {},
     "output_type": "execute_result"
    },
    {
     "data": {
      "image/png": "[encoded data removed]",
      "text/plain": [
       "<Figure size 432x288 with 1 Axes>"
      ]
     },
     "metadata": {
      "needs_background": "light"
     },
     "output_type": "display_data"
    }
   ],
   "source": [
    "plt.plot(df_merge_confirmed_dataviz['Cases_New'])"
   ]
  },
  {
   "cell_type": "code",
   "execution_count": 35,
   "metadata": {
    "ExecuteTime": {
     "end_time": "2020-12-15T07:19:48.437927Z",
     "start_time": "2020-12-15T07:19:48.411724Z"
    }
   },
   "outputs": [
    {
     "data": {
      "text/html": [
       "<div>\n",
       "<style scoped>\n",
       "    .dataframe tbody tr th:only-of-type {\n",
       "        vertical-align: middle;\n",
       "    }\n",
       "\n",
       "    .dataframe tbody tr th {\n",
       "        vertical-align: top;\n",
       "    }\n",
       "\n",
       "    .dataframe thead th {\n",
       "        text-align: right;\n",
       "    }\n",
       "</style>\n",
       "<table border=\"1\" class=\"dataframe\">\n",
       "  <thead>\n",
       "    <tr style=\"text-align: right;\">\n",
       "      <th></th>\n",
       "      <th>ID</th>\n",
       "      <th>Date</th>\n",
       "      <th>Cases</th>\n",
       "      <th>Cases_New</th>\n",
       "      <th>Type</th>\n",
       "      <th>PolicyType</th>\n",
       "      <th>PolicyValue</th>\n",
       "      <th>PolicyFlag</th>\n",
       "      <th>PolicyNotes</th>\n",
       "      <th>PolicySource</th>\n",
       "    </tr>\n",
       "  </thead>\n",
       "  <tbody>\n",
       "    <tr>\n",
       "      <th>0</th>\n",
       "      <td>AD</td>\n",
       "      <td>2020-03-11</td>\n",
       "      <td>1</td>\n",
       "      <td>0</td>\n",
       "      <td>Confirmed</td>\n",
       "      <td>H6</td>\n",
       "      <td>2.0</td>\n",
       "      <td>True</td>\n",
       "      <td>The Andorran authorities on 11 March 2020 intr...</td>\n",
       "      <td>OxCGRT</td>\n",
       "    </tr>\n",
       "    <tr>\n",
       "      <th>1</th>\n",
       "      <td>AD</td>\n",
       "      <td>2020-03-13</td>\n",
       "      <td>1</td>\n",
       "      <td>0</td>\n",
       "      <td>Confirmed</td>\n",
       "      <td>C3</td>\n",
       "      <td>1.0</td>\n",
       "      <td>True</td>\n",
       "      <td>The Prime Minister announces a series of emerg...</td>\n",
       "      <td>OxCGRT</td>\n",
       "    </tr>\n",
       "    <tr>\n",
       "      <th>2</th>\n",
       "      <td>AD</td>\n",
       "      <td>2020-03-13</td>\n",
       "      <td>1</td>\n",
       "      <td>0</td>\n",
       "      <td>Confirmed</td>\n",
       "      <td>C6</td>\n",
       "      <td>1.0</td>\n",
       "      <td>True</td>\n",
       "      <td>The Prime Minister announced a series of emerg...</td>\n",
       "      <td>OxCGRT</td>\n",
       "    </tr>\n",
       "    <tr>\n",
       "      <th>3</th>\n",
       "      <td>AD</td>\n",
       "      <td>2020-03-13</td>\n",
       "      <td>1</td>\n",
       "      <td>0</td>\n",
       "      <td>Confirmed</td>\n",
       "      <td>E1</td>\n",
       "      <td>2.0</td>\n",
       "      <td>True</td>\n",
       "      <td>Government has a comprehensive policy for the ...</td>\n",
       "      <td>OxCGRT</td>\n",
       "    </tr>\n",
       "    <tr>\n",
       "      <th>4</th>\n",
       "      <td>AD</td>\n",
       "      <td>2020-03-14</td>\n",
       "      <td>1</td>\n",
       "      <td>0</td>\n",
       "      <td>Confirmed</td>\n",
       "      <td>C2</td>\n",
       "      <td>3.0</td>\n",
       "      <td>True</td>\n",
       "      <td>On 13 March, the PM announced new exceptional ...</td>\n",
       "      <td>OxCGRT</td>\n",
       "    </tr>\n",
       "  </tbody>\n",
       "</table>\n",
       "</div>"
      ],
      "text/plain": [
       "   ID       Date Cases  Cases_New       Type PolicyType  PolicyValue  \\\n",
       "0  AD 2020-03-11     1          0  Confirmed         H6          2.0   \n",
       "1  AD 2020-03-13     1          0  Confirmed         C3          1.0   \n",
       "2  AD 2020-03-13     1          0  Confirmed         C6          1.0   \n",
       "3  AD 2020-03-13     1          0  Confirmed         E1          2.0   \n",
       "4  AD 2020-03-14     1          0  Confirmed         C2          3.0   \n",
       "\n",
       "  PolicyFlag                                        PolicyNotes PolicySource  \n",
       "0       True  The Andorran authorities on 11 March 2020 intr...       OxCGRT  \n",
       "1       True  The Prime Minister announces a series of emerg...       OxCGRT  \n",
       "2       True  The Prime Minister announced a series of emerg...       OxCGRT  \n",
       "3       True  Government has a comprehensive policy for the ...       OxCGRT  \n",
       "4       True  On 13 March, the PM announced new exceptional ...       OxCGRT  "
      ]
     },
     "execution_count": 35,
     "metadata": {},
     "output_type": "execute_result"
    }
   ],
   "source": [
    "df_merge_confirmed.head()"
   ]
  },
  {
   "cell_type": "code",
   "execution_count": 36,
   "metadata": {
    "ExecuteTime": {
     "end_time": "2020-12-15T07:19:48.452241Z",
     "start_time": "2020-12-15T07:19:48.441382Z"
    }
   },
   "outputs": [
    {
     "data": {
      "text/plain": [
       "Index(['ID', 'Date', 'Cases', 'Cases_New', 'Type', 'PolicyType', 'PolicyValue',\n",
       "       'PolicyFlag', 'PolicyNotes', 'PolicySource'],\n",
       "      dtype='object')"
      ]
     },
     "execution_count": 36,
     "metadata": {},
     "output_type": "execute_result"
    }
   ],
   "source": [
    "df_merge_confirmed.columns"
   ]
  },
  {
   "cell_type": "code",
   "execution_count": 37,
   "metadata": {
    "ExecuteTime": {
     "end_time": "2020-12-15T07:19:48.470085Z",
     "start_time": "2020-12-15T07:19:48.456239Z"
    }
   },
   "outputs": [],
   "source": [
    "df_merge_confirmed = df_merge_confirmed[['ID', 'Date', 'Cases', 'Cases_New', 'Type', 'PolicyType', 'PolicyValue',\n",
    "       'PolicyFlag']]"
   ]
  },
  {
   "cell_type": "code",
   "execution_count": 38,
   "metadata": {
    "ExecuteTime": {
     "end_time": "2020-12-15T07:19:48.492771Z",
     "start_time": "2020-12-15T07:19:48.474039Z"
    }
   },
   "outputs": [
    {
     "data": {
      "text/html": [
       "<div>\n",
       "<style scoped>\n",
       "    .dataframe tbody tr th:only-of-type {\n",
       "        vertical-align: middle;\n",
       "    }\n",
       "\n",
       "    .dataframe tbody tr th {\n",
       "        vertical-align: top;\n",
       "    }\n",
       "\n",
       "    .dataframe thead th {\n",
       "        text-align: right;\n",
       "    }\n",
       "</style>\n",
       "<table border=\"1\" class=\"dataframe\">\n",
       "  <thead>\n",
       "    <tr style=\"text-align: right;\">\n",
       "      <th></th>\n",
       "      <th>ID</th>\n",
       "      <th>Date</th>\n",
       "      <th>Cases</th>\n",
       "      <th>Cases_New</th>\n",
       "      <th>Type</th>\n",
       "      <th>PolicyType</th>\n",
       "      <th>PolicyValue</th>\n",
       "      <th>PolicyFlag</th>\n",
       "    </tr>\n",
       "  </thead>\n",
       "  <tbody>\n",
       "    <tr>\n",
       "      <th>0</th>\n",
       "      <td>AD</td>\n",
       "      <td>2020-03-11</td>\n",
       "      <td>1</td>\n",
       "      <td>0</td>\n",
       "      <td>Confirmed</td>\n",
       "      <td>H6</td>\n",
       "      <td>2.0</td>\n",
       "      <td>True</td>\n",
       "    </tr>\n",
       "    <tr>\n",
       "      <th>1</th>\n",
       "      <td>AD</td>\n",
       "      <td>2020-03-13</td>\n",
       "      <td>1</td>\n",
       "      <td>0</td>\n",
       "      <td>Confirmed</td>\n",
       "      <td>C3</td>\n",
       "      <td>1.0</td>\n",
       "      <td>True</td>\n",
       "    </tr>\n",
       "    <tr>\n",
       "      <th>2</th>\n",
       "      <td>AD</td>\n",
       "      <td>2020-03-13</td>\n",
       "      <td>1</td>\n",
       "      <td>0</td>\n",
       "      <td>Confirmed</td>\n",
       "      <td>C6</td>\n",
       "      <td>1.0</td>\n",
       "      <td>True</td>\n",
       "    </tr>\n",
       "    <tr>\n",
       "      <th>3</th>\n",
       "      <td>AD</td>\n",
       "      <td>2020-03-13</td>\n",
       "      <td>1</td>\n",
       "      <td>0</td>\n",
       "      <td>Confirmed</td>\n",
       "      <td>E1</td>\n",
       "      <td>2.0</td>\n",
       "      <td>True</td>\n",
       "    </tr>\n",
       "    <tr>\n",
       "      <th>4</th>\n",
       "      <td>AD</td>\n",
       "      <td>2020-03-14</td>\n",
       "      <td>1</td>\n",
       "      <td>0</td>\n",
       "      <td>Confirmed</td>\n",
       "      <td>C2</td>\n",
       "      <td>3.0</td>\n",
       "      <td>True</td>\n",
       "    </tr>\n",
       "  </tbody>\n",
       "</table>\n",
       "</div>"
      ],
      "text/plain": [
       "   ID       Date Cases  Cases_New       Type PolicyType  PolicyValue  \\\n",
       "0  AD 2020-03-11     1          0  Confirmed         H6          2.0   \n",
       "1  AD 2020-03-13     1          0  Confirmed         C3          1.0   \n",
       "2  AD 2020-03-13     1          0  Confirmed         C6          1.0   \n",
       "3  AD 2020-03-13     1          0  Confirmed         E1          2.0   \n",
       "4  AD 2020-03-14     1          0  Confirmed         C2          3.0   \n",
       "\n",
       "  PolicyFlag  \n",
       "0       True  \n",
       "1       True  \n",
       "2       True  \n",
       "3       True  \n",
       "4       True  "
      ]
     },
     "execution_count": 38,
     "metadata": {},
     "output_type": "execute_result"
    }
   ],
   "source": [
    "df_merge_confirmed.head()"
   ]
  },
  {
   "cell_type": "code",
   "execution_count": 39,
   "metadata": {
    "ExecuteTime": {
     "end_time": "2020-12-15T07:19:48.505326Z",
     "start_time": "2020-12-15T07:19:48.498852Z"
    }
   },
   "outputs": [],
   "source": [
    "def handle_policy(x):\n",
    "    if 'E' in x:\n",
    "        return 0\n",
    "    if 'H' in x:\n",
    "        return 1\n",
    "    if 'C' in x:\n",
    "        return 2"
   ]
  },
  {
   "cell_type": "code",
   "execution_count": 40,
   "metadata": {
    "ExecuteTime": {
     "end_time": "2020-12-15T07:19:48.609200Z",
     "start_time": "2020-12-15T07:19:48.510175Z"
    }
   },
   "outputs": [],
   "source": [
    "df_merge_confirmed['PolicyFamily'] = df_merge_confirmed['PolicyType'].apply(handle_policy)"
   ]
  },
  {
   "cell_type": "code",
   "execution_count": 41,
   "metadata": {
    "ExecuteTime": {
     "end_time": "2020-12-15T07:19:48.625289Z",
     "start_time": "2020-12-15T07:19:48.613992Z"
    }
   },
   "outputs": [],
   "source": [
    "df_merge_confirmed1 = df_merge_confirmed.copy()"
   ]
  },
  {
   "cell_type": "code",
   "execution_count": 42,
   "metadata": {
    "ExecuteTime": {
     "end_time": "2020-12-15T07:19:48.648613Z",
     "start_time": "2020-12-15T07:19:48.630498Z"
    }
   },
   "outputs": [
    {
     "data": {
      "text/plain": [
       "Index(['ID', 'Date', 'Cases', 'Cases_New', 'Type', 'PolicyType', 'PolicyValue',\n",
       "       'PolicyFlag', 'PolicyFamily'],\n",
       "      dtype='object')"
      ]
     },
     "execution_count": 42,
     "metadata": {},
     "output_type": "execute_result"
    }
   ],
   "source": [
    "df_merge_confirmed1.columns"
   ]
  },
  {
   "cell_type": "code",
   "execution_count": 43,
   "metadata": {
    "ExecuteTime": {
     "end_time": "2020-12-15T07:19:48.689831Z",
     "start_time": "2020-12-15T07:19:48.681630Z"
    }
   },
   "outputs": [],
   "source": [
    "def handle_number(x):\n",
    "    if '1' in x:\n",
    "        return 1\n",
    "    if '2' in x:\n",
    "        return 2\n",
    "    if '3' in x:\n",
    "        return 3\n",
    "    if '4' in x:\n",
    "        return 4\n",
    "    if '5' in x:\n",
    "        return 5\n",
    "    if '6' in x:\n",
    "        return 6\n",
    "    if '7' in x:\n",
    "        return 7\n",
    "    if '8' in x:\n",
    "        return 8"
   ]
  },
  {
   "cell_type": "code",
   "execution_count": 44,
   "metadata": {
    "ExecuteTime": {
     "end_time": "2020-12-15T07:19:48.725604Z",
     "start_time": "2020-12-15T07:19:48.695645Z"
    }
   },
   "outputs": [],
   "source": [
    "df_merge_confirmed1['policy_number'] = df_merge_confirmed1['PolicyType'].apply(handle_number)"
   ]
  },
  {
   "cell_type": "code",
   "execution_count": 45,
   "metadata": {
    "ExecuteTime": {
     "end_time": "2020-12-15T07:19:48.752140Z",
     "start_time": "2020-12-15T07:19:48.730887Z"
    }
   },
   "outputs": [
    {
     "data": {
      "text/html": [
       "<div>\n",
       "<style scoped>\n",
       "    .dataframe tbody tr th:only-of-type {\n",
       "        vertical-align: middle;\n",
       "    }\n",
       "\n",
       "    .dataframe tbody tr th {\n",
       "        vertical-align: top;\n",
       "    }\n",
       "\n",
       "    .dataframe thead th {\n",
       "        text-align: right;\n",
       "    }\n",
       "</style>\n",
       "<table border=\"1\" class=\"dataframe\">\n",
       "  <thead>\n",
       "    <tr style=\"text-align: right;\">\n",
       "      <th></th>\n",
       "      <th>ID</th>\n",
       "      <th>Date</th>\n",
       "      <th>Cases</th>\n",
       "      <th>Cases_New</th>\n",
       "      <th>Type</th>\n",
       "      <th>PolicyType</th>\n",
       "      <th>PolicyValue</th>\n",
       "      <th>PolicyFlag</th>\n",
       "      <th>PolicyFamily</th>\n",
       "      <th>policy_number</th>\n",
       "    </tr>\n",
       "  </thead>\n",
       "  <tbody>\n",
       "    <tr>\n",
       "      <th>0</th>\n",
       "      <td>AD</td>\n",
       "      <td>2020-03-11</td>\n",
       "      <td>1</td>\n",
       "      <td>0</td>\n",
       "      <td>Confirmed</td>\n",
       "      <td>H6</td>\n",
       "      <td>2.0</td>\n",
       "      <td>True</td>\n",
       "      <td>1</td>\n",
       "      <td>6</td>\n",
       "    </tr>\n",
       "    <tr>\n",
       "      <th>1</th>\n",
       "      <td>AD</td>\n",
       "      <td>2020-03-13</td>\n",
       "      <td>1</td>\n",
       "      <td>0</td>\n",
       "      <td>Confirmed</td>\n",
       "      <td>C3</td>\n",
       "      <td>1.0</td>\n",
       "      <td>True</td>\n",
       "      <td>2</td>\n",
       "      <td>3</td>\n",
       "    </tr>\n",
       "    <tr>\n",
       "      <th>2</th>\n",
       "      <td>AD</td>\n",
       "      <td>2020-03-13</td>\n",
       "      <td>1</td>\n",
       "      <td>0</td>\n",
       "      <td>Confirmed</td>\n",
       "      <td>C6</td>\n",
       "      <td>1.0</td>\n",
       "      <td>True</td>\n",
       "      <td>2</td>\n",
       "      <td>6</td>\n",
       "    </tr>\n",
       "    <tr>\n",
       "      <th>3</th>\n",
       "      <td>AD</td>\n",
       "      <td>2020-03-13</td>\n",
       "      <td>1</td>\n",
       "      <td>0</td>\n",
       "      <td>Confirmed</td>\n",
       "      <td>E1</td>\n",
       "      <td>2.0</td>\n",
       "      <td>True</td>\n",
       "      <td>0</td>\n",
       "      <td>1</td>\n",
       "    </tr>\n",
       "    <tr>\n",
       "      <th>4</th>\n",
       "      <td>AD</td>\n",
       "      <td>2020-03-14</td>\n",
       "      <td>1</td>\n",
       "      <td>0</td>\n",
       "      <td>Confirmed</td>\n",
       "      <td>C2</td>\n",
       "      <td>3.0</td>\n",
       "      <td>True</td>\n",
       "      <td>2</td>\n",
       "      <td>2</td>\n",
       "    </tr>\n",
       "  </tbody>\n",
       "</table>\n",
       "</div>"
      ],
      "text/plain": [
       "   ID       Date Cases  Cases_New       Type PolicyType  PolicyValue  \\\n",
       "0  AD 2020-03-11     1          0  Confirmed         H6          2.0   \n",
       "1  AD 2020-03-13     1          0  Confirmed         C3          1.0   \n",
       "2  AD 2020-03-13     1          0  Confirmed         C6          1.0   \n",
       "3  AD 2020-03-13     1          0  Confirmed         E1          2.0   \n",
       "4  AD 2020-03-14     1          0  Confirmed         C2          3.0   \n",
       "\n",
       "  PolicyFlag  PolicyFamily  policy_number  \n",
       "0       True             1              6  \n",
       "1       True             2              3  \n",
       "2       True             2              6  \n",
       "3       True             0              1  \n",
       "4       True             2              2  "
      ]
     },
     "execution_count": 45,
     "metadata": {},
     "output_type": "execute_result"
    }
   ],
   "source": [
    "df_merge_confirmed1.head()"
   ]
  },
  {
   "cell_type": "code",
   "execution_count": 46,
   "metadata": {
    "ExecuteTime": {
     "end_time": "2020-12-15T07:19:48.786305Z",
     "start_time": "2020-12-15T07:19:48.755929Z"
    }
   },
   "outputs": [],
   "source": [
    "scaler = MinMaxScaler()\n",
    "df_merge_confirmed1['policy_number_scaled'] = scaler.fit_transform(df_merge_confirmed1[['policy_number']])\n",
    "df_merge_confirmed1['policy_value_scaled'] = scaler.fit_transform(df_merge_confirmed1[['PolicyValue']])\n",
    "df_merge_confirmed1['policy_Family_scaled'] = scaler.fit_transform(df_merge_confirmed1[['PolicyFamily']])"
   ]
  },
  {
   "cell_type": "code",
   "execution_count": 47,
   "metadata": {
    "ExecuteTime": {
     "end_time": "2020-12-15T07:19:48.834156Z",
     "start_time": "2020-12-15T07:19:48.789924Z"
    }
   },
   "outputs": [
    {
     "data": {
      "text/html": [
       "<div>\n",
       "<style scoped>\n",
       "    .dataframe tbody tr th:only-of-type {\n",
       "        vertical-align: middle;\n",
       "    }\n",
       "\n",
       "    .dataframe tbody tr th {\n",
       "        vertical-align: top;\n",
       "    }\n",
       "\n",
       "    .dataframe thead th {\n",
       "        text-align: right;\n",
       "    }\n",
       "</style>\n",
       "<table border=\"1\" class=\"dataframe\">\n",
       "  <thead>\n",
       "    <tr style=\"text-align: right;\">\n",
       "      <th></th>\n",
       "      <th>ID</th>\n",
       "      <th>Date</th>\n",
       "      <th>Cases</th>\n",
       "      <th>Cases_New</th>\n",
       "      <th>Type</th>\n",
       "      <th>PolicyType</th>\n",
       "      <th>PolicyValue</th>\n",
       "      <th>PolicyFlag</th>\n",
       "      <th>PolicyFamily</th>\n",
       "      <th>policy_number</th>\n",
       "      <th>policy_number_scaled</th>\n",
       "      <th>policy_value_scaled</th>\n",
       "      <th>policy_Family_scaled</th>\n",
       "    </tr>\n",
       "  </thead>\n",
       "  <tbody>\n",
       "    <tr>\n",
       "      <th>0</th>\n",
       "      <td>AD</td>\n",
       "      <td>2020-03-11</td>\n",
       "      <td>1</td>\n",
       "      <td>0</td>\n",
       "      <td>Confirmed</td>\n",
       "      <td>H6</td>\n",
       "      <td>2.0</td>\n",
       "      <td>True</td>\n",
       "      <td>1</td>\n",
       "      <td>6</td>\n",
       "      <td>0.833333</td>\n",
       "      <td>0.333333</td>\n",
       "      <td>0.5</td>\n",
       "    </tr>\n",
       "    <tr>\n",
       "      <th>1</th>\n",
       "      <td>AD</td>\n",
       "      <td>2020-03-13</td>\n",
       "      <td>1</td>\n",
       "      <td>0</td>\n",
       "      <td>Confirmed</td>\n",
       "      <td>C3</td>\n",
       "      <td>1.0</td>\n",
       "      <td>True</td>\n",
       "      <td>2</td>\n",
       "      <td>3</td>\n",
       "      <td>0.333333</td>\n",
       "      <td>0.000000</td>\n",
       "      <td>1.0</td>\n",
       "    </tr>\n",
       "    <tr>\n",
       "      <th>2</th>\n",
       "      <td>AD</td>\n",
       "      <td>2020-03-13</td>\n",
       "      <td>1</td>\n",
       "      <td>0</td>\n",
       "      <td>Confirmed</td>\n",
       "      <td>C6</td>\n",
       "      <td>1.0</td>\n",
       "      <td>True</td>\n",
       "      <td>2</td>\n",
       "      <td>6</td>\n",
       "      <td>0.833333</td>\n",
       "      <td>0.000000</td>\n",
       "      <td>1.0</td>\n",
       "    </tr>\n",
       "    <tr>\n",
       "      <th>3</th>\n",
       "      <td>AD</td>\n",
       "      <td>2020-03-13</td>\n",
       "      <td>1</td>\n",
       "      <td>0</td>\n",
       "      <td>Confirmed</td>\n",
       "      <td>E1</td>\n",
       "      <td>2.0</td>\n",
       "      <td>True</td>\n",
       "      <td>0</td>\n",
       "      <td>1</td>\n",
       "      <td>0.000000</td>\n",
       "      <td>0.333333</td>\n",
       "      <td>0.0</td>\n",
       "    </tr>\n",
       "    <tr>\n",
       "      <th>4</th>\n",
       "      <td>AD</td>\n",
       "      <td>2020-03-14</td>\n",
       "      <td>1</td>\n",
       "      <td>0</td>\n",
       "      <td>Confirmed</td>\n",
       "      <td>C2</td>\n",
       "      <td>3.0</td>\n",
       "      <td>True</td>\n",
       "      <td>2</td>\n",
       "      <td>2</td>\n",
       "      <td>0.166667</td>\n",
       "      <td>0.666667</td>\n",
       "      <td>1.0</td>\n",
       "    </tr>\n",
       "  </tbody>\n",
       "</table>\n",
       "</div>"
      ],
      "text/plain": [
       "   ID       Date Cases  Cases_New       Type PolicyType  PolicyValue  \\\n",
       "0  AD 2020-03-11     1          0  Confirmed         H6          2.0   \n",
       "1  AD 2020-03-13     1          0  Confirmed         C3          1.0   \n",
       "2  AD 2020-03-13     1          0  Confirmed         C6          1.0   \n",
       "3  AD 2020-03-13     1          0  Confirmed         E1          2.0   \n",
       "4  AD 2020-03-14     1          0  Confirmed         C2          3.0   \n",
       "\n",
       "  PolicyFlag  PolicyFamily  policy_number  policy_number_scaled  \\\n",
       "0       True             1              6              0.833333   \n",
       "1       True             2              3              0.333333   \n",
       "2       True             2              6              0.833333   \n",
       "3       True             0              1              0.000000   \n",
       "4       True             2              2              0.166667   \n",
       "\n",
       "   policy_value_scaled  policy_Family_scaled  \n",
       "0             0.333333                   0.5  \n",
       "1             0.000000                   1.0  \n",
       "2             0.000000                   1.0  \n",
       "3             0.333333                   0.0  \n",
       "4             0.666667                   1.0  "
      ]
     },
     "execution_count": 47,
     "metadata": {},
     "output_type": "execute_result"
    }
   ],
   "source": [
    "df_merge_confirmed1.head()"
   ]
  },
  {
   "cell_type": "code",
   "execution_count": 48,
   "metadata": {
    "ExecuteTime": {
     "end_time": "2020-12-15T07:19:48.843875Z",
     "start_time": "2020-12-15T07:19:48.837644Z"
    }
   },
   "outputs": [
    {
     "data": {
      "text/plain": [
       "Index(['ID', 'Date', 'Cases', 'Cases_New', 'Type', 'PolicyType', 'PolicyValue',\n",
       "       'PolicyFlag', 'PolicyFamily', 'policy_number', 'policy_number_scaled',\n",
       "       'policy_value_scaled', 'policy_Family_scaled'],\n",
       "      dtype='object')"
      ]
     },
     "execution_count": 48,
     "metadata": {},
     "output_type": "execute_result"
    }
   ],
   "source": [
    "df_merge_confirmed1.columns"
   ]
  },
  {
   "cell_type": "code",
   "execution_count": 49,
   "metadata": {
    "ExecuteTime": {
     "end_time": "2020-12-15T07:19:48.917186Z",
     "start_time": "2020-12-15T07:19:48.848287Z"
    }
   },
   "outputs": [
    {
     "data": {
      "text/html": [
       "<div>\n",
       "<style scoped>\n",
       "    .dataframe tbody tr th:only-of-type {\n",
       "        vertical-align: middle;\n",
       "    }\n",
       "\n",
       "    .dataframe tbody tr th {\n",
       "        vertical-align: top;\n",
       "    }\n",
       "\n",
       "    .dataframe thead th {\n",
       "        text-align: right;\n",
       "    }\n",
       "</style>\n",
       "<table border=\"1\" class=\"dataframe\">\n",
       "  <thead>\n",
       "    <tr style=\"text-align: right;\">\n",
       "      <th></th>\n",
       "      <th>ID</th>\n",
       "      <th>Date</th>\n",
       "      <th>Cases</th>\n",
       "      <th>Cases_New</th>\n",
       "      <th>Type</th>\n",
       "      <th>PolicyType</th>\n",
       "      <th>PolicyValue</th>\n",
       "      <th>PolicyFlag</th>\n",
       "      <th>PolicyFamily</th>\n",
       "      <th>policy_number</th>\n",
       "      <th>policy_number_scaled</th>\n",
       "      <th>policy_value_scaled</th>\n",
       "      <th>policy_Family_scaled</th>\n",
       "    </tr>\n",
       "  </thead>\n",
       "  <tbody>\n",
       "    <tr>\n",
       "      <th>0</th>\n",
       "      <td>AD</td>\n",
       "      <td>2020-03-11</td>\n",
       "      <td>1</td>\n",
       "      <td>0</td>\n",
       "      <td>Confirmed</td>\n",
       "      <td>H6</td>\n",
       "      <td>2.0</td>\n",
       "      <td>True</td>\n",
       "      <td>1</td>\n",
       "      <td>6</td>\n",
       "      <td>0.833333</td>\n",
       "      <td>0.333333</td>\n",
       "      <td>0.5</td>\n",
       "    </tr>\n",
       "    <tr>\n",
       "      <th>1</th>\n",
       "      <td>AD</td>\n",
       "      <td>2020-03-13</td>\n",
       "      <td>1</td>\n",
       "      <td>0</td>\n",
       "      <td>Confirmed</td>\n",
       "      <td>C3</td>\n",
       "      <td>1.0</td>\n",
       "      <td>True</td>\n",
       "      <td>2</td>\n",
       "      <td>3</td>\n",
       "      <td>0.333333</td>\n",
       "      <td>0.000000</td>\n",
       "      <td>1.0</td>\n",
       "    </tr>\n",
       "    <tr>\n",
       "      <th>2</th>\n",
       "      <td>AD</td>\n",
       "      <td>2020-03-13</td>\n",
       "      <td>1</td>\n",
       "      <td>0</td>\n",
       "      <td>Confirmed</td>\n",
       "      <td>C6</td>\n",
       "      <td>1.0</td>\n",
       "      <td>True</td>\n",
       "      <td>2</td>\n",
       "      <td>6</td>\n",
       "      <td>0.833333</td>\n",
       "      <td>0.000000</td>\n",
       "      <td>1.0</td>\n",
       "    </tr>\n",
       "    <tr>\n",
       "      <th>3</th>\n",
       "      <td>AD</td>\n",
       "      <td>2020-03-13</td>\n",
       "      <td>1</td>\n",
       "      <td>0</td>\n",
       "      <td>Confirmed</td>\n",
       "      <td>E1</td>\n",
       "      <td>2.0</td>\n",
       "      <td>True</td>\n",
       "      <td>0</td>\n",
       "      <td>1</td>\n",
       "      <td>0.000000</td>\n",
       "      <td>0.333333</td>\n",
       "      <td>0.0</td>\n",
       "    </tr>\n",
       "    <tr>\n",
       "      <th>4</th>\n",
       "      <td>AD</td>\n",
       "      <td>2020-03-14</td>\n",
       "      <td>1</td>\n",
       "      <td>0</td>\n",
       "      <td>Confirmed</td>\n",
       "      <td>C2</td>\n",
       "      <td>3.0</td>\n",
       "      <td>True</td>\n",
       "      <td>2</td>\n",
       "      <td>2</td>\n",
       "      <td>0.166667</td>\n",
       "      <td>0.666667</td>\n",
       "      <td>1.0</td>\n",
       "    </tr>\n",
       "    <tr>\n",
       "      <th>5</th>\n",
       "      <td>AD</td>\n",
       "      <td>2020-03-16</td>\n",
       "      <td>2</td>\n",
       "      <td>1</td>\n",
       "      <td>Confirmed</td>\n",
       "      <td>C1</td>\n",
       "      <td>3.0</td>\n",
       "      <td>True</td>\n",
       "      <td>2</td>\n",
       "      <td>1</td>\n",
       "      <td>0.000000</td>\n",
       "      <td>0.666667</td>\n",
       "      <td>1.0</td>\n",
       "    </tr>\n",
       "    <tr>\n",
       "      <th>6</th>\n",
       "      <td>AD</td>\n",
       "      <td>2020-03-25</td>\n",
       "      <td>188</td>\n",
       "      <td>24</td>\n",
       "      <td>Confirmed</td>\n",
       "      <td>C1</td>\n",
       "      <td>3.0</td>\n",
       "      <td>True</td>\n",
       "      <td>2</td>\n",
       "      <td>1</td>\n",
       "      <td>0.000000</td>\n",
       "      <td>0.666667</td>\n",
       "      <td>1.0</td>\n",
       "    </tr>\n",
       "    <tr>\n",
       "      <th>7</th>\n",
       "      <td>AD</td>\n",
       "      <td>2020-03-25</td>\n",
       "      <td>188</td>\n",
       "      <td>24</td>\n",
       "      <td>Confirmed</td>\n",
       "      <td>C5</td>\n",
       "      <td>1.0</td>\n",
       "      <td>True</td>\n",
       "      <td>2</td>\n",
       "      <td>5</td>\n",
       "      <td>0.666667</td>\n",
       "      <td>0.000000</td>\n",
       "      <td>1.0</td>\n",
       "    </tr>\n",
       "    <tr>\n",
       "      <th>8</th>\n",
       "      <td>AD</td>\n",
       "      <td>2020-03-25</td>\n",
       "      <td>188</td>\n",
       "      <td>24</td>\n",
       "      <td>Confirmed</td>\n",
       "      <td>H1</td>\n",
       "      <td>2.0</td>\n",
       "      <td>True</td>\n",
       "      <td>1</td>\n",
       "      <td>1</td>\n",
       "      <td>0.000000</td>\n",
       "      <td>0.333333</td>\n",
       "      <td>0.5</td>\n",
       "    </tr>\n",
       "    <tr>\n",
       "      <th>9</th>\n",
       "      <td>AD</td>\n",
       "      <td>2020-04-14</td>\n",
       "      <td>659</td>\n",
       "      <td>13</td>\n",
       "      <td>Confirmed</td>\n",
       "      <td>C5</td>\n",
       "      <td>1.0</td>\n",
       "      <td>True</td>\n",
       "      <td>2</td>\n",
       "      <td>5</td>\n",
       "      <td>0.666667</td>\n",
       "      <td>0.000000</td>\n",
       "      <td>1.0</td>\n",
       "    </tr>\n",
       "    <tr>\n",
       "      <th>10</th>\n",
       "      <td>AD</td>\n",
       "      <td>2020-04-18</td>\n",
       "      <td>704</td>\n",
       "      <td>8</td>\n",
       "      <td>Confirmed</td>\n",
       "      <td>C1</td>\n",
       "      <td>3.0</td>\n",
       "      <td>True</td>\n",
       "      <td>2</td>\n",
       "      <td>1</td>\n",
       "      <td>0.000000</td>\n",
       "      <td>0.666667</td>\n",
       "      <td>1.0</td>\n",
       "    </tr>\n",
       "    <tr>\n",
       "      <th>11</th>\n",
       "      <td>AD</td>\n",
       "      <td>2020-04-20</td>\n",
       "      <td>717</td>\n",
       "      <td>4</td>\n",
       "      <td>Confirmed</td>\n",
       "      <td>C2</td>\n",
       "      <td>2.0</td>\n",
       "      <td>True</td>\n",
       "      <td>2</td>\n",
       "      <td>2</td>\n",
       "      <td>0.166667</td>\n",
       "      <td>0.333333</td>\n",
       "      <td>1.0</td>\n",
       "    </tr>\n",
       "    <tr>\n",
       "      <th>12</th>\n",
       "      <td>AD</td>\n",
       "      <td>2020-05-09</td>\n",
       "      <td>754</td>\n",
       "      <td>2</td>\n",
       "      <td>Confirmed</td>\n",
       "      <td>C1</td>\n",
       "      <td>3.0</td>\n",
       "      <td>True</td>\n",
       "      <td>2</td>\n",
       "      <td>1</td>\n",
       "      <td>0.000000</td>\n",
       "      <td>0.666667</td>\n",
       "      <td>1.0</td>\n",
       "    </tr>\n",
       "    <tr>\n",
       "      <th>13</th>\n",
       "      <td>AD</td>\n",
       "      <td>2020-05-09</td>\n",
       "      <td>754</td>\n",
       "      <td>2</td>\n",
       "      <td>Confirmed</td>\n",
       "      <td>C2</td>\n",
       "      <td>2.0</td>\n",
       "      <td>True</td>\n",
       "      <td>2</td>\n",
       "      <td>2</td>\n",
       "      <td>0.166667</td>\n",
       "      <td>0.333333</td>\n",
       "      <td>1.0</td>\n",
       "    </tr>\n",
       "    <tr>\n",
       "      <th>14</th>\n",
       "      <td>AD</td>\n",
       "      <td>2020-05-09</td>\n",
       "      <td>754</td>\n",
       "      <td>2</td>\n",
       "      <td>Confirmed</td>\n",
       "      <td>C5</td>\n",
       "      <td>1.0</td>\n",
       "      <td>True</td>\n",
       "      <td>2</td>\n",
       "      <td>5</td>\n",
       "      <td>0.666667</td>\n",
       "      <td>0.000000</td>\n",
       "      <td>1.0</td>\n",
       "    </tr>\n",
       "    <tr>\n",
       "      <th>15</th>\n",
       "      <td>AD</td>\n",
       "      <td>2020-05-09</td>\n",
       "      <td>754</td>\n",
       "      <td>2</td>\n",
       "      <td>Confirmed</td>\n",
       "      <td>C6</td>\n",
       "      <td>1.0</td>\n",
       "      <td>True</td>\n",
       "      <td>2</td>\n",
       "      <td>6</td>\n",
       "      <td>0.833333</td>\n",
       "      <td>0.000000</td>\n",
       "      <td>1.0</td>\n",
       "    </tr>\n",
       "    <tr>\n",
       "      <th>16</th>\n",
       "      <td>AD</td>\n",
       "      <td>2020-05-09</td>\n",
       "      <td>754</td>\n",
       "      <td>2</td>\n",
       "      <td>Confirmed</td>\n",
       "      <td>E1</td>\n",
       "      <td>2.0</td>\n",
       "      <td>True</td>\n",
       "      <td>0</td>\n",
       "      <td>1</td>\n",
       "      <td>0.000000</td>\n",
       "      <td>0.333333</td>\n",
       "      <td>0.0</td>\n",
       "    </tr>\n",
       "    <tr>\n",
       "      <th>17</th>\n",
       "      <td>AD</td>\n",
       "      <td>2020-05-13</td>\n",
       "      <td>760</td>\n",
       "      <td>2</td>\n",
       "      <td>Confirmed</td>\n",
       "      <td>C6</td>\n",
       "      <td>1.0</td>\n",
       "      <td>True</td>\n",
       "      <td>2</td>\n",
       "      <td>6</td>\n",
       "      <td>0.833333</td>\n",
       "      <td>0.000000</td>\n",
       "      <td>1.0</td>\n",
       "    </tr>\n",
       "    <tr>\n",
       "      <th>18</th>\n",
       "      <td>AD</td>\n",
       "      <td>2020-05-22</td>\n",
       "      <td>762</td>\n",
       "      <td>0</td>\n",
       "      <td>Confirmed</td>\n",
       "      <td>C1</td>\n",
       "      <td>3.0</td>\n",
       "      <td>True</td>\n",
       "      <td>2</td>\n",
       "      <td>1</td>\n",
       "      <td>0.000000</td>\n",
       "      <td>0.666667</td>\n",
       "      <td>1.0</td>\n",
       "    </tr>\n",
       "    <tr>\n",
       "      <th>19</th>\n",
       "      <td>AD</td>\n",
       "      <td>2020-07-07</td>\n",
       "      <td>855</td>\n",
       "      <td>0</td>\n",
       "      <td>Confirmed</td>\n",
       "      <td>C2</td>\n",
       "      <td>2.0</td>\n",
       "      <td>True</td>\n",
       "      <td>2</td>\n",
       "      <td>2</td>\n",
       "      <td>0.166667</td>\n",
       "      <td>0.333333</td>\n",
       "      <td>1.0</td>\n",
       "    </tr>\n",
       "    <tr>\n",
       "      <th>20</th>\n",
       "      <td>AD</td>\n",
       "      <td>2020-07-07</td>\n",
       "      <td>855</td>\n",
       "      <td>0</td>\n",
       "      <td>Confirmed</td>\n",
       "      <td>C3</td>\n",
       "      <td>2.0</td>\n",
       "      <td>True</td>\n",
       "      <td>2</td>\n",
       "      <td>3</td>\n",
       "      <td>0.333333</td>\n",
       "      <td>0.333333</td>\n",
       "      <td>1.0</td>\n",
       "    </tr>\n",
       "    <tr>\n",
       "      <th>21</th>\n",
       "      <td>AD</td>\n",
       "      <td>2020-07-07</td>\n",
       "      <td>855</td>\n",
       "      <td>0</td>\n",
       "      <td>Confirmed</td>\n",
       "      <td>C4</td>\n",
       "      <td>3.0</td>\n",
       "      <td>True</td>\n",
       "      <td>2</td>\n",
       "      <td>4</td>\n",
       "      <td>0.500000</td>\n",
       "      <td>0.666667</td>\n",
       "      <td>1.0</td>\n",
       "    </tr>\n",
       "    <tr>\n",
       "      <th>22</th>\n",
       "      <td>AD</td>\n",
       "      <td>2020-07-07</td>\n",
       "      <td>855</td>\n",
       "      <td>0</td>\n",
       "      <td>Confirmed</td>\n",
       "      <td>C5</td>\n",
       "      <td>1.0</td>\n",
       "      <td>True</td>\n",
       "      <td>2</td>\n",
       "      <td>5</td>\n",
       "      <td>0.666667</td>\n",
       "      <td>0.000000</td>\n",
       "      <td>1.0</td>\n",
       "    </tr>\n",
       "    <tr>\n",
       "      <th>23</th>\n",
       "      <td>AD</td>\n",
       "      <td>2020-07-07</td>\n",
       "      <td>855</td>\n",
       "      <td>0</td>\n",
       "      <td>Confirmed</td>\n",
       "      <td>C6</td>\n",
       "      <td>1.0</td>\n",
       "      <td>True</td>\n",
       "      <td>2</td>\n",
       "      <td>6</td>\n",
       "      <td>0.833333</td>\n",
       "      <td>0.000000</td>\n",
       "      <td>1.0</td>\n",
       "    </tr>\n",
       "    <tr>\n",
       "      <th>24</th>\n",
       "      <td>AD</td>\n",
       "      <td>2020-07-10</td>\n",
       "      <td>855</td>\n",
       "      <td>0</td>\n",
       "      <td>Confirmed</td>\n",
       "      <td>E1</td>\n",
       "      <td>2.0</td>\n",
       "      <td>True</td>\n",
       "      <td>0</td>\n",
       "      <td>1</td>\n",
       "      <td>0.000000</td>\n",
       "      <td>0.333333</td>\n",
       "      <td>0.0</td>\n",
       "    </tr>\n",
       "    <tr>\n",
       "      <th>25</th>\n",
       "      <td>AD</td>\n",
       "      <td>2020-07-11</td>\n",
       "      <td>855</td>\n",
       "      <td>0</td>\n",
       "      <td>Confirmed</td>\n",
       "      <td>E1</td>\n",
       "      <td>2.0</td>\n",
       "      <td>True</td>\n",
       "      <td>0</td>\n",
       "      <td>1</td>\n",
       "      <td>0.000000</td>\n",
       "      <td>0.333333</td>\n",
       "      <td>0.0</td>\n",
       "    </tr>\n",
       "    <tr>\n",
       "      <th>26</th>\n",
       "      <td>AD</td>\n",
       "      <td>2020-07-15</td>\n",
       "      <td>862</td>\n",
       "      <td>1</td>\n",
       "      <td>Confirmed</td>\n",
       "      <td>H6</td>\n",
       "      <td>3.0</td>\n",
       "      <td>True</td>\n",
       "      <td>1</td>\n",
       "      <td>6</td>\n",
       "      <td>0.833333</td>\n",
       "      <td>0.666667</td>\n",
       "      <td>0.5</td>\n",
       "    </tr>\n",
       "    <tr>\n",
       "      <th>27</th>\n",
       "      <td>AD</td>\n",
       "      <td>2020-07-21</td>\n",
       "      <td>884</td>\n",
       "      <td>0</td>\n",
       "      <td>Confirmed</td>\n",
       "      <td>C3</td>\n",
       "      <td>1.0</td>\n",
       "      <td>True</td>\n",
       "      <td>2</td>\n",
       "      <td>3</td>\n",
       "      <td>0.333333</td>\n",
       "      <td>0.000000</td>\n",
       "      <td>1.0</td>\n",
       "    </tr>\n",
       "    <tr>\n",
       "      <th>28</th>\n",
       "      <td>AD</td>\n",
       "      <td>2020-07-22</td>\n",
       "      <td>889</td>\n",
       "      <td>5</td>\n",
       "      <td>Confirmed</td>\n",
       "      <td>H1</td>\n",
       "      <td>1.0</td>\n",
       "      <td>True</td>\n",
       "      <td>1</td>\n",
       "      <td>1</td>\n",
       "      <td>0.000000</td>\n",
       "      <td>0.000000</td>\n",
       "      <td>0.5</td>\n",
       "    </tr>\n",
       "    <tr>\n",
       "      <th>29</th>\n",
       "      <td>AD</td>\n",
       "      <td>2020-08-18</td>\n",
       "      <td>1005</td>\n",
       "      <td>0</td>\n",
       "      <td>Confirmed</td>\n",
       "      <td>C2</td>\n",
       "      <td>2.0</td>\n",
       "      <td>True</td>\n",
       "      <td>2</td>\n",
       "      <td>2</td>\n",
       "      <td>0.166667</td>\n",
       "      <td>0.333333</td>\n",
       "      <td>1.0</td>\n",
       "    </tr>\n",
       "    <tr>\n",
       "      <th>...</th>\n",
       "      <td>...</td>\n",
       "      <td>...</td>\n",
       "      <td>...</td>\n",
       "      <td>...</td>\n",
       "      <td>...</td>\n",
       "      <td>...</td>\n",
       "      <td>...</td>\n",
       "      <td>...</td>\n",
       "      <td>...</td>\n",
       "      <td>...</td>\n",
       "      <td>...</td>\n",
       "      <td>...</td>\n",
       "      <td>...</td>\n",
       "    </tr>\n",
       "    <tr>\n",
       "      <th>36685</th>\n",
       "      <td>ZW</td>\n",
       "      <td>2020-09-29</td>\n",
       "      <td>7837</td>\n",
       "      <td>21</td>\n",
       "      <td>Confirmed</td>\n",
       "      <td>C6</td>\n",
       "      <td>2.0</td>\n",
       "      <td>True</td>\n",
       "      <td>2</td>\n",
       "      <td>6</td>\n",
       "      <td>0.833333</td>\n",
       "      <td>0.333333</td>\n",
       "      <td>1.0</td>\n",
       "    </tr>\n",
       "    <tr>\n",
       "      <th>36686</th>\n",
       "      <td>ZW</td>\n",
       "      <td>2020-09-29</td>\n",
       "      <td>7837</td>\n",
       "      <td>21</td>\n",
       "      <td>Confirmed</td>\n",
       "      <td>C7</td>\n",
       "      <td>2.0</td>\n",
       "      <td>True</td>\n",
       "      <td>2</td>\n",
       "      <td>7</td>\n",
       "      <td>1.000000</td>\n",
       "      <td>0.333333</td>\n",
       "      <td>1.0</td>\n",
       "    </tr>\n",
       "    <tr>\n",
       "      <th>36687</th>\n",
       "      <td>ZW</td>\n",
       "      <td>2020-09-29</td>\n",
       "      <td>7837</td>\n",
       "      <td>21</td>\n",
       "      <td>Confirmed</td>\n",
       "      <td>H6</td>\n",
       "      <td>1.0</td>\n",
       "      <td>True</td>\n",
       "      <td>1</td>\n",
       "      <td>6</td>\n",
       "      <td>0.833333</td>\n",
       "      <td>0.000000</td>\n",
       "      <td>0.5</td>\n",
       "    </tr>\n",
       "    <tr>\n",
       "      <th>36688</th>\n",
       "      <td>ZW</td>\n",
       "      <td>2020-10-14</td>\n",
       "      <td>8055</td>\n",
       "      <td>19</td>\n",
       "      <td>Confirmed</td>\n",
       "      <td>C1</td>\n",
       "      <td>2.0</td>\n",
       "      <td>True</td>\n",
       "      <td>2</td>\n",
       "      <td>1</td>\n",
       "      <td>0.000000</td>\n",
       "      <td>0.333333</td>\n",
       "      <td>1.0</td>\n",
       "    </tr>\n",
       "    <tr>\n",
       "      <th>36689</th>\n",
       "      <td>ZW</td>\n",
       "      <td>2020-10-14</td>\n",
       "      <td>8055</td>\n",
       "      <td>19</td>\n",
       "      <td>Confirmed</td>\n",
       "      <td>C2</td>\n",
       "      <td>1.0</td>\n",
       "      <td>True</td>\n",
       "      <td>2</td>\n",
       "      <td>2</td>\n",
       "      <td>0.166667</td>\n",
       "      <td>0.000000</td>\n",
       "      <td>1.0</td>\n",
       "    </tr>\n",
       "    <tr>\n",
       "      <th>36690</th>\n",
       "      <td>ZW</td>\n",
       "      <td>2020-10-14</td>\n",
       "      <td>8055</td>\n",
       "      <td>19</td>\n",
       "      <td>Confirmed</td>\n",
       "      <td>C3</td>\n",
       "      <td>2.0</td>\n",
       "      <td>True</td>\n",
       "      <td>2</td>\n",
       "      <td>3</td>\n",
       "      <td>0.333333</td>\n",
       "      <td>0.333333</td>\n",
       "      <td>1.0</td>\n",
       "    </tr>\n",
       "    <tr>\n",
       "      <th>36691</th>\n",
       "      <td>ZW</td>\n",
       "      <td>2020-10-14</td>\n",
       "      <td>8055</td>\n",
       "      <td>19</td>\n",
       "      <td>Confirmed</td>\n",
       "      <td>C4</td>\n",
       "      <td>3.0</td>\n",
       "      <td>True</td>\n",
       "      <td>2</td>\n",
       "      <td>4</td>\n",
       "      <td>0.500000</td>\n",
       "      <td>0.666667</td>\n",
       "      <td>1.0</td>\n",
       "    </tr>\n",
       "    <tr>\n",
       "      <th>36692</th>\n",
       "      <td>ZW</td>\n",
       "      <td>2020-10-14</td>\n",
       "      <td>8055</td>\n",
       "      <td>19</td>\n",
       "      <td>Confirmed</td>\n",
       "      <td>C5</td>\n",
       "      <td>1.0</td>\n",
       "      <td>True</td>\n",
       "      <td>2</td>\n",
       "      <td>5</td>\n",
       "      <td>0.666667</td>\n",
       "      <td>0.000000</td>\n",
       "      <td>1.0</td>\n",
       "    </tr>\n",
       "    <tr>\n",
       "      <th>36693</th>\n",
       "      <td>ZW</td>\n",
       "      <td>2020-10-14</td>\n",
       "      <td>8055</td>\n",
       "      <td>19</td>\n",
       "      <td>Confirmed</td>\n",
       "      <td>C6</td>\n",
       "      <td>2.0</td>\n",
       "      <td>True</td>\n",
       "      <td>2</td>\n",
       "      <td>6</td>\n",
       "      <td>0.833333</td>\n",
       "      <td>0.333333</td>\n",
       "      <td>1.0</td>\n",
       "    </tr>\n",
       "    <tr>\n",
       "      <th>36694</th>\n",
       "      <td>ZW</td>\n",
       "      <td>2020-10-14</td>\n",
       "      <td>8055</td>\n",
       "      <td>19</td>\n",
       "      <td>Confirmed</td>\n",
       "      <td>C7</td>\n",
       "      <td>2.0</td>\n",
       "      <td>True</td>\n",
       "      <td>2</td>\n",
       "      <td>7</td>\n",
       "      <td>1.000000</td>\n",
       "      <td>0.333333</td>\n",
       "      <td>1.0</td>\n",
       "    </tr>\n",
       "    <tr>\n",
       "      <th>36695</th>\n",
       "      <td>ZW</td>\n",
       "      <td>2020-10-14</td>\n",
       "      <td>8055</td>\n",
       "      <td>19</td>\n",
       "      <td>Confirmed</td>\n",
       "      <td>E1</td>\n",
       "      <td>1.0</td>\n",
       "      <td>True</td>\n",
       "      <td>0</td>\n",
       "      <td>1</td>\n",
       "      <td>0.000000</td>\n",
       "      <td>0.000000</td>\n",
       "      <td>0.0</td>\n",
       "    </tr>\n",
       "    <tr>\n",
       "      <th>36696</th>\n",
       "      <td>ZW</td>\n",
       "      <td>2020-10-14</td>\n",
       "      <td>8055</td>\n",
       "      <td>19</td>\n",
       "      <td>Confirmed</td>\n",
       "      <td>H1</td>\n",
       "      <td>2.0</td>\n",
       "      <td>True</td>\n",
       "      <td>1</td>\n",
       "      <td>1</td>\n",
       "      <td>0.000000</td>\n",
       "      <td>0.333333</td>\n",
       "      <td>0.5</td>\n",
       "    </tr>\n",
       "    <tr>\n",
       "      <th>36697</th>\n",
       "      <td>ZW</td>\n",
       "      <td>2020-10-14</td>\n",
       "      <td>8055</td>\n",
       "      <td>19</td>\n",
       "      <td>Confirmed</td>\n",
       "      <td>H6</td>\n",
       "      <td>1.0</td>\n",
       "      <td>True</td>\n",
       "      <td>1</td>\n",
       "      <td>6</td>\n",
       "      <td>0.833333</td>\n",
       "      <td>0.000000</td>\n",
       "      <td>0.5</td>\n",
       "    </tr>\n",
       "    <tr>\n",
       "      <th>36698</th>\n",
       "      <td>ZW</td>\n",
       "      <td>2020-10-26</td>\n",
       "      <td>8303</td>\n",
       "      <td>27</td>\n",
       "      <td>Confirmed</td>\n",
       "      <td>C1</td>\n",
       "      <td>2.0</td>\n",
       "      <td>True</td>\n",
       "      <td>2</td>\n",
       "      <td>1</td>\n",
       "      <td>0.000000</td>\n",
       "      <td>0.333333</td>\n",
       "      <td>1.0</td>\n",
       "    </tr>\n",
       "    <tr>\n",
       "      <th>36699</th>\n",
       "      <td>ZW</td>\n",
       "      <td>2020-10-26</td>\n",
       "      <td>8303</td>\n",
       "      <td>27</td>\n",
       "      <td>Confirmed</td>\n",
       "      <td>C2</td>\n",
       "      <td>1.0</td>\n",
       "      <td>True</td>\n",
       "      <td>2</td>\n",
       "      <td>2</td>\n",
       "      <td>0.166667</td>\n",
       "      <td>0.000000</td>\n",
       "      <td>1.0</td>\n",
       "    </tr>\n",
       "    <tr>\n",
       "      <th>36700</th>\n",
       "      <td>ZW</td>\n",
       "      <td>2020-10-26</td>\n",
       "      <td>8303</td>\n",
       "      <td>27</td>\n",
       "      <td>Confirmed</td>\n",
       "      <td>C3</td>\n",
       "      <td>2.0</td>\n",
       "      <td>True</td>\n",
       "      <td>2</td>\n",
       "      <td>3</td>\n",
       "      <td>0.333333</td>\n",
       "      <td>0.333333</td>\n",
       "      <td>1.0</td>\n",
       "    </tr>\n",
       "    <tr>\n",
       "      <th>36701</th>\n",
       "      <td>ZW</td>\n",
       "      <td>2020-10-26</td>\n",
       "      <td>8303</td>\n",
       "      <td>27</td>\n",
       "      <td>Confirmed</td>\n",
       "      <td>C4</td>\n",
       "      <td>3.0</td>\n",
       "      <td>True</td>\n",
       "      <td>2</td>\n",
       "      <td>4</td>\n",
       "      <td>0.500000</td>\n",
       "      <td>0.666667</td>\n",
       "      <td>1.0</td>\n",
       "    </tr>\n",
       "    <tr>\n",
       "      <th>36702</th>\n",
       "      <td>ZW</td>\n",
       "      <td>2020-10-26</td>\n",
       "      <td>8303</td>\n",
       "      <td>27</td>\n",
       "      <td>Confirmed</td>\n",
       "      <td>H6</td>\n",
       "      <td>3.0</td>\n",
       "      <td>True</td>\n",
       "      <td>1</td>\n",
       "      <td>6</td>\n",
       "      <td>0.833333</td>\n",
       "      <td>0.666667</td>\n",
       "      <td>0.5</td>\n",
       "    </tr>\n",
       "    <tr>\n",
       "      <th>36703</th>\n",
       "      <td>ZW</td>\n",
       "      <td>2020-10-30</td>\n",
       "      <td>8362</td>\n",
       "      <td>13</td>\n",
       "      <td>Confirmed</td>\n",
       "      <td>C1</td>\n",
       "      <td>2.0</td>\n",
       "      <td>True</td>\n",
       "      <td>2</td>\n",
       "      <td>1</td>\n",
       "      <td>0.000000</td>\n",
       "      <td>0.333333</td>\n",
       "      <td>1.0</td>\n",
       "    </tr>\n",
       "    <tr>\n",
       "      <th>36704</th>\n",
       "      <td>ZW</td>\n",
       "      <td>2020-10-30</td>\n",
       "      <td>8362</td>\n",
       "      <td>13</td>\n",
       "      <td>Confirmed</td>\n",
       "      <td>C2</td>\n",
       "      <td>1.0</td>\n",
       "      <td>True</td>\n",
       "      <td>2</td>\n",
       "      <td>2</td>\n",
       "      <td>0.166667</td>\n",
       "      <td>0.000000</td>\n",
       "      <td>1.0</td>\n",
       "    </tr>\n",
       "    <tr>\n",
       "      <th>36705</th>\n",
       "      <td>ZW</td>\n",
       "      <td>2020-10-30</td>\n",
       "      <td>8362</td>\n",
       "      <td>13</td>\n",
       "      <td>Confirmed</td>\n",
       "      <td>C3</td>\n",
       "      <td>2.0</td>\n",
       "      <td>True</td>\n",
       "      <td>2</td>\n",
       "      <td>3</td>\n",
       "      <td>0.333333</td>\n",
       "      <td>0.333333</td>\n",
       "      <td>1.0</td>\n",
       "    </tr>\n",
       "    <tr>\n",
       "      <th>36706</th>\n",
       "      <td>ZW</td>\n",
       "      <td>2020-10-30</td>\n",
       "      <td>8362</td>\n",
       "      <td>13</td>\n",
       "      <td>Confirmed</td>\n",
       "      <td>C4</td>\n",
       "      <td>3.0</td>\n",
       "      <td>True</td>\n",
       "      <td>2</td>\n",
       "      <td>4</td>\n",
       "      <td>0.500000</td>\n",
       "      <td>0.666667</td>\n",
       "      <td>1.0</td>\n",
       "    </tr>\n",
       "    <tr>\n",
       "      <th>36707</th>\n",
       "      <td>ZW</td>\n",
       "      <td>2020-10-30</td>\n",
       "      <td>8362</td>\n",
       "      <td>13</td>\n",
       "      <td>Confirmed</td>\n",
       "      <td>C5</td>\n",
       "      <td>1.0</td>\n",
       "      <td>True</td>\n",
       "      <td>2</td>\n",
       "      <td>5</td>\n",
       "      <td>0.666667</td>\n",
       "      <td>0.000000</td>\n",
       "      <td>1.0</td>\n",
       "    </tr>\n",
       "    <tr>\n",
       "      <th>36708</th>\n",
       "      <td>ZW</td>\n",
       "      <td>2020-10-30</td>\n",
       "      <td>8362</td>\n",
       "      <td>13</td>\n",
       "      <td>Confirmed</td>\n",
       "      <td>C6</td>\n",
       "      <td>2.0</td>\n",
       "      <td>True</td>\n",
       "      <td>2</td>\n",
       "      <td>6</td>\n",
       "      <td>0.833333</td>\n",
       "      <td>0.333333</td>\n",
       "      <td>1.0</td>\n",
       "    </tr>\n",
       "    <tr>\n",
       "      <th>36709</th>\n",
       "      <td>ZW</td>\n",
       "      <td>2020-10-30</td>\n",
       "      <td>8362</td>\n",
       "      <td>13</td>\n",
       "      <td>Confirmed</td>\n",
       "      <td>C7</td>\n",
       "      <td>2.0</td>\n",
       "      <td>True</td>\n",
       "      <td>2</td>\n",
       "      <td>7</td>\n",
       "      <td>1.000000</td>\n",
       "      <td>0.333333</td>\n",
       "      <td>1.0</td>\n",
       "    </tr>\n",
       "    <tr>\n",
       "      <th>36710</th>\n",
       "      <td>ZW</td>\n",
       "      <td>2020-10-30</td>\n",
       "      <td>8362</td>\n",
       "      <td>13</td>\n",
       "      <td>Confirmed</td>\n",
       "      <td>E1</td>\n",
       "      <td>1.0</td>\n",
       "      <td>True</td>\n",
       "      <td>0</td>\n",
       "      <td>1</td>\n",
       "      <td>0.000000</td>\n",
       "      <td>0.000000</td>\n",
       "      <td>0.0</td>\n",
       "    </tr>\n",
       "    <tr>\n",
       "      <th>36711</th>\n",
       "      <td>ZW</td>\n",
       "      <td>2020-10-30</td>\n",
       "      <td>8362</td>\n",
       "      <td>13</td>\n",
       "      <td>Confirmed</td>\n",
       "      <td>H1</td>\n",
       "      <td>2.0</td>\n",
       "      <td>True</td>\n",
       "      <td>1</td>\n",
       "      <td>1</td>\n",
       "      <td>0.000000</td>\n",
       "      <td>0.333333</td>\n",
       "      <td>0.5</td>\n",
       "    </tr>\n",
       "    <tr>\n",
       "      <th>36712</th>\n",
       "      <td>ZW</td>\n",
       "      <td>2020-10-30</td>\n",
       "      <td>8362</td>\n",
       "      <td>13</td>\n",
       "      <td>Confirmed</td>\n",
       "      <td>H6</td>\n",
       "      <td>3.0</td>\n",
       "      <td>True</td>\n",
       "      <td>1</td>\n",
       "      <td>6</td>\n",
       "      <td>0.833333</td>\n",
       "      <td>0.666667</td>\n",
       "      <td>0.5</td>\n",
       "    </tr>\n",
       "    <tr>\n",
       "      <th>36713</th>\n",
       "      <td>ZW</td>\n",
       "      <td>2020-11-09</td>\n",
       "      <td>8561</td>\n",
       "      <td>30</td>\n",
       "      <td>Confirmed</td>\n",
       "      <td>C1</td>\n",
       "      <td>1.0</td>\n",
       "      <td>True</td>\n",
       "      <td>2</td>\n",
       "      <td>1</td>\n",
       "      <td>0.000000</td>\n",
       "      <td>0.000000</td>\n",
       "      <td>1.0</td>\n",
       "    </tr>\n",
       "    <tr>\n",
       "      <th>36714</th>\n",
       "      <td>ZW</td>\n",
       "      <td>2020-11-20</td>\n",
       "      <td>9120</td>\n",
       "      <td>74</td>\n",
       "      <td>Confirmed</td>\n",
       "      <td>C1</td>\n",
       "      <td>2.0</td>\n",
       "      <td>False</td>\n",
       "      <td>2</td>\n",
       "      <td>1</td>\n",
       "      <td>0.000000</td>\n",
       "      <td>0.333333</td>\n",
       "      <td>1.0</td>\n",
       "    </tr>\n",
       "  </tbody>\n",
       "</table>\n",
       "<p>36715 rows × 13 columns</p>\n",
       "</div>"
      ],
      "text/plain": [
       "       ID       Date Cases  Cases_New       Type PolicyType  PolicyValue  \\\n",
       "0      AD 2020-03-11     1          0  Confirmed         H6          2.0   \n",
       "1      AD 2020-03-13     1          0  Confirmed         C3          1.0   \n",
       "2      AD 2020-03-13     1          0  Confirmed         C6          1.0   \n",
       "3      AD 2020-03-13     1          0  Confirmed         E1          2.0   \n",
       "4      AD 2020-03-14     1          0  Confirmed         C2          3.0   \n",
       "5      AD 2020-03-16     2          1  Confirmed         C1          3.0   \n",
       "6      AD 2020-03-25   188         24  Confirmed         C1          3.0   \n",
       "7      AD 2020-03-25   188         24  Confirmed         C5          1.0   \n",
       "8      AD 2020-03-25   188         24  Confirmed         H1          2.0   \n",
       "9      AD 2020-04-14   659         13  Confirmed         C5          1.0   \n",
       "10     AD 2020-04-18   704          8  Confirmed         C1          3.0   \n",
       "11     AD 2020-04-20   717          4  Confirmed         C2          2.0   \n",
       "12     AD 2020-05-09   754          2  Confirmed         C1          3.0   \n",
       "13     AD 2020-05-09   754          2  Confirmed         C2          2.0   \n",
       "14     AD 2020-05-09   754          2  Confirmed         C5          1.0   \n",
       "15     AD 2020-05-09   754          2  Confirmed         C6          1.0   \n",
       "16     AD 2020-05-09   754          2  Confirmed         E1          2.0   \n",
       "17     AD 2020-05-13   760          2  Confirmed         C6          1.0   \n",
       "18     AD 2020-05-22   762          0  Confirmed         C1          3.0   \n",
       "19     AD 2020-07-07   855          0  Confirmed         C2          2.0   \n",
       "20     AD 2020-07-07   855          0  Confirmed         C3          2.0   \n",
       "21     AD 2020-07-07   855          0  Confirmed         C4          3.0   \n",
       "22     AD 2020-07-07   855          0  Confirmed         C5          1.0   \n",
       "23     AD 2020-07-07   855          0  Confirmed         C6          1.0   \n",
       "24     AD 2020-07-10   855          0  Confirmed         E1          2.0   \n",
       "25     AD 2020-07-11   855          0  Confirmed         E1          2.0   \n",
       "26     AD 2020-07-15   862          1  Confirmed         H6          3.0   \n",
       "27     AD 2020-07-21   884          0  Confirmed         C3          1.0   \n",
       "28     AD 2020-07-22   889          5  Confirmed         H1          1.0   \n",
       "29     AD 2020-08-18  1005          0  Confirmed         C2          2.0   \n",
       "...    ..        ...   ...        ...        ...        ...          ...   \n",
       "36685  ZW 2020-09-29  7837         21  Confirmed         C6          2.0   \n",
       "36686  ZW 2020-09-29  7837         21  Confirmed         C7          2.0   \n",
       "36687  ZW 2020-09-29  7837         21  Confirmed         H6          1.0   \n",
       "36688  ZW 2020-10-14  8055         19  Confirmed         C1          2.0   \n",
       "36689  ZW 2020-10-14  8055         19  Confirmed         C2          1.0   \n",
       "36690  ZW 2020-10-14  8055         19  Confirmed         C3          2.0   \n",
       "36691  ZW 2020-10-14  8055         19  Confirmed         C4          3.0   \n",
       "36692  ZW 2020-10-14  8055         19  Confirmed         C5          1.0   \n",
       "36693  ZW 2020-10-14  8055         19  Confirmed         C6          2.0   \n",
       "36694  ZW 2020-10-14  8055         19  Confirmed         C7          2.0   \n",
       "36695  ZW 2020-10-14  8055         19  Confirmed         E1          1.0   \n",
       "36696  ZW 2020-10-14  8055         19  Confirmed         H1          2.0   \n",
       "36697  ZW 2020-10-14  8055         19  Confirmed         H6          1.0   \n",
       "36698  ZW 2020-10-26  8303         27  Confirmed         C1          2.0   \n",
       "36699  ZW 2020-10-26  8303         27  Confirmed         C2          1.0   \n",
       "36700  ZW 2020-10-26  8303         27  Confirmed         C3          2.0   \n",
       "36701  ZW 2020-10-26  8303         27  Confirmed         C4          3.0   \n",
       "36702  ZW 2020-10-26  8303         27  Confirmed         H6          3.0   \n",
       "36703  ZW 2020-10-30  8362         13  Confirmed         C1          2.0   \n",
       "36704  ZW 2020-10-30  8362         13  Confirmed         C2          1.0   \n",
       "36705  ZW 2020-10-30  8362         13  Confirmed         C3          2.0   \n",
       "36706  ZW 2020-10-30  8362         13  Confirmed         C4          3.0   \n",
       "36707  ZW 2020-10-30  8362         13  Confirmed         C5          1.0   \n",
       "36708  ZW 2020-10-30  8362         13  Confirmed         C6          2.0   \n",
       "36709  ZW 2020-10-30  8362         13  Confirmed         C7          2.0   \n",
       "36710  ZW 2020-10-30  8362         13  Confirmed         E1          1.0   \n",
       "36711  ZW 2020-10-30  8362         13  Confirmed         H1          2.0   \n",
       "36712  ZW 2020-10-30  8362         13  Confirmed         H6          3.0   \n",
       "36713  ZW 2020-11-09  8561         30  Confirmed         C1          1.0   \n",
       "36714  ZW 2020-11-20  9120         74  Confirmed         C1          2.0   \n",
       "\n",
       "      PolicyFlag  PolicyFamily  policy_number  policy_number_scaled  \\\n",
       "0           True             1              6              0.833333   \n",
       "1           True             2              3              0.333333   \n",
       "2           True             2              6              0.833333   \n",
       "3           True             0              1              0.000000   \n",
       "4           True             2              2              0.166667   \n",
       "5           True             2              1              0.000000   \n",
       "6           True             2              1              0.000000   \n",
       "7           True             2              5              0.666667   \n",
       "8           True             1              1              0.000000   \n",
       "9           True             2              5              0.666667   \n",
       "10          True             2              1              0.000000   \n",
       "11          True             2              2              0.166667   \n",
       "12          True             2              1              0.000000   \n",
       "13          True             2              2              0.166667   \n",
       "14          True             2              5              0.666667   \n",
       "15          True             2              6              0.833333   \n",
       "16          True             0              1              0.000000   \n",
       "17          True             2              6              0.833333   \n",
       "18          True             2              1              0.000000   \n",
       "19          True             2              2              0.166667   \n",
       "20          True             2              3              0.333333   \n",
       "21          True             2              4              0.500000   \n",
       "22          True             2              5              0.666667   \n",
       "23          True             2              6              0.833333   \n",
       "24          True             0              1              0.000000   \n",
       "25          True             0              1              0.000000   \n",
       "26          True             1              6              0.833333   \n",
       "27          True             2              3              0.333333   \n",
       "28          True             1              1              0.000000   \n",
       "29          True             2              2              0.166667   \n",
       "...          ...           ...            ...                   ...   \n",
       "36685       True             2              6              0.833333   \n",
       "36686       True             2              7              1.000000   \n",
       "36687       True             1              6              0.833333   \n",
       "36688       True             2              1              0.000000   \n",
       "36689       True             2              2              0.166667   \n",
       "36690       True             2              3              0.333333   \n",
       "36691       True             2              4              0.500000   \n",
       "36692       True             2              5              0.666667   \n",
       "36693       True             2              6              0.833333   \n",
       "36694       True             2              7              1.000000   \n",
       "36695       True             0              1              0.000000   \n",
       "36696       True             1              1              0.000000   \n",
       "36697       True             1              6              0.833333   \n",
       "36698       True             2              1              0.000000   \n",
       "36699       True             2              2              0.166667   \n",
       "36700       True             2              3              0.333333   \n",
       "36701       True             2              4              0.500000   \n",
       "36702       True             1              6              0.833333   \n",
       "36703       True             2              1              0.000000   \n",
       "36704       True             2              2              0.166667   \n",
       "36705       True             2              3              0.333333   \n",
       "36706       True             2              4              0.500000   \n",
       "36707       True             2              5              0.666667   \n",
       "36708       True             2              6              0.833333   \n",
       "36709       True             2              7              1.000000   \n",
       "36710       True             0              1              0.000000   \n",
       "36711       True             1              1              0.000000   \n",
       "36712       True             1              6              0.833333   \n",
       "36713       True             2              1              0.000000   \n",
       "36714      False             2              1              0.000000   \n",
       "\n",
       "       policy_value_scaled  policy_Family_scaled  \n",
       "0                 0.333333                   0.5  \n",
       "1                 0.000000                   1.0  \n",
       "2                 0.000000                   1.0  \n",
       "3                 0.333333                   0.0  \n",
       "4                 0.666667                   1.0  \n",
       "5                 0.666667                   1.0  \n",
       "6                 0.666667                   1.0  \n",
       "7                 0.000000                   1.0  \n",
       "8                 0.333333                   0.5  \n",
       "9                 0.000000                   1.0  \n",
       "10                0.666667                   1.0  \n",
       "11                0.333333                   1.0  \n",
       "12                0.666667                   1.0  \n",
       "13                0.333333                   1.0  \n",
       "14                0.000000                   1.0  \n",
       "15                0.000000                   1.0  \n",
       "16                0.333333                   0.0  \n",
       "17                0.000000                   1.0  \n",
       "18                0.666667                   1.0  \n",
       "19                0.333333                   1.0  \n",
       "20                0.333333                   1.0  \n",
       "21                0.666667                   1.0  \n",
       "22                0.000000                   1.0  \n",
       "23                0.000000                   1.0  \n",
       "24                0.333333                   0.0  \n",
       "25                0.333333                   0.0  \n",
       "26                0.666667                   0.5  \n",
       "27                0.000000                   1.0  \n",
       "28                0.000000                   0.5  \n",
       "29                0.333333                   1.0  \n",
       "...                    ...                   ...  \n",
       "36685             0.333333                   1.0  \n",
       "36686             0.333333                   1.0  \n",
       "36687             0.000000                   0.5  \n",
       "36688             0.333333                   1.0  \n",
       "36689             0.000000                   1.0  \n",
       "36690             0.333333                   1.0  \n",
       "36691             0.666667                   1.0  \n",
       "36692             0.000000                   1.0  \n",
       "36693             0.333333                   1.0  \n",
       "36694             0.333333                   1.0  \n",
       "36695             0.000000                   0.0  \n",
       "36696             0.333333                   0.5  \n",
       "36697             0.000000                   0.5  \n",
       "36698             0.333333                   1.0  \n",
       "36699             0.000000                   1.0  \n",
       "36700             0.333333                   1.0  \n",
       "36701             0.666667                   1.0  \n",
       "36702             0.666667                   0.5  \n",
       "36703             0.333333                   1.0  \n",
       "36704             0.000000                   1.0  \n",
       "36705             0.333333                   1.0  \n",
       "36706             0.666667                   1.0  \n",
       "36707             0.000000                   1.0  \n",
       "36708             0.333333                   1.0  \n",
       "36709             0.333333                   1.0  \n",
       "36710             0.000000                   0.0  \n",
       "36711             0.333333                   0.5  \n",
       "36712             0.666667                   0.5  \n",
       "36713             0.000000                   1.0  \n",
       "36714             0.333333                   1.0  \n",
       "\n",
       "[36715 rows x 13 columns]"
      ]
     },
     "execution_count": 49,
     "metadata": {},
     "output_type": "execute_result"
    }
   ],
   "source": [
    "df_merge_confirmed1"
   ]
  },
  {
   "cell_type": "code",
   "execution_count": 50,
   "metadata": {
    "ExecuteTime": {
     "end_time": "2020-12-15T07:19:48.936581Z",
     "start_time": "2020-12-15T07:19:48.922266Z"
    }
   },
   "outputs": [],
   "source": [
    "fr = df_merge_confirmed1[df_merge_confirmed1['ID']=='FR']"
   ]
  },
  {
   "cell_type": "code",
   "execution_count": null,
   "metadata": {
    "ExecuteTime": {
     "end_time": "2020-12-14T21:29:29.701543Z",
     "start_time": "2020-12-14T21:29:29.691818Z"
    }
   },
   "outputs": [],
   "source": []
  },
  {
   "cell_type": "code",
   "execution_count": 51,
   "metadata": {
    "ExecuteTime": {
     "end_time": "2020-12-15T07:19:48.955569Z",
     "start_time": "2020-12-15T07:19:48.942005Z"
    }
   },
   "outputs": [],
   "source": [
    "fr2 = pd.get_dummies(fr, columns=[\"PolicyType\"])"
   ]
  },
  {
   "cell_type": "code",
   "execution_count": 52,
   "metadata": {
    "ExecuteTime": {
     "end_time": "2020-12-15T07:19:48.967822Z",
     "start_time": "2020-12-15T07:19:48.958947Z"
    }
   },
   "outputs": [
    {
     "data": {
      "text/plain": [
       "Index(['ID', 'Date', 'Cases', 'Cases_New', 'Type', 'PolicyValue', 'PolicyFlag',\n",
       "       'PolicyFamily', 'policy_number', 'policy_number_scaled',\n",
       "       'policy_value_scaled', 'policy_Family_scaled', 'PolicyType_C1',\n",
       "       'PolicyType_C2', 'PolicyType_C3', 'PolicyType_C4', 'PolicyType_C5',\n",
       "       'PolicyType_C6', 'PolicyType_C7', 'PolicyType_E1', 'PolicyType_H1',\n",
       "       'PolicyType_H6'],\n",
       "      dtype='object')"
      ]
     },
     "execution_count": 52,
     "metadata": {},
     "output_type": "execute_result"
    }
   ],
   "source": [
    "fr2.columns"
   ]
  },
  {
   "cell_type": "code",
   "execution_count": 53,
   "metadata": {
    "ExecuteTime": {
     "end_time": "2020-12-15T07:19:49.005773Z",
     "start_time": "2020-12-15T07:19:48.979185Z"
    }
   },
   "outputs": [],
   "source": [
    "X = fr2.drop(columns= 'Date', 'Cases', 'Cases_New', 'Type', 'PolicyValue', 'PolicyFlag',\n",
    "       'PolicyFamily', 'policy_number', 'policy_number_scaled',\n",
    "       'policy_value_scaled', 'policy_Family_scaled'])\n",
    "\n",
    "y = fr2['Cases_New']"
   ]
  },
  {
   "cell_type": "code",
   "execution_count": 54,
   "metadata": {
    "ExecuteTime": {
     "end_time": "2020-12-15T07:19:49.027375Z",
     "start_time": "2020-12-15T07:19:49.013447Z"
    },
    "scrolled": true
   },
   "outputs": [
    {
     "name": "stdout",
     "output_type": "stream",
     "text": [
      "(156, 10)\n",
      "(156,)\n",
      "PolicyType_C1    uint8\n",
      "PolicyType_C2    uint8\n",
      "PolicyType_C3    uint8\n",
      "PolicyType_C4    uint8\n",
      "PolicyType_C5    uint8\n",
      "PolicyType_C6    uint8\n",
      "PolicyType_C7    uint8\n",
      "PolicyType_E1    uint8\n",
      "PolicyType_H1    uint8\n",
      "PolicyType_H6    uint8\n",
      "dtype: object\n"
     ]
    }
   ],
   "source": [
    "print(X.shape)\n",
    "print(y.shape)\n",
    "print(X.dtypes)"
   ]
  },
  {
   "cell_type": "code",
   "execution_count": 1,
   "metadata": {
    "ExecuteTime": {
     "end_time": "2020-12-15T10:45:42.209751Z",
     "start_time": "2020-12-15T10:45:41.985950Z"
    }
   },
   "outputs": [
    {
     "ename": "NameError",
     "evalue": "name 'X' is not defined",
     "output_type": "error",
     "traceback": [
      "\u001b[0;31m---------------------------------------------------------------------------\u001b[0m",
      "\u001b[0;31mNameError\u001b[0m                                 Traceback (most recent call last)",
      "\u001b[0;32m<ipython-input-1-bc5f1a0adac8>\u001b[0m in \u001b[0;36m<module>\u001b[0;34m\u001b[0m\n\u001b[0;32m----> 1\u001b[0;31m \u001b[0mX\u001b[0m\u001b[0;34m.\u001b[0m\u001b[0mshape\u001b[0m\u001b[0;34m\u001b[0m\u001b[0;34m\u001b[0m\u001b[0m\n\u001b[0m",
      "\u001b[0;31mNameError\u001b[0m: name 'X' is not defined"
     ]
    }
   ],
   "source": [
    "X.shape"
   ]
  },
  {
   "cell_type": "markdown",
   "metadata": {},
   "source": [
    "# Stats model"
   ]
  },
  {
   "cell_type": "code",
   "execution_count": 70,
   "metadata": {
    "ExecuteTime": {
     "end_time": "2020-12-14T21:31:47.753312Z",
     "start_time": "2020-12-14T21:31:47.744148Z"
    }
   },
   "outputs": [],
   "source": [
    "model = sm.OLS(y,X)\n",
    "results = model.fit()"
   ]
  },
  {
   "cell_type": "code",
   "execution_count": 71,
   "metadata": {
    "ExecuteTime": {
     "end_time": "2020-12-14T21:31:48.767150Z",
     "start_time": "2020-12-14T21:31:48.738797Z"
    }
   },
   "outputs": [
    {
     "data": {
      "text/html": [
       "<table class=\"simpletable\">\n",
       "<caption>OLS Regression Results</caption>\n",
       "<tr>\n",
       "  <th>Dep. Variable:</th>        <td>Cases_New</td>    <th>  R-squared:         </th> <td>   0.075</td>\n",
       "</tr>\n",
       "<tr>\n",
       "  <th>Model:</th>                   <td>OLS</td>       <th>  Adj. R-squared:    </th> <td>   0.018</td>\n",
       "</tr>\n",
       "<tr>\n",
       "  <th>Method:</th>             <td>Least Squares</td>  <th>  F-statistic:       </th> <td>   1.310</td>\n",
       "</tr>\n",
       "<tr>\n",
       "  <th>Date:</th>             <td>Mon, 14 Dec 2020</td> <th>  Prob (F-statistic):</th>  <td> 0.237</td> \n",
       "</tr>\n",
       "<tr>\n",
       "  <th>Time:</th>                 <td>22:31:48</td>     <th>  Log-Likelihood:    </th> <td> -1742.7</td>\n",
       "</tr>\n",
       "<tr>\n",
       "  <th>No. Observations:</th>      <td>   156</td>      <th>  AIC:               </th> <td>   3505.</td>\n",
       "</tr>\n",
       "<tr>\n",
       "  <th>Df Residuals:</th>          <td>   146</td>      <th>  BIC:               </th> <td>   3536.</td>\n",
       "</tr>\n",
       "<tr>\n",
       "  <th>Df Model:</th>              <td>     9</td>      <th>                     </th>     <td> </td>   \n",
       "</tr>\n",
       "<tr>\n",
       "  <th>Covariance Type:</th>      <td>nonrobust</td>    <th>                     </th>     <td> </td>   \n",
       "</tr>\n",
       "</table>\n",
       "<table class=\"simpletable\">\n",
       "<tr>\n",
       "        <td></td>           <th>coef</th>     <th>std err</th>      <th>t</th>      <th>P>|t|</th>  <th>[0.025</th>    <th>0.975]</th>  \n",
       "</tr>\n",
       "<tr>\n",
       "  <th>PolicyType_C1</th> <td> 1.271e+04</td> <td> 4188.705</td> <td>    3.035</td> <td> 0.003</td> <td> 4433.226</td> <td>  2.1e+04</td>\n",
       "</tr>\n",
       "<tr>\n",
       "  <th>PolicyType_C2</th> <td> 8647.1395</td> <td> 2710.078</td> <td>    3.191</td> <td> 0.002</td> <td> 3291.088</td> <td>  1.4e+04</td>\n",
       "</tr>\n",
       "<tr>\n",
       "  <th>PolicyType_C3</th> <td> 1.224e+04</td> <td> 4588.497</td> <td>    2.667</td> <td> 0.009</td> <td> 3168.011</td> <td> 2.13e+04</td>\n",
       "</tr>\n",
       "<tr>\n",
       "  <th>PolicyType_C4</th> <td> 1.366e+04</td> <td> 4310.142</td> <td>    3.170</td> <td> 0.002</td> <td> 5145.316</td> <td> 2.22e+04</td>\n",
       "</tr>\n",
       "<tr>\n",
       "  <th>PolicyType_C5</th> <td>  582.0000</td> <td> 1.03e+04</td> <td>    0.057</td> <td> 0.955</td> <td>-1.97e+04</td> <td> 2.09e+04</td>\n",
       "</tr>\n",
       "<tr>\n",
       "  <th>PolicyType_C6</th> <td> 1.726e+04</td> <td> 4928.836</td> <td>    3.502</td> <td> 0.001</td> <td> 7522.070</td> <td>  2.7e+04</td>\n",
       "</tr>\n",
       "<tr>\n",
       "  <th>PolicyType_C7</th> <td> 1.233e+04</td> <td> 4442.793</td> <td>    2.775</td> <td> 0.006</td> <td> 3546.318</td> <td> 2.11e+04</td>\n",
       "</tr>\n",
       "<tr>\n",
       "  <th>PolicyType_E1</th> <td> 2.634e+04</td> <td> 5619.738</td> <td>    4.687</td> <td> 0.000</td> <td> 1.52e+04</td> <td> 3.74e+04</td>\n",
       "</tr>\n",
       "<tr>\n",
       "  <th>PolicyType_H1</th> <td> 1.936e+04</td> <td> 5619.738</td> <td>    3.445</td> <td> 0.001</td> <td> 8254.255</td> <td> 3.05e+04</td>\n",
       "</tr>\n",
       "<tr>\n",
       "  <th>PolicyType_H6</th> <td> 1.275e+04</td> <td> 5358.210</td> <td>    2.379</td> <td> 0.019</td> <td> 2160.052</td> <td> 2.33e+04</td>\n",
       "</tr>\n",
       "</table>\n",
       "<table class=\"simpletable\">\n",
       "<tr>\n",
       "  <th>Omnibus:</th>       <td>39.964</td> <th>  Durbin-Watson:     </th> <td>   0.262</td>\n",
       "</tr>\n",
       "<tr>\n",
       "  <th>Prob(Omnibus):</th> <td> 0.000</td> <th>  Jarque-Bera (JB):  </th> <td>  60.732</td>\n",
       "</tr>\n",
       "<tr>\n",
       "  <th>Skew:</th>          <td> 1.426</td> <th>  Prob(JB):          </th> <td>6.49e-14</td>\n",
       "</tr>\n",
       "<tr>\n",
       "  <th>Kurtosis:</th>      <td> 4.099</td> <th>  Cond. No.          </th> <td>    3.79</td>\n",
       "</tr>\n",
       "</table><br/><br/>Warnings:<br/>[1] Standard Errors assume that the covariance matrix of the errors is correctly specified."
      ],
      "text/plain": [
       "<class 'statsmodels.iolib.summary.Summary'>\n",
       "\"\"\"\n",
       "                            OLS Regression Results                            \n",
       "==============================================================================\n",
       "Dep. Variable:              Cases_New   R-squared:                       0.075\n",
       "Model:                            OLS   Adj. R-squared:                  0.018\n",
       "Method:                 Least Squares   F-statistic:                     1.310\n",
       "Date:                Mon, 14 Dec 2020   Prob (F-statistic):              0.237\n",
       "Time:                        22:31:48   Log-Likelihood:                -1742.7\n",
       "No. Observations:                 156   AIC:                             3505.\n",
       "Df Residuals:                     146   BIC:                             3536.\n",
       "Df Model:                           9                                         \n",
       "Covariance Type:            nonrobust                                         \n",
       "=================================================================================\n",
       "                    coef    std err          t      P>|t|      [0.025      0.975]\n",
       "---------------------------------------------------------------------------------\n",
       "PolicyType_C1  1.271e+04   4188.705      3.035      0.003    4433.226     2.1e+04\n",
       "PolicyType_C2  8647.1395   2710.078      3.191      0.002    3291.088     1.4e+04\n",
       "PolicyType_C3  1.224e+04   4588.497      2.667      0.009    3168.011    2.13e+04\n",
       "PolicyType_C4  1.366e+04   4310.142      3.170      0.002    5145.316    2.22e+04\n",
       "PolicyType_C5   582.0000   1.03e+04      0.057      0.955   -1.97e+04    2.09e+04\n",
       "PolicyType_C6  1.726e+04   4928.836      3.502      0.001    7522.070     2.7e+04\n",
       "PolicyType_C7  1.233e+04   4442.793      2.775      0.006    3546.318    2.11e+04\n",
       "PolicyType_E1  2.634e+04   5619.738      4.687      0.000    1.52e+04    3.74e+04\n",
       "PolicyType_H1  1.936e+04   5619.738      3.445      0.001    8254.255    3.05e+04\n",
       "PolicyType_H6  1.275e+04   5358.210      2.379      0.019    2160.052    2.33e+04\n",
       "==============================================================================\n",
       "Omnibus:                       39.964   Durbin-Watson:                   0.262\n",
       "Prob(Omnibus):                  0.000   Jarque-Bera (JB):               60.732\n",
       "Skew:                           1.426   Prob(JB):                     6.49e-14\n",
       "Kurtosis:                       4.099   Cond. No.                         3.79\n",
       "==============================================================================\n",
       "\n",
       "Warnings:\n",
       "[1] Standard Errors assume that the covariance matrix of the errors is correctly specified.\n",
       "\"\"\""
      ]
     },
     "execution_count": 71,
     "metadata": {},
     "output_type": "execute_result"
    }
   ],
   "source": [
    "results.summary() "
   ]
  },
  {
   "cell_type": "markdown",
   "metadata": {},
   "source": [
    "\n",
    "# Baseline model"
   ]
  },
  {
   "cell_type": "code",
   "execution_count": 72,
   "metadata": {
    "ExecuteTime": {
     "end_time": "2020-12-14T21:32:22.552637Z",
     "start_time": "2020-12-14T21:32:22.543318Z"
    }
   },
   "outputs": [],
   "source": [
    "X_train, X_test, y_train, y_test = train_test_split(\n",
    "...     X, y, test_size=0.30, random_state=1)"
   ]
  },
  {
   "cell_type": "code",
   "execution_count": 73,
   "metadata": {
    "ExecuteTime": {
     "end_time": "2020-12-14T21:32:23.224400Z",
     "start_time": "2020-12-14T21:32:23.220390Z"
    }
   },
   "outputs": [],
   "source": [
    "from sklearn.linear_model import LinearRegression"
   ]
  },
  {
   "cell_type": "code",
   "execution_count": 74,
   "metadata": {
    "ExecuteTime": {
     "end_time": "2020-12-14T21:32:24.091540Z",
     "start_time": "2020-12-14T21:32:24.078452Z"
    }
   },
   "outputs": [
    {
     "data": {
      "text/plain": [
       "-0.15833424027666698"
      ]
     },
     "execution_count": 74,
     "metadata": {},
     "output_type": "execute_result"
    }
   ],
   "source": [
    "# Logistic regression\n",
    "linereg = LinearRegression()\n",
    "linereg.fit(X_train, y_train)\n",
    "linereg.score(X_test,y_test)"
   ]
  },
  {
   "cell_type": "code",
   "execution_count": null,
   "metadata": {},
   "outputs": [],
   "source": []
  },
  {
   "cell_type": "code",
   "execution_count": null,
   "metadata": {},
   "outputs": [],
   "source": []
  },
  {
   "cell_type": "code",
   "execution_count": null,
   "metadata": {},
   "outputs": [],
   "source": []
  },
  {
   "cell_type": "code",
   "execution_count": null,
   "metadata": {},
   "outputs": [],
   "source": []
  },
  {
   "cell_type": "code",
   "execution_count": null,
   "metadata": {},
   "outputs": [],
   "source": []
  },
  {
   "cell_type": "code",
   "execution_count": null,
   "metadata": {},
   "outputs": [],
   "source": []
  },
  {
   "cell_type": "code",
   "execution_count": null,
   "metadata": {},
   "outputs": [],
   "source": []
  },
  {
   "cell_type": "code",
   "execution_count": null,
   "metadata": {},
   "outputs": [],
   "source": []
  },
  {
   "cell_type": "code",
   "execution_count": null,
   "metadata": {},
   "outputs": [],
   "source": []
  },
  {
   "cell_type": "code",
   "execution_count": null,
   "metadata": {},
   "outputs": [],
   "source": []
  },
  {
   "cell_type": "code",
   "execution_count": null,
   "metadata": {},
   "outputs": [],
   "source": []
  },
  {
   "cell_type": "code",
   "execution_count": null,
   "metadata": {},
   "outputs": [],
   "source": []
  },
  {
   "cell_type": "code",
   "execution_count": 80,
   "metadata": {
    "ExecuteTime": {
     "end_time": "2020-12-14T21:39:36.837729Z",
     "start_time": "2020-12-14T21:39:36.821156Z"
    }
   },
   "outputs": [],
   "source": [
    "merge = df_merge_confirmed.copy()\n",
    "merge['J14'] = -10000\n",
    "merge['J-14'] = -10000\n",
    "merge['J7'] = -10000\n",
    "merge['J21'] = -10000"
   ]
  },
  {
   "cell_type": "code",
   "execution_count": 81,
   "metadata": {
    "ExecuteTime": {
     "end_time": "2020-12-14T21:40:13.077581Z",
     "start_time": "2020-12-14T21:40:13.053883Z"
    }
   },
   "outputs": [
    {
     "data": {
      "text/html": [
       "<div>\n",
       "<style scoped>\n",
       "    .dataframe tbody tr th:only-of-type {\n",
       "        vertical-align: middle;\n",
       "    }\n",
       "\n",
       "    .dataframe tbody tr th {\n",
       "        vertical-align: top;\n",
       "    }\n",
       "\n",
       "    .dataframe thead th {\n",
       "        text-align: right;\n",
       "    }\n",
       "</style>\n",
       "<table border=\"1\" class=\"dataframe\">\n",
       "  <thead>\n",
       "    <tr style=\"text-align: right;\">\n",
       "      <th></th>\n",
       "      <th>ID</th>\n",
       "      <th>Date</th>\n",
       "      <th>Cases</th>\n",
       "      <th>Cases_New</th>\n",
       "      <th>Type</th>\n",
       "      <th>PolicyType</th>\n",
       "      <th>PolicyValue</th>\n",
       "      <th>PolicyFlag</th>\n",
       "      <th>PolicyFamily</th>\n",
       "      <th>J14</th>\n",
       "      <th>J-14</th>\n",
       "      <th>J7</th>\n",
       "      <th>J21</th>\n",
       "    </tr>\n",
       "  </thead>\n",
       "  <tbody>\n",
       "    <tr>\n",
       "      <th>0</th>\n",
       "      <td>AD</td>\n",
       "      <td>2020-03-11</td>\n",
       "      <td>1</td>\n",
       "      <td>0</td>\n",
       "      <td>Confirmed</td>\n",
       "      <td>H6</td>\n",
       "      <td>2.0</td>\n",
       "      <td>True</td>\n",
       "      <td>1</td>\n",
       "      <td>-10000</td>\n",
       "      <td>-10000</td>\n",
       "      <td>-10000</td>\n",
       "      <td>-10000</td>\n",
       "    </tr>\n",
       "    <tr>\n",
       "      <th>1</th>\n",
       "      <td>AD</td>\n",
       "      <td>2020-03-13</td>\n",
       "      <td>1</td>\n",
       "      <td>0</td>\n",
       "      <td>Confirmed</td>\n",
       "      <td>C3</td>\n",
       "      <td>1.0</td>\n",
       "      <td>True</td>\n",
       "      <td>2</td>\n",
       "      <td>-10000</td>\n",
       "      <td>-10000</td>\n",
       "      <td>-10000</td>\n",
       "      <td>-10000</td>\n",
       "    </tr>\n",
       "    <tr>\n",
       "      <th>2</th>\n",
       "      <td>AD</td>\n",
       "      <td>2020-03-13</td>\n",
       "      <td>1</td>\n",
       "      <td>0</td>\n",
       "      <td>Confirmed</td>\n",
       "      <td>C6</td>\n",
       "      <td>1.0</td>\n",
       "      <td>True</td>\n",
       "      <td>2</td>\n",
       "      <td>-10000</td>\n",
       "      <td>-10000</td>\n",
       "      <td>-10000</td>\n",
       "      <td>-10000</td>\n",
       "    </tr>\n",
       "    <tr>\n",
       "      <th>3</th>\n",
       "      <td>AD</td>\n",
       "      <td>2020-03-13</td>\n",
       "      <td>1</td>\n",
       "      <td>0</td>\n",
       "      <td>Confirmed</td>\n",
       "      <td>E1</td>\n",
       "      <td>2.0</td>\n",
       "      <td>True</td>\n",
       "      <td>0</td>\n",
       "      <td>-10000</td>\n",
       "      <td>-10000</td>\n",
       "      <td>-10000</td>\n",
       "      <td>-10000</td>\n",
       "    </tr>\n",
       "    <tr>\n",
       "      <th>4</th>\n",
       "      <td>AD</td>\n",
       "      <td>2020-03-14</td>\n",
       "      <td>1</td>\n",
       "      <td>0</td>\n",
       "      <td>Confirmed</td>\n",
       "      <td>C2</td>\n",
       "      <td>3.0</td>\n",
       "      <td>True</td>\n",
       "      <td>2</td>\n",
       "      <td>-10000</td>\n",
       "      <td>-10000</td>\n",
       "      <td>-10000</td>\n",
       "      <td>-10000</td>\n",
       "    </tr>\n",
       "  </tbody>\n",
       "</table>\n",
       "</div>"
      ],
      "text/plain": [
       "   ID       Date Cases  Cases_New       Type PolicyType  PolicyValue  \\\n",
       "0  AD 2020-03-11     1          0  Confirmed         H6          2.0   \n",
       "1  AD 2020-03-13     1          0  Confirmed         C3          1.0   \n",
       "2  AD 2020-03-13     1          0  Confirmed         C6          1.0   \n",
       "3  AD 2020-03-13     1          0  Confirmed         E1          2.0   \n",
       "4  AD 2020-03-14     1          0  Confirmed         C2          3.0   \n",
       "\n",
       "  PolicyFlag  PolicyFamily    J14   J-14     J7    J21  \n",
       "0       True             1 -10000 -10000 -10000 -10000  \n",
       "1       True             2 -10000 -10000 -10000 -10000  \n",
       "2       True             2 -10000 -10000 -10000 -10000  \n",
       "3       True             0 -10000 -10000 -10000 -10000  \n",
       "4       True             2 -10000 -10000 -10000 -10000  "
      ]
     },
     "execution_count": 81,
     "metadata": {},
     "output_type": "execute_result"
    }
   ],
   "source": [
    "merge.head()"
   ]
  },
  {
   "cell_type": "code",
   "execution_count": null,
   "metadata": {
    "ExecuteTime": {
     "start_time": "2020-12-14T21:44:03.031Z"
    }
   },
   "outputs": [
    {
     "name": "stderr",
     "output_type": "stream",
     "text": [
      "/Users/lourizzolo/.pyenv/versions/3.7.7/envs/lewagon/lib/python3.7/site-packages/ipykernel_launcher.py:6: SettingWithCopyWarning: \n",
      "A value is trying to be set on a copy of a slice from a DataFrame\n",
      "\n",
      "See the caveats in the documentation: http://pandas.pydata.org/pandas-docs/stable/indexing.html#indexing-view-versus-copy\n",
      "  \n"
     ]
    }
   ],
   "source": [
    "for i in range(merge.shape[0]):\n",
    "    j14 = merge['Date'][i]+datetime.timedelta(days=14)\n",
    "    try:\n",
    "        if j14 < pd.to_datetime('2020-12-04'):\n",
    "            merge['J14'][i] = (df_cases3[(df_cases3['Date'] == (merge['Date'][i]+datetime.timedelta(days=14))) &\n",
    "                        (df_cases3['ID'] == merge['ID'][i]) & (df_cases3['Type'] == 'Confirmed')]['Cases_New'])\n",
    "    except:\n",
    "        np.nan"
   ]
  },
  {
   "cell_type": "code",
   "execution_count": null,
   "metadata": {
    "ExecuteTime": {
     "start_time": "2020-12-14T22:16:39.815Z"
    }
   },
   "outputs": [],
   "source": [
    "for i in range(merge.shape[0]):\n",
    "    j14 = merge['Date'][i]+datetime.timedelta(days=7)\n",
    "    try:\n",
    "        if j7 < pd.to_datetime('2020-12-04'):\n",
    "            merge['J7'][i] = (df_cases3[(df_cases3['Date'] == (merge['Date'][i]+datetime.timedelta(days=14))) &\n",
    "                        (df_cases3['ID'] == merge['ID'][i]) & (df_cases3['Type'] == 'Confirmed')]['Cases_New'])\n",
    "    except:\n",
    "        np.nan\n"
   ]
  },
  {
   "cell_type": "code",
   "execution_count": null,
   "metadata": {
    "ExecuteTime": {
     "start_time": "2020-12-14T22:16:40.343Z"
    }
   },
   "outputs": [],
   "source": [
    "for i in range(merge.shape[0]):\n",
    "    j14 = merge['Date'][i]+datetime.timedelta(days=7)\n",
    "    try:\n",
    "        if j21 < pd.to_datetime('2020-12-04'):\n",
    "            merge['J21'][i] = (df_cases3[(df_cases3['Date'] == (merge['Date'][i]+datetime.timedelta(days=14))) &\n",
    "                        (df_cases3['ID'] == merge['ID'][i]) & (df_cases3['Type'] == 'Confirmed')]['Cases_New'])\n",
    "    except:\n",
    "        np.nan"
   ]
  },
  {
   "cell_type": "markdown",
   "metadata": {},
   "source": [
    "# Grid Search for SVC"
   ]
  },
  {
   "cell_type": "code",
   "execution_count": null,
   "metadata": {
    "ExecuteTime": {
     "end_time": "2020-12-14T21:24:35.436103Z",
     "start_time": "2020-12-14T21:22:52.043Z"
    }
   },
   "outputs": [],
   "source": [
    "%%time\n",
    "\n",
    "\n",
    "# Instanciate model\n",
    "model = SVC()\n",
    "\n",
    "# Hyperparameter search space\n",
    "search_space = {\n",
    "    'kernel': ['linear', 'poly', 'rbf', 'sigmoid'],\n",
    "    'C': [0.01, 0.1, 1, 10, 100, 1000],\n",
    "    'gamma': [0.001, 0.01, 0.1, 1, 10, 100, 1000],\n",
    "    'coef0': [-5,5],\n",
    "}\n",
    "\n",
    "# Instanciate Random Search\n",
    "rsearch = RandomizedSearchCV(\n",
    "    model, search_space,\n",
    "    n_jobs=-1, scoring='accuracy', cv=5, n_iter=100, verbose=1)\n",
    "\n",
    "\n",
    "rsearch.fit(X_train,y_train)"
   ]
  },
  {
   "cell_type": "code",
   "execution_count": null,
   "metadata": {
    "ExecuteTime": {
     "end_time": "2020-12-14T21:24:35.438529Z",
     "start_time": "2020-12-14T21:22:52.047Z"
    }
   },
   "outputs": [],
   "source": [
    "print(rsearch.best_params_)\n",
    "print(rsearch.best_score_)\n",
    "best_svm = rsearch.best_estimator_.fit(X_train,y_train)"
   ]
  },
  {
   "cell_type": "code",
   "execution_count": null,
   "metadata": {
    "ExecuteTime": {
     "end_time": "2020-12-14T21:24:35.443377Z",
     "start_time": "2020-12-14T21:22:52.050Z"
    }
   },
   "outputs": [],
   "source": [
    "from sklearn.model_selection import cross_val_score\n",
    "print('CROSS VALIDATED RESULT')\n",
    "print('mean accuracy', cross_val_score(best_svm, X_train,y_train, cv=10).mean())\n",
    "print('std', cross_val_score(rsearch.best_estimator_, X_train,y_train, cv=10).std())"
   ]
  },
  {
   "cell_type": "code",
   "execution_count": null,
   "metadata": {
    "ExecuteTime": {
     "end_time": "2020-12-14T21:24:35.452972Z",
     "start_time": "2020-12-14T21:22:52.055Z"
    }
   },
   "outputs": [],
   "source": [
    "from sklearn.metrics import classification_report\n",
    "y_pred = best_svm.predict(X_test)\n",
    "print(classification_report(y_test, y_pred))"
   ]
  },
  {
   "cell_type": "code",
   "execution_count": null,
   "metadata": {
    "ExecuteTime": {
     "end_time": "2020-12-14T21:24:35.499543Z",
     "start_time": "2020-12-14T21:22:52.058Z"
    }
   },
   "outputs": [],
   "source": [
    "plot_confusion_matrix(best_svm, X_test, y_test) "
   ]
  },
  {
   "cell_type": "code",
   "execution_count": null,
   "metadata": {},
   "outputs": [],
   "source": []
  }
 ],
 "metadata": {
  "kernelspec": {
   "display_name": "Python 3",
   "language": "python",
   "name": "python3"
  },
  "language_info": {
   "codemirror_mode": {
    "name": "ipython",
    "version": 3
   },
   "file_extension": ".py",
   "mimetype": "text/x-python",
   "name": "python",
   "nbconvert_exporter": "python",
   "pygments_lexer": "ipython3",
   "version": "3.7.7"
  },
  "toc": {
   "base_numbering": 1,
   "nav_menu": {},
   "number_sections": true,
   "sideBar": true,
   "skip_h1_title": false,
   "title_cell": "Table of Contents",
   "title_sidebar": "Contents",
   "toc_cell": false,
   "toc_position": {},
   "toc_section_display": true,
   "toc_window_display": false
  }
 },
 "nbformat": 4,
 "nbformat_minor": 4
}

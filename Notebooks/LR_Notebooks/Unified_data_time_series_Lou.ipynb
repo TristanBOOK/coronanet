{
 "cells": [
  {
   "cell_type": "code",
   "execution_count": 1,
   "metadata": {
    "ExecuteTime": {
     "end_time": "2020-12-10T16:49:39.254788Z",
     "start_time": "2020-12-10T16:49:34.394799Z"
    }
   },
   "outputs": [],
   "source": [
    "import pyreadr \n",
    "import pandas as pd\n",
    "import numpy as np\n",
    "import matplotlib.pyplot as plt\n",
    "import datetime\n",
    "import pmdarima as pm\n",
    "from statsmodels.tsa.seasonal import seasonal_decompose"
   ]
  },
  {
   "cell_type": "code",
   "execution_count": 2,
   "metadata": {
    "ExecuteTime": {
     "end_time": "2020-12-10T16:49:39.338471Z",
     "start_time": "2020-12-10T16:49:39.303860Z"
    }
   },
   "outputs": [
    {
     "data": {
      "text/plain": [
       "'/Users/lourizzolo/code/LouR238/coronanet/Notebooks'"
      ]
     },
     "execution_count": 2,
     "metadata": {},
     "output_type": "execute_result"
    }
   ],
   "source": [
    "pwd"
   ]
  },
  {
   "cell_type": "code",
   "execution_count": 3,
   "metadata": {
    "ExecuteTime": {
     "end_time": "2020-12-10T16:49:39.537858Z",
     "start_time": "2020-12-10T16:49:39.355794Z"
    }
   },
   "outputs": [
    {
     "name": "stdout",
     "output_type": "stream",
     "text": [
      "Exploration_1.ipynb                 Notebook1\r\n",
      "Laurent_DataExploration.ipynb       Tristan_EDA.ipynb\r\n",
      "Lou_data_exploration.ipynb          Unified_data_time_series_Lou.ipynb\r\n"
     ]
    }
   ],
   "source": [
    "ls"
   ]
  },
  {
   "cell_type": "code",
   "execution_count": 4,
   "metadata": {
    "ExecuteTime": {
     "end_time": "2020-12-10T16:50:35.225930Z",
     "start_time": "2020-12-10T16:49:39.545733Z"
    }
   },
   "outputs": [
    {
     "name": "stdout",
     "output_type": "stream",
     "text": [
      "odict_keys(['COVID19'])\n"
     ]
    }
   ],
   "source": [
    "df = pyreadr.read_r('../data/COVID-19.RData') # also works for Rds\n",
    "print(df.keys()) # let’s check what objects we got"
   ]
  },
  {
   "cell_type": "code",
   "execution_count": 5,
   "metadata": {
    "ExecuteTime": {
     "end_time": "2020-12-10T16:50:35.255503Z",
     "start_time": "2020-12-10T16:50:35.234318Z"
    }
   },
   "outputs": [],
   "source": [
    "df =df['COVID19']"
   ]
  },
  {
   "cell_type": "code",
   "execution_count": 6,
   "metadata": {
    "ExecuteTime": {
     "end_time": "2020-12-10T16:50:35.323324Z",
     "start_time": "2020-12-10T16:50:35.281746Z"
    }
   },
   "outputs": [
    {
     "name": "stdout",
     "output_type": "stream",
     "text": [
      "Index(['ID', 'Date', 'Cases', 'Cases_New', 'Type', 'Age', 'Sex', 'Source'], dtype='object')\n",
      "(7521587, 8)\n",
      "ID           object\n",
      "Date         object\n",
      "Cases        object\n",
      "Cases_New    object\n",
      "Type         object\n",
      "Age          object\n",
      "Sex          object\n",
      "Source       object\n",
      "dtype: object\n"
     ]
    }
   ],
   "source": [
    "print(df.columns)\n",
    "print(df.shape)\n",
    "print(df.dtypes)"
   ]
  },
  {
   "cell_type": "code",
   "execution_count": 7,
   "metadata": {
    "ExecuteTime": {
     "end_time": "2020-12-10T16:50:36.153420Z",
     "start_time": "2020-12-10T16:50:35.372968Z"
    }
   },
   "outputs": [],
   "source": [
    "df_fr = df[df['ID']=='FR']"
   ]
  },
  {
   "cell_type": "code",
   "execution_count": 8,
   "metadata": {
    "ExecuteTime": {
     "end_time": "2020-12-10T16:50:36.173292Z",
     "start_time": "2020-12-10T16:50:36.159696Z"
    }
   },
   "outputs": [
    {
     "name": "stdout",
     "output_type": "stream",
     "text": [
      "(1272, 8)\n"
     ]
    }
   ],
   "source": [
    "print(df_fr.shape)"
   ]
  },
  {
   "cell_type": "markdown",
   "metadata": {},
   "source": [
    "# data preprocessing for time series"
   ]
  },
  {
   "cell_type": "code",
   "execution_count": 9,
   "metadata": {
    "ExecuteTime": {
     "end_time": "2020-12-10T16:50:36.210645Z",
     "start_time": "2020-12-10T16:50:36.177121Z"
    }
   },
   "outputs": [
    {
     "data": {
      "text/html": [
       "<div>\n",
       "<style scoped>\n",
       "    .dataframe tbody tr th:only-of-type {\n",
       "        vertical-align: middle;\n",
       "    }\n",
       "\n",
       "    .dataframe tbody tr th {\n",
       "        vertical-align: top;\n",
       "    }\n",
       "\n",
       "    .dataframe thead th {\n",
       "        text-align: right;\n",
       "    }\n",
       "</style>\n",
       "<table border=\"1\" class=\"dataframe\">\n",
       "  <thead>\n",
       "    <tr style=\"text-align: right;\">\n",
       "      <th></th>\n",
       "      <th>Date</th>\n",
       "      <th>Cases_New</th>\n",
       "    </tr>\n",
       "  </thead>\n",
       "  <tbody>\n",
       "    <tr>\n",
       "      <th>2970263</th>\n",
       "      <td>2020-01-22</td>\n",
       "      <td>0</td>\n",
       "    </tr>\n",
       "    <tr>\n",
       "      <th>2970264</th>\n",
       "      <td>2020-01-22</td>\n",
       "      <td>0</td>\n",
       "    </tr>\n",
       "    <tr>\n",
       "      <th>2970265</th>\n",
       "      <td>2020-01-22</td>\n",
       "      <td>0</td>\n",
       "    </tr>\n",
       "    <tr>\n",
       "      <th>2970266</th>\n",
       "      <td>2020-01-22</td>\n",
       "      <td>0</td>\n",
       "    </tr>\n",
       "    <tr>\n",
       "      <th>2970267</th>\n",
       "      <td>2020-01-23</td>\n",
       "      <td>0</td>\n",
       "    </tr>\n",
       "  </tbody>\n",
       "</table>\n",
       "</div>"
      ],
      "text/plain": [
       "               Date Cases_New\n",
       "2970263  2020-01-22         0\n",
       "2970264  2020-01-22         0\n",
       "2970265  2020-01-22         0\n",
       "2970266  2020-01-22         0\n",
       "2970267  2020-01-23         0"
      ]
     },
     "execution_count": 9,
     "metadata": {},
     "output_type": "execute_result"
    }
   ],
   "source": [
    "df_fr = df_fr[['Date','Cases_New']]\n",
    "df_fr.head()"
   ]
  },
  {
   "cell_type": "code",
   "execution_count": 10,
   "metadata": {
    "ExecuteTime": {
     "end_time": "2020-12-10T16:50:36.344931Z",
     "start_time": "2020-12-10T16:50:36.215815Z"
    }
   },
   "outputs": [],
   "source": [
    "df_fr['Date'] = pd.to_datetime(df_fr['Date'])"
   ]
  },
  {
   "cell_type": "code",
   "execution_count": 11,
   "metadata": {
    "ExecuteTime": {
     "end_time": "2020-12-10T16:50:36.366010Z",
     "start_time": "2020-12-10T16:50:36.355901Z"
    }
   },
   "outputs": [
    {
     "name": "stdout",
     "output_type": "stream",
     "text": [
      "Date         datetime64[ns]\n",
      "Cases_New            object\n",
      "dtype: object\n"
     ]
    }
   ],
   "source": [
    "print(df_fr.dtypes)"
   ]
  },
  {
   "cell_type": "markdown",
   "metadata": {},
   "source": [
    "# Analyses entre Juin et Novembre"
   ]
  },
  {
   "cell_type": "code",
   "execution_count": 12,
   "metadata": {
    "ExecuteTime": {
     "end_time": "2020-12-10T16:50:36.378668Z",
     "start_time": "2020-12-10T16:50:36.372878Z"
    }
   },
   "outputs": [],
   "source": [
    "start_date = '2020-06-01'\n",
    "end_date = '2020-11-30'"
   ]
  },
  {
   "cell_type": "code",
   "execution_count": 13,
   "metadata": {
    "ExecuteTime": {
     "end_time": "2020-12-10T16:50:36.399442Z",
     "start_time": "2020-12-10T16:50:36.386979Z"
    }
   },
   "outputs": [],
   "source": [
    "mask = (df_fr['Date'] > start_date) & (df_fr['Date'] <= end_date)"
   ]
  },
  {
   "cell_type": "code",
   "execution_count": 14,
   "metadata": {
    "ExecuteTime": {
     "end_time": "2020-12-10T16:50:36.429261Z",
     "start_time": "2020-12-10T16:50:36.405592Z"
    }
   },
   "outputs": [
    {
     "data": {
      "text/plain": [
       "(1272, 2)"
      ]
     },
     "execution_count": 14,
     "metadata": {},
     "output_type": "execute_result"
    }
   ],
   "source": [
    "df_fr1 = df_fr.loc[mask]\n",
    "df_fr.shape"
   ]
  },
  {
   "cell_type": "code",
   "execution_count": 15,
   "metadata": {
    "ExecuteTime": {
     "end_time": "2020-12-10T16:50:36.459309Z",
     "start_time": "2020-12-10T16:50:36.438599Z"
    }
   },
   "outputs": [
    {
     "data": {
      "text/plain": [
       "(728, 1)"
      ]
     },
     "execution_count": 15,
     "metadata": {},
     "output_type": "execute_result"
    }
   ],
   "source": [
    "df_fr1.reset_index()\n",
    "df_fr1 = df_fr1.set_index(df_fr1[\"Date\"])\n",
    "df_fr1 = df_fr1.drop(\"Date\", axis=1)\n",
    "df_fr1.shape"
   ]
  },
  {
   "cell_type": "code",
   "execution_count": 16,
   "metadata": {
    "ExecuteTime": {
     "end_time": "2020-12-10T16:50:36.539609Z",
     "start_time": "2020-12-10T16:50:36.465565Z"
    }
   },
   "outputs": [
    {
     "data": {
      "text/plain": [
       "(182, 1)"
      ]
     },
     "execution_count": 16,
     "metadata": {},
     "output_type": "execute_result"
    }
   ],
   "source": [
    "df_fr1 = df_fr1.groupby(\"Date\").sum()\n",
    "df_fr1.shape"
   ]
  },
  {
   "cell_type": "code",
   "execution_count": 17,
   "metadata": {
    "ExecuteTime": {
     "end_time": "2020-12-10T16:50:36.558096Z",
     "start_time": "2020-12-10T16:50:36.545082Z"
    }
   },
   "outputs": [
    {
     "data": {
      "text/plain": [
       "0"
      ]
     },
     "execution_count": 17,
     "metadata": {},
     "output_type": "execute_result"
    }
   ],
   "source": [
    "df_fr1[\"Cases_New\"].isnull().sum()"
   ]
  },
  {
   "cell_type": "code",
   "execution_count": 18,
   "metadata": {
    "ExecuteTime": {
     "end_time": "2020-12-10T16:50:37.156620Z",
     "start_time": "2020-12-10T16:50:36.564654Z"
    }
   },
   "outputs": [
    {
     "data": {
      "text/plain": [
       "<AxesSubplot:xlabel='Date'>"
      ]
     },
     "execution_count": 18,
     "metadata": {},
     "output_type": "execute_result"
    },
    {
     "data": {
      "image/png": "[encoded data removed]",
      "text/plain": [
       "<Figure size 432x288 with 1 Axes>"
      ]
     },
     "metadata": {
      "needs_background": "light"
     },
     "output_type": "display_data"
    }
   ],
   "source": [
    "df_fr1[\"Cases_New\"].plot()"
   ]
  },
  {
   "cell_type": "code",
   "execution_count": 19,
   "metadata": {
    "ExecuteTime": {
     "end_time": "2020-12-10T16:50:37.170999Z",
     "start_time": "2020-12-10T16:50:37.160691Z"
    }
   },
   "outputs": [],
   "source": [
    "size = round(df_fr1.shape[0]*0.7)"
   ]
  },
  {
   "cell_type": "code",
   "execution_count": 20,
   "metadata": {
    "ExecuteTime": {
     "end_time": "2020-12-10T16:50:37.191315Z",
     "start_time": "2020-12-10T16:50:37.180830Z"
    }
   },
   "outputs": [
    {
     "name": "stdout",
     "output_type": "stream",
     "text": [
      "(127, 1)\n",
      "(55, 1)\n"
     ]
    }
   ],
   "source": [
    "df_train1 = df_fr1[:size]\n",
    "df_test1 = df_fr1[size:]\n",
    "print(df_train1.shape)\n",
    "print(df_test1.shape)"
   ]
  },
  {
   "cell_type": "code",
   "execution_count": 21,
   "metadata": {
    "ExecuteTime": {
     "end_time": "2020-12-10T16:50:37.243966Z",
     "start_time": "2020-12-10T16:50:37.203327Z"
    }
   },
   "outputs": [
    {
     "name": "stdout",
     "output_type": "stream",
     "text": [
      "p-value:  0.9954847669962018\n"
     ]
    }
   ],
   "source": [
    "from statsmodels.tsa.stattools import adfuller\n",
    "print('p-value: ', adfuller(df_train1[\"Cases_New\"])[1])"
   ]
  },
  {
   "cell_type": "code",
   "execution_count": 22,
   "metadata": {
    "ExecuteTime": {
     "end_time": "2020-12-10T16:50:37.947423Z",
     "start_time": "2020-12-10T16:50:37.269831Z"
    }
   },
   "outputs": [
    {
     "data": {
      "image/png": "[encoded data removed]",
      "text/plain": [
       "<Figure size 432x288 with 1 Axes>"
      ]
     },
     "metadata": {
      "needs_background": "light"
     },
     "output_type": "display_data"
    },
    {
     "data": {
      "image/png": "[encoded data removed]",
      "text/plain": [
       "<Figure size 432x288 with 1 Axes>"
      ]
     },
     "metadata": {
      "needs_background": "light"
     },
     "output_type": "display_data"
    }
   ],
   "source": [
    "y1 = df_train1.Cases_New\n",
    "from statsmodels.graphics.tsaplots import plot_acf, plot_pacf\n",
    "plot_acf(y1);\n",
    "plot_pacf(y1);"
   ]
  },
  {
   "cell_type": "code",
   "execution_count": 23,
   "metadata": {
    "ExecuteTime": {
     "end_time": "2020-12-10T16:50:37.985381Z",
     "start_time": "2020-12-10T16:50:37.975106Z"
    }
   },
   "outputs": [],
   "source": [
    "y_diff_7_1 = df_train1.Cases_New.diff(7).dropna()"
   ]
  },
  {
   "cell_type": "code",
   "execution_count": 24,
   "metadata": {
    "ExecuteTime": {
     "end_time": "2020-12-10T16:50:38.590282Z",
     "start_time": "2020-12-10T16:50:37.990418Z"
    }
   },
   "outputs": [
    {
     "name": "stdout",
     "output_type": "stream",
     "text": [
      "p-value:  0.0029614374130666294\n"
     ]
    },
    {
     "data": {
      "image/png": "[encoded data removed]",
      "text/plain": [
       "<Figure size 864x288 with 2 Axes>"
      ]
     },
     "metadata": {
      "needs_background": "light"
     },
     "output_type": "display_data"
    }
   ],
   "source": [
    "fig, axes = plt.subplots(1,2,figsize=(12,4))\n",
    "axes[0].plot(y_diff_7_1)\n",
    "plot_acf(y_diff_7_1, ax=axes[1])\n",
    "print('p-value: ', adfuller(y_diff_7_1)[1])"
   ]
  },
  {
   "cell_type": "code",
   "execution_count": 25,
   "metadata": {
    "ExecuteTime": {
     "end_time": "2020-12-10T16:50:38.916426Z",
     "start_time": "2020-12-10T16:50:38.594033Z"
    }
   },
   "outputs": [
    {
     "name": "stdout",
     "output_type": "stream",
     "text": [
      "p-value:  1.4473586480741353e-07\n"
     ]
    },
    {
     "data": {
      "image/png": "[encoded data removed]",
      "text/plain": [
       "<Figure size 432x288 with 1 Axes>"
      ]
     },
     "metadata": {
      "needs_background": "light"
     },
     "output_type": "display_data"
    }
   ],
   "source": [
    "plot_acf(y_diff_7_1.diff(1).dropna());\n",
    "print('p-value: ', adfuller(y_diff_7_1.diff(1).dropna())[1])"
   ]
  },
  {
   "cell_type": "code",
   "execution_count": 26,
   "metadata": {
    "ExecuteTime": {
     "end_time": "2020-12-10T16:50:39.518179Z",
     "start_time": "2020-12-10T16:50:38.921447Z"
    }
   },
   "outputs": [
    {
     "data": {
      "image/png": "[encoded data removed]",
      "text/plain": [
       "<Figure size 432x288 with 1 Axes>"
      ]
     },
     "metadata": {
      "needs_background": "light"
     },
     "output_type": "display_data"
    },
    {
     "data": {
      "image/png": "[encoded data removed]",
      "text/plain": [
       "<Figure size 432x288 with 1 Axes>"
      ]
     },
     "metadata": {
      "needs_background": "light"
     },
     "output_type": "display_data"
    }
   ],
   "source": [
    "plot_acf(y_diff_7_1);\n",
    "plot_pacf(y_diff_7_1, lags=np.arange(10), c='red');"
   ]
  },
  {
   "cell_type": "code",
   "execution_count": 27,
   "metadata": {
    "ExecuteTime": {
     "end_time": "2020-12-10T17:04:23.343753Z",
     "start_time": "2020-12-10T16:50:39.522284Z"
    }
   },
   "outputs": [
    {
     "name": "stderr",
     "output_type": "stream",
     "text": [
      "/Users/lourizzolo/.pyenv/versions/3.7.7/envs/lewagon/lib/python3.7/site-packages/pmdarima/arima/utils.py:120: UserWarning: Appropriate D value may not have been reached; length of seasonally-differenced array (23) is shorter than m (52). Using D=2\n",
      "  % (len(x), m, D))\n"
     ]
    },
    {
     "name": "stdout",
     "output_type": "stream",
     "text": [
      "Performing stepwise search to minimize aic\n",
      " ARIMA(0,0,0)(0,2,0)[52]             : AIC=538.283, Time=1.89 sec\n",
      " ARIMA(1,0,0)(1,2,0)[52]             : AIC=inf, Time=18.57 sec\n",
      " ARIMA(0,0,1)(0,2,1)[52]             : AIC=536.418, Time=8.34 sec\n",
      " ARIMA(0,0,1)(0,2,0)[52]             : AIC=534.585, Time=1.82 sec\n",
      " ARIMA(0,0,1)(1,2,0)[52]             : AIC=536.248, Time=11.96 sec\n",
      " ARIMA(0,0,1)(1,2,1)[52]             : AIC=538.118, Time=32.12 sec\n",
      " ARIMA(1,0,1)(0,2,0)[52]             : AIC=529.274, Time=8.22 sec\n",
      " ARIMA(1,0,1)(1,2,0)[52]             : AIC=531.271, Time=29.87 sec\n",
      " ARIMA(1,0,1)(0,2,1)[52]             : AIC=530.118, Time=61.05 sec\n",
      " ARIMA(1,0,1)(1,2,1)[52]             : AIC=inf, Time=128.65 sec\n",
      " ARIMA(1,0,0)(0,2,0)[52]             : AIC=534.494, Time=3.98 sec\n",
      " ARIMA(2,0,1)(0,2,0)[52]             : AIC=529.665, Time=28.63 sec\n",
      " ARIMA(1,0,2)(0,2,0)[52]             : AIC=528.045, Time=8.20 sec\n",
      " ARIMA(1,0,2)(1,2,0)[52]             : AIC=552.651, Time=69.32 sec\n",
      " ARIMA(1,0,2)(0,2,1)[52]             : AIC=529.611, Time=22.27 sec\n",
      " ARIMA(1,0,2)(1,2,1)[52]             : AIC=530.676, Time=84.78 sec\n",
      " ARIMA(0,0,2)(0,2,0)[52]             : AIC=536.573, Time=2.62 sec\n",
      " ARIMA(2,0,2)(0,2,0)[52]             : AIC=inf, Time=30.72 sec\n",
      " ARIMA(1,0,2)(0,2,0)[52] intercept   : AIC=521.528, Time=11.44 sec\n",
      " ARIMA(1,0,2)(1,2,0)[52] intercept   : AIC=521.663, Time=30.32 sec\n",
      " ARIMA(1,0,2)(0,2,1)[52] intercept   : AIC=inf, Time=28.52 sec\n",
      " ARIMA(1,0,2)(1,2,1)[52] intercept   : AIC=522.715, Time=84.97 sec\n",
      " ARIMA(0,0,2)(0,2,0)[52] intercept   : AIC=521.037, Time=2.83 sec\n",
      " ARIMA(0,0,2)(1,2,0)[52] intercept   : AIC=521.346, Time=14.48 sec\n",
      " ARIMA(0,0,2)(0,2,1)[52] intercept   : AIC=522.008, Time=13.67 sec\n",
      " ARIMA(0,0,2)(1,2,1)[52] intercept   : AIC=523.310, Time=26.78 sec\n",
      " ARIMA(0,0,1)(0,2,0)[52] intercept   : AIC=520.326, Time=2.12 sec\n",
      " ARIMA(0,0,1)(1,2,0)[52] intercept   : AIC=521.129, Time=9.60 sec\n",
      " ARIMA(0,0,1)(0,2,1)[52] intercept   : AIC=522.143, Time=9.37 sec\n",
      " ARIMA(0,0,1)(1,2,1)[52] intercept   : AIC=522.953, Time=25.44 sec\n",
      " ARIMA(0,0,0)(0,2,0)[52] intercept   : AIC=522.635, Time=0.74 sec\n",
      " ARIMA(1,0,1)(0,2,0)[52] intercept   : AIC=inf, Time=7.41 sec\n",
      " ARIMA(1,0,0)(0,2,0)[52] intercept   : AIC=523.392, Time=1.49 sec\n",
      "\n",
      "Best model:  ARIMA(0,0,1)(0,2,0)[52] intercept\n",
      "Total fit time: 822.357 seconds\n",
      "                                      SARIMAX Results                                      \n",
      "===========================================================================================\n",
      "Dep. Variable:                                   y   No. Observations:                  127\n",
      "Model:             SARIMAX(0, 0, 1)x(0, 2, [], 52)   Log Likelihood                -257.163\n",
      "Date:                             Thu, 10 Dec 2020   AIC                            520.326\n",
      "Time:                                     18:04:23   BIC                            523.733\n",
      "Sample:                                          0   HQIC                           521.183\n",
      "                                             - 127                                         \n",
      "Covariance Type:                               opg                                         \n",
      "==============================================================================\n",
      "                 coef    std err          z      P>|z|      [0.025      0.975]\n",
      "------------------------------------------------------------------------------\n",
      "intercept   1.741e+04   1758.722      9.900      0.000     1.4e+04    2.09e+04\n",
      "ma.L1         -0.6541      0.255     -2.565      0.010      -1.154      -0.154\n",
      "sigma2      4.072e+08      0.006   6.62e+10      0.000    4.07e+08    4.07e+08\n",
      "===================================================================================\n",
      "Ljung-Box (Q):                       20.15   Jarque-Bera (JB):                 0.41\n",
      "Prob(Q):                              0.57   Prob(JB):                         0.81\n",
      "Heteroskedasticity (H):               1.91   Skew:                            -0.33\n",
      "Prob(H) (two-sided):                  0.38   Kurtosis:                         2.90\n",
      "===================================================================================\n",
      "\n",
      "Warnings:\n",
      "[1] Covariance matrix calculated using the outer product of gradients (complex-step).\n",
      "[2] Covariance matrix is singular or near-singular, with condition number 5.12e+26. Standard errors may be unstable.\n"
     ]
    }
   ],
   "source": [
    "model = pm.auto_arima(df_train1['Cases_New'],\n",
    "                      m=52, # frequency of series. Important to choose manually\n",
    "                      seasonal=True,\n",
    "                      stepwise=True,  # only check most interesting combination. False will take way longer.\n",
    "                      start_p=0, max_p=2,\n",
    "                      start_d=0, max_d=1,\n",
    "                      start_q=0, max_q=2,\n",
    "                      start_P=0, max_P=2,\n",
    "                      start_D=0, max_D=2,\n",
    "                      start_Q=0, max_Q=2,\n",
    "                      njobs=-1, trace=True, error_action='ignore',  suppress_warnings=True)\n",
    "print(model.summary())"
   ]
  },
  {
   "cell_type": "code",
   "execution_count": 28,
   "metadata": {
    "ExecuteTime": {
     "end_time": "2020-12-10T17:04:23.499641Z",
     "start_time": "2020-12-10T17:04:23.357671Z"
    }
   },
   "outputs": [],
   "source": [
    "# Forecast\n",
    "n_periods = len(df_test1)\n",
    "central, confint = model.predict(n_periods=n_periods, return_conf_int=True)\n",
    "index_y_test = df_test1.index #pd.date_range(df_test.index[-1], periods = n_periods, freq='MS')\n",
    "\n",
    "# make series for plotting purpose\n",
    "central = pd.Series(central, index=index_y_test)\n",
    "lower = pd.Series(confint[:, 0], index=index_y_test)\n",
    "upper = pd.Series(confint[:, 1], index=index_y_test)"
   ]
  },
  {
   "cell_type": "code",
   "execution_count": 29,
   "metadata": {
    "ExecuteTime": {
     "end_time": "2020-12-10T17:04:24.106870Z",
     "start_time": "2020-12-10T17:04:23.503065Z"
    }
   },
   "outputs": [
    {
     "data": {
      "image/png": "[encoded data removed]",
      "text/plain": [
       "<Figure size 1200x500 with 1 Axes>"
      ]
     },
     "metadata": {
      "needs_background": "light"
     },
     "output_type": "display_data"
    }
   ],
   "source": [
    "# Plot\n",
    "plt.figure(figsize=(12,5), dpi=100)\n",
    "plt.plot(df_train1, label = \"train values\")\n",
    "plt.plot(df_test1, label = \"true test values\")\n",
    "plt.plot(central, color='darkgreen',label = \"forecast\")\n",
    "plt.fill_between(lower.index, \n",
    "                 lower, \n",
    "                 upper, \n",
    "                 color='k', alpha=.15)\n",
    "\n",
    "plt.title(\"SARIMA Forecast\")\n",
    "plt.legend()\n",
    "plt.show()"
   ]
  },
  {
   "cell_type": "code",
   "execution_count": 30,
   "metadata": {
    "ExecuteTime": {
     "end_time": "2020-12-10T17:04:32.540770Z",
     "start_time": "2020-12-10T17:04:24.110700Z"
    }
   },
   "outputs": [
    {
     "name": "stdout",
     "output_type": "stream",
     "text": [
      "Performing stepwise search to minimize aic\n",
      " ARIMA(0,1,0)(0,1,0)[7]             : AIC=2580.963, Time=0.03 sec\n",
      " ARIMA(1,1,0)(1,1,0)[7]             : AIC=2521.925, Time=0.07 sec\n",
      " ARIMA(0,1,1)(0,1,1)[7]             : AIC=2469.825, Time=0.12 sec\n",
      " ARIMA(0,1,1)(0,1,0)[7]             : AIC=inf, Time=0.08 sec\n",
      " ARIMA(0,1,1)(1,1,1)[7]             : AIC=2470.825, Time=0.16 sec\n",
      " ARIMA(0,1,1)(0,1,2)[7]             : AIC=2470.736, Time=0.19 sec\n",
      " ARIMA(0,1,1)(1,1,0)[7]             : AIC=2459.321, Time=0.29 sec\n",
      " ARIMA(0,1,1)(2,1,0)[7]             : AIC=2470.846, Time=0.18 sec\n",
      " ARIMA(0,1,1)(2,1,1)[7]             : AIC=2472.818, Time=0.33 sec\n",
      " ARIMA(0,1,0)(1,1,0)[7]             : AIC=2560.813, Time=0.03 sec\n",
      " ARIMA(1,1,1)(1,1,0)[7]             : AIC=2453.171, Time=0.33 sec\n",
      " ARIMA(1,1,1)(0,1,0)[7]             : AIC=2473.331, Time=0.06 sec\n",
      " ARIMA(1,1,1)(2,1,0)[7]             : AIC=2467.312, Time=0.26 sec\n",
      " ARIMA(1,1,1)(1,1,1)[7]             : AIC=2467.312, Time=0.17 sec\n",
      " ARIMA(1,1,1)(0,1,1)[7]             : AIC=2466.401, Time=0.13 sec\n",
      " ARIMA(1,1,1)(2,1,1)[7]             : AIC=2469.288, Time=0.55 sec\n",
      " ARIMA(2,1,1)(1,1,0)[7]             : AIC=2461.247, Time=0.13 sec\n",
      " ARIMA(1,1,2)(1,1,0)[7]             : AIC=2447.551, Time=0.47 sec\n",
      " ARIMA(1,1,2)(0,1,0)[7]             : AIC=2458.970, Time=0.30 sec\n",
      " ARIMA(1,1,2)(2,1,0)[7]             : AIC=2449.491, Time=0.70 sec\n",
      " ARIMA(1,1,2)(1,1,1)[7]             : AIC=2449.438, Time=0.46 sec\n",
      " ARIMA(1,1,2)(0,1,1)[7]             : AIC=2448.348, Time=0.31 sec\n",
      " ARIMA(1,1,2)(2,1,1)[7]             : AIC=2451.477, Time=1.04 sec\n",
      " ARIMA(0,1,2)(1,1,0)[7]             : AIC=2445.838, Time=0.29 sec\n",
      " ARIMA(0,1,2)(0,1,0)[7]             : AIC=2458.361, Time=0.13 sec\n",
      " ARIMA(0,1,2)(2,1,0)[7]             : AIC=2451.507, Time=0.23 sec\n",
      " ARIMA(0,1,2)(1,1,1)[7]             : AIC=2451.507, Time=0.17 sec\n",
      " ARIMA(0,1,2)(0,1,1)[7]             : AIC=2450.573, Time=0.16 sec\n",
      " ARIMA(0,1,2)(2,1,1)[7]             : AIC=2453.451, Time=0.46 sec\n",
      " ARIMA(0,1,2)(1,1,0)[7] intercept   : AIC=inf, Time=0.50 sec\n",
      "\n",
      "Best model:  ARIMA(0,1,2)(1,1,0)[7]          \n",
      "Total fit time: 8.391 seconds\n",
      "                                     SARIMAX Results                                      \n",
      "==========================================================================================\n",
      "Dep. Variable:                                  y   No. Observations:                  127\n",
      "Model:             SARIMAX(0, 1, 2)x(1, 1, [], 7)   Log Likelihood               -1218.919\n",
      "Date:                            Thu, 10 Dec 2020   AIC                           2445.838\n",
      "Time:                                    18:04:32   BIC                           2456.955\n",
      "Sample:                                         0   HQIC                          2450.352\n",
      "                                            - 127                                         \n",
      "Covariance Type:                              opg                                         \n",
      "==============================================================================\n",
      "                 coef    std err          z      P>|z|      [0.025      0.975]\n",
      "------------------------------------------------------------------------------\n",
      "ma.L1         -1.4389      0.049    -29.562      0.000      -1.534      -1.344\n",
      "ma.L2          0.4831      0.042     11.405      0.000       0.400       0.566\n",
      "ar.S.L7       -0.4127      0.066     -6.245      0.000      -0.542      -0.283\n",
      "sigma2      4.578e+07   3.39e-10   1.35e+17      0.000    4.58e+07    4.58e+07\n",
      "===================================================================================\n",
      "Ljung-Box (Q):                       38.66   Jarque-Bera (JB):                45.03\n",
      "Prob(Q):                              0.53   Prob(JB):                         0.00\n",
      "Heteroskedasticity (H):             123.30   Skew:                            -0.20\n",
      "Prob(H) (two-sided):                  0.00   Kurtosis:                         5.99\n",
      "===================================================================================\n",
      "\n",
      "Warnings:\n",
      "[1] Covariance matrix calculated using the outer product of gradients (complex-step).\n",
      "[2] Covariance matrix is singular or near-singular, with condition number 2.77e+32. Standard errors may be unstable.\n"
     ]
    }
   ],
   "source": [
    "model_2 = pm.auto_arima(df_train1['Cases_New'],\n",
    "                      m=7, # frequency of series. Important to choose manually\n",
    "                      seasonal=True,\n",
    "                      stepwise=True,  # only check most interesting combination. False will take way longer.\n",
    "                      start_p=0, max_p=2,\n",
    "                      start_d=0, max_d=1,\n",
    "                      start_q=0, max_q=2,\n",
    "                      start_P=0, max_P=2,\n",
    "                      start_D=0, max_D=2,\n",
    "                      start_Q=0, max_Q=2,\n",
    "                      njobs=-1, trace=True, error_action='ignore',  suppress_warnings=True)\n",
    "print(model_2.summary())"
   ]
  },
  {
   "cell_type": "code",
   "execution_count": 31,
   "metadata": {
    "ExecuteTime": {
     "end_time": "2020-12-10T17:04:33.075569Z",
     "start_time": "2020-12-10T17:04:32.545567Z"
    }
   },
   "outputs": [
    {
     "ename": "NameError",
     "evalue": "name 'df_test' is not defined",
     "output_type": "error",
     "traceback": [
      "\u001b[0;31m---------------------------------------------------------------------------\u001b[0m",
      "\u001b[0;31mNameError\u001b[0m                                 Traceback (most recent call last)",
      "\u001b[0;32m<ipython-input-31-60b5c2bd6765>\u001b[0m in \u001b[0;36m<module>\u001b[0;34m\u001b[0m\n\u001b[1;32m      2\u001b[0m \u001b[0mn_periods\u001b[0m \u001b[0;34m=\u001b[0m \u001b[0mlen\u001b[0m\u001b[0;34m(\u001b[0m\u001b[0mdf_test1\u001b[0m\u001b[0;34m)\u001b[0m\u001b[0;34m\u001b[0m\u001b[0;34m\u001b[0m\u001b[0m\n\u001b[1;32m      3\u001b[0m \u001b[0mcentral\u001b[0m\u001b[0;34m,\u001b[0m \u001b[0mconfint\u001b[0m \u001b[0;34m=\u001b[0m \u001b[0mmodel_2\u001b[0m\u001b[0;34m.\u001b[0m\u001b[0mpredict\u001b[0m\u001b[0;34m(\u001b[0m\u001b[0mn_periods\u001b[0m\u001b[0;34m=\u001b[0m\u001b[0mn_periods\u001b[0m\u001b[0;34m,\u001b[0m \u001b[0mreturn_conf_int\u001b[0m\u001b[0;34m=\u001b[0m\u001b[0;32mTrue\u001b[0m\u001b[0;34m)\u001b[0m\u001b[0;34m\u001b[0m\u001b[0;34m\u001b[0m\u001b[0m\n\u001b[0;32m----> 4\u001b[0;31m \u001b[0mindex_y_test\u001b[0m \u001b[0;34m=\u001b[0m \u001b[0mdf_test\u001b[0m\u001b[0;34m.\u001b[0m\u001b[0mindex\u001b[0m \u001b[0;31m#pd.date_range(df_test.index[-1], periods = n_periods, freq='MS')\u001b[0m\u001b[0;34m\u001b[0m\u001b[0;34m\u001b[0m\u001b[0m\n\u001b[0m\u001b[1;32m      5\u001b[0m \u001b[0;34m\u001b[0m\u001b[0m\n\u001b[1;32m      6\u001b[0m \u001b[0;31m# make series for plotting purpose\u001b[0m\u001b[0;34m\u001b[0m\u001b[0;34m\u001b[0m\u001b[0;34m\u001b[0m\u001b[0m\n",
      "\u001b[0;31mNameError\u001b[0m: name 'df_test' is not defined"
     ]
    }
   ],
   "source": [
    "# Forecast\n",
    "n_periods = len(df_test1)\n",
    "central, confint = model_2.predict(n_periods=n_periods, return_conf_int=True)\n",
    "index_y_test = df_test.index #pd.date_range(df_test.index[-1], periods = n_periods, freq='MS')\n",
    "\n",
    "# make series for plotting purpose\n",
    "central = pd.Series(central, index=index_y_test)\n",
    "lower = pd.Series(confint[:, 0], index=index_y_test)\n",
    "upper = pd.Series(confint[:, 1], index=index_y_test)"
   ]
  },
  {
   "cell_type": "code",
   "execution_count": null,
   "metadata": {
    "ExecuteTime": {
     "end_time": "2020-12-10T17:04:33.079937Z",
     "start_time": "2020-12-10T16:49:34.554Z"
    }
   },
   "outputs": [],
   "source": [
    "# Plot\n",
    "plt.figure(figsize=(12,5), dpi=100)\n",
    "plt.plot(df_train1, label = \"train values\")\n",
    "plt.plot(df_test1, label = \"true test values\")\n",
    "plt.plot(central, color='darkgreen',label = \"forecast\")\n",
    "plt.fill_between(lower.index, \n",
    "                 lower, \n",
    "                 upper, \n",
    "                 color='k', alpha=.15)\n",
    "\n",
    "plt.title(\"SARIMA Forecast\")\n",
    "plt.legend()\n",
    "plt.show()"
   ]
  },
  {
   "cell_type": "code",
   "execution_count": null,
   "metadata": {
    "ExecuteTime": {
     "end_time": "2020-12-10T17:04:33.083459Z",
     "start_time": "2020-12-10T16:49:34.558Z"
    }
   },
   "outputs": [],
   "source": [
    "model_3 = pm.auto_arima(df_train1['Cases_New'],\n",
    "                      m=12, # frequency of series. Important to choose manually\n",
    "                      seasonal=True,\n",
    "                      stepwise=True,  # only check most interesting combination. False will take way longer.\n",
    "                      start_p=0, max_p=2,\n",
    "                      start_d=0, max_d=1,\n",
    "                      start_q=0, max_q=2,\n",
    "                      start_P=0, max_P=2,\n",
    "                      start_D=0, max_D=2,\n",
    "                      start_Q=0, max_Q=2,\n",
    "                      njobs=-1, trace=True, error_action='ignore',  suppress_warnings=True)\n",
    "print(model_3.summary())"
   ]
  },
  {
   "cell_type": "code",
   "execution_count": null,
   "metadata": {
    "ExecuteTime": {
     "end_time": "2020-12-10T17:04:33.088100Z",
     "start_time": "2020-12-10T16:49:34.562Z"
    }
   },
   "outputs": [],
   "source": [
    "# Forecast\n",
    "n_periods = len(df_test1)\n",
    "central, confint = model_3.predict(n_periods=n_periods, return_conf_int=True)\n",
    "index_y_test = df_test.index #pd.date_range(df_test.index[-1], periods = n_periods, freq='MS')\n",
    "\n",
    "# make series for plotting purpose\n",
    "central = pd.Series(central, index=index_y_test)\n",
    "lower = pd.Series(confint[:, 0], index=index_y_test)\n",
    "upper = pd.Series(confint[:, 1], index=index_y_test)"
   ]
  },
  {
   "cell_type": "code",
   "execution_count": null,
   "metadata": {
    "ExecuteTime": {
     "end_time": "2020-12-10T17:04:33.093264Z",
     "start_time": "2020-12-10T16:49:34.564Z"
    }
   },
   "outputs": [],
   "source": [
    "# Plot\n",
    "plt.figure(figsize=(12,5), dpi=100)\n",
    "plt.plot(df_train1, label = \"train values\")\n",
    "plt.plot(df_test1, label = \"true test values\")\n",
    "plt.plot(central, color='darkgreen',label = \"forecast\")\n",
    "plt.fill_between(lower.index, \n",
    "                 lower, \n",
    "                 upper, \n",
    "                 color='k', alpha=.15)\n",
    "\n",
    "plt.title(\"SARIMA Forecast\")\n",
    "plt.legend()\n",
    "plt.show()"
   ]
  },
  {
   "cell_type": "code",
   "execution_count": null,
   "metadata": {
    "ExecuteTime": {
     "end_time": "2020-12-10T17:04:33.096323Z",
     "start_time": "2020-12-10T16:49:34.569Z"
    }
   },
   "outputs": [],
   "source": [
    "model_4 = pm.auto_arima(df_train1['Cases_New'],\n",
    "                      m=27, # frequency of series. Important to choose manually\n",
    "                      seasonal=True,\n",
    "                      stepwise=True,  # only check most interesting combination. False will take way longer.\n",
    "                      start_p=0, max_p=2,\n",
    "                      start_d=0, max_d=1,\n",
    "                      start_q=0, max_q=2,\n",
    "                      start_P=0, max_P=2,\n",
    "                      start_D=0, max_D=2,\n",
    "                      start_Q=0, max_Q=2,\n",
    "                      njobs=-1, trace=True, error_action='ignore',  suppress_warnings=True)\n",
    "print(model_4.summary())"
   ]
  },
  {
   "cell_type": "code",
   "execution_count": null,
   "metadata": {
    "ExecuteTime": {
     "end_time": "2020-12-10T17:04:33.101039Z",
     "start_time": "2020-12-10T16:49:34.576Z"
    }
   },
   "outputs": [],
   "source": [
    "# Forecast\n",
    "n_periods = len(df_test1)\n",
    "central, confint = model_4.predict(n_periods=n_periods, return_conf_int=True)\n",
    "index_y_test = df_test.index #pd.date_range(df_test.index[-1], periods = n_periods, freq='MS')\n",
    "\n",
    "# make series for plotting purpose\n",
    "central = pd.Series(central, index=index_y_test)\n",
    "lower = pd.Series(confint[:, 0], index=index_y_test)\n",
    "upper = pd.Series(confint[:, 1], index=index_y_test)"
   ]
  },
  {
   "cell_type": "code",
   "execution_count": null,
   "metadata": {
    "ExecuteTime": {
     "end_time": "2020-12-10T17:04:33.104154Z",
     "start_time": "2020-12-10T16:49:34.582Z"
    }
   },
   "outputs": [],
   "source": [
    "# Plot\n",
    "plt.figure(figsize=(12,5), dpi=100)\n",
    "plt.plot(df_train1, label = \"train values\")\n",
    "plt.plot(df_test1, label = \"true test values\")\n",
    "plt.plot(central, color='darkgreen',label = \"forecast\")\n",
    "plt.fill_between(lower.index, \n",
    "                 lower, \n",
    "                 upper, \n",
    "                 color='k', alpha=.15)\n",
    "\n",
    "plt.title(\"SARIMA Forecast\")\n",
    "plt.legend()\n",
    "plt.show()"
   ]
  },
  {
   "cell_type": "code",
   "execution_count": null,
   "metadata": {
    "ExecuteTime": {
     "end_time": "2020-12-10T17:04:33.110185Z",
     "start_time": "2020-12-10T16:49:34.587Z"
    }
   },
   "outputs": [],
   "source": [
    "model_5 = pm.auto_arima(df_train1['Cases_New'],\n",
    "                      m=52*2, # frequency of series. Important to choose manually\n",
    "                      seasonal=True,\n",
    "                      stepwise=True,  # only check most interesting combination. False will take way longer.\n",
    "                      start_p=0, max_p=2,\n",
    "                      start_d=0, max_d=1,\n",
    "                      start_q=0, max_q=2,\n",
    "                      start_P=0, max_P=2,\n",
    "                      start_D=0, max_D=2,\n",
    "                      start_Q=0, max_Q=2,\n",
    "                      njobs=-1, trace=True, error_action='ignore',  suppress_warnings=True)\n",
    "print(model_5.summary())"
   ]
  },
  {
   "cell_type": "markdown",
   "metadata": {},
   "source": [
    "# période avec moins de variations "
   ]
  },
  {
   "cell_type": "code",
   "execution_count": null,
   "metadata": {
    "ExecuteTime": {
     "end_time": "2020-12-10T17:04:33.113879Z",
     "start_time": "2020-12-10T16:49:34.594Z"
    }
   },
   "outputs": [],
   "source": [
    "start_date = '2020-06-01'\n",
    "end_date = '2020-09-29'"
   ]
  },
  {
   "cell_type": "code",
   "execution_count": null,
   "metadata": {
    "ExecuteTime": {
     "end_time": "2020-12-10T17:04:33.117704Z",
     "start_time": "2020-12-10T16:49:34.597Z"
    }
   },
   "outputs": [],
   "source": [
    "mask_2 = (df_fr['Date'] > start_date) & (df_fr['Date'] <= end_date)"
   ]
  },
  {
   "cell_type": "code",
   "execution_count": null,
   "metadata": {},
   "outputs": [],
   "source": []
  }
 ],
 "metadata": {
  "kernelspec": {
   "display_name": "Python 3",
   "language": "python",
   "name": "python3"
  },
  "language_info": {
   "codemirror_mode": {
    "name": "ipython",
    "version": 3
   },
   "file_extension": ".py",
   "mimetype": "text/x-python",
   "name": "python",
   "nbconvert_exporter": "python",
   "pygments_lexer": "ipython3",
   "version": "3.7.7"
  },
  "toc": {
   "base_numbering": 1,
   "nav_menu": {},
   "number_sections": true,
   "sideBar": true,
   "skip_h1_title": false,
   "title_cell": "Table of Contents",
   "title_sidebar": "Contents",
   "toc_cell": false,
   "toc_position": {},
   "toc_section_display": true,
   "toc_window_display": false
  }
 },
 "nbformat": 4,
 "nbformat_minor": 4
}

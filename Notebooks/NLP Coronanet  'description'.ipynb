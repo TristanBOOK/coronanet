{
 "cells": [
  {
   "cell_type": "markdown",
   "metadata": {},
   "source": [
    "# Import Data"
   ]
  },
  {
   "cell_type": "code",
   "execution_count": 35,
   "metadata": {},
   "outputs": [],
   "source": [
    "import pandas as pd"
   ]
  },
  {
   "cell_type": "code",
   "execution_count": 36,
   "metadata": {},
   "outputs": [],
   "source": [
    "df = pd.read_csv('C:/Users/User/Documents/le wagon project/coronanet_release_allvars.csv', encoding='mac_roman')"
   ]
  },
  {
   "cell_type": "code",
   "execution_count": null,
   "metadata": {},
   "outputs": [],
   "source": []
  },
  {
   "cell_type": "markdown",
   "metadata": {},
   "source": [
    "# keep the important columns"
   ]
  },
  {
   "cell_type": "code",
   "execution_count": 37,
   "metadata": {},
   "outputs": [],
   "source": [
    " def tristans_columns(self):\n",
    "        df = self.copy()\n",
    "        df['date_announced'] = pd.to_datetime(df['date_announced'])\n",
    "        df['date_start'] = pd.to_datetime(df['date_start'])\n",
    "        df['date_end'] = pd.to_datetime(df['date_end'])\n",
    "        df['date_announced'].fillna(df['date_start'], inplace = True)\n",
    "        df['date_start'].clip(lower=df['date_announced'], inplace=True)\n",
    "        df_select = df[['policy_id', 'date_start', 'country',\n",
    "           'type', 'type_sub_cat','description', 'ISO_A3','compliance']]\n",
    "        return df_select"
   ]
  },
  {
   "cell_type": "code",
   "execution_count": 38,
   "metadata": {},
   "outputs": [],
   "source": [
    "df= tristans_columns(df)"
   ]
  },
  {
   "cell_type": "code",
   "execution_count": null,
   "metadata": {},
   "outputs": [],
   "source": []
  },
  {
   "cell_type": "code",
   "execution_count": 39,
   "metadata": {},
   "outputs": [
    {
     "data": {
      "text/plain": [
       "policy_id           0\n",
       "date_start          0\n",
       "country             0\n",
       "type                0\n",
       "type_sub_cat    13819\n",
       "description         0\n",
       "ISO_A3            243\n",
       "compliance        244\n",
       "dtype: int64"
      ]
     },
     "execution_count": 39,
     "metadata": {},
     "output_type": "execute_result"
    }
   ],
   "source": [
    "df.isnull().sum(axis = 0)"
   ]
  },
  {
   "cell_type": "code",
   "execution_count": 40,
   "metadata": {},
   "outputs": [],
   "source": [
    "df = df.dropna()"
   ]
  },
  {
   "cell_type": "code",
   "execution_count": 41,
   "metadata": {},
   "outputs": [
    {
     "data": {
      "text/plain": [
       "policy_id       0\n",
       "date_start      0\n",
       "country         0\n",
       "type            0\n",
       "type_sub_cat    0\n",
       "description     0\n",
       "ISO_A3          0\n",
       "compliance      0\n",
       "dtype: int64"
      ]
     },
     "execution_count": 41,
     "metadata": {},
     "output_type": "execute_result"
    }
   ],
   "source": [
    "df.isnull().sum(axis = 0)"
   ]
  },
  {
   "cell_type": "code",
   "execution_count": 42,
   "metadata": {},
   "outputs": [
    {
     "data": {
      "text/html": [
       "<div>\n",
       "<style scoped>\n",
       "    .dataframe tbody tr th:only-of-type {\n",
       "        vertical-align: middle;\n",
       "    }\n",
       "\n",
       "    .dataframe tbody tr th {\n",
       "        vertical-align: top;\n",
       "    }\n",
       "\n",
       "    .dataframe thead th {\n",
       "        text-align: right;\n",
       "    }\n",
       "</style>\n",
       "<table border=\"1\" class=\"dataframe\">\n",
       "  <thead>\n",
       "    <tr style=\"text-align: right;\">\n",
       "      <th></th>\n",
       "      <th>policy_id</th>\n",
       "      <th>date_start</th>\n",
       "      <th>country</th>\n",
       "      <th>type</th>\n",
       "      <th>type_sub_cat</th>\n",
       "      <th>description</th>\n",
       "      <th>ISO_A3</th>\n",
       "      <th>compliance</th>\n",
       "    </tr>\n",
       "  </thead>\n",
       "  <tbody>\n",
       "    <tr>\n",
       "      <th>4</th>\n",
       "      <td>6721435</td>\n",
       "      <td>2020-03-09</td>\n",
       "      <td>Afghanistan</td>\n",
       "      <td>Closure and Regulation of Schools</td>\n",
       "      <td>Preschool or childcare facilities (generally f...</td>\n",
       "      <td>\"All schools in Herat ñ including temporarily ...</td>\n",
       "      <td>AFG</td>\n",
       "      <td>Mandatory (Unspecified/Implied)</td>\n",
       "    </tr>\n",
       "    <tr>\n",
       "      <th>5</th>\n",
       "      <td>6721435</td>\n",
       "      <td>2020-03-09</td>\n",
       "      <td>Afghanistan</td>\n",
       "      <td>Closure and Regulation of Schools</td>\n",
       "      <td>Primary Schools (generally for children ages 1...</td>\n",
       "      <td>\"All schools in Herat ñ including temporarily ...</td>\n",
       "      <td>AFG</td>\n",
       "      <td>Mandatory (Unspecified/Implied)</td>\n",
       "    </tr>\n",
       "    <tr>\n",
       "      <th>6</th>\n",
       "      <td>6721435</td>\n",
       "      <td>2020-03-09</td>\n",
       "      <td>Afghanistan</td>\n",
       "      <td>Closure and Regulation of Schools</td>\n",
       "      <td>Secondary Schools (generally for children ages...</td>\n",
       "      <td>\"All schools in Herat ñ including temporarily ...</td>\n",
       "      <td>AFG</td>\n",
       "      <td>Mandatory (Unspecified/Implied)</td>\n",
       "    </tr>\n",
       "    <tr>\n",
       "      <th>7</th>\n",
       "      <td>6018486</td>\n",
       "      <td>2020-03-11</td>\n",
       "      <td>Afghanistan</td>\n",
       "      <td>Closure and Regulation of Schools</td>\n",
       "      <td>Primary Schools (generally for children ages 1...</td>\n",
       "      <td>In parts of northern Samangan province, school...</td>\n",
       "      <td>AFG</td>\n",
       "      <td>Mandatory (Unspecified/Implied)</td>\n",
       "    </tr>\n",
       "    <tr>\n",
       "      <th>8</th>\n",
       "      <td>6018486</td>\n",
       "      <td>2020-03-11</td>\n",
       "      <td>Afghanistan</td>\n",
       "      <td>Closure and Regulation of Schools</td>\n",
       "      <td>Secondary Schools (generally for children ages...</td>\n",
       "      <td>In parts of northern Samangan province, school...</td>\n",
       "      <td>AFG</td>\n",
       "      <td>Mandatory (Unspecified/Implied)</td>\n",
       "    </tr>\n",
       "    <tr>\n",
       "      <th>...</th>\n",
       "      <td>...</td>\n",
       "      <td>...</td>\n",
       "      <td>...</td>\n",
       "      <td>...</td>\n",
       "      <td>...</td>\n",
       "      <td>...</td>\n",
       "      <td>...</td>\n",
       "      <td>...</td>\n",
       "    </tr>\n",
       "    <tr>\n",
       "      <th>45635</th>\n",
       "      <td>1599366</td>\n",
       "      <td>2020-09-17</td>\n",
       "      <td>Zimbabwe</td>\n",
       "      <td>Restrictions of Mass Gatherings</td>\n",
       "      <td>Postponement of an annually recurring event</td>\n",
       "      <td>In Zimbabwe, restriction of non-essential busi...</td>\n",
       "      <td>ZWE</td>\n",
       "      <td>Mandatory (Unspecified/Implied)</td>\n",
       "    </tr>\n",
       "    <tr>\n",
       "      <th>45636</th>\n",
       "      <td>1599366</td>\n",
       "      <td>2020-09-17</td>\n",
       "      <td>Zimbabwe</td>\n",
       "      <td>Restrictions of Mass Gatherings</td>\n",
       "      <td>Cancellation of a recreational or commercial e...</td>\n",
       "      <td>In Zimbabwe, restriction of non-essential busi...</td>\n",
       "      <td>ZWE</td>\n",
       "      <td>Mandatory (Unspecified/Implied)</td>\n",
       "    </tr>\n",
       "    <tr>\n",
       "      <th>45637</th>\n",
       "      <td>1599366</td>\n",
       "      <td>2020-09-17</td>\n",
       "      <td>Zimbabwe</td>\n",
       "      <td>Restrictions of Mass Gatherings</td>\n",
       "      <td>Postponement of a recreational or commercial e...</td>\n",
       "      <td>In Zimbabwe, restriction of non-essential busi...</td>\n",
       "      <td>ZWE</td>\n",
       "      <td>Mandatory (Unspecified/Implied)</td>\n",
       "    </tr>\n",
       "    <tr>\n",
       "      <th>45638</th>\n",
       "      <td>1599366</td>\n",
       "      <td>2020-09-17</td>\n",
       "      <td>Zimbabwe</td>\n",
       "      <td>Restrictions of Mass Gatherings</td>\n",
       "      <td>Other mass gatherings not specified above rest...</td>\n",
       "      <td>In Zimbabwe, restriction of non-essential busi...</td>\n",
       "      <td>ZWE</td>\n",
       "      <td>Mandatory (Unspecified/Implied)</td>\n",
       "    </tr>\n",
       "    <tr>\n",
       "      <th>45639</th>\n",
       "      <td>4781867</td>\n",
       "      <td>2020-09-22</td>\n",
       "      <td>Zimbabwe</td>\n",
       "      <td>Restrictions of Mass Gatherings</td>\n",
       "      <td>Attendance at religious services restricted (e...</td>\n",
       "      <td>The Zimbabwe minister of Information and publi...</td>\n",
       "      <td>ZWE</td>\n",
       "      <td>Mandatory (Unspecified/Implied)</td>\n",
       "    </tr>\n",
       "  </tbody>\n",
       "</table>\n",
       "<p>31487 rows × 8 columns</p>\n",
       "</div>"
      ],
      "text/plain": [
       "       policy_id date_start      country                               type  \\\n",
       "4        6721435 2020-03-09  Afghanistan  Closure and Regulation of Schools   \n",
       "5        6721435 2020-03-09  Afghanistan  Closure and Regulation of Schools   \n",
       "6        6721435 2020-03-09  Afghanistan  Closure and Regulation of Schools   \n",
       "7        6018486 2020-03-11  Afghanistan  Closure and Regulation of Schools   \n",
       "8        6018486 2020-03-11  Afghanistan  Closure and Regulation of Schools   \n",
       "...          ...        ...          ...                                ...   \n",
       "45635    1599366 2020-09-17     Zimbabwe    Restrictions of Mass Gatherings   \n",
       "45636    1599366 2020-09-17     Zimbabwe    Restrictions of Mass Gatherings   \n",
       "45637    1599366 2020-09-17     Zimbabwe    Restrictions of Mass Gatherings   \n",
       "45638    1599366 2020-09-17     Zimbabwe    Restrictions of Mass Gatherings   \n",
       "45639    4781867 2020-09-22     Zimbabwe    Restrictions of Mass Gatherings   \n",
       "\n",
       "                                            type_sub_cat  \\\n",
       "4      Preschool or childcare facilities (generally f...   \n",
       "5      Primary Schools (generally for children ages 1...   \n",
       "6      Secondary Schools (generally for children ages...   \n",
       "7      Primary Schools (generally for children ages 1...   \n",
       "8      Secondary Schools (generally for children ages...   \n",
       "...                                                  ...   \n",
       "45635        Postponement of an annually recurring event   \n",
       "45636  Cancellation of a recreational or commercial e...   \n",
       "45637  Postponement of a recreational or commercial e...   \n",
       "45638  Other mass gatherings not specified above rest...   \n",
       "45639  Attendance at religious services restricted (e...   \n",
       "\n",
       "                                             description ISO_A3  \\\n",
       "4      \"All schools in Herat ñ including temporarily ...    AFG   \n",
       "5      \"All schools in Herat ñ including temporarily ...    AFG   \n",
       "6      \"All schools in Herat ñ including temporarily ...    AFG   \n",
       "7      In parts of northern Samangan province, school...    AFG   \n",
       "8      In parts of northern Samangan province, school...    AFG   \n",
       "...                                                  ...    ...   \n",
       "45635  In Zimbabwe, restriction of non-essential busi...    ZWE   \n",
       "45636  In Zimbabwe, restriction of non-essential busi...    ZWE   \n",
       "45637  In Zimbabwe, restriction of non-essential busi...    ZWE   \n",
       "45638  In Zimbabwe, restriction of non-essential busi...    ZWE   \n",
       "45639  The Zimbabwe minister of Information and publi...    ZWE   \n",
       "\n",
       "                            compliance  \n",
       "4      Mandatory (Unspecified/Implied)  \n",
       "5      Mandatory (Unspecified/Implied)  \n",
       "6      Mandatory (Unspecified/Implied)  \n",
       "7      Mandatory (Unspecified/Implied)  \n",
       "8      Mandatory (Unspecified/Implied)  \n",
       "...                                ...  \n",
       "45635  Mandatory (Unspecified/Implied)  \n",
       "45636  Mandatory (Unspecified/Implied)  \n",
       "45637  Mandatory (Unspecified/Implied)  \n",
       "45638  Mandatory (Unspecified/Implied)  \n",
       "45639  Mandatory (Unspecified/Implied)  \n",
       "\n",
       "[31487 rows x 8 columns]"
      ]
     },
     "execution_count": 42,
     "metadata": {},
     "output_type": "execute_result"
    }
   ],
   "source": [
    "df"
   ]
  },
  {
   "cell_type": "markdown",
   "metadata": {},
   "source": [
    "# Tokenization and lemmatization"
   ]
  },
  {
   "cell_type": "code",
   "execution_count": 43,
   "metadata": {},
   "outputs": [],
   "source": [
    "df[\"type_and_description\"] = df[\"type\"]+' '+df[\"description\"]"
   ]
  },
  {
   "cell_type": "code",
   "execution_count": 44,
   "metadata": {},
   "outputs": [
    {
     "data": {
      "text/plain": [
       "4        Closure and Regulation of Schools \"All schools...\n",
       "5        Closure and Regulation of Schools \"All schools...\n",
       "6        Closure and Regulation of Schools \"All schools...\n",
       "7        Closure and Regulation of Schools In parts of ...\n",
       "8        Closure and Regulation of Schools In parts of ...\n",
       "                               ...                        \n",
       "45635    Restrictions of Mass Gatherings In Zimbabwe, r...\n",
       "45636    Restrictions of Mass Gatherings In Zimbabwe, r...\n",
       "45637    Restrictions of Mass Gatherings In Zimbabwe, r...\n",
       "45638    Restrictions of Mass Gatherings In Zimbabwe, r...\n",
       "45639    Restrictions of Mass Gatherings The Zimbabwe m...\n",
       "Name: type_and_description, Length: 31487, dtype: object"
      ]
     },
     "execution_count": 44,
     "metadata": {},
     "output_type": "execute_result"
    }
   ],
   "source": [
    "df[\"type_and_description\"]"
   ]
  },
  {
   "cell_type": "code",
   "execution_count": 45,
   "metadata": {},
   "outputs": [],
   "source": [
    "import numpy as np\n",
    "import pandas as pd\n",
    "import datetime\n",
    "import pyreadr\n",
    "import pandas as pd\n",
    "from IPython.display import display\n",
    "from sklearn.preprocessing import OneHotEncoder\n",
    "from nltk.corpus import stopwords \n",
    "import string\n",
    "from nltk.stem.wordnet import WordNetLemmatizer\n",
    "from nltk import word_tokenize \n",
    "from sklearn.decomposition import LatentDirichletAllocation\n",
    "from sklearn.feature_extraction.text import CountVectorizer"
   ]
  },
  {
   "cell_type": "code",
   "execution_count": 46,
   "metadata": {},
   "outputs": [],
   "source": [
    "def clean(x):\n",
    "    x = x.lower()\n",
    "    x = ''.join([letter for letter in x if not letter.isdigit()])\n",
    "    for p in string.punctuation:\n",
    "        x = x.replace(p, \" \")\n",
    "    stops = set(stopwords.words(\"english\"))\n",
    "    tokens = word_tokenize(x)\n",
    "    tokens = ' '.join([token for token in tokens if token not in stops])\n",
    "    return tokens"
   ]
  },
  {
   "cell_type": "code",
   "execution_count": 47,
   "metadata": {},
   "outputs": [],
   "source": [
    "df['clean_description'] = df.type_and_description.apply(clean)"
   ]
  },
  {
   "cell_type": "code",
   "execution_count": 48,
   "metadata": {},
   "outputs": [
    {
     "data": {
      "text/plain": [
       "4        closure regulation schools schools herat ñ inc...\n",
       "5        closure regulation schools schools herat ñ inc...\n",
       "6        closure regulation schools schools herat ñ inc...\n",
       "7        closure regulation schools parts northern sama...\n",
       "8        closure regulation schools parts northern sama...\n",
       "                               ...                        \n",
       "45635    restrictions mass gatherings zimbabwe restrict...\n",
       "45636    restrictions mass gatherings zimbabwe restrict...\n",
       "45637    restrictions mass gatherings zimbabwe restrict...\n",
       "45638    restrictions mass gatherings zimbabwe restrict...\n",
       "45639    restrictions mass gatherings zimbabwe minister...\n",
       "Name: clean_description, Length: 31487, dtype: object"
      ]
     },
     "execution_count": 48,
     "metadata": {},
     "output_type": "execute_result"
    }
   ],
   "source": [
    "df['clean_description']"
   ]
  },
  {
   "cell_type": "code",
   "execution_count": 49,
   "metadata": {},
   "outputs": [],
   "source": [
    "def lemma(text):\n",
    "    lemmatizer = WordNetLemmatizer()\n",
    "    return [lemmatizer.lemmatize(w) for w in text]"
   ]
  },
  {
   "cell_type": "code",
   "execution_count": 50,
   "metadata": {},
   "outputs": [],
   "source": [
    "df['clean_description'] = lemma(df['clean_description'])"
   ]
  },
  {
   "cell_type": "code",
   "execution_count": 51,
   "metadata": {},
   "outputs": [],
   "source": [
    "from nltk.stem.porter import PorterStemmer\n",
    "\n",
    "stemmer = PorterStemmer()\n",
    "\n",
    "df['clean_description'] = [stemmer.stem(word) for word in df['clean_description']]\n"
   ]
  },
  {
   "cell_type": "code",
   "execution_count": null,
   "metadata": {},
   "outputs": [],
   "source": []
  },
  {
   "cell_type": "markdown",
   "metadata": {},
   "source": [
    "# Now lets encode my subcat"
   ]
  },
  {
   "cell_type": "code",
   "execution_count": 52,
   "metadata": {},
   "outputs": [
    {
     "data": {
      "text/html": [
       "<div>\n",
       "<style scoped>\n",
       "    .dataframe tbody tr th:only-of-type {\n",
       "        vertical-align: middle;\n",
       "    }\n",
       "\n",
       "    .dataframe tbody tr th {\n",
       "        vertical-align: top;\n",
       "    }\n",
       "\n",
       "    .dataframe thead th {\n",
       "        text-align: right;\n",
       "    }\n",
       "</style>\n",
       "<table border=\"1\" class=\"dataframe\">\n",
       "  <thead>\n",
       "    <tr style=\"text-align: right;\">\n",
       "      <th></th>\n",
       "      <th>type_sub_cat</th>\n",
       "    </tr>\n",
       "  </thead>\n",
       "  <tbody>\n",
       "    <tr>\n",
       "      <th>4</th>\n",
       "      <td>Preschool or childcare facilities (generally f...</td>\n",
       "    </tr>\n",
       "    <tr>\n",
       "      <th>5</th>\n",
       "      <td>Primary Schools (generally for children ages 1...</td>\n",
       "    </tr>\n",
       "    <tr>\n",
       "      <th>6</th>\n",
       "      <td>Secondary Schools (generally for children ages...</td>\n",
       "    </tr>\n",
       "    <tr>\n",
       "      <th>7</th>\n",
       "      <td>Primary Schools (generally for children ages 1...</td>\n",
       "    </tr>\n",
       "    <tr>\n",
       "      <th>8</th>\n",
       "      <td>Secondary Schools (generally for children ages...</td>\n",
       "    </tr>\n",
       "    <tr>\n",
       "      <th>...</th>\n",
       "      <td>...</td>\n",
       "    </tr>\n",
       "    <tr>\n",
       "      <th>45635</th>\n",
       "      <td>Postponement of an annually recurring event</td>\n",
       "    </tr>\n",
       "    <tr>\n",
       "      <th>45636</th>\n",
       "      <td>Cancellation of a recreational or commercial e...</td>\n",
       "    </tr>\n",
       "    <tr>\n",
       "      <th>45637</th>\n",
       "      <td>Postponement of a recreational or commercial e...</td>\n",
       "    </tr>\n",
       "    <tr>\n",
       "      <th>45638</th>\n",
       "      <td>Other mass gatherings not specified above rest...</td>\n",
       "    </tr>\n",
       "    <tr>\n",
       "      <th>45639</th>\n",
       "      <td>Attendance at religious services restricted (e...</td>\n",
       "    </tr>\n",
       "  </tbody>\n",
       "</table>\n",
       "<p>31487 rows × 1 columns</p>\n",
       "</div>"
      ],
      "text/plain": [
       "                                            type_sub_cat\n",
       "4      Preschool or childcare facilities (generally f...\n",
       "5      Primary Schools (generally for children ages 1...\n",
       "6      Secondary Schools (generally for children ages...\n",
       "7      Primary Schools (generally for children ages 1...\n",
       "8      Secondary Schools (generally for children ages...\n",
       "...                                                  ...\n",
       "45635        Postponement of an annually recurring event\n",
       "45636  Cancellation of a recreational or commercial e...\n",
       "45637  Postponement of a recreational or commercial e...\n",
       "45638  Other mass gatherings not specified above rest...\n",
       "45639  Attendance at religious services restricted (e...\n",
       "\n",
       "[31487 rows x 1 columns]"
      ]
     },
     "execution_count": 52,
     "metadata": {},
     "output_type": "execute_result"
    }
   ],
   "source": [
    "df[['type_sub_cat']]"
   ]
  },
  {
   "cell_type": "code",
   "execution_count": 53,
   "metadata": {},
   "outputs": [],
   "source": [
    "temp = df['type_sub_cat'].value_counts()"
   ]
  },
  {
   "cell_type": "code",
   "execution_count": 54,
   "metadata": {},
   "outputs": [
    {
     "data": {
      "text/plain": [
       "array([ 86,  48,  65,  87,  79,  64,  28,  11,  14,  85,  88,  59,  41,\n",
       "        49,   4,  51,   1,  36,  50,  21,  29,  44,  60,  55,  98,  99,\n",
       "         9,  53,   3,  15,  34,  26, 110,  81,  52,  93,  56,  68,  82,\n",
       "        96,  83,  45,  80,  91,  89, 114, 116, 104, 117, 106,  31,  22,\n",
       "        92,  47,  54,  75,  97,  74,  10,  18,  23,  30,  42,  17,  67,\n",
       "        61,  71,  27,   6,  62,  95,  46,  70,  57,  25,  69, 118,   2,\n",
       "        77, 103,  63, 100,  58,  19,  76,  12,   5,  24,  20,  37,   0,\n",
       "       105, 102,  84,  16,  13,  94,  73,  66,  32,  90,  35, 107,  72,\n",
       "        43,   7,  33, 101,   8,  38, 108, 115, 111, 109,  40,  78,  39,\n",
       "       113, 119, 112], dtype=int64)"
      ]
     },
     "execution_count": 54,
     "metadata": {},
     "output_type": "execute_result"
    }
   ],
   "source": [
    "from sklearn import preprocessing\n",
    "le = preprocessing.LabelEncoder()\n",
    "le.fit_transform(list(pd.DataFrame(temp).reset_index()['index']))"
   ]
  },
  {
   "cell_type": "code",
   "execution_count": 55,
   "metadata": {},
   "outputs": [],
   "source": [
    "from sklearn import preprocessing\n",
    "le = preprocessing.LabelEncoder()\n",
    "le.fit(df['type_sub_cat'])\n",
    "le_name_mapping = dict(zip(le.classes_, le.transform(le.classes_)))\n"
   ]
  },
  {
   "cell_type": "code",
   "execution_count": 56,
   "metadata": {},
   "outputs": [],
   "source": [
    "df['encoded_sub-cat']= df['type_sub_cat'].map(le_name_mapping)"
   ]
  },
  {
   "cell_type": "markdown",
   "metadata": {},
   "source": []
  },
  {
   "cell_type": "code",
   "execution_count": 86,
   "metadata": {},
   "outputs": [
    {
     "data": {
      "text/plain": [
       "4        64\n",
       "5        65\n",
       "6        86\n",
       "7        65\n",
       "8        86\n",
       "         ..\n",
       "45635    63\n",
       "45636     9\n",
       "45637    62\n",
       "45638    55\n",
       "45639     3\n",
       "Name: encoded_sub-cat, Length: 31487, dtype: int64"
      ]
     },
     "execution_count": 86,
     "metadata": {},
     "output_type": "execute_result"
    }
   ],
   "source": [
    "df['encoded_sub-cat']"
   ]
  },
  {
   "cell_type": "markdown",
   "metadata": {},
   "source": [
    "# Now we can run a Naive Bayes model and see its score"
   ]
  },
  {
   "cell_type": "code",
   "execution_count": 58,
   "metadata": {},
   "outputs": [],
   "source": [
    "from sklearn.feature_extraction.text import TfidfVectorizer\n",
    "vectorizer = TfidfVectorizer()\n",
    "X = vectorizer.fit_transform(df['clean_description']) \n",
    "y = df['encoded_sub-cat']"
   ]
  },
  {
   "cell_type": "code",
   "execution_count": 59,
   "metadata": {},
   "outputs": [
    {
     "data": {
      "text/plain": [
       "0.3131133483659923"
      ]
     },
     "execution_count": 59,
     "metadata": {},
     "output_type": "execute_result"
    }
   ],
   "source": [
    "from sklearn.naive_bayes import MultinomialNB\n",
    "\n",
    "nb_model = MultinomialNB()\n",
    "\n",
    "nb_model.fit(X,y)\n",
    "\n",
    "nb_model.score(X,y)"
   ]
  },
  {
   "cell_type": "code",
   "execution_count": 60,
   "metadata": {},
   "outputs": [
    {
     "data": {
      "text/plain": [
       "False    145\n",
       "True      55\n",
       "Name: encoded_sub-cat, dtype: int64"
      ]
     },
     "execution_count": 60,
     "metadata": {},
     "output_type": "execute_result"
    }
   ],
   "source": [
    "A = nb_model.predict(vectorizer.fit_transform(df[\"clean_description\"])[31287:])\n",
    "\n",
    "B =df['encoded_sub-cat'][31287:]\n",
    "\n",
    "C = A==B\n",
    "\n",
    "C.value_counts()"
   ]
  },
  {
   "cell_type": "code",
   "execution_count": null,
   "metadata": {},
   "outputs": [],
   "source": []
  },
  {
   "cell_type": "code",
   "execution_count": 61,
   "metadata": {},
   "outputs": [
    {
     "data": {
      "text/plain": [
       "0.275"
      ]
     },
     "execution_count": 61,
     "metadata": {},
     "output_type": "execute_result"
    }
   ],
   "source": [
    "55/200"
   ]
  },
  {
   "cell_type": "markdown",
   "metadata": {},
   "source": []
  },
  {
   "cell_type": "code",
   "execution_count": null,
   "metadata": {},
   "outputs": [],
   "source": []
  },
  {
   "cell_type": "markdown",
   "metadata": {},
   "source": []
  },
  {
   "cell_type": "code",
   "execution_count": null,
   "metadata": {},
   "outputs": [],
   "source": []
  },
  {
   "cell_type": "code",
   "execution_count": null,
   "metadata": {},
   "outputs": [],
   "source": []
  },
  {
   "cell_type": "code",
   "execution_count": null,
   "metadata": {},
   "outputs": [],
   "source": []
  },
  {
   "cell_type": "code",
   "execution_count": null,
   "metadata": {},
   "outputs": [],
   "source": []
  },
  {
   "cell_type": "code",
   "execution_count": null,
   "metadata": {},
   "outputs": [],
   "source": []
  },
  {
   "cell_type": "code",
   "execution_count": null,
   "metadata": {},
   "outputs": [],
   "source": []
  },
  {
   "cell_type": "markdown",
   "metadata": {},
   "source": []
  },
  {
   "cell_type": "markdown",
   "metadata": {},
   "source": [
    "How do I increase my score ? Need to do a nice grid search, maybe find a way to regroup some of the sub-cats, maybe only take the top 3 results, then REDO a naive Bayse pred from those => OVER THE WEEKEND"
   ]
  },
  {
   "cell_type": "markdown",
   "metadata": {},
   "source": [
    "## Gonna try with a pipeline and Gridsearch now"
   ]
  },
  {
   "cell_type": "code",
   "execution_count": null,
   "metadata": {},
   "outputs": [],
   "source": []
  },
  {
   "cell_type": "code",
   "execution_count": null,
   "metadata": {},
   "outputs": [],
   "source": []
  },
  {
   "cell_type": "code",
   "execution_count": 35,
   "metadata": {},
   "outputs": [],
   "source": [
    "from sklearn.model_selection import GridSearchCV\n",
    "from sklearn.pipeline import Pipeline\n",
    "\n",
    "# Create Pipeline\n",
    "pipeline = Pipeline([\n",
    "    ('tfidf', TfidfVectorizer()),\n",
    "    ('nb', MultinomialNB()),\n",
    "])\n",
    "\n",
    "# Set parameters to search\n",
    "parameters = {\n",
    "    'tfidf__ngram_range': ((1,1),(2,2)),\n",
    "    'tfidf__max_features': (1000,2000,3000),\n",
    "    'tfidf__max_df': (1,0.9,0.8,0.7),\n",
    "    'nb__alpha': (0,0.1)}\n",
    "\n",
    "# Perform grid search\n",
    "grid_search = GridSearchCV(pipeline, parameters, n_jobs=1, \n",
    "                           verbose=1, scoring = \"accuracy\", \n",
    "                           refit=True, cv=5)\n",
    "\n",
    "\n"
   ]
  },
  {
   "cell_type": "code",
   "execution_count": 36,
   "metadata": {},
   "outputs": [],
   "source": [
    "#grid_search.fit(X,y)"
   ]
  },
  {
   "cell_type": "code",
   "execution_count": 37,
   "metadata": {},
   "outputs": [
    {
     "ename": "AttributeError",
     "evalue": "'GridSearchCV' object has no attribute 'best_params_'",
     "output_type": "error",
     "traceback": [
      "\u001b[1;31m---------------------------------------------------------------------------\u001b[0m",
      "\u001b[1;31mAttributeError\u001b[0m                            Traceback (most recent call last)",
      "\u001b[1;32m<ipython-input-37-b1068600e498>\u001b[0m in \u001b[0;36m<module>\u001b[1;34m\u001b[0m\n\u001b[1;32m----> 1\u001b[1;33m \u001b[0mgrid_search\u001b[0m\u001b[1;33m.\u001b[0m\u001b[0mbest_params_\u001b[0m\u001b[1;33m\u001b[0m\u001b[1;33m\u001b[0m\u001b[0m\n\u001b[0m",
      "\u001b[1;31mAttributeError\u001b[0m: 'GridSearchCV' object has no attribute 'best_params_'"
     ]
    }
   ],
   "source": [
    "grid_search.best_params_"
   ]
  },
  {
   "cell_type": "code",
   "execution_count": null,
   "metadata": {},
   "outputs": [],
   "source": [
    "grid_search.best_score_"
   ]
  },
  {
   "cell_type": "markdown",
   "metadata": {},
   "source": [
    "After multiple gridsearches, I realised this wasnt working so I stuck to this one for now (I'm testing it on the last 200 subcats here):"
   ]
  },
  {
   "cell_type": "code",
   "execution_count": 62,
   "metadata": {},
   "outputs": [],
   "source": [
    "from sklearn.feature_extraction.text import TfidfVectorizer\n",
    "vectorizer = TfidfVectorizer()\n",
    "X = vectorizer.fit_transform(df['clean_description'])[:31287]\n",
    "y = df['encoded_sub-cat'][:31287]"
   ]
  },
  {
   "cell_type": "code",
   "execution_count": 63,
   "metadata": {},
   "outputs": [
    {
     "data": {
      "text/plain": [
       "0.31345287179978903"
      ]
     },
     "execution_count": 63,
     "metadata": {},
     "output_type": "execute_result"
    }
   ],
   "source": [
    "from sklearn.naive_bayes import MultinomialNB\n",
    "\n",
    "nb_model = MultinomialNB()\n",
    "\n",
    "nb_model.fit(X,y)\n",
    "\n",
    "nb_model.score(X,y)"
   ]
  },
  {
   "cell_type": "code",
   "execution_count": 65,
   "metadata": {},
   "outputs": [],
   "source": [
    "A = nb_model.predict(vectorizer.fit_transform(df['clean_description'])[31287:])"
   ]
  },
  {
   "cell_type": "code",
   "execution_count": 66,
   "metadata": {},
   "outputs": [],
   "source": [
    "B =df['encoded_sub-cat'][31287:]"
   ]
  },
  {
   "cell_type": "code",
   "execution_count": 67,
   "metadata": {},
   "outputs": [],
   "source": [
    "C = A==B"
   ]
  },
  {
   "cell_type": "code",
   "execution_count": 68,
   "metadata": {},
   "outputs": [
    {
     "data": {
      "text/plain": [
       "False    153\n",
       "True      47\n",
       "Name: encoded_sub-cat, dtype: int64"
      ]
     },
     "execution_count": 68,
     "metadata": {},
     "output_type": "execute_result"
    }
   ],
   "source": [
    "C.value_counts()"
   ]
  },
  {
   "cell_type": "markdown",
   "metadata": {},
   "source": [
    "## 47 true / 200 (keep that in mind for later)"
   ]
  },
  {
   "cell_type": "markdown",
   "metadata": {},
   "source": [
    "# Now im gonna try a SGDC model to see if it can give me a better pred"
   ]
  },
  {
   "cell_type": "code",
   "execution_count": 72,
   "metadata": {},
   "outputs": [],
   "source": [
    "from sklearn.linear_model import SGDClassifier"
   ]
  },
  {
   "cell_type": "code",
   "execution_count": 73,
   "metadata": {},
   "outputs": [],
   "source": [
    "SGDC = SGDClassifier()\n",
    "#No params for now\n",
    "# loss =‘hinge’, ‘log’, ‘modified_huber’, ‘squared_hinge’, ‘perceptron’, or a regression loss: ‘squared_loss’, ‘huber’, ‘epsilon_insensitive’, or ‘squared_epsilon_insensitive’"
   ]
  },
  {
   "cell_type": "code",
   "execution_count": null,
   "metadata": {},
   "outputs": [],
   "source": []
  },
  {
   "cell_type": "code",
   "execution_count": 74,
   "metadata": {},
   "outputs": [],
   "source": [
    "vectorizer = TfidfVectorizer()\n",
    "X = vectorizer.fit_transform(df[\"clean_description\"])[:31287]\n",
    "y = df['encoded_sub-cat'][:31287]"
   ]
  },
  {
   "cell_type": "code",
   "execution_count": 75,
   "metadata": {},
   "outputs": [
    {
     "name": "stderr",
     "output_type": "stream",
     "text": [
      "c:\\users\\user\\.venvs\\lewagon\\lib\\site-packages\\sklearn\\linear_model\\stochastic_gradient.py:166: FutureWarning: max_iter and tol parameters have been added in SGDClassifier in 0.19. If both are left unset, they default to max_iter=5 and tol=None. If tol is not None, max_iter defaults to max_iter=1000. From 0.21, default max_iter will be 1000, and default tol will be 1e-3.\n",
      "  FutureWarning)\n"
     ]
    },
    {
     "data": {
      "text/plain": [
       "SGDClassifier(alpha=0.0001, average=False, class_weight=None,\n",
       "       early_stopping=False, epsilon=0.1, eta0=0.0, fit_intercept=True,\n",
       "       l1_ratio=0.15, learning_rate='optimal', loss='hinge', max_iter=None,\n",
       "       n_iter=None, n_iter_no_change=5, n_jobs=None, penalty='l2',\n",
       "       power_t=0.5, random_state=None, shuffle=True, tol=None,\n",
       "       validation_fraction=0.1, verbose=0, warm_start=False)"
      ]
     },
     "execution_count": 75,
     "metadata": {},
     "output_type": "execute_result"
    }
   ],
   "source": [
    "SGDC.fit(X,y)"
   ]
  },
  {
   "cell_type": "code",
   "execution_count": 76,
   "metadata": {},
   "outputs": [
    {
     "data": {
      "text/plain": [
       "0.5446990762936683"
      ]
     },
     "execution_count": 76,
     "metadata": {},
     "output_type": "execute_result"
    }
   ],
   "source": [
    "SGDC.score(X,y)"
   ]
  },
  {
   "cell_type": "markdown",
   "metadata": {},
   "source": [
    "55%...Ill tryn it on the last 200 rows"
   ]
  },
  {
   "cell_type": "code",
   "execution_count": 78,
   "metadata": {},
   "outputs": [],
   "source": [
    "A = SGDC.predict(vectorizer.fit_transform(df[\"clean_description\"])[31287:])"
   ]
  },
  {
   "cell_type": "code",
   "execution_count": 79,
   "metadata": {},
   "outputs": [],
   "source": [
    "B =df['encoded_sub-cat'][31287:]"
   ]
  },
  {
   "cell_type": "code",
   "execution_count": 80,
   "metadata": {},
   "outputs": [],
   "source": [
    "C = A==B"
   ]
  },
  {
   "cell_type": "code",
   "execution_count": 81,
   "metadata": {},
   "outputs": [
    {
     "data": {
      "text/plain": [
       "False    127\n",
       "True      73\n",
       "Name: encoded_sub-cat, dtype: int64"
      ]
     },
     "execution_count": 81,
     "metadata": {},
     "output_type": "execute_result"
    }
   ],
   "source": [
    "C.value_counts()"
   ]
  },
  {
   "cell_type": "code",
   "execution_count": 82,
   "metadata": {},
   "outputs": [
    {
     "data": {
      "text/plain": [
       "0.365"
      ]
     },
     "execution_count": 82,
     "metadata": {},
     "output_type": "execute_result"
    }
   ],
   "source": [
    "73/200"
   ]
  },
  {
   "cell_type": "markdown",
   "metadata": {},
   "source": [
    "# WELL.."
   ]
  },
  {
   "cell_type": "markdown",
   "metadata": {},
   "source": [
    "## Now i need to play with the params to get the best pred, this might take some time..."
   ]
  },
  {
   "cell_type": "code",
   "execution_count": 156,
   "metadata": {},
   "outputs": [],
   "source": [
    "from sklearn.model_selection import GridSearchCV\n",
    "from sklearn.pipeline import Pipeline\n",
    "from sklearn.model_selection import RandomizedSearchCV\n",
    "\n",
    "# Create Pipeline\n",
    "pipeline = Pipeline([\n",
    "    ('tfidf', TfidfVectorizer()),\n",
    "    ('SGDC', SGDClassifier()),\n",
    "])\n",
    "\n",
    "# Set parameters to search\n",
    "parameters = {\n",
    "    'tfidf__max_features': (1000,5000,10000),\n",
    "    'tfidf__max_df': (0.6, 0.4, 0.2),\n",
    "    'SGDC__loss': ('modified_huber', 'squared_loss', 'huber', 'epsilon_insensitive'),\n",
    "    'SGDC__alpha': (0.001, 0.005, 0.007)}\n",
    "\n",
    "# Perform grid search\n",
    "grid_search = GridSearchCV(pipeline, parameters, n_jobs=1,verbose = 1,\n",
    "                         scoring = \"accuracy\", \n",
    "                           refit=True, cv=5)"
   ]
  },
  {
   "cell_type": "code",
   "execution_count": 157,
   "metadata": {},
   "outputs": [],
   "source": [
    "X =df[\"clean_description\"]\n",
    "y = df['encoded_sub-cat']"
   ]
  },
  {
   "cell_type": "code",
   "execution_count": 158,
   "metadata": {},
   "outputs": [
    {
     "name": "stdout",
     "output_type": "stream",
     "text": [
      "Fitting 5 folds for each of 108 candidates, totalling 540 fits\n"
     ]
    },
    {
     "name": "stderr",
     "output_type": "stream",
     "text": [
      "c:\\users\\user\\.venvs\\lewagon\\lib\\site-packages\\sklearn\\model_selection\\_split.py:651: Warning: The least populated class in y has only 1 members, which is too few. The minimum number of members in any class cannot be less than n_splits=5.\n",
      "  % (min_groups, self.n_splits)), Warning)\n",
      "[Parallel(n_jobs=1)]: Using backend SequentialBackend with 1 concurrent workers.\n",
      "c:\\users\\user\\.venvs\\lewagon\\lib\\site-packages\\sklearn\\linear_model\\stochastic_gradient.py:166: FutureWarning: max_iter and tol parameters have been added in SGDClassifier in 0.19. If both are left unset, they default to max_iter=5 and tol=None. If tol is not None, max_iter defaults to max_iter=1000. From 0.21, default max_iter will be 1000, and default tol will be 1e-3.\n",
      "  FutureWarning)\n",
      "[Parallel(n_jobs=1)]: Done 540 out of 540 | elapsed: 82.1min finished\n",
      "c:\\users\\user\\.venvs\\lewagon\\lib\\site-packages\\sklearn\\model_selection\\_search.py:842: DeprecationWarning: The default of the `iid` parameter will change from True to False in version 0.22 and will be removed in 0.24. This will change numeric results when test-set sizes are unequal.\n",
      "  DeprecationWarning)\n"
     ]
    },
    {
     "data": {
      "text/plain": [
       "GridSearchCV(cv=5, error_score='raise-deprecating',\n",
       "       estimator=Pipeline(memory=None,\n",
       "     steps=[('tfidf', TfidfVectorizer(analyzer='word', binary=False, decode_error='strict',\n",
       "        dtype=<class 'numpy.float64'>, encoding='utf-8', input='content',\n",
       "        lowercase=True, max_df=1.0, max_features=None, min_df=1,\n",
       "        ngram_range=(1, 1), norm='l2', preprocessor=None, smooth_idf=True,...m_state=None, shuffle=True, tol=None,\n",
       "       validation_fraction=0.1, verbose=0, warm_start=False))]),\n",
       "       fit_params=None, iid='warn', n_jobs=1,\n",
       "       param_grid={'tfidf__max_features': (1000, 5000, 10000), 'tfidf__max_df': (0.6, 0.4, 0.2), 'SGDC__loss': ('modified_huber', 'squared_loss', 'huber', 'epsilon_insensitive'), 'SGDC__alpha': (0.001, 0.005, 0.007)},\n",
       "       pre_dispatch='2*n_jobs', refit=True, return_train_score='warn',\n",
       "       scoring='accuracy', verbose=1)"
      ]
     },
     "execution_count": 158,
     "metadata": {},
     "output_type": "execute_result"
    }
   ],
   "source": [
    "grid_search.fit(X,y)"
   ]
  },
  {
   "cell_type": "code",
   "execution_count": 159,
   "metadata": {},
   "outputs": [
    {
     "data": {
      "text/plain": [
       "{'SGDC__alpha': 0.001,\n",
       " 'SGDC__loss': 'modified_huber',\n",
       " 'tfidf__max_df': 0.6,\n",
       " 'tfidf__max_features': 5000}"
      ]
     },
     "execution_count": 159,
     "metadata": {},
     "output_type": "execute_result"
    }
   ],
   "source": [
    "grid_search.best_params_"
   ]
  },
  {
   "cell_type": "code",
   "execution_count": 161,
   "metadata": {},
   "outputs": [
    {
     "data": {
      "text/plain": [
       "0.3540191190014927"
      ]
     },
     "execution_count": 161,
     "metadata": {},
     "output_type": "execute_result"
    }
   ],
   "source": [
    "grid_search.best_score_"
   ]
  },
  {
   "cell_type": "code",
   "execution_count": 162,
   "metadata": {},
   "outputs": [],
   "source": [
    "vectorizer = TfidfVectorizer(max_df =  0.6, max_features = 5000)\n",
    "X = vectorizer.fit_transform(df['clean_description'])\n",
    "y = df['encoded_sub-cat']"
   ]
  },
  {
   "cell_type": "code",
   "execution_count": 163,
   "metadata": {},
   "outputs": [],
   "source": [
    "from sklearn.model_selection import train_test_split\n",
    "X_train, X_test, y_train, y_test = train_test_split(X, y, test_size=0.20, random_state=1)"
   ]
  },
  {
   "cell_type": "code",
   "execution_count": 164,
   "metadata": {},
   "outputs": [
    {
     "data": {
      "text/plain": [
       "SGDClassifier(alpha=0.001, average=False, class_weight=None,\n",
       "       early_stopping=False, epsilon=0.1, eta0=0.0, fit_intercept=True,\n",
       "       l1_ratio=0.15, learning_rate='optimal', loss='modified_huber',\n",
       "       max_iter=None, n_iter=None, n_iter_no_change=5, n_jobs=None,\n",
       "       penalty='l2', power_t=0.5, random_state=None, shuffle=True,\n",
       "       tol=None, validation_fraction=0.1, verbose=0, warm_start=False)"
      ]
     },
     "execution_count": 164,
     "metadata": {},
     "output_type": "execute_result"
    }
   ],
   "source": [
    "SGDC = SGDClassifier(alpha =  0.001, loss = 'modified_huber')\n",
    "SGDC.fit(X_train,y_train)"
   ]
  },
  {
   "cell_type": "code",
   "execution_count": 165,
   "metadata": {},
   "outputs": [
    {
     "data": {
      "text/plain": [
       "0.49799515661598315"
      ]
     },
     "execution_count": 165,
     "metadata": {},
     "output_type": "execute_result"
    }
   ],
   "source": [
    "SGDC.score(X_train,y_train)"
   ]
  },
  {
   "cell_type": "code",
   "execution_count": 166,
   "metadata": {},
   "outputs": [
    {
     "data": {
      "text/plain": [
       "False    4047\n",
       "True     2251\n",
       "Name: encoded_sub-cat, dtype: int64"
      ]
     },
     "execution_count": 166,
     "metadata": {},
     "output_type": "execute_result"
    }
   ],
   "source": [
    "A = SGDC.predict(X_test)\n",
    "B = y_test\n",
    "\n",
    "C= A==B\n",
    "\n",
    "C.value_counts()"
   ]
  },
  {
   "cell_type": "code",
   "execution_count": 167,
   "metadata": {},
   "outputs": [
    {
     "data": {
      "text/plain": [
       "35.74150523975865"
      ]
     },
     "execution_count": 167,
     "metadata": {},
     "output_type": "execute_result"
    }
   ],
   "source": [
    "2251/6298 * 100"
   ]
  },
  {
   "cell_type": "code",
   "execution_count": null,
   "metadata": {},
   "outputs": [],
   "source": []
  },
  {
   "cell_type": "code",
   "execution_count": null,
   "metadata": {},
   "outputs": [],
   "source": []
  },
  {
   "cell_type": "code",
   "execution_count": null,
   "metadata": {},
   "outputs": [],
   "source": []
  },
  {
   "cell_type": "code",
   "execution_count": null,
   "metadata": {},
   "outputs": [],
   "source": []
  },
  {
   "cell_type": "markdown",
   "metadata": {},
   "source": [
    "## Guess I cant get higher than this.."
   ]
  },
  {
   "cell_type": "code",
   "execution_count": null,
   "metadata": {},
   "outputs": [],
   "source": []
  },
  {
   "cell_type": "code",
   "execution_count": null,
   "metadata": {},
   "outputs": [],
   "source": []
  },
  {
   "cell_type": "code",
   "execution_count": null,
   "metadata": {},
   "outputs": [],
   "source": []
  },
  {
   "cell_type": "code",
   "execution_count": null,
   "metadata": {},
   "outputs": [],
   "source": []
  },
  {
   "cell_type": "code",
   "execution_count": null,
   "metadata": {},
   "outputs": [],
   "source": []
  },
  {
   "cell_type": "code",
   "execution_count": null,
   "metadata": {},
   "outputs": [],
   "source": []
  },
  {
   "cell_type": "code",
   "execution_count": null,
   "metadata": {},
   "outputs": [],
   "source": []
  }
 ],
 "metadata": {
  "kernelspec": {
   "display_name": "Python 3",
   "language": "python",
   "name": "python3"
  },
  "language_info": {
   "codemirror_mode": {
    "name": "ipython",
    "version": 3
   },
   "file_extension": ".py",
   "mimetype": "text/x-python",
   "name": "python",
   "nbconvert_exporter": "python",
   "pygments_lexer": "ipython3",
   "version": "3.7.7"
  }
 },
 "nbformat": 4,
 "nbformat_minor": 4
}

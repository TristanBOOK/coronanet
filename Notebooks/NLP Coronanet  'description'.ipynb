{
 "cells": [
  {
   "cell_type": "markdown",
   "metadata": {},
   "source": [
    "# Import Data"
   ]
  },
  {
   "cell_type": "code",
   "execution_count": 1,
   "metadata": {},
   "outputs": [],
   "source": [
    "import pandas as pd"
   ]
  },
  {
   "cell_type": "code",
   "execution_count": 2,
   "metadata": {},
   "outputs": [],
   "source": [
    "df = pd.read_csv('C:/Users/User/Documents/le wagon project/coronanet_release_allvars.csv', encoding='mac_roman')"
   ]
  },
  {
   "cell_type": "code",
   "execution_count": 3,
   "metadata": {},
   "outputs": [
    {
     "name": "stdout",
     "output_type": "stream",
     "text": [
      "Unnamed: 0\n",
      "record_id\n",
      "policy_id\n",
      "entry_type\n",
      "correct_type\n",
      "update_type\n",
      "update_level\n",
      "description\n",
      "date_announced\n",
      "date_start\n",
      "date_end\n",
      "country\n",
      "ISO_A3\n",
      "ISO_A2\n",
      "init_country_level\n",
      "domestic_policy\n",
      "province\n",
      "city\n",
      "type\n",
      "type_sub_cat\n",
      "type_text\n",
      "institution_status\n",
      "target_country\n",
      "target_geog_level\n",
      "target_region\n",
      "target_province\n",
      "target_city\n",
      "target_other\n",
      "target_who_what\n",
      "target_direction\n",
      "travel_mechanism\n",
      "compliance\n",
      "enforcer\n",
      "index_high_est\n",
      "index_med_est\n",
      "index_low_est\n",
      "index_country_rank\n",
      "link\n",
      "date_updated\n",
      "recorded_date\n",
      "confirmed_cases\n",
      "deaths\n",
      "recovered\n",
      "new_tests\n",
      "total_tests\n",
      "total_tests_per_thousand\n",
      "tests_units\n",
      "Rank_FP\n",
      "Score_FP\n",
      "state_IDC\n",
      "muni_IDC\n",
      "dispersive_IDC\n",
      "constraining_IDC\n",
      "inclusive_IDC\n",
      "sfi_SFI\n",
      "ti_cpi_TI\n",
      "pop_WDI_PW\n",
      "gdp_WDI_PW\n",
      "gdppc_WDI_PW\n",
      "growth_WDI_PW\n",
      "lnpop_WDI_PW\n",
      "lngdp_WDI_PW\n",
      "lngdppc_WDI_PW\n",
      "disap_FA\n",
      "polpris_FA\n",
      "latentmean_FA\n",
      "transparencyindex_HR\n",
      "EmigrantStock_EMS\n",
      "v2x_polyarchy_VDEM\n"
     ]
    }
   ],
   "source": [
    "for col in df.columns: \n",
    "    print(col) "
   ]
  },
  {
   "cell_type": "markdown",
   "metadata": {},
   "source": [
    "# keep the important columns"
   ]
  },
  {
   "cell_type": "code",
   "execution_count": 4,
   "metadata": {},
   "outputs": [],
   "source": [
    " def tristans_columns(self):\n",
    "        df = self.copy()\n",
    "        df['date_announced'] = pd.to_datetime(df['date_announced'])\n",
    "        df['date_start'] = pd.to_datetime(df['date_start'])\n",
    "        df['date_end'] = pd.to_datetime(df['date_end'])\n",
    "        df['date_announced'].fillna(df['date_start'], inplace = True)\n",
    "        df['date_start'].clip(lower=df['date_announced'], inplace=True)\n",
    "        df_select = df[['policy_id', 'date_start', 'country',\n",
    "           'type', 'type_sub_cat','description', 'ISO_A3','compliance']]\n",
    "        df_select.drop_duplicates(subset=['policy_id'], inplace=True)\n",
    "        return df_select"
   ]
  },
  {
   "cell_type": "code",
   "execution_count": 5,
   "metadata": {},
   "outputs": [
    {
     "name": "stderr",
     "output_type": "stream",
     "text": [
      "c:\\users\\user\\.venvs\\lewagon\\lib\\site-packages\\ipykernel_launcher.py:10: SettingWithCopyWarning: \n",
      "A value is trying to be set on a copy of a slice from a DataFrame\n",
      "\n",
      "See the caveats in the documentation: https://pandas.pydata.org/pandas-docs/stable/user_guide/indexing.html#returning-a-view-versus-a-copy\n",
      "  # Remove the CWD from sys.path while we load stuff.\n"
     ]
    }
   ],
   "source": [
    "df= tristans_columns(df)"
   ]
  },
  {
   "cell_type": "code",
   "execution_count": 6,
   "metadata": {},
   "outputs": [
    {
     "name": "stdout",
     "output_type": "stream",
     "text": [
      "policy_id\n",
      "date_start\n",
      "country\n",
      "type\n",
      "type_sub_cat\n",
      "description\n",
      "ISO_A3\n",
      "compliance\n"
     ]
    }
   ],
   "source": [
    "for col in df.columns: \n",
    "    print(col) "
   ]
  },
  {
   "cell_type": "code",
   "execution_count": 7,
   "metadata": {},
   "outputs": [
    {
     "data": {
      "text/plain": [
       "policy_id           0\n",
       "date_start          0\n",
       "country             0\n",
       "type                0\n",
       "type_sub_cat    10257\n",
       "description         0\n",
       "ISO_A3            133\n",
       "compliance        125\n",
       "dtype: int64"
      ]
     },
     "execution_count": 7,
     "metadata": {},
     "output_type": "execute_result"
    }
   ],
   "source": [
    "df.isnull().sum(axis = 0)"
   ]
  },
  {
   "cell_type": "code",
   "execution_count": 8,
   "metadata": {},
   "outputs": [],
   "source": [
    "df = df.dropna()"
   ]
  },
  {
   "cell_type": "code",
   "execution_count": 9,
   "metadata": {},
   "outputs": [
    {
     "data": {
      "text/plain": [
       "policy_id       0\n",
       "date_start      0\n",
       "country         0\n",
       "type            0\n",
       "type_sub_cat    0\n",
       "description     0\n",
       "ISO_A3          0\n",
       "compliance      0\n",
       "dtype: int64"
      ]
     },
     "execution_count": 9,
     "metadata": {},
     "output_type": "execute_result"
    }
   ],
   "source": [
    "df.isnull().sum(axis = 0)"
   ]
  },
  {
   "cell_type": "code",
   "execution_count": 10,
   "metadata": {},
   "outputs": [
    {
     "data": {
      "text/html": [
       "<div>\n",
       "<style scoped>\n",
       "    .dataframe tbody tr th:only-of-type {\n",
       "        vertical-align: middle;\n",
       "    }\n",
       "\n",
       "    .dataframe tbody tr th {\n",
       "        vertical-align: top;\n",
       "    }\n",
       "\n",
       "    .dataframe thead th {\n",
       "        text-align: right;\n",
       "    }\n",
       "</style>\n",
       "<table border=\"1\" class=\"dataframe\">\n",
       "  <thead>\n",
       "    <tr style=\"text-align: right;\">\n",
       "      <th></th>\n",
       "      <th>policy_id</th>\n",
       "      <th>date_start</th>\n",
       "      <th>country</th>\n",
       "      <th>type</th>\n",
       "      <th>type_sub_cat</th>\n",
       "      <th>description</th>\n",
       "      <th>ISO_A3</th>\n",
       "      <th>compliance</th>\n",
       "    </tr>\n",
       "  </thead>\n",
       "  <tbody>\n",
       "    <tr>\n",
       "      <th>4</th>\n",
       "      <td>6721435</td>\n",
       "      <td>2020-03-09</td>\n",
       "      <td>Afghanistan</td>\n",
       "      <td>Closure and Regulation of Schools</td>\n",
       "      <td>Preschool or childcare facilities (generally f...</td>\n",
       "      <td>\"All schools in Herat ñ including temporarily ...</td>\n",
       "      <td>AFG</td>\n",
       "      <td>Mandatory (Unspecified/Implied)</td>\n",
       "    </tr>\n",
       "    <tr>\n",
       "      <th>7</th>\n",
       "      <td>6018486</td>\n",
       "      <td>2020-03-11</td>\n",
       "      <td>Afghanistan</td>\n",
       "      <td>Closure and Regulation of Schools</td>\n",
       "      <td>Primary Schools (generally for children ages 1...</td>\n",
       "      <td>In parts of northern Samangan province, school...</td>\n",
       "      <td>AFG</td>\n",
       "      <td>Mandatory (Unspecified/Implied)</td>\n",
       "    </tr>\n",
       "    <tr>\n",
       "      <th>10</th>\n",
       "      <td>3558044</td>\n",
       "      <td>2020-03-14</td>\n",
       "      <td>Afghanistan</td>\n",
       "      <td>Closure and Regulation of Schools</td>\n",
       "      <td>Preschool or childcare facilities (generally f...</td>\n",
       "      <td>\"On 14 March, the Government of Afghanistan an...</td>\n",
       "      <td>AFG</td>\n",
       "      <td>Mandatory (Unspecified/Implied)</td>\n",
       "    </tr>\n",
       "    <tr>\n",
       "      <th>18</th>\n",
       "      <td>2231982</td>\n",
       "      <td>2020-04-18</td>\n",
       "      <td>Afghanistan</td>\n",
       "      <td>Closure and Regulation of Schools</td>\n",
       "      <td>Primary Schools (generally for children ages 1...</td>\n",
       "      <td>April 11, Afghanistan's \"President Ghani says ...</td>\n",
       "      <td>AFG</td>\n",
       "      <td>Mandatory (Unspecified/Implied)</td>\n",
       "    </tr>\n",
       "    <tr>\n",
       "      <th>21</th>\n",
       "      <td>1212064</td>\n",
       "      <td>2020-06-03</td>\n",
       "      <td>Afghanistan</td>\n",
       "      <td>Closure and Regulation of Schools</td>\n",
       "      <td>Preschool or childcare facilities (generally f...</td>\n",
       "      <td>April 14 \"Afghanistan on Saturday announced th...</td>\n",
       "      <td>AFG</td>\n",
       "      <td>Mandatory (Unspecified/Implied)</td>\n",
       "    </tr>\n",
       "    <tr>\n",
       "      <th>...</th>\n",
       "      <td>...</td>\n",
       "      <td>...</td>\n",
       "      <td>...</td>\n",
       "      <td>...</td>\n",
       "      <td>...</td>\n",
       "      <td>...</td>\n",
       "      <td>...</td>\n",
       "      <td>...</td>\n",
       "    </tr>\n",
       "    <tr>\n",
       "      <th>45629</th>\n",
       "      <td>6143876</td>\n",
       "      <td>2020-10-02</td>\n",
       "      <td>Zimbabwe</td>\n",
       "      <td>Restriction and Regulation of Government Services</td>\n",
       "      <td>Election procedures (e.g. mail-in voting)</td>\n",
       "      <td>The Zimbabwean minister for health, who is als...</td>\n",
       "      <td>ZWE</td>\n",
       "      <td>Mandatory (Unspecified/Implied)</td>\n",
       "    </tr>\n",
       "    <tr>\n",
       "      <th>45630</th>\n",
       "      <td>2531192</td>\n",
       "      <td>2020-03-02</td>\n",
       "      <td>Zimbabwe</td>\n",
       "      <td>Restrictions of Mass Gatherings</td>\n",
       "      <td>Prison population reduced (e.g. early release ...</td>\n",
       "      <td>A presidential amnesty was announced by the Zi...</td>\n",
       "      <td>ZWE</td>\n",
       "      <td>Voluntary/Recommended but No Penalties</td>\n",
       "    </tr>\n",
       "    <tr>\n",
       "      <th>45631</th>\n",
       "      <td>2574281</td>\n",
       "      <td>2020-03-17</td>\n",
       "      <td>Zimbabwe</td>\n",
       "      <td>Restrictions of Mass Gatherings</td>\n",
       "      <td>Postponement of an annually recurring event</td>\n",
       "      <td>In Zimbabwe, the 40th independence anniversary...</td>\n",
       "      <td>ZWE</td>\n",
       "      <td>Mandatory (Unspecified/Implied)</td>\n",
       "    </tr>\n",
       "    <tr>\n",
       "      <th>45632</th>\n",
       "      <td>6689905</td>\n",
       "      <td>2020-03-17</td>\n",
       "      <td>Zimbabwe</td>\n",
       "      <td>Restrictions of Mass Gatherings</td>\n",
       "      <td>Postponement of an annually recurring event</td>\n",
       "      <td>In Zimbabwe, the Zimbabwe International Trade ...</td>\n",
       "      <td>ZWE</td>\n",
       "      <td>Mandatory (Unspecified/Implied)</td>\n",
       "    </tr>\n",
       "    <tr>\n",
       "      <th>45639</th>\n",
       "      <td>4781867</td>\n",
       "      <td>2020-09-22</td>\n",
       "      <td>Zimbabwe</td>\n",
       "      <td>Restrictions of Mass Gatherings</td>\n",
       "      <td>Attendance at religious services restricted (e...</td>\n",
       "      <td>The Zimbabwe minister of Information and publi...</td>\n",
       "      <td>ZWE</td>\n",
       "      <td>Mandatory (Unspecified/Implied)</td>\n",
       "    </tr>\n",
       "  </tbody>\n",
       "</table>\n",
       "<p>14555 rows × 8 columns</p>\n",
       "</div>"
      ],
      "text/plain": [
       "       policy_id date_start      country  \\\n",
       "4        6721435 2020-03-09  Afghanistan   \n",
       "7        6018486 2020-03-11  Afghanistan   \n",
       "10       3558044 2020-03-14  Afghanistan   \n",
       "18       2231982 2020-04-18  Afghanistan   \n",
       "21       1212064 2020-06-03  Afghanistan   \n",
       "...          ...        ...          ...   \n",
       "45629    6143876 2020-10-02     Zimbabwe   \n",
       "45630    2531192 2020-03-02     Zimbabwe   \n",
       "45631    2574281 2020-03-17     Zimbabwe   \n",
       "45632    6689905 2020-03-17     Zimbabwe   \n",
       "45639    4781867 2020-09-22     Zimbabwe   \n",
       "\n",
       "                                                    type  \\\n",
       "4                      Closure and Regulation of Schools   \n",
       "7                      Closure and Regulation of Schools   \n",
       "10                     Closure and Regulation of Schools   \n",
       "18                     Closure and Regulation of Schools   \n",
       "21                     Closure and Regulation of Schools   \n",
       "...                                                  ...   \n",
       "45629  Restriction and Regulation of Government Services   \n",
       "45630                    Restrictions of Mass Gatherings   \n",
       "45631                    Restrictions of Mass Gatherings   \n",
       "45632                    Restrictions of Mass Gatherings   \n",
       "45639                    Restrictions of Mass Gatherings   \n",
       "\n",
       "                                            type_sub_cat  \\\n",
       "4      Preschool or childcare facilities (generally f...   \n",
       "7      Primary Schools (generally for children ages 1...   \n",
       "10     Preschool or childcare facilities (generally f...   \n",
       "18     Primary Schools (generally for children ages 1...   \n",
       "21     Preschool or childcare facilities (generally f...   \n",
       "...                                                  ...   \n",
       "45629          Election procedures (e.g. mail-in voting)   \n",
       "45630  Prison population reduced (e.g. early release ...   \n",
       "45631        Postponement of an annually recurring event   \n",
       "45632        Postponement of an annually recurring event   \n",
       "45639  Attendance at religious services restricted (e...   \n",
       "\n",
       "                                             description ISO_A3  \\\n",
       "4      \"All schools in Herat ñ including temporarily ...    AFG   \n",
       "7      In parts of northern Samangan province, school...    AFG   \n",
       "10     \"On 14 March, the Government of Afghanistan an...    AFG   \n",
       "18     April 11, Afghanistan's \"President Ghani says ...    AFG   \n",
       "21     April 14 \"Afghanistan on Saturday announced th...    AFG   \n",
       "...                                                  ...    ...   \n",
       "45629  The Zimbabwean minister for health, who is als...    ZWE   \n",
       "45630  A presidential amnesty was announced by the Zi...    ZWE   \n",
       "45631  In Zimbabwe, the 40th independence anniversary...    ZWE   \n",
       "45632  In Zimbabwe, the Zimbabwe International Trade ...    ZWE   \n",
       "45639  The Zimbabwe minister of Information and publi...    ZWE   \n",
       "\n",
       "                                   compliance  \n",
       "4             Mandatory (Unspecified/Implied)  \n",
       "7             Mandatory (Unspecified/Implied)  \n",
       "10            Mandatory (Unspecified/Implied)  \n",
       "18            Mandatory (Unspecified/Implied)  \n",
       "21            Mandatory (Unspecified/Implied)  \n",
       "...                                       ...  \n",
       "45629         Mandatory (Unspecified/Implied)  \n",
       "45630  Voluntary/Recommended but No Penalties  \n",
       "45631         Mandatory (Unspecified/Implied)  \n",
       "45632         Mandatory (Unspecified/Implied)  \n",
       "45639         Mandatory (Unspecified/Implied)  \n",
       "\n",
       "[14555 rows x 8 columns]"
      ]
     },
     "execution_count": 10,
     "metadata": {},
     "output_type": "execute_result"
    }
   ],
   "source": [
    "df"
   ]
  },
  {
   "cell_type": "markdown",
   "metadata": {},
   "source": [
    "# Tokenization and lemmatization"
   ]
  },
  {
   "cell_type": "code",
   "execution_count": 11,
   "metadata": {},
   "outputs": [],
   "source": [
    "import numpy as np\n",
    "import pandas as pd\n",
    "import datetime\n",
    "import pyreadr\n",
    "import pandas as pd\n",
    "from IPython.display import display\n",
    "from sklearn.preprocessing import OneHotEncoder\n",
    "from nltk.corpus import stopwords \n",
    "import string\n",
    "from nltk.stem.wordnet import WordNetLemmatizer\n",
    "from nltk import word_tokenize \n",
    "from sklearn.decomposition import LatentDirichletAllocation\n",
    "from sklearn.feature_extraction.text import CountVectorizer"
   ]
  },
  {
   "cell_type": "code",
   "execution_count": 12,
   "metadata": {},
   "outputs": [],
   "source": [
    "def clean(x):\n",
    "    x = x.lower()\n",
    "    x = ''.join([letter for letter in x if not letter.isdigit()])\n",
    "    for p in string.punctuation:\n",
    "        x = x.replace(p, \" \")\n",
    "    stops = set(stopwords.words(\"english\"))\n",
    "    tokens = word_tokenize(x)\n",
    "    tokens = ' '.join([token for token in tokens if token not in stops])\n",
    "    return tokens"
   ]
  },
  {
   "cell_type": "code",
   "execution_count": 13,
   "metadata": {},
   "outputs": [],
   "source": [
    "df['clean_description'] = df.description.apply(clean)"
   ]
  },
  {
   "cell_type": "code",
   "execution_count": 14,
   "metadata": {},
   "outputs": [
    {
     "data": {
      "text/plain": [
       "4        schools herat ñ including temporarily learning...\n",
       "7        parts northern samangan province schools close...\n",
       "10       march government afghanistan announced schools...\n",
       "18       april afghanistan president ghani says schools...\n",
       "21       april afghanistan saturday announced closure e...\n",
       "                               ...                        \n",
       "45629    zimbabwean minister health also vice president...\n",
       "45630    presidential amnesty announced zimbabwe govern...\n",
       "45631    zimbabwe th independence anniversary celebrati...\n",
       "45632    zimbabwe zimbabwe international trade fair zit...\n",
       "45639    zimbabwe minister information publicity announ...\n",
       "Name: clean_description, Length: 14555, dtype: object"
      ]
     },
     "execution_count": 14,
     "metadata": {},
     "output_type": "execute_result"
    }
   ],
   "source": [
    "df['clean_description']"
   ]
  },
  {
   "cell_type": "code",
   "execution_count": 15,
   "metadata": {},
   "outputs": [],
   "source": [
    "def lemma(text):\n",
    "    lemmatizer = WordNetLemmatizer()\n",
    "    return [lemmatizer.lemmatize(w) for w in text]"
   ]
  },
  {
   "cell_type": "code",
   "execution_count": 16,
   "metadata": {},
   "outputs": [],
   "source": [
    "df['clean_description'] = lemma(df['clean_description'])"
   ]
  },
  {
   "cell_type": "code",
   "execution_count": 65,
   "metadata": {},
   "outputs": [
    {
     "data": {
      "text/plain": [
       "4        schools herat ñ including temporarily learning...\n",
       "7        parts northern samangan province schools close...\n",
       "10       march government afghanistan announced schools...\n",
       "18       april afghanistan president ghani says schools...\n",
       "21       april afghanistan saturday announced closure e...\n",
       "                               ...                        \n",
       "45629    zimbabwean minister health also vice president...\n",
       "45630    presidential amnesty announced zimbabwe govern...\n",
       "45631    zimbabwe th independence anniversary celebrati...\n",
       "45632    zimbabwe zimbabwe international trade fair zit...\n",
       "45639    zimbabwe minister information publicity announ...\n",
       "Name: clean_description, Length: 14555, dtype: object"
      ]
     },
     "execution_count": 65,
     "metadata": {},
     "output_type": "execute_result"
    }
   ],
   "source": [
    "df['clean_description']"
   ]
  },
  {
   "cell_type": "markdown",
   "metadata": {},
   "source": [
    "# Now lets encode my subcat"
   ]
  },
  {
   "cell_type": "code",
   "execution_count": 34,
   "metadata": {},
   "outputs": [
    {
     "data": {
      "text/html": [
       "<div>\n",
       "<style scoped>\n",
       "    .dataframe tbody tr th:only-of-type {\n",
       "        vertical-align: middle;\n",
       "    }\n",
       "\n",
       "    .dataframe tbody tr th {\n",
       "        vertical-align: top;\n",
       "    }\n",
       "\n",
       "    .dataframe thead th {\n",
       "        text-align: right;\n",
       "    }\n",
       "</style>\n",
       "<table border=\"1\" class=\"dataframe\">\n",
       "  <thead>\n",
       "    <tr style=\"text-align: right;\">\n",
       "      <th></th>\n",
       "      <th>type_sub_cat</th>\n",
       "    </tr>\n",
       "  </thead>\n",
       "  <tbody>\n",
       "    <tr>\n",
       "      <th>4</th>\n",
       "      <td>Preschool or childcare facilities (generally f...</td>\n",
       "    </tr>\n",
       "    <tr>\n",
       "      <th>7</th>\n",
       "      <td>Primary Schools (generally for children ages 1...</td>\n",
       "    </tr>\n",
       "    <tr>\n",
       "      <th>10</th>\n",
       "      <td>Preschool or childcare facilities (generally f...</td>\n",
       "    </tr>\n",
       "    <tr>\n",
       "      <th>18</th>\n",
       "      <td>Primary Schools (generally for children ages 1...</td>\n",
       "    </tr>\n",
       "    <tr>\n",
       "      <th>21</th>\n",
       "      <td>Preschool or childcare facilities (generally f...</td>\n",
       "    </tr>\n",
       "    <tr>\n",
       "      <th>...</th>\n",
       "      <td>...</td>\n",
       "    </tr>\n",
       "    <tr>\n",
       "      <th>45629</th>\n",
       "      <td>Election procedures (e.g. mail-in voting)</td>\n",
       "    </tr>\n",
       "    <tr>\n",
       "      <th>45630</th>\n",
       "      <td>Prison population reduced (e.g. early release ...</td>\n",
       "    </tr>\n",
       "    <tr>\n",
       "      <th>45631</th>\n",
       "      <td>Postponement of an annually recurring event</td>\n",
       "    </tr>\n",
       "    <tr>\n",
       "      <th>45632</th>\n",
       "      <td>Postponement of an annually recurring event</td>\n",
       "    </tr>\n",
       "    <tr>\n",
       "      <th>45639</th>\n",
       "      <td>Attendance at religious services restricted (e...</td>\n",
       "    </tr>\n",
       "  </tbody>\n",
       "</table>\n",
       "<p>14555 rows × 1 columns</p>\n",
       "</div>"
      ],
      "text/plain": [
       "                                            type_sub_cat\n",
       "4      Preschool or childcare facilities (generally f...\n",
       "7      Primary Schools (generally for children ages 1...\n",
       "10     Preschool or childcare facilities (generally f...\n",
       "18     Primary Schools (generally for children ages 1...\n",
       "21     Preschool or childcare facilities (generally f...\n",
       "...                                                  ...\n",
       "45629          Election procedures (e.g. mail-in voting)\n",
       "45630  Prison population reduced (e.g. early release ...\n",
       "45631        Postponement of an annually recurring event\n",
       "45632        Postponement of an annually recurring event\n",
       "45639  Attendance at religious services restricted (e...\n",
       "\n",
       "[14555 rows x 1 columns]"
      ]
     },
     "execution_count": 34,
     "metadata": {},
     "output_type": "execute_result"
    }
   ],
   "source": [
    "df[['type_sub_cat']]"
   ]
  },
  {
   "cell_type": "code",
   "execution_count": 46,
   "metadata": {},
   "outputs": [],
   "source": [
    "temp = df['type_sub_cat'].value_counts()"
   ]
  },
  {
   "cell_type": "code",
   "execution_count": 54,
   "metadata": {},
   "outputs": [
    {
     "data": {
      "text/plain": [
       "array([ 14,  85,  39,  62,  46,  77,  83,  47,   1,  63,  42,  48,  49,\n",
       "        35,  29,  21,  96,  26,  33,  11,  53,   3,   9, 108,  15,  66,\n",
       "        91,  45,  54,  84,  31,  18,  89,  90,  10,  28,  30,  51,  94,\n",
       "       102,  58, 104,  50,  52,  73,   6,  44,  86,   4,  97,  40,   2,\n",
       "        23,  57,  93,  60,  87,  25, 101,  68,  61,  20,  55,  67,  22,\n",
       "        17,  78,  75,  27,  13,  69,  65, 103,   5,  95,  64,  16,  56,\n",
       "        74,  24,  80,  43,  36,  72, 100,  98,  12,   7,  34, 111, 112,\n",
       "       109,  19,  79,  59,  71,   0,   8,  92, 110,  99,  88,  41,  81,\n",
       "        82, 105, 107,  37,  76,  70, 106,  38,  32, 113], dtype=int64)"
      ]
     },
     "execution_count": 54,
     "metadata": {},
     "output_type": "execute_result"
    }
   ],
   "source": [
    "from sklearn import preprocessing\n",
    "le = preprocessing.LabelEncoder()\n",
    "le.fit_transform(list(pd.DataFrame(temp).reset_index()['index']))"
   ]
  },
  {
   "cell_type": "code",
   "execution_count": 58,
   "metadata": {},
   "outputs": [],
   "source": [
    "from sklearn import preprocessing\n",
    "le = preprocessing.LabelEncoder()\n",
    "le.fit(df['type_sub_cat'])\n",
    "le_name_mapping = dict(zip(le.classes_, le.transform(le.classes_)))\n"
   ]
  },
  {
   "cell_type": "code",
   "execution_count": 60,
   "metadata": {},
   "outputs": [],
   "source": [
    "df['encoded_sub-cat']= df['type_sub_cat'].map(le_name_mapping)"
   ]
  },
  {
   "cell_type": "code",
   "execution_count": 62,
   "metadata": {},
   "outputs": [],
   "source": []
  },
  {
   "cell_type": "markdown",
   "metadata": {},
   "source": [
    "# Now we can run a Naive Bayes model and see its score"
   ]
  },
  {
   "cell_type": "code",
   "execution_count": 93,
   "metadata": {},
   "outputs": [],
   "source": [
    "from sklearn.feature_extraction.text import TfidfVectorizer\n",
    "vectorizer = TfidfVectorizer()\n",
    "X = vectorizer.fit_transform(df['clean_description']) \n",
    "y = df['encoded_sub-cat']"
   ]
  },
  {
   "cell_type": "code",
   "execution_count": 94,
   "metadata": {},
   "outputs": [
    {
     "data": {
      "text/plain": [
       "0.35829611817244933"
      ]
     },
     "execution_count": 94,
     "metadata": {},
     "output_type": "execute_result"
    }
   ],
   "source": [
    "from sklearn.naive_bayes import MultinomialNB\n",
    "\n",
    "nb_model = MultinomialNB()\n",
    "\n",
    "nb_model.fit(X,y)\n",
    "\n",
    "nb_model.score(X,y)"
   ]
  },
  {
   "cell_type": "markdown",
   "metadata": {},
   "source": [
    "# lets double check to see if the model can predict the right sub-cat"
   ]
  },
  {
   "cell_type": "code",
   "execution_count": 96,
   "metadata": {},
   "outputs": [
    {
     "data": {
      "text/plain": [
       "array([[3.60466322e-05, 8.82186258e-03, 3.54663016e-04, ...,\n",
       "        7.62490570e-05, 6.78235381e-05, 3.15803873e-06],\n",
       "       [1.92949918e-04, 2.77995996e-02, 1.40532509e-03, ...,\n",
       "        3.75268146e-04, 2.89169607e-04, 1.65056906e-05],\n",
       "       [2.02962741e-05, 1.38119801e-02, 2.51104295e-04, ...,\n",
       "        4.49931020e-05, 4.61030363e-05, 1.75936357e-06],\n",
       "       ...,\n",
       "       [1.04494145e-04, 2.78198305e-02, 2.52586981e-03, ...,\n",
       "        1.74110145e-04, 1.69154319e-04, 8.42158130e-06],\n",
       "       [1.41895129e-04, 2.47933074e-02, 2.03887215e-03, ...,\n",
       "        2.54752156e-04, 2.64982116e-04, 1.29779642e-05],\n",
       "       [2.10340691e-04, 4.16890394e-02, 4.20364757e-03, ...,\n",
       "        3.84779920e-04, 3.38334194e-04, 1.92912823e-05]])"
      ]
     },
     "execution_count": 96,
     "metadata": {},
     "output_type": "execute_result"
    }
   ],
   "source": [
    "nb_model.predict_proba(X)"
   ]
  },
  {
   "cell_type": "markdown",
   "metadata": {},
   "source": [
    "## I'll take the 46th line "
   ]
  },
  {
   "cell_type": "code",
   "execution_count": 97,
   "metadata": {},
   "outputs": [
    {
     "data": {
      "text/plain": [
       "[0.15989831140973307,\n",
       " 0.11537906852487613,\n",
       " 0.07773879719108188,\n",
       " 0.047567249229201775,\n",
       " 0.036041359970286464,\n",
       " 0.03193329455167043,\n",
       " 0.03079154412600258,\n",
       " 0.026232268174908858,\n",
       " 0.026161094950477328,\n",
       " 0.025702800038971844,\n",
       " 0.02321952896309826,\n",
       " 0.023130324245042515,\n",
       " 0.021567312568207566,\n",
       " 0.021539871873981615,\n",
       " 0.020758489684831835,\n",
       " 0.018401497210996837,\n",
       " 0.015054387592870916,\n",
       " 0.0136901847128596,\n",
       " 0.011705862742756395,\n",
       " 0.01057148311065089,\n",
       " 0.009758642498250761,\n",
       " 0.00967719624250761,\n",
       " 0.009265005791541598,\n",
       " 0.009048776793710958,\n",
       " 0.008463990933431783,\n",
       " 0.00820418738884154,\n",
       " 0.008008009645902845,\n",
       " 0.007680305854100941,\n",
       " 0.007496495683366788,\n",
       " 0.007421893853197731,\n",
       " 0.007380693880548705,\n",
       " 0.007229982917480353,\n",
       " 0.006803790973640585,\n",
       " 0.006588278707354878,\n",
       " 0.006115303383351933,\n",
       " 0.005699786877303125,\n",
       " 0.005125872130662444,\n",
       " 0.005050072906468717,\n",
       " 0.004850754999517997,\n",
       " 0.0048349485960608235,\n",
       " 0.004782022030556272,\n",
       " 0.00462548158259348,\n",
       " 0.004624791242031542,\n",
       " 0.004228915834918178,\n",
       " 0.004180415847532413,\n",
       " 0.003855712352179132,\n",
       " 0.00383895758013553,\n",
       " 0.003701329031838984,\n",
       " 0.003459377464289815,\n",
       " 0.0033759060125550934,\n",
       " 0.002915395891137483,\n",
       " 0.002708725406451666,\n",
       " 0.002676114864002724,\n",
       " 0.0021645366349119983,\n",
       " 0.002132610033428667,\n",
       " 0.001933965797337239,\n",
       " 0.0018940778579293817,\n",
       " 0.001852280007695221,\n",
       " 0.001831242557556103,\n",
       " 0.001715107136305898,\n",
       " 0.0016671677206300387,\n",
       " 0.0016664664808540256,\n",
       " 0.0016439758949771297,\n",
       " 0.0014344168419326443,\n",
       " 0.0014315279251296863,\n",
       " 0.001417733055150898,\n",
       " 0.0014090437062539366,\n",
       " 0.001393834353401749,\n",
       " 0.0013372917941944487,\n",
       " 0.0012215623969713191,\n",
       " 0.0011292119781627042,\n",
       " 0.0010579011841916595,\n",
       " 0.0010527221661475515,\n",
       " 0.0010146784945742665,\n",
       " 0.0010110114535841655,\n",
       " 0.0009438209114337437,\n",
       " 0.0009284498630528017,\n",
       " 0.0008547510221099311,\n",
       " 0.0008522853992780623,\n",
       " 0.0008206345909576807,\n",
       " 0.0008161321206452589,\n",
       " 0.0007996249888195473,\n",
       " 0.0007982866866578954,\n",
       " 0.0007578557331991787,\n",
       " 0.000652698490307244,\n",
       " 0.0005817055527096277,\n",
       " 0.0005365735867760641,\n",
       " 0.0005344875772402675,\n",
       " 0.000530536835697143,\n",
       " 0.0005169291369722584,\n",
       " 0.00048553695339409474,\n",
       " 0.0004264475048015623,\n",
       " 0.000380844235827268,\n",
       " 0.000379209037493408,\n",
       " 0.0003489448451879628,\n",
       " 0.0003469937286666813,\n",
       " 0.0002863947119736888,\n",
       " 0.0002659653344230296,\n",
       " 0.0002449918750097993,\n",
       " 0.00024172231502261223,\n",
       " 0.00021725056606181393,\n",
       " 0.00018568656587854873,\n",
       " 0.0001838610719912436,\n",
       " 0.00016218454356025516,\n",
       " 0.0001612179631123483,\n",
       " 0.00013822174787383738,\n",
       " 0.00013132963255269812,\n",
       " 0.00010659872417991483,\n",
       " 5.203785387457105e-05,\n",
       " 5.151775681235016e-05,\n",
       " 2.6535033387296717e-05,\n",
       " 2.5871318485900867e-05,\n",
       " 2.585784101273031e-05,\n",
       " 2.5774802264125803e-05]"
      ]
     },
     "execution_count": 97,
     "metadata": {},
     "output_type": "execute_result"
    }
   ],
   "source": [
    "sorted(nb_model.predict_proba(X)[45], reverse = True)"
   ]
  },
  {
   "cell_type": "code",
   "execution_count": 89,
   "metadata": {},
   "outputs": [
    {
     "data": {
      "text/plain": [
       "39"
      ]
     },
     "execution_count": 89,
     "metadata": {},
     "output_type": "execute_result"
    }
   ],
   "source": [
    "nb_model.predict_proba(X)[45].argmax()"
   ]
  },
  {
   "cell_type": "code",
   "execution_count": 90,
   "metadata": {},
   "outputs": [
    {
     "data": {
      "text/plain": [
       "policy_id                                                      4187706\n",
       "date_start                                         2020-07-18 00:00:00\n",
       "country                                                    Afghanistan\n",
       "type                                                  Health Resources\n",
       "type_sub_cat                                               Ventilators\n",
       "description          Afghanistan \"on the 18th July, the Ministry of...\n",
       "ISO_A3                                                             AFG\n",
       "compliance                      Voluntary/Recommended but No Penalties\n",
       "clean_description    afghanistan th july ministry public health sta...\n",
       "encoded_sub-cat                                                    102\n",
       "Name: 144, dtype: object"
      ]
     },
     "execution_count": 90,
     "metadata": {},
     "output_type": "execute_result"
    }
   ],
   "source": [
    "df.iloc[45]"
   ]
  },
  {
   "cell_type": "code",
   "execution_count": 91,
   "metadata": {},
   "outputs": [
    {
     "data": {
      "text/plain": [
       "0.15989831140973307"
      ]
     },
     "execution_count": 91,
     "metadata": {},
     "output_type": "execute_result"
    }
   ],
   "source": [
    "nb_model.predict_proba(X)[45][39]"
   ]
  },
  {
   "cell_type": "code",
   "execution_count": 92,
   "metadata": {},
   "outputs": [
    {
     "data": {
      "text/plain": [
       "'Masks'"
      ]
     },
     "execution_count": 92,
     "metadata": {},
     "output_type": "execute_result"
    }
   ],
   "source": [
    "le.classes_[39]"
   ]
  },
  {
   "cell_type": "markdown",
   "metadata": {},
   "source": [
    "## Well... got it wrong this time, but he gets it right for the first one (try urself)"
   ]
  },
  {
   "cell_type": "markdown",
   "metadata": {},
   "source": [
    "How do I increase my score ? Need to do a nice grid search, maybe find a way to regroup some of the sub-cats, maybe only take the top 3 results, then REDO a naive Bayse pred from those => OVER THE WEEKEND"
   ]
  },
  {
   "cell_type": "code",
   "execution_count": null,
   "metadata": {},
   "outputs": [],
   "source": []
  }
 ],
 "metadata": {
  "kernelspec": {
   "display_name": "Python 3",
   "language": "python",
   "name": "python3"
  },
  "language_info": {
   "codemirror_mode": {
    "name": "ipython",
    "version": 3
   },
   "file_extension": ".py",
   "mimetype": "text/x-python",
   "name": "python",
   "nbconvert_exporter": "python",
   "pygments_lexer": "ipython3",
   "version": "3.7.7"
  }
 },
 "nbformat": 4,
 "nbformat_minor": 4
}

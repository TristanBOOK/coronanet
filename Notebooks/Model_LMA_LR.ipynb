{
 "cells": [
  {
   "cell_type": "code",
   "execution_count": 643,
   "metadata": {
    "ExecuteTime": {
     "end_time": "2020-12-16T12:52:25.287917Z",
     "start_time": "2020-12-16T12:52:25.279637Z"
    }
   },
   "outputs": [],
   "source": [
    "import pandas as pd\n",
    "import pyreadr\n",
    "import numpy as np\n",
    "import matplotlib.pyplot as plt\n",
    "import datetime\n",
    "import seaborn as sns\n",
    "from sklearn import preprocessing\n",
    "from sklearn.preprocessing import StandardScaler\n",
    "from sklearn.preprocessing import RobustScaler\n",
    "from sklearn.model_selection import cross_val_score, cross_val_predict\n",
    "from sklearn import metrics\n",
    "from sklearn.linear_model import Lasso\n",
    "from sklearn.model_selection import GridSearchCV\n",
    "import xgboost as xg \n",
    "from xgboost import plot_importance\n",
    "from sklearn.model_selection import RandomizedSearchCV\n",
    "from sklearn.preprocessing import MinMaxScaler"
   ]
  },
  {
   "cell_type": "code",
   "execution_count": 644,
   "metadata": {
    "ExecuteTime": {
     "end_time": "2020-12-16T12:52:25.501728Z",
     "start_time": "2020-12-16T12:52:25.293952Z"
    }
   },
   "outputs": [],
   "source": [
    "df = pd.read_csv('../data/csv/DataFrame_pour_modeles_Lou.csv')"
   ]
  },
  {
   "cell_type": "code",
   "execution_count": 645,
   "metadata": {
    "ExecuteTime": {
     "end_time": "2020-12-16T12:52:25.628048Z",
     "start_time": "2020-12-16T12:52:25.506175Z"
    }
   },
   "outputs": [
    {
     "data": {
      "text/html": [
       "<div>\n",
       "<style scoped>\n",
       "    .dataframe tbody tr th:only-of-type {\n",
       "        vertical-align: middle;\n",
       "    }\n",
       "\n",
       "    .dataframe tbody tr th {\n",
       "        vertical-align: top;\n",
       "    }\n",
       "\n",
       "    .dataframe thead th {\n",
       "        text-align: right;\n",
       "    }\n",
       "</style>\n",
       "<table border=\"1\" class=\"dataframe\">\n",
       "  <thead>\n",
       "    <tr style=\"text-align: right;\">\n",
       "      <th></th>\n",
       "      <th>ID</th>\n",
       "      <th>Date</th>\n",
       "      <th>PolicyFamily</th>\n",
       "      <th>PolicyType</th>\n",
       "      <th>value</th>\n",
       "      <th>Cases</th>\n",
       "      <th>Cases_New</th>\n",
       "      <th>Type</th>\n",
       "      <th>Source</th>\n",
       "      <th>J-56</th>\n",
       "      <th>...</th>\n",
       "      <th>C5_diff</th>\n",
       "      <th>H1_diff</th>\n",
       "      <th>H3_diff</th>\n",
       "      <th>H4_diff</th>\n",
       "      <th>C8_diff</th>\n",
       "      <th>E2_diff</th>\n",
       "      <th>C4_diff</th>\n",
       "      <th>E4_diff</th>\n",
       "      <th>C7_diff</th>\n",
       "      <th>H5_diff</th>\n",
       "    </tr>\n",
       "  </thead>\n",
       "  <tbody>\n",
       "    <tr>\n",
       "      <th>0</th>\n",
       "      <td>AD</td>\n",
       "      <td>2020-02-27</td>\n",
       "      <td>E</td>\n",
       "      <td>E3_diff</td>\n",
       "      <td>141399008</td>\n",
       "      <td>0.0</td>\n",
       "      <td>0.0</td>\n",
       "      <td>Deaths</td>\n",
       "      <td>JHU</td>\n",
       "      <td>NaN</td>\n",
       "      <td>...</td>\n",
       "      <td>0.5</td>\n",
       "      <td>0.5</td>\n",
       "      <td>0.5</td>\n",
       "      <td>0.529656</td>\n",
       "      <td>0.5</td>\n",
       "      <td>0.5</td>\n",
       "      <td>0.5</td>\n",
       "      <td>0.514924</td>\n",
       "      <td>0.5</td>\n",
       "      <td>0.524098</td>\n",
       "    </tr>\n",
       "    <tr>\n",
       "      <th>1</th>\n",
       "      <td>AD</td>\n",
       "      <td>2020-02-28</td>\n",
       "      <td>E</td>\n",
       "      <td>E3_diff</td>\n",
       "      <td>-141399008</td>\n",
       "      <td>0.0</td>\n",
       "      <td>0.0</td>\n",
       "      <td>Deaths</td>\n",
       "      <td>JHU</td>\n",
       "      <td>NaN</td>\n",
       "      <td>...</td>\n",
       "      <td>0.5</td>\n",
       "      <td>0.5</td>\n",
       "      <td>0.5</td>\n",
       "      <td>0.529656</td>\n",
       "      <td>0.5</td>\n",
       "      <td>0.5</td>\n",
       "      <td>0.5</td>\n",
       "      <td>0.514924</td>\n",
       "      <td>0.5</td>\n",
       "      <td>0.524098</td>\n",
       "    </tr>\n",
       "    <tr>\n",
       "      <th>2</th>\n",
       "      <td>AD</td>\n",
       "      <td>2020-03-02</td>\n",
       "      <td>H</td>\n",
       "      <td>H2_diff</td>\n",
       "      <td>1</td>\n",
       "      <td>0.0</td>\n",
       "      <td>0.0</td>\n",
       "      <td>Deaths</td>\n",
       "      <td>JHU</td>\n",
       "      <td>NaN</td>\n",
       "      <td>...</td>\n",
       "      <td>0.5</td>\n",
       "      <td>0.5</td>\n",
       "      <td>0.5</td>\n",
       "      <td>0.529656</td>\n",
       "      <td>0.5</td>\n",
       "      <td>0.5</td>\n",
       "      <td>0.5</td>\n",
       "      <td>0.514924</td>\n",
       "      <td>0.5</td>\n",
       "      <td>0.524098</td>\n",
       "    </tr>\n",
       "    <tr>\n",
       "      <th>3</th>\n",
       "      <td>AD</td>\n",
       "      <td>2020-03-11</td>\n",
       "      <td>H</td>\n",
       "      <td>H6_diff</td>\n",
       "      <td>2</td>\n",
       "      <td>0.0</td>\n",
       "      <td>0.0</td>\n",
       "      <td>Deaths</td>\n",
       "      <td>JHU</td>\n",
       "      <td>NaN</td>\n",
       "      <td>...</td>\n",
       "      <td>0.5</td>\n",
       "      <td>0.5</td>\n",
       "      <td>0.5</td>\n",
       "      <td>0.529656</td>\n",
       "      <td>0.5</td>\n",
       "      <td>0.5</td>\n",
       "      <td>0.5</td>\n",
       "      <td>0.514924</td>\n",
       "      <td>0.5</td>\n",
       "      <td>0.524098</td>\n",
       "    </tr>\n",
       "    <tr>\n",
       "      <th>4</th>\n",
       "      <td>AD</td>\n",
       "      <td>2020-03-13</td>\n",
       "      <td>C</td>\n",
       "      <td>C3_diff</td>\n",
       "      <td>1</td>\n",
       "      <td>0.0</td>\n",
       "      <td>0.0</td>\n",
       "      <td>Deaths</td>\n",
       "      <td>JHU</td>\n",
       "      <td>NaN</td>\n",
       "      <td>...</td>\n",
       "      <td>0.5</td>\n",
       "      <td>0.5</td>\n",
       "      <td>0.5</td>\n",
       "      <td>0.529656</td>\n",
       "      <td>0.5</td>\n",
       "      <td>0.5</td>\n",
       "      <td>0.5</td>\n",
       "      <td>0.514924</td>\n",
       "      <td>0.5</td>\n",
       "      <td>0.524098</td>\n",
       "    </tr>\n",
       "  </tbody>\n",
       "</table>\n",
       "<p>5 rows × 59 columns</p>\n",
       "</div>"
      ],
      "text/plain": [
       "   ID        Date PolicyFamily PolicyType      value  Cases  Cases_New  \\\n",
       "0  AD  2020-02-27            E    E3_diff  141399008    0.0        0.0   \n",
       "1  AD  2020-02-28            E    E3_diff -141399008    0.0        0.0   \n",
       "2  AD  2020-03-02            H    H2_diff          1    0.0        0.0   \n",
       "3  AD  2020-03-11            H    H6_diff          2    0.0        0.0   \n",
       "4  AD  2020-03-13            C    C3_diff          1    0.0        0.0   \n",
       "\n",
       "     Type Source  J-56  ...  C5_diff  H1_diff  H3_diff   H4_diff  C8_diff  \\\n",
       "0  Deaths    JHU   NaN  ...      0.5      0.5      0.5  0.529656      0.5   \n",
       "1  Deaths    JHU   NaN  ...      0.5      0.5      0.5  0.529656      0.5   \n",
       "2  Deaths    JHU   NaN  ...      0.5      0.5      0.5  0.529656      0.5   \n",
       "3  Deaths    JHU   NaN  ...      0.5      0.5      0.5  0.529656      0.5   \n",
       "4  Deaths    JHU   NaN  ...      0.5      0.5      0.5  0.529656      0.5   \n",
       "\n",
       "   E2_diff  C4_diff   E4_diff  C7_diff   H5_diff  \n",
       "0      0.5      0.5  0.514924      0.5  0.524098  \n",
       "1      0.5      0.5  0.514924      0.5  0.524098  \n",
       "2      0.5      0.5  0.514924      0.5  0.524098  \n",
       "3      0.5      0.5  0.514924      0.5  0.524098  \n",
       "4      0.5      0.5  0.514924      0.5  0.524098  \n",
       "\n",
       "[5 rows x 59 columns]"
      ]
     },
     "execution_count": 645,
     "metadata": {},
     "output_type": "execute_result"
    }
   ],
   "source": [
    "df.head()"
   ]
  },
  {
   "cell_type": "code",
   "execution_count": 646,
   "metadata": {
    "ExecuteTime": {
     "end_time": "2020-12-16T12:52:25.689687Z",
     "start_time": "2020-12-16T12:52:25.675483Z"
    }
   },
   "outputs": [
    {
     "data": {
      "text/plain": [
       "Index(['ID', 'Date', 'PolicyFamily', 'PolicyType', 'value', 'Cases',\n",
       "       'Cases_New', 'Type', 'Source', 'J-56', 'J-42', 'J-35', 'J-28', 'J-21',\n",
       "       'J-14', 'J-7', 'J0', 'J7', 'J14', 'J21', 'J28', 'J35', 'J42', 'J49',\n",
       "       'J56', 'd_j-7', 'i_J-7', 'i_J-14', 'i_J-21', 'i_J-28', 'i_J-35',\n",
       "       'i_J-42', 'i_J-56', 'i_J7', 'i_J14', 'i_J21', 'i_J28', 'i_J35', 'i_J42',\n",
       "       'i_J49', 'i_J56', 'E3_diff', 'H2_diff', 'H6_diff', 'C3_diff', 'C6_diff',\n",
       "       'E1_diff', 'C2_diff', 'C1_diff', 'C5_diff', 'H1_diff', 'H3_diff',\n",
       "       'H4_diff', 'C8_diff', 'E2_diff', 'C4_diff', 'E4_diff', 'C7_diff',\n",
       "       'H5_diff'],\n",
       "      dtype='object')"
      ]
     },
     "execution_count": 646,
     "metadata": {},
     "output_type": "execute_result"
    }
   ],
   "source": [
    "df.columns"
   ]
  },
  {
   "cell_type": "code",
   "execution_count": 647,
   "metadata": {
    "ExecuteTime": {
     "end_time": "2020-12-16T12:52:25.710983Z",
     "start_time": "2020-12-16T12:52:25.694801Z"
    }
   },
   "outputs": [],
   "source": [
    "df['D28'] = df['J28'] -  df['J0']\n",
    "df['D21'] = df['J21'] -  df['J0']\n",
    "df['D14'] =  df['J14'] -  df['J0']\n",
    "df['D-14'] = df['J0'] -  df['J-14']\n",
    "df['D-21'] = df['J0'] -  df['J-21']\n",
    "df['D-28'] = df['J0'] -  df['J-28']"
   ]
  },
  {
   "cell_type": "markdown",
   "metadata": {},
   "source": [
    "# Let's start with dataviz"
   ]
  },
  {
   "cell_type": "code",
   "execution_count": 648,
   "metadata": {
    "ExecuteTime": {
     "end_time": "2020-12-16T12:52:27.296600Z",
     "start_time": "2020-12-16T12:52:25.715313Z"
    }
   },
   "outputs": [
    {
     "data": {
      "text/plain": [
       "<AxesSubplot:xlabel='D-21', ylabel='D21'>"
      ]
     },
     "execution_count": 648,
     "metadata": {},
     "output_type": "execute_result"
    },
    {
     "data": {
      "image/png": "[encoded data removed]",
      "text/plain": [
       "<Figure size 432x288 with 1 Axes>"
      ]
     },
     "metadata": {
      "needs_background": "light"
     },
     "output_type": "display_data"
    }
   ],
   "source": [
    "sns.scatterplot(x=df['D-21'],y=df['D21'],hue=df['PolicyType'])"
   ]
  },
  {
   "cell_type": "code",
   "execution_count": 649,
   "metadata": {
    "ExecuteTime": {
     "end_time": "2020-12-16T12:52:28.637305Z",
     "start_time": "2020-12-16T12:52:27.301155Z"
    }
   },
   "outputs": [
    {
     "data": {
      "text/plain": [
       "<AxesSubplot:xlabel='D-14', ylabel='D14'>"
      ]
     },
     "execution_count": 649,
     "metadata": {},
     "output_type": "execute_result"
    },
    {
     "data": {
      "image/png": "[encoded data removed]",
      "text/plain": [
       "<Figure size 432x288 with 1 Axes>"
      ]
     },
     "metadata": {
      "needs_background": "light"
     },
     "output_type": "display_data"
    }
   ],
   "source": [
    "sns.scatterplot(x=df['D-14'],y=df['D14'],hue=df['PolicyType'])"
   ]
  },
  {
   "cell_type": "markdown",
   "metadata": {},
   "source": [
    "# Model: Linear Regression \n"
   ]
  },
  {
   "cell_type": "markdown",
   "metadata": {},
   "source": [
    "## D-14 -> D14"
   ]
  },
  {
   "cell_type": "code",
   "execution_count": 650,
   "metadata": {
    "ExecuteTime": {
     "end_time": "2020-12-16T12:52:28.665857Z",
     "start_time": "2020-12-16T12:52:28.647238Z"
    }
   },
   "outputs": [],
   "source": [
    "df1 = df.copy()"
   ]
  },
  {
   "cell_type": "code",
   "execution_count": 651,
   "metadata": {
    "ExecuteTime": {
     "end_time": "2020-12-16T12:52:28.680230Z",
     "start_time": "2020-12-16T12:52:28.670135Z"
    }
   },
   "outputs": [],
   "source": [
    "df_model_1 = df1[['D-14', 'D14', 'E3_diff', 'H2_diff', 'H6_diff', 'C3_diff', 'C6_diff',\n",
    "       'E1_diff', 'C2_diff', 'C1_diff', 'C5_diff', 'H1_diff', 'H3_diff',\n",
    "       'H4_diff', 'C8_diff', 'E2_diff', 'C4_diff', 'E4_diff', 'C7_diff',\n",
    "       'H5_diff']]"
   ]
  },
  {
   "cell_type": "code",
   "execution_count": 652,
   "metadata": {
    "ExecuteTime": {
     "end_time": "2020-12-16T12:52:29.235809Z",
     "start_time": "2020-12-16T12:52:28.683896Z"
    }
   },
   "outputs": [
    {
     "name": "stderr",
     "output_type": "stream",
     "text": [
      "/Users/lourizzolo/.pyenv/versions/3.7.7/envs/lewagon/lib/python3.7/site-packages/pandas/core/frame.py:4042: SettingWithCopyWarning: \n",
      "A value is trying to be set on a copy of a slice from a DataFrame\n",
      "\n",
      "See the caveats in the documentation: http://pandas.pydata.org/pandas-docs/stable/indexing.html#indexing-view-versus-copy\n",
      "  method=method)\n",
      "/Users/lourizzolo/.pyenv/versions/3.7.7/envs/lewagon/lib/python3.7/site-packages/ipykernel_launcher.py:2: SettingWithCopyWarning: \n",
      "A value is trying to be set on a copy of a slice from a DataFrame\n",
      "\n",
      "See the caveats in the documentation: http://pandas.pydata.org/pandas-docs/stable/indexing.html#indexing-view-versus-copy\n",
      "  \n"
     ]
    }
   ],
   "source": [
    "df_model_1.replace([np.inf, -np.inf], np.nan, inplace=True)\n",
    "df_model_1.dropna(inplace = True)"
   ]
  },
  {
   "cell_type": "code",
   "execution_count": 653,
   "metadata": {
    "ExecuteTime": {
     "end_time": "2020-12-16T12:52:29.522922Z",
     "start_time": "2020-12-16T12:52:29.247232Z"
    }
   },
   "outputs": [
    {
     "name": "stderr",
     "output_type": "stream",
     "text": [
      "/Users/lourizzolo/.pyenv/versions/3.7.7/envs/lewagon/lib/python3.7/site-packages/ipykernel_launcher.py:2: SettingWithCopyWarning: \n",
      "A value is trying to be set on a copy of a slice from a DataFrame.\n",
      "Try using .loc[row_indexer,col_indexer] = value instead\n",
      "\n",
      "See the caveats in the documentation: http://pandas.pydata.org/pandas-docs/stable/indexing.html#indexing-view-versus-copy\n",
      "  \n"
     ]
    }
   ],
   "source": [
    "scaler = MinMaxScaler()\n",
    "df_model_1['D-14'] = scaler.fit_transform(df_model_1[['D-14']])"
   ]
  },
  {
   "cell_type": "code",
   "execution_count": 654,
   "metadata": {
    "ExecuteTime": {
     "end_time": "2020-12-16T12:52:29.537449Z",
     "start_time": "2020-12-16T12:52:29.529129Z"
    }
   },
   "outputs": [],
   "source": [
    "X = df_model_1.drop(columns='D14')\n",
    "y = df_model_1['D14']"
   ]
  },
  {
   "cell_type": "code",
   "execution_count": 655,
   "metadata": {
    "ExecuteTime": {
     "end_time": "2020-12-16T12:52:29.554166Z",
     "start_time": "2020-12-16T12:52:29.543006Z"
    }
   },
   "outputs": [],
   "source": [
    "from sklearn.model_selection import train_test_split\n",
    "X_train, X_test, y_train, y_test = train_test_split(X, y, test_size=0.30, random_state=1)"
   ]
  },
  {
   "cell_type": "code",
   "execution_count": 656,
   "metadata": {
    "ExecuteTime": {
     "end_time": "2020-12-16T12:52:29.580789Z",
     "start_time": "2020-12-16T12:52:29.559652Z"
    }
   },
   "outputs": [
    {
     "data": {
      "text/plain": [
       "0.6436696849032073"
      ]
     },
     "execution_count": 656,
     "metadata": {},
     "output_type": "execute_result"
    }
   ],
   "source": [
    "from sklearn.linear_model import LinearRegression\n",
    "model=LinearRegression()\n",
    "model.fit(X_train,y_train)\n",
    "model.score(X_test,y_test)"
   ]
  },
  {
   "cell_type": "code",
   "execution_count": 657,
   "metadata": {
    "ExecuteTime": {
     "end_time": "2020-12-16T12:52:29.602390Z",
     "start_time": "2020-12-16T12:52:29.585736Z"
    }
   },
   "outputs": [
    {
     "data": {
      "text/html": [
       "<div>\n",
       "<style scoped>\n",
       "    .dataframe tbody tr th:only-of-type {\n",
       "        vertical-align: middle;\n",
       "    }\n",
       "\n",
       "    .dataframe tbody tr th {\n",
       "        vertical-align: top;\n",
       "    }\n",
       "\n",
       "    .dataframe thead th {\n",
       "        text-align: right;\n",
       "    }\n",
       "</style>\n",
       "<table border=\"1\" class=\"dataframe\">\n",
       "  <thead>\n",
       "    <tr style=\"text-align: right;\">\n",
       "      <th></th>\n",
       "      <th>Coefficient</th>\n",
       "    </tr>\n",
       "  </thead>\n",
       "  <tbody>\n",
       "    <tr>\n",
       "      <th>D-14</th>\n",
       "      <td>20076.885326</td>\n",
       "    </tr>\n",
       "    <tr>\n",
       "      <th>H5_diff</th>\n",
       "      <td>556.729646</td>\n",
       "    </tr>\n",
       "    <tr>\n",
       "      <th>E4_diff</th>\n",
       "      <td>368.708199</td>\n",
       "    </tr>\n",
       "    <tr>\n",
       "      <th>C6_diff</th>\n",
       "      <td>323.588380</td>\n",
       "    </tr>\n",
       "    <tr>\n",
       "      <th>E1_diff</th>\n",
       "      <td>317.488702</td>\n",
       "    </tr>\n",
       "    <tr>\n",
       "      <th>C2_diff</th>\n",
       "      <td>191.566056</td>\n",
       "    </tr>\n",
       "    <tr>\n",
       "      <th>C8_diff</th>\n",
       "      <td>120.849636</td>\n",
       "    </tr>\n",
       "    <tr>\n",
       "      <th>E2_diff</th>\n",
       "      <td>97.731470</td>\n",
       "    </tr>\n",
       "    <tr>\n",
       "      <th>C3_diff</th>\n",
       "      <td>97.448146</td>\n",
       "    </tr>\n",
       "    <tr>\n",
       "      <th>C7_diff</th>\n",
       "      <td>83.835015</td>\n",
       "    </tr>\n",
       "    <tr>\n",
       "      <th>C1_diff</th>\n",
       "      <td>62.178997</td>\n",
       "    </tr>\n",
       "    <tr>\n",
       "      <th>C5_diff</th>\n",
       "      <td>59.835503</td>\n",
       "    </tr>\n",
       "    <tr>\n",
       "      <th>C4_diff</th>\n",
       "      <td>46.181610</td>\n",
       "    </tr>\n",
       "    <tr>\n",
       "      <th>H6_diff</th>\n",
       "      <td>-87.515129</td>\n",
       "    </tr>\n",
       "    <tr>\n",
       "      <th>E3_diff</th>\n",
       "      <td>-103.743614</td>\n",
       "    </tr>\n",
       "    <tr>\n",
       "      <th>H3_diff</th>\n",
       "      <td>-129.990596</td>\n",
       "    </tr>\n",
       "    <tr>\n",
       "      <th>H1_diff</th>\n",
       "      <td>-140.908744</td>\n",
       "    </tr>\n",
       "    <tr>\n",
       "      <th>H2_diff</th>\n",
       "      <td>-228.365019</td>\n",
       "    </tr>\n",
       "    <tr>\n",
       "      <th>H4_diff</th>\n",
       "      <td>-1016.742145</td>\n",
       "    </tr>\n",
       "  </tbody>\n",
       "</table>\n",
       "</div>"
      ],
      "text/plain": [
       "          Coefficient\n",
       "D-14     20076.885326\n",
       "H5_diff    556.729646\n",
       "E4_diff    368.708199\n",
       "C6_diff    323.588380\n",
       "E1_diff    317.488702\n",
       "C2_diff    191.566056\n",
       "C8_diff    120.849636\n",
       "E2_diff     97.731470\n",
       "C3_diff     97.448146\n",
       "C7_diff     83.835015\n",
       "C1_diff     62.178997\n",
       "C5_diff     59.835503\n",
       "C4_diff     46.181610\n",
       "H6_diff    -87.515129\n",
       "E3_diff   -103.743614\n",
       "H3_diff   -129.990596\n",
       "H1_diff   -140.908744\n",
       "H2_diff   -228.365019\n",
       "H4_diff  -1016.742145"
      ]
     },
     "execution_count": 657,
     "metadata": {},
     "output_type": "execute_result"
    }
   ],
   "source": [
    "coeff_df = pd.DataFrame(model.coef_, X.columns, columns=['Coefficient'])\n",
    "coeff_df.sort_values(by=['Coefficient'], ascending=False)"
   ]
  },
  {
   "cell_type": "markdown",
   "metadata": {},
   "source": [
    "## Most important feature 14D"
   ]
  },
  {
   "cell_type": "code",
   "execution_count": 667,
   "metadata": {
    "ExecuteTime": {
     "end_time": "2020-12-16T12:53:19.881280Z",
     "start_time": "2020-12-16T12:53:19.872362Z"
    }
   },
   "outputs": [],
   "source": [
    "df_model_D14 = df1[['D14', 'E3_diff', 'H2_diff', 'H6_diff', 'C3_diff', 'C6_diff',\n",
    "       'E1_diff', 'C2_diff', 'C1_diff', 'C5_diff', 'H1_diff', 'H3_diff',\n",
    "       'H4_diff', 'C8_diff', 'E2_diff', 'C4_diff', 'E4_diff', 'C7_diff',\n",
    "       'H5_diff']]"
   ]
  },
  {
   "cell_type": "code",
   "execution_count": 668,
   "metadata": {
    "ExecuteTime": {
     "end_time": "2020-12-16T12:53:20.775588Z",
     "start_time": "2020-12-16T12:53:20.172970Z"
    }
   },
   "outputs": [
    {
     "name": "stderr",
     "output_type": "stream",
     "text": [
      "/Users/lourizzolo/.pyenv/versions/3.7.7/envs/lewagon/lib/python3.7/site-packages/ipykernel_launcher.py:2: SettingWithCopyWarning: \n",
      "A value is trying to be set on a copy of a slice from a DataFrame\n",
      "\n",
      "See the caveats in the documentation: http://pandas.pydata.org/pandas-docs/stable/indexing.html#indexing-view-versus-copy\n",
      "  \n"
     ]
    }
   ],
   "source": [
    "df_model_D14.replace([np.inf, -np.inf], np.nan, inplace=True)\n",
    "df_model_D14.dropna(inplace = True)"
   ]
  },
  {
   "cell_type": "code",
   "execution_count": 669,
   "metadata": {
    "ExecuteTime": {
     "end_time": "2020-12-16T12:53:20.975206Z",
     "start_time": "2020-12-16T12:53:20.958340Z"
    }
   },
   "outputs": [],
   "source": [
    "X = df_model_D14.drop(columns=['D14'])\n",
    "y = df_model_D14['D14']"
   ]
  },
  {
   "cell_type": "code",
   "execution_count": 670,
   "metadata": {
    "ExecuteTime": {
     "end_time": "2020-12-16T12:53:21.936322Z",
     "start_time": "2020-12-16T12:53:21.926080Z"
    }
   },
   "outputs": [],
   "source": [
    "X_train, X_test, y_train, y_test = train_test_split(X, y, test_size=0.30, random_state=1)"
   ]
  },
  {
   "cell_type": "code",
   "execution_count": 671,
   "metadata": {
    "ExecuteTime": {
     "end_time": "2020-12-16T12:53:22.508157Z",
     "start_time": "2020-12-16T12:53:22.488475Z"
    }
   },
   "outputs": [
    {
     "data": {
      "text/plain": [
       "0.008286621283230988"
      ]
     },
     "execution_count": 671,
     "metadata": {},
     "output_type": "execute_result"
    }
   ],
   "source": [
    "model=LinearRegression()\n",
    "model.fit(X_train,y_train)\n",
    "model.score(X_test,y_test)"
   ]
  },
  {
   "cell_type": "code",
   "execution_count": 672,
   "metadata": {
    "ExecuteTime": {
     "end_time": "2020-12-16T12:53:23.462088Z",
     "start_time": "2020-12-16T12:53:23.440338Z"
    }
   },
   "outputs": [
    {
     "data": {
      "text/html": [
       "<div>\n",
       "<style scoped>\n",
       "    .dataframe tbody tr th:only-of-type {\n",
       "        vertical-align: middle;\n",
       "    }\n",
       "\n",
       "    .dataframe tbody tr th {\n",
       "        vertical-align: top;\n",
       "    }\n",
       "\n",
       "    .dataframe thead th {\n",
       "        text-align: right;\n",
       "    }\n",
       "</style>\n",
       "<table border=\"1\" class=\"dataframe\">\n",
       "  <thead>\n",
       "    <tr style=\"text-align: right;\">\n",
       "      <th></th>\n",
       "      <th>Coefficient</th>\n",
       "    </tr>\n",
       "  </thead>\n",
       "  <tbody>\n",
       "    <tr>\n",
       "      <th>E4_diff</th>\n",
       "      <td>1164.875977</td>\n",
       "    </tr>\n",
       "    <tr>\n",
       "      <th>E2_diff</th>\n",
       "      <td>62.670276</td>\n",
       "    </tr>\n",
       "    <tr>\n",
       "      <th>C7_diff</th>\n",
       "      <td>33.255153</td>\n",
       "    </tr>\n",
       "    <tr>\n",
       "      <th>E1_diff</th>\n",
       "      <td>-12.208697</td>\n",
       "    </tr>\n",
       "    <tr>\n",
       "      <th>C5_diff</th>\n",
       "      <td>-59.897598</td>\n",
       "    </tr>\n",
       "    <tr>\n",
       "      <th>C4_diff</th>\n",
       "      <td>-86.656669</td>\n",
       "    </tr>\n",
       "    <tr>\n",
       "      <th>C3_diff</th>\n",
       "      <td>-146.509595</td>\n",
       "    </tr>\n",
       "    <tr>\n",
       "      <th>C6_diff</th>\n",
       "      <td>-205.072334</td>\n",
       "    </tr>\n",
       "    <tr>\n",
       "      <th>C2_diff</th>\n",
       "      <td>-213.276154</td>\n",
       "    </tr>\n",
       "    <tr>\n",
       "      <th>C1_diff</th>\n",
       "      <td>-257.670428</td>\n",
       "    </tr>\n",
       "    <tr>\n",
       "      <th>E3_diff</th>\n",
       "      <td>-294.951435</td>\n",
       "    </tr>\n",
       "    <tr>\n",
       "      <th>H6_diff</th>\n",
       "      <td>-324.805657</td>\n",
       "    </tr>\n",
       "    <tr>\n",
       "      <th>H3_diff</th>\n",
       "      <td>-471.187680</td>\n",
       "    </tr>\n",
       "    <tr>\n",
       "      <th>C8_diff</th>\n",
       "      <td>-490.026224</td>\n",
       "    </tr>\n",
       "    <tr>\n",
       "      <th>H5_diff</th>\n",
       "      <td>-539.422684</td>\n",
       "    </tr>\n",
       "    <tr>\n",
       "      <th>H2_diff</th>\n",
       "      <td>-671.502572</td>\n",
       "    </tr>\n",
       "    <tr>\n",
       "      <th>H1_diff</th>\n",
       "      <td>-690.342088</td>\n",
       "    </tr>\n",
       "    <tr>\n",
       "      <th>H4_diff</th>\n",
       "      <td>-1187.326765</td>\n",
       "    </tr>\n",
       "  </tbody>\n",
       "</table>\n",
       "</div>"
      ],
      "text/plain": [
       "         Coefficient\n",
       "E4_diff  1164.875977\n",
       "E2_diff    62.670276\n",
       "C7_diff    33.255153\n",
       "E1_diff   -12.208697\n",
       "C5_diff   -59.897598\n",
       "C4_diff   -86.656669\n",
       "C3_diff  -146.509595\n",
       "C6_diff  -205.072334\n",
       "C2_diff  -213.276154\n",
       "C1_diff  -257.670428\n",
       "E3_diff  -294.951435\n",
       "H6_diff  -324.805657\n",
       "H3_diff  -471.187680\n",
       "C8_diff  -490.026224\n",
       "H5_diff  -539.422684\n",
       "H2_diff  -671.502572\n",
       "H1_diff  -690.342088\n",
       "H4_diff -1187.326765"
      ]
     },
     "execution_count": 672,
     "metadata": {},
     "output_type": "execute_result"
    }
   ],
   "source": [
    "coeff_df = pd.DataFrame(model.coef_, X.columns, columns=['Coefficient'])\n",
    "coeff_df.sort_values(by=['Coefficient'], ascending=False)"
   ]
  },
  {
   "cell_type": "markdown",
   "metadata": {},
   "source": [
    "##  D-21 -> D21"
   ]
  },
  {
   "cell_type": "code",
   "execution_count": 592,
   "metadata": {
    "ExecuteTime": {
     "end_time": "2020-12-16T12:33:20.336346Z",
     "start_time": "2020-12-16T12:33:20.321901Z"
    }
   },
   "outputs": [],
   "source": [
    "   df1 = df.copy() "
   ]
  },
  {
   "cell_type": "code",
   "execution_count": 593,
   "metadata": {
    "ExecuteTime": {
     "end_time": "2020-12-16T12:33:20.350291Z",
     "start_time": "2020-12-16T12:33:20.340210Z"
    }
   },
   "outputs": [],
   "source": [
    "df_model_1_21J = df1[['D21', 'D-21', 'E3_diff', 'H2_diff', 'H6_diff', 'C3_diff', 'C6_diff',\n",
    "       'E1_diff', 'C2_diff', 'C1_diff', 'C5_diff', 'H1_diff', 'H3_diff',\n",
    "       'H4_diff', 'C8_diff', 'E2_diff', 'C4_diff', 'E4_diff', 'C7_diff',\n",
    "       'H5_diff']]"
   ]
  },
  {
   "cell_type": "code",
   "execution_count": 594,
   "metadata": {
    "ExecuteTime": {
     "end_time": "2020-12-16T12:33:20.889298Z",
     "start_time": "2020-12-16T12:33:20.358394Z"
    }
   },
   "outputs": [
    {
     "name": "stderr",
     "output_type": "stream",
     "text": [
      "/Users/lourizzolo/.pyenv/versions/3.7.7/envs/lewagon/lib/python3.7/site-packages/pandas/core/frame.py:4042: SettingWithCopyWarning: \n",
      "A value is trying to be set on a copy of a slice from a DataFrame\n",
      "\n",
      "See the caveats in the documentation: http://pandas.pydata.org/pandas-docs/stable/indexing.html#indexing-view-versus-copy\n",
      "  method=method)\n",
      "/Users/lourizzolo/.pyenv/versions/3.7.7/envs/lewagon/lib/python3.7/site-packages/ipykernel_launcher.py:2: SettingWithCopyWarning: \n",
      "A value is trying to be set on a copy of a slice from a DataFrame\n",
      "\n",
      "See the caveats in the documentation: http://pandas.pydata.org/pandas-docs/stable/indexing.html#indexing-view-versus-copy\n",
      "  \n"
     ]
    }
   ],
   "source": [
    "df_model_1_21J.replace([np.inf, -np.inf], np.nan, inplace=True)\n",
    "df_model_1_21J.dropna(inplace = True)"
   ]
  },
  {
   "cell_type": "code",
   "execution_count": 595,
   "metadata": {
    "ExecuteTime": {
     "end_time": "2020-12-16T12:33:21.158240Z",
     "start_time": "2020-12-16T12:33:20.894014Z"
    }
   },
   "outputs": [
    {
     "name": "stderr",
     "output_type": "stream",
     "text": [
      "/Users/lourizzolo/.pyenv/versions/3.7.7/envs/lewagon/lib/python3.7/site-packages/ipykernel_launcher.py:2: SettingWithCopyWarning: \n",
      "A value is trying to be set on a copy of a slice from a DataFrame.\n",
      "Try using .loc[row_indexer,col_indexer] = value instead\n",
      "\n",
      "See the caveats in the documentation: http://pandas.pydata.org/pandas-docs/stable/indexing.html#indexing-view-versus-copy\n",
      "  \n"
     ]
    }
   ],
   "source": [
    "scaler = MinMaxScaler()\n",
    "df_model_1_21J['D-21'] = scaler.fit_transform(df_model_1_21J[['D-21']])"
   ]
  },
  {
   "cell_type": "code",
   "execution_count": 596,
   "metadata": {
    "ExecuteTime": {
     "end_time": "2020-12-16T12:33:21.170003Z",
     "start_time": "2020-12-16T12:33:21.163099Z"
    }
   },
   "outputs": [],
   "source": [
    "X = df_model_1_21J.drop(columns='D21')\n",
    "y = df_model_1_21J['D21']"
   ]
  },
  {
   "cell_type": "code",
   "execution_count": 597,
   "metadata": {
    "ExecuteTime": {
     "end_time": "2020-12-16T12:33:21.185566Z",
     "start_time": "2020-12-16T12:33:21.175651Z"
    }
   },
   "outputs": [],
   "source": [
    "X_train, X_test, y_train, y_test = train_test_split(X, y, test_size=0.30, random_state=1)"
   ]
  },
  {
   "cell_type": "code",
   "execution_count": 598,
   "metadata": {
    "ExecuteTime": {
     "end_time": "2020-12-16T12:33:21.209358Z",
     "start_time": "2020-12-16T12:33:21.189482Z"
    }
   },
   "outputs": [
    {
     "data": {
      "text/plain": [
       "0.39875408771881304"
      ]
     },
     "execution_count": 598,
     "metadata": {},
     "output_type": "execute_result"
    }
   ],
   "source": [
    "model_21=LinearRegression()\n",
    "model_21.fit(X_train,y_train)\n",
    "model_21.score(X_test,y_test)"
   ]
  },
  {
   "cell_type": "code",
   "execution_count": 599,
   "metadata": {
    "ExecuteTime": {
     "end_time": "2020-12-16T12:33:21.233606Z",
     "start_time": "2020-12-16T12:33:21.213348Z"
    }
   },
   "outputs": [
    {
     "data": {
      "text/html": [
       "<div>\n",
       "<style scoped>\n",
       "    .dataframe tbody tr th:only-of-type {\n",
       "        vertical-align: middle;\n",
       "    }\n",
       "\n",
       "    .dataframe tbody tr th {\n",
       "        vertical-align: top;\n",
       "    }\n",
       "\n",
       "    .dataframe thead th {\n",
       "        text-align: right;\n",
       "    }\n",
       "</style>\n",
       "<table border=\"1\" class=\"dataframe\">\n",
       "  <thead>\n",
       "    <tr style=\"text-align: right;\">\n",
       "      <th></th>\n",
       "      <th>Coefficient</th>\n",
       "    </tr>\n",
       "  </thead>\n",
       "  <tbody>\n",
       "    <tr>\n",
       "      <th>D-21</th>\n",
       "      <td>26032.014518</td>\n",
       "    </tr>\n",
       "    <tr>\n",
       "      <th>H5_diff</th>\n",
       "      <td>1468.001180</td>\n",
       "    </tr>\n",
       "    <tr>\n",
       "      <th>C6_diff</th>\n",
       "      <td>704.837233</td>\n",
       "    </tr>\n",
       "    <tr>\n",
       "      <th>E1_diff</th>\n",
       "      <td>534.928577</td>\n",
       "    </tr>\n",
       "    <tr>\n",
       "      <th>C2_diff</th>\n",
       "      <td>445.059787</td>\n",
       "    </tr>\n",
       "    <tr>\n",
       "      <th>C4_diff</th>\n",
       "      <td>426.052124</td>\n",
       "    </tr>\n",
       "    <tr>\n",
       "      <th>E2_diff</th>\n",
       "      <td>354.261799</td>\n",
       "    </tr>\n",
       "    <tr>\n",
       "      <th>C1_diff</th>\n",
       "      <td>251.204219</td>\n",
       "    </tr>\n",
       "    <tr>\n",
       "      <th>C5_diff</th>\n",
       "      <td>220.958917</td>\n",
       "    </tr>\n",
       "    <tr>\n",
       "      <th>C7_diff</th>\n",
       "      <td>179.136483</td>\n",
       "    </tr>\n",
       "    <tr>\n",
       "      <th>C8_diff</th>\n",
       "      <td>157.985137</td>\n",
       "    </tr>\n",
       "    <tr>\n",
       "      <th>C3_diff</th>\n",
       "      <td>42.513011</td>\n",
       "    </tr>\n",
       "    <tr>\n",
       "      <th>E4_diff</th>\n",
       "      <td>-189.953214</td>\n",
       "    </tr>\n",
       "    <tr>\n",
       "      <th>E3_diff</th>\n",
       "      <td>-237.158078</td>\n",
       "    </tr>\n",
       "    <tr>\n",
       "      <th>H6_diff</th>\n",
       "      <td>-238.962350</td>\n",
       "    </tr>\n",
       "    <tr>\n",
       "      <th>H1_diff</th>\n",
       "      <td>-358.102600</td>\n",
       "    </tr>\n",
       "    <tr>\n",
       "      <th>H2_diff</th>\n",
       "      <td>-564.353031</td>\n",
       "    </tr>\n",
       "    <tr>\n",
       "      <th>H3_diff</th>\n",
       "      <td>-625.312141</td>\n",
       "    </tr>\n",
       "    <tr>\n",
       "      <th>H4_diff</th>\n",
       "      <td>-1556.844104</td>\n",
       "    </tr>\n",
       "  </tbody>\n",
       "</table>\n",
       "</div>"
      ],
      "text/plain": [
       "          Coefficient\n",
       "D-21     26032.014518\n",
       "H5_diff   1468.001180\n",
       "C6_diff    704.837233\n",
       "E1_diff    534.928577\n",
       "C2_diff    445.059787\n",
       "C4_diff    426.052124\n",
       "E2_diff    354.261799\n",
       "C1_diff    251.204219\n",
       "C5_diff    220.958917\n",
       "C7_diff    179.136483\n",
       "C8_diff    157.985137\n",
       "C3_diff     42.513011\n",
       "E4_diff   -189.953214\n",
       "E3_diff   -237.158078\n",
       "H6_diff   -238.962350\n",
       "H1_diff   -358.102600\n",
       "H2_diff   -564.353031\n",
       "H3_diff   -625.312141\n",
       "H4_diff  -1556.844104"
      ]
     },
     "execution_count": 599,
     "metadata": {},
     "output_type": "execute_result"
    }
   ],
   "source": [
    "coeff_df = pd.DataFrame(model_21.coef_, X.columns, columns=['Coefficient'])\n",
    "coeff_df.sort_values(by=['Coefficient'], ascending=False)"
   ]
  },
  {
   "cell_type": "markdown",
   "metadata": {},
   "source": [
    "## Most important features D21"
   ]
  },
  {
   "cell_type": "code",
   "execution_count": 600,
   "metadata": {
    "ExecuteTime": {
     "end_time": "2020-12-16T12:33:21.258217Z",
     "start_time": "2020-12-16T12:33:21.237466Z"
    }
   },
   "outputs": [],
   "source": [
    "df_model_1_21D = df1[['D21', 'E3_diff', 'H2_diff', 'H6_diff', 'C3_diff', 'C6_diff',\n",
    "       'E1_diff', 'C2_diff', 'C1_diff', 'C5_diff', 'H1_diff', 'H3_diff',\n",
    "       'H4_diff', 'C8_diff', 'E2_diff', 'C4_diff', 'E4_diff', 'C7_diff',\n",
    "       'H5_diff']]"
   ]
  },
  {
   "cell_type": "code",
   "execution_count": 601,
   "metadata": {
    "ExecuteTime": {
     "end_time": "2020-12-16T12:33:21.843604Z",
     "start_time": "2020-12-16T12:33:21.287480Z"
    }
   },
   "outputs": [
    {
     "name": "stderr",
     "output_type": "stream",
     "text": [
      "/Users/lourizzolo/.pyenv/versions/3.7.7/envs/lewagon/lib/python3.7/site-packages/pandas/core/frame.py:4042: SettingWithCopyWarning: \n",
      "A value is trying to be set on a copy of a slice from a DataFrame\n",
      "\n",
      "See the caveats in the documentation: http://pandas.pydata.org/pandas-docs/stable/indexing.html#indexing-view-versus-copy\n",
      "  method=method)\n",
      "/Users/lourizzolo/.pyenv/versions/3.7.7/envs/lewagon/lib/python3.7/site-packages/ipykernel_launcher.py:2: SettingWithCopyWarning: \n",
      "A value is trying to be set on a copy of a slice from a DataFrame\n",
      "\n",
      "See the caveats in the documentation: http://pandas.pydata.org/pandas-docs/stable/indexing.html#indexing-view-versus-copy\n",
      "  \n"
     ]
    }
   ],
   "source": [
    "df_model_1_21D.replace([np.inf, -np.inf], np.nan, inplace=True)\n",
    "df_model_1_21D.dropna(inplace = True)"
   ]
  },
  {
   "cell_type": "code",
   "execution_count": 602,
   "metadata": {
    "ExecuteTime": {
     "end_time": "2020-12-16T12:33:21.866023Z",
     "start_time": "2020-12-16T12:33:21.849505Z"
    }
   },
   "outputs": [],
   "source": [
    "X = df_model_1_21D.drop(columns='D21')\n",
    "\n",
    "y = df_model_1_21D['D21']"
   ]
  },
  {
   "cell_type": "code",
   "execution_count": 603,
   "metadata": {
    "ExecuteTime": {
     "end_time": "2020-12-16T12:33:21.886974Z",
     "start_time": "2020-12-16T12:33:21.874430Z"
    }
   },
   "outputs": [],
   "source": [
    "X_train, X_test, y_train, y_test = train_test_split(X, y, test_size=0.30, random_state=1)"
   ]
  },
  {
   "cell_type": "code",
   "execution_count": 604,
   "metadata": {
    "ExecuteTime": {
     "end_time": "2020-12-16T12:33:21.910992Z",
     "start_time": "2020-12-16T12:33:21.890614Z"
    }
   },
   "outputs": [
    {
     "data": {
      "text/plain": [
       "0.003826097570375775"
      ]
     },
     "execution_count": 604,
     "metadata": {},
     "output_type": "execute_result"
    }
   ],
   "source": [
    "df_model_1_21D=LinearRegression()\n",
    "df_model_1_21D.fit(X_train,y_train)\n",
    "df_model_1_21D.score(X_test,y_test)"
   ]
  },
  {
   "cell_type": "code",
   "execution_count": 605,
   "metadata": {
    "ExecuteTime": {
     "end_time": "2020-12-16T12:33:21.937086Z",
     "start_time": "2020-12-16T12:33:21.916745Z"
    }
   },
   "outputs": [
    {
     "data": {
      "text/html": [
       "<div>\n",
       "<style scoped>\n",
       "    .dataframe tbody tr th:only-of-type {\n",
       "        vertical-align: middle;\n",
       "    }\n",
       "\n",
       "    .dataframe tbody tr th {\n",
       "        vertical-align: top;\n",
       "    }\n",
       "\n",
       "    .dataframe thead th {\n",
       "        text-align: right;\n",
       "    }\n",
       "</style>\n",
       "<table border=\"1\" class=\"dataframe\">\n",
       "  <thead>\n",
       "    <tr style=\"text-align: right;\">\n",
       "      <th></th>\n",
       "      <th>Coefficient</th>\n",
       "    </tr>\n",
       "  </thead>\n",
       "  <tbody>\n",
       "    <tr>\n",
       "      <th>C1_diff</th>\n",
       "      <td>0.171680</td>\n",
       "    </tr>\n",
       "    <tr>\n",
       "      <th>C2_diff</th>\n",
       "      <td>0.151543</td>\n",
       "    </tr>\n",
       "    <tr>\n",
       "      <th>C8_diff</th>\n",
       "      <td>0.147664</td>\n",
       "    </tr>\n",
       "    <tr>\n",
       "      <th>H1_diff</th>\n",
       "      <td>0.132117</td>\n",
       "    </tr>\n",
       "    <tr>\n",
       "      <th>C6_diff</th>\n",
       "      <td>0.124784</td>\n",
       "    </tr>\n",
       "    <tr>\n",
       "      <th>C3_diff</th>\n",
       "      <td>0.118994</td>\n",
       "    </tr>\n",
       "    <tr>\n",
       "      <th>E1_diff</th>\n",
       "      <td>0.113786</td>\n",
       "    </tr>\n",
       "    <tr>\n",
       "      <th>C4_diff</th>\n",
       "      <td>0.110866</td>\n",
       "    </tr>\n",
       "    <tr>\n",
       "      <th>C5_diff</th>\n",
       "      <td>0.106757</td>\n",
       "    </tr>\n",
       "    <tr>\n",
       "      <th>E2_diff</th>\n",
       "      <td>0.099047</td>\n",
       "    </tr>\n",
       "    <tr>\n",
       "      <th>C7_diff</th>\n",
       "      <td>0.094622</td>\n",
       "    </tr>\n",
       "    <tr>\n",
       "      <th>H5_diff</th>\n",
       "      <td>0.071520</td>\n",
       "    </tr>\n",
       "    <tr>\n",
       "      <th>H3_diff</th>\n",
       "      <td>0.039927</td>\n",
       "    </tr>\n",
       "    <tr>\n",
       "      <th>H2_diff</th>\n",
       "      <td>0.027903</td>\n",
       "    </tr>\n",
       "    <tr>\n",
       "      <th>H6_diff</th>\n",
       "      <td>0.005023</td>\n",
       "    </tr>\n",
       "    <tr>\n",
       "      <th>E4_diff</th>\n",
       "      <td>-0.002209</td>\n",
       "    </tr>\n",
       "    <tr>\n",
       "      <th>H4_diff</th>\n",
       "      <td>-0.045991</td>\n",
       "    </tr>\n",
       "    <tr>\n",
       "      <th>E3_diff</th>\n",
       "      <td>-0.066288</td>\n",
       "    </tr>\n",
       "  </tbody>\n",
       "</table>\n",
       "</div>"
      ],
      "text/plain": [
       "         Coefficient\n",
       "C1_diff     0.171680\n",
       "C2_diff     0.151543\n",
       "C8_diff     0.147664\n",
       "H1_diff     0.132117\n",
       "C6_diff     0.124784\n",
       "C3_diff     0.118994\n",
       "E1_diff     0.113786\n",
       "C4_diff     0.110866\n",
       "C5_diff     0.106757\n",
       "E2_diff     0.099047\n",
       "C7_diff     0.094622\n",
       "H5_diff     0.071520\n",
       "H3_diff     0.039927\n",
       "H2_diff     0.027903\n",
       "H6_diff     0.005023\n",
       "E4_diff    -0.002209\n",
       "H4_diff    -0.045991\n",
       "E3_diff    -0.066288"
      ]
     },
     "execution_count": 605,
     "metadata": {},
     "output_type": "execute_result"
    }
   ],
   "source": [
    "coeff_df = pd.DataFrame(df_model_1_21J_.coef_, X.columns, columns=['Coefficient'])\n",
    "coeff_df.sort_values(by=['Coefficient'], ascending=False)"
   ]
  },
  {
   "cell_type": "markdown",
   "metadata": {},
   "source": [
    "## D-28 -> D28"
   ]
  },
  {
   "cell_type": "code",
   "execution_count": 609,
   "metadata": {
    "ExecuteTime": {
     "end_time": "2020-12-16T12:33:58.847234Z",
     "start_time": "2020-12-16T12:33:58.839880Z"
    }
   },
   "outputs": [],
   "source": [
    "df_model_1_28J = df1[['D-28', 'D28', 'E3_diff', 'H2_diff', 'H6_diff', 'C3_diff', 'C6_diff',\n",
    "       'E1_diff', 'C2_diff', 'C1_diff', 'C5_diff', 'H1_diff', 'H3_diff',\n",
    "       'H4_diff', 'C8_diff', 'E2_diff', 'C4_diff', 'E4_diff', 'C7_diff',\n",
    "       'H5_diff']]"
   ]
  },
  {
   "cell_type": "code",
   "execution_count": 610,
   "metadata": {
    "ExecuteTime": {
     "end_time": "2020-12-16T12:33:59.731709Z",
     "start_time": "2020-12-16T12:33:59.261221Z"
    }
   },
   "outputs": [
    {
     "name": "stderr",
     "output_type": "stream",
     "text": [
      "/Users/lourizzolo/.pyenv/versions/3.7.7/envs/lewagon/lib/python3.7/site-packages/ipykernel_launcher.py:2: SettingWithCopyWarning: \n",
      "A value is trying to be set on a copy of a slice from a DataFrame\n",
      "\n",
      "See the caveats in the documentation: http://pandas.pydata.org/pandas-docs/stable/indexing.html#indexing-view-versus-copy\n",
      "  \n"
     ]
    }
   ],
   "source": [
    "df_model_1_28J.replace([np.inf, -np.inf], np.nan, inplace=True)\n",
    "df_model_1_28J.dropna(inplace = True)"
   ]
  },
  {
   "cell_type": "code",
   "execution_count": 613,
   "metadata": {
    "ExecuteTime": {
     "end_time": "2020-12-16T12:34:10.598329Z",
     "start_time": "2020-12-16T12:34:10.363854Z"
    }
   },
   "outputs": [
    {
     "name": "stderr",
     "output_type": "stream",
     "text": [
      "/Users/lourizzolo/.pyenv/versions/3.7.7/envs/lewagon/lib/python3.7/site-packages/ipykernel_launcher.py:2: SettingWithCopyWarning: \n",
      "A value is trying to be set on a copy of a slice from a DataFrame.\n",
      "Try using .loc[row_indexer,col_indexer] = value instead\n",
      "\n",
      "See the caveats in the documentation: http://pandas.pydata.org/pandas-docs/stable/indexing.html#indexing-view-versus-copy\n",
      "  \n"
     ]
    }
   ],
   "source": [
    "scaler = MinMaxScaler()\n",
    "df_model_1_28J['D-28'] = scaler.fit_transform(df_model_1_28J[['D-28']])"
   ]
  },
  {
   "cell_type": "code",
   "execution_count": 614,
   "metadata": {
    "ExecuteTime": {
     "end_time": "2020-12-16T12:34:22.545114Z",
     "start_time": "2020-12-16T12:34:22.536892Z"
    }
   },
   "outputs": [],
   "source": [
    "X = df_model_1_28J.drop(columns='D28')\n",
    "y = df_model_1_28J['D28']"
   ]
  },
  {
   "cell_type": "code",
   "execution_count": 615,
   "metadata": {
    "ExecuteTime": {
     "end_time": "2020-12-16T12:34:24.973144Z",
     "start_time": "2020-12-16T12:34:24.962500Z"
    }
   },
   "outputs": [],
   "source": [
    "X_train, X_test, y_train, y_test = train_test_split(X, y, test_size=0.30, random_state=1)"
   ]
  },
  {
   "cell_type": "code",
   "execution_count": 616,
   "metadata": {
    "ExecuteTime": {
     "end_time": "2020-12-16T12:34:25.441476Z",
     "start_time": "2020-12-16T12:34:25.404553Z"
    }
   },
   "outputs": [
    {
     "data": {
      "text/plain": [
       "0.33849457883362877"
      ]
     },
     "execution_count": 616,
     "metadata": {},
     "output_type": "execute_result"
    }
   ],
   "source": [
    "model_1_28J=LinearRegression()\n",
    "model_1_28J.fit(X_train,y_train)\n",
    "model_1_28J.score(X_test,y_test)"
   ]
  },
  {
   "cell_type": "code",
   "execution_count": 617,
   "metadata": {
    "ExecuteTime": {
     "end_time": "2020-12-16T12:34:28.761393Z",
     "start_time": "2020-12-16T12:34:28.738566Z"
    }
   },
   "outputs": [
    {
     "data": {
      "text/html": [
       "<div>\n",
       "<style scoped>\n",
       "    .dataframe tbody tr th:only-of-type {\n",
       "        vertical-align: middle;\n",
       "    }\n",
       "\n",
       "    .dataframe tbody tr th {\n",
       "        vertical-align: top;\n",
       "    }\n",
       "\n",
       "    .dataframe thead th {\n",
       "        text-align: right;\n",
       "    }\n",
       "</style>\n",
       "<table border=\"1\" class=\"dataframe\">\n",
       "  <thead>\n",
       "    <tr style=\"text-align: right;\">\n",
       "      <th></th>\n",
       "      <th>Coefficient</th>\n",
       "    </tr>\n",
       "  </thead>\n",
       "  <tbody>\n",
       "    <tr>\n",
       "      <th>D-28</th>\n",
       "      <td>28472.277969</td>\n",
       "    </tr>\n",
       "    <tr>\n",
       "      <th>E1_diff</th>\n",
       "      <td>809.010141</td>\n",
       "    </tr>\n",
       "    <tr>\n",
       "      <th>C6_diff</th>\n",
       "      <td>658.288891</td>\n",
       "    </tr>\n",
       "    <tr>\n",
       "      <th>C2_diff</th>\n",
       "      <td>649.664095</td>\n",
       "    </tr>\n",
       "    <tr>\n",
       "      <th>C8_diff</th>\n",
       "      <td>624.945834</td>\n",
       "    </tr>\n",
       "    <tr>\n",
       "      <th>C1_diff</th>\n",
       "      <td>469.156222</td>\n",
       "    </tr>\n",
       "    <tr>\n",
       "      <th>C3_diff</th>\n",
       "      <td>397.410558</td>\n",
       "    </tr>\n",
       "    <tr>\n",
       "      <th>C7_diff</th>\n",
       "      <td>313.591224</td>\n",
       "    </tr>\n",
       "    <tr>\n",
       "      <th>E4_diff</th>\n",
       "      <td>264.460887</td>\n",
       "    </tr>\n",
       "    <tr>\n",
       "      <th>E2_diff</th>\n",
       "      <td>247.464727</td>\n",
       "    </tr>\n",
       "    <tr>\n",
       "      <th>C5_diff</th>\n",
       "      <td>142.560160</td>\n",
       "    </tr>\n",
       "    <tr>\n",
       "      <th>C4_diff</th>\n",
       "      <td>119.224562</td>\n",
       "    </tr>\n",
       "    <tr>\n",
       "      <th>H6_diff</th>\n",
       "      <td>-289.562532</td>\n",
       "    </tr>\n",
       "    <tr>\n",
       "      <th>H1_diff</th>\n",
       "      <td>-447.783065</td>\n",
       "    </tr>\n",
       "    <tr>\n",
       "      <th>H5_diff</th>\n",
       "      <td>-520.805057</td>\n",
       "    </tr>\n",
       "    <tr>\n",
       "      <th>E3_diff</th>\n",
       "      <td>-545.102889</td>\n",
       "    </tr>\n",
       "    <tr>\n",
       "      <th>H2_diff</th>\n",
       "      <td>-855.988447</td>\n",
       "    </tr>\n",
       "    <tr>\n",
       "      <th>H3_diff</th>\n",
       "      <td>-982.465221</td>\n",
       "    </tr>\n",
       "    <tr>\n",
       "      <th>H4_diff</th>\n",
       "      <td>-3122.758033</td>\n",
       "    </tr>\n",
       "  </tbody>\n",
       "</table>\n",
       "</div>"
      ],
      "text/plain": [
       "          Coefficient\n",
       "D-28     28472.277969\n",
       "E1_diff    809.010141\n",
       "C6_diff    658.288891\n",
       "C2_diff    649.664095\n",
       "C8_diff    624.945834\n",
       "C1_diff    469.156222\n",
       "C3_diff    397.410558\n",
       "C7_diff    313.591224\n",
       "E4_diff    264.460887\n",
       "E2_diff    247.464727\n",
       "C5_diff    142.560160\n",
       "C4_diff    119.224562\n",
       "H6_diff   -289.562532\n",
       "H1_diff   -447.783065\n",
       "H5_diff   -520.805057\n",
       "E3_diff   -545.102889\n",
       "H2_diff   -855.988447\n",
       "H3_diff   -982.465221\n",
       "H4_diff  -3122.758033"
      ]
     },
     "execution_count": 617,
     "metadata": {},
     "output_type": "execute_result"
    }
   ],
   "source": [
    "coeff_df = pd.DataFrame(model_1_28J.coef_, X.columns, columns=['Coefficient'])\n",
    "coeff_df.sort_values(by=['Coefficient'], ascending=False)"
   ]
  },
  {
   "cell_type": "markdown",
   "metadata": {},
   "source": [
    "## Features importance D28"
   ]
  },
  {
   "cell_type": "code",
   "execution_count": 618,
   "metadata": {
    "ExecuteTime": {
     "end_time": "2020-12-16T12:34:48.187168Z",
     "start_time": "2020-12-16T12:34:48.179047Z"
    }
   },
   "outputs": [],
   "source": [
    "df_model_1_28J_ = df1[['D28', 'E3_diff', 'H2_diff', 'H6_diff', 'C3_diff', 'C6_diff',\n",
    "       'E1_diff', 'C2_diff', 'C1_diff', 'C5_diff', 'H1_diff', 'H3_diff',\n",
    "       'H4_diff', 'C8_diff', 'E2_diff', 'C4_diff', 'E4_diff', 'C7_diff',\n",
    "       'H5_diff']]"
   ]
  },
  {
   "cell_type": "code",
   "execution_count": 619,
   "metadata": {
    "ExecuteTime": {
     "end_time": "2020-12-16T12:34:50.730006Z",
     "start_time": "2020-12-16T12:34:50.279164Z"
    }
   },
   "outputs": [
    {
     "name": "stderr",
     "output_type": "stream",
     "text": [
      "/Users/lourizzolo/.pyenv/versions/3.7.7/envs/lewagon/lib/python3.7/site-packages/pandas/core/frame.py:4042: SettingWithCopyWarning: \n",
      "A value is trying to be set on a copy of a slice from a DataFrame\n",
      "\n",
      "See the caveats in the documentation: http://pandas.pydata.org/pandas-docs/stable/indexing.html#indexing-view-versus-copy\n",
      "  method=method)\n",
      "/Users/lourizzolo/.pyenv/versions/3.7.7/envs/lewagon/lib/python3.7/site-packages/ipykernel_launcher.py:2: SettingWithCopyWarning: \n",
      "A value is trying to be set on a copy of a slice from a DataFrame\n",
      "\n",
      "See the caveats in the documentation: http://pandas.pydata.org/pandas-docs/stable/indexing.html#indexing-view-versus-copy\n",
      "  \n"
     ]
    }
   ],
   "source": [
    "df_model_1_28J_.replace([np.inf, -np.inf], np.nan, inplace=True)\n",
    "df_model_1_28J_.dropna(inplace = True)"
   ]
  },
  {
   "cell_type": "code",
   "execution_count": 620,
   "metadata": {
    "ExecuteTime": {
     "end_time": "2020-12-16T12:35:00.023123Z",
     "start_time": "2020-12-16T12:35:00.010376Z"
    }
   },
   "outputs": [],
   "source": [
    "X = df_model_1_28J_.drop(columns='D28')\n",
    "\n",
    "y = df_model_1_28J_['D28']"
   ]
  },
  {
   "cell_type": "code",
   "execution_count": 621,
   "metadata": {
    "ExecuteTime": {
     "end_time": "2020-12-16T12:35:00.695783Z",
     "start_time": "2020-12-16T12:35:00.686786Z"
    }
   },
   "outputs": [],
   "source": [
    "X_train, X_test, y_train, y_test = train_test_split(X, y, test_size=0.30, random_state=1)"
   ]
  },
  {
   "cell_type": "code",
   "execution_count": 622,
   "metadata": {
    "ExecuteTime": {
     "end_time": "2020-12-16T12:35:01.436755Z",
     "start_time": "2020-12-16T12:35:01.419397Z"
    }
   },
   "outputs": [
    {
     "data": {
      "text/plain": [
       "0.012531273928438225"
      ]
     },
     "execution_count": 622,
     "metadata": {},
     "output_type": "execute_result"
    }
   ],
   "source": [
    "df_model_1_28J_=LinearRegression()\n",
    "df_model_1_28J_.fit(X_train,y_train)\n",
    "df_model_1_28J_.score(X_test,y_test)"
   ]
  },
  {
   "cell_type": "code",
   "execution_count": 623,
   "metadata": {
    "ExecuteTime": {
     "end_time": "2020-12-16T12:35:05.332924Z",
     "start_time": "2020-12-16T12:35:05.307951Z"
    }
   },
   "outputs": [
    {
     "data": {
      "text/html": [
       "<div>\n",
       "<style scoped>\n",
       "    .dataframe tbody tr th:only-of-type {\n",
       "        vertical-align: middle;\n",
       "    }\n",
       "\n",
       "    .dataframe tbody tr th {\n",
       "        vertical-align: top;\n",
       "    }\n",
       "\n",
       "    .dataframe thead th {\n",
       "        text-align: right;\n",
       "    }\n",
       "</style>\n",
       "<table border=\"1\" class=\"dataframe\">\n",
       "  <thead>\n",
       "    <tr style=\"text-align: right;\">\n",
       "      <th></th>\n",
       "      <th>Coefficient</th>\n",
       "    </tr>\n",
       "  </thead>\n",
       "  <tbody>\n",
       "    <tr>\n",
       "      <th>C2_diff</th>\n",
       "      <td>654.331666</td>\n",
       "    </tr>\n",
       "    <tr>\n",
       "      <th>E2_diff</th>\n",
       "      <td>423.209160</td>\n",
       "    </tr>\n",
       "    <tr>\n",
       "      <th>E4_diff</th>\n",
       "      <td>377.248735</td>\n",
       "    </tr>\n",
       "    <tr>\n",
       "      <th>C6_diff</th>\n",
       "      <td>376.197950</td>\n",
       "    </tr>\n",
       "    <tr>\n",
       "      <th>E1_diff</th>\n",
       "      <td>168.301605</td>\n",
       "    </tr>\n",
       "    <tr>\n",
       "      <th>C7_diff</th>\n",
       "      <td>148.436293</td>\n",
       "    </tr>\n",
       "    <tr>\n",
       "      <th>C3_diff</th>\n",
       "      <td>23.177343</td>\n",
       "    </tr>\n",
       "    <tr>\n",
       "      <th>C4_diff</th>\n",
       "      <td>15.172999</td>\n",
       "    </tr>\n",
       "    <tr>\n",
       "      <th>C5_diff</th>\n",
       "      <td>-120.876843</td>\n",
       "    </tr>\n",
       "    <tr>\n",
       "      <th>C1_diff</th>\n",
       "      <td>-324.398805</td>\n",
       "    </tr>\n",
       "    <tr>\n",
       "      <th>C8_diff</th>\n",
       "      <td>-446.693771</td>\n",
       "    </tr>\n",
       "    <tr>\n",
       "      <th>H5_diff</th>\n",
       "      <td>-449.446368</td>\n",
       "    </tr>\n",
       "    <tr>\n",
       "      <th>H6_diff</th>\n",
       "      <td>-491.482415</td>\n",
       "    </tr>\n",
       "    <tr>\n",
       "      <th>E3_diff</th>\n",
       "      <td>-613.274245</td>\n",
       "    </tr>\n",
       "    <tr>\n",
       "      <th>H3_diff</th>\n",
       "      <td>-1065.919535</td>\n",
       "    </tr>\n",
       "    <tr>\n",
       "      <th>H2_diff</th>\n",
       "      <td>-1314.290367</td>\n",
       "    </tr>\n",
       "    <tr>\n",
       "      <th>H1_diff</th>\n",
       "      <td>-1450.622397</td>\n",
       "    </tr>\n",
       "    <tr>\n",
       "      <th>H4_diff</th>\n",
       "      <td>-2543.093854</td>\n",
       "    </tr>\n",
       "  </tbody>\n",
       "</table>\n",
       "</div>"
      ],
      "text/plain": [
       "         Coefficient\n",
       "C2_diff   654.331666\n",
       "E2_diff   423.209160\n",
       "E4_diff   377.248735\n",
       "C6_diff   376.197950\n",
       "E1_diff   168.301605\n",
       "C7_diff   148.436293\n",
       "C3_diff    23.177343\n",
       "C4_diff    15.172999\n",
       "C5_diff  -120.876843\n",
       "C1_diff  -324.398805\n",
       "C8_diff  -446.693771\n",
       "H5_diff  -449.446368\n",
       "H6_diff  -491.482415\n",
       "E3_diff  -613.274245\n",
       "H3_diff -1065.919535\n",
       "H2_diff -1314.290367\n",
       "H1_diff -1450.622397\n",
       "H4_diff -2543.093854"
      ]
     },
     "execution_count": 623,
     "metadata": {},
     "output_type": "execute_result"
    }
   ],
   "source": [
    "coeff_df = pd.DataFrame(df_model_1_28J_.coef_, X.columns, columns=['Coefficient'])\n",
    "coeff_df.sort_values(by=['Coefficient'], ascending=False)"
   ]
  },
  {
   "cell_type": "markdown",
   "metadata": {},
   "source": [
    "# Best lin_reg"
   ]
  },
  {
   "cell_type": "code",
   "execution_count": 624,
   "metadata": {
    "ExecuteTime": {
     "end_time": "2020-12-16T12:38:51.501006Z",
     "start_time": "2020-12-16T12:38:51.490089Z"
    }
   },
   "outputs": [],
   "source": [
    "df1 = df.copy()"
   ]
  },
  {
   "cell_type": "code",
   "execution_count": 625,
   "metadata": {
    "ExecuteTime": {
     "end_time": "2020-12-16T12:38:51.956719Z",
     "start_time": "2020-12-16T12:38:51.949985Z"
    }
   },
   "outputs": [],
   "source": [
    "df_lr = df1[['D-14', 'D14', 'E3_diff', 'H2_diff', 'H6_diff', 'C3_diff', 'C6_diff',\n",
    "       'E1_diff', 'C2_diff', 'C1_diff', 'C5_diff', 'H1_diff', 'H3_diff',\n",
    "       'H4_diff', 'C8_diff', 'E2_diff', 'C4_diff', 'E4_diff', 'C7_diff',\n",
    "       'H5_diff']]"
   ]
  },
  {
   "cell_type": "code",
   "execution_count": 626,
   "metadata": {
    "ExecuteTime": {
     "end_time": "2020-12-16T12:38:53.276222Z",
     "start_time": "2020-12-16T12:38:52.849661Z"
    }
   },
   "outputs": [
    {
     "name": "stderr",
     "output_type": "stream",
     "text": [
      "/Users/lourizzolo/.pyenv/versions/3.7.7/envs/lewagon/lib/python3.7/site-packages/pandas/core/frame.py:4042: SettingWithCopyWarning: \n",
      "A value is trying to be set on a copy of a slice from a DataFrame\n",
      "\n",
      "See the caveats in the documentation: http://pandas.pydata.org/pandas-docs/stable/indexing.html#indexing-view-versus-copy\n",
      "  method=method)\n",
      "/Users/lourizzolo/.pyenv/versions/3.7.7/envs/lewagon/lib/python3.7/site-packages/ipykernel_launcher.py:2: SettingWithCopyWarning: \n",
      "A value is trying to be set on a copy of a slice from a DataFrame\n",
      "\n",
      "See the caveats in the documentation: http://pandas.pydata.org/pandas-docs/stable/indexing.html#indexing-view-versus-copy\n",
      "  \n"
     ]
    }
   ],
   "source": [
    "df_lr.replace([np.inf, -np.inf], np.nan, inplace=True)\n",
    "df_lr.dropna(inplace = True)"
   ]
  },
  {
   "cell_type": "code",
   "execution_count": 627,
   "metadata": {
    "ExecuteTime": {
     "end_time": "2020-12-16T12:39:33.337926Z",
     "start_time": "2020-12-16T12:39:33.094647Z"
    }
   },
   "outputs": [
    {
     "name": "stderr",
     "output_type": "stream",
     "text": [
      "/Users/lourizzolo/.pyenv/versions/3.7.7/envs/lewagon/lib/python3.7/site-packages/ipykernel_launcher.py:2: SettingWithCopyWarning: \n",
      "A value is trying to be set on a copy of a slice from a DataFrame.\n",
      "Try using .loc[row_indexer,col_indexer] = value instead\n",
      "\n",
      "See the caveats in the documentation: http://pandas.pydata.org/pandas-docs/stable/indexing.html#indexing-view-versus-copy\n",
      "  \n"
     ]
    }
   ],
   "source": [
    "scaler = MinMaxScaler()\n",
    "df_lr['D-14'] = scaler.fit_transform(df_lr[['D-14']])"
   ]
  },
  {
   "cell_type": "code",
   "execution_count": 628,
   "metadata": {
    "ExecuteTime": {
     "end_time": "2020-12-16T12:40:01.323191Z",
     "start_time": "2020-12-16T12:40:01.317758Z"
    }
   },
   "outputs": [],
   "source": [
    "X = df_lr.drop(columns='D14')\n",
    "y = df_lr['D14']"
   ]
  },
  {
   "cell_type": "code",
   "execution_count": 629,
   "metadata": {
    "ExecuteTime": {
     "end_time": "2020-12-16T12:40:27.634289Z",
     "start_time": "2020-12-16T12:40:27.623094Z"
    }
   },
   "outputs": [],
   "source": [
    "from sklearn.model_selection import train_test_split\n",
    "X_train, X_test, y_train, y_test = train_test_split(X, y, test_size=0.30, random_state=1)"
   ]
  },
  {
   "cell_type": "code",
   "execution_count": 631,
   "metadata": {
    "ExecuteTime": {
     "end_time": "2020-12-16T12:41:18.045100Z",
     "start_time": "2020-12-16T12:41:18.026288Z"
    }
   },
   "outputs": [
    {
     "data": {
      "text/plain": [
       "0.6436696849032073"
      ]
     },
     "execution_count": 631,
     "metadata": {},
     "output_type": "execute_result"
    }
   ],
   "source": [
    "lr=LinearRegression()\n",
    "lr.fit(X_train,y_train)\n",
    "lr.score(X_test,y_test)"
   ]
  },
  {
   "cell_type": "code",
   "execution_count": 632,
   "metadata": {
    "ExecuteTime": {
     "end_time": "2020-12-16T12:41:22.869908Z",
     "start_time": "2020-12-16T12:41:22.855630Z"
    }
   },
   "outputs": [
    {
     "data": {
      "text/html": [
       "<div>\n",
       "<style scoped>\n",
       "    .dataframe tbody tr th:only-of-type {\n",
       "        vertical-align: middle;\n",
       "    }\n",
       "\n",
       "    .dataframe tbody tr th {\n",
       "        vertical-align: top;\n",
       "    }\n",
       "\n",
       "    .dataframe thead th {\n",
       "        text-align: right;\n",
       "    }\n",
       "</style>\n",
       "<table border=\"1\" class=\"dataframe\">\n",
       "  <thead>\n",
       "    <tr style=\"text-align: right;\">\n",
       "      <th></th>\n",
       "      <th>Coefficient</th>\n",
       "    </tr>\n",
       "  </thead>\n",
       "  <tbody>\n",
       "    <tr>\n",
       "      <th>D-14</th>\n",
       "      <td>20076.885326</td>\n",
       "    </tr>\n",
       "    <tr>\n",
       "      <th>H5_diff</th>\n",
       "      <td>556.729646</td>\n",
       "    </tr>\n",
       "    <tr>\n",
       "      <th>E4_diff</th>\n",
       "      <td>368.708199</td>\n",
       "    </tr>\n",
       "    <tr>\n",
       "      <th>C6_diff</th>\n",
       "      <td>323.588380</td>\n",
       "    </tr>\n",
       "    <tr>\n",
       "      <th>E1_diff</th>\n",
       "      <td>317.488702</td>\n",
       "    </tr>\n",
       "    <tr>\n",
       "      <th>C2_diff</th>\n",
       "      <td>191.566056</td>\n",
       "    </tr>\n",
       "    <tr>\n",
       "      <th>C8_diff</th>\n",
       "      <td>120.849636</td>\n",
       "    </tr>\n",
       "    <tr>\n",
       "      <th>E2_diff</th>\n",
       "      <td>97.731470</td>\n",
       "    </tr>\n",
       "    <tr>\n",
       "      <th>C3_diff</th>\n",
       "      <td>97.448146</td>\n",
       "    </tr>\n",
       "    <tr>\n",
       "      <th>C7_diff</th>\n",
       "      <td>83.835015</td>\n",
       "    </tr>\n",
       "    <tr>\n",
       "      <th>C1_diff</th>\n",
       "      <td>62.178997</td>\n",
       "    </tr>\n",
       "    <tr>\n",
       "      <th>C5_diff</th>\n",
       "      <td>59.835503</td>\n",
       "    </tr>\n",
       "    <tr>\n",
       "      <th>C4_diff</th>\n",
       "      <td>46.181610</td>\n",
       "    </tr>\n",
       "    <tr>\n",
       "      <th>H6_diff</th>\n",
       "      <td>-87.515129</td>\n",
       "    </tr>\n",
       "    <tr>\n",
       "      <th>E3_diff</th>\n",
       "      <td>-103.743614</td>\n",
       "    </tr>\n",
       "    <tr>\n",
       "      <th>H3_diff</th>\n",
       "      <td>-129.990596</td>\n",
       "    </tr>\n",
       "    <tr>\n",
       "      <th>H1_diff</th>\n",
       "      <td>-140.908744</td>\n",
       "    </tr>\n",
       "    <tr>\n",
       "      <th>H2_diff</th>\n",
       "      <td>-228.365019</td>\n",
       "    </tr>\n",
       "    <tr>\n",
       "      <th>H4_diff</th>\n",
       "      <td>-1016.742145</td>\n",
       "    </tr>\n",
       "  </tbody>\n",
       "</table>\n",
       "</div>"
      ],
      "text/plain": [
       "          Coefficient\n",
       "D-14     20076.885326\n",
       "H5_diff    556.729646\n",
       "E4_diff    368.708199\n",
       "C6_diff    323.588380\n",
       "E1_diff    317.488702\n",
       "C2_diff    191.566056\n",
       "C8_diff    120.849636\n",
       "E2_diff     97.731470\n",
       "C3_diff     97.448146\n",
       "C7_diff     83.835015\n",
       "C1_diff     62.178997\n",
       "C5_diff     59.835503\n",
       "C4_diff     46.181610\n",
       "H6_diff    -87.515129\n",
       "E3_diff   -103.743614\n",
       "H3_diff   -129.990596\n",
       "H1_diff   -140.908744\n",
       "H2_diff   -228.365019\n",
       "H4_diff  -1016.742145"
      ]
     },
     "execution_count": 632,
     "metadata": {},
     "output_type": "execute_result"
    }
   ],
   "source": [
    "coeff_df = pd.DataFrame(lr.coef_, X.columns, columns=['Coefficient'])\n",
    "coeff_df.sort_values(by=['Coefficient'], ascending=False)"
   ]
  },
  {
   "cell_type": "markdown",
   "metadata": {},
   "source": [
    "# Ridge"
   ]
  },
  {
   "cell_type": "markdown",
   "metadata": {},
   "source": [
    "## D-14 -> D14"
   ]
  },
  {
   "cell_type": "code",
   "execution_count": 687,
   "metadata": {
    "ExecuteTime": {
     "end_time": "2020-12-16T12:59:23.822870Z",
     "start_time": "2020-12-16T12:59:23.811994Z"
    }
   },
   "outputs": [],
   "source": [
    "df1 = df.copy()"
   ]
  },
  {
   "cell_type": "code",
   "execution_count": 688,
   "metadata": {
    "ExecuteTime": {
     "end_time": "2020-12-16T12:59:24.254781Z",
     "start_time": "2020-12-16T12:59:24.246483Z"
    }
   },
   "outputs": [],
   "source": [
    "df_ridge = df1[['D-14', 'D14', 'E3_diff', 'H2_diff', 'H6_diff', 'C3_diff', 'C6_diff',\n",
    "       'E1_diff', 'C2_diff', 'C1_diff', 'C5_diff', 'H1_diff', 'H3_diff',\n",
    "       'H4_diff', 'C8_diff', 'E2_diff', 'C4_diff', 'E4_diff', 'C7_diff',\n",
    "       'H5_diff']]"
   ]
  },
  {
   "cell_type": "code",
   "execution_count": 689,
   "metadata": {
    "ExecuteTime": {
     "end_time": "2020-12-16T12:59:25.195041Z",
     "start_time": "2020-12-16T12:59:24.731142Z"
    }
   },
   "outputs": [
    {
     "name": "stderr",
     "output_type": "stream",
     "text": [
      "/Users/lourizzolo/.pyenv/versions/3.7.7/envs/lewagon/lib/python3.7/site-packages/pandas/core/frame.py:4042: SettingWithCopyWarning: \n",
      "A value is trying to be set on a copy of a slice from a DataFrame\n",
      "\n",
      "See the caveats in the documentation: http://pandas.pydata.org/pandas-docs/stable/indexing.html#indexing-view-versus-copy\n",
      "  method=method)\n",
      "/Users/lourizzolo/.pyenv/versions/3.7.7/envs/lewagon/lib/python3.7/site-packages/ipykernel_launcher.py:2: SettingWithCopyWarning: \n",
      "A value is trying to be set on a copy of a slice from a DataFrame\n",
      "\n",
      "See the caveats in the documentation: http://pandas.pydata.org/pandas-docs/stable/indexing.html#indexing-view-versus-copy\n",
      "  \n"
     ]
    }
   ],
   "source": [
    "df_ridge.replace([np.inf, -np.inf], np.nan, inplace=True)\n",
    "df_ridge.dropna(inplace = True)"
   ]
  },
  {
   "cell_type": "code",
   "execution_count": 690,
   "metadata": {
    "ExecuteTime": {
     "end_time": "2020-12-16T12:59:26.150914Z",
     "start_time": "2020-12-16T12:59:25.894665Z"
    }
   },
   "outputs": [
    {
     "name": "stderr",
     "output_type": "stream",
     "text": [
      "/Users/lourizzolo/.pyenv/versions/3.7.7/envs/lewagon/lib/python3.7/site-packages/ipykernel_launcher.py:2: SettingWithCopyWarning: \n",
      "A value is trying to be set on a copy of a slice from a DataFrame.\n",
      "Try using .loc[row_indexer,col_indexer] = value instead\n",
      "\n",
      "See the caveats in the documentation: http://pandas.pydata.org/pandas-docs/stable/indexing.html#indexing-view-versus-copy\n",
      "  \n"
     ]
    }
   ],
   "source": [
    "scaler = MinMaxScaler()\n",
    "df_ridge['D-14'] = scaler.fit_transform(df_ridge[['D-14']])"
   ]
  },
  {
   "cell_type": "code",
   "execution_count": 691,
   "metadata": {
    "ExecuteTime": {
     "end_time": "2020-12-16T12:59:26.895480Z",
     "start_time": "2020-12-16T12:59:26.888864Z"
    }
   },
   "outputs": [],
   "source": [
    "X = df_ridge.drop(columns='D14')\n",
    "y = df_ridge['D14']"
   ]
  },
  {
   "cell_type": "code",
   "execution_count": 692,
   "metadata": {
    "ExecuteTime": {
     "end_time": "2020-12-16T12:59:27.706268Z",
     "start_time": "2020-12-16T12:59:27.680774Z"
    }
   },
   "outputs": [],
   "source": [
    "X_train, X_test, y_train, y_test = train_test_split(X, y, test_size=0.30, random_state=1)"
   ]
  },
  {
   "cell_type": "code",
   "execution_count": 693,
   "metadata": {
    "ExecuteTime": {
     "end_time": "2020-12-16T12:59:32.194342Z",
     "start_time": "2020-12-16T12:59:28.441979Z"
    }
   },
   "outputs": [
    {
     "name": "stdout",
     "output_type": "stream",
     "text": [
      "RandomizedSearchCV(estimator=Ridge(), n_iter=100,\n",
      "                   param_distributions={'alpha': <scipy.stats._distn_infrastructure.rv_frozen object at 0x12d5ba690>})\n",
      "0.711454235327578\n",
      "0.21805698347531144\n"
     ]
    }
   ],
   "source": [
    "from sklearn.linear_model import Ridge\n",
    "from scipy.stats import uniform as sp_rand\n",
    "\n",
    "param_grid = {'alpha': sp_rand()}\n",
    "\n",
    "# create and fit a ridge regression model, testing random alpha values\n",
    "ridge = Ridge()\n",
    "rsearch = RandomizedSearchCV(estimator=ridge, param_distributions=param_grid, n_iter=100)\n",
    "rsearch.fit(X_train, y_train)\n",
    "print(rsearch)\n",
    "\n",
    "# summarize the results of the random parameter search\n",
    "print(rsearch.best_score_)\n",
    "print(rsearch.best_estimator_.alpha)"
   ]
  },
  {
   "cell_type": "code",
   "execution_count": 694,
   "metadata": {
    "ExecuteTime": {
     "end_time": "2020-12-16T12:59:35.082698Z",
     "start_time": "2020-12-16T12:59:35.065083Z"
    }
   },
   "outputs": [
    {
     "data": {
      "text/plain": [
       "Ridge(alpha=0.21805698347531144)"
      ]
     },
     "execution_count": 694,
     "metadata": {},
     "output_type": "execute_result"
    }
   ],
   "source": [
    "best_ridge = Ridge(alpha=rsearch.best_estimator_.alpha)\n",
    "best_ridge.fit(X_train,y_train)"
   ]
  },
  {
   "cell_type": "code",
   "execution_count": 695,
   "metadata": {
    "ExecuteTime": {
     "end_time": "2020-12-16T12:59:36.029623Z",
     "start_time": "2020-12-16T12:59:36.018216Z"
    }
   },
   "outputs": [
    {
     "data": {
      "text/plain": [
       "0.6462683429321017"
      ]
     },
     "execution_count": 695,
     "metadata": {},
     "output_type": "execute_result"
    }
   ],
   "source": [
    "best_ridge.score(X_test,y_test)"
   ]
  },
  {
   "cell_type": "code",
   "execution_count": 696,
   "metadata": {
    "ExecuteTime": {
     "end_time": "2020-12-16T12:59:40.993886Z",
     "start_time": "2020-12-16T12:59:40.973314Z"
    }
   },
   "outputs": [
    {
     "data": {
      "text/html": [
       "<div>\n",
       "<style scoped>\n",
       "    .dataframe tbody tr th:only-of-type {\n",
       "        vertical-align: middle;\n",
       "    }\n",
       "\n",
       "    .dataframe tbody tr th {\n",
       "        vertical-align: top;\n",
       "    }\n",
       "\n",
       "    .dataframe thead th {\n",
       "        text-align: right;\n",
       "    }\n",
       "</style>\n",
       "<table border=\"1\" class=\"dataframe\">\n",
       "  <thead>\n",
       "    <tr style=\"text-align: right;\">\n",
       "      <th></th>\n",
       "      <th>Coefficient</th>\n",
       "    </tr>\n",
       "  </thead>\n",
       "  <tbody>\n",
       "    <tr>\n",
       "      <th>D-14</th>\n",
       "      <td>19682.372376</td>\n",
       "    </tr>\n",
       "    <tr>\n",
       "      <th>H5_diff</th>\n",
       "      <td>474.893246</td>\n",
       "    </tr>\n",
       "    <tr>\n",
       "      <th>C6_diff</th>\n",
       "      <td>317.130198</td>\n",
       "    </tr>\n",
       "    <tr>\n",
       "      <th>E1_diff</th>\n",
       "      <td>304.368885</td>\n",
       "    </tr>\n",
       "    <tr>\n",
       "      <th>E4_diff</th>\n",
       "      <td>296.632972</td>\n",
       "    </tr>\n",
       "    <tr>\n",
       "      <th>C2_diff</th>\n",
       "      <td>184.443912</td>\n",
       "    </tr>\n",
       "    <tr>\n",
       "      <th>C8_diff</th>\n",
       "      <td>109.717914</td>\n",
       "    </tr>\n",
       "    <tr>\n",
       "      <th>E2_diff</th>\n",
       "      <td>95.712641</td>\n",
       "    </tr>\n",
       "    <tr>\n",
       "      <th>C3_diff</th>\n",
       "      <td>92.116737</td>\n",
       "    </tr>\n",
       "    <tr>\n",
       "      <th>C7_diff</th>\n",
       "      <td>79.891967</td>\n",
       "    </tr>\n",
       "    <tr>\n",
       "      <th>C5_diff</th>\n",
       "      <td>55.514653</td>\n",
       "    </tr>\n",
       "    <tr>\n",
       "      <th>C1_diff</th>\n",
       "      <td>53.644779</td>\n",
       "    </tr>\n",
       "    <tr>\n",
       "      <th>C4_diff</th>\n",
       "      <td>41.938959</td>\n",
       "    </tr>\n",
       "    <tr>\n",
       "      <th>H6_diff</th>\n",
       "      <td>-91.479485</td>\n",
       "    </tr>\n",
       "    <tr>\n",
       "      <th>E3_diff</th>\n",
       "      <td>-109.009503</td>\n",
       "    </tr>\n",
       "    <tr>\n",
       "      <th>H3_diff</th>\n",
       "      <td>-131.438201</td>\n",
       "    </tr>\n",
       "    <tr>\n",
       "      <th>H1_diff</th>\n",
       "      <td>-149.511091</td>\n",
       "    </tr>\n",
       "    <tr>\n",
       "      <th>H2_diff</th>\n",
       "      <td>-234.070831</td>\n",
       "    </tr>\n",
       "    <tr>\n",
       "      <th>H4_diff</th>\n",
       "      <td>-1017.639527</td>\n",
       "    </tr>\n",
       "  </tbody>\n",
       "</table>\n",
       "</div>"
      ],
      "text/plain": [
       "          Coefficient\n",
       "D-14     19682.372376\n",
       "H5_diff    474.893246\n",
       "C6_diff    317.130198\n",
       "E1_diff    304.368885\n",
       "E4_diff    296.632972\n",
       "C2_diff    184.443912\n",
       "C8_diff    109.717914\n",
       "E2_diff     95.712641\n",
       "C3_diff     92.116737\n",
       "C7_diff     79.891967\n",
       "C5_diff     55.514653\n",
       "C1_diff     53.644779\n",
       "C4_diff     41.938959\n",
       "H6_diff    -91.479485\n",
       "E3_diff   -109.009503\n",
       "H3_diff   -131.438201\n",
       "H1_diff   -149.511091\n",
       "H2_diff   -234.070831\n",
       "H4_diff  -1017.639527"
      ]
     },
     "execution_count": 696,
     "metadata": {},
     "output_type": "execute_result"
    }
   ],
   "source": [
    "coeff_df_best_ridge = pd.DataFrame(best_ridge.coef_, X.columns, columns=['Coefficient'])\n",
    "coeff_df_best_ridge.sort_values(by=['Coefficient'], ascending=False)"
   ]
  },
  {
   "cell_type": "code",
   "execution_count": 697,
   "metadata": {
    "ExecuteTime": {
     "end_time": "2020-12-16T13:02:08.562819Z",
     "start_time": "2020-12-16T13:02:08.550089Z"
    }
   },
   "outputs": [
    {
     "data": {
      "text/plain": [
       "Ridge(alpha=0.21805698347531144)"
      ]
     },
     "execution_count": 697,
     "metadata": {},
     "output_type": "execute_result"
    }
   ],
   "source": [
    "best_ridge_2 = Ridge(alpha=rsearch.best_estimator_.alpha)\n",
    "best_ridge_2.fit(X_train,y_train)"
   ]
  },
  {
   "cell_type": "code",
   "execution_count": 698,
   "metadata": {
    "ExecuteTime": {
     "end_time": "2020-12-16T13:02:09.920160Z",
     "start_time": "2020-12-16T13:02:09.909537Z"
    }
   },
   "outputs": [
    {
     "data": {
      "text/plain": [
       "0.6462683429321017"
      ]
     },
     "execution_count": 698,
     "metadata": {},
     "output_type": "execute_result"
    }
   ],
   "source": [
    "best_ridge_2.score(X_test,y_test)"
   ]
  },
  {
   "cell_type": "code",
   "execution_count": 699,
   "metadata": {
    "ExecuteTime": {
     "end_time": "2020-12-16T13:02:14.926761Z",
     "start_time": "2020-12-16T13:02:14.913322Z"
    }
   },
   "outputs": [
    {
     "data": {
      "text/html": [
       "<div>\n",
       "<style scoped>\n",
       "    .dataframe tbody tr th:only-of-type {\n",
       "        vertical-align: middle;\n",
       "    }\n",
       "\n",
       "    .dataframe tbody tr th {\n",
       "        vertical-align: top;\n",
       "    }\n",
       "\n",
       "    .dataframe thead th {\n",
       "        text-align: right;\n",
       "    }\n",
       "</style>\n",
       "<table border=\"1\" class=\"dataframe\">\n",
       "  <thead>\n",
       "    <tr style=\"text-align: right;\">\n",
       "      <th></th>\n",
       "      <th>Coefficient</th>\n",
       "    </tr>\n",
       "  </thead>\n",
       "  <tbody>\n",
       "    <tr>\n",
       "      <th>D-14</th>\n",
       "      <td>19682.372376</td>\n",
       "    </tr>\n",
       "    <tr>\n",
       "      <th>H5_diff</th>\n",
       "      <td>474.893246</td>\n",
       "    </tr>\n",
       "    <tr>\n",
       "      <th>C6_diff</th>\n",
       "      <td>317.130198</td>\n",
       "    </tr>\n",
       "    <tr>\n",
       "      <th>E1_diff</th>\n",
       "      <td>304.368885</td>\n",
       "    </tr>\n",
       "    <tr>\n",
       "      <th>E4_diff</th>\n",
       "      <td>296.632972</td>\n",
       "    </tr>\n",
       "    <tr>\n",
       "      <th>C2_diff</th>\n",
       "      <td>184.443912</td>\n",
       "    </tr>\n",
       "    <tr>\n",
       "      <th>C8_diff</th>\n",
       "      <td>109.717914</td>\n",
       "    </tr>\n",
       "    <tr>\n",
       "      <th>E2_diff</th>\n",
       "      <td>95.712641</td>\n",
       "    </tr>\n",
       "    <tr>\n",
       "      <th>C3_diff</th>\n",
       "      <td>92.116737</td>\n",
       "    </tr>\n",
       "    <tr>\n",
       "      <th>C7_diff</th>\n",
       "      <td>79.891967</td>\n",
       "    </tr>\n",
       "    <tr>\n",
       "      <th>C5_diff</th>\n",
       "      <td>55.514653</td>\n",
       "    </tr>\n",
       "    <tr>\n",
       "      <th>C1_diff</th>\n",
       "      <td>53.644779</td>\n",
       "    </tr>\n",
       "    <tr>\n",
       "      <th>C4_diff</th>\n",
       "      <td>41.938959</td>\n",
       "    </tr>\n",
       "    <tr>\n",
       "      <th>H6_diff</th>\n",
       "      <td>-91.479485</td>\n",
       "    </tr>\n",
       "    <tr>\n",
       "      <th>E3_diff</th>\n",
       "      <td>-109.009503</td>\n",
       "    </tr>\n",
       "    <tr>\n",
       "      <th>H3_diff</th>\n",
       "      <td>-131.438201</td>\n",
       "    </tr>\n",
       "    <tr>\n",
       "      <th>H1_diff</th>\n",
       "      <td>-149.511091</td>\n",
       "    </tr>\n",
       "    <tr>\n",
       "      <th>H2_diff</th>\n",
       "      <td>-234.070831</td>\n",
       "    </tr>\n",
       "    <tr>\n",
       "      <th>H4_diff</th>\n",
       "      <td>-1017.639527</td>\n",
       "    </tr>\n",
       "  </tbody>\n",
       "</table>\n",
       "</div>"
      ],
      "text/plain": [
       "          Coefficient\n",
       "D-14     19682.372376\n",
       "H5_diff    474.893246\n",
       "C6_diff    317.130198\n",
       "E1_diff    304.368885\n",
       "E4_diff    296.632972\n",
       "C2_diff    184.443912\n",
       "C8_diff    109.717914\n",
       "E2_diff     95.712641\n",
       "C3_diff     92.116737\n",
       "C7_diff     79.891967\n",
       "C5_diff     55.514653\n",
       "C1_diff     53.644779\n",
       "C4_diff     41.938959\n",
       "H6_diff    -91.479485\n",
       "E3_diff   -109.009503\n",
       "H3_diff   -131.438201\n",
       "H1_diff   -149.511091\n",
       "H2_diff   -234.070831\n",
       "H4_diff  -1017.639527"
      ]
     },
     "execution_count": 699,
     "metadata": {},
     "output_type": "execute_result"
    }
   ],
   "source": [
    "coeff_df_best_ridge_2 = pd.DataFrame(best_ridge_2.coef_, X.columns, columns=['Coefficient'])\n",
    "coeff_df_best_ridge_2.sort_values(by=['Coefficient'], ascending=False)"
   ]
  },
  {
   "cell_type": "markdown",
   "metadata": {},
   "source": [
    "# Lasso"
   ]
  },
  {
   "cell_type": "code",
   "execution_count": 700,
   "metadata": {
    "ExecuteTime": {
     "end_time": "2020-12-16T13:02:38.217760Z",
     "start_time": "2020-12-16T13:02:38.203068Z"
    }
   },
   "outputs": [],
   "source": [
    "df1 = df.copy()"
   ]
  },
  {
   "cell_type": "code",
   "execution_count": 701,
   "metadata": {
    "ExecuteTime": {
     "end_time": "2020-12-16T13:02:38.707540Z",
     "start_time": "2020-12-16T13:02:38.696748Z"
    }
   },
   "outputs": [],
   "source": [
    "df_lasso = df1[['D-14', 'D14', 'E3_diff', 'H2_diff', 'H6_diff', 'C3_diff', 'C6_diff',\n",
    "       'E1_diff', 'C2_diff', 'C1_diff', 'C5_diff', 'H1_diff', 'H3_diff',\n",
    "       'H4_diff', 'C8_diff', 'E2_diff', 'C4_diff', 'E4_diff', 'C7_diff',\n",
    "       'H5_diff']]"
   ]
  },
  {
   "cell_type": "code",
   "execution_count": 702,
   "metadata": {
    "ExecuteTime": {
     "end_time": "2020-12-16T13:02:40.880531Z",
     "start_time": "2020-12-16T13:02:40.442879Z"
    }
   },
   "outputs": [
    {
     "name": "stderr",
     "output_type": "stream",
     "text": [
      "/Users/lourizzolo/.pyenv/versions/3.7.7/envs/lewagon/lib/python3.7/site-packages/pandas/core/frame.py:4042: SettingWithCopyWarning: \n",
      "A value is trying to be set on a copy of a slice from a DataFrame\n",
      "\n",
      "See the caveats in the documentation: http://pandas.pydata.org/pandas-docs/stable/indexing.html#indexing-view-versus-copy\n",
      "  method=method)\n",
      "/Users/lourizzolo/.pyenv/versions/3.7.7/envs/lewagon/lib/python3.7/site-packages/ipykernel_launcher.py:2: SettingWithCopyWarning: \n",
      "A value is trying to be set on a copy of a slice from a DataFrame\n",
      "\n",
      "See the caveats in the documentation: http://pandas.pydata.org/pandas-docs/stable/indexing.html#indexing-view-versus-copy\n",
      "  \n"
     ]
    }
   ],
   "source": [
    "df_lasso.replace([np.inf, -np.inf], np.nan, inplace=True)\n",
    "df_lasso.dropna(inplace = True)"
   ]
  },
  {
   "cell_type": "code",
   "execution_count": 703,
   "metadata": {
    "ExecuteTime": {
     "end_time": "2020-12-16T13:03:07.807085Z",
     "start_time": "2020-12-16T13:03:07.552715Z"
    }
   },
   "outputs": [
    {
     "name": "stderr",
     "output_type": "stream",
     "text": [
      "/Users/lourizzolo/.pyenv/versions/3.7.7/envs/lewagon/lib/python3.7/site-packages/ipykernel_launcher.py:2: SettingWithCopyWarning: \n",
      "A value is trying to be set on a copy of a slice from a DataFrame.\n",
      "Try using .loc[row_indexer,col_indexer] = value instead\n",
      "\n",
      "See the caveats in the documentation: http://pandas.pydata.org/pandas-docs/stable/indexing.html#indexing-view-versus-copy\n",
      "  \n"
     ]
    }
   ],
   "source": [
    "scaler = MinMaxScaler()\n",
    "df_lasso['D-14'] = scaler.fit_transform(df_lasso[['D-14']])"
   ]
  },
  {
   "cell_type": "code",
   "execution_count": 704,
   "metadata": {
    "ExecuteTime": {
     "end_time": "2020-12-16T13:03:18.006995Z",
     "start_time": "2020-12-16T13:03:18.001176Z"
    }
   },
   "outputs": [],
   "source": [
    "X = df_lasso.drop(columns='D14')\n",
    "y = df_lasso['D-14']"
   ]
  },
  {
   "cell_type": "code",
   "execution_count": 705,
   "metadata": {
    "ExecuteTime": {
     "end_time": "2020-12-16T13:03:18.800201Z",
     "start_time": "2020-12-16T13:03:18.791084Z"
    }
   },
   "outputs": [],
   "source": [
    "X_train, X_test, y_train, y_test = train_test_split(X, y, test_size=0.30, random_state=1)"
   ]
  },
  {
   "cell_type": "code",
   "execution_count": 706,
   "metadata": {
    "ExecuteTime": {
     "end_time": "2020-12-16T13:03:24.563995Z",
     "start_time": "2020-12-16T13:03:20.085471Z"
    }
   },
   "outputs": [
    {
     "name": "stdout",
     "output_type": "stream",
     "text": [
      "RandomizedSearchCV(estimator=Lasso(), n_iter=100,\n",
      "                   param_distributions={'alpha': <scipy.stats._distn_infrastructure.rv_frozen object at 0x12d6abf50>})\n",
      "0.23238866856084311\n",
      "0.0017870754763281704\n"
     ]
    }
   ],
   "source": [
    "from sklearn.linear_model import Lasso\n",
    "from scipy.stats import uniform as sp_rand\n",
    "\n",
    "param_grid = {'alpha': sp_rand()}\n",
    "\n",
    "# create and fit a ridge regression model, testing random alpha values\n",
    "lasso = Lasso()\n",
    "rsearch = RandomizedSearchCV(estimator=lasso, param_distributions=param_grid, n_iter=100)\n",
    "rsearch.fit(X_train, y_train)\n",
    "print(rsearch)\n",
    "\n",
    "# summarize the results of the random parameter search\n",
    "print(rsearch.best_score_)\n",
    "print(rsearch.best_estimator_.alpha)"
   ]
  },
  {
   "cell_type": "code",
   "execution_count": 707,
   "metadata": {
    "ExecuteTime": {
     "end_time": "2020-12-16T13:03:27.613942Z",
     "start_time": "2020-12-16T13:03:27.592602Z"
    }
   },
   "outputs": [
    {
     "data": {
      "text/plain": [
       "Lasso(alpha=0.0017870754763281704)"
      ]
     },
     "execution_count": 707,
     "metadata": {},
     "output_type": "execute_result"
    }
   ],
   "source": [
    "best_lasso = Lasso(alpha=rsearch.best_estimator_.alpha)\n",
    "best_lasso.fit(X_train,y_train)"
   ]
  },
  {
   "cell_type": "code",
   "execution_count": 708,
   "metadata": {
    "ExecuteTime": {
     "end_time": "2020-12-16T13:03:30.441683Z",
     "start_time": "2020-12-16T13:03:30.429993Z"
    }
   },
   "outputs": [
    {
     "data": {
      "text/plain": [
       "0.23692661190538777"
      ]
     },
     "execution_count": 708,
     "metadata": {},
     "output_type": "execute_result"
    }
   ],
   "source": [
    "best_lasso.score(X_test,y_test)"
   ]
  },
  {
   "cell_type": "code",
   "execution_count": 709,
   "metadata": {
    "ExecuteTime": {
     "end_time": "2020-12-16T13:03:33.534158Z",
     "start_time": "2020-12-16T13:03:33.518790Z"
    }
   },
   "outputs": [
    {
     "data": {
      "text/html": [
       "<div>\n",
       "<style scoped>\n",
       "    .dataframe tbody tr th:only-of-type {\n",
       "        vertical-align: middle;\n",
       "    }\n",
       "\n",
       "    .dataframe tbody tr th {\n",
       "        vertical-align: top;\n",
       "    }\n",
       "\n",
       "    .dataframe thead th {\n",
       "        text-align: right;\n",
       "    }\n",
       "</style>\n",
       "<table border=\"1\" class=\"dataframe\">\n",
       "  <thead>\n",
       "    <tr style=\"text-align: right;\">\n",
       "      <th></th>\n",
       "      <th>Coefficient</th>\n",
       "    </tr>\n",
       "  </thead>\n",
       "  <tbody>\n",
       "    <tr>\n",
       "      <th>D-14</th>\n",
       "      <td>0.126519</td>\n",
       "    </tr>\n",
       "    <tr>\n",
       "      <th>H1_diff</th>\n",
       "      <td>-0.000000</td>\n",
       "    </tr>\n",
       "    <tr>\n",
       "      <th>C7_diff</th>\n",
       "      <td>-0.000000</td>\n",
       "    </tr>\n",
       "    <tr>\n",
       "      <th>E4_diff</th>\n",
       "      <td>-0.000000</td>\n",
       "    </tr>\n",
       "    <tr>\n",
       "      <th>C4_diff</th>\n",
       "      <td>-0.000000</td>\n",
       "    </tr>\n",
       "    <tr>\n",
       "      <th>E2_diff</th>\n",
       "      <td>-0.000000</td>\n",
       "    </tr>\n",
       "    <tr>\n",
       "      <th>C8_diff</th>\n",
       "      <td>-0.000000</td>\n",
       "    </tr>\n",
       "    <tr>\n",
       "      <th>H4_diff</th>\n",
       "      <td>-0.000000</td>\n",
       "    </tr>\n",
       "    <tr>\n",
       "      <th>H3_diff</th>\n",
       "      <td>-0.000000</td>\n",
       "    </tr>\n",
       "    <tr>\n",
       "      <th>C5_diff</th>\n",
       "      <td>-0.000000</td>\n",
       "    </tr>\n",
       "    <tr>\n",
       "      <th>E3_diff</th>\n",
       "      <td>-0.000000</td>\n",
       "    </tr>\n",
       "    <tr>\n",
       "      <th>C1_diff</th>\n",
       "      <td>-0.000000</td>\n",
       "    </tr>\n",
       "    <tr>\n",
       "      <th>C2_diff</th>\n",
       "      <td>-0.000000</td>\n",
       "    </tr>\n",
       "    <tr>\n",
       "      <th>E1_diff</th>\n",
       "      <td>-0.000000</td>\n",
       "    </tr>\n",
       "    <tr>\n",
       "      <th>C6_diff</th>\n",
       "      <td>-0.000000</td>\n",
       "    </tr>\n",
       "    <tr>\n",
       "      <th>C3_diff</th>\n",
       "      <td>-0.000000</td>\n",
       "    </tr>\n",
       "    <tr>\n",
       "      <th>H6_diff</th>\n",
       "      <td>-0.000000</td>\n",
       "    </tr>\n",
       "    <tr>\n",
       "      <th>H2_diff</th>\n",
       "      <td>-0.000000</td>\n",
       "    </tr>\n",
       "    <tr>\n",
       "      <th>H5_diff</th>\n",
       "      <td>-0.000000</td>\n",
       "    </tr>\n",
       "  </tbody>\n",
       "</table>\n",
       "</div>"
      ],
      "text/plain": [
       "         Coefficient\n",
       "D-14        0.126519\n",
       "H1_diff    -0.000000\n",
       "C7_diff    -0.000000\n",
       "E4_diff    -0.000000\n",
       "C4_diff    -0.000000\n",
       "E2_diff    -0.000000\n",
       "C8_diff    -0.000000\n",
       "H4_diff    -0.000000\n",
       "H3_diff    -0.000000\n",
       "C5_diff    -0.000000\n",
       "E3_diff    -0.000000\n",
       "C1_diff    -0.000000\n",
       "C2_diff    -0.000000\n",
       "E1_diff    -0.000000\n",
       "C6_diff    -0.000000\n",
       "C3_diff    -0.000000\n",
       "H6_diff    -0.000000\n",
       "H2_diff    -0.000000\n",
       "H5_diff    -0.000000"
      ]
     },
     "execution_count": 709,
     "metadata": {},
     "output_type": "execute_result"
    }
   ],
   "source": [
    "coeff_df_best_lasso = pd.DataFrame(best_lasso.coef_, X.columns, columns=['Coefficient'])\n",
    "coeff_df_best_lasso.sort_values(by=['Coefficient'], ascending=False)"
   ]
  },
  {
   "cell_type": "markdown",
   "metadata": {},
   "source": [
    "# XGboost\n"
   ]
  },
  {
   "cell_type": "code",
   "execution_count": 882,
   "metadata": {
    "ExecuteTime": {
     "end_time": "2020-12-16T16:16:45.639671Z",
     "start_time": "2020-12-16T16:16:45.631034Z"
    }
   },
   "outputs": [],
   "source": [
    "df_xgb = df1[['D-14', 'D14', 'E3_diff', 'H2_diff', 'H6_diff', 'C3_diff', 'C6_diff',\n",
    "       'E1_diff', 'C2_diff', 'C1_diff', 'C5_diff', 'H1_diff', 'H3_diff',\n",
    "       'H4_diff', 'C8_diff', 'E2_diff', 'C4_diff', 'E4_diff', 'C7_diff',\n",
    "       'H5_diff']]"
   ]
  },
  {
   "cell_type": "code",
   "execution_count": 883,
   "metadata": {
    "ExecuteTime": {
     "end_time": "2020-12-16T16:16:46.634993Z",
     "start_time": "2020-12-16T16:16:46.002399Z"
    }
   },
   "outputs": [
    {
     "name": "stderr",
     "output_type": "stream",
     "text": [
      "/Users/lourizzolo/.pyenv/versions/3.7.7/envs/lewagon/lib/python3.7/site-packages/pandas/core/frame.py:4042: SettingWithCopyWarning: \n",
      "A value is trying to be set on a copy of a slice from a DataFrame\n",
      "\n",
      "See the caveats in the documentation: http://pandas.pydata.org/pandas-docs/stable/indexing.html#indexing-view-versus-copy\n",
      "  method=method)\n",
      "/Users/lourizzolo/.pyenv/versions/3.7.7/envs/lewagon/lib/python3.7/site-packages/ipykernel_launcher.py:2: SettingWithCopyWarning: \n",
      "A value is trying to be set on a copy of a slice from a DataFrame\n",
      "\n",
      "See the caveats in the documentation: http://pandas.pydata.org/pandas-docs/stable/indexing.html#indexing-view-versus-copy\n",
      "  \n"
     ]
    }
   ],
   "source": [
    "df_xgb.replace([np.inf, -np.inf], np.nan, inplace=True)\n",
    "df_xgb.dropna(inplace = True)"
   ]
  },
  {
   "cell_type": "code",
   "execution_count": 884,
   "metadata": {
    "ExecuteTime": {
     "end_time": "2020-12-16T16:16:47.073741Z",
     "start_time": "2020-12-16T16:16:46.646652Z"
    }
   },
   "outputs": [
    {
     "name": "stderr",
     "output_type": "stream",
     "text": [
      "/Users/lourizzolo/.pyenv/versions/3.7.7/envs/lewagon/lib/python3.7/site-packages/ipykernel_launcher.py:2: SettingWithCopyWarning: \n",
      "A value is trying to be set on a copy of a slice from a DataFrame.\n",
      "Try using .loc[row_indexer,col_indexer] = value instead\n",
      "\n",
      "See the caveats in the documentation: http://pandas.pydata.org/pandas-docs/stable/indexing.html#indexing-view-versus-copy\n",
      "  \n"
     ]
    }
   ],
   "source": [
    "scaler = MinMaxScaler()\n",
    "df_xgb['D-14'] = scaler.fit_transform(df_xgb[['D-14']])"
   ]
  },
  {
   "cell_type": "code",
   "execution_count": 885,
   "metadata": {
    "ExecuteTime": {
     "end_time": "2020-12-16T16:16:47.092023Z",
     "start_time": "2020-12-16T16:16:47.079011Z"
    }
   },
   "outputs": [],
   "source": [
    "X = df_xgb.drop(columns='D14')\n",
    "y = df_xgb['D14']"
   ]
  },
  {
   "cell_type": "code",
   "execution_count": 886,
   "metadata": {
    "ExecuteTime": {
     "end_time": "2020-12-16T16:16:47.592566Z",
     "start_time": "2020-12-16T16:16:47.579554Z"
    }
   },
   "outputs": [],
   "source": [
    "X_train, X_test, y_train, y_test = train_test_split(X, y, test_size=0.30, random_state=1)"
   ]
  },
  {
   "cell_type": "code",
   "execution_count": 887,
   "metadata": {
    "ExecuteTime": {
     "end_time": "2020-12-16T16:16:48.680088Z",
     "start_time": "2020-12-16T16:16:48.124701Z"
    }
   },
   "outputs": [
    {
     "data": {
      "text/plain": [
       "0.7341502725379918"
      ]
     },
     "execution_count": 887,
     "metadata": {},
     "output_type": "execute_result"
    }
   ],
   "source": [
    "from xgboost import XGBRegressor\n",
    "xgb_r = XGBRegressor()\n",
    "xgb_r.fit(X_train, y_train)\n",
    "xgb_r.score(X_test, y_test)"
   ]
  },
  {
   "cell_type": "code",
   "execution_count": 888,
   "metadata": {
    "ExecuteTime": {
     "end_time": "2020-12-16T16:16:49.822071Z",
     "start_time": "2020-12-16T16:16:49.809875Z"
    }
   },
   "outputs": [],
   "source": [
    "pred = xgb_r.predict(X_test)"
   ]
  },
  {
   "cell_type": "code",
   "execution_count": 889,
   "metadata": {
    "ExecuteTime": {
     "end_time": "2020-12-16T16:16:50.658176Z",
     "start_time": "2020-12-16T16:16:50.651854Z"
    }
   },
   "outputs": [],
   "source": [
    "temp = pd.concat([pd.Series(y_test).reset_index(drop=True),pd.Series(pred).reset_index(drop=True)], axis=1)"
   ]
  },
  {
   "cell_type": "code",
   "execution_count": 890,
   "metadata": {
    "ExecuteTime": {
     "end_time": "2020-12-16T16:16:50.930808Z",
     "start_time": "2020-12-16T16:16:50.926142Z"
    }
   },
   "outputs": [],
   "source": [
    "temp.columns = ['test','pred']"
   ]
  },
  {
   "cell_type": "code",
   "execution_count": 891,
   "metadata": {
    "ExecuteTime": {
     "end_time": "2020-12-16T16:16:51.163955Z",
     "start_time": "2020-12-16T16:16:51.149169Z"
    }
   },
   "outputs": [
    {
     "data": {
      "text/html": [
       "<div>\n",
       "<style scoped>\n",
       "    .dataframe tbody tr th:only-of-type {\n",
       "        vertical-align: middle;\n",
       "    }\n",
       "\n",
       "    .dataframe tbody tr th {\n",
       "        vertical-align: top;\n",
       "    }\n",
       "\n",
       "    .dataframe thead th {\n",
       "        text-align: right;\n",
       "    }\n",
       "</style>\n",
       "<table border=\"1\" class=\"dataframe\">\n",
       "  <thead>\n",
       "    <tr style=\"text-align: right;\">\n",
       "      <th></th>\n",
       "      <th>test</th>\n",
       "      <th>pred</th>\n",
       "    </tr>\n",
       "  </thead>\n",
       "  <tbody>\n",
       "    <tr>\n",
       "      <th>0</th>\n",
       "      <td>323.0</td>\n",
       "      <td>336.906281</td>\n",
       "    </tr>\n",
       "    <tr>\n",
       "      <th>1</th>\n",
       "      <td>23.0</td>\n",
       "      <td>64.609055</td>\n",
       "    </tr>\n",
       "    <tr>\n",
       "      <th>2</th>\n",
       "      <td>80.0</td>\n",
       "      <td>121.541862</td>\n",
       "    </tr>\n",
       "    <tr>\n",
       "      <th>3</th>\n",
       "      <td>0.0</td>\n",
       "      <td>2.439635</td>\n",
       "    </tr>\n",
       "    <tr>\n",
       "      <th>4</th>\n",
       "      <td>33.0</td>\n",
       "      <td>54.620823</td>\n",
       "    </tr>\n",
       "  </tbody>\n",
       "</table>\n",
       "</div>"
      ],
      "text/plain": [
       "    test        pred\n",
       "0  323.0  336.906281\n",
       "1   23.0   64.609055\n",
       "2   80.0  121.541862\n",
       "3    0.0    2.439635\n",
       "4   33.0   54.620823"
      ]
     },
     "execution_count": 891,
     "metadata": {},
     "output_type": "execute_result"
    }
   ],
   "source": [
    "temp.head()"
   ]
  },
  {
   "cell_type": "code",
   "execution_count": 892,
   "metadata": {
    "ExecuteTime": {
     "end_time": "2020-12-16T16:16:51.946483Z",
     "start_time": "2020-12-16T16:16:51.940231Z"
    }
   },
   "outputs": [],
   "source": [
    "temp2 = temp[temp['test']!=0]"
   ]
  },
  {
   "cell_type": "code",
   "execution_count": 893,
   "metadata": {
    "ExecuteTime": {
     "end_time": "2020-12-16T16:16:52.538002Z",
     "start_time": "2020-12-16T16:16:52.529340Z"
    }
   },
   "outputs": [
    {
     "name": "stdout",
     "output_type": "stream",
     "text": [
      "(2316, 2)\n",
      "(1885, 2)\n"
     ]
    }
   ],
   "source": [
    "print(temp.shape)\n",
    "print(temp2.shape)"
   ]
  },
  {
   "cell_type": "code",
   "execution_count": 894,
   "metadata": {
    "ExecuteTime": {
     "end_time": "2020-12-16T16:16:52.843476Z",
     "start_time": "2020-12-16T16:16:52.838831Z"
    }
   },
   "outputs": [],
   "source": [
    "import math"
   ]
  },
  {
   "cell_type": "code",
   "execution_count": 895,
   "metadata": {
    "ExecuteTime": {
     "end_time": "2020-12-16T16:16:53.213506Z",
     "start_time": "2020-12-16T16:16:53.203240Z"
    }
   },
   "outputs": [
    {
     "data": {
      "text/plain": [
       "576.4217077320052"
      ]
     },
     "execution_count": 895,
     "metadata": {},
     "output_type": "execute_result"
    }
   ],
   "source": [
    "math.sqrt(np.mean((temp2.test - temp2.pred)**2))"
   ]
  },
  {
   "cell_type": "code",
   "execution_count": 896,
   "metadata": {
    "ExecuteTime": {
     "end_time": "2020-12-16T16:16:53.569324Z",
     "start_time": "2020-12-16T16:16:53.560106Z"
    }
   },
   "outputs": [
    {
     "name": "stdout",
     "output_type": "stream",
     "text": [
      "RMSE: 520.044923\n"
     ]
    }
   ],
   "source": [
    "from sklearn.metrics import mean_squared_error\n",
    "rmse = np.sqrt(mean_squared_error(y_test, pred))\n",
    "print(\"RMSE: %f\" % (rmse))"
   ]
  },
  {
   "cell_type": "markdown",
   "metadata": {},
   "source": [
    "## XGBoost model tuning"
   ]
  },
  {
   "cell_type": "code",
   "execution_count": 903,
   "metadata": {
    "ExecuteTime": {
     "end_time": "2020-12-16T18:54:05.490834Z",
     "start_time": "2020-12-16T16:19:59.875695Z"
    }
   },
   "outputs": [
    {
     "name": "stdout",
     "output_type": "stream",
     "text": [
      "Fitting 5 folds for each of 729 candidates, totalling 3645 fits\n"
     ]
    },
    {
     "name": "stderr",
     "output_type": "stream",
     "text": [
      "[Parallel(n_jobs=-1)]: Using backend LokyBackend with 4 concurrent workers.\n",
      "[Parallel(n_jobs=-1)]: Done  42 tasks      | elapsed:   43.1s\n",
      "[Parallel(n_jobs=-1)]: Done 192 tasks      | elapsed:  3.2min\n",
      "[Parallel(n_jobs=-1)]: Done 442 tasks      | elapsed:  9.2min\n",
      "[Parallel(n_jobs=-1)]: Done 792 tasks      | elapsed: 16.9min\n",
      "[Parallel(n_jobs=-1)]: Done 1242 tasks      | elapsed: 27.0min\n",
      "[Parallel(n_jobs=-1)]: Done 1792 tasks      | elapsed: 41.2min\n",
      "[Parallel(n_jobs=-1)]: Done 2442 tasks      | elapsed: 81.8min\n",
      "[Parallel(n_jobs=-1)]: Done 3192 tasks      | elapsed: 144.1min\n",
      "[Parallel(n_jobs=-1)]: Done 3645 out of 3645 | elapsed: 154.1min finished\n"
     ]
    },
    {
     "name": "stdout",
     "output_type": "stream",
     "text": [
      "[19:54:03] WARNING: /Users/travis/build/dmlc/xgboost/src/objective/regression_obj.cu:170: reg:linear is now deprecated in favor of reg:squarederror.\n",
      "[19:54:03] WARNING: /Users/travis/build/dmlc/xgboost/src/learner.cc:480: \n",
      "Parameters: { silent } might not be used.\n",
      "\n",
      "  This may not be accurate due to some parameters are only used in language bindings but\n",
      "  passed down to XGBoost core.  Or some parameters are not used but slip through this\n",
      "  verification. Please open an issue if you find above cases.\n",
      "\n",
      "\n",
      "[19:54:05] WARNING: /Users/travis/build/dmlc/xgboost/src/objective/regression_obj.cu:170: reg:linear is now deprecated in favor of reg:squarederror.\n"
     ]
    },
    {
     "data": {
      "text/plain": [
       "GridSearchCV(cv=5,\n",
       "             estimator=XGBRegressor(base_score=None, booster=None,\n",
       "                                    colsample_bylevel=None,\n",
       "                                    colsample_bynode=None,\n",
       "                                    colsample_bytree=None, gamma=None,\n",
       "                                    gpu_id=None, importance_type='gain',\n",
       "                                    interaction_constraints=None,\n",
       "                                    learning_rate=None, max_delta_step=None,\n",
       "                                    max_depth=None, min_child_weight=None,\n",
       "                                    missing=nan, monotone_constraints=None,\n",
       "                                    n_estimators=100, n_jobs=...\n",
       "                                    scale_pos_weight=None, subsample=None,\n",
       "                                    tree_method=None, validate_parameters=None,\n",
       "                                    verbosity=None),\n",
       "             n_jobs=-1,\n",
       "             param_grid={'colsample_bytree': [0.7, 0.8, 0.85],\n",
       "                         'learning_rate': [0.045, 0.05, 0.06],\n",
       "                         'max_depth': [3, 4, 5], 'min_child_weight': [2, 3, 4],\n",
       "                         'n_estimators': [650, 750, 800],\n",
       "                         'objective': ['reg:linear'], 'silent': [1],\n",
       "                         'subsample': [0.5, 0.55, 0.6]},\n",
       "             scoring='neg_mean_squared_error', verbose=True)"
      ]
     },
     "execution_count": 903,
     "metadata": {},
     "output_type": "execute_result"
    }
   ],
   "source": [
    "xgb1 = XGBRegressor()\n",
    "parameters = { 'objective':['reg:linear'],\n",
    "                    'learning_rate': [0.045,0.05,0.06], \n",
    "                    'max_depth': [3,4,5],\n",
    "                    'min_child_weight': [2,3,4],\n",
    "                    'silent': [1],\n",
    "                    'subsample': [0.5,0.55,0.6],\n",
    "                    'colsample_bytree': [0.7,0.8,0.85],\n",
    "                    'n_estimators': [650,750,800]}\n",
    "\n",
    "xgb_grid = GridSearchCV(xgb1,\n",
    "                            parameters,\n",
    "                            scoring='neg_mean_squared_error', #this line can be commented to use XGB's default metric\n",
    "                            cv = 5,\n",
    "                            n_jobs = -1,\n",
    "                            verbose=True)\n",
    "\n",
    "\n",
    "xgb_grid.fit(X_train,y_train)"
   ]
  },
  {
   "cell_type": "code",
   "execution_count": 908,
   "metadata": {
    "ExecuteTime": {
     "end_time": "2020-12-16T19:27:07.614619Z",
     "start_time": "2020-12-16T19:27:07.610515Z"
    }
   },
   "outputs": [],
   "source": [
    "best_estim = xgb_grid.best_estimator_"
   ]
  },
  {
   "cell_type": "code",
   "execution_count": 910,
   "metadata": {
    "ExecuteTime": {
     "end_time": "2020-12-16T19:27:38.676987Z",
     "start_time": "2020-12-16T19:27:35.832276Z"
    }
   },
   "outputs": [
    {
     "name": "stdout",
     "output_type": "stream",
     "text": [
      "[20:27:35] WARNING: /Users/travis/build/dmlc/xgboost/src/objective/regression_obj.cu:170: reg:linear is now deprecated in favor of reg:squarederror.\n",
      "[20:27:35] WARNING: /Users/travis/build/dmlc/xgboost/src/learner.cc:480: \n",
      "Parameters: { silent } might not be used.\n",
      "\n",
      "  This may not be accurate due to some parameters are only used in language bindings but\n",
      "  passed down to XGBoost core.  Or some parameters are not used but slip through this\n",
      "  verification. Please open an issue if you find above cases.\n",
      "\n",
      "\n",
      "[20:27:38] WARNING: /Users/travis/build/dmlc/xgboost/src/objective/regression_obj.cu:170: reg:linear is now deprecated in favor of reg:squarederror.\n"
     ]
    },
    {
     "data": {
      "text/plain": [
       "XGBRegressor(base_score=0.5, booster='gbtree', colsample_bylevel=1,\n",
       "             colsample_bynode=1, colsample_bytree=0.7, gamma=0, gpu_id=-1,\n",
       "             importance_type='gain', interaction_constraints='',\n",
       "             learning_rate=0.045, max_delta_step=0, max_depth=5,\n",
       "             min_child_weight=4, missing=nan, monotone_constraints='()',\n",
       "             n_estimators=650, n_jobs=0, num_parallel_tree=1,\n",
       "             objective='reg:linear', random_state=0, reg_alpha=0, reg_lambda=1,\n",
       "             scale_pos_weight=1, silent=1, subsample=0.6, tree_method='exact',\n",
       "             validate_parameters=1, verbosity=None)"
      ]
     },
     "execution_count": 910,
     "metadata": {},
     "output_type": "execute_result"
    }
   ],
   "source": [
    "best_xgb = XGBRegressor(base_score=0.5, booster='gbtree', colsample_bylevel=1,\n",
    "             colsample_bynode=1, colsample_bytree=0.7, gamma=0, gpu_id=-1,\n",
    "             importance_type='gain', interaction_constraints='',\n",
    "             learning_rate=0.045, max_delta_step=0, max_depth=5,\n",
    "             min_child_weight=4,  monotone_constraints='()',\n",
    "             n_estimators=650, n_jobs=0, num_parallel_tree=1,\n",
    "             objective='reg:linear', random_state=0, reg_alpha=0, reg_lambda=1,\n",
    "             scale_pos_weight=1, silent=1, subsample=0.6, tree_method='exact',\n",
    "             validate_parameters=1, verbosity=None)\n",
    "\n",
    "best_xgb.fit(X_train,y_train)"
   ]
  },
  {
   "cell_type": "code",
   "execution_count": 911,
   "metadata": {
    "ExecuteTime": {
     "end_time": "2020-12-16T19:28:27.031385Z",
     "start_time": "2020-12-16T19:28:26.981531Z"
    }
   },
   "outputs": [
    {
     "data": {
      "text/plain": [
       "0.7489218848583479"
      ]
     },
     "execution_count": 911,
     "metadata": {},
     "output_type": "execute_result"
    }
   ],
   "source": [
    "best_xgb.score(X_test, y_test)"
   ]
  },
  {
   "cell_type": "markdown",
   "metadata": {},
   "source": [
    "# RandomForestRegressor"
   ]
  },
  {
   "cell_type": "code",
   "execution_count": 736,
   "metadata": {
    "ExecuteTime": {
     "end_time": "2020-12-16T13:17:39.252576Z",
     "start_time": "2020-12-16T13:17:39.241073Z"
    }
   },
   "outputs": [],
   "source": [
    "df1 = df.copy()"
   ]
  },
  {
   "cell_type": "code",
   "execution_count": 737,
   "metadata": {
    "ExecuteTime": {
     "end_time": "2020-12-16T13:17:39.817150Z",
     "start_time": "2020-12-16T13:17:39.802916Z"
    }
   },
   "outputs": [],
   "source": [
    "df_rf = df1[['D-14', 'D14', 'E3_diff', 'H2_diff', 'H6_diff', 'C3_diff', 'C6_diff',\n",
    "       'E1_diff', 'C2_diff', 'C1_diff', 'C5_diff', 'H1_diff', 'H3_diff',\n",
    "       'H4_diff', 'C8_diff', 'E2_diff', 'C4_diff', 'E4_diff', 'C7_diff',\n",
    "       'H5_diff']]"
   ]
  },
  {
   "cell_type": "code",
   "execution_count": 738,
   "metadata": {
    "ExecuteTime": {
     "end_time": "2020-12-16T13:17:40.865932Z",
     "start_time": "2020-12-16T13:17:40.285797Z"
    }
   },
   "outputs": [
    {
     "name": "stderr",
     "output_type": "stream",
     "text": [
      "/Users/lourizzolo/.pyenv/versions/3.7.7/envs/lewagon/lib/python3.7/site-packages/pandas/core/frame.py:4042: SettingWithCopyWarning: \n",
      "A value is trying to be set on a copy of a slice from a DataFrame\n",
      "\n",
      "See the caveats in the documentation: http://pandas.pydata.org/pandas-docs/stable/indexing.html#indexing-view-versus-copy\n",
      "  method=method)\n",
      "/Users/lourizzolo/.pyenv/versions/3.7.7/envs/lewagon/lib/python3.7/site-packages/ipykernel_launcher.py:2: SettingWithCopyWarning: \n",
      "A value is trying to be set on a copy of a slice from a DataFrame\n",
      "\n",
      "See the caveats in the documentation: http://pandas.pydata.org/pandas-docs/stable/indexing.html#indexing-view-versus-copy\n",
      "  \n"
     ]
    }
   ],
   "source": [
    "df_rf.replace([np.inf, -np.inf], np.nan, inplace=True)\n",
    "df_rf.dropna(inplace = True)"
   ]
  },
  {
   "cell_type": "code",
   "execution_count": 739,
   "metadata": {
    "ExecuteTime": {
     "end_time": "2020-12-16T13:17:56.959372Z",
     "start_time": "2020-12-16T13:17:56.717018Z"
    }
   },
   "outputs": [],
   "source": [
    "scaler = MinMaxScaler()\n",
    "df_bag['D-14'] = scaler.fit_transform(df_bag[['D-14']])"
   ]
  },
  {
   "cell_type": "code",
   "execution_count": 740,
   "metadata": {
    "ExecuteTime": {
     "end_time": "2020-12-16T13:18:07.121197Z",
     "start_time": "2020-12-16T13:18:07.108883Z"
    }
   },
   "outputs": [],
   "source": [
    "X = df_rf.drop(columns='D14')\n",
    "y = df_rf['D14']"
   ]
  },
  {
   "cell_type": "code",
   "execution_count": 741,
   "metadata": {
    "ExecuteTime": {
     "end_time": "2020-12-16T13:18:07.568940Z",
     "start_time": "2020-12-16T13:18:07.557539Z"
    }
   },
   "outputs": [],
   "source": [
    "X_train, X_test, y_train, y_test = train_test_split(X, y, test_size=0.30, random_state=1)"
   ]
  },
  {
   "cell_type": "code",
   "execution_count": 743,
   "metadata": {
    "ExecuteTime": {
     "end_time": "2020-12-16T13:20:53.388227Z",
     "start_time": "2020-12-16T13:20:51.564939Z"
    }
   },
   "outputs": [
    {
     "data": {
      "text/plain": [
       "0.7229419211722845"
      ]
     },
     "execution_count": 743,
     "metadata": {},
     "output_type": "execute_result"
    }
   ],
   "source": [
    "from sklearn.ensemble import RandomForestRegressor\n",
    "\n",
    "RF = RandomForestRegressor(n_estimators=100)\n",
    "\n",
    "RF.fit(X_train,y_train)\n",
    "\n",
    "RF.score(X_test,y_test)"
   ]
  },
  {
   "cell_type": "code",
   "execution_count": null,
   "metadata": {},
   "outputs": [],
   "source": [
    "# les features expliquent 72% de la variance de ma target"
   ]
  },
  {
   "cell_type": "markdown",
   "metadata": {},
   "source": [
    "# Neural Network"
   ]
  },
  {
   "cell_type": "code",
   "execution_count": 849,
   "metadata": {
    "ExecuteTime": {
     "end_time": "2020-12-16T14:41:24.650857Z",
     "start_time": "2020-12-16T14:41:24.635927Z"
    }
   },
   "outputs": [],
   "source": [
    "df1 = df.copy()"
   ]
  },
  {
   "cell_type": "code",
   "execution_count": 850,
   "metadata": {
    "ExecuteTime": {
     "end_time": "2020-12-16T14:41:25.226539Z",
     "start_time": "2020-12-16T14:41:25.215525Z"
    }
   },
   "outputs": [],
   "source": [
    "df_nn = df1[['D14', 'E3_diff', 'H2_diff', 'H6_diff', 'C3_diff', 'C6_diff',\n",
    "       'E1_diff', 'C2_diff', 'C1_diff', 'C5_diff', 'H1_diff', 'H3_diff',\n",
    "       'H4_diff', 'C8_diff', 'E2_diff', 'C4_diff', 'E4_diff', 'C7_diff',\n",
    "       'H5_diff']]"
   ]
  },
  {
   "cell_type": "code",
   "execution_count": 851,
   "metadata": {
    "ExecuteTime": {
     "end_time": "2020-12-16T14:41:26.825892Z",
     "start_time": "2020-12-16T14:41:25.844836Z"
    }
   },
   "outputs": [
    {
     "name": "stderr",
     "output_type": "stream",
     "text": [
      "/Users/lourizzolo/.pyenv/versions/3.7.7/envs/lewagon/lib/python3.7/site-packages/pandas/core/frame.py:4042: SettingWithCopyWarning: \n",
      "A value is trying to be set on a copy of a slice from a DataFrame\n",
      "\n",
      "See the caveats in the documentation: http://pandas.pydata.org/pandas-docs/stable/indexing.html#indexing-view-versus-copy\n",
      "  method=method)\n",
      "/Users/lourizzolo/.pyenv/versions/3.7.7/envs/lewagon/lib/python3.7/site-packages/ipykernel_launcher.py:2: SettingWithCopyWarning: \n",
      "A value is trying to be set on a copy of a slice from a DataFrame\n",
      "\n",
      "See the caveats in the documentation: http://pandas.pydata.org/pandas-docs/stable/indexing.html#indexing-view-versus-copy\n",
      "  \n"
     ]
    }
   ],
   "source": [
    "df_nn.replace([np.inf, -np.inf], np.nan, inplace=True)\n",
    "df_nn.dropna(inplace = True)"
   ]
  },
  {
   "cell_type": "code",
   "execution_count": 853,
   "metadata": {
    "ExecuteTime": {
     "end_time": "2020-12-16T14:41:35.882663Z",
     "start_time": "2020-12-16T14:41:35.865989Z"
    }
   },
   "outputs": [],
   "source": [
    "X = df_nn.drop(columns='D14')\n",
    "y = df_nn['D14']"
   ]
  },
  {
   "cell_type": "code",
   "execution_count": 854,
   "metadata": {
    "ExecuteTime": {
     "end_time": "2020-12-16T14:41:36.613764Z",
     "start_time": "2020-12-16T14:41:36.599787Z"
    }
   },
   "outputs": [],
   "source": [
    "X_train, X_test, y_train, y_test = train_test_split(X, y, test_size=0.30, random_state=1)"
   ]
  },
  {
   "cell_type": "code",
   "execution_count": 855,
   "metadata": {
    "ExecuteTime": {
     "end_time": "2020-12-16T14:41:37.327624Z",
     "start_time": "2020-12-16T14:41:37.317128Z"
    }
   },
   "outputs": [],
   "source": [
    "import numpy as np\n",
    "from tensorflow.keras.models import Sequential\n",
    "from tensorflow.keras import layers"
   ]
  },
  {
   "cell_type": "code",
   "execution_count": 860,
   "metadata": {
    "ExecuteTime": {
     "end_time": "2020-12-16T14:41:59.862289Z",
     "start_time": "2020-12-16T14:41:59.769253Z"
    }
   },
   "outputs": [],
   "source": [
    "def initialize_model():\n",
    "\n",
    "    ### Model architecture\n",
    "    model = Sequential()\n",
    "    model.add(layers.Dense(64, activation='relu', input_dim=18))\n",
    "    model.add(layers.Dense(32, activation='relu'))\n",
    "    model.add(layers.Dense(1, activation=\"linear\"))\n",
    "    \n",
    "    \n",
    "    # Model optimization : Optimized, loss and metric to \n",
    "    model.compile(optimizer='adam',\n",
    "                  loss='mse',       # MSE stands for Mean Square Error\n",
    "                  metrics=['mae'])  # MAE stands for Mean Absolute Error\n",
    "    \n",
    "    return model\n",
    "\n",
    "\n",
    "model = initialize_model()"
   ]
  },
  {
   "cell_type": "code",
   "execution_count": 861,
   "metadata": {
    "ExecuteTime": {
     "end_time": "2020-12-16T14:42:00.515813Z",
     "start_time": "2020-12-16T14:42:00.505255Z"
    }
   },
   "outputs": [
    {
     "name": "stdout",
     "output_type": "stream",
     "text": [
      "Model: \"sequential_12\"\n",
      "_________________________________________________________________\n",
      "Layer (type)                 Output Shape              Param #   \n",
      "=================================================================\n",
      "dense_36 (Dense)             (None, 64)                1216      \n",
      "_________________________________________________________________\n",
      "dense_37 (Dense)             (None, 32)                2080      \n",
      "_________________________________________________________________\n",
      "dense_38 (Dense)             (None, 1)                 33        \n",
      "=================================================================\n",
      "Total params: 3,329\n",
      "Trainable params: 3,329\n",
      "Non-trainable params: 0\n",
      "_________________________________________________________________\n"
     ]
    }
   ],
   "source": [
    "model.summary()"
   ]
  },
  {
   "cell_type": "code",
   "execution_count": 862,
   "metadata": {
    "ExecuteTime": {
     "end_time": "2020-12-16T14:42:01.364256Z",
     "start_time": "2020-12-16T14:42:01.353610Z"
    }
   },
   "outputs": [],
   "source": [
    "def plot_loss_mae(history):\n",
    "    plt.plot(history.history['loss'])\n",
    "    plt.plot(history.history['val_loss'])\n",
    "    plt.title('Model loss')\n",
    "    plt.ylabel('Loss')\n",
    "    plt.xlabel('Epoch')\n",
    "    plt.legend(['Train', 'Test'], loc='best')\n",
    "    plt.show()\n",
    "    \n",
    "    plt.plot(history.history['mae'])\n",
    "    plt.plot(history.history['val_mae'])\n",
    "    plt.title('Model MAE')\n",
    "    plt.ylabel('MAE')\n",
    "    plt.xlabel('Epoch')\n",
    "    plt.legend(['Train', 'Test'], loc='best')\n",
    "    plt.show()\n",
    "    "
   ]
  },
  {
   "cell_type": "code",
   "execution_count": 863,
   "metadata": {
    "ExecuteTime": {
     "end_time": "2020-12-16T14:42:07.319538Z",
     "start_time": "2020-12-16T14:42:02.239807Z"
    }
   },
   "outputs": [
    {
     "data": {
      "image/png": "[encoded data removed]",
      "text/plain": [
       "<Figure size 432x288 with 1 Axes>"
      ]
     },
     "metadata": {
      "needs_background": "light"
     },
     "output_type": "display_data"
    },
    {
     "data": {
      "image/png": "[encoded data removed]",
      "text/plain": [
       "<Figure size 432x288 with 1 Axes>"
      ]
     },
     "metadata": {
      "needs_background": "light"
     },
     "output_type": "display_data"
    }
   ],
   "source": [
    "model = initialize_model()\n",
    "\n",
    "history = model.fit(X_train, y_train,\n",
    "                    validation_data=(X_test, y_test),\n",
    "                    epochs=5,\n",
    "                    batch_size=16,\n",
    "                    verbose=0)\n",
    "\n",
    "plot_loss_mae(history)"
   ]
  },
  {
   "cell_type": "code",
   "execution_count": null,
   "metadata": {},
   "outputs": [],
   "source": []
  }
 ],
 "metadata": {
  "kernelspec": {
   "display_name": "Python 3",
   "language": "python",
   "name": "python3"
  },
  "language_info": {
   "codemirror_mode": {
    "name": "ipython",
    "version": 3
   },
   "file_extension": ".py",
   "mimetype": "text/x-python",
   "name": "python",
   "nbconvert_exporter": "python",
   "pygments_lexer": "ipython3",
   "version": "3.7.7"
  },
  "toc": {
   "base_numbering": 1,
   "nav_menu": {},
   "number_sections": true,
   "sideBar": true,
   "skip_h1_title": false,
   "title_cell": "Table of Contents",
   "title_sidebar": "Contents",
   "toc_cell": false,
   "toc_position": {},
   "toc_section_display": true,
   "toc_window_display": false
  }
 },
 "nbformat": 4,
 "nbformat_minor": 4
}

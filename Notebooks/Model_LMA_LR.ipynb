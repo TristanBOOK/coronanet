{
 "cells": [
  {
   "cell_type": "code",
   "execution_count": 165,
   "metadata": {
    "ExecuteTime": {
     "end_time": "2020-12-15T21:22:54.515962Z",
     "start_time": "2020-12-15T21:22:54.506855Z"
    }
   },
   "outputs": [],
   "source": [
    "import pandas as pd\n",
    "import pyreadr\n",
    "import numpy as np\n",
    "import matplotlib.pyplot as plt\n",
    "import datetime\n",
    "import seaborn as sns\n",
    "from sklearn import preprocessing\n",
    "from sklearn.preprocessing import StandardScaler\n",
    "from sklearn.preprocessing import RobustScaler\n",
    "from sklearn.model_selection import cross_val_score, cross_val_predict\n",
    "from sklearn import metrics\n",
    "from sklearn.linear_model import Lasso\n",
    "from sklearn.model_selection import GridSearchCV\n",
    "import xgboost as xg \n",
    "from xgboost import plot_importance"
   ]
  },
  {
   "cell_type": "code",
   "execution_count": 4,
   "metadata": {
    "ExecuteTime": {
     "end_time": "2020-12-15T18:35:10.555799Z",
     "start_time": "2020-12-15T18:35:10.378698Z"
    }
   },
   "outputs": [],
   "source": [
    "df = pd.read_csv('../data/csv/DataFrame_pour_modeles_Lou.csv')"
   ]
  },
  {
   "cell_type": "code",
   "execution_count": 5,
   "metadata": {
    "ExecuteTime": {
     "end_time": "2020-12-15T18:35:14.692901Z",
     "start_time": "2020-12-15T18:35:14.643509Z"
    }
   },
   "outputs": [
    {
     "data": {
      "text/html": [
       "<div>\n",
       "<style scoped>\n",
       "    .dataframe tbody tr th:only-of-type {\n",
       "        vertical-align: middle;\n",
       "    }\n",
       "\n",
       "    .dataframe tbody tr th {\n",
       "        vertical-align: top;\n",
       "    }\n",
       "\n",
       "    .dataframe thead th {\n",
       "        text-align: right;\n",
       "    }\n",
       "</style>\n",
       "<table border=\"1\" class=\"dataframe\">\n",
       "  <thead>\n",
       "    <tr style=\"text-align: right;\">\n",
       "      <th></th>\n",
       "      <th>ID</th>\n",
       "      <th>Date</th>\n",
       "      <th>PolicyFamily</th>\n",
       "      <th>PolicyType</th>\n",
       "      <th>value</th>\n",
       "      <th>Cases</th>\n",
       "      <th>Cases_New</th>\n",
       "      <th>Type</th>\n",
       "      <th>Source</th>\n",
       "      <th>J-56</th>\n",
       "      <th>...</th>\n",
       "      <th>C5_diff</th>\n",
       "      <th>H1_diff</th>\n",
       "      <th>H3_diff</th>\n",
       "      <th>H4_diff</th>\n",
       "      <th>C8_diff</th>\n",
       "      <th>E2_diff</th>\n",
       "      <th>C4_diff</th>\n",
       "      <th>E4_diff</th>\n",
       "      <th>C7_diff</th>\n",
       "      <th>H5_diff</th>\n",
       "    </tr>\n",
       "  </thead>\n",
       "  <tbody>\n",
       "    <tr>\n",
       "      <th>0</th>\n",
       "      <td>AD</td>\n",
       "      <td>2020-02-27</td>\n",
       "      <td>E</td>\n",
       "      <td>E3_diff</td>\n",
       "      <td>141399008</td>\n",
       "      <td>0.0</td>\n",
       "      <td>0.0</td>\n",
       "      <td>Deaths</td>\n",
       "      <td>JHU</td>\n",
       "      <td>NaN</td>\n",
       "      <td>...</td>\n",
       "      <td>0.5</td>\n",
       "      <td>0.5</td>\n",
       "      <td>0.5</td>\n",
       "      <td>0.529656</td>\n",
       "      <td>0.5</td>\n",
       "      <td>0.5</td>\n",
       "      <td>0.5</td>\n",
       "      <td>0.514924</td>\n",
       "      <td>0.5</td>\n",
       "      <td>0.524098</td>\n",
       "    </tr>\n",
       "    <tr>\n",
       "      <th>1</th>\n",
       "      <td>AD</td>\n",
       "      <td>2020-02-28</td>\n",
       "      <td>E</td>\n",
       "      <td>E3_diff</td>\n",
       "      <td>-141399008</td>\n",
       "      <td>0.0</td>\n",
       "      <td>0.0</td>\n",
       "      <td>Deaths</td>\n",
       "      <td>JHU</td>\n",
       "      <td>NaN</td>\n",
       "      <td>...</td>\n",
       "      <td>0.5</td>\n",
       "      <td>0.5</td>\n",
       "      <td>0.5</td>\n",
       "      <td>0.529656</td>\n",
       "      <td>0.5</td>\n",
       "      <td>0.5</td>\n",
       "      <td>0.5</td>\n",
       "      <td>0.514924</td>\n",
       "      <td>0.5</td>\n",
       "      <td>0.524098</td>\n",
       "    </tr>\n",
       "    <tr>\n",
       "      <th>2</th>\n",
       "      <td>AD</td>\n",
       "      <td>2020-03-02</td>\n",
       "      <td>H</td>\n",
       "      <td>H2_diff</td>\n",
       "      <td>1</td>\n",
       "      <td>0.0</td>\n",
       "      <td>0.0</td>\n",
       "      <td>Deaths</td>\n",
       "      <td>JHU</td>\n",
       "      <td>NaN</td>\n",
       "      <td>...</td>\n",
       "      <td>0.5</td>\n",
       "      <td>0.5</td>\n",
       "      <td>0.5</td>\n",
       "      <td>0.529656</td>\n",
       "      <td>0.5</td>\n",
       "      <td>0.5</td>\n",
       "      <td>0.5</td>\n",
       "      <td>0.514924</td>\n",
       "      <td>0.5</td>\n",
       "      <td>0.524098</td>\n",
       "    </tr>\n",
       "    <tr>\n",
       "      <th>3</th>\n",
       "      <td>AD</td>\n",
       "      <td>2020-03-11</td>\n",
       "      <td>H</td>\n",
       "      <td>H6_diff</td>\n",
       "      <td>2</td>\n",
       "      <td>0.0</td>\n",
       "      <td>0.0</td>\n",
       "      <td>Deaths</td>\n",
       "      <td>JHU</td>\n",
       "      <td>NaN</td>\n",
       "      <td>...</td>\n",
       "      <td>0.5</td>\n",
       "      <td>0.5</td>\n",
       "      <td>0.5</td>\n",
       "      <td>0.529656</td>\n",
       "      <td>0.5</td>\n",
       "      <td>0.5</td>\n",
       "      <td>0.5</td>\n",
       "      <td>0.514924</td>\n",
       "      <td>0.5</td>\n",
       "      <td>0.524098</td>\n",
       "    </tr>\n",
       "    <tr>\n",
       "      <th>4</th>\n",
       "      <td>AD</td>\n",
       "      <td>2020-03-13</td>\n",
       "      <td>C</td>\n",
       "      <td>C3_diff</td>\n",
       "      <td>1</td>\n",
       "      <td>0.0</td>\n",
       "      <td>0.0</td>\n",
       "      <td>Deaths</td>\n",
       "      <td>JHU</td>\n",
       "      <td>NaN</td>\n",
       "      <td>...</td>\n",
       "      <td>0.5</td>\n",
       "      <td>0.5</td>\n",
       "      <td>0.5</td>\n",
       "      <td>0.529656</td>\n",
       "      <td>0.5</td>\n",
       "      <td>0.5</td>\n",
       "      <td>0.5</td>\n",
       "      <td>0.514924</td>\n",
       "      <td>0.5</td>\n",
       "      <td>0.524098</td>\n",
       "    </tr>\n",
       "  </tbody>\n",
       "</table>\n",
       "<p>5 rows × 59 columns</p>\n",
       "</div>"
      ],
      "text/plain": [
       "   ID        Date PolicyFamily PolicyType      value  Cases  Cases_New  \\\n",
       "0  AD  2020-02-27            E    E3_diff  141399008    0.0        0.0   \n",
       "1  AD  2020-02-28            E    E3_diff -141399008    0.0        0.0   \n",
       "2  AD  2020-03-02            H    H2_diff          1    0.0        0.0   \n",
       "3  AD  2020-03-11            H    H6_diff          2    0.0        0.0   \n",
       "4  AD  2020-03-13            C    C3_diff          1    0.0        0.0   \n",
       "\n",
       "     Type Source  J-56  ...  C5_diff  H1_diff  H3_diff   H4_diff  C8_diff  \\\n",
       "0  Deaths    JHU   NaN  ...      0.5      0.5      0.5  0.529656      0.5   \n",
       "1  Deaths    JHU   NaN  ...      0.5      0.5      0.5  0.529656      0.5   \n",
       "2  Deaths    JHU   NaN  ...      0.5      0.5      0.5  0.529656      0.5   \n",
       "3  Deaths    JHU   NaN  ...      0.5      0.5      0.5  0.529656      0.5   \n",
       "4  Deaths    JHU   NaN  ...      0.5      0.5      0.5  0.529656      0.5   \n",
       "\n",
       "   E2_diff  C4_diff   E4_diff  C7_diff   H5_diff  \n",
       "0      0.5      0.5  0.514924      0.5  0.524098  \n",
       "1      0.5      0.5  0.514924      0.5  0.524098  \n",
       "2      0.5      0.5  0.514924      0.5  0.524098  \n",
       "3      0.5      0.5  0.514924      0.5  0.524098  \n",
       "4      0.5      0.5  0.514924      0.5  0.524098  \n",
       "\n",
       "[5 rows x 59 columns]"
      ]
     },
     "execution_count": 5,
     "metadata": {},
     "output_type": "execute_result"
    }
   ],
   "source": [
    "df.head()"
   ]
  },
  {
   "cell_type": "code",
   "execution_count": 6,
   "metadata": {
    "ExecuteTime": {
     "end_time": "2020-12-15T18:35:32.249614Z",
     "start_time": "2020-12-15T18:35:32.239447Z"
    }
   },
   "outputs": [
    {
     "data": {
      "text/plain": [
       "Index(['ID', 'Date', 'PolicyFamily', 'PolicyType', 'value', 'Cases',\n",
       "       'Cases_New', 'Type', 'Source', 'J-56', 'J-42', 'J-35', 'J-28', 'J-21',\n",
       "       'J-14', 'J-7', 'J0', 'J7', 'J14', 'J21', 'J28', 'J35', 'J42', 'J49',\n",
       "       'J56', 'd_j-7', 'i_J-7', 'i_J-14', 'i_J-21', 'i_J-28', 'i_J-35',\n",
       "       'i_J-42', 'i_J-56', 'i_J7', 'i_J14', 'i_J21', 'i_J28', 'i_J35', 'i_J42',\n",
       "       'i_J49', 'i_J56', 'E3_diff', 'H2_diff', 'H6_diff', 'C3_diff', 'C6_diff',\n",
       "       'E1_diff', 'C2_diff', 'C1_diff', 'C5_diff', 'H1_diff', 'H3_diff',\n",
       "       'H4_diff', 'C8_diff', 'E2_diff', 'C4_diff', 'E4_diff', 'C7_diff',\n",
       "       'H5_diff'],\n",
       "      dtype='object')"
      ]
     },
     "execution_count": 6,
     "metadata": {},
     "output_type": "execute_result"
    }
   ],
   "source": [
    "df.columns"
   ]
  },
  {
   "cell_type": "markdown",
   "metadata": {},
   "source": [
    "# Let's start with dataviz"
   ]
  },
  {
   "cell_type": "code",
   "execution_count": 51,
   "metadata": {
    "ExecuteTime": {
     "end_time": "2020-12-15T19:29:26.232932Z",
     "start_time": "2020-12-15T19:29:25.053932Z"
    }
   },
   "outputs": [
    {
     "data": {
      "text/plain": [
       "<AxesSubplot:xlabel='i_J-7', ylabel='i_J7'>"
      ]
     },
     "execution_count": 51,
     "metadata": {},
     "output_type": "execute_result"
    },
    {
     "data": {
      "image/png": "[encoded data removed]",
      "text/plain": [
       "<Figure size 432x288 with 1 Axes>"
      ]
     },
     "metadata": {
      "needs_background": "light"
     },
     "output_type": "display_data"
    }
   ],
   "source": [
    "sns.scatterplot(x=df['i_J-7'],y=df['i_J7'],hue=df['PolicyType'])"
   ]
  },
  {
   "cell_type": "code",
   "execution_count": 50,
   "metadata": {
    "ExecuteTime": {
     "end_time": "2020-12-15T19:28:40.369423Z",
     "start_time": "2020-12-15T19:28:39.106800Z"
    }
   },
   "outputs": [
    {
     "data": {
      "text/plain": [
       "<AxesSubplot:xlabel='i_J-14', ylabel='i_J14'>"
      ]
     },
     "execution_count": 50,
     "metadata": {},
     "output_type": "execute_result"
    },
    {
     "data": {
      "image/png": "[encoded data removed]",
      "text/plain": [
       "<Figure size 432x288 with 1 Axes>"
      ]
     },
     "metadata": {
      "needs_background": "light"
     },
     "output_type": "display_data"
    }
   ],
   "source": [
    "sns.scatterplot(x=df['i_J-14'],y=df['i_J14'],hue=df['PolicyType'])"
   ]
  },
  {
   "cell_type": "code",
   "execution_count": 52,
   "metadata": {
    "ExecuteTime": {
     "end_time": "2020-12-15T19:30:40.937687Z",
     "start_time": "2020-12-15T19:30:39.768048Z"
    }
   },
   "outputs": [
    {
     "data": {
      "text/plain": [
       "<AxesSubplot:xlabel='i_J-21', ylabel='i_J21'>"
      ]
     },
     "execution_count": 52,
     "metadata": {},
     "output_type": "execute_result"
    },
    {
     "data": {
      "image/png": "[encoded data removed]",
      "text/plain": [
       "<Figure size 432x288 with 1 Axes>"
      ]
     },
     "metadata": {
      "needs_background": "light"
     },
     "output_type": "display_data"
    }
   ],
   "source": [
    "sns.scatterplot(x=df['i_J-21'],y=df['i_J21'],hue=df['PolicyType'])"
   ]
  },
  {
   "cell_type": "code",
   "execution_count": 53,
   "metadata": {
    "ExecuteTime": {
     "end_time": "2020-12-15T19:33:25.359646Z",
     "start_time": "2020-12-15T19:33:25.351391Z"
    }
   },
   "outputs": [],
   "source": [
    "df_model_lou = df[['ID', 'Date', 'PolicyFamily', 'PolicyType',  'i_J-7', 'i_J-14', 'i_J-21', 'i_J-28', 'i_J-35',\n",
    "       'i_J-42', 'i_J-56', 'i_J7', 'i_J14', 'i_J21', 'i_J28', 'i_J35', 'i_J42',\n",
    "       'i_J49', 'i_J56']]"
   ]
  },
  {
   "cell_type": "code",
   "execution_count": 58,
   "metadata": {
    "ExecuteTime": {
     "end_time": "2020-12-15T19:35:50.911453Z",
     "start_time": "2020-12-15T19:35:50.899547Z"
    }
   },
   "outputs": [
    {
     "data": {
      "text/plain": [
       "0        E3_diff\n",
       "1        E3_diff\n",
       "2        H2_diff\n",
       "3        H6_diff\n",
       "4        C3_diff\n",
       "5        C6_diff\n",
       "6        E1_diff\n",
       "7        C2_diff\n",
       "8        C1_diff\n",
       "9        C5_diff\n",
       "10       H1_diff\n",
       "11       H3_diff\n",
       "12       H4_diff\n",
       "13       H4_diff\n",
       "14       C8_diff\n",
       "15       H2_diff\n",
       "16       C2_diff\n",
       "17       E2_diff\n",
       "18       C8_diff\n",
       "19       E3_diff\n",
       "20       E3_diff\n",
       "21       C1_diff\n",
       "22       H1_diff\n",
       "23       C3_diff\n",
       "24       C4_diff\n",
       "25       H2_diff\n",
       "26       H6_diff\n",
       "27       C3_diff\n",
       "28       H1_diff\n",
       "29       H3_diff\n",
       "          ...   \n",
       "14552    H1_diff\n",
       "14553    C2_diff\n",
       "14554    C5_diff\n",
       "14555    C6_diff\n",
       "14556    C7_diff\n",
       "14557    E3_diff\n",
       "14558    H4_diff\n",
       "14559    H5_diff\n",
       "14560    E3_diff\n",
       "14561    H4_diff\n",
       "14562    H5_diff\n",
       "14563    E3_diff\n",
       "14564    E3_diff\n",
       "14565    E1_diff\n",
       "14566    H2_diff\n",
       "14567    H6_diff\n",
       "14568    C1_diff\n",
       "14569    C2_diff\n",
       "14570    C6_diff\n",
       "14571    C1_diff\n",
       "14572    C6_diff\n",
       "14573    H6_diff\n",
       "14574    C1_diff\n",
       "14575    H6_diff\n",
       "14576    C8_diff\n",
       "14577    E4_diff\n",
       "14578    H6_diff\n",
       "14579    E4_diff\n",
       "14580    C1_diff\n",
       "14581    C1_diff\n",
       "Name: PolicyType, Length: 14582, dtype: object"
      ]
     },
     "execution_count": 58,
     "metadata": {},
     "output_type": "execute_result"
    }
   ],
   "source": [
    "df_model_lou['PolicyType'].astype(str)"
   ]
  },
  {
   "cell_type": "code",
   "execution_count": 61,
   "metadata": {
    "ExecuteTime": {
     "end_time": "2020-12-15T19:46:09.461832Z",
     "start_time": "2020-12-15T19:46:09.455373Z"
    }
   },
   "outputs": [],
   "source": [
    "le = preprocessing.LabelEncoder()"
   ]
  },
  {
   "cell_type": "code",
   "execution_count": 65,
   "metadata": {
    "ExecuteTime": {
     "end_time": "2020-12-15T19:47:38.697772Z",
     "start_time": "2020-12-15T19:47:38.572768Z"
    }
   },
   "outputs": [
    {
     "name": "stderr",
     "output_type": "stream",
     "text": [
      "/Users/lourizzolo/.pyenv/versions/3.7.7/envs/lewagon/lib/python3.7/site-packages/ipykernel_launcher.py:1: SettingWithCopyWarning: \n",
      "A value is trying to be set on a copy of a slice from a DataFrame.\n",
      "Try using .loc[row_indexer,col_indexer] = value instead\n",
      "\n",
      "See the caveats in the documentation: http://pandas.pydata.org/pandas-docs/stable/indexing.html#indexing-view-versus-copy\n",
      "  \"\"\"Entry point for launching an IPython kernel.\n"
     ]
    }
   ],
   "source": [
    "df_model_lou[\"PolicyType\"] = le.fit_transform(df_model_lou[\"PolicyType\"])"
   ]
  },
  {
   "cell_type": "code",
   "execution_count": 69,
   "metadata": {
    "ExecuteTime": {
     "end_time": "2020-12-15T19:49:34.100829Z",
     "start_time": "2020-12-15T19:49:34.096380Z"
    }
   },
   "outputs": [],
   "source": [
    "scaler = StandardScaler()"
   ]
  },
  {
   "cell_type": "markdown",
   "metadata": {
    "heading_collapsed": true
   },
   "source": [
    "# First trial - Failed"
   ]
  },
  {
   "cell_type": "code",
   "execution_count": 71,
   "metadata": {
    "ExecuteTime": {
     "end_time": "2020-12-15T19:50:12.961062Z",
     "start_time": "2020-12-15T19:50:12.842222Z"
    },
    "hidden": true
   },
   "outputs": [
    {
     "name": "stderr",
     "output_type": "stream",
     "text": [
      "/Users/lourizzolo/.pyenv/versions/3.7.7/envs/lewagon/lib/python3.7/site-packages/ipykernel_launcher.py:1: SettingWithCopyWarning: \n",
      "A value is trying to be set on a copy of a slice from a DataFrame.\n",
      "Try using .loc[row_indexer,col_indexer] = value instead\n",
      "\n",
      "See the caveats in the documentation: http://pandas.pydata.org/pandas-docs/stable/indexing.html#indexing-view-versus-copy\n",
      "  \"\"\"Entry point for launching an IPython kernel.\n"
     ]
    }
   ],
   "source": [
    "df_model_lou[\"PolicyType\"] = scaler.fit_transform(df_model_lou[[\"PolicyType\"]])"
   ]
  },
  {
   "cell_type": "code",
   "execution_count": 73,
   "metadata": {
    "ExecuteTime": {
     "end_time": "2020-12-15T19:51:00.272209Z",
     "start_time": "2020-12-15T19:50:59.567547Z"
    },
    "hidden": true
   },
   "outputs": [
    {
     "data": {
      "text/plain": [
       "<AxesSubplot:xlabel='i_J-14', ylabel='i_J14'>"
      ]
     },
     "execution_count": 73,
     "metadata": {},
     "output_type": "execute_result"
    },
    {
     "data": {
      "image/png": "[encoded data removed]",
      "text/plain": [
       "<Figure size 432x288 with 1 Axes>"
      ]
     },
     "metadata": {
      "needs_background": "light"
     },
     "output_type": "display_data"
    }
   ],
   "source": [
    "sns.scatterplot(x=df_model_lou['i_J-14'],y=df_model_lou['i_J14'],hue=df_model_lou['PolicyType'])"
   ]
  },
  {
   "cell_type": "code",
   "execution_count": 74,
   "metadata": {
    "ExecuteTime": {
     "end_time": "2020-12-15T19:51:32.602295Z",
     "start_time": "2020-12-15T19:51:32.593585Z"
    },
    "hidden": true
   },
   "outputs": [
    {
     "data": {
      "text/plain": [
       "Index(['ID', 'Date', 'PolicyFamily', 'PolicyType', 'i_J-7', 'i_J-14', 'i_J-21',\n",
       "       'i_J-28', 'i_J-35', 'i_J-42', 'i_J-56', 'i_J7', 'i_J14', 'i_J21',\n",
       "       'i_J28', 'i_J35', 'i_J42', 'i_J49', 'i_J56'],\n",
       "      dtype='object')"
      ]
     },
     "execution_count": 74,
     "metadata": {},
     "output_type": "execute_result"
    }
   ],
   "source": [
    "df_model_lou.columns"
   ]
  },
  {
   "cell_type": "code",
   "execution_count": 76,
   "metadata": {
    "ExecuteTime": {
     "end_time": "2020-12-15T19:52:49.332256Z",
     "start_time": "2020-12-15T19:52:49.113522Z"
    },
    "hidden": true
   },
   "outputs": [
    {
     "name": "stderr",
     "output_type": "stream",
     "text": [
      "/Users/lourizzolo/.pyenv/versions/3.7.7/envs/lewagon/lib/python3.7/site-packages/pandas/core/frame.py:4042: SettingWithCopyWarning: \n",
      "A value is trying to be set on a copy of a slice from a DataFrame\n",
      "\n",
      "See the caveats in the documentation: http://pandas.pydata.org/pandas-docs/stable/indexing.html#indexing-view-versus-copy\n",
      "  method=method)\n",
      "/Users/lourizzolo/.pyenv/versions/3.7.7/envs/lewagon/lib/python3.7/site-packages/ipykernel_launcher.py:2: SettingWithCopyWarning: \n",
      "A value is trying to be set on a copy of a slice from a DataFrame\n",
      "\n",
      "See the caveats in the documentation: http://pandas.pydata.org/pandas-docs/stable/indexing.html#indexing-view-versus-copy\n",
      "  \n"
     ]
    }
   ],
   "source": [
    "df_model_lou.replace([np.inf, -np.inf], np.nan, inplace=True)\n",
    "df_model_lou.dropna(inplace = True)"
   ]
  },
  {
   "cell_type": "code",
   "execution_count": 77,
   "metadata": {
    "ExecuteTime": {
     "end_time": "2020-12-15T19:52:51.975154Z",
     "start_time": "2020-12-15T19:52:51.965334Z"
    },
    "hidden": true
   },
   "outputs": [],
   "source": [
    "X_lou = df_model_lou[['PolicyType', 'i_J-14']]\n",
    "y_lou = df_model_lou[['i_J14']]"
   ]
  },
  {
   "cell_type": "code",
   "execution_count": 78,
   "metadata": {
    "ExecuteTime": {
     "end_time": "2020-12-15T19:53:10.979962Z",
     "start_time": "2020-12-15T19:53:10.972388Z"
    },
    "hidden": true
   },
   "outputs": [
    {
     "name": "stdout",
     "output_type": "stream",
     "text": [
      "(2654, 2)\n",
      "(2654, 1)\n"
     ]
    }
   ],
   "source": [
    "print(X_lou.shape)\n",
    "print(y_lou.shape)"
   ]
  },
  {
   "cell_type": "code",
   "execution_count": 79,
   "metadata": {
    "ExecuteTime": {
     "end_time": "2020-12-15T19:53:48.478026Z",
     "start_time": "2020-12-15T19:53:48.468910Z"
    },
    "hidden": true
   },
   "outputs": [],
   "source": [
    "from sklearn.model_selection import train_test_split\n",
    "X_train_lou, X_test_lou, y_train_lou, y_test_lou = train_test_split(X_lou, y_lou, test_size=0.30, random_state=1)"
   ]
  },
  {
   "cell_type": "code",
   "execution_count": 80,
   "metadata": {
    "ExecuteTime": {
     "end_time": "2020-12-15T19:55:01.342970Z",
     "start_time": "2020-12-15T19:55:01.325407Z"
    },
    "hidden": true
   },
   "outputs": [
    {
     "data": {
      "text/plain": [
       "0.5130988028197759"
      ]
     },
     "execution_count": 80,
     "metadata": {},
     "output_type": "execute_result"
    }
   ],
   "source": [
    "model=LinearRegression()\n",
    "model.fit(X_train_lou,y_train_lou)\n",
    "model.score(X_test_lou,y_test_lou)"
   ]
  },
  {
   "cell_type": "code",
   "execution_count": 7,
   "metadata": {
    "ExecuteTime": {
     "end_time": "2020-12-15T18:35:55.658350Z",
     "start_time": "2020-12-15T18:35:55.645448Z"
    },
    "hidden": true
   },
   "outputs": [],
   "source": [
    "df1 = df.copy()"
   ]
  },
  {
   "cell_type": "code",
   "execution_count": 8,
   "metadata": {
    "ExecuteTime": {
     "end_time": "2020-12-15T18:36:54.074640Z",
     "start_time": "2020-12-15T18:36:54.062145Z"
    },
    "hidden": true
   },
   "outputs": [],
   "source": [
    "df1 = df1[['d_j-7', 'i_J-7', 'i_J-14', 'i_J-21', 'i_J-28', 'i_J-35',\n",
    "       'i_J-42', 'i_J-56', 'i_J7', 'i_J14', 'i_J21', 'i_J28', 'i_J35', 'i_J42',\n",
    "       'i_J49', 'i_J56', 'E3_diff', 'H2_diff', 'H6_diff', 'C3_diff', 'C6_diff',\n",
    "       'E1_diff', 'C2_diff', 'C1_diff', 'C5_diff', 'H1_diff', 'H3_diff',\n",
    "       'H4_diff', 'C8_diff', 'E2_diff', 'C4_diff', 'E4_diff', 'C7_diff',\n",
    "       'H5_diff']]"
   ]
  },
  {
   "cell_type": "code",
   "execution_count": 10,
   "metadata": {
    "ExecuteTime": {
     "end_time": "2020-12-15T18:38:15.504020Z",
     "start_time": "2020-12-15T18:38:15.498008Z"
    },
    "hidden": true
   },
   "outputs": [],
   "source": [
    "df2 = df1.copy()"
   ]
  },
  {
   "cell_type": "code",
   "execution_count": 19,
   "metadata": {
    "ExecuteTime": {
     "end_time": "2020-12-15T18:41:54.753287Z",
     "start_time": "2020-12-15T18:41:54.744478Z"
    },
    "hidden": true
   },
   "outputs": [
    {
     "data": {
      "text/plain": [
       "(14582, 34)"
      ]
     },
     "execution_count": 19,
     "metadata": {},
     "output_type": "execute_result"
    }
   ],
   "source": [
    "df2.shape"
   ]
  },
  {
   "cell_type": "markdown",
   "metadata": {},
   "source": [
    "# Model 1 "
   ]
  },
  {
   "cell_type": "code",
   "execution_count": 207,
   "metadata": {
    "ExecuteTime": {
     "end_time": "2020-12-15T21:58:21.491806Z",
     "start_time": "2020-12-15T21:58:21.483195Z"
    }
   },
   "outputs": [],
   "source": [
    "df_model_1 = df2[['i_J-14', 'i_J14', 'E3_diff', 'H2_diff', 'H6_diff', 'C3_diff', 'C6_diff',\n",
    "       'E1_diff', 'C2_diff', 'C1_diff', 'C5_diff', 'H1_diff', 'H3_diff',\n",
    "       'H4_diff', 'C8_diff', 'E2_diff', 'C4_diff', 'E4_diff', 'C7_diff',\n",
    "       'H5_diff']]"
   ]
  },
  {
   "cell_type": "code",
   "execution_count": 208,
   "metadata": {
    "ExecuteTime": {
     "end_time": "2020-12-15T21:58:22.118692Z",
     "start_time": "2020-12-15T21:58:21.804129Z"
    }
   },
   "outputs": [
    {
     "name": "stderr",
     "output_type": "stream",
     "text": [
      "/Users/lourizzolo/.pyenv/versions/3.7.7/envs/lewagon/lib/python3.7/site-packages/pandas/core/frame.py:4042: SettingWithCopyWarning: \n",
      "A value is trying to be set on a copy of a slice from a DataFrame\n",
      "\n",
      "See the caveats in the documentation: http://pandas.pydata.org/pandas-docs/stable/indexing.html#indexing-view-versus-copy\n",
      "  method=method)\n",
      "/Users/lourizzolo/.pyenv/versions/3.7.7/envs/lewagon/lib/python3.7/site-packages/ipykernel_launcher.py:2: SettingWithCopyWarning: \n",
      "A value is trying to be set on a copy of a slice from a DataFrame\n",
      "\n",
      "See the caveats in the documentation: http://pandas.pydata.org/pandas-docs/stable/indexing.html#indexing-view-versus-copy\n",
      "  \n"
     ]
    }
   ],
   "source": [
    "df_model_1.replace([np.inf, -np.inf], np.nan, inplace=True)\n",
    "df_model_1.dropna(inplace = True)"
   ]
  },
  {
   "cell_type": "code",
   "execution_count": 209,
   "metadata": {
    "ExecuteTime": {
     "end_time": "2020-12-15T21:58:22.466337Z",
     "start_time": "2020-12-15T21:58:22.457309Z"
    }
   },
   "outputs": [
    {
     "data": {
      "text/plain": [
       "(4864, 20)"
      ]
     },
     "execution_count": 209,
     "metadata": {},
     "output_type": "execute_result"
    }
   ],
   "source": [
    "df_model_1.shape"
   ]
  },
  {
   "cell_type": "code",
   "execution_count": 222,
   "metadata": {
    "ExecuteTime": {
     "end_time": "2020-12-15T22:04:52.980730Z",
     "start_time": "2020-12-15T22:04:52.972608Z"
    }
   },
   "outputs": [],
   "source": [
    "X = df_model_1.drop(columns='i_J14')\n",
    "y = df_model_1['i_J14']"
   ]
  },
  {
   "cell_type": "code",
   "execution_count": 211,
   "metadata": {
    "ExecuteTime": {
     "end_time": "2020-12-15T21:58:23.863255Z",
     "start_time": "2020-12-15T21:58:23.854005Z"
    }
   },
   "outputs": [],
   "source": [
    "from sklearn.model_selection import train_test_split\n",
    "X_train, X_test, y_train, y_test = train_test_split(X, y, test_size=0.30, random_state=1)"
   ]
  },
  {
   "cell_type": "code",
   "execution_count": 212,
   "metadata": {
    "ExecuteTime": {
     "end_time": "2020-12-15T21:58:24.520094Z",
     "start_time": "2020-12-15T21:58:24.500815Z"
    }
   },
   "outputs": [
    {
     "data": {
      "text/plain": [
       "0.6448217899745473"
      ]
     },
     "execution_count": 212,
     "metadata": {},
     "output_type": "execute_result"
    }
   ],
   "source": [
    "from sklearn.linear_model import LinearRegression\n",
    "model=LinearRegression()\n",
    "model.fit(X_train,y_train)\n",
    "model.score(X_test,y_test)"
   ]
  },
  {
   "cell_type": "markdown",
   "metadata": {},
   "source": [
    "## Features importance "
   ]
  },
  {
   "cell_type": "code",
   "execution_count": 237,
   "metadata": {
    "ExecuteTime": {
     "end_time": "2020-12-15T22:16:46.947743Z",
     "start_time": "2020-12-15T22:16:46.920049Z"
    }
   },
   "outputs": [
    {
     "data": {
      "text/html": [
       "<div>\n",
       "<style scoped>\n",
       "    .dataframe tbody tr th:only-of-type {\n",
       "        vertical-align: middle;\n",
       "    }\n",
       "\n",
       "    .dataframe tbody tr th {\n",
       "        vertical-align: top;\n",
       "    }\n",
       "\n",
       "    .dataframe thead th {\n",
       "        text-align: right;\n",
       "    }\n",
       "</style>\n",
       "<table border=\"1\" class=\"dataframe\">\n",
       "  <thead>\n",
       "    <tr style=\"text-align: right;\">\n",
       "      <th></th>\n",
       "      <th>Coefficient</th>\n",
       "    </tr>\n",
       "  </thead>\n",
       "  <tbody>\n",
       "    <tr>\n",
       "      <th>i_J-14</th>\n",
       "      <td>0.469449</td>\n",
       "    </tr>\n",
       "    <tr>\n",
       "      <th>C1_diff</th>\n",
       "      <td>0.050211</td>\n",
       "    </tr>\n",
       "    <tr>\n",
       "      <th>C2_diff</th>\n",
       "      <td>0.033406</td>\n",
       "    </tr>\n",
       "    <tr>\n",
       "      <th>C4_diff</th>\n",
       "      <td>0.026817</td>\n",
       "    </tr>\n",
       "    <tr>\n",
       "      <th>C6_diff</th>\n",
       "      <td>0.021849</td>\n",
       "    </tr>\n",
       "    <tr>\n",
       "      <th>C3_diff</th>\n",
       "      <td>0.021746</td>\n",
       "    </tr>\n",
       "    <tr>\n",
       "      <th>H4_diff</th>\n",
       "      <td>0.018467</td>\n",
       "    </tr>\n",
       "    <tr>\n",
       "      <th>C8_diff</th>\n",
       "      <td>0.016291</td>\n",
       "    </tr>\n",
       "    <tr>\n",
       "      <th>C7_diff</th>\n",
       "      <td>0.014718</td>\n",
       "    </tr>\n",
       "    <tr>\n",
       "      <th>E2_diff</th>\n",
       "      <td>0.013997</td>\n",
       "    </tr>\n",
       "    <tr>\n",
       "      <th>E1_diff</th>\n",
       "      <td>0.012928</td>\n",
       "    </tr>\n",
       "    <tr>\n",
       "      <th>H6_diff</th>\n",
       "      <td>0.011926</td>\n",
       "    </tr>\n",
       "    <tr>\n",
       "      <th>C5_diff</th>\n",
       "      <td>0.010678</td>\n",
       "    </tr>\n",
       "    <tr>\n",
       "      <th>H5_diff</th>\n",
       "      <td>0.007967</td>\n",
       "    </tr>\n",
       "    <tr>\n",
       "      <th>H1_diff</th>\n",
       "      <td>0.001972</td>\n",
       "    </tr>\n",
       "    <tr>\n",
       "      <th>H2_diff</th>\n",
       "      <td>-0.000718</td>\n",
       "    </tr>\n",
       "    <tr>\n",
       "      <th>E3_diff</th>\n",
       "      <td>-0.003432</td>\n",
       "    </tr>\n",
       "    <tr>\n",
       "      <th>H3_diff</th>\n",
       "      <td>-0.008899</td>\n",
       "    </tr>\n",
       "    <tr>\n",
       "      <th>E4_diff</th>\n",
       "      <td>-0.021391</td>\n",
       "    </tr>\n",
       "  </tbody>\n",
       "</table>\n",
       "</div>"
      ],
      "text/plain": [
       "         Coefficient\n",
       "i_J-14      0.469449\n",
       "C1_diff     0.050211\n",
       "C2_diff     0.033406\n",
       "C4_diff     0.026817\n",
       "C6_diff     0.021849\n",
       "C3_diff     0.021746\n",
       "H4_diff     0.018467\n",
       "C8_diff     0.016291\n",
       "C7_diff     0.014718\n",
       "E2_diff     0.013997\n",
       "E1_diff     0.012928\n",
       "H6_diff     0.011926\n",
       "C5_diff     0.010678\n",
       "H5_diff     0.007967\n",
       "H1_diff     0.001972\n",
       "H2_diff    -0.000718\n",
       "E3_diff    -0.003432\n",
       "H3_diff    -0.008899\n",
       "E4_diff    -0.021391"
      ]
     },
     "execution_count": 237,
     "metadata": {},
     "output_type": "execute_result"
    }
   ],
   "source": [
    "coeff_df = pd.DataFrame(model.coef_, X.columns, columns=['Coefficient'])\n",
    "coeff_df.sort_values(by=['Coefficient'], ascending=False)"
   ]
  },
  {
   "cell_type": "code",
   "execution_count": null,
   "metadata": {},
   "outputs": [],
   "source": [
    "# E4: International support\n",
    "# H3: Contact tracing\n",
    "# E3: Fiscal measures\n",
    "# H2: Testing policy\n",
    "# H1: Public information campaigns\n",
    "# H5: Investment in vaccines"
   ]
  },
  {
   "cell_type": "code",
   "execution_count": 308,
   "metadata": {
    "ExecuteTime": {
     "end_time": "2020-12-15T22:40:50.214276Z",
     "start_time": "2020-12-15T22:40:50.206279Z"
    }
   },
   "outputs": [],
   "source": [
    "df_model_2 = df2[['i_J-14', 'i_J14', 'E3_diff', 'H2_diff', 'H6_diff', 'C3_diff', 'C6_diff',\n",
    "       'E1_diff', 'C2_diff', 'C1_diff', 'C5_diff', 'H1_diff', 'H3_diff',\n",
    "       'H4_diff', 'C8_diff', 'E2_diff', 'C4_diff', 'E4_diff', 'C7_diff',\n",
    "       'H5_diff']]"
   ]
  },
  {
   "cell_type": "code",
   "execution_count": 309,
   "metadata": {
    "ExecuteTime": {
     "end_time": "2020-12-15T22:40:51.002746Z",
     "start_time": "2020-12-15T22:40:50.678124Z"
    }
   },
   "outputs": [
    {
     "name": "stderr",
     "output_type": "stream",
     "text": [
      "/Users/lourizzolo/.pyenv/versions/3.7.7/envs/lewagon/lib/python3.7/site-packages/pandas/core/frame.py:4042: SettingWithCopyWarning: \n",
      "A value is trying to be set on a copy of a slice from a DataFrame\n",
      "\n",
      "See the caveats in the documentation: http://pandas.pydata.org/pandas-docs/stable/indexing.html#indexing-view-versus-copy\n",
      "  method=method)\n",
      "/Users/lourizzolo/.pyenv/versions/3.7.7/envs/lewagon/lib/python3.7/site-packages/ipykernel_launcher.py:2: SettingWithCopyWarning: \n",
      "A value is trying to be set on a copy of a slice from a DataFrame\n",
      "\n",
      "See the caveats in the documentation: http://pandas.pydata.org/pandas-docs/stable/indexing.html#indexing-view-versus-copy\n",
      "  \n"
     ]
    }
   ],
   "source": [
    "df_model_2.replace([np.inf, -np.inf], np.nan, inplace=True)\n",
    "df_model_2.dropna(inplace = True)"
   ]
  },
  {
   "cell_type": "code",
   "execution_count": 316,
   "metadata": {
    "ExecuteTime": {
     "end_time": "2020-12-15T22:41:16.877763Z",
     "start_time": "2020-12-15T22:41:16.870401Z"
    }
   },
   "outputs": [],
   "source": [
    "X = df_model_2[['i_J-14', 'E3_diff', 'H2_diff', 'H6_diff', 'C3_diff', 'C6_diff',\n",
    "       'E1_diff', 'C2_diff', 'C1_diff', 'C5_diff', 'H1_diff', 'H3_diff',\n",
    "       'H4_diff', 'C8_diff', 'E2_diff', 'C4_diff', 'E4_diff', 'C7_diff',\n",
    "       'H5_diff']]\n",
    "\n",
    "y = df_model_2['i_J14']"
   ]
  },
  {
   "cell_type": "code",
   "execution_count": 317,
   "metadata": {
    "ExecuteTime": {
     "end_time": "2020-12-15T22:41:17.231915Z",
     "start_time": "2020-12-15T22:41:17.223324Z"
    }
   },
   "outputs": [],
   "source": [
    "X_train, X_test, y_train, y_test = train_test_split(X, y, test_size=0.30, random_state=1)"
   ]
  },
  {
   "cell_type": "code",
   "execution_count": 318,
   "metadata": {
    "ExecuteTime": {
     "end_time": "2020-12-15T22:41:17.590410Z",
     "start_time": "2020-12-15T22:41:17.572230Z"
    }
   },
   "outputs": [
    {
     "data": {
      "text/plain": [
       "0.6326046899283421"
      ]
     },
     "execution_count": 318,
     "metadata": {},
     "output_type": "execute_result"
    }
   ],
   "source": [
    "model=LinearRegression()\n",
    "model.fit(X_train,y_train)\n",
    "model.score(X_test,y_test)"
   ]
  },
  {
   "cell_type": "code",
   "execution_count": null,
   "metadata": {},
   "outputs": [],
   "source": []
  },
  {
   "cell_type": "code",
   "execution_count": null,
   "metadata": {
    "ExecuteTime": {
     "end_time": "2020-12-15T22:11:46.800608Z",
     "start_time": "2020-12-15T22:11:46.431093Z"
    }
   },
   "outputs": [],
   "source": []
  },
  {
   "cell_type": "code",
   "execution_count": null,
   "metadata": {
    "ExecuteTime": {
     "end_time": "2020-12-15T22:06:47.661905Z",
     "start_time": "2020-12-15T22:06:47.652068Z"
    }
   },
   "outputs": [],
   "source": []
  },
  {
   "cell_type": "code",
   "execution_count": null,
   "metadata": {},
   "outputs": [],
   "source": []
  },
  {
   "cell_type": "code",
   "execution_count": null,
   "metadata": {},
   "outputs": [],
   "source": []
  },
  {
   "cell_type": "markdown",
   "metadata": {},
   "source": [
    "# Let's try XGboost\n"
   ]
  },
  {
   "cell_type": "code",
   "execution_count": 213,
   "metadata": {
    "ExecuteTime": {
     "end_time": "2020-12-15T21:58:27.430901Z",
     "start_time": "2020-12-15T21:58:27.425524Z"
    }
   },
   "outputs": [],
   "source": [
    "# fit model no training data\n",
    "xgb_r = xg.XGBRegressor(objective ='reg:linear')"
   ]
  },
  {
   "cell_type": "code",
   "execution_count": 214,
   "metadata": {
    "ExecuteTime": {
     "end_time": "2020-12-15T21:58:29.173655Z",
     "start_time": "2020-12-15T21:58:28.787170Z"
    }
   },
   "outputs": [
    {
     "name": "stdout",
     "output_type": "stream",
     "text": [
      "[22:58:28] WARNING: /Users/travis/build/dmlc/xgboost/src/objective/regression_obj.cu:170: reg:linear is now deprecated in favor of reg:squarederror.\n",
      "[22:58:29] WARNING: /Users/travis/build/dmlc/xgboost/src/objective/regression_obj.cu:170: reg:linear is now deprecated in favor of reg:squarederror.\n"
     ]
    },
    {
     "data": {
      "text/plain": [
       "XGBRegressor(base_score=0.5, booster='gbtree', colsample_bylevel=1,\n",
       "             colsample_bynode=1, colsample_bytree=1, gamma=0, gpu_id=-1,\n",
       "             importance_type='gain', interaction_constraints='',\n",
       "             learning_rate=0.300000012, max_delta_step=0, max_depth=6,\n",
       "             min_child_weight=1, missing=nan, monotone_constraints='()',\n",
       "             n_estimators=100, n_jobs=0, num_parallel_tree=1,\n",
       "             objective='reg:linear', random_state=0, reg_alpha=0, reg_lambda=1,\n",
       "             scale_pos_weight=1, subsample=1, tree_method='exact',\n",
       "             validate_parameters=1, verbosity=None)"
      ]
     },
     "execution_count": 214,
     "metadata": {},
     "output_type": "execute_result"
    }
   ],
   "source": [
    "xgb_r.fit(X_train, y_train)"
   ]
  },
  {
   "cell_type": "code",
   "execution_count": 215,
   "metadata": {
    "ExecuteTime": {
     "end_time": "2020-12-15T21:58:30.063220Z",
     "start_time": "2020-12-15T21:58:30.052347Z"
    }
   },
   "outputs": [],
   "source": [
    "pred = xgb_r.predict(X_test)"
   ]
  },
  {
   "cell_type": "code",
   "execution_count": 216,
   "metadata": {
    "ExecuteTime": {
     "end_time": "2020-12-15T21:58:30.784100Z",
     "start_time": "2020-12-15T21:58:30.776006Z"
    }
   },
   "outputs": [
    {
     "name": "stdout",
     "output_type": "stream",
     "text": [
      "RMSE: 0.027866\n"
     ]
    }
   ],
   "source": [
    "from sklearn.metrics import mean_squared_error\n",
    "rmse = np.sqrt(mean_squared_error(y_test, pred))\n",
    "print(\"RMSE: %f\" % (rmse))"
   ]
  },
  {
   "cell_type": "code",
   "execution_count": 217,
   "metadata": {
    "ExecuteTime": {
     "end_time": "2020-12-15T21:58:38.140844Z",
     "start_time": "2020-12-15T21:58:36.898148Z"
    }
   },
   "outputs": [
    {
     "name": "stdout",
     "output_type": "stream",
     "text": [
      "mean r2:  0.6271666015714099\n",
      "std r2:  0.06856438918123438\n"
     ]
    }
   ],
   "source": [
    "from sklearn.ensemble import BaggingRegressor\n",
    "from sklearn.model_selection import cross_validate\n",
    "\n",
    "linear_model = LinearRegression()\n",
    "\n",
    "bagged_model = BaggingRegressor(linear_model, n_estimators=50)\n",
    "\n",
    "cv_results = cross_validate(bagged_model, X_train, y_train, scoring = \"r2\", cv=5)\n",
    "print('mean r2: ',cv_results['test_score'].mean())\n",
    "print('std r2: ', cv_results['test_score'].std())"
   ]
  },
  {
   "cell_type": "code",
   "execution_count": 218,
   "metadata": {
    "ExecuteTime": {
     "end_time": "2020-12-15T21:58:46.153614Z",
     "start_time": "2020-12-15T21:58:41.426046Z"
    }
   },
   "outputs": [
    {
     "name": "stdout",
     "output_type": "stream",
     "text": [
      "[0.62454069 0.68151179 0.48561468 0.46780201 0.59713631]\n",
      "mean r2:  0.571321095439051\n",
      "std r2:  0.08210058608234728\n"
     ]
    }
   ],
   "source": [
    "from sklearn.ensemble import RandomForestRegressor\n",
    "\n",
    "forest = RandomForestRegressor(n_estimators=100)\n",
    "\n",
    "cv_results = cross_validate(forest, X_train, y_train, scoring = \"r2\", cv=5)\n",
    "\n",
    "print(cv_results['test_score'])\n",
    "print('mean r2: ',cv_results['test_score'].mean())\n",
    "print('std r2: ', cv_results['test_score'].std())"
   ]
  },
  {
   "cell_type": "code",
   "execution_count": 219,
   "metadata": {
    "ExecuteTime": {
     "end_time": "2020-12-15T21:58:54.573094Z",
     "start_time": "2020-12-15T21:58:54.499183Z"
    }
   },
   "outputs": [],
   "source": [
    "import numpy as np\n",
    "from sklearn.model_selection import cross_validate\n",
    "from sklearn.linear_model import SGDRegressor, LinearRegression\n",
    "\n",
    "# Squared loss SGD Regressor\n",
    "sgd_model = SGDRegressor(loss=\"squared_loss\")\n",
    "\n",
    "# Cross Validate Model\n",
    "sgd_model_cv = cross_validate(sgd_model, \n",
    "                              X_train, \n",
    "                              y_train,\n",
    "                              cv = 5, \n",
    "                              scoring = ['r2','max_error'])"
   ]
  },
  {
   "cell_type": "code",
   "execution_count": 220,
   "metadata": {
    "ExecuteTime": {
     "end_time": "2020-12-15T21:58:57.269422Z",
     "start_time": "2020-12-15T21:58:57.261391Z"
    }
   },
   "outputs": [
    {
     "data": {
      "text/plain": [
       "0.33976978881371606"
      ]
     },
     "execution_count": 220,
     "metadata": {},
     "output_type": "execute_result"
    }
   ],
   "source": [
    "sgd_model_cv['test_r2'].mean()"
   ]
  },
  {
   "cell_type": "markdown",
   "metadata": {
    "ExecuteTime": {
     "end_time": "2020-12-15T20:35:34.334661Z",
     "start_time": "2020-12-15T20:35:34.260018Z"
    }
   },
   "source": [
    "## Lasso model"
   ]
  },
  {
   "cell_type": "code",
   "execution_count": 150,
   "metadata": {
    "ExecuteTime": {
     "end_time": "2020-12-15T21:03:40.424673Z",
     "start_time": "2020-12-15T21:03:40.121633Z"
    }
   },
   "outputs": [
    {
     "name": "stdout",
     "output_type": "stream",
     "text": [
      "Fitting 5 folds for each of 3 candidates, totalling 15 fits\n",
      "[CV] alpha=0.001 .....................................................\n",
      "[CV] ........................ alpha=0.001, score=-0.013, total=   0.0s\n",
      "[CV] alpha=0.001 .....................................................\n",
      "[CV] ........................ alpha=0.001, score=-0.013, total=   0.0s\n",
      "[CV] alpha=0.001 .....................................................\n",
      "[CV] ........................ alpha=0.001, score=-0.017, total=   0.0s\n",
      "[CV] alpha=0.001 .....................................................\n",
      "[CV] ........................ alpha=0.001, score=-0.014, total=   0.0s\n",
      "[CV] alpha=0.001 .....................................................\n",
      "[CV] ........................ alpha=0.001, score=-0.015, total=   0.0s\n",
      "[CV] alpha=0.01 ......................................................\n",
      "[CV] ......................... alpha=0.01, score=-0.015, total=   0.0s\n",
      "[CV] alpha=0.01 ......................................................\n",
      "[CV] ......................... alpha=0.01, score=-0.015, total=   0.0s\n",
      "[CV] alpha=0.01 ......................................................\n",
      "[CV] ......................... alpha=0.01, score=-0.018, total=   0.0s\n",
      "[CV] alpha=0.01 ......................................................\n",
      "[CV] ......................... alpha=0.01, score=-0.015, total=   0.0s\n",
      "[CV] alpha=0.01 ......................................................\n",
      "[CV] ......................... alpha=0.01, score=-0.016, total=   0.0s\n",
      "[CV] alpha=0.1 .......................................................\n",
      "[CV] .......................... alpha=0.1, score=-0.027, total=   0.0s\n",
      "[CV] alpha=0.1 .......................................................\n",
      "[CV] .......................... alpha=0.1, score=-0.027, total=   0.0s\n",
      "[CV] alpha=0.1 .......................................................\n"
     ]
    },
    {
     "name": "stderr",
     "output_type": "stream",
     "text": [
      "[Parallel(n_jobs=1)]: Using backend SequentialBackend with 1 concurrent workers.\n",
      "[Parallel(n_jobs=1)]: Done   1 out of   1 | elapsed:    0.0s remaining:    0.0s\n",
      "[Parallel(n_jobs=1)]: Done   2 out of   2 | elapsed:    0.0s remaining:    0.0s\n",
      "[Parallel(n_jobs=1)]: Done   3 out of   3 | elapsed:    0.0s remaining:    0.0s\n",
      "[Parallel(n_jobs=1)]: Done   4 out of   4 | elapsed:    0.1s remaining:    0.0s\n",
      "[Parallel(n_jobs=1)]: Done   5 out of   5 | elapsed:    0.1s remaining:    0.0s\n",
      "[Parallel(n_jobs=1)]: Done   6 out of   6 | elapsed:    0.1s remaining:    0.0s\n",
      "[Parallel(n_jobs=1)]: Done   7 out of   7 | elapsed:    0.1s remaining:    0.0s\n",
      "[Parallel(n_jobs=1)]: Done   8 out of   8 | elapsed:    0.1s remaining:    0.0s\n",
      "[Parallel(n_jobs=1)]: Done   9 out of   9 | elapsed:    0.1s remaining:    0.0s\n"
     ]
    },
    {
     "name": "stdout",
     "output_type": "stream",
     "text": [
      "[CV] .......................... alpha=0.1, score=-0.029, total=   0.0s\n",
      "[CV] alpha=0.1 .......................................................\n",
      "[CV] .......................... alpha=0.1, score=-0.027, total=   0.0s\n",
      "[CV] alpha=0.1 .......................................................\n",
      "[CV] .......................... alpha=0.1, score=-0.028, total=   0.0s\n",
      "{'mean_fit_time': array([0.00841837, 0.01225047, 0.01311169]), 'std_fit_time': array([0.00082908, 0.00507548, 0.00536075]), 'mean_score_time': array([0.00367508, 0.00453677, 0.00534253]), 'std_score_time': array([0.00038967, 0.00056129, 0.00228833]), 'param_alpha': masked_array(data=[0.001, 0.01, 0.1],\n",
      "             mask=[False, False, False],\n",
      "       fill_value='?',\n",
      "            dtype=object), 'params': [{'alpha': 0.001}, {'alpha': 0.01}, {'alpha': 0.1}], 'split0_test_score': array([-0.01342708, -0.01469236, -0.02742904]), 'split1_test_score': array([-0.01321211, -0.01466484, -0.0269449 ]), 'split2_test_score': array([-0.01695018, -0.01792006, -0.02879883]), 'split3_test_score': array([-0.01389813, -0.01512401, -0.02712648]), 'split4_test_score': array([-0.01513562, -0.01609176, -0.0280906 ]), 'mean_test_score': array([-0.01452462, -0.0156986 , -0.02767797]), 'std_test_score': array([0.00138394, 0.00122481, 0.00068266]), 'rank_test_score': array([1, 2, 3], dtype=int32)}\n",
      "{'alpha': 0.001}\n"
     ]
    },
    {
     "name": "stderr",
     "output_type": "stream",
     "text": [
      "[Parallel(n_jobs=1)]: Done  15 out of  15 | elapsed:    0.3s finished\n"
     ]
    }
   ],
   "source": [
    "lasso = Lasso()\n",
    "lasso_params = {'alpha': [0.001,0.01,0.1]}\n",
    "lasso_grid = GridSearchCV(lasso, lasso_params, cv=5, verbose=10, scoring='neg_mean_absolute_error')\n",
    "lasso_grid.fit(X_train, y_train)\n",
    "lasso_score = lasso_grid.cv_results_\n",
    "print(lasso_score)\n",
    "print(lasso_grid.best_params_)"
   ]
  },
  {
   "cell_type": "code",
   "execution_count": null,
   "metadata": {},
   "outputs": [],
   "source": []
  },
  {
   "cell_type": "code",
   "execution_count": null,
   "metadata": {},
   "outputs": [],
   "source": []
  },
  {
   "cell_type": "code",
   "execution_count": null,
   "metadata": {},
   "outputs": [],
   "source": []
  },
  {
   "cell_type": "markdown",
   "metadata": {},
   "source": [
    "# Model 2"
   ]
  },
  {
   "cell_type": "code",
   "execution_count": 23,
   "metadata": {
    "ExecuteTime": {
     "end_time": "2020-12-15T18:45:17.935425Z",
     "start_time": "2020-12-15T18:45:17.925566Z"
    }
   },
   "outputs": [],
   "source": [
    "df_model_2 = df2[['i_J-7', 'i_J7', 'E3_diff', 'H2_diff', 'H6_diff', 'C3_diff', 'C6_diff',\n",
    "       'E1_diff', 'C2_diff', 'C1_diff', 'C5_diff', 'H1_diff', 'H3_diff',\n",
    "       'H4_diff', 'C8_diff', 'E2_diff', 'C4_diff', 'E4_diff', 'C7_diff',\n",
    "       'H5_diff']]"
   ]
  },
  {
   "cell_type": "code",
   "execution_count": 24,
   "metadata": {
    "ExecuteTime": {
     "end_time": "2020-12-15T18:45:33.376997Z",
     "start_time": "2020-12-15T18:45:33.209935Z"
    }
   },
   "outputs": [
    {
     "name": "stderr",
     "output_type": "stream",
     "text": [
      "/Users/lourizzolo/.pyenv/versions/3.7.7/envs/lewagon/lib/python3.7/site-packages/pandas/core/frame.py:4042: SettingWithCopyWarning: \n",
      "A value is trying to be set on a copy of a slice from a DataFrame\n",
      "\n",
      "See the caveats in the documentation: http://pandas.pydata.org/pandas-docs/stable/indexing.html#indexing-view-versus-copy\n",
      "  method=method)\n",
      "/Users/lourizzolo/.pyenv/versions/3.7.7/envs/lewagon/lib/python3.7/site-packages/ipykernel_launcher.py:2: SettingWithCopyWarning: \n",
      "A value is trying to be set on a copy of a slice from a DataFrame\n",
      "\n",
      "See the caveats in the documentation: http://pandas.pydata.org/pandas-docs/stable/indexing.html#indexing-view-versus-copy\n",
      "  \n"
     ]
    }
   ],
   "source": [
    "df_model_2.replace([np.inf, -np.inf], np.nan, inplace=True)\n",
    "df_model_2.dropna(inplace = True)"
   ]
  },
  {
   "cell_type": "code",
   "execution_count": 25,
   "metadata": {
    "ExecuteTime": {
     "end_time": "2020-12-15T18:47:33.073593Z",
     "start_time": "2020-12-15T18:47:33.065550Z"
    }
   },
   "outputs": [],
   "source": [
    "X2 = df_model_2.drop(columns='i_J7')\n",
    "y2 = df_model_2['i_J7']"
   ]
  },
  {
   "cell_type": "code",
   "execution_count": 26,
   "metadata": {
    "ExecuteTime": {
     "end_time": "2020-12-15T18:47:58.653560Z",
     "start_time": "2020-12-15T18:47:58.641135Z"
    }
   },
   "outputs": [],
   "source": [
    "from sklearn.model_selection import train_test_split\n",
    "X_train2, X_test2, y_train2, y_test2 = train_test_split(X2, y2, test_size=0.30, random_state=1)"
   ]
  },
  {
   "cell_type": "code",
   "execution_count": 27,
   "metadata": {
    "ExecuteTime": {
     "end_time": "2020-12-15T18:48:22.459880Z",
     "start_time": "2020-12-15T18:48:22.438309Z"
    }
   },
   "outputs": [
    {
     "data": {
      "text/plain": [
       "0.6087061767472908"
      ]
     },
     "execution_count": 27,
     "metadata": {},
     "output_type": "execute_result"
    }
   ],
   "source": [
    "from sklearn.linear_model import LinearRegression\n",
    "model2=LinearRegression()\n",
    "model2.fit(X_train2,y_train2)\n",
    "model2.score(X_test2,y_test2)"
   ]
  },
  {
   "cell_type": "markdown",
   "metadata": {},
   "source": [
    "# Model 3"
   ]
  },
  {
   "cell_type": "code",
   "execution_count": 28,
   "metadata": {
    "ExecuteTime": {
     "end_time": "2020-12-15T18:49:20.858946Z",
     "start_time": "2020-12-15T18:49:20.849880Z"
    }
   },
   "outputs": [],
   "source": [
    "df_model_3 = df2[['i_J-21', 'i_J21', 'E3_diff', 'H2_diff', 'H6_diff', 'C3_diff', 'C6_diff',\n",
    "       'E1_diff', 'C2_diff', 'C1_diff', 'C5_diff', 'H1_diff', 'H3_diff',\n",
    "       'H4_diff', 'C8_diff', 'E2_diff', 'C4_diff', 'E4_diff', 'C7_diff',\n",
    "       'H5_diff']]"
   ]
  },
  {
   "cell_type": "code",
   "execution_count": 29,
   "metadata": {
    "ExecuteTime": {
     "end_time": "2020-12-15T18:49:37.123061Z",
     "start_time": "2020-12-15T18:49:36.950349Z"
    }
   },
   "outputs": [
    {
     "name": "stderr",
     "output_type": "stream",
     "text": [
      "/Users/lourizzolo/.pyenv/versions/3.7.7/envs/lewagon/lib/python3.7/site-packages/pandas/core/frame.py:4042: SettingWithCopyWarning: \n",
      "A value is trying to be set on a copy of a slice from a DataFrame\n",
      "\n",
      "See the caveats in the documentation: http://pandas.pydata.org/pandas-docs/stable/indexing.html#indexing-view-versus-copy\n",
      "  method=method)\n",
      "/Users/lourizzolo/.pyenv/versions/3.7.7/envs/lewagon/lib/python3.7/site-packages/ipykernel_launcher.py:2: SettingWithCopyWarning: \n",
      "A value is trying to be set on a copy of a slice from a DataFrame\n",
      "\n",
      "See the caveats in the documentation: http://pandas.pydata.org/pandas-docs/stable/indexing.html#indexing-view-versus-copy\n",
      "  \n"
     ]
    }
   ],
   "source": [
    "df_model_3.replace([np.inf, -np.inf], np.nan, inplace=True)\n",
    "df_model_3.dropna(inplace = True)"
   ]
  },
  {
   "cell_type": "code",
   "execution_count": 30,
   "metadata": {
    "ExecuteTime": {
     "end_time": "2020-12-15T18:49:56.851914Z",
     "start_time": "2020-12-15T18:49:56.844548Z"
    }
   },
   "outputs": [],
   "source": [
    "X3 = df_model_3.drop(columns='i_J21')\n",
    "y3 = df_model_3['i_J21']"
   ]
  },
  {
   "cell_type": "code",
   "execution_count": 31,
   "metadata": {
    "ExecuteTime": {
     "end_time": "2020-12-15T18:50:25.879760Z",
     "start_time": "2020-12-15T18:50:25.869394Z"
    }
   },
   "outputs": [],
   "source": [
    "\n",
    "X_train3, X_test3, y_train3, y_test3 = train_test_split(X3, y3, test_size=0.30, random_state=1)"
   ]
  },
  {
   "cell_type": "code",
   "execution_count": 32,
   "metadata": {
    "ExecuteTime": {
     "end_time": "2020-12-15T18:50:48.955255Z",
     "start_time": "2020-12-15T18:50:48.934970Z"
    }
   },
   "outputs": [
    {
     "data": {
      "text/plain": [
       "0.5001139623235151"
      ]
     },
     "execution_count": 32,
     "metadata": {},
     "output_type": "execute_result"
    }
   ],
   "source": [
    "\n",
    "model3=LinearRegression()\n",
    "model3.fit(X_train3,y_train3)\n",
    "model3.score(X_test3,y_test3)"
   ]
  },
  {
   "cell_type": "markdown",
   "metadata": {},
   "source": [
    "# Model 4"
   ]
  },
  {
   "cell_type": "code",
   "execution_count": 115,
   "metadata": {
    "ExecuteTime": {
     "end_time": "2020-12-15T20:15:01.421194Z",
     "start_time": "2020-12-15T20:15:01.412372Z"
    }
   },
   "outputs": [],
   "source": [
    "df_model_4 = df2[['i_J-28', 'i_J28', 'E3_diff', 'H2_diff', 'H6_diff', 'C3_diff', 'C6_diff',\n",
    "       'E1_diff', 'C2_diff', 'C1_diff', 'C5_diff', 'H1_diff', 'H3_diff',\n",
    "       'H4_diff', 'C8_diff', 'E2_diff', 'C4_diff', 'E4_diff', 'C7_diff',\n",
    "       'H5_diff']]"
   ]
  },
  {
   "cell_type": "code",
   "execution_count": 116,
   "metadata": {
    "ExecuteTime": {
     "end_time": "2020-12-15T20:15:12.000742Z",
     "start_time": "2020-12-15T20:15:11.754282Z"
    }
   },
   "outputs": [
    {
     "name": "stderr",
     "output_type": "stream",
     "text": [
      "/Users/lourizzolo/.pyenv/versions/3.7.7/envs/lewagon/lib/python3.7/site-packages/pandas/core/frame.py:4042: SettingWithCopyWarning: \n",
      "A value is trying to be set on a copy of a slice from a DataFrame\n",
      "\n",
      "See the caveats in the documentation: http://pandas.pydata.org/pandas-docs/stable/indexing.html#indexing-view-versus-copy\n",
      "  method=method)\n",
      "/Users/lourizzolo/.pyenv/versions/3.7.7/envs/lewagon/lib/python3.7/site-packages/ipykernel_launcher.py:2: SettingWithCopyWarning: \n",
      "A value is trying to be set on a copy of a slice from a DataFrame\n",
      "\n",
      "See the caveats in the documentation: http://pandas.pydata.org/pandas-docs/stable/indexing.html#indexing-view-versus-copy\n",
      "  \n"
     ]
    }
   ],
   "source": [
    "df_model_4.replace([np.inf, -np.inf], np.nan, inplace=True)\n",
    "df_model_4.dropna(inplace = True)"
   ]
  },
  {
   "cell_type": "code",
   "execution_count": 117,
   "metadata": {
    "ExecuteTime": {
     "end_time": "2020-12-15T20:15:49.919434Z",
     "start_time": "2020-12-15T20:15:49.912025Z"
    }
   },
   "outputs": [],
   "source": [
    "X4 = df_model_4.drop(columns='i_J28')\n",
    "y4 = df_model_4['i_J28']"
   ]
  },
  {
   "cell_type": "code",
   "execution_count": 118,
   "metadata": {
    "ExecuteTime": {
     "end_time": "2020-12-15T20:16:51.309822Z",
     "start_time": "2020-12-15T20:16:51.300105Z"
    }
   },
   "outputs": [],
   "source": [
    "X_train4, X_test4, y_train4, y_test4 = train_test_split(X4, y4, test_size=0.30, random_state=1)"
   ]
  },
  {
   "cell_type": "code",
   "execution_count": 119,
   "metadata": {
    "ExecuteTime": {
     "end_time": "2020-12-15T20:17:15.943098Z",
     "start_time": "2020-12-15T20:17:15.922879Z"
    }
   },
   "outputs": [
    {
     "data": {
      "text/plain": [
       "0.3508590612020628"
      ]
     },
     "execution_count": 119,
     "metadata": {},
     "output_type": "execute_result"
    }
   ],
   "source": [
    "model4=LinearRegression()\n",
    "model4.fit(X_train4,y_train4)\n",
    "model4.score(X_test4,y_test4)"
   ]
  },
  {
   "cell_type": "code",
   "execution_count": null,
   "metadata": {},
   "outputs": [],
   "source": []
  }
 ],
 "metadata": {
  "kernelspec": {
   "display_name": "Python 3",
   "language": "python",
   "name": "python3"
  },
  "language_info": {
   "codemirror_mode": {
    "name": "ipython",
    "version": 3
   },
   "file_extension": ".py",
   "mimetype": "text/x-python",
   "name": "python",
   "nbconvert_exporter": "python",
   "pygments_lexer": "ipython3",
   "version": "3.7.7"
  },
  "toc": {
   "base_numbering": 1,
   "nav_menu": {},
   "number_sections": true,
   "sideBar": true,
   "skip_h1_title": false,
   "title_cell": "Table of Contents",
   "title_sidebar": "Contents",
   "toc_cell": false,
   "toc_position": {},
   "toc_section_display": true,
   "toc_window_display": false
  }
 },
 "nbformat": 4,
 "nbformat_minor": 4
}
